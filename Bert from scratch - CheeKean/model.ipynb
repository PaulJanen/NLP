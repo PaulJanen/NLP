{
 "cells": [
  {
   "cell_type": "code",
   "execution_count": 1,
   "metadata": {},
   "outputs": [
    {
     "name": "stderr",
     "output_type": "stream",
     "text": [
      "c:\\Users\\Paulius\\AppData\\Local\\Programs\\Python\\Python310\\lib\\site-packages\\tqdm\\auto.py:22: TqdmWarning: IProgress not found. Please update jupyter and ipywidgets. See https://ipywidgets.readthedocs.io/en/stable/user_install.html\n",
      "  from .autonotebook import tqdm as notebook_tqdm\n"
     ]
    }
   ],
   "source": [
    "import os\n",
    "from pathlib import Path\n",
    "import torch\n",
    "import re\n",
    "import random\n",
    "import transformers, datasets\n",
    "from tokenizers import BertWordPieceTokenizer\n",
    "from transformers import BertTokenizer\n",
    "import tqdm\n",
    "from torch.utils.data import Dataset, DataLoader\n",
    "import itertools\n",
    "import math\n",
    "import torch.nn.functional as F\n",
    "import numpy as np\n",
    "from torch.optim import Adam"
   ]
  },
  {
   "cell_type": "code",
   "execution_count": null,
   "metadata": {},
   "outputs": [],
   "source": []
  },
  {
   "cell_type": "code",
   "execution_count": 2,
   "metadata": {},
   "outputs": [],
   "source": [
    "MAX_LEN = 64\n",
    "\n",
    "### loading all data into memory\n",
    "corpus_movie_conv = './datasets/movie_conversations.txt'\n",
    "corpus_movie_lines = './datasets/movie_lines.txt'\n",
    "with open(corpus_movie_conv, 'r', encoding='iso-8859-1') as c:\n",
    "    conv = c.readlines()\n",
    "with open(corpus_movie_lines, 'r', encoding='iso-8859-1') as l:\n",
    "    lines = l.readlines()\n",
    "\n",
    "### splitting text using special lines\n",
    "lines_dic = {}\n",
    "for line in lines:\n",
    "    objects = line.split(\" +++$+++ \")\n",
    "    lines_dic[objects[0]] = objects[-1]\n",
    "\n",
    "## generate question answer pairs\n",
    "pairs = []\n",
    "for con in conv:\n",
    "    ids = eval(con.split(\" +++$+++ \")[-1])\n",
    "    for i in range(len(ids)):\n",
    "        qa_pairs = []\n",
    "        \n",
    "        if i == len(ids) - 1:\n",
    "            break\n",
    "\n",
    "        first = lines_dic[ids[i]].strip()  \n",
    "        second = lines_dic[ids[i+1]].strip() \n",
    "\n",
    "        qa_pairs.append(' '.join(first.split()[:MAX_LEN]))\n",
    "        qa_pairs.append(' '.join(second.split()[:MAX_LEN]))\n",
    "        pairs.append(qa_pairs)"
   ]
  },
  {
   "cell_type": "code",
   "execution_count": 3,
   "metadata": {},
   "outputs": [
    {
     "data": {
      "text/plain": [
       "[\"Well, I thought we'd start with pronunciation, if that's okay with you.\",\n",
       " 'Not the hacking and gagging and spitting part. Please.']"
      ]
     },
     "execution_count": 3,
     "metadata": {},
     "output_type": "execute_result"
    }
   ],
   "source": [
    "pairs[1]"
   ]
  },
  {
   "cell_type": "code",
   "execution_count": 6,
   "metadata": {},
   "outputs": [
    {
     "name": "stderr",
     "output_type": "stream",
     "text": [
      "100%|██████████| 221616/221616 [00:00<00:00, 2077215.54it/s]\n"
     ]
    }
   ],
   "source": [
    "# WordPiece tokenizer\n",
    "\n",
    "### save data as txt file\n",
    "#os.mkdir('./data')\n",
    "text_data = []\n",
    "file_count = 0\n",
    "\n",
    "for sample in tqdm.tqdm([x[0] for x in pairs]):\n",
    "    text_data.append(sample)\n",
    "\n",
    "    # once we hit the 10K mark, save to file\n",
    "    if len(text_data) == 10000:\n",
    "        with open(f'./data/text_{file_count}.txt', 'w', encoding='utf-8') as fp:\n",
    "            fp.write('\\n'.join(text_data))\n",
    "        text_data = []\n",
    "        file_count += 1\n",
    "\n",
    "paths = [str(x) for x in Path('./data').glob('**/*.txt')]"
   ]
  },
  {
   "cell_type": "code",
   "execution_count": 8,
   "metadata": {},
   "outputs": [
    {
     "name": "stderr",
     "output_type": "stream",
     "text": [
      "c:\\Users\\Paulius\\AppData\\Local\\Programs\\Python\\Python310\\lib\\site-packages\\transformers\\tokenization_utils_base.py:1743: FutureWarning: Calling BertTokenizer.from_pretrained() with the path to a single file or url is deprecated and won't be possible anymore in v5. Use a model identifier or the path to a directory instead.\n",
      "  warnings.warn(\n"
     ]
    }
   ],
   "source": [
    "paths\n",
    "### training own tokenizer\n",
    "tokenizer = BertWordPieceTokenizer(\n",
    "    clean_text=True,\n",
    "    handle_chinese_chars=False,\n",
    "    strip_accents=False,\n",
    "    lowercase=True\n",
    ")\n",
    "\n",
    "tokenizer.train( \n",
    "    files=paths,\n",
    "    vocab_size=30_000, \n",
    "    min_frequency=5,\n",
    "    limit_alphabet=1000, \n",
    "    wordpieces_prefix='##',\n",
    "    special_tokens=['[PAD]', '[CLS]', '[SEP]', '[MASK]', '[UNK]']\n",
    "    )\n",
    "\n",
    "#os.mkdir('./bert-it-1')\n",
    "tokenizer.save_model('./bert-it-1', 'bert-it')\n",
    "tokenizer = BertTokenizer.from_pretrained('./bert-it-1/bert-it-vocab.txt', local_files_only=True)"
   ]
  },
  {
   "cell_type": "code",
   "execution_count": 9,
   "metadata": {},
   "outputs": [
    {
     "data": {
      "text/plain": [
       "0"
      ]
     },
     "execution_count": 9,
     "metadata": {},
     "output_type": "execute_result"
    }
   ],
   "source": [
    "tokenizer(\"Hello\")[1:-1]\n",
    "tokenizer.vocab['[PAD]']"
   ]
  },
  {
   "cell_type": "code",
   "execution_count": 11,
   "metadata": {},
   "outputs": [],
   "source": [
    "class BERTDataset(Dataset):\n",
    "    def __init__(self, data_pair, tokenizer, seq_len=64):\n",
    "\n",
    "        self.tokenizer = tokenizer\n",
    "        self.seq_len = seq_len\n",
    "        self.corpus_lines = len(data_pair)\n",
    "        self.lines = data_pair\n",
    "\n",
    "    def __len__(self):\n",
    "        return self.corpus_lines\n",
    "\n",
    "    def __getitem__(self, item):\n",
    "\n",
    "        # Step 1: get random sentence pair, either negative or positive (saved as is_next_label)\n",
    "        t1, t2, is_next_label = self.get_sent(item)\n",
    "\n",
    "        # Step 2: replace random words in sentence with mask / random words\n",
    "        t1_random, t1_label = self.random_word(t1)\n",
    "        t2_random, t2_label = self.random_word(t2)\n",
    "\n",
    "        # Step 3: Adding CLS and SEP tokens to the start and end of sentences\n",
    "         # Adding PAD token for labels\n",
    "        t1 = [self.tokenizer.vocab['[CLS]']] + t1_random + [self.tokenizer.vocab['[SEP]']]\n",
    "        t2 = t2_random + [self.tokenizer.vocab['[SEP]']]\n",
    "        t1_label = [self.tokenizer.vocab['[PAD]']] + t1_label + [self.tokenizer.vocab['[PAD]']]\n",
    "        t2_label = t2_label + [self.tokenizer.vocab['[PAD]']]\n",
    "\n",
    "        # Step 4: combine sentence 1 and 2 as one input\n",
    "        # adding PAD tokens to make the sentence same length as seq_len\n",
    "        segment_label = ([1 for _ in range(len(t1))] + [2 for _ in range(len(t2))])[:self.seq_len]\n",
    "        bert_input = (t1 + t2)[:self.seq_len]\n",
    "        bert_label = (t1_label + t2_label)[:self.seq_len]\n",
    "        padding = [self.tokenizer.vocab['[PAD]'] for _ in range(self.seq_len - len(bert_input))]\n",
    "        bert_input.extend(padding), bert_label.extend(padding), segment_label.extend(padding)\n",
    "\n",
    "        output = {\"bert_input\": bert_input,\n",
    "                  \"bert_label\": bert_label,\n",
    "                  \"segment_label\": segment_label,\n",
    "                  \"is_next\": is_next_label}\n",
    "\n",
    "        return {key: torch.tensor(value) for key, value in output.items()}\n",
    "\n",
    "    def random_word(self, sentence):\n",
    "        tokens = sentence.split()\n",
    "        output_label = []\n",
    "        output = []\n",
    "\n",
    "        # 15% of the tokens would be replaced\n",
    "        for i, token in enumerate(tokens):\n",
    "            prob = random.random()\n",
    "\n",
    "            # remove cls and sep token\n",
    "            token_id = self.tokenizer(token)['input_ids'][1:-1]\n",
    "\n",
    "            if prob < 0.15:\n",
    "                prob /= 0.15\n",
    "\n",
    "                # 80% chance change token to mask token\n",
    "                if prob < 0.8:\n",
    "                    for i in range(len(token_id)):\n",
    "                        output.append(self.tokenizer.vocab['[MASK]'])\n",
    "\n",
    "                # 10% chance change token to random token\n",
    "                elif prob < 0.9:\n",
    "                    for i in range(len(token_id)):\n",
    "                        output.append(random.randrange(len(self.tokenizer.vocab)))\n",
    "\n",
    "                # 10% chance change token to current token\n",
    "                else:\n",
    "                    output.append(token_id)\n",
    "\n",
    "                output_label.append(token_id)\n",
    "\n",
    "            else:\n",
    "                output.append(token_id)\n",
    "                for i in range(len(token_id)):\n",
    "                    output_label.append(0)\n",
    "\n",
    "        # flattening\n",
    "        output = list(itertools.chain(*[[x] if not isinstance(x, list) else x for x in output]))\n",
    "        output_label = list(itertools.chain(*[[x] if not isinstance(x, list) else x for x in output_label]))\n",
    "        assert len(output) == len(output_label)\n",
    "        return output, output_label\n",
    "\n",
    "    def get_sent(self, index):\n",
    "        '''return random sentence pair'''\n",
    "        t1, t2 = self.get_corpus_line(index)\n",
    "\n",
    "        # negative or positive pair, for next sentence prediction\n",
    "        if random.random() > 0.5:\n",
    "            return t1, t2, 1\n",
    "        else:\n",
    "            return t1, self.get_random_line(), 0\n",
    "\n",
    "    def get_corpus_line(self, item):\n",
    "        '''return sentence pair'''\n",
    "        return self.lines[item][0], self.lines[item][1]\n",
    "\n",
    "    def get_random_line(self):\n",
    "        '''return random single sentence'''\n",
    "        return self.lines[random.randrange(len(self.lines))][1]"
   ]
  },
  {
   "cell_type": "code",
   "execution_count": 12,
   "metadata": {},
   "outputs": [
    {
     "name": "stdout",
     "output_type": "stream",
     "text": [
      "{'bert_input': tensor([  1, 237,   3, 146, 555, 210,  16,  16, 536,   3, 516, 146,  17,   2,\n",
      "          3, 146, 516, 185,  16,  16, 146, 516, 185,  34,   2,   0,   0,   0,\n",
      "          0,   0,   0,   0,   0,   0,   0,   0,   0,   0,   0,   0,   0,   0,\n",
      "          0,   0,   0,   0,   0,   0,   0,   0,   0,   0,   0,   0,   0,   0,\n",
      "          0,   0,   0,   0,   0,   0,   0,   0]), 'bert_label': tensor([   0,    0, 3709,    0,    0,    0,    0,    0,    0,   48,    0,    0,\n",
      "           0,    0,  536,    0,    0,    0,    0,    0,    0,    0,    0,    0,\n",
      "           0,    0,    0,    0,    0,    0,    0,    0,    0,    0,    0,    0,\n",
      "           0,    0,    0,    0,    0,    0,    0,    0,    0,    0,    0,    0,\n",
      "           0,    0,    0,    0,    0,    0,    0,    0,    0,    0,    0,    0,\n",
      "           0,    0,    0,    0]), 'segment_label': tensor([1, 1, 1, 1, 1, 1, 1, 1, 1, 1, 1, 1, 1, 1, 2, 2, 2, 2, 2, 2, 2, 2, 2, 2,\n",
      "        2, 0, 0, 0, 0, 0, 0, 0, 0, 0, 0, 0, 0, 0, 0, 0, 0, 0, 0, 0, 0, 0, 0, 0,\n",
      "        0, 0, 0, 0, 0, 0, 0, 0, 0, 0, 0, 0, 0, 0, 0, 0]), 'is_next': tensor(1)}\n"
     ]
    }
   ],
   "source": [
    "train_data = BERTDataset(\n",
    "   pairs, seq_len=MAX_LEN, tokenizer=tokenizer)\n",
    "train_loader = DataLoader(\n",
    "   train_data, batch_size=32, shuffle=True, pin_memory=True)\n",
    "sample_data = next(iter(train_loader))\n",
    "print(train_data[random.randrange(len(train_data))])"
   ]
  },
  {
   "cell_type": "code",
   "execution_count": 53,
   "metadata": {},
   "outputs": [],
   "source": [
    "class PositionalEmbedding(torch.nn.Module):\n",
    "\n",
    "    def __init__(self, d_model, max_len=128):\n",
    "        super().__init__()\n",
    "\n",
    "        # Compute the positional encodings once in log space.\n",
    "        pe = torch.zeros(max_len, d_model).float()\n",
    "        pe.require_grad = False\n",
    "\n",
    "        for pos in range(max_len):   \n",
    "            # for each dimension of the each position\n",
    "            for i in range(0, d_model, 2):   \n",
    "                pe[pos, i] = math.sin(pos / (10000 ** ((2 * i)/d_model)))\n",
    "                pe[pos, i + 1] = math.cos(pos / (10000 ** ((2 * (i + 1))/d_model)))\n",
    "\n",
    "        # include the batch size\n",
    "        self.pe = pe.unsqueeze(0).to('cuda')   \n",
    "        # self.register_buffer('pe', pe)\n",
    "\n",
    "    def forward(self, x):\n",
    "        return self.pe\n",
    "\n",
    "class BERTEmbedding(torch.nn.Module):\n",
    "    \"\"\"\n",
    "    BERT Embedding which is consisted with under features\n",
    "        1. TokenEmbedding : normal embedding matrix\n",
    "        2. PositionalEmbedding : adding positional information using sin, cos\n",
    "        2. SegmentEmbedding : adding sentence segment info, (sent_A:1, sent_B:2)\n",
    "        sum of all these features are output of BERTEmbedding\n",
    "    \"\"\"\n",
    "\n",
    "    def __init__(self, vocab_size, embed_size, seq_len=64, dropout=0.1):\n",
    "        \"\"\"\n",
    "        :param vocab_size: total vocab size\n",
    "        :param embed_size: embedding size of token embedding\n",
    "        :param dropout: dropout rate\n",
    "        \"\"\"\n",
    "\n",
    "        super().__init__()\n",
    "        self.embed_size = embed_size\n",
    "        # (m, seq_len) --> (m, seq_len, embed_size)\n",
    "        # padding_idx is not updated during training, remains as fixed pad (0)\n",
    "        self.token = torch.nn.Embedding(vocab_size, embed_size, padding_idx=0)\n",
    "        self.segment = torch.nn.Embedding(3, embed_size, padding_idx=0)\n",
    "        self.position = PositionalEmbedding(d_model=embed_size, max_len=seq_len)\n",
    "        self.dropout = torch.nn.Dropout(p=dropout)\n",
    "       \n",
    "    def forward(self, sequence, segment_label):\n",
    "        x = self.token(sequence) + self.position(sequence) + self.segment(segment_label)\n",
    "        return self.dropout(x)"
   ]
  },
  {
   "cell_type": "code",
   "execution_count": 32,
   "metadata": {},
   "outputs": [],
   "source": [
    "### attention layers\n",
    "class MultiHeadedAttention(torch.nn.Module):\n",
    "    \n",
    "    def __init__(self, heads, d_model, dropout=0.1):\n",
    "        super(MultiHeadedAttention, self).__init__()\n",
    "        \n",
    "        assert d_model % heads == 0\n",
    "        self.d_k = d_model // heads\n",
    "        self.heads = heads\n",
    "        self.dropout = torch.nn.Dropout(dropout)\n",
    "\n",
    "        self.query = torch.nn.Linear(d_model, d_model)\n",
    "        self.key = torch.nn.Linear(d_model, d_model)\n",
    "        self.value = torch.nn.Linear(d_model, d_model)\n",
    "        self.output_linear = torch.nn.Linear(d_model, d_model)\n",
    "        \n",
    "    def forward(self, query, key, value, mask):\n",
    "        \"\"\"\n",
    "        query, key, value of shape: (batch_size, max_len, d_model)\n",
    "        mask of shape: (batch_size, 1, 1, max_words)\n",
    "        \"\"\"\n",
    "        # (batch_size, max_len, d_model)\n",
    "        query = self.query(query)\n",
    "        key = self.key(key)        \n",
    "        value = self.value(value)   \n",
    "        \n",
    "        # (batch_size, max_len, d_model) --> (batch_size, max_len, h, d_k) --> (batch_size, h, max_len, d_k)\n",
    "        query = query.view(query.shape[0], -1, self.heads, self.d_k).permute(0, 2, 1, 3)   \n",
    "        key = key.view(key.shape[0], -1, self.heads, self.d_k).permute(0, 2, 1, 3)  \n",
    "        value = value.view(value.shape[0], -1, self.heads, self.d_k).permute(0, 2, 1, 3)  \n",
    "        \n",
    "        # (batch_size, h, max_len, d_k) matmul (batch_size, h, d_k, max_len) --> (batch_size, h, max_len, max_len)\n",
    "        scores = torch.matmul(query, key.permute(0, 1, 3, 2)) / math.sqrt(query.size(-1))\n",
    "\n",
    "        # fill 0 mask with super small number so it wont affect the softmax weight\n",
    "        # (batch_size, h, max_len, max_len)\n",
    "        scores = scores.masked_fill(mask == 0, -1e9)    \n",
    "\n",
    "        # (batch_size, h, max_len, max_len)\n",
    "        # softmax to put attention weight for all non-pad tokens\n",
    "        # max_len X max_len matrix of attention\n",
    "        weights = F.softmax(scores, dim=-1)           \n",
    "        weights = self.dropout(weights)\n",
    "\n",
    "        # (batch_size, h, max_len, max_len) matmul (batch_size, h, max_len, d_k) --> (batch_size, h, max_len, d_k)\n",
    "        context = torch.matmul(weights, value)\n",
    "\n",
    "        # (batch_size, h, max_len, d_k) --> (batch_size, max_len, h, d_k) --> (batch_size, max_len, d_model)\n",
    "        context = context.permute(0, 2, 1, 3).contiguous().view(context.shape[0], -1, self.heads * self.d_k)\n",
    "\n",
    "        # (batch_size, max_len, d_model)\n",
    "        return self.output_linear(context)\n",
    "\n",
    "class FeedForward(torch.nn.Module):\n",
    "    \"Implements FFN equation.\"\n",
    "\n",
    "    def __init__(self, d_model, middle_dim=2048, dropout=0.1):\n",
    "        super(FeedForward, self).__init__()\n",
    "        \n",
    "        self.fc1 = torch.nn.Linear(d_model, middle_dim)\n",
    "        self.fc2 = torch.nn.Linear(middle_dim, d_model)\n",
    "        self.dropout = torch.nn.Dropout(dropout)\n",
    "        self.activation = torch.nn.GELU()\n",
    "\n",
    "    def forward(self, x):\n",
    "        out = self.activation(self.fc1(x))\n",
    "        out = self.fc2(self.dropout(out))\n",
    "        return out\n",
    "\n",
    "class EncoderLayer(torch.nn.Module):\n",
    "    def __init__(\n",
    "        self, \n",
    "        d_model=768,\n",
    "        heads=12, \n",
    "        feed_forward_hidden=768 * 4, \n",
    "        dropout=0.1\n",
    "        ):\n",
    "        super(EncoderLayer, self).__init__()\n",
    "        self.layernorm = torch.nn.LayerNorm(d_model)\n",
    "        self.self_multihead = MultiHeadedAttention(heads, d_model)\n",
    "        self.feed_forward = FeedForward(d_model, middle_dim=feed_forward_hidden)\n",
    "        self.dropout = torch.nn.Dropout(dropout)\n",
    "\n",
    "    def forward(self, embeddings, mask):\n",
    "        # embeddings: (batch_size, max_len, d_model)\n",
    "        # encoder mask: (batch_size, 1, 1, max_len)\n",
    "        # result: (batch_size, max_len, d_model)\n",
    "        interacted = self.dropout(self.self_multihead(embeddings, embeddings, embeddings, mask))\n",
    "        # residual layer\n",
    "        interacted = self.layernorm(interacted + embeddings)\n",
    "        # bottleneck\n",
    "        feed_forward_out = self.dropout(self.feed_forward(interacted))\n",
    "        encoded = self.layernorm(feed_forward_out + interacted)\n",
    "        return encoded"
   ]
  },
  {
   "cell_type": "code",
   "execution_count": 51,
   "metadata": {},
   "outputs": [],
   "source": [
    "class BERT(torch.nn.Module):\n",
    "    \"\"\"\n",
    "    BERT model : Bidirectional Encoder Representations from Transformers.\n",
    "    \"\"\"\n",
    "\n",
    "    def __init__(self, vocab_size, d_model=768, n_layers=12, heads=12, dropout=0.1):\n",
    "        \"\"\"\n",
    "        :param vocab_size: vocab_size of total words\n",
    "        :param hidden: BERT model hidden size\n",
    "        :param n_layers: numbers of Transformer blocks(layers)\n",
    "        :param attn_heads: number of attention heads\n",
    "        :param dropout: dropout rate\n",
    "        \"\"\"\n",
    "\n",
    "        super().__init__()\n",
    "        self.d_model = d_model\n",
    "        self.n_layers = n_layers\n",
    "        self.heads = heads\n",
    "\n",
    "        # paper noted they used 4 * hidden_size for ff_network_hidden_size\n",
    "        self.feed_forward_hidden = d_model * 4\n",
    "\n",
    "        # embedding for BERT, sum of positional, segment, token embeddings\n",
    "        self.embedding = BERTEmbedding(vocab_size=vocab_size, embed_size=d_model).to('cuda')\n",
    "\n",
    "        # multi-layers transformer blocks, deep network\n",
    "        self.encoder_blocks = torch.nn.ModuleList(\n",
    "            [EncoderLayer(d_model, heads, d_model * 4, dropout) for _ in range(n_layers)])\n",
    "\n",
    "    def forward(self, x, segment_info):\n",
    "        # attention masking for padded token\n",
    "        # (batch_size, 1, seq_len, seq_len)\n",
    "        mask = (x > 0).unsqueeze(1).repeat(1, x.size(1), 1).unsqueeze(1)\n",
    "\n",
    "        # embedding the indexed sequence to sequence of vectors\n",
    "        x = self.embedding(x, segment_info)\n",
    "\n",
    "        # running over multiple transformer blocks\n",
    "        for encoder in self.encoder_blocks:\n",
    "            x = encoder.forward(x, mask)\n",
    "        return x\n",
    "\n",
    "class NextSentencePrediction(torch.nn.Module):\n",
    "    \"\"\"\n",
    "    2-class classification model : is_next, is_not_next\n",
    "    \"\"\"\n",
    "\n",
    "    def __init__(self, hidden):\n",
    "        \"\"\"\n",
    "        :param hidden: BERT model output size\n",
    "        \"\"\"\n",
    "        super().__init__()\n",
    "        self.linear = torch.nn.Linear(hidden, 2)\n",
    "        self.softmax = torch.nn.LogSoftmax(dim=-1)\n",
    "\n",
    "    def forward(self, x):\n",
    "        # use only the first token which is the [CLS]\n",
    "        return self.softmax(self.linear(x[:, 0]))\n",
    "\n",
    "class MaskedLanguageModel(torch.nn.Module):\n",
    "    \"\"\"\n",
    "    predicting origin token from masked input sequence\n",
    "    n-class classification problem, n-class = vocab_size\n",
    "    \"\"\"\n",
    "\n",
    "    def __init__(self, hidden, vocab_size):\n",
    "        \"\"\"\n",
    "        :param hidden: output size of BERT model\n",
    "        :param vocab_size: total vocab size\n",
    "        \"\"\"\n",
    "        super().__init__()\n",
    "        self.linear = torch.nn.Linear(hidden, vocab_size)\n",
    "        self.softmax = torch.nn.LogSoftmax(dim=-1)\n",
    "\n",
    "    def forward(self, x):\n",
    "        return self.softmax(self.linear(x))\n",
    "\n",
    "class BERTLM(torch.nn.Module):\n",
    "    \"\"\"\n",
    "    BERT Language Model\n",
    "    Next Sentence Prediction Model + Masked Language Model\n",
    "    \"\"\"\n",
    "\n",
    "    def __init__(self, bert: BERT, vocab_size):\n",
    "        \"\"\"\n",
    "        :param bert: BERT model which should be trained\n",
    "        :param vocab_size: total vocab size for masked_lm\n",
    "        \"\"\"\n",
    "\n",
    "        super().__init__()\n",
    "        self.bert = bert\n",
    "        self.next_sentence = NextSentencePrediction(self.bert.d_model).to('cuda')\n",
    "        self.mask_lm = MaskedLanguageModel(self.bert.d_model, vocab_size).to('cuda')\n",
    "\n",
    "    def forward(self, x, segment_label):\n",
    "        x = self.bert(x, segment_label)\n",
    "        return self.next_sentence(x), self.mask_lm(x)"
   ]
  },
  {
   "cell_type": "code",
   "execution_count": 30,
   "metadata": {},
   "outputs": [],
   "source": [
    "class ScheduledOptim():\n",
    "    '''A simple wrapper class for learning rate scheduling'''\n",
    "\n",
    "    def __init__(self, optimizer, d_model, n_warmup_steps):\n",
    "        self._optimizer = optimizer\n",
    "        self.n_warmup_steps = n_warmup_steps\n",
    "        self.n_current_steps = 0\n",
    "        self.init_lr = np.power(d_model, -0.5)\n",
    "\n",
    "    def step_and_update_lr(self):\n",
    "        \"Step with the inner optimizer\"\n",
    "        self._update_learning_rate()\n",
    "        self._optimizer.step()\n",
    "\n",
    "    def zero_grad(self):\n",
    "        \"Zero out the gradients by the inner optimizer\"\n",
    "        self._optimizer.zero_grad()\n",
    "\n",
    "    def _get_lr_scale(self):\n",
    "        return np.min([\n",
    "            np.power(self.n_current_steps, -0.5),\n",
    "            np.power(self.n_warmup_steps, -1.5) * self.n_current_steps])\n",
    "\n",
    "    def _update_learning_rate(self):\n",
    "        ''' Learning rate scheduling per step '''\n",
    "\n",
    "        self.n_current_steps += 1\n",
    "        lr = self.init_lr * self._get_lr_scale()\n",
    "\n",
    "        for param_group in self._optimizer.param_groups:\n",
    "            param_group['lr'] = lr"
   ]
  },
  {
   "cell_type": "code",
   "execution_count": 19,
   "metadata": {},
   "outputs": [],
   "source": [
    "class BERTTrainer:\n",
    "    def __init__(\n",
    "        self, \n",
    "        model, \n",
    "        train_dataloader, \n",
    "        test_dataloader=None, \n",
    "        lr= 1e-4,\n",
    "        weight_decay=0.01,\n",
    "        betas=(0.9, 0.999),\n",
    "        warmup_steps=10000,\n",
    "        log_freq=10,\n",
    "        device='cuda'\n",
    "        ):\n",
    "\n",
    "        self.device = device\n",
    "        self.model = model\n",
    "        self.train_data = train_dataloader\n",
    "        self.test_data = test_dataloader\n",
    "\n",
    "        # Setting the Adam optimizer with hyper-param\n",
    "        self.optim = Adam(self.model.parameters(), lr=lr, betas=betas, weight_decay=weight_decay)\n",
    "        self.optim_schedule = ScheduledOptim(\n",
    "            self.optim, self.model.bert.d_model, n_warmup_steps=warmup_steps\n",
    "            )\n",
    "\n",
    "        # Using Negative Log Likelihood Loss function for predicting the masked_token\n",
    "        self.criterion = torch.nn.NLLLoss(ignore_index=0)\n",
    "        self.log_freq = log_freq\n",
    "        print(\"Total Parameters:\", sum([p.nelement() for p in self.model.parameters()]))\n",
    "    \n",
    "    def train(self, epoch):\n",
    "        self.iteration(epoch, self.train_data)\n",
    "\n",
    "    def test(self, epoch):\n",
    "        self.iteration(epoch, self.test_data, train=False)\n",
    "\n",
    "    def iteration(self, epoch, data_loader, train=True):\n",
    "        \n",
    "        avg_loss = 0.0\n",
    "        total_correct = 0\n",
    "        total_element = 0\n",
    "        \n",
    "        mode = \"train\" if train else \"test\"\n",
    "\n",
    "        # progress bar\n",
    "        data_iter = tqdm.tqdm(\n",
    "            enumerate(data_loader),\n",
    "            desc=\"EP_%s:%d\" % (mode, epoch),\n",
    "            total=len(data_loader),\n",
    "            bar_format=\"{l_bar}{r_bar}\"\n",
    "        )\n",
    "\n",
    "        for i, data in data_iter:\n",
    "\n",
    "            # 0. batch_data will be sent into the device(GPU or cpu)\n",
    "            data = {key: value.to(self.device) for key, value in data.items()}\n",
    "\n",
    "            # 1. forward the next_sentence_prediction and masked_lm model\n",
    "            next_sent_output, mask_lm_output = self.model.forward(data[\"bert_input\"], data[\"segment_label\"])\n",
    "\n",
    "            # 2-1. NLL(negative log likelihood) loss of is_next classification result\n",
    "            next_loss = self.criterion(next_sent_output, data[\"is_next\"])\n",
    "\n",
    "            # 2-2. NLLLoss of predicting masked token word\n",
    "            # transpose to (m, vocab_size, seq_len) vs (m, seq_len)\n",
    "            # criterion(mask_lm_output.view(-1, mask_lm_output.size(-1)), data[\"bert_label\"].view(-1))\n",
    "            mask_loss = self.criterion(mask_lm_output.transpose(1, 2), data[\"bert_label\"])\n",
    "\n",
    "            # 2-3. Adding next_loss and mask_loss : 3.4 Pre-training Procedure\n",
    "            loss = next_loss + mask_loss\n",
    "\n",
    "            # 3. backward and optimization only in train\n",
    "            if train:\n",
    "                self.optim_schedule.zero_grad()\n",
    "                loss.backward()\n",
    "                self.optim_schedule.step_and_update_lr()\n",
    "\n",
    "            # next sentence prediction accuracy\n",
    "            correct = next_sent_output.argmax(dim=-1).eq(data[\"is_next\"]).sum().item()\n",
    "            avg_loss += loss.item()\n",
    "            total_correct += correct\n",
    "            total_element += data[\"is_next\"].nelement()\n",
    "\n",
    "            post_fix = {\n",
    "                \"epoch\": epoch,\n",
    "                \"iter\": i,\n",
    "                \"avg_loss\": avg_loss / (i + 1),\n",
    "                \"avg_acc\": total_correct / total_element * 100,\n",
    "                \"loss\": loss.item()\n",
    "            }\n",
    "\n",
    "            if i % self.log_freq == 0:\n",
    "                data_iter.write(str(post_fix))\n",
    "        print(\n",
    "            f\"EP{epoch}, {mode}: \\\n",
    "            avg_loss={avg_loss / len(data_iter)}, \\\n",
    "            total_acc={total_correct * 100.0 / total_element}\"\n",
    "        ) "
   ]
  },
  {
   "cell_type": "code",
   "execution_count": 54,
   "metadata": {},
   "outputs": [
    {
     "name": "stdout",
     "output_type": "stream",
     "text": [
      "Total Parameters: 46699434\n"
     ]
    },
    {
     "name": "stderr",
     "output_type": "stream",
     "text": [
      "EP_train:0:   0%|| 3/6926 [00:02<1:04:40,  1.78it/s]"
     ]
    },
    {
     "name": "stdout",
     "output_type": "stream",
     "text": [
      "{'epoch': 0, 'iter': 0, 'avg_loss': 10.423723220825195, 'avg_acc': 62.5, 'loss': 10.423723220825195}\n"
     ]
    },
    {
     "name": "stderr",
     "output_type": "stream",
     "text": [
      "EP_train:0:   0%|| 12/6926 [00:03<14:30,  7.94it/s] "
     ]
    },
    {
     "name": "stdout",
     "output_type": "stream",
     "text": [
      "{'epoch': 0, 'iter': 10, 'avg_loss': 10.352170944213867, 'avg_acc': 49.14772727272727, 'loss': 10.377360343933105}\n"
     ]
    },
    {
     "name": "stderr",
     "output_type": "stream",
     "text": [
      "EP_train:0:   0%|| 22/6926 [00:04<11:45,  9.78it/s]"
     ]
    },
    {
     "name": "stdout",
     "output_type": "stream",
     "text": [
      "{'epoch': 0, 'iter': 20, 'avg_loss': 10.321931248619443, 'avg_acc': 49.851190476190474, 'loss': 10.189233779907227}\n"
     ]
    },
    {
     "name": "stderr",
     "output_type": "stream",
     "text": [
      "EP_train:0:   0%|| 32/6926 [00:05<11:50,  9.70it/s]"
     ]
    },
    {
     "name": "stdout",
     "output_type": "stream",
     "text": [
      "{'epoch': 0, 'iter': 30, 'avg_loss': 10.29919098269555, 'avg_acc': 50.201612903225815, 'loss': 10.25555419921875}\n"
     ]
    },
    {
     "name": "stderr",
     "output_type": "stream",
     "text": [
      "EP_train:0:   1%|| 42/6926 [00:06<11:44,  9.77it/s]"
     ]
    },
    {
     "name": "stdout",
     "output_type": "stream",
     "text": [
      "{'epoch': 0, 'iter': 40, 'avg_loss': 10.25342536554104, 'avg_acc': 49.390243902439025, 'loss': 10.071725845336914}\n"
     ]
    },
    {
     "name": "stderr",
     "output_type": "stream",
     "text": [
      "EP_train:0:   1%|| 52/6926 [00:07<11:46,  9.73it/s]"
     ]
    },
    {
     "name": "stdout",
     "output_type": "stream",
     "text": [
      "{'epoch': 0, 'iter': 50, 'avg_loss': 10.213196530061609, 'avg_acc': 49.693627450980394, 'loss': 10.068472862243652}\n"
     ]
    },
    {
     "name": "stderr",
     "output_type": "stream",
     "text": [
      "EP_train:0:   1%|| 62/6926 [00:08<12:04,  9.47it/s]"
     ]
    },
    {
     "name": "stdout",
     "output_type": "stream",
     "text": [
      "{'epoch': 0, 'iter': 60, 'avg_loss': 10.171086061196249, 'avg_acc': 49.64139344262295, 'loss': 10.018994331359863}\n"
     ]
    },
    {
     "name": "stderr",
     "output_type": "stream",
     "text": [
      "EP_train:0:   1%|| 71/6926 [00:09<11:19, 10.09it/s]"
     ]
    },
    {
     "name": "stdout",
     "output_type": "stream",
     "text": [
      "{'epoch': 0, 'iter': 70, 'avg_loss': 10.134636073045328, 'avg_acc': 49.91197183098591, 'loss': 9.937333106994629}\n"
     ]
    },
    {
     "name": "stderr",
     "output_type": "stream",
     "text": [
      "EP_train:0:   1%|| 83/6926 [00:10<11:12, 10.18it/s]"
     ]
    },
    {
     "name": "stdout",
     "output_type": "stream",
     "text": [
      "{'epoch': 0, 'iter': 80, 'avg_loss': 10.089566466249066, 'avg_acc': 50.42438271604939, 'loss': 9.665268898010254}\n"
     ]
    },
    {
     "name": "stderr",
     "output_type": "stream",
     "text": [
      "EP_train:0:   1%|| 92/6926 [00:11<12:43,  8.95it/s]"
     ]
    },
    {
     "name": "stdout",
     "output_type": "stream",
     "text": [
      "{'epoch': 0, 'iter': 90, 'avg_loss': 10.045765227013892, 'avg_acc': 50.37774725274725, 'loss': 9.637704849243164}\n"
     ]
    },
    {
     "name": "stderr",
     "output_type": "stream",
     "text": [
      "EP_train:0:   1%|| 102/6926 [00:12<13:23,  8.49it/s]"
     ]
    },
    {
     "name": "stdout",
     "output_type": "stream",
     "text": [
      "{'epoch': 0, 'iter': 100, 'avg_loss': 9.99940820259623, 'avg_acc': 50.12376237623762, 'loss': 9.468924522399902}\n"
     ]
    },
    {
     "name": "stderr",
     "output_type": "stream",
     "text": [
      "EP_train:0:   2%|| 112/6926 [00:13<12:46,  8.89it/s]"
     ]
    },
    {
     "name": "stdout",
     "output_type": "stream",
     "text": [
      "{'epoch': 0, 'iter': 110, 'avg_loss': 9.954365549860773, 'avg_acc': 49.859234234234236, 'loss': 9.439854621887207}\n"
     ]
    },
    {
     "name": "stderr",
     "output_type": "stream",
     "text": [
      "EP_train:0:   2%|| 122/6926 [00:14<12:39,  8.96it/s]"
     ]
    },
    {
     "name": "stdout",
     "output_type": "stream",
     "text": [
      "{'epoch': 0, 'iter': 120, 'avg_loss': 9.906760294575337, 'avg_acc': 49.87086776859504, 'loss': 9.379698753356934}\n"
     ]
    },
    {
     "name": "stderr",
     "output_type": "stream",
     "text": [
      "EP_train:0:   2%|| 133/6926 [00:16<11:43,  9.66it/s]"
     ]
    },
    {
     "name": "stdout",
     "output_type": "stream",
     "text": [
      "{'epoch': 0, 'iter': 130, 'avg_loss': 9.855620864693446, 'avg_acc': 49.85687022900763, 'loss': 9.104192733764648}\n"
     ]
    },
    {
     "name": "stderr",
     "output_type": "stream",
     "text": [
      "EP_train:0:   2%|| 142/6926 [00:16<12:08,  9.32it/s]"
     ]
    },
    {
     "name": "stdout",
     "output_type": "stream",
     "text": [
      "{'epoch': 0, 'iter': 140, 'avg_loss': 9.800630610039894, 'avg_acc': 49.75620567375886, 'loss': 9.140807151794434}\n"
     ]
    },
    {
     "name": "stderr",
     "output_type": "stream",
     "text": [
      "EP_train:0:   2%|| 152/6926 [00:18<11:17, 10.00it/s]"
     ]
    },
    {
     "name": "stdout",
     "output_type": "stream",
     "text": [
      "{'epoch': 0, 'iter': 150, 'avg_loss': 9.748885299985773, 'avg_acc': 49.896523178807946, 'loss': 9.05996036529541}\n"
     ]
    },
    {
     "name": "stderr",
     "output_type": "stream",
     "text": [
      "EP_train:0:   2%|| 162/6926 [00:19<11:50,  9.52it/s]"
     ]
    },
    {
     "name": "stdout",
     "output_type": "stream",
     "text": [
      "{'epoch': 0, 'iter': 160, 'avg_loss': 9.69834752408614, 'avg_acc': 50.0, 'loss': 9.01691722869873}\n"
     ]
    },
    {
     "name": "stderr",
     "output_type": "stream",
     "text": [
      "EP_train:0:   2%|| 172/6926 [00:20<11:43,  9.60it/s]"
     ]
    },
    {
     "name": "stdout",
     "output_type": "stream",
     "text": [
      "{'epoch': 0, 'iter': 170, 'avg_loss': 9.643917000084592, 'avg_acc': 49.780701754385966, 'loss': 8.900571823120117}\n"
     ]
    },
    {
     "name": "stderr",
     "output_type": "stream",
     "text": [
      "EP_train:0:   3%|| 182/6926 [00:21<11:16,  9.96it/s]"
     ]
    },
    {
     "name": "stdout",
     "output_type": "stream",
     "text": [
      "{'epoch': 0, 'iter': 180, 'avg_loss': 9.5895201646162, 'avg_acc': 49.982734806629836, 'loss': 8.362394332885742}\n"
     ]
    },
    {
     "name": "stderr",
     "output_type": "stream",
     "text": [
      "EP_train:0:   3%|| 192/6926 [00:22<12:02,  9.32it/s]"
     ]
    },
    {
     "name": "stdout",
     "output_type": "stream",
     "text": [
      "{'epoch': 0, 'iter': 190, 'avg_loss': 9.532784516898749, 'avg_acc': 49.803664921465966, 'loss': 8.36508560180664}\n"
     ]
    },
    {
     "name": "stderr",
     "output_type": "stream",
     "text": [
      "EP_train:0:   3%|| 203/6926 [00:23<12:04,  9.28it/s]"
     ]
    },
    {
     "name": "stdout",
     "output_type": "stream",
     "text": [
      "{'epoch': 0, 'iter': 200, 'avg_loss': 9.475260188923546, 'avg_acc': 49.73569651741293, 'loss': 8.283584594726562}\n"
     ]
    },
    {
     "name": "stderr",
     "output_type": "stream",
     "text": [
      "EP_train:0:   3%|| 212/6926 [00:24<11:41,  9.57it/s]"
     ]
    },
    {
     "name": "stdout",
     "output_type": "stream",
     "text": [
      "{'epoch': 0, 'iter': 210, 'avg_loss': 9.413617161212938, 'avg_acc': 49.763033175355446, 'loss': 8.396391868591309}\n"
     ]
    },
    {
     "name": "stderr",
     "output_type": "stream",
     "text": [
      "EP_train:0:   3%|| 222/6926 [00:25<12:02,  9.28it/s]"
     ]
    },
    {
     "name": "stdout",
     "output_type": "stream",
     "text": [
      "{'epoch': 0, 'iter': 220, 'avg_loss': 9.356402013096874, 'avg_acc': 49.95757918552036, 'loss': 7.6511993408203125}\n"
     ]
    },
    {
     "name": "stderr",
     "output_type": "stream",
     "text": [
      "EP_train:0:   3%|| 232/6926 [00:26<11:50,  9.42it/s]"
     ]
    },
    {
     "name": "stdout",
     "output_type": "stream",
     "text": [
      "{'epoch': 0, 'iter': 230, 'avg_loss': 9.30272219810651, 'avg_acc': 49.81060606060606, 'loss': 8.011635780334473}\n"
     ]
    },
    {
     "name": "stderr",
     "output_type": "stream",
     "text": [
      "EP_train:0:   4%|| 243/6926 [00:27<11:20,  9.82it/s]"
     ]
    },
    {
     "name": "stdout",
     "output_type": "stream",
     "text": [
      "{'epoch': 0, 'iter': 240, 'avg_loss': 9.251241290223055, 'avg_acc': 49.88329875518672, 'loss': 7.836338043212891}\n"
     ]
    },
    {
     "name": "stderr",
     "output_type": "stream",
     "text": [
      "EP_train:0:   4%|| 253/6926 [00:28<11:23,  9.76it/s]"
     ]
    },
    {
     "name": "stdout",
     "output_type": "stream",
     "text": [
      "{'epoch': 0, 'iter': 250, 'avg_loss': 9.20104138309737, 'avg_acc': 49.86304780876494, 'loss': 7.993770599365234}\n"
     ]
    },
    {
     "name": "stderr",
     "output_type": "stream",
     "text": [
      "EP_train:0:   4%|| 262/6926 [00:29<12:07,  9.16it/s]"
     ]
    },
    {
     "name": "stdout",
     "output_type": "stream",
     "text": [
      "{'epoch': 0, 'iter': 260, 'avg_loss': 9.151873126340552, 'avg_acc': 49.86829501915709, 'loss': 8.297286033630371}\n"
     ]
    },
    {
     "name": "stderr",
     "output_type": "stream",
     "text": [
      "EP_train:0:   4%|| 272/6926 [00:30<12:14,  9.06it/s]"
     ]
    },
    {
     "name": "stdout",
     "output_type": "stream",
     "text": [
      "{'epoch': 0, 'iter': 270, 'avg_loss': 9.100202613211206, 'avg_acc': 49.87315498154982, 'loss': 7.398264408111572}\n"
     ]
    },
    {
     "name": "stderr",
     "output_type": "stream",
     "text": [
      "EP_train:0:   4%|| 282/6926 [00:31<12:35,  8.80it/s]"
     ]
    },
    {
     "name": "stdout",
     "output_type": "stream",
     "text": [
      "{'epoch': 0, 'iter': 280, 'avg_loss': 9.052255240199404, 'avg_acc': 50.0, 'loss': 7.652838230133057}\n"
     ]
    },
    {
     "name": "stderr",
     "output_type": "stream",
     "text": [
      "EP_train:0:   4%|| 292/6926 [00:32<11:56,  9.26it/s]"
     ]
    },
    {
     "name": "stdout",
     "output_type": "stream",
     "text": [
      "{'epoch': 0, 'iter': 290, 'avg_loss': 9.00674887621116, 'avg_acc': 50.03221649484536, 'loss': 7.667308807373047}\n"
     ]
    },
    {
     "name": "stderr",
     "output_type": "stream",
     "text": [
      "EP_train:0:   4%|| 303/6926 [00:33<11:46,  9.38it/s]"
     ]
    },
    {
     "name": "stdout",
     "output_type": "stream",
     "text": [
      "{'epoch': 0, 'iter': 300, 'avg_loss': 8.962458704001088, 'avg_acc': 50.07267441860465, 'loss': 7.807912826538086}\n"
     ]
    },
    {
     "name": "stderr",
     "output_type": "stream",
     "text": [
      "EP_train:0:   5%|| 312/6926 [00:34<11:38,  9.47it/s]"
     ]
    },
    {
     "name": "stdout",
     "output_type": "stream",
     "text": [
      "{'epoch': 0, 'iter': 310, 'avg_loss': 8.918714664373367, 'avg_acc': 49.959807073954984, 'loss': 7.780308723449707}\n"
     ]
    },
    {
     "name": "stderr",
     "output_type": "stream",
     "text": [
      "EP_train:0:   5%|| 322/6926 [00:35<11:45,  9.36it/s]"
     ]
    },
    {
     "name": "stdout",
     "output_type": "stream",
     "text": [
      "{'epoch': 0, 'iter': 320, 'avg_loss': 8.878100297161351, 'avg_acc': 49.970794392523366, 'loss': 7.445471286773682}\n"
     ]
    },
    {
     "name": "stderr",
     "output_type": "stream",
     "text": [
      "EP_train:0:   5%|| 332/6926 [00:36<11:37,  9.45it/s]"
     ]
    },
    {
     "name": "stdout",
     "output_type": "stream",
     "text": [
      "{'epoch': 0, 'iter': 330, 'avg_loss': 8.838443143850366, 'avg_acc': 50.03776435045317, 'loss': 7.8208465576171875}\n"
     ]
    },
    {
     "name": "stderr",
     "output_type": "stream",
     "text": [
      "EP_train:0:   5%|| 343/6926 [00:38<11:20,  9.68it/s]"
     ]
    },
    {
     "name": "stdout",
     "output_type": "stream",
     "text": [
      "{'epoch': 0, 'iter': 340, 'avg_loss': 8.801125315277458, 'avg_acc': 49.9541788856305, 'loss': 7.103265762329102}\n"
     ]
    },
    {
     "name": "stderr",
     "output_type": "stream",
     "text": [
      "EP_train:0:   5%|| 352/6926 [00:39<11:20,  9.66it/s]"
     ]
    },
    {
     "name": "stdout",
     "output_type": "stream",
     "text": [
      "{'epoch': 0, 'iter': 350, 'avg_loss': 8.76273453133738, 'avg_acc': 50.017806267806264, 'loss': 7.435811519622803}\n"
     ]
    },
    {
     "name": "stderr",
     "output_type": "stream",
     "text": [
      "EP_train:0:   5%|| 362/6926 [00:40<11:01,  9.92it/s]"
     ]
    },
    {
     "name": "stdout",
     "output_type": "stream",
     "text": [
      "{'epoch': 0, 'iter': 360, 'avg_loss': 8.723202021168209, 'avg_acc': 50.05193905817175, 'loss': 6.980094909667969}\n"
     ]
    },
    {
     "name": "stderr",
     "output_type": "stream",
     "text": [
      "EP_train:0:   5%|| 373/6926 [00:41<11:15,  9.70it/s]"
     ]
    },
    {
     "name": "stdout",
     "output_type": "stream",
     "text": [
      "{'epoch': 0, 'iter': 370, 'avg_loss': 8.685104475509767, 'avg_acc': 50.12634770889488, 'loss': 7.220546245574951}\n"
     ]
    },
    {
     "name": "stderr",
     "output_type": "stream",
     "text": [
      "EP_train:0:   6%|| 382/6926 [00:42<11:05,  9.83it/s]"
     ]
    },
    {
     "name": "stdout",
     "output_type": "stream",
     "text": [
      "{'epoch': 0, 'iter': 380, 'avg_loss': 8.647335551855132, 'avg_acc': 50.15583989501312, 'loss': 7.489433765411377}\n"
     ]
    },
    {
     "name": "stderr",
     "output_type": "stream",
     "text": [
      "EP_train:0:   6%|| 391/6926 [00:43<11:54,  9.15it/s]"
     ]
    },
    {
     "name": "stdout",
     "output_type": "stream",
     "text": [
      "{'epoch': 0, 'iter': 390, 'avg_loss': 8.612952270166343, 'avg_acc': 50.079923273657286, 'loss': 7.6420674324035645}\n"
     ]
    },
    {
     "name": "stderr",
     "output_type": "stream",
     "text": [
      "EP_train:0:   6%|| 403/6926 [00:44<10:49, 10.04it/s]"
     ]
    },
    {
     "name": "stdout",
     "output_type": "stream",
     "text": [
      "{'epoch': 0, 'iter': 400, 'avg_loss': 8.576404798655142, 'avg_acc': 50.10130922693266, 'loss': 7.12688684463501}\n"
     ]
    },
    {
     "name": "stderr",
     "output_type": "stream",
     "text": [
      "EP_train:0:   6%|| 412/6926 [00:45<11:46,  9.22it/s]"
     ]
    },
    {
     "name": "stdout",
     "output_type": "stream",
     "text": [
      "{'epoch': 0, 'iter': 410, 'avg_loss': 8.542792848136884, 'avg_acc': 50.030413625304135, 'loss': 7.527638912200928}\n"
     ]
    },
    {
     "name": "stderr",
     "output_type": "stream",
     "text": [
      "EP_train:0:   6%|| 422/6926 [00:46<11:03,  9.80it/s]"
     ]
    },
    {
     "name": "stdout",
     "output_type": "stream",
     "text": [
      "{'epoch': 0, 'iter': 420, 'avg_loss': 8.509324607260153, 'avg_acc': 50.14845605700713, 'loss': 7.463353633880615}\n"
     ]
    },
    {
     "name": "stderr",
     "output_type": "stream",
     "text": [
      "EP_train:0:   6%|| 432/6926 [00:47<11:19,  9.56it/s]"
     ]
    },
    {
     "name": "stdout",
     "output_type": "stream",
     "text": [
      "{'epoch': 0, 'iter': 430, 'avg_loss': 8.47704168483442, 'avg_acc': 50.036252900232014, 'loss': 6.773444652557373}\n"
     ]
    },
    {
     "name": "stderr",
     "output_type": "stream",
     "text": [
      "EP_train:0:   6%|| 442/6926 [00:48<11:23,  9.49it/s]"
     ]
    },
    {
     "name": "stdout",
     "output_type": "stream",
     "text": [
      "{'epoch': 0, 'iter': 440, 'avg_loss': 8.446312737843346, 'avg_acc': 50.07794784580499, 'loss': 7.346160888671875}\n"
     ]
    },
    {
     "name": "stderr",
     "output_type": "stream",
     "text": [
      "EP_train:0:   7%|| 453/6926 [00:49<11:15,  9.58it/s]"
     ]
    },
    {
     "name": "stdout",
     "output_type": "stream",
     "text": [
      "{'epoch': 0, 'iter': 450, 'avg_loss': 8.415037042021487, 'avg_acc': 50.145509977827054, 'loss': 7.1558732986450195}\n"
     ]
    },
    {
     "name": "stderr",
     "output_type": "stream",
     "text": [
      "EP_train:0:   7%|| 462/6926 [00:50<10:40, 10.09it/s]"
     ]
    },
    {
     "name": "stdout",
     "output_type": "stream",
     "text": [
      "{'epoch': 0, 'iter': 460, 'avg_loss': 8.382468275289474, 'avg_acc': 50.20336225596529, 'loss': 7.027196407318115}\n"
     ]
    },
    {
     "name": "stderr",
     "output_type": "stream",
     "text": [
      "EP_train:0:   7%|| 473/6926 [00:51<10:57,  9.82it/s]"
     ]
    },
    {
     "name": "stdout",
     "output_type": "stream",
     "text": [
      "{'epoch': 0, 'iter': 470, 'avg_loss': 8.355167115569873, 'avg_acc': 50.238853503184714, 'loss': 7.149718284606934}\n"
     ]
    },
    {
     "name": "stderr",
     "output_type": "stream",
     "text": [
      "EP_train:0:   7%|| 483/6926 [00:52<10:47,  9.96it/s]"
     ]
    },
    {
     "name": "stdout",
     "output_type": "stream",
     "text": [
      "{'epoch': 0, 'iter': 480, 'avg_loss': 8.324377540739063, 'avg_acc': 50.23388773388774, 'loss': 6.992127418518066}\n"
     ]
    },
    {
     "name": "stderr",
     "output_type": "stream",
     "text": [
      "EP_train:0:   7%|| 492/6926 [00:53<11:02,  9.71it/s]"
     ]
    },
    {
     "name": "stdout",
     "output_type": "stream",
     "text": [
      "{'epoch': 0, 'iter': 490, 'avg_loss': 8.294059733023712, 'avg_acc': 50.25458248472505, 'loss': 7.14338493347168}\n"
     ]
    },
    {
     "name": "stderr",
     "output_type": "stream",
     "text": [
      "EP_train:0:   7%|| 503/6926 [00:54<10:35, 10.11it/s]"
     ]
    },
    {
     "name": "stdout",
     "output_type": "stream",
     "text": [
      "{'epoch': 0, 'iter': 500, 'avg_loss': 8.2667907726265, 'avg_acc': 50.29316367265469, 'loss': 6.6623125076293945}\n"
     ]
    },
    {
     "name": "stderr",
     "output_type": "stream",
     "text": [
      "EP_train:0:   7%|| 512/6926 [00:55<11:14,  9.51it/s]"
     ]
    },
    {
     "name": "stdout",
     "output_type": "stream",
     "text": [
      "{'epoch': 0, 'iter': 510, 'avg_loss': 8.23911367423847, 'avg_acc': 50.269080234833666, 'loss': 6.655309200286865}\n"
     ]
    },
    {
     "name": "stderr",
     "output_type": "stream",
     "text": [
      "EP_train:0:   8%|| 522/6926 [00:56<10:34, 10.10it/s]"
     ]
    },
    {
     "name": "stdout",
     "output_type": "stream",
     "text": [
      "{'epoch': 0, 'iter': 520, 'avg_loss': 8.213245648111354, 'avg_acc': 50.16194817658349, 'loss': 6.65745210647583}\n"
     ]
    },
    {
     "name": "stderr",
     "output_type": "stream",
     "text": [
      "EP_train:0:   8%|| 533/6926 [00:57<10:31, 10.12it/s]"
     ]
    },
    {
     "name": "stdout",
     "output_type": "stream",
     "text": [
      "{'epoch': 0, 'iter': 530, 'avg_loss': 8.186931139556252, 'avg_acc': 50.182438794726934, 'loss': 6.9915666580200195}\n"
     ]
    },
    {
     "name": "stderr",
     "output_type": "stream",
     "text": [
      "EP_train:0:   8%|| 541/6926 [00:58<10:16, 10.36it/s]"
     ]
    },
    {
     "name": "stdout",
     "output_type": "stream",
     "text": [
      "{'epoch': 0, 'iter': 540, 'avg_loss': 8.158645251762405, 'avg_acc': 50.15596118299446, 'loss': 6.753593444824219}\n"
     ]
    },
    {
     "name": "stderr",
     "output_type": "stream",
     "text": [
      "EP_train:0:   8%|| 551/6926 [00:59<10:17, 10.33it/s]"
     ]
    },
    {
     "name": "stdout",
     "output_type": "stream",
     "text": [
      "{'epoch': 0, 'iter': 550, 'avg_loss': 8.13003172675408, 'avg_acc': 50.21551724137932, 'loss': 6.134365081787109}\n"
     ]
    },
    {
     "name": "stderr",
     "output_type": "stream",
     "text": [
      "EP_train:0:   8%|| 562/6926 [01:00<10:47,  9.83it/s]"
     ]
    },
    {
     "name": "stdout",
     "output_type": "stream",
     "text": [
      "{'epoch': 0, 'iter': 560, 'avg_loss': 8.104617613522127, 'avg_acc': 50.144830659536545, 'loss': 6.824925422668457}\n"
     ]
    },
    {
     "name": "stderr",
     "output_type": "stream",
     "text": [
      "EP_train:0:   8%|| 572/6926 [01:01<10:55,  9.69it/s]"
     ]
    },
    {
     "name": "stdout",
     "output_type": "stream",
     "text": [
      "{'epoch': 0, 'iter': 570, 'avg_loss': 8.077842012595797, 'avg_acc': 50.12040280210157, 'loss': 7.08048152923584}\n"
     ]
    },
    {
     "name": "stderr",
     "output_type": "stream",
     "text": [
      "EP_train:0:   8%|| 582/6926 [01:02<10:51,  9.74it/s]"
     ]
    },
    {
     "name": "stdout",
     "output_type": "stream",
     "text": [
      "{'epoch': 0, 'iter': 580, 'avg_loss': 8.052929955382355, 'avg_acc': 50.161359724612744, 'loss': 6.538887977600098}\n"
     ]
    },
    {
     "name": "stderr",
     "output_type": "stream",
     "text": [
      "EP_train:0:   9%|| 592/6926 [01:03<11:36,  9.09it/s]"
     ]
    },
    {
     "name": "stdout",
     "output_type": "stream",
     "text": [
      "{'epoch': 0, 'iter': 590, 'avg_loss': 8.032493333122654, 'avg_acc': 50.15334179357021, 'loss': 6.6481523513793945}\n"
     ]
    },
    {
     "name": "stderr",
     "output_type": "stream",
     "text": [
      "EP_train:0:   9%|| 603/6926 [01:04<10:40,  9.87it/s]"
     ]
    },
    {
     "name": "stdout",
     "output_type": "stream",
     "text": [
      "{'epoch': 0, 'iter': 600, 'avg_loss': 8.00926471034223, 'avg_acc': 50.15079034941764, 'loss': 6.78230094909668}\n"
     ]
    },
    {
     "name": "stderr",
     "output_type": "stream",
     "text": [
      "EP_train:0:   9%|| 612/6926 [01:05<11:00,  9.56it/s]"
     ]
    },
    {
     "name": "stdout",
     "output_type": "stream",
     "text": [
      "{'epoch': 0, 'iter': 610, 'avg_loss': 7.983256774721286, 'avg_acc': 50.16878068739771, 'loss': 6.648650646209717}\n"
     ]
    },
    {
     "name": "stderr",
     "output_type": "stream",
     "text": [
      "EP_train:0:   9%|| 622/6926 [01:06<10:39,  9.85it/s]"
     ]
    },
    {
     "name": "stdout",
     "output_type": "stream",
     "text": [
      "{'epoch': 0, 'iter': 620, 'avg_loss': 7.960291361079316, 'avg_acc': 50.14090177133655, 'loss': 6.2338032722473145}\n"
     ]
    },
    {
     "name": "stderr",
     "output_type": "stream",
     "text": [
      "EP_train:0:   9%|| 633/6926 [01:07<10:19, 10.16it/s]"
     ]
    },
    {
     "name": "stdout",
     "output_type": "stream",
     "text": [
      "{'epoch': 0, 'iter': 630, 'avg_loss': 7.937039326185658, 'avg_acc': 50.084191759112514, 'loss': 6.847967147827148}\n"
     ]
    },
    {
     "name": "stderr",
     "output_type": "stream",
     "text": [
      "EP_train:0:   9%|| 643/6926 [01:08<10:37,  9.85it/s]"
     ]
    },
    {
     "name": "stdout",
     "output_type": "stream",
     "text": [
      "{'epoch': 0, 'iter': 640, 'avg_loss': 7.915176177359594, 'avg_acc': 50.073127925117, 'loss': 6.123494625091553}\n"
     ]
    },
    {
     "name": "stderr",
     "output_type": "stream",
     "text": [
      "EP_train:0:   9%|| 652/6926 [01:09<10:23, 10.07it/s]"
     ]
    },
    {
     "name": "stdout",
     "output_type": "stream",
     "text": [
      "{'epoch': 0, 'iter': 650, 'avg_loss': 7.891850440000425, 'avg_acc': 49.94719662058372, 'loss': 6.72648286819458}\n"
     ]
    },
    {
     "name": "stderr",
     "output_type": "stream",
     "text": [
      "EP_train:0:  10%|| 662/6926 [01:10<10:15, 10.18it/s]"
     ]
    },
    {
     "name": "stdout",
     "output_type": "stream",
     "text": [
      "{'epoch': 0, 'iter': 660, 'avg_loss': 7.869223439567208, 'avg_acc': 49.96690620272315, 'loss': 6.019635200500488}\n"
     ]
    },
    {
     "name": "stderr",
     "output_type": "stream",
     "text": [
      "EP_train:0:  10%|| 673/6926 [01:11<10:32,  9.88it/s]"
     ]
    },
    {
     "name": "stdout",
     "output_type": "stream",
     "text": [
      "{'epoch': 0, 'iter': 670, 'avg_loss': 7.846748386871974, 'avg_acc': 50.032600596125185, 'loss': 6.4366774559021}\n"
     ]
    },
    {
     "name": "stderr",
     "output_type": "stream",
     "text": [
      "EP_train:0:  10%|| 683/6926 [01:12<10:15, 10.15it/s]"
     ]
    },
    {
     "name": "stdout",
     "output_type": "stream",
     "text": [
      "{'epoch': 0, 'iter': 680, 'avg_loss': 7.826050140784176, 'avg_acc': 50.0, 'loss': 6.573598384857178}\n"
     ]
    },
    {
     "name": "stderr",
     "output_type": "stream",
     "text": [
      "EP_train:0:  10%|| 693/6926 [01:13<10:32,  9.85it/s]"
     ]
    },
    {
     "name": "stdout",
     "output_type": "stream",
     "text": [
      "{'epoch': 0, 'iter': 690, 'avg_loss': 7.802228454915556, 'avg_acc': 50.03165701881331, 'loss': 5.943449974060059}\n"
     ]
    },
    {
     "name": "stderr",
     "output_type": "stream",
     "text": [
      "EP_train:0:  10%|| 702/6926 [01:14<11:01,  9.41it/s]"
     ]
    },
    {
     "name": "stdout",
     "output_type": "stream",
     "text": [
      "{'epoch': 0, 'iter': 700, 'avg_loss': 7.781602871741105, 'avg_acc': 50.080242510699, 'loss': 6.2588396072387695}\n"
     ]
    },
    {
     "name": "stderr",
     "output_type": "stream",
     "text": [
      "EP_train:0:  10%|| 713/6926 [01:16<10:59,  9.43it/s]"
     ]
    },
    {
     "name": "stdout",
     "output_type": "stream",
     "text": [
      "{'epoch': 0, 'iter': 710, 'avg_loss': 7.761381723374422, 'avg_acc': 50.136251758087205, 'loss': 6.454649448394775}\n"
     ]
    },
    {
     "name": "stderr",
     "output_type": "stream",
     "text": [
      "EP_train:0:  10%|| 722/6926 [01:16<10:17, 10.05it/s]"
     ]
    },
    {
     "name": "stdout",
     "output_type": "stream",
     "text": [
      "{'epoch': 0, 'iter': 720, 'avg_loss': 7.7393348174022405, 'avg_acc': 50.09101941747572, 'loss': 5.85946798324585}\n"
     ]
    },
    {
     "name": "stderr",
     "output_type": "stream",
     "text": [
      "EP_train:0:  11%|| 732/6926 [01:17<10:45,  9.59it/s]"
     ]
    },
    {
     "name": "stdout",
     "output_type": "stream",
     "text": [
      "{'epoch': 0, 'iter': 730, 'avg_loss': 7.718426618954388, 'avg_acc': 50.1282489740082, 'loss': 6.255604267120361}\n"
     ]
    },
    {
     "name": "stderr",
     "output_type": "stream",
     "text": [
      "EP_train:0:  11%|| 742/6926 [01:18<10:42,  9.63it/s]"
     ]
    },
    {
     "name": "stdout",
     "output_type": "stream",
     "text": [
      "{'epoch': 0, 'iter': 740, 'avg_loss': 7.7006528676762755, 'avg_acc': 50.16025641025641, 'loss': 6.426262378692627}\n"
     ]
    },
    {
     "name": "stderr",
     "output_type": "stream",
     "text": [
      "EP_train:0:  11%|| 752/6926 [01:19<10:25,  9.88it/s]"
     ]
    },
    {
     "name": "stdout",
     "output_type": "stream",
     "text": [
      "{'epoch': 0, 'iter': 750, 'avg_loss': 7.682724748883203, 'avg_acc': 50.17476697736352, 'loss': 6.542172908782959}\n"
     ]
    },
    {
     "name": "stderr",
     "output_type": "stream",
     "text": [
      "EP_train:0:  11%|| 761/6926 [01:20<10:32,  9.75it/s]"
     ]
    },
    {
     "name": "stdout",
     "output_type": "stream",
     "text": [
      "{'epoch': 0, 'iter': 760, 'avg_loss': 7.664671563914195, 'avg_acc': 50.18478975032852, 'loss': 5.987473487854004}\n"
     ]
    },
    {
     "name": "stderr",
     "output_type": "stream",
     "text": [
      "EP_train:0:  11%|| 772/6926 [01:22<10:58,  9.34it/s]"
     ]
    },
    {
     "name": "stdout",
     "output_type": "stream",
     "text": [
      "{'epoch': 0, 'iter': 770, 'avg_loss': 7.646553207155022, 'avg_acc': 50.23508430609598, 'loss': 6.554371356964111}\n"
     ]
    },
    {
     "name": "stderr",
     "output_type": "stream",
     "text": [
      "EP_train:0:  11%|| 782/6926 [01:23<11:03,  9.26it/s]"
     ]
    },
    {
     "name": "stdout",
     "output_type": "stream",
     "text": [
      "{'epoch': 0, 'iter': 780, 'avg_loss': 7.629573873307427, 'avg_acc': 50.23607554417413, 'loss': 6.407251834869385}\n"
     ]
    },
    {
     "name": "stderr",
     "output_type": "stream",
     "text": [
      "EP_train:0:  11%|| 792/6926 [01:24<10:41,  9.56it/s]"
     ]
    },
    {
     "name": "stdout",
     "output_type": "stream",
     "text": [
      "{'epoch': 0, 'iter': 790, 'avg_loss': 7.611278184897981, 'avg_acc': 50.323957016434896, 'loss': 5.896181106567383}\n"
     ]
    },
    {
     "name": "stderr",
     "output_type": "stream",
     "text": [
      "EP_train:0:  12%|| 802/6926 [01:25<10:37,  9.61it/s]"
     ]
    },
    {
     "name": "stdout",
     "output_type": "stream",
     "text": [
      "{'epoch': 0, 'iter': 800, 'avg_loss': 7.593012065030216, 'avg_acc': 50.33941947565543, 'loss': 6.072391033172607}\n"
     ]
    },
    {
     "name": "stderr",
     "output_type": "stream",
     "text": [
      "EP_train:0:  12%|| 812/6926 [01:26<10:26,  9.76it/s]"
     ]
    },
    {
     "name": "stdout",
     "output_type": "stream",
     "text": [
      "{'epoch': 0, 'iter': 810, 'avg_loss': 7.57595509400938, 'avg_acc': 50.32752774352651, 'loss': 6.057534694671631}\n"
     ]
    },
    {
     "name": "stderr",
     "output_type": "stream",
     "text": [
      "EP_train:0:  12%|| 823/6926 [01:27<10:11,  9.98it/s]"
     ]
    },
    {
     "name": "stdout",
     "output_type": "stream",
     "text": [
      "{'epoch': 0, 'iter': 820, 'avg_loss': 7.557835993029168, 'avg_acc': 50.28547503045067, 'loss': 6.516946792602539}\n"
     ]
    },
    {
     "name": "stderr",
     "output_type": "stream",
     "text": [
      "EP_train:0:  12%|| 833/6926 [01:28<10:08, 10.01it/s]"
     ]
    },
    {
     "name": "stdout",
     "output_type": "stream",
     "text": [
      "{'epoch': 0, 'iter': 830, 'avg_loss': 7.539923263370776, 'avg_acc': 50.27451865222623, 'loss': 6.223500728607178}\n"
     ]
    },
    {
     "name": "stderr",
     "output_type": "stream",
     "text": [
      "EP_train:0:  12%|| 843/6926 [01:29<10:14,  9.91it/s]"
     ]
    },
    {
     "name": "stdout",
     "output_type": "stream",
     "text": [
      "{'epoch': 0, 'iter': 840, 'avg_loss': 7.524299480401945, 'avg_acc': 50.26753864447087, 'loss': 6.195200443267822}\n"
     ]
    },
    {
     "name": "stderr",
     "output_type": "stream",
     "text": [
      "EP_train:0:  12%|| 852/6926 [01:30<10:38,  9.52it/s]"
     ]
    },
    {
     "name": "stdout",
     "output_type": "stream",
     "text": [
      "{'epoch': 0, 'iter': 850, 'avg_loss': 7.509847355225111, 'avg_acc': 50.30846063454759, 'loss': 5.760997772216797}\n"
     ]
    },
    {
     "name": "stderr",
     "output_type": "stream",
     "text": [
      "EP_train:0:  12%|| 862/6926 [01:31<10:21,  9.75it/s]"
     ]
    },
    {
     "name": "stdout",
     "output_type": "stream",
     "text": [
      "{'epoch': 0, 'iter': 860, 'avg_loss': 7.4944815668910225, 'avg_acc': 50.29036004645761, 'loss': 6.3762922286987305}\n"
     ]
    },
    {
     "name": "stderr",
     "output_type": "stream",
     "text": [
      "EP_train:0:  13%|| 871/6926 [01:32<09:58, 10.11it/s]"
     ]
    },
    {
     "name": "stdout",
     "output_type": "stream",
     "text": [
      "{'epoch': 0, 'iter': 870, 'avg_loss': 7.4779057546543335, 'avg_acc': 50.32649253731343, 'loss': 6.208644866943359}\n"
     ]
    },
    {
     "name": "stderr",
     "output_type": "stream",
     "text": [
      "EP_train:0:  13%|| 882/6926 [01:33<10:42,  9.41it/s]"
     ]
    },
    {
     "name": "stdout",
     "output_type": "stream",
     "text": [
      "{'epoch': 0, 'iter': 880, 'avg_loss': 7.463772870084349, 'avg_acc': 50.35116345062429, 'loss': 6.5110764503479}\n"
     ]
    },
    {
     "name": "stderr",
     "output_type": "stream",
     "text": [
      "EP_train:0:  13%|| 892/6926 [01:34<10:03, 10.00it/s]"
     ]
    },
    {
     "name": "stdout",
     "output_type": "stream",
     "text": [
      "{'epoch': 0, 'iter': 890, 'avg_loss': 7.449747818220076, 'avg_acc': 50.35423681257014, 'loss': 6.654738903045654}\n"
     ]
    },
    {
     "name": "stderr",
     "output_type": "stream",
     "text": [
      "EP_train:0:  13%|| 903/6926 [01:35<09:44, 10.30it/s]"
     ]
    },
    {
     "name": "stdout",
     "output_type": "stream",
     "text": [
      "{'epoch': 0, 'iter': 900, 'avg_loss': 7.436022891320875, 'avg_acc': 50.32602663706992, 'loss': 6.3980183601379395}\n"
     ]
    },
    {
     "name": "stderr",
     "output_type": "stream",
     "text": [
      "EP_train:0:  13%|| 912/6926 [01:36<10:16,  9.75it/s]"
     ]
    },
    {
     "name": "stdout",
     "output_type": "stream",
     "text": [
      "{'epoch': 0, 'iter': 910, 'avg_loss': 7.421974850014981, 'avg_acc': 50.31558726673985, 'loss': 6.300818920135498}\n"
     ]
    },
    {
     "name": "stderr",
     "output_type": "stream",
     "text": [
      "EP_train:0:  13%|| 922/6926 [01:37<10:22,  9.64it/s]"
     ]
    },
    {
     "name": "stdout",
     "output_type": "stream",
     "text": [
      "{'epoch': 0, 'iter': 920, 'avg_loss': 7.4072813915248545, 'avg_acc': 50.30537459283387, 'loss': 5.752717971801758}\n"
     ]
    },
    {
     "name": "stderr",
     "output_type": "stream",
     "text": [
      "EP_train:0:  13%|| 932/6926 [01:38<09:46, 10.22it/s]"
     ]
    },
    {
     "name": "stdout",
     "output_type": "stream",
     "text": [
      "{'epoch': 0, 'iter': 930, 'avg_loss': 7.392904404026609, 'avg_acc': 50.359156820622985, 'loss': 5.799734592437744}\n"
     ]
    },
    {
     "name": "stderr",
     "output_type": "stream",
     "text": [
      "EP_train:0:  14%|| 942/6926 [01:39<10:28,  9.52it/s]"
     ]
    },
    {
     "name": "stdout",
     "output_type": "stream",
     "text": [
      "{'epoch': 0, 'iter': 940, 'avg_loss': 7.379153674264517, 'avg_acc': 50.34537725823592, 'loss': 6.069207191467285}\n"
     ]
    },
    {
     "name": "stderr",
     "output_type": "stream",
     "text": [
      "EP_train:0:  14%|| 953/6926 [01:40<10:15,  9.70it/s]"
     ]
    },
    {
     "name": "stdout",
     "output_type": "stream",
     "text": [
      "{'epoch': 0, 'iter': 950, 'avg_loss': 7.364320545918558, 'avg_acc': 50.341745531019974, 'loss': 6.010770797729492}\n"
     ]
    },
    {
     "name": "stderr",
     "output_type": "stream",
     "text": [
      "EP_train:0:  14%|| 961/6926 [01:41<10:04,  9.87it/s]"
     ]
    },
    {
     "name": "stdout",
     "output_type": "stream",
     "text": [
      "{'epoch': 0, 'iter': 960, 'avg_loss': 7.350183849652278, 'avg_acc': 50.37721123829344, 'loss': 5.673221588134766}\n"
     ]
    },
    {
     "name": "stderr",
     "output_type": "stream",
     "text": [
      "EP_train:0:  14%|| 973/6926 [01:42<10:14,  9.69it/s]"
     ]
    },
    {
     "name": "stdout",
     "output_type": "stream",
     "text": [
      "{'epoch': 0, 'iter': 970, 'avg_loss': 7.338651001023706, 'avg_acc': 50.35723480947477, 'loss': 6.122613430023193}\n"
     ]
    },
    {
     "name": "stderr",
     "output_type": "stream",
     "text": [
      "EP_train:0:  14%|| 982/6926 [01:43<10:01,  9.88it/s]"
     ]
    },
    {
     "name": "stdout",
     "output_type": "stream",
     "text": [
      "{'epoch': 0, 'iter': 980, 'avg_loss': 7.325452322867546, 'avg_acc': 50.40137614678899, 'loss': 5.889371871948242}\n"
     ]
    },
    {
     "name": "stderr",
     "output_type": "stream",
     "text": [
      "EP_train:0:  14%|| 991/6926 [01:44<09:53, 10.01it/s]"
     ]
    },
    {
     "name": "stdout",
     "output_type": "stream",
     "text": [
      "{'epoch': 0, 'iter': 990, 'avg_loss': 7.312314225975368, 'avg_acc': 50.32164480322906, 'loss': 6.130177974700928}\n"
     ]
    },
    {
     "name": "stderr",
     "output_type": "stream",
     "text": [
      "EP_train:0:  14%|| 1003/6926 [01:45<09:51, 10.02it/s]"
     ]
    },
    {
     "name": "stdout",
     "output_type": "stream",
     "text": [
      "{'epoch': 0, 'iter': 1000, 'avg_loss': 7.300853754018808, 'avg_acc': 50.31843156843156, 'loss': 5.937954902648926}\n"
     ]
    },
    {
     "name": "stderr",
     "output_type": "stream",
     "text": [
      "EP_train:0:  15%|| 1012/6926 [01:46<10:12,  9.65it/s]"
     ]
    },
    {
     "name": "stdout",
     "output_type": "stream",
     "text": [
      "{'epoch': 0, 'iter': 1010, 'avg_loss': 7.287851625097257, 'avg_acc': 50.315281899109785, 'loss': 5.844435214996338}\n"
     ]
    },
    {
     "name": "stderr",
     "output_type": "stream",
     "text": [
      "EP_train:0:  15%|| 1022/6926 [01:47<09:48, 10.03it/s]"
     ]
    },
    {
     "name": "stdout",
     "output_type": "stream",
     "text": [
      "{'epoch': 0, 'iter': 1020, 'avg_loss': 7.274916820731616, 'avg_acc': 50.303011753183156, 'loss': 6.04983377456665}\n"
     ]
    },
    {
     "name": "stderr",
     "output_type": "stream",
     "text": [
      "EP_train:0:  15%|| 1032/6926 [01:48<09:58,  9.84it/s]"
     ]
    },
    {
     "name": "stdout",
     "output_type": "stream",
     "text": [
      "{'epoch': 0, 'iter': 1030, 'avg_loss': 7.262654742029081, 'avg_acc': 50.32735208535403, 'loss': 5.980707168579102}\n"
     ]
    },
    {
     "name": "stderr",
     "output_type": "stream",
     "text": [
      "EP_train:0:  15%|| 1042/6926 [01:49<09:59,  9.82it/s]"
     ]
    },
    {
     "name": "stdout",
     "output_type": "stream",
     "text": [
      "{'epoch': 0, 'iter': 1040, 'avg_loss': 7.250026973592445, 'avg_acc': 50.26416906820364, 'loss': 5.87180233001709}\n"
     ]
    },
    {
     "name": "stderr",
     "output_type": "stream",
     "text": [
      "EP_train:0:  15%|| 1052/6926 [01:50<10:51,  9.01it/s]"
     ]
    },
    {
     "name": "stdout",
     "output_type": "stream",
     "text": [
      "{'epoch': 0, 'iter': 1050, 'avg_loss': 7.236843923973424, 'avg_acc': 50.3122026641294, 'loss': 5.750992298126221}\n"
     ]
    },
    {
     "name": "stderr",
     "output_type": "stream",
     "text": [
      "EP_train:0:  15%|| 1062/6926 [01:51<10:03,  9.71it/s]"
     ]
    },
    {
     "name": "stdout",
     "output_type": "stream",
     "text": [
      "{'epoch': 0, 'iter': 1060, 'avg_loss': 7.225258224084622, 'avg_acc': 50.33871347785108, 'loss': 5.7586750984191895}\n"
     ]
    },
    {
     "name": "stderr",
     "output_type": "stream",
     "text": [
      "EP_train:0:  15%|| 1072/6926 [01:52<10:00,  9.75it/s]"
     ]
    },
    {
     "name": "stdout",
     "output_type": "stream",
     "text": [
      "{'epoch': 0, 'iter': 1070, 'avg_loss': 7.214127002310018, 'avg_acc': 50.408496732026144, 'loss': 6.424278736114502}\n"
     ]
    },
    {
     "name": "stderr",
     "output_type": "stream",
     "text": [
      "EP_train:0:  16%|| 1082/6926 [01:53<10:08,  9.60it/s]"
     ]
    },
    {
     "name": "stdout",
     "output_type": "stream",
     "text": [
      "{'epoch': 0, 'iter': 1080, 'avg_loss': 7.203905632714228, 'avg_acc': 50.41628122109159, 'loss': 5.942458152770996}\n"
     ]
    },
    {
     "name": "stderr",
     "output_type": "stream",
     "text": [
      "EP_train:0:  16%|| 1093/6926 [01:54<09:47,  9.92it/s]"
     ]
    },
    {
     "name": "stdout",
     "output_type": "stream",
     "text": [
      "{'epoch': 0, 'iter': 1090, 'avg_loss': 7.193210699271981, 'avg_acc': 50.406736938588445, 'loss': 6.2709455490112305}\n"
     ]
    },
    {
     "name": "stderr",
     "output_type": "stream",
     "text": [
      "EP_train:0:  16%|| 1102/6926 [01:55<09:46,  9.93it/s]"
     ]
    },
    {
     "name": "stdout",
     "output_type": "stream",
     "text": [
      "{'epoch': 0, 'iter': 1100, 'avg_loss': 7.182527167054332, 'avg_acc': 50.3491144414169, 'loss': 5.937075614929199}\n"
     ]
    },
    {
     "name": "stderr",
     "output_type": "stream",
     "text": [
      "EP_train:0:  16%|| 1113/6926 [01:56<09:55,  9.76it/s]"
     ]
    },
    {
     "name": "stdout",
     "output_type": "stream",
     "text": [
      "{'epoch': 0, 'iter': 1110, 'avg_loss': 7.1714940933790645, 'avg_acc': 50.331908190819085, 'loss': 5.828744411468506}\n"
     ]
    },
    {
     "name": "stderr",
     "output_type": "stream",
     "text": [
      "EP_train:0:  16%|| 1122/6926 [01:57<10:01,  9.66it/s]"
     ]
    },
    {
     "name": "stdout",
     "output_type": "stream",
     "text": [
      "{'epoch': 0, 'iter': 1120, 'avg_loss': 7.161727315713847, 'avg_acc': 50.317796610169495, 'loss': 5.995819091796875}\n"
     ]
    },
    {
     "name": "stderr",
     "output_type": "stream",
     "text": [
      "EP_train:0:  16%|| 1132/6926 [01:58<09:56,  9.71it/s]"
     ]
    },
    {
     "name": "stdout",
     "output_type": "stream",
     "text": [
      "{'epoch': 0, 'iter': 1130, 'avg_loss': 7.152159808063591, 'avg_acc': 50.31222369584438, 'loss': 6.2375712394714355}\n"
     ]
    },
    {
     "name": "stderr",
     "output_type": "stream",
     "text": [
      "EP_train:0:  17%|| 1143/6926 [01:59<09:42,  9.93it/s]"
     ]
    },
    {
     "name": "stdout",
     "output_type": "stream",
     "text": [
      "{'epoch': 0, 'iter': 1140, 'avg_loss': 7.141054748548529, 'avg_acc': 50.29305433829974, 'loss': 6.208051681518555}\n"
     ]
    },
    {
     "name": "stderr",
     "output_type": "stream",
     "text": [
      "EP_train:0:  17%|| 1153/6926 [02:00<09:32, 10.09it/s]"
     ]
    },
    {
     "name": "stdout",
     "output_type": "stream",
     "text": [
      "{'epoch': 0, 'iter': 1150, 'avg_loss': 7.130551460822907, 'avg_acc': 50.27964813205907, 'loss': 5.370782852172852}\n"
     ]
    },
    {
     "name": "stderr",
     "output_type": "stream",
     "text": [
      "EP_train:0:  17%|| 1162/6926 [02:01<09:28, 10.14it/s]"
     ]
    },
    {
     "name": "stdout",
     "output_type": "stream",
     "text": [
      "{'epoch': 0, 'iter': 1160, 'avg_loss': 7.119723248132645, 'avg_acc': 50.28531438415159, 'loss': 5.9403252601623535}\n"
     ]
    },
    {
     "name": "stderr",
     "output_type": "stream",
     "text": [
      "EP_train:0:  17%|| 1171/6926 [02:02<09:43,  9.87it/s]"
     ]
    },
    {
     "name": "stdout",
     "output_type": "stream",
     "text": [
      "{'epoch': 0, 'iter': 1170, 'avg_loss': 7.109393500548769, 'avg_acc': 50.28287788215201, 'loss': 5.954295635223389}\n"
     ]
    },
    {
     "name": "stderr",
     "output_type": "stream",
     "text": [
      "EP_train:0:  17%|| 1183/6926 [02:04<09:33, 10.01it/s]"
     ]
    },
    {
     "name": "stdout",
     "output_type": "stream",
     "text": [
      "{'epoch': 0, 'iter': 1180, 'avg_loss': 7.099049836674754, 'avg_acc': 50.267252328535136, 'loss': 5.898376941680908}\n"
     ]
    },
    {
     "name": "stderr",
     "output_type": "stream",
     "text": [
      "EP_train:0:  17%|| 1192/6926 [02:04<09:38,  9.92it/s]"
     ]
    },
    {
     "name": "stdout",
     "output_type": "stream",
     "text": [
      "{'epoch': 0, 'iter': 1190, 'avg_loss': 7.088850237960879, 'avg_acc': 50.29649454240135, 'loss': 5.806924343109131}\n"
     ]
    },
    {
     "name": "stderr",
     "output_type": "stream",
     "text": [
      "EP_train:0:  17%|| 1203/6926 [02:06<09:29, 10.06it/s]"
     ]
    },
    {
     "name": "stdout",
     "output_type": "stream",
     "text": [
      "{'epoch': 0, 'iter': 1200, 'avg_loss': 7.080758432663052, 'avg_acc': 50.27581182348043, 'loss': 6.063045978546143}\n"
     ]
    },
    {
     "name": "stderr",
     "output_type": "stream",
     "text": [
      "EP_train:0:  17%|| 1212/6926 [02:06<10:13,  9.32it/s]"
     ]
    },
    {
     "name": "stdout",
     "output_type": "stream",
     "text": [
      "{'epoch': 0, 'iter': 1210, 'avg_loss': 7.071361679562254, 'avg_acc': 50.28385631709331, 'loss': 5.97357702255249}\n"
     ]
    },
    {
     "name": "stderr",
     "output_type": "stream",
     "text": [
      "EP_train:0:  18%|| 1223/6926 [02:08<09:35,  9.92it/s]"
     ]
    },
    {
     "name": "stdout",
     "output_type": "stream",
     "text": [
      "{'epoch': 0, 'iter': 1220, 'avg_loss': 7.062421931095733, 'avg_acc': 50.28665028665029, 'loss': 5.764118671417236}\n"
     ]
    },
    {
     "name": "stderr",
     "output_type": "stream",
     "text": [
      "EP_train:0:  18%|| 1233/6926 [02:09<10:01,  9.46it/s]"
     ]
    },
    {
     "name": "stdout",
     "output_type": "stream",
     "text": [
      "{'epoch': 0, 'iter': 1230, 'avg_loss': 7.052427201615806, 'avg_acc': 50.27416734362306, 'loss': 5.8350749015808105}\n"
     ]
    },
    {
     "name": "stderr",
     "output_type": "stream",
     "text": [
      "EP_train:0:  18%|| 1242/6926 [02:10<10:05,  9.39it/s]"
     ]
    },
    {
     "name": "stdout",
     "output_type": "stream",
     "text": [
      "{'epoch': 0, 'iter': 1240, 'avg_loss': 7.043568793272991, 'avg_acc': 50.28454875100725, 'loss': 6.0557966232299805}\n"
     ]
    },
    {
     "name": "stderr",
     "output_type": "stream",
     "text": [
      "EP_train:0:  18%|| 1252/6926 [02:11<09:26, 10.01it/s]"
     ]
    },
    {
     "name": "stdout",
     "output_type": "stream",
     "text": [
      "{'epoch': 0, 'iter': 1250, 'avg_loss': 7.034762311991837, 'avg_acc': 50.2847721822542, 'loss': 6.3443427085876465}\n"
     ]
    },
    {
     "name": "stderr",
     "output_type": "stream",
     "text": [
      "EP_train:0:  18%|| 1263/6926 [02:12<09:48,  9.62it/s]"
     ]
    },
    {
     "name": "stdout",
     "output_type": "stream",
     "text": [
      "{'epoch': 0, 'iter': 1260, 'avg_loss': 7.026568553449614, 'avg_acc': 50.28747026169707, 'loss': 5.832799911499023}\n"
     ]
    },
    {
     "name": "stderr",
     "output_type": "stream",
     "text": [
      "EP_train:0:  18%|| 1273/6926 [02:13<09:20, 10.09it/s]"
     ]
    },
    {
     "name": "stdout",
     "output_type": "stream",
     "text": [
      "{'epoch': 0, 'iter': 1270, 'avg_loss': 7.018666068931718, 'avg_acc': 50.27783241542093, 'loss': 5.7944254875183105}\n"
     ]
    },
    {
     "name": "stderr",
     "output_type": "stream",
     "text": [
      "EP_train:0:  19%|| 1283/6926 [02:14<09:28,  9.93it/s]"
     ]
    },
    {
     "name": "stdout",
     "output_type": "stream",
     "text": [
      "{'epoch': 0, 'iter': 1280, 'avg_loss': 7.01025666267401, 'avg_acc': 50.27322404371585, 'loss': 5.638501167297363}\n"
     ]
    },
    {
     "name": "stderr",
     "output_type": "stream",
     "text": [
      "EP_train:0:  19%|| 1292/6926 [02:15<10:04,  9.32it/s]"
     ]
    },
    {
     "name": "stdout",
     "output_type": "stream",
     "text": [
      "{'epoch': 0, 'iter': 1290, 'avg_loss': 7.002244103887485, 'avg_acc': 50.28805189775368, 'loss': 5.922112941741943}\n"
     ]
    },
    {
     "name": "stderr",
     "output_type": "stream",
     "text": [
      "EP_train:0:  19%|| 1302/6926 [02:16<09:09, 10.23it/s]"
     ]
    },
    {
     "name": "stdout",
     "output_type": "stream",
     "text": [
      "{'epoch': 0, 'iter': 1300, 'avg_loss': 6.994554693015331, 'avg_acc': 50.26421983089931, 'loss': 5.555850028991699}\n"
     ]
    },
    {
     "name": "stderr",
     "output_type": "stream",
     "text": [
      "EP_train:0:  19%|| 1311/6926 [02:17<09:18, 10.06it/s]"
     ]
    },
    {
     "name": "stdout",
     "output_type": "stream",
     "text": [
      "{'epoch': 0, 'iter': 1310, 'avg_loss': 6.985922040146421, 'avg_acc': 50.25266971777269, 'loss': 5.767759799957275}\n"
     ]
    },
    {
     "name": "stderr",
     "output_type": "stream",
     "text": [
      "EP_train:0:  19%|| 1322/6926 [02:18<09:28,  9.86it/s]"
     ]
    },
    {
     "name": "stdout",
     "output_type": "stream",
     "text": [
      "{'epoch': 0, 'iter': 1320, 'avg_loss': 6.978273047000328, 'avg_acc': 50.246025738077215, 'loss': 5.876006603240967}\n"
     ]
    },
    {
     "name": "stderr",
     "output_type": "stream",
     "text": [
      "EP_train:0:  19%|| 1333/6926 [02:19<09:46,  9.54it/s]"
     ]
    },
    {
     "name": "stdout",
     "output_type": "stream",
     "text": [
      "{'epoch': 0, 'iter': 1330, 'avg_loss': 6.971428718179979, 'avg_acc': 50.26296018031555, 'loss': 5.95245361328125}\n"
     ]
    },
    {
     "name": "stderr",
     "output_type": "stream",
     "text": [
      "EP_train:0:  19%|| 1342/6926 [02:20<09:30,  9.78it/s]"
     ]
    },
    {
     "name": "stdout",
     "output_type": "stream",
     "text": [
      "{'epoch': 0, 'iter': 1340, 'avg_loss': 6.963937200778105, 'avg_acc': 50.244686800894854, 'loss': 6.11565637588501}\n"
     ]
    },
    {
     "name": "stderr",
     "output_type": "stream",
     "text": [
      "EP_train:0:  20%|| 1352/6926 [02:21<09:11, 10.11it/s]"
     ]
    },
    {
     "name": "stdout",
     "output_type": "stream",
     "text": [
      "{'epoch': 0, 'iter': 1350, 'avg_loss': 6.956410958271041, 'avg_acc': 50.27525906735752, 'loss': 5.798257827758789}\n"
     ]
    },
    {
     "name": "stderr",
     "output_type": "stream",
     "text": [
      "EP_train:0:  20%|| 1363/6926 [02:22<09:05, 10.19it/s]"
     ]
    },
    {
     "name": "stdout",
     "output_type": "stream",
     "text": [
      "{'epoch': 0, 'iter': 1360, 'avg_loss': 6.948902464718787, 'avg_acc': 50.275532696546655, 'loss': 6.399693965911865}\n"
     ]
    },
    {
     "name": "stderr",
     "output_type": "stream",
     "text": [
      "EP_train:0:  20%|| 1372/6926 [02:23<09:40,  9.57it/s]"
     ]
    },
    {
     "name": "stdout",
     "output_type": "stream",
     "text": [
      "{'epoch': 0, 'iter': 1370, 'avg_loss': 6.942099395239988, 'avg_acc': 50.26212618526623, 'loss': 5.634263515472412}\n"
     ]
    },
    {
     "name": "stderr",
     "output_type": "stream",
     "text": [
      "EP_train:0:  20%|| 1382/6926 [02:24<10:20,  8.94it/s]"
     ]
    },
    {
     "name": "stdout",
     "output_type": "stream",
     "text": [
      "{'epoch': 0, 'iter': 1380, 'avg_loss': 6.934153685959934, 'avg_acc': 50.255702389572775, 'loss': 5.680623531341553}\n"
     ]
    },
    {
     "name": "stderr",
     "output_type": "stream",
     "text": [
      "EP_train:0:  20%|| 1392/6926 [02:25<09:33,  9.64it/s]"
     ]
    },
    {
     "name": "stdout",
     "output_type": "stream",
     "text": [
      "{'epoch': 0, 'iter': 1390, 'avg_loss': 6.926304775035098, 'avg_acc': 50.2381380301941, 'loss': 5.892361164093018}\n"
     ]
    },
    {
     "name": "stderr",
     "output_type": "stream",
     "text": [
      "EP_train:0:  20%|| 1403/6926 [02:26<09:20,  9.85it/s]"
     ]
    },
    {
     "name": "stdout",
     "output_type": "stream",
     "text": [
      "{'epoch': 0, 'iter': 1400, 'avg_loss': 6.919315396335446, 'avg_acc': 50.22305496074233, 'loss': 6.290226459503174}\n"
     ]
    },
    {
     "name": "stderr",
     "output_type": "stream",
     "text": [
      "EP_train:0:  20%|| 1412/6926 [02:27<09:25,  9.75it/s]"
     ]
    },
    {
     "name": "stdout",
     "output_type": "stream",
     "text": [
      "{'epoch': 0, 'iter': 1410, 'avg_loss': 6.912382762876493, 'avg_acc': 50.22147413182141, 'loss': 6.180323123931885}\n"
     ]
    },
    {
     "name": "stderr",
     "output_type": "stream",
     "text": [
      "EP_train:0:  21%|| 1422/6926 [02:28<09:20,  9.82it/s]"
     ]
    },
    {
     "name": "stdout",
     "output_type": "stream",
     "text": [
      "{'epoch': 0, 'iter': 1420, 'avg_loss': 6.906235188518419, 'avg_acc': 50.204521463757914, 'loss': 6.029724597930908}\n"
     ]
    },
    {
     "name": "stderr",
     "output_type": "stream",
     "text": [
      "EP_train:0:  21%|| 1432/6926 [02:29<08:55, 10.25it/s]"
     ]
    },
    {
     "name": "stdout",
     "output_type": "stream",
     "text": [
      "{'epoch': 0, 'iter': 1430, 'avg_loss': 6.900092201246239, 'avg_acc': 50.211827393431165, 'loss': 6.152592182159424}\n"
     ]
    },
    {
     "name": "stderr",
     "output_type": "stream",
     "text": [
      "EP_train:0:  21%|| 1442/6926 [02:30<09:44,  9.38it/s]"
     ]
    },
    {
     "name": "stdout",
     "output_type": "stream",
     "text": [
      "{'epoch': 0, 'iter': 1440, 'avg_loss': 6.893006147070944, 'avg_acc': 50.22120055517002, 'loss': 5.899831295013428}\n"
     ]
    },
    {
     "name": "stderr",
     "output_type": "stream",
     "text": [
      "EP_train:0:  21%|| 1452/6926 [02:31<09:23,  9.72it/s]"
     ]
    },
    {
     "name": "stdout",
     "output_type": "stream",
     "text": [
      "{'epoch': 0, 'iter': 1450, 'avg_loss': 6.886693669877161, 'avg_acc': 50.232598208132316, 'loss': 6.440526485443115}\n"
     ]
    },
    {
     "name": "stderr",
     "output_type": "stream",
     "text": [
      "EP_train:0:  21%|| 1463/6926 [02:32<09:07,  9.98it/s]"
     ]
    },
    {
     "name": "stdout",
     "output_type": "stream",
     "text": [
      "{'epoch': 0, 'iter': 1460, 'avg_loss': 6.881039254556039, 'avg_acc': 50.23528405201917, 'loss': 6.159665107727051}\n"
     ]
    },
    {
     "name": "stderr",
     "output_type": "stream",
     "text": [
      "EP_train:0:  21%|| 1472/6926 [02:33<09:18,  9.77it/s]"
     ]
    },
    {
     "name": "stdout",
     "output_type": "stream",
     "text": [
      "{'epoch': 0, 'iter': 1470, 'avg_loss': 6.874715537298787, 'avg_acc': 50.24218218898709, 'loss': 6.3462347984313965}\n"
     ]
    },
    {
     "name": "stderr",
     "output_type": "stream",
     "text": [
      "EP_train:0:  21%|| 1483/6926 [02:34<08:59, 10.09it/s]"
     ]
    },
    {
     "name": "stdout",
     "output_type": "stream",
     "text": [
      "{'epoch': 0, 'iter': 1480, 'avg_loss': 6.867946860759665, 'avg_acc': 50.27430790006753, 'loss': 6.436330318450928}\n"
     ]
    },
    {
     "name": "stderr",
     "output_type": "stream",
     "text": [
      "EP_train:0:  22%|| 1492/6926 [02:35<09:17,  9.74it/s]"
     ]
    },
    {
     "name": "stdout",
     "output_type": "stream",
     "text": [
      "{'epoch': 0, 'iter': 1490, 'avg_loss': 6.861411981499491, 'avg_acc': 50.28923541247485, 'loss': 5.82858943939209}\n"
     ]
    },
    {
     "name": "stderr",
     "output_type": "stream",
     "text": [
      "EP_train:0:  22%|| 1503/6926 [02:36<09:12,  9.82it/s]"
     ]
    },
    {
     "name": "stdout",
     "output_type": "stream",
     "text": [
      "{'epoch': 0, 'iter': 1500, 'avg_loss': 6.855232802968594, 'avg_acc': 50.27689873417721, 'loss': 5.81876277923584}\n"
     ]
    },
    {
     "name": "stderr",
     "output_type": "stream",
     "text": [
      "EP_train:0:  22%|| 1512/6926 [02:37<09:26,  9.56it/s]"
     ]
    },
    {
     "name": "stdout",
     "output_type": "stream",
     "text": [
      "{'epoch': 0, 'iter': 1510, 'avg_loss': 6.848761876003384, 'avg_acc': 50.254384513567175, 'loss': 6.3597798347473145}\n"
     ]
    },
    {
     "name": "stderr",
     "output_type": "stream",
     "text": [
      "EP_train:0:  22%|| 1523/6926 [02:38<09:10,  9.82it/s]"
     ]
    },
    {
     "name": "stdout",
     "output_type": "stream",
     "text": [
      "{'epoch': 0, 'iter': 1520, 'avg_loss': 6.843148109553912, 'avg_acc': 50.27736686390533, 'loss': 5.704293251037598}\n"
     ]
    },
    {
     "name": "stderr",
     "output_type": "stream",
     "text": [
      "EP_train:0:  22%|| 1533/6926 [02:39<09:17,  9.68it/s]"
     ]
    },
    {
     "name": "stdout",
     "output_type": "stream",
     "text": [
      "{'epoch': 0, 'iter': 1530, 'avg_loss': 6.83742932849737, 'avg_acc': 50.25922599608099, 'loss': 6.121276378631592}\n"
     ]
    },
    {
     "name": "stderr",
     "output_type": "stream",
     "text": [
      "EP_train:0:  22%|| 1543/6926 [02:41<09:26,  9.50it/s]"
     ]
    },
    {
     "name": "stdout",
     "output_type": "stream",
     "text": [
      "{'epoch': 0, 'iter': 1540, 'avg_loss': 6.830996574325116, 'avg_acc': 50.24537637897469, 'loss': 5.483871936798096}\n"
     ]
    },
    {
     "name": "stderr",
     "output_type": "stream",
     "text": [
      "EP_train:0:  22%|| 1551/6926 [02:41<09:22,  9.55it/s]"
     ]
    },
    {
     "name": "stdout",
     "output_type": "stream",
     "text": [
      "{'epoch': 0, 'iter': 1550, 'avg_loss': 6.826159985737213, 'avg_acc': 50.23573500967118, 'loss': 5.96528959274292}\n"
     ]
    },
    {
     "name": "stderr",
     "output_type": "stream",
     "text": [
      "EP_train:0:  23%|| 1562/6926 [02:42<09:14,  9.67it/s]"
     ]
    },
    {
     "name": "stdout",
     "output_type": "stream",
     "text": [
      "{'epoch': 0, 'iter': 1560, 'avg_loss': 6.820508570185385, 'avg_acc': 50.21020179372198, 'loss': 5.592268466949463}\n"
     ]
    },
    {
     "name": "stderr",
     "output_type": "stream",
     "text": [
      "EP_train:0:  23%|| 1571/6926 [02:43<08:48, 10.13it/s]"
     ]
    },
    {
     "name": "stdout",
     "output_type": "stream",
     "text": [
      "{'epoch': 0, 'iter': 1570, 'avg_loss': 6.814769523907133, 'avg_acc': 50.22278803309994, 'loss': 6.130889415740967}\n"
     ]
    },
    {
     "name": "stderr",
     "output_type": "stream",
     "text": [
      "EP_train:0:  23%|| 1581/6926 [02:44<09:04,  9.82it/s]"
     ]
    },
    {
     "name": "stdout",
     "output_type": "stream",
     "text": [
      "{'epoch': 0, 'iter': 1580, 'avg_loss': 6.808702598562126, 'avg_acc': 50.25695762175838, 'loss': 6.1630425453186035}\n"
     ]
    },
    {
     "name": "stderr",
     "output_type": "stream",
     "text": [
      "EP_train:0:  23%|| 1591/6926 [02:45<09:07,  9.74it/s]"
     ]
    },
    {
     "name": "stdout",
     "output_type": "stream",
     "text": [
      "{'epoch': 0, 'iter': 1590, 'avg_loss': 6.8033071304551465, 'avg_acc': 50.267127592708995, 'loss': 6.225345611572266}\n"
     ]
    },
    {
     "name": "stderr",
     "output_type": "stream",
     "text": [
      "EP_train:0:  23%|| 1602/6926 [02:47<09:12,  9.64it/s]"
     ]
    },
    {
     "name": "stdout",
     "output_type": "stream",
     "text": [
      "{'epoch': 0, 'iter': 1600, 'avg_loss': 6.798102715996785, 'avg_acc': 50.26545908806995, 'loss': 5.811916351318359}\n"
     ]
    },
    {
     "name": "stderr",
     "output_type": "stream",
     "text": [
      "EP_train:0:  23%|| 1611/6926 [02:47<09:04,  9.76it/s]"
     ]
    },
    {
     "name": "stdout",
     "output_type": "stream",
     "text": [
      "{'epoch': 0, 'iter': 1610, 'avg_loss': 6.792940993992754, 'avg_acc': 50.27932960893855, 'loss': 6.033732891082764}\n"
     ]
    },
    {
     "name": "stderr",
     "output_type": "stream",
     "text": [
      "EP_train:0:  23%|| 1623/6926 [02:49<08:59,  9.83it/s]"
     ]
    },
    {
     "name": "stdout",
     "output_type": "stream",
     "text": [
      "{'epoch': 0, 'iter': 1620, 'avg_loss': 6.787115559763264, 'avg_acc': 50.27375077112893, 'loss': 5.371575355529785}\n"
     ]
    },
    {
     "name": "stderr",
     "output_type": "stream",
     "text": [
      "EP_train:0:  24%|| 1632/6926 [02:50<08:55,  9.88it/s]"
     ]
    },
    {
     "name": "stdout",
     "output_type": "stream",
     "text": [
      "{'epoch': 0, 'iter': 1630, 'avg_loss': 6.781142598788918, 'avg_acc': 50.23566830165542, 'loss': 5.94737434387207}\n"
     ]
    },
    {
     "name": "stderr",
     "output_type": "stream",
     "text": [
      "EP_train:0:  24%|| 1642/6926 [02:51<08:42, 10.12it/s]"
     ]
    },
    {
     "name": "stdout",
     "output_type": "stream",
     "text": [
      "{'epoch': 0, 'iter': 1640, 'avg_loss': 6.775170938769613, 'avg_acc': 50.268510054844604, 'loss': 5.887050151824951}\n"
     ]
    },
    {
     "name": "stderr",
     "output_type": "stream",
     "text": [
      "EP_train:0:  24%|| 1652/6926 [02:52<08:36, 10.21it/s]"
     ]
    },
    {
     "name": "stdout",
     "output_type": "stream",
     "text": [
      "{'epoch': 0, 'iter': 1650, 'avg_loss': 6.768847623786949, 'avg_acc': 50.2801332525742, 'loss': 5.997483730316162}\n"
     ]
    },
    {
     "name": "stderr",
     "output_type": "stream",
     "text": [
      "EP_train:0:  24%|| 1663/6926 [02:53<08:47,  9.98it/s]"
     ]
    },
    {
     "name": "stdout",
     "output_type": "stream",
     "text": [
      "{'epoch': 0, 'iter': 1660, 'avg_loss': 6.763923224162654, 'avg_acc': 50.30854906682721, 'loss': 5.72259521484375}\n"
     ]
    },
    {
     "name": "stderr",
     "output_type": "stream",
     "text": [
      "EP_train:0:  24%|| 1672/6926 [02:54<09:09,  9.55it/s]"
     ]
    },
    {
     "name": "stdout",
     "output_type": "stream",
     "text": [
      "{'epoch': 0, 'iter': 1670, 'avg_loss': 6.759650332852083, 'avg_acc': 50.27491023339318, 'loss': 5.926924705505371}\n"
     ]
    },
    {
     "name": "stderr",
     "output_type": "stream",
     "text": [
      "EP_train:0:  24%|| 1683/6926 [02:55<09:04,  9.63it/s]"
     ]
    },
    {
     "name": "stdout",
     "output_type": "stream",
     "text": [
      "{'epoch': 0, 'iter': 1680, 'avg_loss': 6.753961132793892, 'avg_acc': 50.25654372397382, 'loss': 5.617448806762695}\n"
     ]
    },
    {
     "name": "stderr",
     "output_type": "stream",
     "text": [
      "EP_train:0:  24%|| 1693/6926 [02:56<09:18,  9.37it/s]"
     ]
    },
    {
     "name": "stdout",
     "output_type": "stream",
     "text": [
      "{'epoch': 0, 'iter': 1690, 'avg_loss': 6.748858757233352, 'avg_acc': 50.26981076286221, 'loss': 5.808251857757568}\n"
     ]
    },
    {
     "name": "stderr",
     "output_type": "stream",
     "text": [
      "EP_train:0:  25%|| 1703/6926 [02:57<08:46,  9.92it/s]"
     ]
    },
    {
     "name": "stdout",
     "output_type": "stream",
     "text": [
      "{'epoch': 0, 'iter': 1700, 'avg_loss': 6.744428542976447, 'avg_acc': 50.2553644914756, 'loss': 6.110530853271484}\n"
     ]
    },
    {
     "name": "stderr",
     "output_type": "stream",
     "text": [
      "EP_train:0:  25%|| 1712/6926 [02:58<09:03,  9.60it/s]"
     ]
    },
    {
     "name": "stdout",
     "output_type": "stream",
     "text": [
      "{'epoch': 0, 'iter': 1710, 'avg_loss': 6.739852621846558, 'avg_acc': 50.23926066627703, 'loss': 6.377649307250977}\n"
     ]
    },
    {
     "name": "stderr",
     "output_type": "stream",
     "text": [
      "EP_train:0:  25%|| 1722/6926 [02:59<09:10,  9.46it/s]"
     ]
    },
    {
     "name": "stdout",
     "output_type": "stream",
     "text": [
      "{'epoch': 0, 'iter': 1720, 'avg_loss': 6.734631336961355, 'avg_acc': 50.257844276583384, 'loss': 5.765623569488525}\n"
     ]
    },
    {
     "name": "stderr",
     "output_type": "stream",
     "text": [
      "EP_train:0:  25%|| 1733/6926 [03:00<09:02,  9.58it/s]"
     ]
    },
    {
     "name": "stdout",
     "output_type": "stream",
     "text": [
      "{'epoch': 0, 'iter': 1730, 'avg_loss': 6.72955374274207, 'avg_acc': 50.27621317157712, 'loss': 5.937459468841553}\n"
     ]
    },
    {
     "name": "stderr",
     "output_type": "stream",
     "text": [
      "EP_train:0:  25%|| 1743/6926 [03:01<08:46,  9.85it/s]"
     ]
    },
    {
     "name": "stdout",
     "output_type": "stream",
     "text": [
      "{'epoch': 0, 'iter': 1740, 'avg_loss': 6.724784643194033, 'avg_acc': 50.26565192418151, 'loss': 6.127396583557129}\n"
     ]
    },
    {
     "name": "stderr",
     "output_type": "stream",
     "text": [
      "EP_train:0:  25%|| 1753/6926 [03:02<08:59,  9.58it/s]"
     ]
    },
    {
     "name": "stdout",
     "output_type": "stream",
     "text": [
      "{'epoch': 0, 'iter': 1750, 'avg_loss': 6.719243946652764, 'avg_acc': 50.2766276413478, 'loss': 5.8213067054748535}\n"
     ]
    },
    {
     "name": "stderr",
     "output_type": "stream",
     "text": [
      "EP_train:0:  25%|| 1763/6926 [03:03<08:47,  9.79it/s]"
     ]
    },
    {
     "name": "stdout",
     "output_type": "stream",
     "text": [
      "{'epoch': 0, 'iter': 1760, 'avg_loss': 6.714944613379284, 'avg_acc': 50.244889267461666, 'loss': 5.685501575469971}\n"
     ]
    },
    {
     "name": "stderr",
     "output_type": "stream",
     "text": [
      "EP_train:0:  26%|| 1773/6926 [03:04<08:41,  9.89it/s]"
     ]
    },
    {
     "name": "stdout",
     "output_type": "stream",
     "text": [
      "{'epoch': 0, 'iter': 1770, 'avg_loss': 6.710519835613731, 'avg_acc': 50.24703557312253, 'loss': 5.652461528778076}\n"
     ]
    },
    {
     "name": "stderr",
     "output_type": "stream",
     "text": [
      "EP_train:0:  26%|| 1783/6926 [03:05<08:39,  9.91it/s]"
     ]
    },
    {
     "name": "stdout",
     "output_type": "stream",
     "text": [
      "{'epoch': 0, 'iter': 1780, 'avg_loss': 6.706191075778556, 'avg_acc': 50.26670409882089, 'loss': 6.0983757972717285}\n"
     ]
    },
    {
     "name": "stderr",
     "output_type": "stream",
     "text": [
      "EP_train:0:  26%|| 1793/6926 [03:06<08:52,  9.63it/s]"
     ]
    },
    {
     "name": "stdout",
     "output_type": "stream",
     "text": [
      "{'epoch': 0, 'iter': 1790, 'avg_loss': 6.700966567716273, 'avg_acc': 50.27568397543271, 'loss': 6.045423984527588}\n"
     ]
    },
    {
     "name": "stderr",
     "output_type": "stream",
     "text": [
      "EP_train:0:  26%|| 1803/6926 [03:07<08:50,  9.66it/s]"
     ]
    },
    {
     "name": "stdout",
     "output_type": "stream",
     "text": [
      "{'epoch': 0, 'iter': 1800, 'avg_loss': 6.695948428938218, 'avg_acc': 50.262007218212105, 'loss': 5.906649589538574}\n"
     ]
    },
    {
     "name": "stderr",
     "output_type": "stream",
     "text": [
      "EP_train:0:  26%|| 1812/6926 [03:08<09:03,  9.41it/s]"
     ]
    },
    {
     "name": "stdout",
     "output_type": "stream",
     "text": [
      "{'epoch': 0, 'iter': 1810, 'avg_loss': 6.691726317529452, 'avg_acc': 50.2829928216455, 'loss': 5.7657647132873535}\n"
     ]
    },
    {
     "name": "stderr",
     "output_type": "stream",
     "text": [
      "EP_train:0:  26%|| 1822/6926 [03:09<08:44,  9.73it/s]"
     ]
    },
    {
     "name": "stdout",
     "output_type": "stream",
     "text": [
      "{'epoch': 0, 'iter': 1820, 'avg_loss': 6.686235307403346, 'avg_acc': 50.27629049972543, 'loss': 5.713316917419434}\n"
     ]
    },
    {
     "name": "stderr",
     "output_type": "stream",
     "text": [
      "EP_train:0:  26%|| 1832/6926 [03:10<09:13,  9.20it/s]"
     ]
    },
    {
     "name": "stdout",
     "output_type": "stream",
     "text": [
      "{'epoch': 0, 'iter': 1830, 'avg_loss': 6.681797477861755, 'avg_acc': 50.271368104860734, 'loss': 5.930959224700928}\n"
     ]
    },
    {
     "name": "stderr",
     "output_type": "stream",
     "text": [
      "EP_train:0:  27%|| 1842/6926 [03:11<08:57,  9.46it/s]"
     ]
    },
    {
     "name": "stdout",
     "output_type": "stream",
     "text": [
      "{'epoch': 0, 'iter': 1840, 'avg_loss': 6.676780483374318, 'avg_acc': 50.273288973384034, 'loss': 5.993189334869385}\n"
     ]
    },
    {
     "name": "stderr",
     "output_type": "stream",
     "text": [
      "EP_train:0:  27%|| 1851/6926 [03:12<09:02,  9.35it/s]"
     ]
    },
    {
     "name": "stdout",
     "output_type": "stream",
     "text": [
      "{'epoch': 0, 'iter': 1850, 'avg_loss': 6.671994452216315, 'avg_acc': 50.30557806591032, 'loss': 6.043910980224609}\n"
     ]
    },
    {
     "name": "stderr",
     "output_type": "stream",
     "text": [
      "EP_train:0:  27%|| 1862/6926 [03:13<08:29,  9.93it/s]"
     ]
    },
    {
     "name": "stdout",
     "output_type": "stream",
     "text": [
      "{'epoch': 0, 'iter': 1860, 'avg_loss': 6.666719377201004, 'avg_acc': 50.308973670069854, 'loss': 5.388864517211914}\n"
     ]
    },
    {
     "name": "stderr",
     "output_type": "stream",
     "text": [
      "EP_train:0:  27%|| 1872/6926 [03:14<08:52,  9.49it/s]"
     ]
    },
    {
     "name": "stdout",
     "output_type": "stream",
     "text": [
      "{'epoch': 0, 'iter': 1870, 'avg_loss': 6.662427747778431, 'avg_acc': 50.30398182789953, 'loss': 5.560633182525635}\n"
     ]
    },
    {
     "name": "stderr",
     "output_type": "stream",
     "text": [
      "EP_train:0:  27%|| 1882/6926 [03:15<08:32,  9.85it/s]"
     ]
    },
    {
     "name": "stdout",
     "output_type": "stream",
     "text": [
      "{'epoch': 0, 'iter': 1880, 'avg_loss': 6.657738411065304, 'avg_acc': 50.322301967038804, 'loss': 5.746366500854492}\n"
     ]
    },
    {
     "name": "stderr",
     "output_type": "stream",
     "text": [
      "EP_train:0:  27%|| 1892/6926 [03:16<08:45,  9.57it/s]"
     ]
    },
    {
     "name": "stdout",
     "output_type": "stream",
     "text": [
      "{'epoch': 0, 'iter': 1890, 'avg_loss': 6.65287326215626, 'avg_acc': 50.29746166049709, 'loss': 5.0910162925720215}\n"
     ]
    },
    {
     "name": "stderr",
     "output_type": "stream",
     "text": [
      "EP_train:0:  27%|| 1903/6926 [03:18<08:37,  9.70it/s]"
     ]
    },
    {
     "name": "stdout",
     "output_type": "stream",
     "text": [
      "{'epoch': 0, 'iter': 1900, 'avg_loss': 6.648293985560466, 'avg_acc': 50.332062072593374, 'loss': 5.691335201263428}\n"
     ]
    },
    {
     "name": "stderr",
     "output_type": "stream",
     "text": [
      "EP_train:0:  28%|| 1913/6926 [03:19<08:15, 10.12it/s]"
     ]
    },
    {
     "name": "stdout",
     "output_type": "stream",
     "text": [
      "{'epoch': 0, 'iter': 1910, 'avg_loss': 6.644621179591668, 'avg_acc': 50.31560701203558, 'loss': 5.735450744628906}\n"
     ]
    },
    {
     "name": "stderr",
     "output_type": "stream",
     "text": [
      "EP_train:0:  28%|| 1923/6926 [03:20<08:25,  9.91it/s]"
     ]
    },
    {
     "name": "stdout",
     "output_type": "stream",
     "text": [
      "{'epoch': 0, 'iter': 1920, 'avg_loss': 6.640758915285094, 'avg_acc': 50.297696512233216, 'loss': 5.792805194854736}\n"
     ]
    },
    {
     "name": "stderr",
     "output_type": "stream",
     "text": [
      "EP_train:0:  28%|| 1932/6926 [03:20<08:41,  9.58it/s]"
     ]
    },
    {
     "name": "stdout",
     "output_type": "stream",
     "text": [
      "{'epoch': 0, 'iter': 1930, 'avg_loss': 6.636627512358434, 'avg_acc': 50.27997151734852, 'loss': 6.157416343688965}\n"
     ]
    },
    {
     "name": "stderr",
     "output_type": "stream",
     "text": [
      "EP_train:0:  28%|| 1943/6926 [03:22<08:05, 10.26it/s]"
     ]
    },
    {
     "name": "stdout",
     "output_type": "stream",
     "text": [
      "{'epoch': 0, 'iter': 1940, 'avg_loss': 6.632360981642003, 'avg_acc': 50.26564914992272, 'loss': 5.988481044769287}\n"
     ]
    },
    {
     "name": "stderr",
     "output_type": "stream",
     "text": [
      "EP_train:0:  28%|| 1952/6926 [03:23<08:54,  9.31it/s]"
     ]
    },
    {
     "name": "stdout",
     "output_type": "stream",
     "text": [
      "{'epoch': 0, 'iter': 1950, 'avg_loss': 6.6280790018094375, 'avg_acc': 50.27549974372116, 'loss': 5.729121208190918}\n"
     ]
    },
    {
     "name": "stderr",
     "output_type": "stream",
     "text": [
      "EP_train:0:  28%|| 1962/6926 [03:24<08:38,  9.57it/s]"
     ]
    },
    {
     "name": "stdout",
     "output_type": "stream",
     "text": [
      "{'epoch': 0, 'iter': 1960, 'avg_loss': 6.6243915839927165, 'avg_acc': 50.259752677205505, 'loss': 5.593432903289795}\n"
     ]
    },
    {
     "name": "stderr",
     "output_type": "stream",
     "text": [
      "EP_train:0:  28%|| 1972/6926 [03:25<08:22,  9.87it/s]"
     ]
    },
    {
     "name": "stdout",
     "output_type": "stream",
     "text": [
      "{'epoch': 0, 'iter': 1970, 'avg_loss': 6.620039943267343, 'avg_acc': 50.26002029426687, 'loss': 6.079136848449707}\n"
     ]
    },
    {
     "name": "stderr",
     "output_type": "stream",
     "text": [
      "EP_train:0:  29%|| 1983/6926 [03:26<08:35,  9.58it/s]"
     ]
    },
    {
     "name": "stdout",
     "output_type": "stream",
     "text": [
      "{'epoch': 0, 'iter': 1980, 'avg_loss': 6.616823386086893, 'avg_acc': 50.258707723372034, 'loss': 5.748144149780273}\n"
     ]
    },
    {
     "name": "stderr",
     "output_type": "stream",
     "text": [
      "EP_train:0:  29%|| 1992/6926 [03:27<08:25,  9.76it/s]"
     ]
    },
    {
     "name": "stdout",
     "output_type": "stream",
     "text": [
      "{'epoch': 0, 'iter': 1990, 'avg_loss': 6.61335975689124, 'avg_acc': 50.26211702661979, 'loss': 5.530220985412598}\n"
     ]
    },
    {
     "name": "stderr",
     "output_type": "stream",
     "text": [
      "EP_train:0:  29%|| 2003/6926 [03:28<08:48,  9.32it/s]"
     ]
    },
    {
     "name": "stdout",
     "output_type": "stream",
     "text": [
      "{'epoch': 0, 'iter': 2000, 'avg_loss': 6.608894412247078, 'avg_acc': 50.27330084957521, 'loss': 5.561373233795166}\n"
     ]
    },
    {
     "name": "stderr",
     "output_type": "stream",
     "text": [
      "EP_train:0:  29%|| 2012/6926 [03:29<08:37,  9.50it/s]"
     ]
    },
    {
     "name": "stdout",
     "output_type": "stream",
     "text": [
      "{'epoch': 0, 'iter': 2010, 'avg_loss': 6.604691773845686, 'avg_acc': 50.26261810044754, 'loss': 5.76278829574585}\n"
     ]
    },
    {
     "name": "stderr",
     "output_type": "stream",
     "text": [
      "EP_train:0:  29%|| 2022/6926 [03:30<08:16,  9.87it/s]"
     ]
    },
    {
     "name": "stdout",
     "output_type": "stream",
     "text": [
      "{'epoch': 0, 'iter': 2020, 'avg_loss': 6.600915196507004, 'avg_acc': 50.25977238990599, 'loss': 5.839879512786865}\n"
     ]
    },
    {
     "name": "stderr",
     "output_type": "stream",
     "text": [
      "EP_train:0:  29%|| 2033/6926 [03:31<08:03, 10.12it/s]"
     ]
    },
    {
     "name": "stdout",
     "output_type": "stream",
     "text": [
      "{'epoch': 0, 'iter': 2030, 'avg_loss': 6.597292346710175, 'avg_acc': 50.25233874938454, 'loss': 5.754255294799805}\n"
     ]
    },
    {
     "name": "stderr",
     "output_type": "stream",
     "text": [
      "EP_train:0:  29%|| 2043/6926 [03:32<08:16,  9.83it/s]"
     ]
    },
    {
     "name": "stdout",
     "output_type": "stream",
     "text": [
      "{'epoch': 0, 'iter': 2040, 'avg_loss': 6.592937484901948, 'avg_acc': 50.26335129838314, 'loss': 5.585364818572998}\n"
     ]
    },
    {
     "name": "stderr",
     "output_type": "stream",
     "text": [
      "EP_train:0:  30%|| 2052/6926 [03:33<08:15,  9.84it/s]"
     ]
    },
    {
     "name": "stdout",
     "output_type": "stream",
     "text": [
      "{'epoch': 0, 'iter': 2050, 'avg_loss': 6.589229245467165, 'avg_acc': 50.2818746952706, 'loss': 5.755039215087891}\n"
     ]
    },
    {
     "name": "stderr",
     "output_type": "stream",
     "text": [
      "EP_train:0:  30%|| 2063/6926 [03:34<08:01, 10.10it/s]"
     ]
    },
    {
     "name": "stdout",
     "output_type": "stream",
     "text": [
      "{'epoch': 0, 'iter': 2060, 'avg_loss': 6.585583860350141, 'avg_acc': 50.28808830664726, 'loss': 5.828439235687256}\n"
     ]
    },
    {
     "name": "stderr",
     "output_type": "stream",
     "text": [
      "EP_train:0:  30%|| 2072/6926 [03:35<08:16,  9.78it/s]"
     ]
    },
    {
     "name": "stdout",
     "output_type": "stream",
     "text": [
      "{'epoch': 0, 'iter': 2070, 'avg_loss': 6.581581118946085, 'avg_acc': 50.295750845002416, 'loss': 5.943851470947266}\n"
     ]
    },
    {
     "name": "stderr",
     "output_type": "stream",
     "text": [
      "EP_train:0:  30%|| 2082/6926 [03:36<08:19,  9.70it/s]"
     ]
    },
    {
     "name": "stdout",
     "output_type": "stream",
     "text": [
      "{'epoch': 0, 'iter': 2080, 'avg_loss': 6.577931855058281, 'avg_acc': 50.31985824123018, 'loss': 6.169571876525879}\n"
     ]
    },
    {
     "name": "stderr",
     "output_type": "stream",
     "text": [
      "EP_train:0:  30%|| 2093/6926 [03:37<08:05,  9.95it/s]"
     ]
    },
    {
     "name": "stdout",
     "output_type": "stream",
     "text": [
      "{'epoch': 0, 'iter': 2090, 'avg_loss': 6.574733997520108, 'avg_acc': 50.306372549019606, 'loss': 6.073606014251709}\n"
     ]
    },
    {
     "name": "stderr",
     "output_type": "stream",
     "text": [
      "EP_train:0:  30%|| 2102/6926 [03:38<08:25,  9.55it/s]"
     ]
    },
    {
     "name": "stdout",
     "output_type": "stream",
     "text": [
      "{'epoch': 0, 'iter': 2100, 'avg_loss': 6.570839624527464, 'avg_acc': 50.3034269395526, 'loss': 5.80647611618042}\n"
     ]
    },
    {
     "name": "stderr",
     "output_type": "stream",
     "text": [
      "EP_train:0:  30%|| 2111/6926 [03:39<08:13,  9.75it/s]"
     ]
    },
    {
     "name": "stdout",
     "output_type": "stream",
     "text": [
      "{'epoch': 0, 'iter': 2110, 'avg_loss': 6.56700397204133, 'avg_acc': 50.30198957839887, 'loss': 6.054136276245117}\n"
     ]
    },
    {
     "name": "stderr",
     "output_type": "stream",
     "text": [
      "EP_train:0:  31%|| 2122/6926 [03:40<08:06,  9.87it/s]"
     ]
    },
    {
     "name": "stdout",
     "output_type": "stream",
     "text": [
      "{'epoch': 0, 'iter': 2120, 'avg_loss': 6.5639917446947615, 'avg_acc': 50.31087930221594, 'loss': 5.601862907409668}\n"
     ]
    },
    {
     "name": "stderr",
     "output_type": "stream",
     "text": [
      "EP_train:0:  31%|| 2132/6926 [03:41<08:12,  9.73it/s]"
     ]
    },
    {
     "name": "stdout",
     "output_type": "stream",
     "text": [
      "{'epoch': 0, 'iter': 2130, 'avg_loss': 6.560905160953158, 'avg_acc': 50.319685593618026, 'loss': 5.855706214904785}\n"
     ]
    },
    {
     "name": "stderr",
     "output_type": "stream",
     "text": [
      "EP_train:0:  31%|| 2142/6926 [03:42<07:53, 10.10it/s]"
     ]
    },
    {
     "name": "stdout",
     "output_type": "stream",
     "text": [
      "{'epoch': 0, 'iter': 2140, 'avg_loss': 6.557624942729652, 'avg_acc': 50.32111163007941, 'loss': 5.885786056518555}\n"
     ]
    },
    {
     "name": "stderr",
     "output_type": "stream",
     "text": [
      "EP_train:0:  31%|| 2151/6926 [03:43<07:51, 10.12it/s]"
     ]
    },
    {
     "name": "stdout",
     "output_type": "stream",
     "text": [
      "{'epoch': 0, 'iter': 2150, 'avg_loss': 6.5544172195654475, 'avg_acc': 50.318165969316595, 'loss': 5.613737106323242}\n"
     ]
    },
    {
     "name": "stderr",
     "output_type": "stream",
     "text": [
      "EP_train:0:  31%|| 2162/6926 [03:44<07:56,  9.99it/s]"
     ]
    },
    {
     "name": "stdout",
     "output_type": "stream",
     "text": [
      "{'epoch': 0, 'iter': 2160, 'avg_loss': 6.551155528113115, 'avg_acc': 50.31090930124942, 'loss': 5.292050838470459}\n"
     ]
    },
    {
     "name": "stderr",
     "output_type": "stream",
     "text": [
      "EP_train:0:  31%|| 2173/6926 [03:45<08:04,  9.81it/s]"
     ]
    },
    {
     "name": "stdout",
     "output_type": "stream",
     "text": [
      "{'epoch': 0, 'iter': 2170, 'avg_loss': 6.546899357790883, 'avg_acc': 50.29796176877015, 'loss': 5.587481498718262}\n"
     ]
    },
    {
     "name": "stderr",
     "output_type": "stream",
     "text": [
      "EP_train:0:  32%|| 2182/6926 [03:46<08:11,  9.66it/s]"
     ]
    },
    {
     "name": "stdout",
     "output_type": "stream",
     "text": [
      "{'epoch': 0, 'iter': 2180, 'avg_loss': 6.543545498426001, 'avg_acc': 50.293729940394314, 'loss': 5.657102108001709}\n"
     ]
    },
    {
     "name": "stderr",
     "output_type": "stream",
     "text": [
      "EP_train:0:  32%|| 2193/6926 [03:47<07:45, 10.16it/s]"
     ]
    },
    {
     "name": "stdout",
     "output_type": "stream",
     "text": [
      "{'epoch': 0, 'iter': 2190, 'avg_loss': 6.540942830834853, 'avg_acc': 50.28240529438612, 'loss': 6.03701114654541}\n"
     ]
    },
    {
     "name": "stderr",
     "output_type": "stream",
     "text": [
      "EP_train:0:  32%|| 2203/6926 [03:48<07:42, 10.20it/s]"
     ]
    },
    {
     "name": "stdout",
     "output_type": "stream",
     "text": [
      "{'epoch': 0, 'iter': 2200, 'avg_loss': 6.537644010627882, 'avg_acc': 50.30241935483871, 'loss': 5.409603118896484}\n"
     ]
    },
    {
     "name": "stderr",
     "output_type": "stream",
     "text": [
      "EP_train:0:  32%|| 2211/6926 [03:49<07:55,  9.92it/s]"
     ]
    },
    {
     "name": "stdout",
     "output_type": "stream",
     "text": [
      "{'epoch': 0, 'iter': 2210, 'avg_loss': 6.533960288490768, 'avg_acc': 50.28974445952058, 'loss': 5.566447734832764}\n"
     ]
    },
    {
     "name": "stderr",
     "output_type": "stream",
     "text": [
      "EP_train:0:  32%|| 2223/6926 [03:50<07:48, 10.04it/s]"
     ]
    },
    {
     "name": "stdout",
     "output_type": "stream",
     "text": [
      "{'epoch': 0, 'iter': 2220, 'avg_loss': 6.530672304375866, 'avg_acc': 50.275776677172445, 'loss': 5.449042320251465}\n"
     ]
    },
    {
     "name": "stderr",
     "output_type": "stream",
     "text": [
      "EP_train:0:  32%|| 2232/6926 [03:51<07:52,  9.93it/s]"
     ]
    },
    {
     "name": "stdout",
     "output_type": "stream",
     "text": [
      "{'epoch': 0, 'iter': 2230, 'avg_loss': 6.527098832884908, 'avg_acc': 50.26613626176603, 'loss': 5.523927211761475}\n"
     ]
    },
    {
     "name": "stderr",
     "output_type": "stream",
     "text": [
      "EP_train:0:  32%|| 2242/6926 [03:52<08:03,  9.70it/s]"
     ]
    },
    {
     "name": "stdout",
     "output_type": "stream",
     "text": [
      "{'epoch': 0, 'iter': 2240, 'avg_loss': 6.523842717961827, 'avg_acc': 50.256581883087904, 'loss': 5.692295074462891}\n"
     ]
    },
    {
     "name": "stderr",
     "output_type": "stream",
     "text": [
      "EP_train:0:  33%|| 2252/6926 [03:53<08:06,  9.61it/s]"
     ]
    },
    {
     "name": "stdout",
     "output_type": "stream",
     "text": [
      "{'epoch': 0, 'iter': 2250, 'avg_loss': 6.5210797705156756, 'avg_acc': 50.262383385162146, 'loss': 6.077268600463867}\n"
     ]
    },
    {
     "name": "stderr",
     "output_type": "stream",
     "text": [
      "EP_train:0:  33%|| 2262/6926 [03:54<07:48,  9.96it/s]"
     ]
    },
    {
     "name": "stdout",
     "output_type": "stream",
     "text": [
      "{'epoch': 0, 'iter': 2260, 'avg_loss': 6.517619144173124, 'avg_acc': 50.25431225121627, 'loss': 6.048295021057129}\n"
     ]
    },
    {
     "name": "stderr",
     "output_type": "stream",
     "text": [
      "EP_train:0:  33%|| 2272/6926 [03:55<08:16,  9.38it/s]"
     ]
    },
    {
     "name": "stdout",
     "output_type": "stream",
     "text": [
      "{'epoch': 0, 'iter': 2270, 'avg_loss': 6.514676414886165, 'avg_acc': 50.25181638044914, 'loss': 5.52788782119751}\n"
     ]
    },
    {
     "name": "stderr",
     "output_type": "stream",
     "text": [
      "EP_train:0:  33%|| 2283/6926 [03:56<07:43, 10.02it/s]"
     ]
    },
    {
     "name": "stdout",
     "output_type": "stream",
     "text": [
      "{'epoch': 0, 'iter': 2280, 'avg_loss': 6.511724790634162, 'avg_acc': 50.25893248575186, 'loss': 5.648181438446045}\n"
     ]
    },
    {
     "name": "stderr",
     "output_type": "stream",
     "text": [
      "EP_train:0:  33%|| 2292/6926 [03:57<08:26,  9.14it/s]"
     ]
    },
    {
     "name": "stdout",
     "output_type": "stream",
     "text": [
      "{'epoch': 0, 'iter': 2290, 'avg_loss': 6.508347668017117, 'avg_acc': 50.24416193801833, 'loss': 5.913022518157959}\n"
     ]
    },
    {
     "name": "stderr",
     "output_type": "stream",
     "text": [
      "EP_train:0:  33%|| 2302/6926 [03:58<07:58,  9.65it/s]"
     ]
    },
    {
     "name": "stdout",
     "output_type": "stream",
     "text": [
      "{'epoch': 0, 'iter': 2300, 'avg_loss': 6.505204512211925, 'avg_acc': 50.2295197740113, 'loss': 5.635185718536377}\n"
     ]
    },
    {
     "name": "stderr",
     "output_type": "stream",
     "text": [
      "EP_train:0:  33%|| 2313/6926 [03:59<07:59,  9.61it/s]"
     ]
    },
    {
     "name": "stdout",
     "output_type": "stream",
     "text": [
      "{'epoch': 0, 'iter': 2310, 'avg_loss': 6.5020241894179325, 'avg_acc': 50.2501622674167, 'loss': 5.780346393585205}\n"
     ]
    },
    {
     "name": "stderr",
     "output_type": "stream",
     "text": [
      "EP_train:0:  34%|| 2323/6926 [04:00<07:54,  9.71it/s]"
     ]
    },
    {
     "name": "stdout",
     "output_type": "stream",
     "text": [
      "{'epoch': 0, 'iter': 2320, 'avg_loss': 6.499000101857841, 'avg_acc': 50.2558164584231, 'loss': 5.93163537979126}\n"
     ]
    },
    {
     "name": "stderr",
     "output_type": "stream",
     "text": [
      "EP_train:0:  34%|| 2332/6926 [04:01<07:56,  9.64it/s]"
     ]
    },
    {
     "name": "stdout",
     "output_type": "stream",
     "text": [
      "{'epoch': 0, 'iter': 2330, 'avg_loss': 6.496164464070939, 'avg_acc': 50.246675246675245, 'loss': 6.318143367767334}\n"
     ]
    },
    {
     "name": "stderr",
     "output_type": "stream",
     "text": [
      "EP_train:0:  34%|| 2342/6926 [04:02<08:08,  9.39it/s]"
     ]
    },
    {
     "name": "stdout",
     "output_type": "stream",
     "text": [
      "{'epoch': 0, 'iter': 2340, 'avg_loss': 6.493663955274579, 'avg_acc': 50.24428662964545, 'loss': 5.500176429748535}\n"
     ]
    },
    {
     "name": "stderr",
     "output_type": "stream",
     "text": [
      "EP_train:0:  34%|| 2351/6926 [04:03<07:52,  9.69it/s]"
     ]
    },
    {
     "name": "stdout",
     "output_type": "stream",
     "text": [
      "{'epoch': 0, 'iter': 2350, 'avg_loss': 6.491367586112337, 'avg_acc': 50.24856444066354, 'loss': 6.389045715332031}\n"
     ]
    },
    {
     "name": "stderr",
     "output_type": "stream",
     "text": [
      "EP_train:0:  34%|| 2363/6926 [04:05<07:39,  9.93it/s]"
     ]
    },
    {
     "name": "stdout",
     "output_type": "stream",
     "text": [
      "{'epoch': 0, 'iter': 2360, 'avg_loss': 6.488469632789776, 'avg_acc': 50.25677678949597, 'loss': 6.081241607666016}\n"
     ]
    },
    {
     "name": "stderr",
     "output_type": "stream",
     "text": [
      "EP_train:0:  34%|| 2372/6926 [04:06<07:50,  9.69it/s]"
     ]
    },
    {
     "name": "stdout",
     "output_type": "stream",
     "text": [
      "{'epoch': 0, 'iter': 2370, 'avg_loss': 6.485395647915341, 'avg_acc': 50.27150991142978, 'loss': 5.529603958129883}\n"
     ]
    },
    {
     "name": "stderr",
     "output_type": "stream",
     "text": [
      "EP_train:0:  34%|| 2382/6926 [04:07<07:37,  9.93it/s]"
     ]
    },
    {
     "name": "stdout",
     "output_type": "stream",
     "text": [
      "{'epoch': 0, 'iter': 2380, 'avg_loss': 6.482630240822079, 'avg_acc': 50.2782444351113, 'loss': 6.093903064727783}\n"
     ]
    },
    {
     "name": "stderr",
     "output_type": "stream",
     "text": [
      "EP_train:0:  35%|| 2393/6926 [04:08<07:46,  9.72it/s]"
     ]
    },
    {
     "name": "stdout",
     "output_type": "stream",
     "text": [
      "{'epoch': 0, 'iter': 2390, 'avg_loss': 6.480069301657874, 'avg_acc': 50.277080719364285, 'loss': 5.717189788818359}\n"
     ]
    },
    {
     "name": "stderr",
     "output_type": "stream",
     "text": [
      "EP_train:0:  35%|| 2402/6926 [04:09<07:37,  9.89it/s]"
     ]
    },
    {
     "name": "stdout",
     "output_type": "stream",
     "text": [
      "{'epoch': 0, 'iter': 2400, 'avg_loss': 6.477239957902393, 'avg_acc': 50.274625156184925, 'loss': 5.801021575927734}\n"
     ]
    },
    {
     "name": "stderr",
     "output_type": "stream",
     "text": [
      "EP_train:0:  35%|| 2413/6926 [04:10<07:30, 10.01it/s]"
     ]
    },
    {
     "name": "stdout",
     "output_type": "stream",
     "text": [
      "{'epoch': 0, 'iter': 2410, 'avg_loss': 6.47458630407168, 'avg_acc': 50.26959767731232, 'loss': 5.869316101074219}\n"
     ]
    },
    {
     "name": "stderr",
     "output_type": "stream",
     "text": [
      "EP_train:0:  35%|| 2422/6926 [04:11<07:37,  9.85it/s]"
     ]
    },
    {
     "name": "stdout",
     "output_type": "stream",
     "text": [
      "{'epoch': 0, 'iter': 2420, 'avg_loss': 6.471232503074006, 'avg_acc': 50.265902519619985, 'loss': 5.5582170486450195}\n"
     ]
    },
    {
     "name": "stderr",
     "output_type": "stream",
     "text": [
      "EP_train:0:  35%|| 2432/6926 [04:12<07:42,  9.72it/s]"
     ]
    },
    {
     "name": "stdout",
     "output_type": "stream",
     "text": [
      "{'epoch': 0, 'iter': 2430, 'avg_loss': 6.468965452720677, 'avg_acc': 50.26866515837104, 'loss': 6.0367231369018555}\n"
     ]
    },
    {
     "name": "stderr",
     "output_type": "stream",
     "text": [
      "EP_train:0:  35%|| 2441/6926 [04:13<07:35,  9.85it/s]"
     ]
    },
    {
     "name": "stdout",
     "output_type": "stream",
     "text": [
      "{'epoch': 0, 'iter': 2440, 'avg_loss': 6.46630876233274, 'avg_acc': 50.271405161818926, 'loss': 5.746877193450928}\n"
     ]
    },
    {
     "name": "stderr",
     "output_type": "stream",
     "text": [
      "EP_train:0:  35%|| 2452/6926 [04:14<07:55,  9.41it/s]"
     ]
    },
    {
     "name": "stdout",
     "output_type": "stream",
     "text": [
      "{'epoch': 0, 'iter': 2450, 'avg_loss': 6.4635562213865025, 'avg_acc': 50.29707262341901, 'loss': 5.32081413269043}\n"
     ]
    },
    {
     "name": "stderr",
     "output_type": "stream",
     "text": [
      "EP_train:0:  36%|| 2462/6926 [04:15<07:46,  9.58it/s]"
     ]
    },
    {
     "name": "stdout",
     "output_type": "stream",
     "text": [
      "{'epoch': 0, 'iter': 2460, 'avg_loss': 6.460940164746622, 'avg_acc': 50.29586550182853, 'loss': 5.753730297088623}\n"
     ]
    },
    {
     "name": "stderr",
     "output_type": "stream",
     "text": [
      "EP_train:0:  36%|| 2473/6926 [04:16<07:27,  9.96it/s]"
     ]
    },
    {
     "name": "stdout",
     "output_type": "stream",
     "text": [
      "{'epoch': 0, 'iter': 2470, 'avg_loss': 6.458163331076955, 'avg_acc': 50.2921388101983, 'loss': 5.381397247314453}\n"
     ]
    },
    {
     "name": "stderr",
     "output_type": "stream",
     "text": [
      "EP_train:0:  36%|| 2482/6926 [04:17<07:44,  9.57it/s]"
     ]
    },
    {
     "name": "stdout",
     "output_type": "stream",
     "text": [
      "{'epoch': 0, 'iter': 2480, 'avg_loss': 6.454748669731574, 'avg_acc': 50.28088472390165, 'loss': 5.883728504180908}\n"
     ]
    },
    {
     "name": "stderr",
     "output_type": "stream",
     "text": [
      "EP_train:0:  36%|| 2493/6926 [04:18<07:19, 10.08it/s]"
     ]
    },
    {
     "name": "stdout",
     "output_type": "stream",
     "text": [
      "{'epoch': 0, 'iter': 2490, 'avg_loss': 6.452668173731403, 'avg_acc': 50.2697209955841, 'loss': 6.256468296051025}\n"
     ]
    },
    {
     "name": "stderr",
     "output_type": "stream",
     "text": [
      "EP_train:0:  36%|| 2503/6926 [04:19<07:13, 10.20it/s]"
     ]
    },
    {
     "name": "stdout",
     "output_type": "stream",
     "text": [
      "{'epoch': 0, 'iter': 2500, 'avg_loss': 6.449738438631811, 'avg_acc': 50.243652538984406, 'loss': 5.93745756149292}\n"
     ]
    },
    {
     "name": "stderr",
     "output_type": "stream",
     "text": [
      "EP_train:0:  36%|| 2513/6926 [04:20<07:20, 10.01it/s]"
     ]
    },
    {
     "name": "stdout",
     "output_type": "stream",
     "text": [
      "{'epoch': 0, 'iter': 2510, 'avg_loss': 6.446623407194501, 'avg_acc': 50.23521505376344, 'loss': 5.562384128570557}\n"
     ]
    },
    {
     "name": "stderr",
     "output_type": "stream",
     "text": [
      "EP_train:0:  36%|| 2522/6926 [04:21<07:24,  9.91it/s]"
     ]
    },
    {
     "name": "stdout",
     "output_type": "stream",
     "text": [
      "{'epoch': 0, 'iter': 2520, 'avg_loss': 6.4439636661343425, 'avg_acc': 50.23800079333598, 'loss': 5.874356746673584}\n"
     ]
    },
    {
     "name": "stderr",
     "output_type": "stream",
     "text": [
      "EP_train:0:  37%|| 2533/6926 [04:22<07:34,  9.66it/s]"
     ]
    },
    {
     "name": "stdout",
     "output_type": "stream",
     "text": [
      "{'epoch': 0, 'iter': 2530, 'avg_loss': 6.441129580075351, 'avg_acc': 50.244468589490324, 'loss': 6.120593547821045}\n"
     ]
    },
    {
     "name": "stderr",
     "output_type": "stream",
     "text": [
      "EP_train:0:  37%|| 2542/6926 [04:23<07:31,  9.71it/s]"
     ]
    },
    {
     "name": "stdout",
     "output_type": "stream",
     "text": [
      "{'epoch': 0, 'iter': 2540, 'avg_loss': 6.4381505608887055, 'avg_acc': 50.22874852420307, 'loss': 5.3209333419799805}\n"
     ]
    },
    {
     "name": "stderr",
     "output_type": "stream",
     "text": [
      "EP_train:0:  37%|| 2552/6926 [04:24<07:40,  9.49it/s]"
     ]
    },
    {
     "name": "stdout",
     "output_type": "stream",
     "text": [
      "{'epoch': 0, 'iter': 2550, 'avg_loss': 6.436044688133201, 'avg_acc': 50.24500196001568, 'loss': 5.973159313201904}\n"
     ]
    },
    {
     "name": "stderr",
     "output_type": "stream",
     "text": [
      "EP_train:0:  37%|| 2563/6926 [04:25<07:33,  9.63it/s]"
     ]
    },
    {
     "name": "stdout",
     "output_type": "stream",
     "text": [
      "{'epoch': 0, 'iter': 2560, 'avg_loss': 6.433329027176648, 'avg_acc': 50.25258688012495, 'loss': 5.543929576873779}\n"
     ]
    },
    {
     "name": "stderr",
     "output_type": "stream",
     "text": [
      "EP_train:0:  37%|| 2572/6926 [04:26<07:22,  9.85it/s]"
     ]
    },
    {
     "name": "stdout",
     "output_type": "stream",
     "text": [
      "{'epoch': 0, 'iter': 2570, 'avg_loss': 6.430698545004134, 'avg_acc': 50.22851030727343, 'loss': 5.402037143707275}\n"
     ]
    },
    {
     "name": "stderr",
     "output_type": "stream",
     "text": [
      "EP_train:0:  37%|| 2582/6926 [04:27<07:18,  9.91it/s]"
     ]
    },
    {
     "name": "stdout",
     "output_type": "stream",
     "text": [
      "{'epoch': 0, 'iter': 2580, 'avg_loss': 6.428192887274806, 'avg_acc': 50.20704184424641, 'loss': 6.488743782043457}\n"
     ]
    },
    {
     "name": "stderr",
     "output_type": "stream",
     "text": [
      "EP_train:0:  37%|| 2592/6926 [04:28<07:04, 10.22it/s]"
     ]
    },
    {
     "name": "stdout",
     "output_type": "stream",
     "text": [
      "{'epoch': 0, 'iter': 2590, 'avg_loss': 6.425804504231107, 'avg_acc': 50.191769587032034, 'loss': 5.780491828918457}\n"
     ]
    },
    {
     "name": "stderr",
     "output_type": "stream",
     "text": [
      "EP_train:0:  38%|| 2602/6926 [04:29<07:02, 10.23it/s]"
     ]
    },
    {
     "name": "stdout",
     "output_type": "stream",
     "text": [
      "{'epoch': 0, 'iter': 2600, 'avg_loss': 6.4229600580780835, 'avg_acc': 50.180219146482116, 'loss': 5.110947608947754}\n"
     ]
    },
    {
     "name": "stderr",
     "output_type": "stream",
     "text": [
      "EP_train:0:  38%|| 2612/6926 [04:30<06:57, 10.34it/s]"
     ]
    },
    {
     "name": "stdout",
     "output_type": "stream",
     "text": [
      "{'epoch': 0, 'iter': 2610, 'avg_loss': 6.420438779080704, 'avg_acc': 50.18192263500575, 'loss': 5.572737693786621}\n"
     ]
    },
    {
     "name": "stderr",
     "output_type": "stream",
     "text": [
      "EP_train:0:  38%|| 2623/6926 [04:31<07:09, 10.02it/s]"
     ]
    },
    {
     "name": "stdout",
     "output_type": "stream",
     "text": [
      "{'epoch': 0, 'iter': 2620, 'avg_loss': 6.418338984489805, 'avg_acc': 50.17884395268981, 'loss': 5.662655353546143}\n"
     ]
    },
    {
     "name": "stderr",
     "output_type": "stream",
     "text": [
      "EP_train:0:  38%|| 2632/6926 [04:32<07:18,  9.79it/s]"
     ]
    },
    {
     "name": "stdout",
     "output_type": "stream",
     "text": [
      "{'epoch': 0, 'iter': 2630, 'avg_loss': 6.4163527970801555, 'avg_acc': 50.17578867350817, 'loss': 6.283232688903809}\n"
     ]
    },
    {
     "name": "stderr",
     "output_type": "stream",
     "text": [
      "EP_train:0:  38%|| 2643/6926 [04:33<06:54, 10.34it/s]"
     ]
    },
    {
     "name": "stdout",
     "output_type": "stream",
     "text": [
      "{'epoch': 0, 'iter': 2640, 'avg_loss': 6.41382788329899, 'avg_acc': 50.170390003786444, 'loss': 5.368056297302246}\n"
     ]
    },
    {
     "name": "stderr",
     "output_type": "stream",
     "text": [
      "EP_train:0:  38%|| 2653/6926 [04:34<06:44, 10.56it/s]"
     ]
    },
    {
     "name": "stdout",
     "output_type": "stream",
     "text": [
      "{'epoch': 0, 'iter': 2650, 'avg_loss': 6.410957549932272, 'avg_acc': 50.18389287061487, 'loss': 5.794641494750977}\n"
     ]
    },
    {
     "name": "stderr",
     "output_type": "stream",
     "text": [
      "EP_train:0:  38%|| 2663/6926 [04:35<06:52, 10.34it/s]"
     ]
    },
    {
     "name": "stdout",
     "output_type": "stream",
     "text": [
      "{'epoch': 0, 'iter': 2660, 'avg_loss': 6.408082141861885, 'avg_acc': 50.19259676813228, 'loss': 5.5630202293396}\n"
     ]
    },
    {
     "name": "stderr",
     "output_type": "stream",
     "text": [
      "EP_train:0:  39%|| 2673/6926 [04:36<07:02, 10.07it/s]"
     ]
    },
    {
     "name": "stdout",
     "output_type": "stream",
     "text": [
      "{'epoch': 0, 'iter': 2670, 'avg_loss': 6.406297045850165, 'avg_acc': 50.18485585922875, 'loss': 5.884188652038574}\n"
     ]
    },
    {
     "name": "stderr",
     "output_type": "stream",
     "text": [
      "EP_train:0:  39%|| 2683/6926 [04:37<06:49, 10.35it/s]"
     ]
    },
    {
     "name": "stdout",
     "output_type": "stream",
     "text": [
      "{'epoch': 0, 'iter': 2680, 'avg_loss': 6.403546926647103, 'avg_acc': 50.1876631853786, 'loss': 6.106266975402832}\n"
     ]
    },
    {
     "name": "stderr",
     "output_type": "stream",
     "text": [
      "EP_train:0:  39%|| 2693/6926 [04:38<07:00, 10.07it/s]"
     ]
    },
    {
     "name": "stdout",
     "output_type": "stream",
     "text": [
      "{'epoch': 0, 'iter': 2690, 'avg_loss': 6.4015874017441154, 'avg_acc': 50.16838535860275, 'loss': 5.566682815551758}\n"
     ]
    },
    {
     "name": "stderr",
     "output_type": "stream",
     "text": [
      "EP_train:0:  39%|| 2703/6926 [04:39<06:48, 10.34it/s]"
     ]
    },
    {
     "name": "stdout",
     "output_type": "stream",
     "text": [
      "{'epoch': 0, 'iter': 2700, 'avg_loss': 6.3990301054877206, 'avg_acc': 50.165447982228805, 'loss': 5.2159647941589355}\n"
     ]
    },
    {
     "name": "stderr",
     "output_type": "stream",
     "text": [
      "EP_train:0:  39%|| 2712/6926 [04:40<07:09,  9.81it/s]"
     ]
    },
    {
     "name": "stdout",
     "output_type": "stream",
     "text": [
      "{'epoch': 0, 'iter': 2710, 'avg_loss': 6.397210938690422, 'avg_acc': 50.1855864994467, 'loss': 5.527634143829346}\n"
     ]
    },
    {
     "name": "stderr",
     "output_type": "stream",
     "text": [
      "EP_train:0:  39%|| 2723/6926 [04:41<06:58, 10.04it/s]"
     ]
    },
    {
     "name": "stdout",
     "output_type": "stream",
     "text": [
      "{'epoch': 0, 'iter': 2720, 'avg_loss': 6.395350092783083, 'avg_acc': 50.17571664829107, 'loss': 5.8794145584106445}\n"
     ]
    },
    {
     "name": "stderr",
     "output_type": "stream",
     "text": [
      "EP_train:0:  39%|| 2733/6926 [04:42<06:51, 10.18it/s]"
     ]
    },
    {
     "name": "stdout",
     "output_type": "stream",
     "text": [
      "{'epoch': 0, 'iter': 2730, 'avg_loss': 6.393484218615571, 'avg_acc': 50.168207616257774, 'loss': 6.109095573425293}\n"
     ]
    },
    {
     "name": "stderr",
     "output_type": "stream",
     "text": [
      "EP_train:0:  40%|| 2743/6926 [04:43<06:50, 10.19it/s]"
     ]
    },
    {
     "name": "stdout",
     "output_type": "stream",
     "text": [
      "{'epoch': 0, 'iter': 2740, 'avg_loss': 6.390854283868288, 'avg_acc': 50.18469536665451, 'loss': 5.083176136016846}\n"
     ]
    },
    {
     "name": "stderr",
     "output_type": "stream",
     "text": [
      "EP_train:0:  40%|| 2753/6926 [04:44<06:35, 10.56it/s]"
     ]
    },
    {
     "name": "stdout",
     "output_type": "stream",
     "text": [
      "{'epoch': 0, 'iter': 2750, 'avg_loss': 6.388041940354209, 'avg_acc': 50.18515994183933, 'loss': 5.414291858673096}\n"
     ]
    },
    {
     "name": "stderr",
     "output_type": "stream",
     "text": [
      "EP_train:0:  40%|| 2761/6926 [04:45<06:38, 10.45it/s]"
     ]
    },
    {
     "name": "stdout",
     "output_type": "stream",
     "text": [
      "{'epoch': 0, 'iter': 2760, 'avg_loss': 6.385626408294766, 'avg_acc': 50.17769829771822, 'loss': 5.549063205718994}\n"
     ]
    },
    {
     "name": "stderr",
     "output_type": "stream",
     "text": [
      "EP_train:0:  40%|| 2773/6926 [04:46<06:31, 10.61it/s]"
     ]
    },
    {
     "name": "stdout",
     "output_type": "stream",
     "text": [
      "{'epoch': 0, 'iter': 2770, 'avg_loss': 6.3834790507192345, 'avg_acc': 50.17818477084085, 'loss': 5.8125224113464355}\n"
     ]
    },
    {
     "name": "stderr",
     "output_type": "stream",
     "text": [
      "EP_train:0:  40%|| 2783/6926 [04:47<06:47, 10.17it/s]"
     ]
    },
    {
     "name": "stdout",
     "output_type": "stream",
     "text": [
      "{'epoch': 0, 'iter': 2780, 'avg_loss': 6.380807292757168, 'avg_acc': 50.17304926285509, 'loss': 5.986509323120117}\n"
     ]
    },
    {
     "name": "stderr",
     "output_type": "stream",
     "text": [
      "EP_train:0:  40%|| 2793/6926 [04:48<07:06,  9.69it/s]"
     ]
    },
    {
     "name": "stdout",
     "output_type": "stream",
     "text": [
      "{'epoch': 0, 'iter': 2790, 'avg_loss': 6.378370833456708, 'avg_acc': 50.17914725904694, 'loss': 5.3210272789001465}\n"
     ]
    },
    {
     "name": "stderr",
     "output_type": "stream",
     "text": [
      "EP_train:0:  40%|| 2803/6926 [04:49<06:33, 10.48it/s]"
     ]
    },
    {
     "name": "stdout",
     "output_type": "stream",
     "text": [
      "{'epoch': 0, 'iter': 2800, 'avg_loss': 6.376059277148725, 'avg_acc': 50.16623527311674, 'loss': 5.454554080963135}\n"
     ]
    },
    {
     "name": "stderr",
     "output_type": "stream",
     "text": [
      "EP_train:0:  41%|| 2813/6926 [04:50<06:48, 10.06it/s]"
     ]
    },
    {
     "name": "stdout",
     "output_type": "stream",
     "text": [
      "{'epoch': 0, 'iter': 2810, 'avg_loss': 6.373915368320678, 'avg_acc': 50.1689790110281, 'loss': 6.127832889556885}\n"
     ]
    },
    {
     "name": "stderr",
     "output_type": "stream",
     "text": [
      "EP_train:0:  41%|| 2823/6926 [04:51<06:42, 10.18it/s]"
     ]
    },
    {
     "name": "stdout",
     "output_type": "stream",
     "text": [
      "{'epoch': 0, 'iter': 2820, 'avg_loss': 6.371583404966974, 'avg_acc': 50.16948777029422, 'loss': 5.697772026062012}\n"
     ]
    },
    {
     "name": "stderr",
     "output_type": "stream",
     "text": [
      "EP_train:0:  41%|| 2833/6926 [04:52<06:36, 10.32it/s]"
     ]
    },
    {
     "name": "stdout",
     "output_type": "stream",
     "text": [
      "{'epoch': 0, 'iter': 2830, 'avg_loss': 6.369931919841706, 'avg_acc': 50.179927587424935, 'loss': 6.288483142852783}\n"
     ]
    },
    {
     "name": "stderr",
     "output_type": "stream",
     "text": [
      "EP_train:0:  41%|| 2842/6926 [04:53<07:00,  9.72it/s]"
     ]
    },
    {
     "name": "stdout",
     "output_type": "stream",
     "text": [
      "{'epoch': 0, 'iter': 2840, 'avg_loss': 6.367841645555989, 'avg_acc': 50.16939457937346, 'loss': 5.761977672576904}\n"
     ]
    },
    {
     "name": "stderr",
     "output_type": "stream",
     "text": [
      "EP_train:0:  41%|| 2852/6926 [04:54<07:11,  9.44it/s]"
     ]
    },
    {
     "name": "stdout",
     "output_type": "stream",
     "text": [
      "{'epoch': 0, 'iter': 2850, 'avg_loss': 6.365958675757829, 'avg_acc': 50.185242020343736, 'loss': 5.678610801696777}\n"
     ]
    },
    {
     "name": "stderr",
     "output_type": "stream",
     "text": [
      "EP_train:0:  41%|| 2862/6926 [04:55<07:11,  9.41it/s]"
     ]
    },
    {
     "name": "stdout",
     "output_type": "stream",
     "text": [
      "{'epoch': 0, 'iter': 2860, 'avg_loss': 6.36387028672486, 'avg_acc': 50.199886403355464, 'loss': 5.457279682159424}\n"
     ]
    },
    {
     "name": "stderr",
     "output_type": "stream",
     "text": [
      "EP_train:0:  41%|| 2872/6926 [04:56<07:30,  9.00it/s]"
     ]
    },
    {
     "name": "stdout",
     "output_type": "stream",
     "text": [
      "{'epoch': 0, 'iter': 2870, 'avg_loss': 6.361952782009421, 'avg_acc': 50.19374782305817, 'loss': 5.033594608306885}\n"
     ]
    },
    {
     "name": "stderr",
     "output_type": "stream",
     "text": [
      "EP_train:0:  42%|| 2883/6926 [04:57<06:42, 10.05it/s]"
     ]
    },
    {
     "name": "stdout",
     "output_type": "stream",
     "text": [
      "{'epoch': 0, 'iter': 2880, 'avg_loss': 6.359567208904146, 'avg_acc': 50.20283755640402, 'loss': 5.847573757171631}\n"
     ]
    },
    {
     "name": "stderr",
     "output_type": "stream",
     "text": [
      "EP_train:0:  42%|| 2892/6926 [04:58<06:43, 10.00it/s]"
     ]
    },
    {
     "name": "stdout",
     "output_type": "stream",
     "text": [
      "{'epoch': 0, 'iter': 2890, 'avg_loss': 6.357217063956589, 'avg_acc': 50.19673123486683, 'loss': 5.702342510223389}\n"
     ]
    },
    {
     "name": "stderr",
     "output_type": "stream",
     "text": [
      "EP_train:0:  42%|| 2902/6926 [04:59<06:57,  9.63it/s]"
     ]
    },
    {
     "name": "stdout",
     "output_type": "stream",
     "text": [
      "{'epoch': 0, 'iter': 2900, 'avg_loss': 6.355229149601123, 'avg_acc': 50.18958979662186, 'loss': 5.936452388763428}\n"
     ]
    },
    {
     "name": "stderr",
     "output_type": "stream",
     "text": [
      "EP_train:0:  42%|| 2912/6926 [05:00<06:57,  9.62it/s]"
     ]
    },
    {
     "name": "stdout",
     "output_type": "stream",
     "text": [
      "{'epoch': 0, 'iter': 2910, 'avg_loss': 6.353242070025408, 'avg_acc': 50.20933527997252, 'loss': 5.792060375213623}\n"
     ]
    },
    {
     "name": "stderr",
     "output_type": "stream",
     "text": [
      "EP_train:0:  42%|| 2923/6926 [05:01<06:45,  9.88it/s]"
     ]
    },
    {
     "name": "stdout",
     "output_type": "stream",
     "text": [
      "{'epoch': 0, 'iter': 2920, 'avg_loss': 6.351346426000338, 'avg_acc': 50.19257103731599, 'loss': 5.786090850830078}\n"
     ]
    },
    {
     "name": "stderr",
     "output_type": "stream",
     "text": [
      "EP_train:0:  42%|| 2933/6926 [05:02<06:46,  9.82it/s]"
     ]
    },
    {
     "name": "stdout",
     "output_type": "stream",
     "text": [
      "{'epoch': 0, 'iter': 2930, 'avg_loss': 6.3495087259176115, 'avg_acc': 50.18871545547595, 'loss': 5.664392471313477}\n"
     ]
    },
    {
     "name": "stderr",
     "output_type": "stream",
     "text": [
      "EP_train:0:  42%|| 2942/6926 [05:03<06:54,  9.61it/s]"
     ]
    },
    {
     "name": "stdout",
     "output_type": "stream",
     "text": [
      "{'epoch': 0, 'iter': 2940, 'avg_loss': 6.347337206704647, 'avg_acc': 50.184886093165595, 'loss': 5.722905158996582}\n"
     ]
    },
    {
     "name": "stderr",
     "output_type": "stream",
     "text": [
      "EP_train:0:  43%|| 2952/6926 [05:04<07:03,  9.39it/s]"
     ]
    },
    {
     "name": "stdout",
     "output_type": "stream",
     "text": [
      "{'epoch': 0, 'iter': 2950, 'avg_loss': 6.345711021171267, 'avg_acc': 50.19590816672314, 'loss': 5.774703025817871}\n"
     ]
    },
    {
     "name": "stderr",
     "output_type": "stream",
     "text": [
      "EP_train:0:  43%|| 2962/6926 [05:05<07:06,  9.30it/s]"
     ]
    },
    {
     "name": "stdout",
     "output_type": "stream",
     "text": [
      "{'epoch': 0, 'iter': 2960, 'avg_loss': 6.343866208001433, 'avg_acc': 50.198412698412696, 'loss': 5.964873790740967}\n"
     ]
    },
    {
     "name": "stderr",
     "output_type": "stream",
     "text": [
      "EP_train:0:  43%|| 2972/6926 [05:06<07:15,  9.08it/s]"
     ]
    },
    {
     "name": "stdout",
     "output_type": "stream",
     "text": [
      "{'epoch': 0, 'iter': 2970, 'avg_loss': 6.341961041960561, 'avg_acc': 50.18617468865701, 'loss': 5.478205680847168}\n"
     ]
    },
    {
     "name": "stderr",
     "output_type": "stream",
     "text": [
      "EP_train:0:  43%|| 2982/6926 [05:07<07:01,  9.36it/s]"
     ]
    },
    {
     "name": "stdout",
     "output_type": "stream",
     "text": [
      "{'epoch': 0, 'iter': 2980, 'avg_loss': 6.340934182844959, 'avg_acc': 50.189743374706474, 'loss': 5.666337013244629}\n"
     ]
    },
    {
     "name": "stderr",
     "output_type": "stream",
     "text": [
      "EP_train:0:  43%|| 2993/6926 [05:09<06:59,  9.37it/s]"
     ]
    },
    {
     "name": "stdout",
     "output_type": "stream",
     "text": [
      "{'epoch': 0, 'iter': 2990, 'avg_loss': 6.339038835644762, 'avg_acc': 50.202691407556, 'loss': 5.6108198165893555}\n"
     ]
    },
    {
     "name": "stderr",
     "output_type": "stream",
     "text": [
      "EP_train:0:  43%|| 3003/6926 [05:10<06:41,  9.76it/s]"
     ]
    },
    {
     "name": "stdout",
     "output_type": "stream",
     "text": [
      "{'epoch': 0, 'iter': 3000, 'avg_loss': 6.337454983489746, 'avg_acc': 50.214511829390204, 'loss': 5.972031116485596}\n"
     ]
    },
    {
     "name": "stderr",
     "output_type": "stream",
     "text": [
      "EP_train:0:  43%|| 3012/6926 [05:11<06:57,  9.38it/s]"
     ]
    },
    {
     "name": "stdout",
     "output_type": "stream",
     "text": [
      "{'epoch': 0, 'iter': 3010, 'avg_loss': 6.335469872561138, 'avg_acc': 50.21276154101627, 'loss': 5.385056495666504}\n"
     ]
    },
    {
     "name": "stderr",
     "output_type": "stream",
     "text": [
      "EP_train:0:  44%|| 3023/6926 [05:12<06:34,  9.89it/s]"
     ]
    },
    {
     "name": "stdout",
     "output_type": "stream",
     "text": [
      "{'epoch': 0, 'iter': 3020, 'avg_loss': 6.333674943672036, 'avg_acc': 50.22653922542205, 'loss': 5.635902404785156}\n"
     ]
    },
    {
     "name": "stderr",
     "output_type": "stream",
     "text": [
      "EP_train:0:  44%|| 3032/6926 [05:13<06:39,  9.74it/s]"
     ]
    },
    {
     "name": "stdout",
     "output_type": "stream",
     "text": [
      "{'epoch': 0, 'iter': 3030, 'avg_loss': 6.3323423263854375, 'avg_acc': 50.21754371494557, 'loss': 6.5326056480407715}\n"
     ]
    },
    {
     "name": "stderr",
     "output_type": "stream",
     "text": [
      "EP_train:0:  44%|| 3042/6926 [05:14<06:57,  9.30it/s]"
     ]
    },
    {
     "name": "stdout",
     "output_type": "stream",
     "text": [
      "{'epoch': 0, 'iter': 3040, 'avg_loss': 6.330372789509004, 'avg_acc': 50.225049325879645, 'loss': 5.525318145751953}\n"
     ]
    },
    {
     "name": "stderr",
     "output_type": "stream",
     "text": [
      "EP_train:0:  44%|| 3052/6926 [05:15<06:56,  9.30it/s]"
     ]
    },
    {
     "name": "stdout",
     "output_type": "stream",
     "text": [
      "{'epoch': 0, 'iter': 3050, 'avg_loss': 6.328055635275351, 'avg_acc': 50.21714192068174, 'loss': 5.9283342361450195}\n"
     ]
    },
    {
     "name": "stderr",
     "output_type": "stream",
     "text": [
      "EP_train:0:  44%|| 3062/6926 [05:16<06:48,  9.46it/s]"
     ]
    },
    {
     "name": "stdout",
     "output_type": "stream",
     "text": [
      "{'epoch': 0, 'iter': 3060, 'avg_loss': 6.326604243860802, 'avg_acc': 50.22868343678536, 'loss': 6.284068584442139}\n"
     ]
    },
    {
     "name": "stderr",
     "output_type": "stream",
     "text": [
      "EP_train:0:  44%|| 3072/6926 [05:17<06:40,  9.62it/s]"
     ]
    },
    {
     "name": "stdout",
     "output_type": "stream",
     "text": [
      "{'epoch': 0, 'iter': 3070, 'avg_loss': 6.3252023959617905, 'avg_acc': 50.229973949853466, 'loss': 5.947385311126709}\n"
     ]
    },
    {
     "name": "stderr",
     "output_type": "stream",
     "text": [
      "EP_train:0:  44%|| 3081/6926 [05:18<06:34,  9.75it/s]"
     ]
    },
    {
     "name": "stdout",
     "output_type": "stream",
     "text": [
      "{'epoch': 0, 'iter': 3080, 'avg_loss': 6.323678433450156, 'avg_acc': 50.217056150600456, 'loss': 6.327600479125977}\n"
     ]
    },
    {
     "name": "stderr",
     "output_type": "stream",
     "text": [
      "EP_train:0:  45%|| 3092/6926 [05:19<06:31,  9.80it/s]"
     ]
    },
    {
     "name": "stdout",
     "output_type": "stream",
     "text": [
      "{'epoch': 0, 'iter': 3090, 'avg_loss': 6.3218854265820825, 'avg_acc': 50.21230993206082, 'loss': 5.917821407318115}\n"
     ]
    },
    {
     "name": "stderr",
     "output_type": "stream",
     "text": [
      "EP_train:0:  45%|| 3103/6926 [05:20<06:35,  9.67it/s]"
     ]
    },
    {
     "name": "stdout",
     "output_type": "stream",
     "text": [
      "{'epoch': 0, 'iter': 3100, 'avg_loss': 6.319867196216848, 'avg_acc': 50.2166639793615, 'loss': 5.801775932312012}\n"
     ]
    },
    {
     "name": "stderr",
     "output_type": "stream",
     "text": [
      "EP_train:0:  45%|| 3112/6926 [05:21<06:28,  9.83it/s]"
     ]
    },
    {
     "name": "stdout",
     "output_type": "stream",
     "text": [
      "{'epoch': 0, 'iter': 3110, 'avg_loss': 6.31809332668877, 'avg_acc': 50.205922532947596, 'loss': 6.0268120765686035}\n"
     ]
    },
    {
     "name": "stderr",
     "output_type": "stream",
     "text": [
      "EP_train:0:  45%|| 3122/6926 [05:22<06:15, 10.12it/s]"
     ]
    },
    {
     "name": "stdout",
     "output_type": "stream",
     "text": [
      "{'epoch': 0, 'iter': 3120, 'avg_loss': 6.316511339959484, 'avg_acc': 50.20926786286447, 'loss': 6.09593391418457}\n"
     ]
    },
    {
     "name": "stderr",
     "output_type": "stream",
     "text": [
      "EP_train:0:  45%|| 3132/6926 [05:23<06:41,  9.44it/s]"
     ]
    },
    {
     "name": "stdout",
     "output_type": "stream",
     "text": [
      "{'epoch': 0, 'iter': 3130, 'avg_loss': 6.315212926861578, 'avg_acc': 50.19662248482912, 'loss': 5.676015377044678}\n"
     ]
    },
    {
     "name": "stderr",
     "output_type": "stream",
     "text": [
      "EP_train:0:  45%|| 3143/6926 [05:24<06:13, 10.14it/s]"
     ]
    },
    {
     "name": "stdout",
     "output_type": "stream",
     "text": [
      "{'epoch': 0, 'iter': 3140, 'avg_loss': 6.313207969434775, 'avg_acc': 50.196991404011456, 'loss': 5.5948100090026855}\n"
     ]
    },
    {
     "name": "stderr",
     "output_type": "stream",
     "text": [
      "EP_train:0:  46%|| 3153/6926 [05:25<06:13, 10.11it/s]"
     ]
    },
    {
     "name": "stdout",
     "output_type": "stream",
     "text": [
      "{'epoch': 0, 'iter': 3150, 'avg_loss': 6.311391388564139, 'avg_acc': 50.21520945731513, 'loss': 5.591734409332275}\n"
     ]
    },
    {
     "name": "stderr",
     "output_type": "stream",
     "text": [
      "EP_train:0:  46%|| 3163/6926 [05:26<06:06, 10.26it/s]"
     ]
    },
    {
     "name": "stdout",
     "output_type": "stream",
     "text": [
      "{'epoch': 0, 'iter': 3160, 'avg_loss': 6.310043212168958, 'avg_acc': 50.216505852578294, 'loss': 5.225059509277344}\n"
     ]
    },
    {
     "name": "stderr",
     "output_type": "stream",
     "text": [
      "EP_train:0:  46%|| 3173/6926 [05:27<06:09, 10.16it/s]"
     ]
    },
    {
     "name": "stdout",
     "output_type": "stream",
     "text": [
      "{'epoch': 0, 'iter': 3170, 'avg_loss': 6.308317372265843, 'avg_acc': 50.206953642384114, 'loss': 5.5517730712890625}\n"
     ]
    },
    {
     "name": "stderr",
     "output_type": "stream",
     "text": [
      "EP_train:0:  46%|| 3183/6926 [05:28<06:04, 10.27it/s]"
     ]
    },
    {
     "name": "stdout",
     "output_type": "stream",
     "text": [
      "{'epoch': 0, 'iter': 3180, 'avg_loss': 6.306311194381786, 'avg_acc': 50.211215026721156, 'loss': 5.672423839569092}\n"
     ]
    },
    {
     "name": "stderr",
     "output_type": "stream",
     "text": [
      "EP_train:0:  46%|| 3193/6926 [05:29<06:08, 10.14it/s]"
     ]
    },
    {
     "name": "stdout",
     "output_type": "stream",
     "text": [
      "{'epoch': 0, 'iter': 3190, 'avg_loss': 6.304808912812188, 'avg_acc': 50.21936696960201, 'loss': 5.881217002868652}\n"
     ]
    },
    {
     "name": "stderr",
     "output_type": "stream",
     "text": [
      "EP_train:0:  46%|| 3201/6926 [05:30<06:12, 10.01it/s]"
     ]
    },
    {
     "name": "stdout",
     "output_type": "stream",
     "text": [
      "{'epoch': 0, 'iter': 3200, 'avg_loss': 6.303234533532192, 'avg_acc': 50.21575288972196, 'loss': 5.758096218109131}\n"
     ]
    },
    {
     "name": "stderr",
     "output_type": "stream",
     "text": [
      "EP_train:0:  46%|| 3211/6926 [05:31<05:59, 10.32it/s]"
     ]
    },
    {
     "name": "stdout",
     "output_type": "stream",
     "text": [
      "{'epoch': 0, 'iter': 3210, 'avg_loss': 6.30146771923696, 'avg_acc': 50.213134537527246, 'loss': 5.754734516143799}\n"
     ]
    },
    {
     "name": "stderr",
     "output_type": "stream",
     "text": [
      "EP_train:0:  47%|| 3223/6926 [05:32<06:07, 10.07it/s]"
     ]
    },
    {
     "name": "stdout",
     "output_type": "stream",
     "text": [
      "{'epoch': 0, 'iter': 3220, 'avg_loss': 6.3000521747194735, 'avg_acc': 50.20859205215772, 'loss': 5.895005702972412}\n"
     ]
    },
    {
     "name": "stderr",
     "output_type": "stream",
     "text": [
      "EP_train:0:  47%|| 3233/6926 [05:33<05:58, 10.31it/s]"
     ]
    },
    {
     "name": "stdout",
     "output_type": "stream",
     "text": [
      "{'epoch': 0, 'iter': 3230, 'avg_loss': 6.298757756763624, 'avg_acc': 50.20407768492726, 'loss': 5.690927028656006}\n"
     ]
    },
    {
     "name": "stderr",
     "output_type": "stream",
     "text": [
      "EP_train:0:  47%|| 3243/6926 [05:34<06:09,  9.98it/s]"
     ]
    },
    {
     "name": "stdout",
     "output_type": "stream",
     "text": [
      "{'epoch': 0, 'iter': 3240, 'avg_loss': 6.297331901804528, 'avg_acc': 50.20248380129589, 'loss': 6.1718854904174805}\n"
     ]
    },
    {
     "name": "stderr",
     "output_type": "stream",
     "text": [
      "EP_train:0:  47%|| 3253/6926 [05:35<06:07, 10.00it/s]"
     ]
    },
    {
     "name": "stdout",
     "output_type": "stream",
     "text": [
      "{'epoch': 0, 'iter': 3250, 'avg_loss': 6.29614304586837, 'avg_acc': 50.207628422024, 'loss': 5.818228721618652}\n"
     ]
    },
    {
     "name": "stderr",
     "output_type": "stream",
     "text": [
      "EP_train:0:  47%|| 3262/6926 [05:36<05:53, 10.36it/s]"
     ]
    },
    {
     "name": "stdout",
     "output_type": "stream",
     "text": [
      "{'epoch': 0, 'iter': 3260, 'avg_loss': 6.294852436630684, 'avg_acc': 50.202200245323525, 'loss': 5.877308368682861}\n"
     ]
    },
    {
     "name": "stderr",
     "output_type": "stream",
     "text": [
      "EP_train:0:  47%|| 3272/6926 [05:37<05:54, 10.31it/s]"
     ]
    },
    {
     "name": "stdout",
     "output_type": "stream",
     "text": [
      "{'epoch': 0, 'iter': 3270, 'avg_loss': 6.29309609394779, 'avg_acc': 50.20826964231122, 'loss': 5.237381935119629}\n"
     ]
    },
    {
     "name": "stderr",
     "output_type": "stream",
     "text": [
      "EP_train:0:  47%|| 3283/6926 [05:38<05:56, 10.23it/s]"
     ]
    },
    {
     "name": "stdout",
     "output_type": "stream",
     "text": [
      "{'epoch': 0, 'iter': 3280, 'avg_loss': 6.291927637177537, 'avg_acc': 50.20953977445901, 'loss': 5.825350761413574}\n"
     ]
    },
    {
     "name": "stderr",
     "output_type": "stream",
     "text": [
      "EP_train:0:  48%|| 3293/6926 [05:39<05:58, 10.14it/s]"
     ]
    },
    {
     "name": "stdout",
     "output_type": "stream",
     "text": [
      "{'epoch': 0, 'iter': 3290, 'avg_loss': 6.290677627289922, 'avg_acc': 50.21554998480705, 'loss': 5.306628704071045}\n"
     ]
    },
    {
     "name": "stderr",
     "output_type": "stream",
     "text": [
      "EP_train:0:  48%|| 3301/6926 [05:40<06:00, 10.05it/s]"
     ]
    },
    {
     "name": "stdout",
     "output_type": "stream",
     "text": [
      "{'epoch': 0, 'iter': 3300, 'avg_loss': 6.289169551747671, 'avg_acc': 50.21489700090882, 'loss': 5.703432559967041}\n"
     ]
    },
    {
     "name": "stderr",
     "output_type": "stream",
     "text": [
      "EP_train:0:  48%|| 3313/6926 [05:41<05:50, 10.32it/s]"
     ]
    },
    {
     "name": "stdout",
     "output_type": "stream",
     "text": [
      "{'epoch': 0, 'iter': 3310, 'avg_loss': 6.287662314850195, 'avg_acc': 50.226517668378136, 'loss': 6.241311073303223}\n"
     ]
    },
    {
     "name": "stderr",
     "output_type": "stream",
     "text": [
      "EP_train:0:  48%|| 3323/6926 [05:42<05:52, 10.23it/s]"
     ]
    },
    {
     "name": "stdout",
     "output_type": "stream",
     "text": [
      "{'epoch': 0, 'iter': 3320, 'avg_loss': 6.2864686280479996, 'avg_acc': 50.22113068352906, 'loss': 5.968801975250244}\n"
     ]
    },
    {
     "name": "stderr",
     "output_type": "stream",
     "text": [
      "EP_train:0:  48%|| 3333/6926 [05:43<05:43, 10.46it/s]"
     ]
    },
    {
     "name": "stdout",
     "output_type": "stream",
     "text": [
      "{'epoch': 0, 'iter': 3330, 'avg_loss': 6.284983857549085, 'avg_acc': 50.21483788652057, 'loss': 5.697807312011719}\n"
     ]
    },
    {
     "name": "stderr",
     "output_type": "stream",
     "text": [
      "EP_train:0:  48%|| 3343/6926 [05:44<05:51, 10.18it/s]"
     ]
    },
    {
     "name": "stdout",
     "output_type": "stream",
     "text": [
      "{'epoch': 0, 'iter': 3340, 'avg_loss': 6.283094435100676, 'avg_acc': 50.19548787788087, 'loss': 5.639997959136963}\n"
     ]
    },
    {
     "name": "stderr",
     "output_type": "stream",
     "text": [
      "EP_train:0:  48%|| 3353/6926 [05:45<05:55, 10.06it/s]"
     ]
    },
    {
     "name": "stdout",
     "output_type": "stream",
     "text": [
      "{'epoch': 0, 'iter': 3350, 'avg_loss': 6.281910442231627, 'avg_acc': 50.19770217845419, 'loss': 5.454881191253662}\n"
     ]
    },
    {
     "name": "stderr",
     "output_type": "stream",
     "text": [
      "EP_train:0:  49%|| 3363/6926 [05:46<05:45, 10.31it/s]"
     ]
    },
    {
     "name": "stdout",
     "output_type": "stream",
     "text": [
      "{'epoch': 0, 'iter': 3360, 'avg_loss': 6.280670174528041, 'avg_acc': 50.18409699494198, 'loss': 6.04792594909668}\n"
     ]
    },
    {
     "name": "stderr",
     "output_type": "stream",
     "text": [
      "EP_train:0:  49%|| 3373/6926 [05:47<05:53, 10.06it/s]"
     ]
    },
    {
     "name": "stdout",
     "output_type": "stream",
     "text": [
      "{'epoch': 0, 'iter': 3370, 'avg_loss': 6.279171626810432, 'avg_acc': 50.1993102936814, 'loss': 5.527037143707275}\n"
     ]
    },
    {
     "name": "stderr",
     "output_type": "stream",
     "text": [
      "EP_train:0:  49%|| 3383/6926 [05:48<05:38, 10.47it/s]"
     ]
    },
    {
     "name": "stdout",
     "output_type": "stream",
     "text": [
      "{'epoch': 0, 'iter': 3380, 'avg_loss': 6.27809029970956, 'avg_acc': 50.201493640934636, 'loss': 5.25135612487793}\n"
     ]
    },
    {
     "name": "stderr",
     "output_type": "stream",
     "text": [
      "EP_train:0:  49%|| 3393/6926 [05:49<05:45, 10.22it/s]"
     ]
    },
    {
     "name": "stdout",
     "output_type": "stream",
     "text": [
      "{'epoch': 0, 'iter': 3390, 'avg_loss': 6.276650966075064, 'avg_acc': 50.204585667944556, 'loss': 5.94406795501709}\n"
     ]
    },
    {
     "name": "stderr",
     "output_type": "stream",
     "text": [
      "EP_train:0:  49%|| 3403/6926 [05:50<05:41, 10.32it/s]"
     ]
    },
    {
     "name": "stdout",
     "output_type": "stream",
     "text": [
      "{'epoch': 0, 'iter': 3400, 'avg_loss': 6.275354768275794, 'avg_acc': 50.2012275801235, 'loss': 6.293854713439941}\n"
     ]
    },
    {
     "name": "stderr",
     "output_type": "stream",
     "text": [
      "EP_train:0:  49%|| 3413/6926 [05:51<05:44, 10.19it/s]"
     ]
    },
    {
     "name": "stdout",
     "output_type": "stream",
     "text": [
      "{'epoch': 0, 'iter': 3410, 'avg_loss': 6.273830883386232, 'avg_acc': 50.215296100850196, 'loss': 5.645224094390869}\n"
     ]
    },
    {
     "name": "stderr",
     "output_type": "stream",
     "text": [
      "EP_train:0:  49%|| 3423/6926 [05:52<05:56,  9.83it/s]"
     ]
    },
    {
     "name": "stdout",
     "output_type": "stream",
     "text": [
      "{'epoch': 0, 'iter': 3420, 'avg_loss': 6.272709351678718, 'avg_acc': 50.20918591055247, 'loss': 5.812211036682129}\n"
     ]
    },
    {
     "name": "stderr",
     "output_type": "stream",
     "text": [
      "EP_train:0:  50%|| 3433/6926 [05:53<05:36, 10.37it/s]"
     ]
    },
    {
     "name": "stdout",
     "output_type": "stream",
     "text": [
      "{'epoch': 0, 'iter': 3430, 'avg_loss': 6.271148866621755, 'avg_acc': 50.221327601282425, 'loss': 6.315999984741211}\n"
     ]
    },
    {
     "name": "stderr",
     "output_type": "stream",
     "text": [
      "EP_train:0:  50%|| 3441/6926 [05:53<05:43, 10.15it/s]"
     ]
    },
    {
     "name": "stdout",
     "output_type": "stream",
     "text": [
      "{'epoch': 0, 'iter': 3440, 'avg_loss': 6.269687185728144, 'avg_acc': 50.21886806161, 'loss': 5.801463603973389}\n"
     ]
    },
    {
     "name": "stderr",
     "output_type": "stream",
     "text": [
      "EP_train:0:  50%|| 3451/6926 [05:54<05:36, 10.34it/s]"
     ]
    },
    {
     "name": "stdout",
     "output_type": "stream",
     "text": [
      "{'epoch': 0, 'iter': 3450, 'avg_loss': 6.268337876925915, 'avg_acc': 50.22004491451754, 'loss': 5.446649074554443}\n"
     ]
    },
    {
     "name": "stderr",
     "output_type": "stream",
     "text": [
      "EP_train:0:  50%|| 3463/6926 [05:56<05:42, 10.10it/s]"
     ]
    },
    {
     "name": "stdout",
     "output_type": "stream",
     "text": [
      "{'epoch': 0, 'iter': 3460, 'avg_loss': 6.266793783535609, 'avg_acc': 50.22482663969951, 'loss': 5.97063684463501}\n"
     ]
    },
    {
     "name": "stderr",
     "output_type": "stream",
     "text": [
      "EP_train:0:  50%|| 3473/6926 [05:56<05:39, 10.17it/s]"
     ]
    },
    {
     "name": "stdout",
     "output_type": "stream",
     "text": [
      "{'epoch': 0, 'iter': 3470, 'avg_loss': 6.264954499228479, 'avg_acc': 50.22057764333046, 'loss': 5.566313743591309}\n"
     ]
    },
    {
     "name": "stderr",
     "output_type": "stream",
     "text": [
      "EP_train:0:  50%|| 3483/6926 [05:57<05:34, 10.28it/s]"
     ]
    },
    {
     "name": "stdout",
     "output_type": "stream",
     "text": [
      "{'epoch': 0, 'iter': 3480, 'avg_loss': 6.263460944898168, 'avg_acc': 50.21276213731686, 'loss': 6.100670337677002}\n"
     ]
    },
    {
     "name": "stderr",
     "output_type": "stream",
     "text": [
      "EP_train:0:  50%|| 3491/6926 [05:58<05:41, 10.07it/s]"
     ]
    },
    {
     "name": "stdout",
     "output_type": "stream",
     "text": [
      "{'epoch': 0, 'iter': 3490, 'avg_loss': 6.2616884806066695, 'avg_acc': 50.218418791177314, 'loss': 5.90677547454834}\n"
     ]
    },
    {
     "name": "stderr",
     "output_type": "stream",
     "text": [
      "EP_train:0:  51%|| 3503/6926 [05:59<05:35, 10.20it/s]"
     ]
    },
    {
     "name": "stdout",
     "output_type": "stream",
     "text": [
      "{'epoch': 0, 'iter': 3500, 'avg_loss': 6.260273936679451, 'avg_acc': 50.208868894601544, 'loss': 6.018866539001465}\n"
     ]
    },
    {
     "name": "stderr",
     "output_type": "stream",
     "text": [
      "EP_train:0:  51%|| 3513/6926 [06:00<05:24, 10.53it/s]"
     ]
    },
    {
     "name": "stdout",
     "output_type": "stream",
     "text": [
      "{'epoch': 0, 'iter': 3510, 'avg_loss': 6.258885791857879, 'avg_acc': 50.21450441469667, 'loss': 5.240952968597412}\n"
     ]
    },
    {
     "name": "stderr",
     "output_type": "stream",
     "text": [
      "EP_train:0:  51%|| 3521/6926 [06:01<05:26, 10.44it/s]"
     ]
    },
    {
     "name": "stdout",
     "output_type": "stream",
     "text": [
      "{'epoch': 0, 'iter': 3520, 'avg_loss': 6.257277383075726, 'avg_acc': 50.218332859982965, 'loss': 5.743488311767578}\n"
     ]
    },
    {
     "name": "stderr",
     "output_type": "stream",
     "text": [
      "EP_train:0:  51%|| 3533/6926 [06:02<05:24, 10.44it/s]"
     ]
    },
    {
     "name": "stdout",
     "output_type": "stream",
     "text": [
      "{'epoch': 0, 'iter': 3530, 'avg_loss': 6.255354093850351, 'avg_acc': 50.220369583687344, 'loss': 5.42073392868042}\n"
     ]
    },
    {
     "name": "stderr",
     "output_type": "stream",
     "text": [
      "EP_train:0:  51%|| 3543/6926 [06:03<05:23, 10.45it/s]"
     ]
    },
    {
     "name": "stdout",
     "output_type": "stream",
     "text": [
      "{'epoch': 0, 'iter': 3540, 'avg_loss': 6.254131180053038, 'avg_acc': 50.2170996893533, 'loss': 5.881969928741455}\n"
     ]
    },
    {
     "name": "stderr",
     "output_type": "stream",
     "text": [
      "EP_train:0:  51%|| 3553/6926 [06:04<05:25, 10.37it/s]"
     ]
    },
    {
     "name": "stdout",
     "output_type": "stream",
     "text": [
      "{'epoch': 0, 'iter': 3550, 'avg_loss': 6.252977882966428, 'avg_acc': 50.21648831315122, 'loss': 5.585848331451416}\n"
     ]
    },
    {
     "name": "stderr",
     "output_type": "stream",
     "text": [
      "EP_train:0:  51%|| 3562/6926 [06:05<05:47,  9.69it/s]"
     ]
    },
    {
     "name": "stdout",
     "output_type": "stream",
     "text": [
      "{'epoch': 0, 'iter': 3560, 'avg_loss': 6.251570602910835, 'avg_acc': 50.210614995787694, 'loss': 5.883410930633545}\n"
     ]
    },
    {
     "name": "stderr",
     "output_type": "stream",
     "text": [
      "EP_train:0:  52%|| 3572/6926 [06:06<05:34, 10.02it/s]"
     ]
    },
    {
     "name": "stdout",
     "output_type": "stream",
     "text": [
      "{'epoch': 0, 'iter': 3570, 'avg_loss': 6.250496603800983, 'avg_acc': 50.21615093811257, 'loss': 6.140909671783447}\n"
     ]
    },
    {
     "name": "stderr",
     "output_type": "stream",
     "text": [
      "EP_train:0:  52%|| 3582/6926 [06:07<05:35,  9.96it/s]"
     ]
    },
    {
     "name": "stdout",
     "output_type": "stream",
     "text": [
      "{'epoch': 0, 'iter': 3580, 'avg_loss': 6.249016490005242, 'avg_acc': 50.21031136554035, 'loss': 5.370192050933838}\n"
     ]
    },
    {
     "name": "stderr",
     "output_type": "stream",
     "text": [
      "EP_train:0:  52%|| 3592/6926 [06:08<05:32, 10.02it/s]"
     ]
    },
    {
     "name": "stdout",
     "output_type": "stream",
     "text": [
      "{'epoch': 0, 'iter': 3590, 'avg_loss': 6.2480451751970305, 'avg_acc': 50.19319131161236, 'loss': 6.326661109924316}\n"
     ]
    },
    {
     "name": "stderr",
     "output_type": "stream",
     "text": [
      "EP_train:0:  52%|| 3602/6926 [06:09<05:27, 10.16it/s]"
     ]
    },
    {
     "name": "stdout",
     "output_type": "stream",
     "text": [
      "{'epoch': 0, 'iter': 3600, 'avg_loss': 6.247028397706044, 'avg_acc': 50.196126076089975, 'loss': 5.466001987457275}\n"
     ]
    },
    {
     "name": "stderr",
     "output_type": "stream",
     "text": [
      "EP_train:0:  52%|| 3612/6926 [06:10<05:28, 10.10it/s]"
     ]
    },
    {
     "name": "stdout",
     "output_type": "stream",
     "text": [
      "{'epoch': 0, 'iter': 3610, 'avg_loss': 6.245477960565948, 'avg_acc': 50.20164081971753, 'loss': 5.517138481140137}\n"
     ]
    },
    {
     "name": "stderr",
     "output_type": "stream",
     "text": [
      "EP_train:0:  52%|| 3622/6926 [06:11<05:41,  9.69it/s]"
     ]
    },
    {
     "name": "stdout",
     "output_type": "stream",
     "text": [
      "{'epoch': 0, 'iter': 3620, 'avg_loss': 6.244174750659124, 'avg_acc': 50.22352250759459, 'loss': 5.540089130401611}\n"
     ]
    },
    {
     "name": "stderr",
     "output_type": "stream",
     "text": [
      "EP_train:0:  52%|| 3632/6926 [06:12<05:19, 10.31it/s]"
     ]
    },
    {
     "name": "stdout",
     "output_type": "stream",
     "text": [
      "{'epoch': 0, 'iter': 3630, 'avg_loss': 6.242260672507028, 'avg_acc': 50.22376755714679, 'loss': 5.58879280090332}\n"
     ]
    },
    {
     "name": "stderr",
     "output_type": "stream",
     "text": [
      "EP_train:0:  53%|| 3642/6926 [06:13<05:20, 10.25it/s]"
     ]
    },
    {
     "name": "stdout",
     "output_type": "stream",
     "text": [
      "{'epoch': 0, 'iter': 3640, 'avg_loss': 6.240885767167953, 'avg_acc': 50.226586102719025, 'loss': 5.306477069854736}\n"
     ]
    },
    {
     "name": "stderr",
     "output_type": "stream",
     "text": [
      "EP_train:0:  53%|| 3652/6926 [06:14<05:21, 10.17it/s]"
     ]
    },
    {
     "name": "stdout",
     "output_type": "stream",
     "text": [
      "{'epoch': 0, 'iter': 3650, 'avg_loss': 6.239303375067563, 'avg_acc': 50.22853327855382, 'loss': 5.518999099731445}\n"
     ]
    },
    {
     "name": "stderr",
     "output_type": "stream",
     "text": [
      "EP_train:0:  53%|| 3662/6926 [06:15<05:09, 10.54it/s]"
     ]
    },
    {
     "name": "stdout",
     "output_type": "stream",
     "text": [
      "{'epoch': 0, 'iter': 3660, 'avg_loss': 6.238293188512407, 'avg_acc': 50.22876263316034, 'loss': 5.508227348327637}\n"
     ]
    },
    {
     "name": "stderr",
     "output_type": "stream",
     "text": [
      "EP_train:0:  53%|| 3672/6926 [06:16<05:13, 10.38it/s]"
     ]
    },
    {
     "name": "stdout",
     "output_type": "stream",
     "text": [
      "{'epoch': 0, 'iter': 3670, 'avg_loss': 6.237170118104856, 'avg_acc': 50.21537047126123, 'loss': 5.625392436981201}\n"
     ]
    },
    {
     "name": "stderr",
     "output_type": "stream",
     "text": [
      "EP_train:0:  53%|| 3682/6926 [06:17<05:19, 10.15it/s]"
     ]
    },
    {
     "name": "stdout",
     "output_type": "stream",
     "text": [
      "{'epoch': 0, 'iter': 3680, 'avg_loss': 6.236016703830793, 'avg_acc': 50.20544688943222, 'loss': 6.174898624420166}\n"
     ]
    },
    {
     "name": "stderr",
     "output_type": "stream",
     "text": [
      "EP_train:0:  53%|| 3692/6926 [06:18<05:18, 10.17it/s]"
     ]
    },
    {
     "name": "stdout",
     "output_type": "stream",
     "text": [
      "{'epoch': 0, 'iter': 3690, 'avg_loss': 6.234530681324858, 'avg_acc': 50.209970197778375, 'loss': 5.339582443237305}\n"
     ]
    },
    {
     "name": "stderr",
     "output_type": "stream",
     "text": [
      "EP_train:0:  53%|| 3703/6926 [06:19<05:26,  9.87it/s]"
     ]
    },
    {
     "name": "stdout",
     "output_type": "stream",
     "text": [
      "{'epoch': 0, 'iter': 3700, 'avg_loss': 6.233041762532624, 'avg_acc': 50.213624696028106, 'loss': 5.4681830406188965}\n"
     ]
    },
    {
     "name": "stderr",
     "output_type": "stream",
     "text": [
      "EP_train:0:  54%|| 3713/6926 [06:20<05:06, 10.47it/s]"
     ]
    },
    {
     "name": "stdout",
     "output_type": "stream",
     "text": [
      "{'epoch': 0, 'iter': 3710, 'avg_loss': 6.231755849262095, 'avg_acc': 50.20547022365939, 'loss': 6.434950828552246}\n"
     ]
    },
    {
     "name": "stderr",
     "output_type": "stream",
     "text": [
      "EP_train:0:  54%|| 3723/6926 [06:21<05:08, 10.40it/s]"
     ]
    },
    {
     "name": "stdout",
     "output_type": "stream",
     "text": [
      "{'epoch': 0, 'iter': 3720, 'avg_loss': 6.230888841101573, 'avg_acc': 50.19567992475141, 'loss': 6.21390962600708}\n"
     ]
    },
    {
     "name": "stderr",
     "output_type": "stream",
     "text": [
      "EP_train:0:  54%|| 3731/6926 [06:22<05:16, 10.11it/s]"
     ]
    },
    {
     "name": "stdout",
     "output_type": "stream",
     "text": [
      "{'epoch': 0, 'iter': 3730, 'avg_loss': 6.22957583439954, 'avg_acc': 50.200180916644335, 'loss': 5.920682907104492}\n"
     ]
    },
    {
     "name": "stderr",
     "output_type": "stream",
     "text": [
      "EP_train:0:  54%|| 3741/6926 [06:23<05:11, 10.24it/s]"
     ]
    },
    {
     "name": "stdout",
     "output_type": "stream",
     "text": [
      "{'epoch': 0, 'iter': 3740, 'avg_loss': 6.228879680929258, 'avg_acc': 50.202151831061215, 'loss': 5.596534729003906}\n"
     ]
    },
    {
     "name": "stderr",
     "output_type": "stream",
     "text": [
      "EP_train:0:  54%|| 3753/6926 [06:24<05:03, 10.44it/s]"
     ]
    },
    {
     "name": "stdout",
     "output_type": "stream",
     "text": [
      "{'epoch': 0, 'iter': 3750, 'avg_loss': 6.227544529029319, 'avg_acc': 50.209110903759004, 'loss': 5.324009418487549}\n"
     ]
    },
    {
     "name": "stderr",
     "output_type": "stream",
     "text": [
      "EP_train:0:  54%|| 3761/6926 [06:25<05:06, 10.32it/s]"
     ]
    },
    {
     "name": "stdout",
     "output_type": "stream",
     "text": [
      "{'epoch': 0, 'iter': 3760, 'avg_loss': 6.226466713291443, 'avg_acc': 50.201907737303905, 'loss': 5.648995399475098}\n"
     ]
    },
    {
     "name": "stderr",
     "output_type": "stream",
     "text": [
      "EP_train:0:  54%|| 3773/6926 [06:26<05:06, 10.27it/s]"
     ]
    },
    {
     "name": "stdout",
     "output_type": "stream",
     "text": [
      "{'epoch': 0, 'iter': 3770, 'avg_loss': 6.225793270241579, 'avg_acc': 50.20883054892601, 'loss': 5.689051151275635}\n"
     ]
    },
    {
     "name": "stderr",
     "output_type": "stream",
     "text": [
      "EP_train:0:  55%|| 3782/6926 [06:27<05:18,  9.87it/s]"
     ]
    },
    {
     "name": "stdout",
     "output_type": "stream",
     "text": [
      "{'epoch': 0, 'iter': 3780, 'avg_loss': 6.224430832084731, 'avg_acc': 50.20414572864321, 'loss': 5.784777641296387}\n"
     ]
    },
    {
     "name": "stderr",
     "output_type": "stream",
     "text": [
      "EP_train:0:  55%|| 3792/6926 [06:28<05:14,  9.95it/s]"
     ]
    },
    {
     "name": "stdout",
     "output_type": "stream",
     "text": [
      "{'epoch': 0, 'iter': 3790, 'avg_loss': 6.223441205091383, 'avg_acc': 50.20278290688472, 'loss': 5.620481967926025}\n"
     ]
    },
    {
     "name": "stderr",
     "output_type": "stream",
     "text": [
      "EP_train:0:  55%|| 3801/6926 [06:29<05:13,  9.98it/s]"
     ]
    },
    {
     "name": "stdout",
     "output_type": "stream",
     "text": [
      "{'epoch': 0, 'iter': 3800, 'avg_loss': 6.222325091799822, 'avg_acc': 50.203893712181, 'loss': 6.036181449890137}\n"
     ]
    },
    {
     "name": "stderr",
     "output_type": "stream",
     "text": [
      "EP_train:0:  55%|| 3813/6926 [06:30<05:06, 10.16it/s]"
     ]
    },
    {
     "name": "stdout",
     "output_type": "stream",
     "text": [
      "{'epoch': 0, 'iter': 3810, 'avg_loss': 6.22118117408282, 'avg_acc': 50.207458672264494, 'loss': 5.784480571746826}\n"
     ]
    },
    {
     "name": "stderr",
     "output_type": "stream",
     "text": [
      "EP_train:0:  55%|| 3823/6926 [06:31<05:03, 10.23it/s]"
     ]
    },
    {
     "name": "stdout",
     "output_type": "stream",
     "text": [
      "{'epoch': 0, 'iter': 3820, 'avg_loss': 6.220004950790186, 'avg_acc': 50.21264066998168, 'loss': 5.893768310546875}\n"
     ]
    },
    {
     "name": "stderr",
     "output_type": "stream",
     "text": [
      "EP_train:0:  55%|| 3831/6926 [06:32<04:56, 10.43it/s]"
     ]
    },
    {
     "name": "stdout",
     "output_type": "stream",
     "text": [
      "{'epoch': 0, 'iter': 3830, 'avg_loss': 6.218964347575483, 'avg_acc': 50.20963847559384, 'loss': 5.521121501922607}\n"
     ]
    },
    {
     "name": "stderr",
     "output_type": "stream",
     "text": [
      "EP_train:0:  55%|| 3843/6926 [06:33<04:56, 10.39it/s]"
     ]
    },
    {
     "name": "stdout",
     "output_type": "stream",
     "text": [
      "{'epoch': 0, 'iter': 3840, 'avg_loss': 6.217299038654378, 'avg_acc': 50.209906274407714, 'loss': 5.301344871520996}\n"
     ]
    },
    {
     "name": "stderr",
     "output_type": "stream",
     "text": [
      "EP_train:0:  56%|| 3853/6926 [06:34<05:06, 10.04it/s]"
     ]
    },
    {
     "name": "stdout",
     "output_type": "stream",
     "text": [
      "{'epoch': 0, 'iter': 3850, 'avg_loss': 6.216084402897116, 'avg_acc': 50.212607115035055, 'loss': 5.580040454864502}\n"
     ]
    },
    {
     "name": "stderr",
     "output_type": "stream",
     "text": [
      "EP_train:0:  56%|| 3863/6926 [06:35<04:59, 10.23it/s]"
     ]
    },
    {
     "name": "stdout",
     "output_type": "stream",
     "text": [
      "{'epoch': 0, 'iter': 3860, 'avg_loss': 6.214852850414316, 'avg_acc': 50.21286583786584, 'loss': 5.566250324249268}\n"
     ]
    },
    {
     "name": "stderr",
     "output_type": "stream",
     "text": [
      "EP_train:0:  56%|| 3873/6926 [06:36<04:52, 10.44it/s]"
     ]
    },
    {
     "name": "stdout",
     "output_type": "stream",
     "text": [
      "{'epoch': 0, 'iter': 3870, 'avg_loss': 6.213723482749346, 'avg_acc': 50.21554507879101, 'loss': 5.338072299957275}\n"
     ]
    },
    {
     "name": "stderr",
     "output_type": "stream",
     "text": [
      "EP_train:0:  56%|| 3881/6926 [06:36<04:49, 10.51it/s]"
     ]
    },
    {
     "name": "stdout",
     "output_type": "stream",
     "text": [
      "{'epoch': 0, 'iter': 3880, 'avg_loss': 6.212320999827652, 'avg_acc': 50.21176887400155, 'loss': 5.850277423858643}\n"
     ]
    },
    {
     "name": "stderr",
     "output_type": "stream",
     "text": [
      "EP_train:0:  56%|| 3893/6926 [06:38<04:57, 10.20it/s]"
     ]
    },
    {
     "name": "stdout",
     "output_type": "stream",
     "text": [
      "{'epoch': 0, 'iter': 3890, 'avg_loss': 6.211170126435322, 'avg_acc': 50.20881521459779, 'loss': 6.008382320404053}\n"
     ]
    },
    {
     "name": "stderr",
     "output_type": "stream",
     "text": [
      "EP_train:0:  56%|| 3903/6926 [06:39<05:04,  9.93it/s]"
     ]
    },
    {
     "name": "stdout",
     "output_type": "stream",
     "text": [
      "{'epoch': 0, 'iter': 3900, 'avg_loss': 6.210063517383966, 'avg_acc': 50.2002691617534, 'loss': 5.84129524230957}\n"
     ]
    },
    {
     "name": "stderr",
     "output_type": "stream",
     "text": [
      "EP_train:0:  56%|| 3912/6926 [06:40<04:54, 10.23it/s]"
     ]
    },
    {
     "name": "stdout",
     "output_type": "stream",
     "text": [
      "{'epoch': 0, 'iter': 3910, 'avg_loss': 6.208877037260972, 'avg_acc': 50.19096778317566, 'loss': 6.10924768447876}\n"
     ]
    },
    {
     "name": "stderr",
     "output_type": "stream",
     "text": [
      "EP_train:0:  57%|| 3922/6926 [06:41<05:01,  9.95it/s]"
     ]
    },
    {
     "name": "stdout",
     "output_type": "stream",
     "text": [
      "{'epoch': 0, 'iter': 3920, 'avg_loss': 6.207520983773085, 'avg_acc': 50.1833078296353, 'loss': 5.5460662841796875}\n"
     ]
    },
    {
     "name": "stderr",
     "output_type": "stream",
     "text": [
      "EP_train:0:  57%|| 3932/6926 [06:42<04:54, 10.15it/s]"
     ]
    },
    {
     "name": "stdout",
     "output_type": "stream",
     "text": [
      "{'epoch': 0, 'iter': 3930, 'avg_loss': 6.205819487056184, 'avg_acc': 50.18602136860849, 'loss': 5.413776397705078}\n"
     ]
    },
    {
     "name": "stderr",
     "output_type": "stream",
     "text": [
      "EP_train:0:  57%|| 3942/6926 [06:43<04:53, 10.17it/s]"
     ]
    },
    {
     "name": "stdout",
     "output_type": "stream",
     "text": [
      "{'epoch': 0, 'iter': 3940, 'avg_loss': 6.204497334437454, 'avg_acc': 50.17603400152245, 'loss': 5.693401336669922}\n"
     ]
    },
    {
     "name": "stderr",
     "output_type": "stream",
     "text": [
      "EP_train:0:  57%|| 3952/6926 [06:44<05:01,  9.87it/s]"
     ]
    },
    {
     "name": "stdout",
     "output_type": "stream",
     "text": [
      "{'epoch': 0, 'iter': 3950, 'avg_loss': 6.203602343443164, 'avg_acc': 50.18033409263477, 'loss': 6.150572299957275}\n"
     ]
    },
    {
     "name": "stderr",
     "output_type": "stream",
     "text": [
      "EP_train:0:  57%|| 3963/6926 [06:45<04:53, 10.11it/s]"
     ]
    },
    {
     "name": "stdout",
     "output_type": "stream",
     "text": [
      "{'epoch': 0, 'iter': 3960, 'avg_loss': 6.202624412474985, 'avg_acc': 50.175934107548606, 'loss': 5.741656303405762}\n"
     ]
    },
    {
     "name": "stderr",
     "output_type": "stream",
     "text": [
      "EP_train:0:  57%|| 3972/6926 [06:46<04:48, 10.23it/s]"
     ]
    },
    {
     "name": "stdout",
     "output_type": "stream",
     "text": [
      "{'epoch': 0, 'iter': 3970, 'avg_loss': 6.200915454527317, 'avg_acc': 50.17313019390581, 'loss': 5.1099371910095215}\n"
     ]
    },
    {
     "name": "stderr",
     "output_type": "stream",
     "text": [
      "EP_train:0:  57%|| 3982/6926 [06:47<04:52, 10.06it/s]"
     ]
    },
    {
     "name": "stdout",
     "output_type": "stream",
     "text": [
      "{'epoch': 0, 'iter': 3980, 'avg_loss': 6.199661002989182, 'avg_acc': 50.156210751067576, 'loss': 6.097003936767578}\n"
     ]
    },
    {
     "name": "stderr",
     "output_type": "stream",
     "text": [
      "EP_train:0:  58%|| 3991/6926 [06:47<04:50, 10.09it/s]"
     ]
    },
    {
     "name": "stdout",
     "output_type": "stream",
     "text": [
      "{'epoch': 0, 'iter': 3990, 'avg_loss': 6.198868781036974, 'avg_acc': 50.158951390628914, 'loss': 5.550792217254639}\n"
     ]
    },
    {
     "name": "stderr",
     "output_type": "stream",
     "text": [
      "EP_train:0:  58%|| 4002/6926 [06:49<04:55,  9.91it/s]"
     ]
    },
    {
     "name": "stdout",
     "output_type": "stream",
     "text": [
      "{'epoch': 0, 'iter': 4000, 'avg_loss': 6.197624445140317, 'avg_acc': 50.1468382904274, 'loss': 5.248869895935059}\n"
     ]
    },
    {
     "name": "stderr",
     "output_type": "stream",
     "text": [
      "EP_train:0:  58%|| 4012/6926 [06:50<04:48, 10.11it/s]"
     ]
    },
    {
     "name": "stdout",
     "output_type": "stream",
     "text": [
      "{'epoch': 0, 'iter': 4010, 'avg_loss': 6.196527902754843, 'avg_acc': 50.148809523809526, 'loss': 5.580491065979004}\n"
     ]
    },
    {
     "name": "stderr",
     "output_type": "stream",
     "text": [
      "EP_train:0:  58%|| 4023/6926 [06:51<04:48, 10.06it/s]"
     ]
    },
    {
     "name": "stdout",
     "output_type": "stream",
     "text": [
      "{'epoch': 0, 'iter': 4020, 'avg_loss': 6.195643246396209, 'avg_acc': 50.14533076349167, 'loss': 5.927830219268799}\n"
     ]
    },
    {
     "name": "stderr",
     "output_type": "stream",
     "text": [
      "EP_train:0:  58%|| 4033/6926 [06:52<04:49, 10.01it/s]"
     ]
    },
    {
     "name": "stdout",
     "output_type": "stream",
     "text": [
      "{'epoch': 0, 'iter': 4030, 'avg_loss': 6.194580891031214, 'avg_acc': 50.139543537583734, 'loss': 5.78491735458374}\n"
     ]
    },
    {
     "name": "stderr",
     "output_type": "stream",
     "text": [
      "EP_train:0:  58%|| 4042/6926 [06:53<04:44, 10.14it/s]"
     ]
    },
    {
     "name": "stdout",
     "output_type": "stream",
     "text": [
      "{'epoch': 0, 'iter': 4040, 'avg_loss': 6.193220532787109, 'avg_acc': 50.14538480574116, 'loss': 5.3919453620910645}\n"
     ]
    },
    {
     "name": "stderr",
     "output_type": "stream",
     "text": [
      "EP_train:0:  59%|| 4053/6926 [06:54<04:42, 10.16it/s]"
     ]
    },
    {
     "name": "stdout",
     "output_type": "stream",
     "text": [
      "{'epoch': 0, 'iter': 4050, 'avg_loss': 6.192197182301503, 'avg_acc': 50.14888299185386, 'loss': 5.895722389221191}\n"
     ]
    },
    {
     "name": "stderr",
     "output_type": "stream",
     "text": [
      "EP_train:0:  59%|| 4062/6926 [06:55<04:42, 10.15it/s]"
     ]
    },
    {
     "name": "stdout",
     "output_type": "stream",
     "text": [
      "{'epoch': 0, 'iter': 4060, 'avg_loss': 6.190886114477906, 'avg_acc': 50.14697734548142, 'loss': 4.829869747161865}\n"
     ]
    },
    {
     "name": "stderr",
     "output_type": "stream",
     "text": [
      "EP_train:0:  59%|| 4072/6926 [06:55<04:36, 10.32it/s]"
     ]
    },
    {
     "name": "stdout",
     "output_type": "stream",
     "text": [
      "{'epoch': 0, 'iter': 4070, 'avg_loss': 6.189654310105094, 'avg_acc': 50.14584868582658, 'loss': 5.86423397064209}\n"
     ]
    },
    {
     "name": "stderr",
     "output_type": "stream",
     "text": [
      "EP_train:0:  59%|| 4082/6926 [06:57<04:52,  9.71it/s]"
     ]
    },
    {
     "name": "stdout",
     "output_type": "stream",
     "text": [
      "{'epoch': 0, 'iter': 4080, 'avg_loss': 6.188561181991716, 'avg_acc': 50.147022788532226, 'loss': 5.898854732513428}\n"
     ]
    },
    {
     "name": "stderr",
     "output_type": "stream",
     "text": [
      "EP_train:0:  59%|| 4092/6926 [06:57<04:34, 10.32it/s]"
     ]
    },
    {
     "name": "stdout",
     "output_type": "stream",
     "text": [
      "{'epoch': 0, 'iter': 4090, 'avg_loss': 6.186906908054394, 'avg_acc': 50.139024688340264, 'loss': 5.844778060913086}\n"
     ]
    },
    {
     "name": "stderr",
     "output_type": "stream",
     "text": [
      "EP_train:0:  59%|| 4102/6926 [06:58<04:36, 10.21it/s]"
     ]
    },
    {
     "name": "stdout",
     "output_type": "stream",
     "text": [
      "{'epoch': 0, 'iter': 4100, 'avg_loss': 6.186063947284608, 'avg_acc': 50.141733723482076, 'loss': 5.82585334777832}\n"
     ]
    },
    {
     "name": "stderr",
     "output_type": "stream",
     "text": [
      "EP_train:0:  59%|| 4112/6926 [06:59<04:36, 10.18it/s]"
     ]
    },
    {
     "name": "stdout",
     "output_type": "stream",
     "text": [
      "{'epoch': 0, 'iter': 4110, 'avg_loss': 6.185158473330094, 'avg_acc': 50.145189734857695, 'loss': 5.296262264251709}\n"
     ]
    },
    {
     "name": "stderr",
     "output_type": "stream",
     "text": [
      "EP_train:0:  60%|| 4122/6926 [07:00<04:34, 10.21it/s]"
     ]
    },
    {
     "name": "stdout",
     "output_type": "stream",
     "text": [
      "{'epoch': 0, 'iter': 4120, 'avg_loss': 6.18394340794227, 'avg_acc': 50.15242052899782, 'loss': 5.606804370880127}\n"
     ]
    },
    {
     "name": "stderr",
     "output_type": "stream",
     "text": [
      "EP_train:0:  60%|| 4132/6926 [07:01<04:43,  9.86it/s]"
     ]
    },
    {
     "name": "stdout",
     "output_type": "stream",
     "text": [
      "{'epoch': 0, 'iter': 4130, 'avg_loss': 6.1825316246067805, 'avg_acc': 50.13994795449044, 'loss': 5.840491771697998}\n"
     ]
    },
    {
     "name": "stderr",
     "output_type": "stream",
     "text": [
      "EP_train:0:  60%|| 4142/6926 [07:02<04:43,  9.81it/s]"
     ]
    },
    {
     "name": "stdout",
     "output_type": "stream",
     "text": [
      "{'epoch': 0, 'iter': 4140, 'avg_loss': 6.181410631388462, 'avg_acc': 50.15243902439024, 'loss': 5.758254528045654}\n"
     ]
    },
    {
     "name": "stderr",
     "output_type": "stream",
     "text": [
      "EP_train:0:  60%|| 4153/6926 [07:04<04:32, 10.18it/s]"
     ]
    },
    {
     "name": "stdout",
     "output_type": "stream",
     "text": [
      "{'epoch': 0, 'iter': 4150, 'avg_loss': 6.180239503396847, 'avg_acc': 50.16110575764876, 'loss': 5.614134788513184}\n"
     ]
    },
    {
     "name": "stderr",
     "output_type": "stream",
     "text": [
      "EP_train:0:  60%|| 4163/6926 [07:05<04:42,  9.79it/s]"
     ]
    },
    {
     "name": "stdout",
     "output_type": "stream",
     "text": [
      "{'epoch': 0, 'iter': 4160, 'avg_loss': 6.179137042439119, 'avg_acc': 50.156212448930546, 'loss': 4.911701679229736}\n"
     ]
    },
    {
     "name": "stderr",
     "output_type": "stream",
     "text": [
      "EP_train:0:  60%|| 4173/6926 [07:06<04:28, 10.24it/s]"
     ]
    },
    {
     "name": "stdout",
     "output_type": "stream",
     "text": [
      "{'epoch': 0, 'iter': 4170, 'avg_loss': 6.178081258884925, 'avg_acc': 50.15658714936466, 'loss': 6.051906108856201}\n"
     ]
    },
    {
     "name": "stderr",
     "output_type": "stream",
     "text": [
      "EP_train:0:  60%|| 4183/6926 [07:07<04:24, 10.37it/s]"
     ]
    },
    {
     "name": "stdout",
     "output_type": "stream",
     "text": [
      "{'epoch': 0, 'iter': 4180, 'avg_loss': 6.177182635745487, 'avg_acc': 50.1636869170055, 'loss': 5.947929382324219}\n"
     ]
    },
    {
     "name": "stderr",
     "output_type": "stream",
     "text": [
      "EP_train:0:  61%|| 4193/6926 [07:07<04:30, 10.10it/s]"
     ]
    },
    {
     "name": "stdout",
     "output_type": "stream",
     "text": [
      "{'epoch': 0, 'iter': 4190, 'avg_loss': 6.175897286746645, 'avg_acc': 50.16851586733476, 'loss': 5.399506568908691}\n"
     ]
    },
    {
     "name": "stderr",
     "output_type": "stream",
     "text": [
      "EP_train:0:  61%|| 4203/6926 [07:08<04:30, 10.07it/s]"
     ]
    },
    {
     "name": "stdout",
     "output_type": "stream",
     "text": [
      "{'epoch': 0, 'iter': 4200, 'avg_loss': 6.174880962830389, 'avg_acc': 50.17332182813615, 'loss': 5.698001861572266}\n"
     ]
    },
    {
     "name": "stderr",
     "output_type": "stream",
     "text": [
      "EP_train:0:  61%|| 4213/6926 [07:09<04:26, 10.18it/s]"
     ]
    },
    {
     "name": "stdout",
     "output_type": "stream",
     "text": [
      "{'epoch': 0, 'iter': 4210, 'avg_loss': 6.174023250026336, 'avg_acc': 50.18329969128473, 'loss': 5.438368320465088}\n"
     ]
    },
    {
     "name": "stderr",
     "output_type": "stream",
     "text": [
      "EP_train:0:  61%|| 4223/6926 [07:10<04:23, 10.27it/s]"
     ]
    },
    {
     "name": "stdout",
     "output_type": "stream",
     "text": [
      "{'epoch': 0, 'iter': 4220, 'avg_loss': 6.172784176406011, 'avg_acc': 50.19619166074389, 'loss': 5.994255065917969}\n"
     ]
    },
    {
     "name": "stderr",
     "output_type": "stream",
     "text": [
      "EP_train:0:  61%|| 4233/6926 [07:11<04:23, 10.21it/s]"
     ]
    },
    {
     "name": "stdout",
     "output_type": "stream",
     "text": [
      "{'epoch': 0, 'iter': 4230, 'avg_loss': 6.171816563837299, 'avg_acc': 50.20606830536516, 'loss': 5.344475269317627}\n"
     ]
    },
    {
     "name": "stderr",
     "output_type": "stream",
     "text": [
      "EP_train:0:  61%|| 4243/6926 [07:12<04:41,  9.54it/s]"
     ]
    },
    {
     "name": "stdout",
     "output_type": "stream",
     "text": [
      "{'epoch': 0, 'iter': 4240, 'avg_loss': 6.171031311698973, 'avg_acc': 50.19895071917001, 'loss': 6.258007526397705}\n"
     ]
    },
    {
     "name": "stderr",
     "output_type": "stream",
     "text": [
      "EP_train:0:  61%|| 4253/6926 [07:13<04:12, 10.60it/s]"
     ]
    },
    {
     "name": "stdout",
     "output_type": "stream",
     "text": [
      "{'epoch': 0, 'iter': 4250, 'avg_loss': 6.170134175331333, 'avg_acc': 50.18451540813926, 'loss': 6.038692474365234}\n"
     ]
    },
    {
     "name": "stderr",
     "output_type": "stream",
     "text": [
      "EP_train:0:  62%|| 4263/6926 [07:14<04:19, 10.27it/s]"
     ]
    },
    {
     "name": "stdout",
     "output_type": "stream",
     "text": [
      "{'epoch': 0, 'iter': 4260, 'avg_loss': 6.169053367425846, 'avg_acc': 50.17968199953062, 'loss': 5.711503505706787}\n"
     ]
    },
    {
     "name": "stderr",
     "output_type": "stream",
     "text": [
      "EP_train:0:  62%|| 4273/6926 [07:15<04:24, 10.05it/s]"
     ]
    },
    {
     "name": "stdout",
     "output_type": "stream",
     "text": [
      "{'epoch': 0, 'iter': 4270, 'avg_loss': 6.167693865380167, 'avg_acc': 50.179261297120114, 'loss': 5.457145690917969}\n"
     ]
    },
    {
     "name": "stderr",
     "output_type": "stream",
     "text": [
      "EP_train:0:  62%|| 4283/6926 [07:16<04:30,  9.76it/s]"
     ]
    },
    {
     "name": "stdout",
     "output_type": "stream",
     "text": [
      "{'epoch': 0, 'iter': 4280, 'avg_loss': 6.1665348037607455, 'avg_acc': 50.17957252978276, 'loss': 5.345958232879639}\n"
     ]
    },
    {
     "name": "stderr",
     "output_type": "stream",
     "text": [
      "EP_train:0:  62%|| 4293/6926 [07:17<04:18, 10.18it/s]"
     ]
    },
    {
     "name": "stdout",
     "output_type": "stream",
     "text": [
      "{'epoch': 0, 'iter': 4290, 'avg_loss': 6.165574772656311, 'avg_acc': 50.18133884875321, 'loss': 5.303718566894531}\n"
     ]
    },
    {
     "name": "stderr",
     "output_type": "stream",
     "text": [
      "EP_train:0:  62%|| 4302/6926 [07:18<04:18, 10.14it/s]"
     ]
    },
    {
     "name": "stdout",
     "output_type": "stream",
     "text": [
      "{'epoch': 0, 'iter': 4300, 'avg_loss': 6.164258230067885, 'avg_acc': 50.20271448500348, 'loss': 5.560856342315674}\n"
     ]
    },
    {
     "name": "stderr",
     "output_type": "stream",
     "text": [
      "EP_train:0:  62%|| 4312/6926 [07:19<04:05, 10.65it/s]"
     ]
    },
    {
     "name": "stdout",
     "output_type": "stream",
     "text": [
      "{'epoch': 0, 'iter': 4310, 'avg_loss': 6.162936234634566, 'avg_acc': 50.194270470888426, 'loss': 5.626313209533691}\n"
     ]
    },
    {
     "name": "stderr",
     "output_type": "stream",
     "text": [
      "EP_train:0:  62%|| 4322/6926 [07:20<04:21,  9.96it/s]"
     ]
    },
    {
     "name": "stdout",
     "output_type": "stream",
     "text": [
      "{'epoch': 0, 'iter': 4320, 'avg_loss': 6.1620992638672485, 'avg_acc': 50.18803517704236, 'loss': 5.66954231262207}\n"
     ]
    },
    {
     "name": "stderr",
     "output_type": "stream",
     "text": [
      "EP_train:0:  63%|| 4332/6926 [07:21<04:21,  9.91it/s]"
     ]
    },
    {
     "name": "stdout",
     "output_type": "stream",
     "text": [
      "{'epoch': 0, 'iter': 4330, 'avg_loss': 6.16116551729747, 'avg_acc': 50.179664049873004, 'loss': 5.485283851623535}\n"
     ]
    },
    {
     "name": "stderr",
     "output_type": "stream",
     "text": [
      "EP_train:0:  63%|| 4342/6926 [07:22<04:18, 10.01it/s]"
     ]
    },
    {
     "name": "stdout",
     "output_type": "stream",
     "text": [
      "{'epoch': 0, 'iter': 4340, 'avg_loss': 6.160232190354248, 'avg_acc': 50.16845196959226, 'loss': 5.696126937866211}\n"
     ]
    },
    {
     "name": "stderr",
     "output_type": "stream",
     "text": [
      "EP_train:0:  63%|| 4353/6926 [07:23<04:15, 10.06it/s]"
     ]
    },
    {
     "name": "stdout",
     "output_type": "stream",
     "text": [
      "{'epoch': 0, 'iter': 4350, 'avg_loss': 6.159416516658438, 'avg_acc': 50.16662836129625, 'loss': 6.017967224121094}\n"
     ]
    },
    {
     "name": "stderr",
     "output_type": "stream",
     "text": [
      "EP_train:0:  63%|| 4362/6926 [07:24<04:07, 10.37it/s]"
     ]
    },
    {
     "name": "stdout",
     "output_type": "stream",
     "text": [
      "{'epoch': 0, 'iter': 4360, 'avg_loss': 6.158541703328057, 'avg_acc': 50.16839601008943, 'loss': 5.6581597328186035}\n"
     ]
    },
    {
     "name": "stderr",
     "output_type": "stream",
     "text": [
      "EP_train:0:  63%|| 4372/6926 [07:25<04:00, 10.64it/s]"
     ]
    },
    {
     "name": "stdout",
     "output_type": "stream",
     "text": [
      "{'epoch': 0, 'iter': 4370, 'avg_loss': 6.157187310325502, 'avg_acc': 50.16658087394189, 'loss': 5.604695796966553}\n"
     ]
    },
    {
     "name": "stderr",
     "output_type": "stream",
     "text": [
      "EP_train:0:  63%|| 4382/6926 [07:26<04:07, 10.29it/s]"
     ]
    },
    {
     "name": "stdout",
     "output_type": "stream",
     "text": [
      "{'epoch': 0, 'iter': 4380, 'avg_loss': 6.156186710506562, 'avg_acc': 50.16334740926729, 'loss': 5.727705955505371}\n"
     ]
    },
    {
     "name": "stderr",
     "output_type": "stream",
     "text": [
      "EP_train:0:  63%|| 4392/6926 [07:27<04:08, 10.19it/s]"
     ]
    },
    {
     "name": "stdout",
     "output_type": "stream",
     "text": [
      "{'epoch': 0, 'iter': 4390, 'avg_loss': 6.155045914611955, 'avg_acc': 50.18147916192211, 'loss': 5.777726173400879}\n"
     ]
    },
    {
     "name": "stderr",
     "output_type": "stream",
     "text": [
      "EP_train:0:  64%|| 4402/6926 [07:28<04:12,  9.98it/s]"
     ]
    },
    {
     "name": "stdout",
     "output_type": "stream",
     "text": [
      "{'epoch': 0, 'iter': 4400, 'avg_loss': 6.153811612418499, 'avg_acc': 50.1803567371052, 'loss': 5.65475606918335}\n"
     ]
    },
    {
     "name": "stderr",
     "output_type": "stream",
     "text": [
      "EP_train:0:  64%|| 4412/6926 [07:29<04:10, 10.03it/s]"
     ]
    },
    {
     "name": "stdout",
     "output_type": "stream",
     "text": [
      "{'epoch': 0, 'iter': 4410, 'avg_loss': 6.152822952209971, 'avg_acc': 50.17002947177511, 'loss': 5.830178737640381}\n"
     ]
    },
    {
     "name": "stderr",
     "output_type": "stream",
     "text": [
      "EP_train:0:  64%|| 4422/6926 [07:30<04:13,  9.89it/s]"
     ]
    },
    {
     "name": "stdout",
     "output_type": "stream",
     "text": [
      "{'epoch': 0, 'iter': 4420, 'avg_loss': 6.152014435213957, 'avg_acc': 50.16964487672473, 'loss': 5.3372955322265625}\n"
     ]
    },
    {
     "name": "stderr",
     "output_type": "stream",
     "text": [
      "EP_train:0:  64%|| 4432/6926 [07:31<04:10,  9.95it/s]"
     ]
    },
    {
     "name": "stdout",
     "output_type": "stream",
     "text": [
      "{'epoch': 0, 'iter': 4430, 'avg_loss': 6.150575520625853, 'avg_acc': 50.17772511848341, 'loss': 5.232474327087402}\n"
     ]
    },
    {
     "name": "stderr",
     "output_type": "stream",
     "text": [
      "EP_train:0:  64%|| 4442/6926 [07:32<04:06, 10.09it/s]"
     ]
    },
    {
     "name": "stdout",
     "output_type": "stream",
     "text": [
      "{'epoch': 0, 'iter': 4440, 'avg_loss': 6.149351338711012, 'avg_acc': 50.1738065750957, 'loss': 5.522267818450928}\n"
     ]
    },
    {
     "name": "stderr",
     "output_type": "stream",
     "text": [
      "EP_train:0:  64%|| 4452/6926 [07:33<04:01, 10.23it/s]"
     ]
    },
    {
     "name": "stdout",
     "output_type": "stream",
     "text": [
      "{'epoch': 0, 'iter': 4450, 'avg_loss': 6.148312814314428, 'avg_acc': 50.16218265558301, 'loss': 6.2694244384765625}\n"
     ]
    },
    {
     "name": "stderr",
     "output_type": "stream",
     "text": [
      "EP_train:0:  64%|| 4462/6926 [07:34<03:59, 10.31it/s]"
     ]
    },
    {
     "name": "stdout",
     "output_type": "stream",
     "text": [
      "{'epoch': 0, 'iter': 4460, 'avg_loss': 6.147317364514609, 'avg_acc': 50.154813943062095, 'loss': 5.843454837799072}\n"
     ]
    },
    {
     "name": "stderr",
     "output_type": "stream",
     "text": [
      "EP_train:0:  65%|| 4472/6926 [07:35<03:56, 10.40it/s]"
     ]
    },
    {
     "name": "stdout",
     "output_type": "stream",
     "text": [
      "{'epoch': 0, 'iter': 4470, 'avg_loss': 6.146923523145457, 'avg_acc': 50.15027398792217, 'loss': 5.979974269866943}\n"
     ]
    },
    {
     "name": "stderr",
     "output_type": "stream",
     "text": [
      "EP_train:0:  65%|| 4482/6926 [07:36<04:08,  9.82it/s]"
     ]
    },
    {
     "name": "stdout",
     "output_type": "stream",
     "text": [
      "{'epoch': 0, 'iter': 4480, 'avg_loss': 6.145859897203197, 'avg_acc': 50.157609908502565, 'loss': 5.315521240234375}\n"
     ]
    },
    {
     "name": "stderr",
     "output_type": "stream",
     "text": [
      "EP_train:0:  65%|| 4493/6926 [07:37<03:52, 10.45it/s]"
     ]
    },
    {
     "name": "stdout",
     "output_type": "stream",
     "text": [
      "{'epoch': 0, 'iter': 4490, 'avg_loss': 6.1449174491314915, 'avg_acc': 50.15656312625251, 'loss': 5.5776753425598145}\n"
     ]
    },
    {
     "name": "stderr",
     "output_type": "stream",
     "text": [
      "EP_train:0:  65%|| 4503/6926 [07:38<03:49, 10.55it/s]"
     ]
    },
    {
     "name": "stdout",
     "output_type": "stream",
     "text": [
      "{'epoch': 0, 'iter': 4500, 'avg_loss': 6.143772791078741, 'avg_acc': 50.16107531659632, 'loss': 5.256728649139404}\n"
     ]
    },
    {
     "name": "stderr",
     "output_type": "stream",
     "text": [
      "EP_train:0:  65%|| 4513/6926 [07:39<03:58, 10.12it/s]"
     ]
    },
    {
     "name": "stdout",
     "output_type": "stream",
     "text": [
      "{'epoch': 0, 'iter': 4510, 'avg_loss': 6.14250287764407, 'avg_acc': 50.151019729549986, 'loss': 5.5286149978637695}\n"
     ]
    },
    {
     "name": "stderr",
     "output_type": "stream",
     "text": [
      "EP_train:0:  65%|| 4523/6926 [07:40<03:48, 10.53it/s]"
     ]
    },
    {
     "name": "stdout",
     "output_type": "stream",
     "text": [
      "{'epoch': 0, 'iter': 4520, 'avg_loss': 6.141666577311117, 'avg_acc': 50.15759787657598, 'loss': 5.222860813140869}\n"
     ]
    },
    {
     "name": "stderr",
     "output_type": "stream",
     "text": [
      "EP_train:0:  65%|| 4533/6926 [07:41<03:54, 10.22it/s]"
     ]
    },
    {
     "name": "stdout",
     "output_type": "stream",
     "text": [
      "{'epoch': 0, 'iter': 4530, 'avg_loss': 6.1406140436902, 'avg_acc': 50.15656036195101, 'loss': 5.9357757568359375}\n"
     ]
    },
    {
     "name": "stderr",
     "output_type": "stream",
     "text": [
      "EP_train:0:  66%|| 4541/6926 [07:42<03:50, 10.36it/s]"
     ]
    },
    {
     "name": "stdout",
     "output_type": "stream",
     "text": [
      "{'epoch': 0, 'iter': 4540, 'avg_loss': 6.139767792644387, 'avg_acc': 50.15552741686853, 'loss': 5.234159469604492}\n"
     ]
    },
    {
     "name": "stderr",
     "output_type": "stream",
     "text": [
      "EP_train:0:  66%|| 4553/6926 [07:43<03:50, 10.30it/s]"
     ]
    },
    {
     "name": "stdout",
     "output_type": "stream",
     "text": [
      "{'epoch': 0, 'iter': 4550, 'avg_loss': 6.1389161878773155, 'avg_acc': 50.150379037574154, 'loss': 5.3361616134643555}\n"
     ]
    },
    {
     "name": "stderr",
     "output_type": "stream",
     "text": [
      "EP_train:0:  66%|| 4563/6926 [07:44<03:48, 10.33it/s]"
     ]
    },
    {
     "name": "stdout",
     "output_type": "stream",
     "text": [
      "{'epoch': 0, 'iter': 4560, 'avg_loss': 6.138162722584449, 'avg_acc': 50.154845428634076, 'loss': 5.6318278312683105}\n"
     ]
    },
    {
     "name": "stderr",
     "output_type": "stream",
     "text": [
      "EP_train:0:  66%|| 4573/6926 [07:45<03:49, 10.25it/s]"
     ]
    },
    {
     "name": "stdout",
     "output_type": "stream",
     "text": [
      "{'epoch': 0, 'iter': 4570, 'avg_loss': 6.137272421678916, 'avg_acc': 50.154506672500546, 'loss': 5.2694573402404785}\n"
     ]
    },
    {
     "name": "stderr",
     "output_type": "stream",
     "text": [
      "EP_train:0:  66%|| 4583/6926 [07:46<03:50, 10.18it/s]"
     ]
    },
    {
     "name": "stdout",
     "output_type": "stream",
     "text": [
      "{'epoch': 0, 'iter': 4580, 'avg_loss': 6.1361513389715645, 'avg_acc': 50.14871207160009, 'loss': 5.38279390335083}\n"
     ]
    },
    {
     "name": "stderr",
     "output_type": "stream",
     "text": [
      "EP_train:0:  66%|| 4593/6926 [07:47<03:44, 10.37it/s]"
     ]
    },
    {
     "name": "stdout",
     "output_type": "stream",
     "text": [
      "{'epoch': 0, 'iter': 4590, 'avg_loss': 6.13551723139137, 'avg_acc': 50.15247222827271, 'loss': 6.062228679656982}\n"
     ]
    },
    {
     "name": "stderr",
     "output_type": "stream",
     "text": [
      "EP_train:0:  66%|| 4603/6926 [07:48<03:47, 10.19it/s]"
     ]
    },
    {
     "name": "stdout",
     "output_type": "stream",
     "text": [
      "{'epoch': 0, 'iter': 4600, 'avg_loss': 6.135057957476571, 'avg_acc': 50.15757444033906, 'loss': 5.749903202056885}\n"
     ]
    },
    {
     "name": "stderr",
     "output_type": "stream",
     "text": [
      "EP_train:0:  67%|| 4611/6926 [07:49<03:44, 10.30it/s]"
     ]
    },
    {
     "name": "stdout",
     "output_type": "stream",
     "text": [
      "{'epoch': 0, 'iter': 4610, 'avg_loss': 6.1341067958203865, 'avg_acc': 50.15519952288007, 'loss': 5.730179786682129}\n"
     ]
    },
    {
     "name": "stderr",
     "output_type": "stream",
     "text": [
      "EP_train:0:  67%|| 4623/6926 [07:50<03:52,  9.91it/s]"
     ]
    },
    {
     "name": "stdout",
     "output_type": "stream",
     "text": [
      "{'epoch': 0, 'iter': 4620, 'avg_loss': 6.1333517550493415, 'avg_acc': 50.15148236312486, 'loss': 5.793759822845459}\n"
     ]
    },
    {
     "name": "stderr",
     "output_type": "stream",
     "text": [
      "EP_train:0:  67%|| 4632/6926 [07:51<03:50,  9.96it/s]"
     ]
    },
    {
     "name": "stdout",
     "output_type": "stream",
     "text": [
      "{'epoch': 0, 'iter': 4630, 'avg_loss': 6.132706327691651, 'avg_acc': 50.15722846037573, 'loss': 6.108196258544922}\n"
     ]
    },
    {
     "name": "stderr",
     "output_type": "stream",
     "text": [
      "EP_train:0:  67%|| 4642/6926 [07:52<03:41, 10.30it/s]"
     ]
    },
    {
     "name": "stdout",
     "output_type": "stream",
     "text": [
      "{'epoch': 0, 'iter': 4640, 'avg_loss': 6.131828115767791, 'avg_acc': 50.14746283128636, 'loss': 5.5654191970825195}\n"
     ]
    },
    {
     "name": "stderr",
     "output_type": "stream",
     "text": [
      "EP_train:0:  67%|| 4652/6926 [07:53<03:44, 10.11it/s]"
     ]
    },
    {
     "name": "stdout",
     "output_type": "stream",
     "text": [
      "{'epoch': 0, 'iter': 4650, 'avg_loss': 6.131145481088295, 'avg_acc': 50.14378628251988, 'loss': 5.918550491333008}\n"
     ]
    },
    {
     "name": "stderr",
     "output_type": "stream",
     "text": [
      "EP_train:0:  67%|| 4662/6926 [07:54<03:40, 10.25it/s]"
     ]
    },
    {
     "name": "stdout",
     "output_type": "stream",
     "text": [
      "{'epoch': 0, 'iter': 4660, 'avg_loss': 6.130380622718089, 'avg_acc': 50.14280733748123, 'loss': 5.406472206115723}\n"
     ]
    },
    {
     "name": "stderr",
     "output_type": "stream",
     "text": [
      "EP_train:0:  67%|| 4672/6926 [07:55<03:52,  9.70it/s]"
     ]
    },
    {
     "name": "stdout",
     "output_type": "stream",
     "text": [
      "{'epoch': 0, 'iter': 4670, 'avg_loss': 6.1296076106963895, 'avg_acc': 50.145846713765785, 'loss': 5.930816650390625}\n"
     ]
    },
    {
     "name": "stderr",
     "output_type": "stream",
     "text": [
      "EP_train:0:  68%|| 4682/6926 [07:56<03:47,  9.87it/s]"
     ]
    },
    {
     "name": "stdout",
     "output_type": "stream",
     "text": [
      "{'epoch': 0, 'iter': 4680, 'avg_loss': 6.128670439611157, 'avg_acc': 50.14152958769493, 'loss': 5.421756744384766}\n"
     ]
    },
    {
     "name": "stderr",
     "output_type": "stream",
     "text": [
      "EP_train:0:  68%|| 4692/6926 [07:57<03:48,  9.80it/s]"
     ]
    },
    {
     "name": "stdout",
     "output_type": "stream",
     "text": [
      "{'epoch': 0, 'iter': 4690, 'avg_loss': 6.128041696863575, 'avg_acc': 50.14655723726285, 'loss': 6.072017669677734}\n"
     ]
    },
    {
     "name": "stderr",
     "output_type": "stream",
     "text": [
      "EP_train:0:  68%|| 4702/6926 [07:58<03:48,  9.72it/s]"
     ]
    },
    {
     "name": "stdout",
     "output_type": "stream",
     "text": [
      "{'epoch': 0, 'iter': 4700, 'avg_loss': 6.126905047013592, 'avg_acc': 50.15555201021059, 'loss': 5.767515182495117}\n"
     ]
    },
    {
     "name": "stderr",
     "output_type": "stream",
     "text": [
      "EP_train:0:  68%|| 4712/6926 [07:59<03:41,  9.98it/s]"
     ]
    },
    {
     "name": "stdout",
     "output_type": "stream",
     "text": [
      "{'epoch': 0, 'iter': 4710, 'avg_loss': 6.126073726041887, 'avg_acc': 50.160528550201654, 'loss': 5.8421759605407715}\n"
     ]
    },
    {
     "name": "stderr",
     "output_type": "stream",
     "text": [
      "EP_train:0:  68%|| 4722/6926 [08:00<03:46,  9.74it/s]"
     ]
    },
    {
     "name": "stdout",
     "output_type": "stream",
     "text": [
      "{'epoch': 0, 'iter': 4720, 'avg_loss': 6.125437218565679, 'avg_acc': 50.16945562380851, 'loss': 5.332591533660889}\n"
     ]
    },
    {
     "name": "stderr",
     "output_type": "stream",
     "text": [
      "EP_train:0:  68%|| 4732/6926 [08:01<03:34, 10.25it/s]"
     ]
    },
    {
     "name": "stdout",
     "output_type": "stream",
     "text": [
      "{'epoch': 0, 'iter': 4730, 'avg_loss': 6.124678906666706, 'avg_acc': 50.16513422109491, 'loss': 6.237000942230225}\n"
     ]
    },
    {
     "name": "stderr",
     "output_type": "stream",
     "text": [
      "EP_train:0:  68%|| 4742/6926 [08:02<03:45,  9.70it/s]"
     ]
    },
    {
     "name": "stdout",
     "output_type": "stream",
     "text": [
      "{'epoch': 0, 'iter': 4740, 'avg_loss': 6.123993407923118, 'avg_acc': 50.16214933558321, 'loss': 5.756860733032227}\n"
     ]
    },
    {
     "name": "stderr",
     "output_type": "stream",
     "text": [
      "EP_train:0:  69%|| 4752/6926 [08:03<03:22, 10.74it/s]"
     ]
    },
    {
     "name": "stdout",
     "output_type": "stream",
     "text": [
      "{'epoch': 0, 'iter': 4750, 'avg_loss': 6.123093230978761, 'avg_acc': 50.16246579667438, 'loss': 5.854062080383301}\n"
     ]
    },
    {
     "name": "stderr",
     "output_type": "stream",
     "text": [
      "EP_train:0:  69%|| 4762/6926 [08:04<03:29, 10.31it/s]"
     ]
    },
    {
     "name": "stdout",
     "output_type": "stream",
     "text": [
      "{'epoch': 0, 'iter': 4760, 'avg_loss': 6.1223019811441555, 'avg_acc': 50.15293530770847, 'loss': 6.206453323364258}\n"
     ]
    },
    {
     "name": "stderr",
     "output_type": "stream",
     "text": [
      "EP_train:0:  69%|| 4773/6926 [08:05<03:41,  9.74it/s]"
     ]
    },
    {
     "name": "stdout",
     "output_type": "stream",
     "text": [
      "{'epoch': 0, 'iter': 4770, 'avg_loss': 6.121394550692883, 'avg_acc': 50.160474743240414, 'loss': 6.136073112487793}\n"
     ]
    },
    {
     "name": "stderr",
     "output_type": "stream",
     "text": [
      "EP_train:0:  69%|| 4782/6926 [08:06<03:31, 10.13it/s]"
     ]
    },
    {
     "name": "stdout",
     "output_type": "stream",
     "text": [
      "{'epoch': 0, 'iter': 4780, 'avg_loss': 6.120639779681916, 'avg_acc': 50.15229554486509, 'loss': 5.7522478103637695}\n"
     ]
    },
    {
     "name": "stderr",
     "output_type": "stream",
     "text": [
      "EP_train:0:  69%|| 4792/6926 [08:07<03:27, 10.26it/s]"
     ]
    },
    {
     "name": "stdout",
     "output_type": "stream",
     "text": [
      "{'epoch': 0, 'iter': 4790, 'avg_loss': 6.1199945559508615, 'avg_acc': 50.15980484241286, 'loss': 5.835076332092285}\n"
     ]
    },
    {
     "name": "stderr",
     "output_type": "stream",
     "text": [
      "EP_train:0:  69%|| 4802/6926 [08:08<03:28, 10.21it/s]"
     ]
    },
    {
     "name": "stdout",
     "output_type": "stream",
     "text": [
      "{'epoch': 0, 'iter': 4800, 'avg_loss': 6.118924641504906, 'avg_acc': 50.16207560924807, 'loss': 5.443882465362549}\n"
     ]
    },
    {
     "name": "stderr",
     "output_type": "stream",
     "text": [
      "EP_train:0:  69%|| 4812/6926 [08:09<03:23, 10.39it/s]"
     ]
    },
    {
     "name": "stdout",
     "output_type": "stream",
     "text": [
      "{'epoch': 0, 'iter': 4810, 'avg_loss': 6.118045388029262, 'avg_acc': 50.16628559551029, 'loss': 5.383264541625977}\n"
     ]
    },
    {
     "name": "stderr",
     "output_type": "stream",
     "text": [
      "EP_train:0:  70%|| 4823/6926 [08:10<03:32,  9.88it/s]"
     ]
    },
    {
     "name": "stdout",
     "output_type": "stream",
     "text": [
      "{'epoch': 0, 'iter': 4820, 'avg_loss': 6.117167162168227, 'avg_acc': 50.16399605890894, 'loss': 5.9533162117004395}\n"
     ]
    },
    {
     "name": "stderr",
     "output_type": "stream",
     "text": [
      "EP_train:0:  70%|| 4833/6926 [08:11<03:22, 10.33it/s]"
     ]
    },
    {
     "name": "stdout",
     "output_type": "stream",
     "text": [
      "{'epoch': 0, 'iter': 4830, 'avg_loss': 6.1162353760212556, 'avg_acc': 50.16947836886773, 'loss': 5.6264543533325195}\n"
     ]
    },
    {
     "name": "stderr",
     "output_type": "stream",
     "text": [
      "EP_train:0:  70%|| 4843/6926 [08:12<03:26, 10.09it/s]"
     ]
    },
    {
     "name": "stdout",
     "output_type": "stream",
     "text": [
      "{'epoch': 0, 'iter': 4840, 'avg_loss': 6.115719993112994, 'avg_acc': 50.161381945878944, 'loss': 5.794107437133789}\n"
     ]
    },
    {
     "name": "stderr",
     "output_type": "stream",
     "text": [
      "EP_train:0:  70%|| 4851/6926 [08:12<03:26, 10.07it/s]"
     ]
    },
    {
     "name": "stdout",
     "output_type": "stream",
     "text": [
      "{'epoch': 0, 'iter': 4850, 'avg_loss': 6.115106324317947, 'avg_acc': 50.15782828282829, 'loss': 5.559415340423584}\n"
     ]
    },
    {
     "name": "stderr",
     "output_type": "stream",
     "text": [
      "EP_train:0:  70%|| 4863/6926 [08:14<03:25, 10.06it/s]"
     ]
    },
    {
     "name": "stdout",
     "output_type": "stream",
     "text": [
      "{'epoch': 0, 'iter': 4860, 'avg_loss': 6.114376627842209, 'avg_acc': 50.15300349722279, 'loss': 5.530073642730713}\n"
     ]
    },
    {
     "name": "stderr",
     "output_type": "stream",
     "text": [
      "EP_train:0:  70%|| 4873/6926 [08:15<03:27,  9.91it/s]"
     ]
    },
    {
     "name": "stdout",
     "output_type": "stream",
     "text": [
      "{'epoch': 0, 'iter': 4870, 'avg_loss': 6.113473624865932, 'avg_acc': 50.15589714637652, 'loss': 5.968829154968262}\n"
     ]
    },
    {
     "name": "stderr",
     "output_type": "stream",
     "text": [
      "EP_train:0:  71%|| 4883/6926 [08:16<03:15, 10.43it/s]"
     ]
    },
    {
     "name": "stdout",
     "output_type": "stream",
     "text": [
      "{'epoch': 0, 'iter': 4880, 'avg_loss': 6.11292712069564, 'avg_acc': 50.15237656217988, 'loss': 5.640733242034912}\n"
     ]
    },
    {
     "name": "stderr",
     "output_type": "stream",
     "text": [
      "EP_train:0:  71%|| 4891/6926 [08:16<03:16, 10.37it/s]"
     ]
    },
    {
     "name": "stdout",
     "output_type": "stream",
     "text": [
      "{'epoch': 0, 'iter': 4890, 'avg_loss': 6.112151099820976, 'avg_acc': 50.15206501737885, 'loss': 5.971090793609619}\n"
     ]
    },
    {
     "name": "stderr",
     "output_type": "stream",
     "text": [
      "EP_train:0:  71%|| 4902/6926 [08:17<03:20, 10.10it/s]"
     ]
    },
    {
     "name": "stdout",
     "output_type": "stream",
     "text": [
      "{'epoch': 0, 'iter': 4900, 'avg_loss': 6.111473759882938, 'avg_acc': 50.15813099367477, 'loss': 5.496757984161377}\n"
     ]
    },
    {
     "name": "stderr",
     "output_type": "stream",
     "text": [
      "EP_train:0:  71%|| 4912/6926 [08:18<03:15, 10.31it/s]"
     ]
    },
    {
     "name": "stdout",
     "output_type": "stream",
     "text": [
      "{'epoch': 0, 'iter': 4910, 'avg_loss': 6.110802912415955, 'avg_acc': 50.14890042761149, 'loss': 6.105125427246094}\n"
     ]
    },
    {
     "name": "stderr",
     "output_type": "stream",
     "text": [
      "EP_train:0:  71%|| 4922/6926 [08:19<03:16, 10.18it/s]"
     ]
    },
    {
     "name": "stdout",
     "output_type": "stream",
     "text": [
      "{'epoch': 0, 'iter': 4920, 'avg_loss': 6.1101422738166535, 'avg_acc': 50.1479628124365, 'loss': 5.696800708770752}\n"
     ]
    },
    {
     "name": "stderr",
     "output_type": "stream",
     "text": [
      "EP_train:0:  71%|| 4933/6926 [08:21<03:21,  9.90it/s]"
     ]
    },
    {
     "name": "stdout",
     "output_type": "stream",
     "text": [
      "{'epoch': 0, 'iter': 4930, 'avg_loss': 6.109379845346309, 'avg_acc': 50.141325288988035, 'loss': 5.742212772369385}\n"
     ]
    },
    {
     "name": "stderr",
     "output_type": "stream",
     "text": [
      "EP_train:0:  71%|| 4941/6926 [08:21<03:12, 10.30it/s]"
     ]
    },
    {
     "name": "stdout",
     "output_type": "stream",
     "text": [
      "{'epoch': 0, 'iter': 4940, 'avg_loss': 6.108584627403563, 'avg_acc': 50.14103926330702, 'loss': 5.9733381271362305}\n"
     ]
    },
    {
     "name": "stderr",
     "output_type": "stream",
     "text": [
      "EP_train:0:  71%|| 4951/6926 [08:22<03:15, 10.09it/s]"
     ]
    },
    {
     "name": "stdout",
     "output_type": "stream",
     "text": [
      "{'epoch': 0, 'iter': 4950, 'avg_loss': 6.107659433904597, 'avg_acc': 50.14643506362351, 'loss': 5.8683552742004395}\n"
     ]
    },
    {
     "name": "stderr",
     "output_type": "stream",
     "text": [
      "EP_train:0:  72%|| 4962/6926 [08:23<03:06, 10.51it/s]"
     ]
    },
    {
     "name": "stdout",
     "output_type": "stream",
     "text": [
      "{'epoch': 0, 'iter': 4960, 'avg_loss': 6.106959428789154, 'avg_acc': 50.14236041120742, 'loss': 5.847211837768555}\n"
     ]
    },
    {
     "name": "stderr",
     "output_type": "stream",
     "text": [
      "EP_train:0:  72%|| 4972/6926 [08:24<03:10, 10.25it/s]"
     ]
    },
    {
     "name": "stdout",
     "output_type": "stream",
     "text": [
      "{'epoch': 0, 'iter': 4970, 'avg_loss': 6.106341027129562, 'avg_acc': 50.14207402937034, 'loss': 5.614824295043945}\n"
     ]
    },
    {
     "name": "stderr",
     "output_type": "stream",
     "text": [
      "EP_train:0:  72%|| 4982/6926 [08:25<03:17,  9.86it/s]"
     ]
    },
    {
     "name": "stdout",
     "output_type": "stream",
     "text": [
      "{'epoch': 0, 'iter': 4980, 'avg_loss': 6.105701428057079, 'avg_acc': 50.13676972495483, 'loss': 5.629633903503418}\n"
     ]
    },
    {
     "name": "stderr",
     "output_type": "stream",
     "text": [
      "EP_train:0:  72%|| 4992/6926 [08:26<03:19,  9.72it/s]"
     ]
    },
    {
     "name": "stdout",
     "output_type": "stream",
     "text": [
      "{'epoch': 0, 'iter': 4990, 'avg_loss': 6.105078594022035, 'avg_acc': 50.136495692246044, 'loss': 5.829236030578613}\n"
     ]
    },
    {
     "name": "stderr",
     "output_type": "stream",
     "text": [
      "EP_train:0:  72%|| 5002/6926 [08:27<03:06, 10.34it/s]"
     ]
    },
    {
     "name": "stdout",
     "output_type": "stream",
     "text": [
      "{'epoch': 0, 'iter': 5000, 'avg_loss': 6.104399965324776, 'avg_acc': 50.13247350529893, 'loss': 5.74372673034668}\n"
     ]
    },
    {
     "name": "stderr",
     "output_type": "stream",
     "text": [
      "EP_train:0:  72%|| 5013/6926 [08:28<03:08, 10.17it/s]"
     ]
    },
    {
     "name": "stdout",
     "output_type": "stream",
     "text": [
      "{'epoch': 0, 'iter': 5010, 'avg_loss': 6.1037407666474515, 'avg_acc': 50.14468170025943, 'loss': 5.678225517272949}\n"
     ]
    },
    {
     "name": "stderr",
     "output_type": "stream",
     "text": [
      "EP_train:0:  73%|| 5023/6926 [08:29<03:14,  9.81it/s]"
     ]
    },
    {
     "name": "stdout",
     "output_type": "stream",
     "text": [
      "{'epoch': 0, 'iter': 5020, 'avg_loss': 6.103146347337642, 'avg_acc': 50.15310695080662, 'loss': 5.799290180206299}\n"
     ]
    },
    {
     "name": "stderr",
     "output_type": "stream",
     "text": [
      "EP_train:0:  73%|| 5032/6926 [08:30<03:10,  9.93it/s]"
     ]
    },
    {
     "name": "stdout",
     "output_type": "stream",
     "text": [
      "{'epoch': 0, 'iter': 5030, 'avg_loss': 6.1026981085912055, 'avg_acc': 50.149696879348035, 'loss': 5.934699058532715}\n"
     ]
    },
    {
     "name": "stderr",
     "output_type": "stream",
     "text": [
      "EP_train:0:  73%|| 5042/6926 [08:31<03:01, 10.39it/s]"
     ]
    },
    {
     "name": "stdout",
     "output_type": "stream",
     "text": [
      "{'epoch': 0, 'iter': 5040, 'avg_loss': 6.101833211455736, 'avg_acc': 50.14382067050188, 'loss': 5.449053764343262}\n"
     ]
    },
    {
     "name": "stderr",
     "output_type": "stream",
     "text": [
      "EP_train:0:  73%|| 5052/6926 [08:32<03:00, 10.38it/s]"
     ]
    },
    {
     "name": "stdout",
     "output_type": "stream",
     "text": [
      "{'epoch': 0, 'iter': 5050, 'avg_loss': 6.101265203313199, 'avg_acc': 50.147866759057614, 'loss': 5.740660190582275}\n"
     ]
    },
    {
     "name": "stderr",
     "output_type": "stream",
     "text": [
      "EP_train:0:  73%|| 5062/6926 [08:33<02:57, 10.52it/s]"
     ]
    },
    {
     "name": "stdout",
     "output_type": "stream",
     "text": [
      "{'epoch': 0, 'iter': 5060, 'avg_loss': 6.100878924961689, 'avg_acc': 50.15251432523217, 'loss': 5.718278408050537}\n"
     ]
    },
    {
     "name": "stderr",
     "output_type": "stream",
     "text": [
      "EP_train:0:  73%|| 5072/6926 [08:34<02:59, 10.33it/s]"
     ]
    },
    {
     "name": "stdout",
     "output_type": "stream",
     "text": [
      "{'epoch': 0, 'iter': 5070, 'avg_loss': 6.100122563116321, 'avg_acc': 50.150981068822716, 'loss': 5.843747138977051}\n"
     ]
    },
    {
     "name": "stderr",
     "output_type": "stream",
     "text": [
      "EP_train:0:  73%|| 5082/6926 [08:35<03:06,  9.90it/s]"
     ]
    },
    {
     "name": "stdout",
     "output_type": "stream",
     "text": [
      "{'epoch': 0, 'iter': 5080, 'avg_loss': 6.099429848578426, 'avg_acc': 50.14637866561701, 'loss': 6.17177677154541}\n"
     ]
    },
    {
     "name": "stderr",
     "output_type": "stream",
     "text": [
      "EP_train:0:  74%|| 5092/6926 [08:36<03:07,  9.78it/s]"
     ]
    },
    {
     "name": "stdout",
     "output_type": "stream",
     "text": [
      "{'epoch': 0, 'iter': 5090, 'avg_loss': 6.098831542417264, 'avg_acc': 50.144249656256136, 'loss': 5.815621852874756}\n"
     ]
    },
    {
     "name": "stderr",
     "output_type": "stream",
     "text": [
      "EP_train:0:  74%|| 5103/6926 [08:37<02:57, 10.25it/s]"
     ]
    },
    {
     "name": "stdout",
     "output_type": "stream",
     "text": [
      "{'epoch': 0, 'iter': 5100, 'avg_loss': 6.098107283546793, 'avg_acc': 50.133552244657906, 'loss': 5.698247909545898}\n"
     ]
    },
    {
     "name": "stderr",
     "output_type": "stream",
     "text": [
      "EP_train:0:  74%|| 5113/6926 [08:38<03:00, 10.05it/s]"
     ]
    },
    {
     "name": "stdout",
     "output_type": "stream",
     "text": [
      "{'epoch': 0, 'iter': 5110, 'avg_loss': 6.097267732674351, 'avg_acc': 50.14368518880845, 'loss': 5.830342769622803}\n"
     ]
    },
    {
     "name": "stderr",
     "output_type": "stream",
     "text": [
      "EP_train:0:  74%|| 5123/6926 [08:39<02:57, 10.18it/s]"
     ]
    },
    {
     "name": "stdout",
     "output_type": "stream",
     "text": [
      "{'epoch': 0, 'iter': 5120, 'avg_loss': 6.096467226423618, 'avg_acc': 50.14218414372193, 'loss': 6.0390777587890625}\n"
     ]
    },
    {
     "name": "stderr",
     "output_type": "stream",
     "text": [
      "EP_train:0:  74%|| 5133/6926 [08:40<02:51, 10.48it/s]"
     ]
    },
    {
     "name": "stdout",
     "output_type": "stream",
     "text": [
      "{'epoch': 0, 'iter': 5130, 'avg_loss': 6.09585053189831, 'avg_acc': 50.14434320795167, 'loss': 5.761680603027344}\n"
     ]
    },
    {
     "name": "stderr",
     "output_type": "stream",
     "text": [
      "EP_train:0:  74%|| 5143/6926 [08:41<02:50, 10.45it/s]"
     ]
    },
    {
     "name": "stdout",
     "output_type": "stream",
     "text": [
      "{'epoch': 0, 'iter': 5140, 'avg_loss': 6.0953017500814495, 'avg_acc': 50.14406243921417, 'loss': 6.03522253036499}\n"
     ]
    },
    {
     "name": "stderr",
     "output_type": "stream",
     "text": [
      "EP_train:0:  74%|| 5153/6926 [08:42<02:50, 10.43it/s]"
     ]
    },
    {
     "name": "stdout",
     "output_type": "stream",
     "text": [
      "{'epoch': 0, 'iter': 5150, 'avg_loss': 6.094725652149269, 'avg_acc': 50.14196272568433, 'loss': 5.660030364990234}\n"
     ]
    },
    {
     "name": "stderr",
     "output_type": "stream",
     "text": [
      "EP_train:0:  75%|| 5163/6926 [08:43<02:49, 10.41it/s]"
     ]
    },
    {
     "name": "stdout",
     "output_type": "stream",
     "text": [
      "{'epoch': 0, 'iter': 5160, 'avg_loss': 6.09422185092535, 'avg_acc': 50.14350416585933, 'loss': 5.7342448234558105}\n"
     ]
    },
    {
     "name": "stderr",
     "output_type": "stream",
     "text": [
      "EP_train:0:  75%|| 5173/6926 [08:44<02:49, 10.32it/s]"
     ]
    },
    {
     "name": "stdout",
     "output_type": "stream",
     "text": [
      "{'epoch': 0, 'iter': 5170, 'avg_loss': 6.09382337362894, 'avg_acc': 50.14624830787082, 'loss': 5.488970756530762}\n"
     ]
    },
    {
     "name": "stderr",
     "output_type": "stream",
     "text": [
      "EP_train:0:  75%|| 5183/6926 [08:45<02:46, 10.46it/s]"
     ]
    },
    {
     "name": "stdout",
     "output_type": "stream",
     "text": [
      "{'epoch': 0, 'iter': 5180, 'avg_loss': 6.092790041023229, 'avg_acc': 50.155616676317315, 'loss': 5.733803749084473}\n"
     ]
    },
    {
     "name": "stderr",
     "output_type": "stream",
     "text": [
      "EP_train:0:  75%|| 5193/6926 [08:46<02:50, 10.19it/s]"
     ]
    },
    {
     "name": "stdout",
     "output_type": "stream",
     "text": [
      "{'epoch': 0, 'iter': 5190, 'avg_loss': 6.092179019518658, 'avg_acc': 50.152306877287614, 'loss': 5.902196884155273}\n"
     ]
    },
    {
     "name": "stderr",
     "output_type": "stream",
     "text": [
      "EP_train:0:  75%|| 5202/6926 [08:47<02:51, 10.07it/s]"
     ]
    },
    {
     "name": "stdout",
     "output_type": "stream",
     "text": [
      "{'epoch': 0, 'iter': 5200, 'avg_loss': 6.091823527730902, 'avg_acc': 50.15261488175351, 'loss': 5.518336772918701}\n"
     ]
    },
    {
     "name": "stderr",
     "output_type": "stream",
     "text": [
      "EP_train:0:  75%|| 5213/6926 [08:48<02:51,  9.98it/s]"
     ]
    },
    {
     "name": "stdout",
     "output_type": "stream",
     "text": [
      "{'epoch': 0, 'iter': 5210, 'avg_loss': 6.091137726552609, 'avg_acc': 50.14872385338707, 'loss': 5.626190662384033}\n"
     ]
    },
    {
     "name": "stderr",
     "output_type": "stream",
     "text": [
      "EP_train:0:  75%|| 5223/6926 [08:49<02:53,  9.83it/s]"
     ]
    },
    {
     "name": "stdout",
     "output_type": "stream",
     "text": [
      "{'epoch': 0, 'iter': 5220, 'avg_loss': 6.090711158437533, 'avg_acc': 50.14784045202069, 'loss': 5.937600135803223}\n"
     ]
    },
    {
     "name": "stderr",
     "output_type": "stream",
     "text": [
      "EP_train:0:  76%|| 5233/6926 [08:50<02:50,  9.90it/s]"
     ]
    },
    {
     "name": "stdout",
     "output_type": "stream",
     "text": [
      "{'epoch': 0, 'iter': 5230, 'avg_loss': 6.090042200582567, 'avg_acc': 50.1433760275282, 'loss': 5.725339412689209}\n"
     ]
    },
    {
     "name": "stderr",
     "output_type": "stream",
     "text": [
      "EP_train:0:  76%|| 5243/6926 [08:51<02:43, 10.32it/s]"
     ]
    },
    {
     "name": "stdout",
     "output_type": "stream",
     "text": [
      "{'epoch': 0, 'iter': 5240, 'avg_loss': 6.089324008324428, 'avg_acc': 50.130580995993135, 'loss': 4.825440406799316}\n"
     ]
    },
    {
     "name": "stderr",
     "output_type": "stream",
     "text": [
      "EP_train:0:  76%|| 5251/6926 [08:52<02:49,  9.85it/s]"
     ]
    },
    {
     "name": "stdout",
     "output_type": "stream",
     "text": [
      "{'epoch': 0, 'iter': 5250, 'avg_loss': 6.08834560719746, 'avg_acc': 50.132712816606364, 'loss': 5.432988166809082}\n"
     ]
    },
    {
     "name": "stderr",
     "output_type": "stream",
     "text": [
      "EP_train:0:  76%|| 5263/6926 [08:53<02:46,  9.97it/s]"
     ]
    },
    {
     "name": "stdout",
     "output_type": "stream",
     "text": [
      "{'epoch': 0, 'iter': 5260, 'avg_loss': 6.087651566438542, 'avg_acc': 50.131272571754415, 'loss': 5.438479423522949}\n"
     ]
    },
    {
     "name": "stderr",
     "output_type": "stream",
     "text": [
      "EP_train:0:  76%|| 5272/6926 [08:54<02:38, 10.45it/s]"
     ]
    },
    {
     "name": "stdout",
     "output_type": "stream",
     "text": [
      "{'epoch': 0, 'iter': 5270, 'avg_loss': 6.0869222933009866, 'avg_acc': 50.11916619237336, 'loss': 5.774928092956543}\n"
     ]
    },
    {
     "name": "stderr",
     "output_type": "stream",
     "text": [
      "EP_train:0:  76%|| 5282/6926 [08:55<02:39, 10.32it/s]"
     ]
    },
    {
     "name": "stdout",
     "output_type": "stream",
     "text": [
      "{'epoch': 0, 'iter': 5280, 'avg_loss': 6.086127012477095, 'avg_acc': 50.12012402953986, 'loss': 5.534301280975342}\n"
     ]
    },
    {
     "name": "stderr",
     "output_type": "stream",
     "text": [
      "EP_train:0:  76%|| 5292/6926 [08:56<02:48,  9.71it/s]"
     ]
    },
    {
     "name": "stdout",
     "output_type": "stream",
     "text": [
      "{'epoch': 0, 'iter': 5290, 'avg_loss': 6.085494185908939, 'avg_acc': 50.125803250803244, 'loss': 6.169827461242676}\n"
     ]
    },
    {
     "name": "stderr",
     "output_type": "stream",
     "text": [
      "EP_train:0:  77%|| 5302/6926 [08:57<02:40, 10.09it/s]"
     ]
    },
    {
     "name": "stdout",
     "output_type": "stream",
     "text": [
      "{'epoch': 0, 'iter': 5300, 'avg_loss': 6.084740173589552, 'avg_acc': 50.12674495378231, 'loss': 5.009613990783691}\n"
     ]
    },
    {
     "name": "stderr",
     "output_type": "stream",
     "text": [
      "EP_train:0:  77%|| 5312/6926 [08:58<02:39, 10.13it/s]"
     ]
    },
    {
     "name": "stdout",
     "output_type": "stream",
     "text": [
      "{'epoch': 0, 'iter': 5310, 'avg_loss': 6.084173476442378, 'avg_acc': 50.121799096215405, 'loss': 5.531417369842529}\n"
     ]
    },
    {
     "name": "stderr",
     "output_type": "stream",
     "text": [
      "EP_train:0:  77%|| 5322/6926 [08:59<02:37, 10.21it/s]"
     ]
    },
    {
     "name": "stdout",
     "output_type": "stream",
     "text": [
      "{'epoch': 0, 'iter': 5320, 'avg_loss': 6.083569113013216, 'avg_acc': 50.12568126292051, 'loss': 6.103245735168457}\n"
     ]
    },
    {
     "name": "stderr",
     "output_type": "stream",
     "text": [
      "EP_train:0:  77%|| 5332/6926 [09:00<02:41,  9.90it/s]"
     ]
    },
    {
     "name": "stdout",
     "output_type": "stream",
     "text": [
      "{'epoch': 0, 'iter': 5330, 'avg_loss': 6.082903723089719, 'avg_acc': 50.13072125304821, 'loss': 5.797120571136475}\n"
     ]
    },
    {
     "name": "stderr",
     "output_type": "stream",
     "text": [
      "EP_train:0:  77%|| 5342/6926 [09:01<02:40,  9.90it/s]"
     ]
    },
    {
     "name": "stdout",
     "output_type": "stream",
     "text": [
      "{'epoch': 0, 'iter': 5340, 'avg_loss': 6.0823469594988655, 'avg_acc': 50.12462553828871, 'loss': 5.668580532073975}\n"
     ]
    },
    {
     "name": "stderr",
     "output_type": "stream",
     "text": [
      "EP_train:0:  77%|| 5352/6926 [09:02<02:40,  9.82it/s]"
     ]
    },
    {
     "name": "stdout",
     "output_type": "stream",
     "text": [
      "{'epoch': 0, 'iter': 5350, 'avg_loss': 6.081741582788144, 'avg_acc': 50.122056624929925, 'loss': 5.802875518798828}\n"
     ]
    },
    {
     "name": "stderr",
     "output_type": "stream",
     "text": [
      "EP_train:0:  77%|| 5362/6926 [09:03<02:38,  9.89it/s]"
     ]
    },
    {
     "name": "stdout",
     "output_type": "stream",
     "text": [
      "{'epoch': 0, 'iter': 5360, 'avg_loss': 6.081158480122116, 'avg_acc': 50.12765808617795, 'loss': 5.983470916748047}\n"
     ]
    },
    {
     "name": "stderr",
     "output_type": "stream",
     "text": [
      "EP_train:0:  78%|| 5372/6926 [09:04<02:28, 10.50it/s]"
     ]
    },
    {
     "name": "stdout",
     "output_type": "stream",
     "text": [
      "{'epoch': 0, 'iter': 5370, 'avg_loss': 6.0806544963884255, 'avg_acc': 50.13149320424502, 'loss': 6.123239040374756}\n"
     ]
    },
    {
     "name": "stderr",
     "output_type": "stream",
     "text": [
      "EP_train:0:  78%|| 5382/6926 [09:05<02:25, 10.60it/s]"
     ]
    },
    {
     "name": "stdout",
     "output_type": "stream",
     "text": [
      "{'epoch': 0, 'iter': 5380, 'avg_loss': 6.07981921979163, 'avg_acc': 50.13299107972495, 'loss': 5.1989312171936035}\n"
     ]
    },
    {
     "name": "stderr",
     "output_type": "stream",
     "text": [
      "EP_train:0:  78%|| 5392/6926 [09:06<02:29, 10.27it/s]"
     ]
    },
    {
     "name": "stdout",
     "output_type": "stream",
     "text": [
      "{'epoch': 0, 'iter': 5390, 'avg_loss': 6.078945823203122, 'avg_acc': 50.131585049156, 'loss': 5.6081342697143555}\n"
     ]
    },
    {
     "name": "stderr",
     "output_type": "stream",
     "text": [
      "EP_train:0:  78%|| 5403/6926 [09:07<02:32,  9.98it/s]"
     ]
    },
    {
     "name": "stdout",
     "output_type": "stream",
     "text": [
      "{'epoch': 0, 'iter': 5400, 'avg_loss': 6.078156466926387, 'avg_acc': 50.13076282169968, 'loss': 5.561309337615967}\n"
     ]
    },
    {
     "name": "stderr",
     "output_type": "stream",
     "text": [
      "EP_train:0:  78%|| 5412/6926 [09:08<02:26, 10.36it/s]"
     ]
    },
    {
     "name": "stdout",
     "output_type": "stream",
     "text": [
      "{'epoch': 0, 'iter': 5410, 'avg_loss': 6.077508097059778, 'avg_acc': 50.128211051561635, 'loss': 5.093168258666992}\n"
     ]
    },
    {
     "name": "stderr",
     "output_type": "stream",
     "text": [
      "EP_train:0:  78%|| 5423/6926 [09:09<02:29, 10.05it/s]"
     ]
    },
    {
     "name": "stdout",
     "output_type": "stream",
     "text": [
      "{'epoch': 0, 'iter': 5420, 'avg_loss': 6.076925025173624, 'avg_acc': 50.125092233905185, 'loss': 5.822926044464111}\n"
     ]
    },
    {
     "name": "stderr",
     "output_type": "stream",
     "text": [
      "EP_train:0:  78%|| 5433/6926 [09:10<02:28, 10.09it/s]"
     ]
    },
    {
     "name": "stdout",
     "output_type": "stream",
     "text": [
      "{'epoch': 0, 'iter': 5430, 'avg_loss': 6.076232138928558, 'avg_acc': 50.122560301970175, 'loss': 5.68587589263916}\n"
     ]
    },
    {
     "name": "stderr",
     "output_type": "stream",
     "text": [
      "EP_train:0:  79%|| 5443/6926 [09:11<02:27, 10.05it/s]"
     ]
    },
    {
     "name": "stdout",
     "output_type": "stream",
     "text": [
      "{'epoch': 0, 'iter': 5440, 'avg_loss': 6.0755321873042805, 'avg_acc': 50.117740305090976, 'loss': 6.112320899963379}\n"
     ]
    },
    {
     "name": "stderr",
     "output_type": "stream",
     "text": [
      "EP_train:0:  79%|| 5453/6926 [09:12<02:21, 10.44it/s]"
     ]
    },
    {
     "name": "stdout",
     "output_type": "stream",
     "text": [
      "{'epoch': 0, 'iter': 5450, 'avg_loss': 6.07518923730943, 'avg_acc': 50.11465786094295, 'loss': 5.7938995361328125}\n"
     ]
    },
    {
     "name": "stderr",
     "output_type": "stream",
     "text": [
      "EP_train:0:  79%|| 5461/6926 [09:13<02:24, 10.16it/s]"
     ]
    },
    {
     "name": "stdout",
     "output_type": "stream",
     "text": [
      "{'epoch': 0, 'iter': 5460, 'avg_loss': 6.074692954556057, 'avg_acc': 50.113875663797835, 'loss': 5.763023376464844}\n"
     ]
    },
    {
     "name": "stderr",
     "output_type": "stream",
     "text": [
      "EP_train:0:  79%|| 5473/6926 [09:14<02:23, 10.12it/s]"
     ]
    },
    {
     "name": "stdout",
     "output_type": "stream",
     "text": [
      "{'epoch': 0, 'iter': 5470, 'avg_loss': 6.073920714748427, 'avg_acc': 50.116523487479434, 'loss': 4.992811679840088}\n"
     ]
    },
    {
     "name": "stderr",
     "output_type": "stream",
     "text": [
      "EP_train:0:  79%|| 5483/6926 [09:15<02:23, 10.07it/s]"
     ]
    },
    {
     "name": "stdout",
     "output_type": "stream",
     "text": [
      "{'epoch': 0, 'iter': 5480, 'avg_loss': 6.073336269533171, 'avg_acc': 50.11231983214742, 'loss': 5.745265007019043}\n"
     ]
    },
    {
     "name": "stderr",
     "output_type": "stream",
     "text": [
      "EP_train:0:  79%|| 5493/6926 [09:16<02:17, 10.40it/s]"
     ]
    },
    {
     "name": "stdout",
     "output_type": "stream",
     "text": [
      "{'epoch': 0, 'iter': 5490, 'avg_loss': 6.072917944745404, 'avg_acc': 50.11666818430158, 'loss': 5.571727752685547}\n"
     ]
    },
    {
     "name": "stderr",
     "output_type": "stream",
     "text": [
      "EP_train:0:  79%|| 5503/6926 [09:17<02:13, 10.62it/s]"
     ]
    },
    {
     "name": "stdout",
     "output_type": "stream",
     "text": [
      "{'epoch': 0, 'iter': 5500, 'avg_loss': 6.072172396877769, 'avg_acc': 50.11816033448464, 'loss': 4.986934185028076}\n"
     ]
    },
    {
     "name": "stderr",
     "output_type": "stream",
     "text": [
      "EP_train:0:  80%|| 5513/6926 [09:18<02:14, 10.49it/s]"
     ]
    },
    {
     "name": "stdout",
     "output_type": "stream",
     "text": [
      "{'epoch': 0, 'iter': 5510, 'avg_loss': 6.071389420584961, 'avg_acc': 50.12475049900199, 'loss': 5.5405049324035645}\n"
     ]
    },
    {
     "name": "stderr",
     "output_type": "stream",
     "text": [
      "EP_train:0:  80%|| 5523/6926 [09:19<02:13, 10.54it/s]"
     ]
    },
    {
     "name": "stdout",
     "output_type": "stream",
     "text": [
      "{'epoch': 0, 'iter': 5520, 'avg_loss': 6.070948435288153, 'avg_acc': 50.12735464589748, 'loss': 6.045231342315674}\n"
     ]
    },
    {
     "name": "stderr",
     "output_type": "stream",
     "text": [
      "EP_train:0:  80%|| 5533/6926 [09:20<02:16, 10.24it/s]"
     ]
    },
    {
     "name": "stdout",
     "output_type": "stream",
     "text": [
      "{'epoch': 0, 'iter': 5530, 'avg_loss': 6.070040650661719, 'avg_acc': 50.12938437895498, 'loss': 5.826796531677246}\n"
     ]
    },
    {
     "name": "stderr",
     "output_type": "stream",
     "text": [
      "EP_train:0:  80%|| 5543/6926 [09:21<02:18, 10.00it/s]"
     ]
    },
    {
     "name": "stdout",
     "output_type": "stream",
     "text": [
      "{'epoch': 0, 'iter': 5540, 'avg_loss': 6.0693830863768135, 'avg_acc': 50.1285868976719, 'loss': 5.509181022644043}\n"
     ]
    },
    {
     "name": "stderr",
     "output_type": "stream",
     "text": [
      "EP_train:0:  80%|| 5552/6926 [09:21<02:20,  9.80it/s]"
     ]
    },
    {
     "name": "stdout",
     "output_type": "stream",
     "text": [
      "{'epoch': 0, 'iter': 5550, 'avg_loss': 6.068639501926599, 'avg_acc': 50.12328859664925, 'loss': 5.143570899963379}\n"
     ]
    },
    {
     "name": "stderr",
     "output_type": "stream",
     "text": [
      "EP_train:0:  80%|| 5562/6926 [09:22<02:15, 10.08it/s]"
     ]
    },
    {
     "name": "stdout",
     "output_type": "stream",
     "text": [
      "{'epoch': 0, 'iter': 5560, 'avg_loss': 6.068103437435711, 'avg_acc': 50.12587664089193, 'loss': 5.710302829742432}\n"
     ]
    },
    {
     "name": "stderr",
     "output_type": "stream",
     "text": [
      "EP_train:0:  80%|| 5573/6926 [09:24<02:12, 10.20it/s]"
     ]
    },
    {
     "name": "stdout",
     "output_type": "stream",
     "text": [
      "{'epoch': 0, 'iter': 5570, 'avg_loss': 6.067746153427313, 'avg_acc': 50.11667564171602, 'loss': 5.463354587554932}\n"
     ]
    },
    {
     "name": "stderr",
     "output_type": "stream",
     "text": [
      "EP_train:0:  81%|| 5583/6926 [09:24<02:10, 10.27it/s]"
     ]
    },
    {
     "name": "stdout",
     "output_type": "stream",
     "text": [
      "{'epoch': 0, 'iter': 5580, 'avg_loss': 6.067305643399158, 'avg_acc': 50.1248656154811, 'loss': 5.699814319610596}\n"
     ]
    },
    {
     "name": "stderr",
     "output_type": "stream",
     "text": [
      "EP_train:0:  81%|| 5593/6926 [09:25<02:11, 10.13it/s]"
     ]
    },
    {
     "name": "stdout",
     "output_type": "stream",
     "text": [
      "{'epoch': 0, 'iter': 5590, 'avg_loss': 6.066850224455532, 'avg_acc': 50.128554820246826, 'loss': 5.979358673095703}\n"
     ]
    },
    {
     "name": "stderr",
     "output_type": "stream",
     "text": [
      "EP_train:0:  81%|| 5603/6926 [09:26<02:09, 10.25it/s]"
     ]
    },
    {
     "name": "stdout",
     "output_type": "stream",
     "text": [
      "{'epoch': 0, 'iter': 5600, 'avg_loss': 6.066214097821059, 'avg_acc': 50.1305570433851, 'loss': 5.572237968444824}\n"
     ]
    },
    {
     "name": "stderr",
     "output_type": "stream",
     "text": [
      "EP_train:0:  81%|| 5611/6926 [09:27<02:09, 10.14it/s]"
     ]
    },
    {
     "name": "stdout",
     "output_type": "stream",
     "text": [
      "{'epoch': 0, 'iter': 5610, 'avg_loss': 6.0655118069999725, 'avg_acc': 50.129210479415434, 'loss': 5.768848419189453}\n"
     ]
    },
    {
     "name": "stderr",
     "output_type": "stream",
     "text": [
      "EP_train:0:  81%|| 5623/6926 [09:28<02:15,  9.60it/s]"
     ]
    },
    {
     "name": "stdout",
     "output_type": "stream",
     "text": [
      "{'epoch': 0, 'iter': 5620, 'avg_loss': 6.0650904304593976, 'avg_acc': 50.12842465753424, 'loss': 5.774648189544678}\n"
     ]
    },
    {
     "name": "stderr",
     "output_type": "stream",
     "text": [
      "EP_train:0:  81%|| 5632/6926 [09:29<02:13,  9.66it/s]"
     ]
    },
    {
     "name": "stdout",
     "output_type": "stream",
     "text": [
      "{'epoch': 0, 'iter': 5630, 'avg_loss': 6.064239345717189, 'avg_acc': 50.13374622624755, 'loss': 5.771207332611084}\n"
     ]
    },
    {
     "name": "stderr",
     "output_type": "stream",
     "text": [
      "EP_train:0:  81%|| 5642/6926 [09:30<02:03, 10.36it/s]"
     ]
    },
    {
     "name": "stdout",
     "output_type": "stream",
     "text": [
      "{'epoch': 0, 'iter': 5640, 'avg_loss': 6.063677989132669, 'avg_acc': 50.13960290728594, 'loss': 5.6061906814575195}\n"
     ]
    },
    {
     "name": "stderr",
     "output_type": "stream",
     "text": [
      "EP_train:0:  82%|| 5653/6926 [09:31<02:05, 10.12it/s]"
     ]
    },
    {
     "name": "stdout",
     "output_type": "stream",
     "text": [
      "{'epoch': 0, 'iter': 5650, 'avg_loss': 6.063242773485698, 'avg_acc': 50.153733852415506, 'loss': 6.013014793395996}\n"
     ]
    },
    {
     "name": "stderr",
     "output_type": "stream",
     "text": [
      "EP_train:0:  82%|| 5663/6926 [09:32<02:03, 10.19it/s]"
     ]
    },
    {
     "name": "stdout",
     "output_type": "stream",
     "text": [
      "{'epoch': 0, 'iter': 5660, 'avg_loss': 6.062675753955474, 'avg_acc': 50.15622239886945, 'loss': 6.035766124725342}\n"
     ]
    },
    {
     "name": "stderr",
     "output_type": "stream",
     "text": [
      "EP_train:0:  82%|| 5673/6926 [09:33<02:02, 10.25it/s]"
     ]
    },
    {
     "name": "stdout",
     "output_type": "stream",
     "text": [
      "{'epoch': 0, 'iter': 5670, 'avg_loss': 6.062086257117279, 'avg_acc': 50.153191676952915, 'loss': 5.504903316497803}\n"
     ]
    },
    {
     "name": "stderr",
     "output_type": "stream",
     "text": [
      "EP_train:0:  82%|| 5683/6926 [09:34<01:59, 10.39it/s]"
     ]
    },
    {
     "name": "stdout",
     "output_type": "stream",
     "text": [
      "{'epoch': 0, 'iter': 5680, 'avg_loss': 6.061577821109438, 'avg_acc': 50.15842281288505, 'loss': 5.672509670257568}\n"
     ]
    },
    {
     "name": "stderr",
     "output_type": "stream",
     "text": [
      "EP_train:0:  82%|| 5691/6926 [09:35<02:02, 10.05it/s]"
     ]
    },
    {
     "name": "stdout",
     "output_type": "stream",
     "text": [
      "{'epoch': 0, 'iter': 5690, 'avg_loss': 6.061225335599249, 'avg_acc': 50.16198822702512, 'loss': 6.1422648429870605}\n"
     ]
    },
    {
     "name": "stderr",
     "output_type": "stream",
     "text": [
      "EP_train:0:  82%|| 5703/6926 [09:36<02:01, 10.03it/s]"
     ]
    },
    {
     "name": "stdout",
     "output_type": "stream",
     "text": [
      "{'epoch': 0, 'iter': 5700, 'avg_loss': 6.060548591229021, 'avg_acc': 50.15677074197509, 'loss': 5.377923488616943}\n"
     ]
    },
    {
     "name": "stderr",
     "output_type": "stream",
     "text": [
      "EP_train:0:  82%|| 5712/6926 [09:37<02:08,  9.48it/s]"
     ]
    },
    {
     "name": "stdout",
     "output_type": "stream",
     "text": [
      "{'epoch': 0, 'iter': 5710, 'avg_loss': 6.060081636147958, 'avg_acc': 50.155401856067236, 'loss': 5.830066680908203}\n"
     ]
    },
    {
     "name": "stderr",
     "output_type": "stream",
     "text": [
      "EP_train:0:  83%|| 5722/6926 [09:38<01:55, 10.41it/s]"
     ]
    },
    {
     "name": "stdout",
     "output_type": "stream",
     "text": [
      "{'epoch': 0, 'iter': 5720, 'avg_loss': 6.059565184562695, 'avg_acc': 50.15731515469324, 'loss': 6.002898693084717}\n"
     ]
    },
    {
     "name": "stderr",
     "output_type": "stream",
     "text": [
      "EP_train:0:  83%|| 5733/6926 [09:39<02:00,  9.89it/s]"
     ]
    },
    {
     "name": "stdout",
     "output_type": "stream",
     "text": [
      "{'epoch': 0, 'iter': 5730, 'avg_loss': 6.058938966374022, 'avg_acc': 50.15976705636015, 'loss': 5.829737663269043}\n"
     ]
    },
    {
     "name": "stderr",
     "output_type": "stream",
     "text": [
      "EP_train:0:  83%|| 5742/6926 [09:40<01:58,  9.96it/s]"
     ]
    },
    {
     "name": "stdout",
     "output_type": "stream",
     "text": [
      "{'epoch': 0, 'iter': 5740, 'avg_loss': 6.058123572780953, 'avg_acc': 50.166565058352205, 'loss': 5.512332916259766}\n"
     ]
    },
    {
     "name": "stderr",
     "output_type": "stream",
     "text": [
      "EP_train:0:  83%|| 5752/6926 [09:41<01:54, 10.30it/s]"
     ]
    },
    {
     "name": "stdout",
     "output_type": "stream",
     "text": [
      "{'epoch': 0, 'iter': 5750, 'avg_loss': 6.057791099074073, 'avg_acc': 50.1706225004347, 'loss': 5.640838623046875}\n"
     ]
    },
    {
     "name": "stderr",
     "output_type": "stream",
     "text": [
      "EP_train:0:  83%|| 5762/6926 [09:42<01:52, 10.35it/s]"
     ]
    },
    {
     "name": "stdout",
     "output_type": "stream",
     "text": [
      "{'epoch': 0, 'iter': 5760, 'avg_loss': 6.057146701190315, 'avg_acc': 50.17141121333102, 'loss': 5.9778523445129395}\n"
     ]
    },
    {
     "name": "stderr",
     "output_type": "stream",
     "text": [
      "EP_train:0:  83%|| 5772/6926 [09:43<01:53, 10.15it/s]"
     ]
    },
    {
     "name": "stdout",
     "output_type": "stream",
     "text": [
      "{'epoch': 0, 'iter': 5770, 'avg_loss': 6.056382907529655, 'avg_acc': 50.17328019407382, 'loss': 5.7699055671691895}\n"
     ]
    },
    {
     "name": "stderr",
     "output_type": "stream",
     "text": [
      "EP_train:0:  83%|| 5782/6926 [09:44<01:51, 10.27it/s]"
     ]
    },
    {
     "name": "stdout",
     "output_type": "stream",
     "text": [
      "{'epoch': 0, 'iter': 5780, 'avg_loss': 6.055731262391134, 'avg_acc': 50.16649368621346, 'loss': 5.595499038696289}\n"
     ]
    },
    {
     "name": "stderr",
     "output_type": "stream",
     "text": [
      "EP_train:0:  84%|| 5793/6926 [09:45<01:53,  9.97it/s]"
     ]
    },
    {
     "name": "stdout",
     "output_type": "stream",
     "text": [
      "{'epoch': 0, 'iter': 5790, 'avg_loss': 6.0549802184002, 'avg_acc': 50.16458729062339, 'loss': 5.935267925262451}\n"
     ]
    },
    {
     "name": "stderr",
     "output_type": "stream",
     "text": [
      "EP_train:0:  84%|| 5803/6926 [09:46<01:48, 10.30it/s]"
     ]
    },
    {
     "name": "stdout",
     "output_type": "stream",
     "text": [
      "{'epoch': 0, 'iter': 5800, 'avg_loss': 6.054385404466781, 'avg_acc': 50.165919669022585, 'loss': 6.186507701873779}\n"
     ]
    },
    {
     "name": "stderr",
     "output_type": "stream",
     "text": [
      "EP_train:0:  84%|| 5813/6926 [09:47<01:49, 10.15it/s]"
     ]
    },
    {
     "name": "stdout",
     "output_type": "stream",
     "text": [
      "{'epoch': 0, 'iter': 5810, 'avg_loss': 6.053937023302668, 'avg_acc': 50.16240750301153, 'loss': 5.971697807312012}\n"
     ]
    },
    {
     "name": "stderr",
     "output_type": "stream",
     "text": [
      "EP_train:0:  84%|| 5823/6926 [09:48<01:46, 10.37it/s]"
     ]
    },
    {
     "name": "stdout",
     "output_type": "stream",
     "text": [
      "{'epoch': 0, 'iter': 5820, 'avg_loss': 6.053329208097472, 'avg_acc': 50.16212850025769, 'loss': 5.724178791046143}\n"
     ]
    },
    {
     "name": "stderr",
     "output_type": "stream",
     "text": [
      "EP_train:0:  84%|| 5833/6926 [09:49<01:42, 10.65it/s]"
     ]
    },
    {
     "name": "stdout",
     "output_type": "stream",
     "text": [
      "{'epoch': 0, 'iter': 5830, 'avg_loss': 6.052901079020519, 'avg_acc': 50.15702709655291, 'loss': 5.591014385223389}\n"
     ]
    },
    {
     "name": "stderr",
     "output_type": "stream",
     "text": [
      "EP_train:0:  84%|| 5843/6926 [09:50<01:43, 10.43it/s]"
     ]
    },
    {
     "name": "stdout",
     "output_type": "stream",
     "text": [
      "{'epoch': 0, 'iter': 5840, 'avg_loss': 6.052372650544216, 'avg_acc': 50.15889830508474, 'loss': 5.405651092529297}\n"
     ]
    },
    {
     "name": "stderr",
     "output_type": "stream",
     "text": [
      "EP_train:0:  85%|| 5853/6926 [09:51<01:47,  9.94it/s]"
     ]
    },
    {
     "name": "stdout",
     "output_type": "stream",
     "text": [
      "{'epoch': 0, 'iter': 5850, 'avg_loss': 6.051541215312764, 'avg_acc': 50.148478892497, 'loss': 5.692230701446533}\n"
     ]
    },
    {
     "name": "stderr",
     "output_type": "stream",
     "text": [
      "EP_train:0:  85%|| 5862/6926 [09:52<01:47,  9.88it/s]"
     ]
    },
    {
     "name": "stdout",
     "output_type": "stream",
     "text": [
      "{'epoch': 0, 'iter': 5860, 'avg_loss': 6.050948701932393, 'avg_acc': 50.1487587442416, 'loss': 5.319116592407227}\n"
     ]
    },
    {
     "name": "stderr",
     "output_type": "stream",
     "text": [
      "EP_train:0:  85%|| 5871/6926 [09:53<01:46,  9.94it/s]"
     ]
    },
    {
     "name": "stdout",
     "output_type": "stream",
     "text": [
      "{'epoch': 0, 'iter': 5870, 'avg_loss': 6.0503098129353035, 'avg_acc': 50.15436041560212, 'loss': 5.516465187072754}\n"
     ]
    },
    {
     "name": "stderr",
     "output_type": "stream",
     "text": [
      "EP_train:0:  85%|| 5883/6926 [09:54<01:40, 10.35it/s]"
     ]
    },
    {
     "name": "stdout",
     "output_type": "stream",
     "text": [
      "{'epoch': 0, 'iter': 5880, 'avg_loss': 6.049907898461002, 'avg_acc': 50.15144108144873, 'loss': 5.881052017211914}\n"
     ]
    },
    {
     "name": "stderr",
     "output_type": "stream",
     "text": [
      "EP_train:0:  85%|| 5891/6926 [09:55<01:44,  9.89it/s]"
     ]
    },
    {
     "name": "stdout",
     "output_type": "stream",
     "text": [
      "{'epoch': 0, 'iter': 5890, 'avg_loss': 6.049595657987114, 'avg_acc': 50.14694024783568, 'loss': 6.322949409484863}\n"
     ]
    },
    {
     "name": "stderr",
     "output_type": "stream",
     "text": [
      "EP_train:0:  85%|| 5902/6926 [09:56<01:39, 10.34it/s]"
     ]
    },
    {
     "name": "stdout",
     "output_type": "stream",
     "text": [
      "{'epoch': 0, 'iter': 5900, 'avg_loss': 6.049042423909609, 'avg_acc': 50.15463480765972, 'loss': 5.897069454193115}\n"
     ]
    },
    {
     "name": "stderr",
     "output_type": "stream",
     "text": [
      "EP_train:0:  85%|| 5912/6926 [09:57<01:38, 10.27it/s]"
     ]
    },
    {
     "name": "stdout",
     "output_type": "stream",
     "text": [
      "{'epoch': 0, 'iter': 5910, 'avg_loss': 6.048556021356559, 'avg_acc': 50.15437320250381, 'loss': 5.45815372467041}\n"
     ]
    },
    {
     "name": "stderr",
     "output_type": "stream",
     "text": [
      "EP_train:0:  86%|| 5922/6926 [09:58<01:37, 10.25it/s]"
     ]
    },
    {
     "name": "stdout",
     "output_type": "stream",
     "text": [
      "{'epoch': 0, 'iter': 5920, 'avg_loss': 6.0480489072878605, 'avg_acc': 50.15991808816078, 'loss': 5.4571356773376465}\n"
     ]
    },
    {
     "name": "stderr",
     "output_type": "stream",
     "text": [
      "EP_train:0:  86%|| 5932/6926 [09:59<01:35, 10.40it/s]"
     ]
    },
    {
     "name": "stdout",
     "output_type": "stream",
     "text": [
      "{'epoch': 0, 'iter': 5930, 'avg_loss': 6.0474443825596484, 'avg_acc': 50.16122913505311, 'loss': 5.663992404937744}\n"
     ]
    },
    {
     "name": "stderr",
     "output_type": "stream",
     "text": [
      "EP_train:0:  86%|| 5942/6926 [10:00<01:34, 10.37it/s]"
     ]
    },
    {
     "name": "stdout",
     "output_type": "stream",
     "text": [
      "{'epoch': 0, 'iter': 5940, 'avg_loss': 6.046841773254826, 'avg_acc': 50.1667438141727, 'loss': 5.872215747833252}\n"
     ]
    },
    {
     "name": "stderr",
     "output_type": "stream",
     "text": [
      "EP_train:0:  86%|| 5952/6926 [10:01<01:36, 10.07it/s]"
     ]
    },
    {
     "name": "stdout",
     "output_type": "stream",
     "text": [
      "{'epoch': 0, 'iter': 5950, 'avg_loss': 6.046535923668886, 'avg_acc': 50.167513863216264, 'loss': 5.5684919357299805}\n"
     ]
    },
    {
     "name": "stderr",
     "output_type": "stream",
     "text": [
      "EP_train:0:  86%|| 5963/6926 [10:02<01:37,  9.90it/s]"
     ]
    },
    {
     "name": "stdout",
     "output_type": "stream",
     "text": [
      "{'epoch': 0, 'iter': 5960, 'avg_loss': 6.046373243160724, 'avg_acc': 50.17090253313202, 'loss': 6.049582004547119}\n"
     ]
    },
    {
     "name": "stderr",
     "output_type": "stream",
     "text": [
      "EP_train:0:  86%|| 5972/6926 [10:03<01:39,  9.64it/s]"
     ]
    },
    {
     "name": "stdout",
     "output_type": "stream",
     "text": [
      "{'epoch': 0, 'iter': 5970, 'avg_loss': 6.045904403195232, 'avg_acc': 50.16956958633395, 'loss': 5.584344387054443}\n"
     ]
    },
    {
     "name": "stderr",
     "output_type": "stream",
     "text": [
      "EP_train:0:  86%|| 5982/6926 [10:04<01:32, 10.26it/s]"
     ]
    },
    {
     "name": "stdout",
     "output_type": "stream",
     "text": [
      "{'epoch': 0, 'iter': 5980, 'avg_loss': 6.045476433425978, 'avg_acc': 50.16719612105, 'loss': 5.855034828186035}\n"
     ]
    },
    {
     "name": "stderr",
     "output_type": "stream",
     "text": [
      "EP_train:0:  87%|| 5992/6926 [10:05<01:28, 10.54it/s]"
     ]
    },
    {
     "name": "stdout",
     "output_type": "stream",
     "text": [
      "{'epoch': 0, 'iter': 5990, 'avg_loss': 6.045116077379161, 'avg_acc': 50.167438657986985, 'loss': 5.885271072387695}\n"
     ]
    },
    {
     "name": "stderr",
     "output_type": "stream",
     "text": [
      "EP_train:0:  87%|| 6002/6926 [10:06<01:27, 10.61it/s]"
     ]
    },
    {
     "name": "stdout",
     "output_type": "stream",
     "text": [
      "{'epoch': 0, 'iter': 6000, 'avg_loss': 6.0444849749601515, 'avg_acc': 50.17809531744709, 'loss': 6.0765204429626465}\n"
     ]
    },
    {
     "name": "stderr",
     "output_type": "stream",
     "text": [
      "EP_train:0:  87%|| 6013/6926 [10:07<01:32,  9.87it/s]"
     ]
    },
    {
     "name": "stdout",
     "output_type": "stream",
     "text": [
      "{'epoch': 0, 'iter': 6010, 'avg_loss': 6.044003515905121, 'avg_acc': 50.18247795707869, 'loss': 5.644420623779297}\n"
     ]
    },
    {
     "name": "stderr",
     "output_type": "stream",
     "text": [
      "EP_train:0:  87%|| 6021/6926 [10:08<01:29, 10.11it/s]"
     ]
    },
    {
     "name": "stdout",
     "output_type": "stream",
     "text": [
      "{'epoch': 0, 'iter': 6020, 'avg_loss': 6.043591747211075, 'avg_acc': 50.18996013951171, 'loss': 5.474355697631836}\n"
     ]
    },
    {
     "name": "stderr",
     "output_type": "stream",
     "text": [
      "EP_train:0:  87%|| 6032/6926 [10:09<01:31,  9.81it/s]"
     ]
    },
    {
     "name": "stdout",
     "output_type": "stream",
     "text": [
      "{'epoch': 0, 'iter': 6030, 'avg_loss': 6.043077173962006, 'avg_acc': 50.189127010446036, 'loss': 5.789226055145264}\n"
     ]
    },
    {
     "name": "stderr",
     "output_type": "stream",
     "text": [
      "EP_train:0:  87%|| 6042/6926 [10:10<01:25, 10.28it/s]"
     ]
    },
    {
     "name": "stdout",
     "output_type": "stream",
     "text": [
      "{'epoch': 0, 'iter': 6040, 'avg_loss': 6.042406727829194, 'avg_acc': 50.183123655024, 'loss': 5.553953170776367}\n"
     ]
    },
    {
     "name": "stderr",
     "output_type": "stream",
     "text": [
      "EP_train:0:  87%|| 6052/6926 [10:11<01:27,  9.98it/s]"
     ]
    },
    {
     "name": "stdout",
     "output_type": "stream",
     "text": [
      "{'epoch': 0, 'iter': 6050, 'avg_loss': 6.041939756216599, 'avg_acc': 50.17868947281441, 'loss': 6.331632137298584}\n"
     ]
    },
    {
     "name": "stderr",
     "output_type": "stream",
     "text": [
      "EP_train:0:  88%|| 6062/6926 [10:12<01:25, 10.10it/s]"
     ]
    },
    {
     "name": "stdout",
     "output_type": "stream",
     "text": [
      "{'epoch': 0, 'iter': 6060, 'avg_loss': 6.0415911255172325, 'avg_acc': 50.182003794753335, 'loss': 5.9183878898620605}\n"
     ]
    },
    {
     "name": "stderr",
     "output_type": "stream",
     "text": [
      "EP_train:0:  88%|| 6072/6926 [10:13<01:24, 10.15it/s]"
     ]
    },
    {
     "name": "stdout",
     "output_type": "stream",
     "text": [
      "{'epoch': 0, 'iter': 6070, 'avg_loss': 6.041063150372267, 'avg_acc': 50.17913029154999, 'loss': 5.524695873260498}\n"
     ]
    },
    {
     "name": "stderr",
     "output_type": "stream",
     "text": [
      "EP_train:0:  88%|| 6082/6926 [10:14<01:25,  9.91it/s]"
     ]
    },
    {
     "name": "stdout",
     "output_type": "stream",
     "text": [
      "{'epoch': 0, 'iter': 6080, 'avg_loss': 6.040355619563219, 'avg_acc': 50.17266896891959, 'loss': 5.685695648193359}\n"
     ]
    },
    {
     "name": "stderr",
     "output_type": "stream",
     "text": [
      "EP_train:0:  88%|| 6093/6926 [10:15<01:23,  9.95it/s]"
     ]
    },
    {
     "name": "stdout",
     "output_type": "stream",
     "text": [
      "{'epoch': 0, 'iter': 6090, 'avg_loss': 6.039818157254915, 'avg_acc': 50.164176654079796, 'loss': 6.108883857727051}\n"
     ]
    },
    {
     "name": "stderr",
     "output_type": "stream",
     "text": [
      "EP_train:0:  88%|| 6103/6926 [10:16<01:20, 10.28it/s]"
     ]
    },
    {
     "name": "stdout",
     "output_type": "stream",
     "text": [
      "{'epoch': 0, 'iter': 6100, 'avg_loss': 6.039246555313363, 'avg_acc': 50.165956400590076, 'loss': 6.107120513916016}\n"
     ]
    },
    {
     "name": "stderr",
     "output_type": "stream",
     "text": [
      "EP_train:0:  88%|| 6112/6926 [10:17<01:22,  9.85it/s]"
     ]
    },
    {
     "name": "stdout",
     "output_type": "stream",
     "text": [
      "{'epoch': 0, 'iter': 6110, 'avg_loss': 6.038879307996737, 'avg_acc': 50.17233267877598, 'loss': 5.525240421295166}\n"
     ]
    },
    {
     "name": "stderr",
     "output_type": "stream",
     "text": [
      "EP_train:0:  88%|| 6122/6926 [10:18<01:19, 10.14it/s]"
     ]
    },
    {
     "name": "stdout",
     "output_type": "stream",
     "text": [
      "{'epoch': 0, 'iter': 6120, 'avg_loss': 6.0383807977533985, 'avg_acc': 50.17154059794151, 'loss': 5.544116020202637}\n"
     ]
    },
    {
     "name": "stderr",
     "output_type": "stream",
     "text": [
      "EP_train:0:  89%|| 6132/6926 [10:19<01:18, 10.13it/s]"
     ]
    },
    {
     "name": "stdout",
     "output_type": "stream",
     "text": [
      "{'epoch': 0, 'iter': 6130, 'avg_loss': 6.037815358195059, 'avg_acc': 50.17126080574131, 'loss': 5.283229827880859}\n"
     ]
    },
    {
     "name": "stderr",
     "output_type": "stream",
     "text": [
      "EP_train:0:  89%|| 6142/6926 [10:20<01:18, 10.05it/s]"
     ]
    },
    {
     "name": "stdout",
     "output_type": "stream",
     "text": [
      "{'epoch': 0, 'iter': 6140, 'avg_loss': 6.0372024986336665, 'avg_acc': 50.17047304999186, 'loss': 5.940922737121582}\n"
     ]
    },
    {
     "name": "stderr",
     "output_type": "stream",
     "text": [
      "EP_train:0:  89%|| 6152/6926 [10:21<01:13, 10.57it/s]"
     ]
    },
    {
     "name": "stdout",
     "output_type": "stream",
     "text": [
      "{'epoch': 0, 'iter': 6150, 'avg_loss': 6.03661887142992, 'avg_acc': 50.17070395057714, 'loss': 5.477141380310059}\n"
     ]
    },
    {
     "name": "stderr",
     "output_type": "stream",
     "text": [
      "EP_train:0:  89%|| 6162/6926 [10:22<01:13, 10.42it/s]"
     ]
    },
    {
     "name": "stdout",
     "output_type": "stream",
     "text": [
      "{'epoch': 0, 'iter': 6160, 'avg_loss': 6.036067093953048, 'avg_acc': 50.17296299302061, 'loss': 5.947664260864258}\n"
     ]
    },
    {
     "name": "stderr",
     "output_type": "stream",
     "text": [
      "EP_train:0:  89%|| 6172/6926 [10:23<01:15, 10.03it/s]"
     ]
    },
    {
     "name": "stdout",
     "output_type": "stream",
     "text": [
      "{'epoch': 0, 'iter': 6170, 'avg_loss': 6.035567617980457, 'avg_acc': 50.16913790309512, 'loss': 6.153824329376221}\n"
     ]
    },
    {
     "name": "stderr",
     "output_type": "stream",
     "text": [
      "EP_train:0:  89%|| 6183/6926 [10:24<01:12, 10.19it/s]"
     ]
    },
    {
     "name": "stdout",
     "output_type": "stream",
     "text": [
      "{'epoch': 0, 'iter': 6180, 'avg_loss': 6.035024543195032, 'avg_acc': 50.17038100630966, 'loss': 5.389636039733887}\n"
     ]
    },
    {
     "name": "stderr",
     "output_type": "stream",
     "text": [
      "EP_train:0:  89%|| 6193/6926 [10:25<01:13, 10.02it/s]"
     ]
    },
    {
     "name": "stdout",
     "output_type": "stream",
     "text": [
      "{'epoch': 0, 'iter': 6190, 'avg_loss': 6.034614435672529, 'avg_acc': 50.16909626877726, 'loss': 5.936435222625732}\n"
     ]
    },
    {
     "name": "stderr",
     "output_type": "stream",
     "text": [
      "EP_train:0:  90%|| 6202/6926 [10:26<01:12,  9.96it/s]"
     ]
    },
    {
     "name": "stdout",
     "output_type": "stream",
     "text": [
      "{'epoch': 0, 'iter': 6200, 'avg_loss': 6.034408218301971, 'avg_acc': 50.17839864537977, 'loss': 6.059172630310059}\n"
     ]
    },
    {
     "name": "stderr",
     "output_type": "stream",
     "text": [
      "EP_train:0:  90%|| 6211/6926 [10:27<01:13,  9.68it/s]"
     ]
    },
    {
     "name": "stdout",
     "output_type": "stream",
     "text": [
      "{'epoch': 0, 'iter': 6210, 'avg_loss': 6.033877699717944, 'avg_acc': 50.17257687972951, 'loss': 5.9385552406311035}\n"
     ]
    },
    {
     "name": "stderr",
     "output_type": "stream",
     "text": [
      "EP_train:0:  90%|| 6223/6926 [10:28<01:09, 10.08it/s]"
     ]
    },
    {
     "name": "stdout",
     "output_type": "stream",
     "text": [
      "{'epoch': 0, 'iter': 6220, 'avg_loss': 6.033464971989072, 'avg_acc': 50.1738064619836, 'loss': 6.168635845184326}\n"
     ]
    },
    {
     "name": "stderr",
     "output_type": "stream",
     "text": [
      "EP_train:0:  90%|| 6232/6926 [10:29<01:07, 10.22it/s]"
     ]
    },
    {
     "name": "stdout",
     "output_type": "stream",
     "text": [
      "{'epoch': 0, 'iter': 6230, 'avg_loss': 6.032940886908752, 'avg_acc': 50.17252447440218, 'loss': 5.4145636558532715}\n"
     ]
    },
    {
     "name": "stderr",
     "output_type": "stream",
     "text": [
      "EP_train:0:  90%|| 6242/6926 [10:30<01:07, 10.09it/s]"
     ]
    },
    {
     "name": "stdout",
     "output_type": "stream",
     "text": [
      "{'epoch': 0, 'iter': 6240, 'avg_loss': 6.032584877393123, 'avg_acc': 50.175753084441595, 'loss': 5.8692216873168945}\n"
     ]
    },
    {
     "name": "stderr",
     "output_type": "stream",
     "text": [
      "EP_train:0:  90%|| 6252/6926 [10:31<01:05, 10.31it/s]"
     ]
    },
    {
     "name": "stdout",
     "output_type": "stream",
     "text": [
      "{'epoch': 0, 'iter': 6250, 'avg_loss': 6.032271081210136, 'avg_acc': 50.17247240441529, 'loss': 5.883275032043457}\n"
     ]
    },
    {
     "name": "stderr",
     "output_type": "stream",
     "text": [
      "EP_train:0:  90%|| 6262/6926 [10:32<01:04, 10.32it/s]"
     ]
    },
    {
     "name": "stdout",
     "output_type": "stream",
     "text": [
      "{'epoch': 0, 'iter': 6260, 'avg_loss': 6.03177121926603, 'avg_acc': 50.17618990576585, 'loss': 6.2462005615234375}\n"
     ]
    },
    {
     "name": "stderr",
     "output_type": "stream",
     "text": [
      "EP_train:0:  91%|| 6272/6926 [10:33<01:02, 10.43it/s]"
     ]
    },
    {
     "name": "stdout",
     "output_type": "stream",
     "text": [
      "{'epoch': 0, 'iter': 6270, 'avg_loss': 6.031404110332593, 'avg_acc': 50.17740392281933, 'loss': 5.973127365112305}\n"
     ]
    },
    {
     "name": "stderr",
     "output_type": "stream",
     "text": [
      "EP_train:0:  91%|| 6282/6926 [10:33<01:01, 10.45it/s]"
     ]
    },
    {
     "name": "stdout",
     "output_type": "stream",
     "text": [
      "{'epoch': 0, 'iter': 6280, 'avg_loss': 6.030671937244368, 'avg_acc': 50.17115109059067, 'loss': 5.301176071166992}\n"
     ]
    },
    {
     "name": "stderr",
     "output_type": "stream",
     "text": [
      "EP_train:0:  91%|| 6292/6926 [10:34<01:04,  9.87it/s]"
     ]
    },
    {
     "name": "stdout",
     "output_type": "stream",
     "text": [
      "{'epoch': 0, 'iter': 6290, 'avg_loss': 6.030409067693906, 'avg_acc': 50.17286599904626, 'loss': 6.019042491912842}\n"
     ]
    },
    {
     "name": "stderr",
     "output_type": "stream",
     "text": [
      "EP_train:0:  91%|| 6302/6926 [10:35<01:00, 10.35it/s]"
     ]
    },
    {
     "name": "stdout",
     "output_type": "stream",
     "text": [
      "{'epoch': 0, 'iter': 6300, 'avg_loss': 6.029990965857277, 'avg_acc': 50.173087605142044, 'loss': 5.539819717407227}\n"
     ]
    },
    {
     "name": "stderr",
     "output_type": "stream",
     "text": [
      "EP_train:0:  91%|| 6313/6926 [10:37<01:00, 10.09it/s]"
     ]
    },
    {
     "name": "stdout",
     "output_type": "stream",
     "text": [
      "{'epoch': 0, 'iter': 6310, 'avg_loss': 6.029612405197006, 'avg_acc': 50.16984233877358, 'loss': 6.143799304962158}\n"
     ]
    },
    {
     "name": "stderr",
     "output_type": "stream",
     "text": [
      "EP_train:0:  91%|| 6323/6926 [10:38<00:59, 10.16it/s]"
     ]
    },
    {
     "name": "stdout",
     "output_type": "stream",
     "text": [
      "{'epoch': 0, 'iter': 6320, 'avg_loss': 6.028909553023309, 'avg_acc': 50.158697199810156, 'loss': 5.758587837219238}\n"
     ]
    },
    {
     "name": "stderr",
     "output_type": "stream",
     "text": [
      "EP_train:0:  91%|| 6333/6926 [10:39<00:59,  9.98it/s]"
     ]
    },
    {
     "name": "stdout",
     "output_type": "stream",
     "text": [
      "{'epoch': 0, 'iter': 6330, 'avg_loss': 6.028687100823956, 'avg_acc': 50.153510503869846, 'loss': 6.1262526512146}\n"
     ]
    },
    {
     "name": "stderr",
     "output_type": "stream",
     "text": [
      "EP_train:0:  92%|| 6343/6926 [10:39<00:56, 10.30it/s]"
     ]
    },
    {
     "name": "stdout",
     "output_type": "stream",
     "text": [
      "{'epoch': 0, 'iter': 6340, 'avg_loss': 6.028229264952824, 'avg_acc': 50.1503114650686, 'loss': 5.976809978485107}\n"
     ]
    },
    {
     "name": "stderr",
     "output_type": "stream",
     "text": [
      "EP_train:0:  92%|| 6353/6926 [10:40<00:53, 10.66it/s]"
     ]
    },
    {
     "name": "stdout",
     "output_type": "stream",
     "text": [
      "{'epoch': 0, 'iter': 6350, 'avg_loss': 6.02769169749622, 'avg_acc': 50.15155093686033, 'loss': 5.540913105010986}\n"
     ]
    },
    {
     "name": "stderr",
     "output_type": "stream",
     "text": [
      "EP_train:0:  92%|| 6363/6926 [10:41<00:52, 10.76it/s]"
     ]
    },
    {
     "name": "stdout",
     "output_type": "stream",
     "text": [
      "{'epoch': 0, 'iter': 6360, 'avg_loss': 6.027185937890166, 'avg_acc': 50.15131268668448, 'loss': 6.053709030151367}\n"
     ]
    },
    {
     "name": "stderr",
     "output_type": "stream",
     "text": [
      "EP_train:0:  92%|| 6373/6926 [10:42<00:52, 10.57it/s]"
     ]
    },
    {
     "name": "stdout",
     "output_type": "stream",
     "text": [
      "{'epoch': 0, 'iter': 6370, 'avg_loss': 6.02677025934943, 'avg_acc': 50.14911316904724, 'loss': 6.036012172698975}\n"
     ]
    },
    {
     "name": "stderr",
     "output_type": "stream",
     "text": [
      "EP_train:0:  92%|| 6383/6926 [10:43<00:52, 10.36it/s]"
     ]
    },
    {
     "name": "stdout",
     "output_type": "stream",
     "text": [
      "{'epoch': 0, 'iter': 6380, 'avg_loss': 6.026219338015168, 'avg_acc': 50.14398213446169, 'loss': 6.012786388397217}\n"
     ]
    },
    {
     "name": "stderr",
     "output_type": "stream",
     "text": [
      "EP_train:0:  92%|| 6392/6926 [10:44<00:52, 10.18it/s]"
     ]
    },
    {
     "name": "stdout",
     "output_type": "stream",
     "text": [
      "{'epoch': 0, 'iter': 6390, 'avg_loss': 6.025597445637645, 'avg_acc': 50.141800970114225, 'loss': 6.027921676635742}\n"
     ]
    },
    {
     "name": "stderr",
     "output_type": "stream",
     "text": [
      "EP_train:0:  92%|| 6402/6926 [10:45<00:54,  9.65it/s]"
     ]
    },
    {
     "name": "stdout",
     "output_type": "stream",
     "text": [
      "{'epoch': 0, 'iter': 6400, 'avg_loss': 6.025164802415988, 'avg_acc': 50.14206764568036, 'loss': 6.065458297729492}\n"
     ]
    },
    {
     "name": "stderr",
     "output_type": "stream",
     "text": [
      "EP_train:0:  93%|| 6413/6926 [10:46<00:49, 10.30it/s]"
     ]
    },
    {
     "name": "stdout",
     "output_type": "stream",
     "text": [
      "{'epoch': 0, 'iter': 6410, 'avg_loss': 6.024988794676359, 'avg_acc': 50.13697161129309, 'loss': 6.046186923980713}\n"
     ]
    },
    {
     "name": "stderr",
     "output_type": "stream",
     "text": [
      "EP_train:0:  93%|| 6423/6926 [10:47<00:47, 10.48it/s]"
     ]
    },
    {
     "name": "stdout",
     "output_type": "stream",
     "text": [
      "{'epoch': 0, 'iter': 6420, 'avg_loss': 6.024504848255062, 'avg_acc': 50.148925401027874, 'loss': 5.519079685211182}\n"
     ]
    },
    {
     "name": "stderr",
     "output_type": "stream",
     "text": [
      "EP_train:0:  93%|| 6433/6926 [10:48<00:48, 10.07it/s]"
     ]
    },
    {
     "name": "stdout",
     "output_type": "stream",
     "text": [
      "{'epoch': 0, 'iter': 6430, 'avg_loss': 6.024111707405917, 'avg_acc': 50.14626418908412, 'loss': 5.954274654388428}\n"
     ]
    },
    {
     "name": "stderr",
     "output_type": "stream",
     "text": [
      "EP_train:0:  93%|| 6441/6926 [10:49<00:48,  9.95it/s]"
     ]
    },
    {
     "name": "stdout",
     "output_type": "stream",
     "text": [
      "{'epoch': 0, 'iter': 6440, 'avg_loss': 6.023714651289313, 'avg_acc': 50.151374010246855, 'loss': 5.237565517425537}\n"
     ]
    },
    {
     "name": "stderr",
     "output_type": "stream",
     "text": [
      "EP_train:0:  93%|| 6453/6926 [10:50<00:47, 10.00it/s]"
     ]
    },
    {
     "name": "stdout",
     "output_type": "stream",
     "text": [
      "{'epoch': 0, 'iter': 6450, 'avg_loss': 6.023366717733426, 'avg_acc': 50.150654937219045, 'loss': 5.61029577255249}\n"
     ]
    },
    {
     "name": "stderr",
     "output_type": "stream",
     "text": [
      "EP_train:0:  93%|| 6463/6926 [10:51<00:45, 10.16it/s]"
     ]
    },
    {
     "name": "stdout",
     "output_type": "stream",
     "text": [
      "{'epoch': 0, 'iter': 6460, 'avg_loss': 6.022902708713382, 'avg_acc': 50.151389103853894, 'loss': 5.527734756469727}\n"
     ]
    },
    {
     "name": "stderr",
     "output_type": "stream",
     "text": [
      "EP_train:0:  93%|| 6473/6926 [10:52<00:44, 10.25it/s]"
     ]
    },
    {
     "name": "stdout",
     "output_type": "stream",
     "text": [
      "{'epoch': 0, 'iter': 6470, 'avg_loss': 6.022443894642874, 'avg_acc': 50.152603925204765, 'loss': 5.8479084968566895}\n"
     ]
    },
    {
     "name": "stderr",
     "output_type": "stream",
     "text": [
      "EP_train:0:  94%|| 6483/6926 [10:53<00:42, 10.42it/s]"
     ]
    },
    {
     "name": "stdout",
     "output_type": "stream",
     "text": [
      "{'epoch': 0, 'iter': 6480, 'avg_loss': 6.021909982881103, 'avg_acc': 50.15574371239006, 'loss': 6.118319034576416}\n"
     ]
    },
    {
     "name": "stderr",
     "output_type": "stream",
     "text": [
      "EP_train:0:  94%|| 6493/6926 [10:54<00:40, 10.59it/s]"
     ]
    },
    {
     "name": "stdout",
     "output_type": "stream",
     "text": [
      "{'epoch': 0, 'iter': 6490, 'avg_loss': 6.021426335888529, 'avg_acc': 50.158392389462335, 'loss': 5.837605953216553}\n"
     ]
    },
    {
     "name": "stderr",
     "output_type": "stream",
     "text": [
      "EP_train:0:  94%|| 6503/6926 [10:55<00:40, 10.45it/s]"
     ]
    },
    {
     "name": "stdout",
     "output_type": "stream",
     "text": [
      "{'epoch': 0, 'iter': 6500, 'avg_loss': 6.021208425280388, 'avg_acc': 50.160552222734964, 'loss': 5.561763286590576}\n"
     ]
    },
    {
     "name": "stderr",
     "output_type": "stream",
     "text": [
      "EP_train:0:  94%|| 6513/6926 [10:56<00:40, 10.14it/s]"
     ]
    },
    {
     "name": "stdout",
     "output_type": "stream",
     "text": [
      "{'epoch': 0, 'iter': 6510, 'avg_loss': 6.020825896719381, 'avg_acc': 50.15262632468131, 'loss': 5.5533294677734375}\n"
     ]
    },
    {
     "name": "stderr",
     "output_type": "stream",
     "text": [
      "EP_train:0:  94%|| 6522/6926 [10:57<00:39, 10.13it/s]"
     ]
    },
    {
     "name": "stdout",
     "output_type": "stream",
     "text": [
      "{'epoch': 0, 'iter': 6520, 'avg_loss': 6.020345998201574, 'avg_acc': 50.15191305014568, 'loss': 5.395135402679443}\n"
     ]
    },
    {
     "name": "stderr",
     "output_type": "stream",
     "text": [
      "EP_train:0:  94%|| 6533/6926 [10:58<00:39,  9.91it/s]"
     ]
    },
    {
     "name": "stdout",
     "output_type": "stream",
     "text": [
      "{'epoch': 0, 'iter': 6530, 'avg_loss': 6.020141683992319, 'avg_acc': 50.150723472668815, 'loss': 5.74080753326416}\n"
     ]
    },
    {
     "name": "stderr",
     "output_type": "stream",
     "text": [
      "EP_train:0:  94%|| 6542/6926 [10:59<00:38,  9.91it/s]"
     ]
    },
    {
     "name": "stdout",
     "output_type": "stream",
     "text": [
      "{'epoch': 0, 'iter': 6540, 'avg_loss': 6.0197965131041435, 'avg_acc': 50.14714875401315, 'loss': 5.662446975708008}\n"
     ]
    },
    {
     "name": "stderr",
     "output_type": "stream",
     "text": [
      "EP_train:0:  95%|| 6551/6926 [11:00<00:36, 10.28it/s]"
     ]
    },
    {
     "name": "stdout",
     "output_type": "stream",
     "text": [
      "{'epoch': 0, 'iter': 6550, 'avg_loss': 6.019309596130273, 'avg_acc': 50.138814684780954, 'loss': 5.974513053894043}\n"
     ]
    },
    {
     "name": "stderr",
     "output_type": "stream",
     "text": [
      "EP_train:0:  95%|| 6563/6926 [11:01<00:35, 10.37it/s]"
     ]
    },
    {
     "name": "stdout",
     "output_type": "stream",
     "text": [
      "{'epoch': 0, 'iter': 6560, 'avg_loss': 6.019094113368956, 'avg_acc': 50.136697911903674, 'loss': 6.283114910125732}\n"
     ]
    },
    {
     "name": "stderr",
     "output_type": "stream",
     "text": [
      "EP_train:0:  95%|| 6573/6926 [11:02<00:34, 10.13it/s]"
     ]
    },
    {
     "name": "stdout",
     "output_type": "stream",
     "text": [
      "{'epoch': 0, 'iter': 6570, 'avg_loss': 6.01873127958071, 'avg_acc': 50.13220970932887, 'loss': 6.039418697357178}\n"
     ]
    },
    {
     "name": "stderr",
     "output_type": "stream",
     "text": [
      "EP_train:0:  95%|| 6583/6926 [11:03<00:34, 10.02it/s]"
     ]
    },
    {
     "name": "stdout",
     "output_type": "stream",
     "text": [
      "{'epoch': 0, 'iter': 6580, 'avg_loss': 6.018407602618846, 'avg_acc': 50.1305842577116, 'loss': 5.732761383056641}\n"
     ]
    },
    {
     "name": "stderr",
     "output_type": "stream",
     "text": [
      "EP_train:0:  95%|| 6591/6926 [11:04<00:32, 10.41it/s]"
     ]
    },
    {
     "name": "stdout",
     "output_type": "stream",
     "text": [
      "{'epoch': 0, 'iter': 6590, 'avg_loss': 6.017981255475894, 'avg_acc': 50.12564481869216, 'loss': 5.966832160949707}\n"
     ]
    },
    {
     "name": "stderr",
     "output_type": "stream",
     "text": [
      "EP_train:0:  95%|| 6603/6926 [11:05<00:32,  9.82it/s]"
     ]
    },
    {
     "name": "stdout",
     "output_type": "stream",
     "text": [
      "{'epoch': 0, 'iter': 6600, 'avg_loss': 6.01742340690926, 'avg_acc': 50.13255567338282, 'loss': 5.321044445037842}\n"
     ]
    },
    {
     "name": "stderr",
     "output_type": "stream",
     "text": [
      "EP_train:0:  95%|| 6612/6926 [11:06<00:31,  9.93it/s]"
     ]
    },
    {
     "name": "stdout",
     "output_type": "stream",
     "text": [
      "{'epoch': 0, 'iter': 6610, 'avg_loss': 6.016995052908322, 'avg_acc': 50.12668280139162, 'loss': 6.169322967529297}\n"
     ]
    },
    {
     "name": "stderr",
     "output_type": "stream",
     "text": [
      "EP_train:0:  96%|| 6622/6926 [11:07<00:29, 10.34it/s]"
     ]
    },
    {
     "name": "stdout",
     "output_type": "stream",
     "text": [
      "{'epoch': 0, 'iter': 6620, 'avg_loss': 6.01645901166786, 'avg_acc': 50.12318758495695, 'loss': 5.198972225189209}\n"
     ]
    },
    {
     "name": "stderr",
     "output_type": "stream",
     "text": [
      "EP_train:0:  96%|| 6632/6926 [11:08<00:29, 10.01it/s]"
     ]
    },
    {
     "name": "stdout",
     "output_type": "stream",
     "text": [
      "{'epoch': 0, 'iter': 6630, 'avg_loss': 6.015936044739878, 'avg_acc': 50.12205926707887, 'loss': 5.909065246582031}\n"
     ]
    },
    {
     "name": "stderr",
     "output_type": "stream",
     "text": [
      "EP_train:0:  96%|| 6643/6926 [11:09<00:28, 10.11it/s]"
     ]
    },
    {
     "name": "stdout",
     "output_type": "stream",
     "text": [
      "{'epoch': 0, 'iter': 6640, 'avg_loss': 6.015703798255869, 'avg_acc': 50.12281659388647, 'loss': 5.652667999267578}\n"
     ]
    },
    {
     "name": "stderr",
     "output_type": "stream",
     "text": [
      "EP_train:0:  96%|| 6653/6926 [11:10<00:26, 10.16it/s]"
     ]
    },
    {
     "name": "stdout",
     "output_type": "stream",
     "text": [
      "{'epoch': 0, 'iter': 6650, 'avg_loss': 6.0153594943316, 'avg_acc': 50.11934295594648, 'loss': 5.861166477203369}\n"
     ]
    },
    {
     "name": "stderr",
     "output_type": "stream",
     "text": [
      "EP_train:0:  96%|| 6663/6926 [11:11<00:26, 10.09it/s]"
     ]
    },
    {
     "name": "stdout",
     "output_type": "stream",
     "text": [
      "{'epoch': 0, 'iter': 6660, 'avg_loss': 6.014942516025669, 'avg_acc': 50.1149414502327, 'loss': 6.207435607910156}\n"
     ]
    },
    {
     "name": "stderr",
     "output_type": "stream",
     "text": [
      "EP_train:0:  96%|| 6673/6926 [11:12<00:24, 10.31it/s]"
     ]
    },
    {
     "name": "stdout",
     "output_type": "stream",
     "text": [
      "{'epoch': 0, 'iter': 6670, 'avg_loss': 6.014414646836025, 'avg_acc': 50.11289536801079, 'loss': 5.503590106964111}\n"
     ]
    },
    {
     "name": "stderr",
     "output_type": "stream",
     "text": [
      "EP_train:0:  96%|| 6683/6926 [11:13<00:24, 10.02it/s]"
     ]
    },
    {
     "name": "stdout",
     "output_type": "stream",
     "text": [
      "{'epoch': 0, 'iter': 6680, 'avg_loss': 6.014072699419057, 'avg_acc': 50.108516689118396, 'loss': 6.060138702392578}\n"
     ]
    },
    {
     "name": "stderr",
     "output_type": "stream",
     "text": [
      "EP_train:0:  97%|| 6693/6926 [11:14<00:22, 10.18it/s]"
     ]
    },
    {
     "name": "stdout",
     "output_type": "stream",
     "text": [
      "{'epoch': 0, 'iter': 6690, 'avg_loss': 6.0137951154200024, 'avg_acc': 50.10415109849051, 'loss': 5.7102155685424805}\n"
     ]
    },
    {
     "name": "stderr",
     "output_type": "stream",
     "text": [
      "EP_train:0:  97%|| 6702/6926 [11:15<00:22,  9.81it/s]"
     ]
    },
    {
     "name": "stdout",
     "output_type": "stream",
     "text": [
      "{'epoch': 0, 'iter': 6700, 'avg_loss': 6.0133998883942885, 'avg_acc': 50.102596627369046, 'loss': 6.009668827056885}\n"
     ]
    },
    {
     "name": "stderr",
     "output_type": "stream",
     "text": [
      "EP_train:0:  97%|| 6712/6926 [11:16<00:21, 10.06it/s]"
     ]
    },
    {
     "name": "stdout",
     "output_type": "stream",
     "text": [
      "{'epoch': 0, 'iter': 6710, 'avg_loss': 6.013155414599488, 'avg_acc': 50.10849724333184, 'loss': 5.814393043518066}\n"
     ]
    },
    {
     "name": "stderr",
     "output_type": "stream",
     "text": [
      "EP_train:0:  97%|| 6723/6926 [11:17<00:21,  9.58it/s]"
     ]
    },
    {
     "name": "stdout",
     "output_type": "stream",
     "text": [
      "{'epoch': 0, 'iter': 6720, 'avg_loss': 6.012866567632411, 'avg_acc': 50.10740589198036, 'loss': 5.358134746551514}\n"
     ]
    },
    {
     "name": "stderr",
     "output_type": "stream",
     "text": [
      "EP_train:0:  97%|| 6732/6926 [11:18<00:19, 10.19it/s]"
     ]
    },
    {
     "name": "stdout",
     "output_type": "stream",
     "text": [
      "{'epoch': 0, 'iter': 6730, 'avg_loss': 6.012404544270955, 'avg_acc': 50.11188902094786, 'loss': 5.7144999504089355}\n"
     ]
    },
    {
     "name": "stderr",
     "output_type": "stream",
     "text": [
      "EP_train:0:  97%|| 6742/6926 [11:19<00:18, 10.06it/s]"
     ]
    },
    {
     "name": "stdout",
     "output_type": "stream",
     "text": [
      "{'epoch': 0, 'iter': 6740, 'avg_loss': 6.012094092287732, 'avg_acc': 50.109868713840676, 'loss': 6.117781162261963}\n"
     ]
    },
    {
     "name": "stderr",
     "output_type": "stream",
     "text": [
      "EP_train:0:  97%|| 6751/6926 [11:20<00:17, 10.04it/s]"
     ]
    },
    {
     "name": "stdout",
     "output_type": "stream",
     "text": [
      "{'epoch': 0, 'iter': 6750, 'avg_loss': 6.011996420590617, 'avg_acc': 50.111557547030074, 'loss': 5.369539260864258}\n"
     ]
    },
    {
     "name": "stderr",
     "output_type": "stream",
     "text": [
      "EP_train:0:  98%|| 6763/6926 [11:21<00:16,  9.77it/s]"
     ]
    },
    {
     "name": "stdout",
     "output_type": "stream",
     "text": [
      "{'epoch': 0, 'iter': 6760, 'avg_loss': 6.011703564841761, 'avg_acc': 50.10954370655229, 'loss': 5.48293399810791}\n"
     ]
    },
    {
     "name": "stderr",
     "output_type": "stream",
     "text": [
      "EP_train:0:  98%|| 6773/6926 [11:22<00:15, 10.14it/s]"
     ]
    },
    {
     "name": "stdout",
     "output_type": "stream",
     "text": [
      "{'epoch': 0, 'iter': 6770, 'avg_loss': 6.011438692079093, 'avg_acc': 50.11307413971349, 'loss': 6.049172401428223}\n"
     ]
    },
    {
     "name": "stderr",
     "output_type": "stream",
     "text": [
      "EP_train:0:  98%|| 6782/6926 [11:23<00:14, 10.16it/s]"
     ]
    },
    {
     "name": "stdout",
     "output_type": "stream",
     "text": [
      "{'epoch': 0, 'iter': 6780, 'avg_loss': 6.011191139142434, 'avg_acc': 50.11751585311901, 'loss': 6.129726886749268}\n"
     ]
    },
    {
     "name": "stderr",
     "output_type": "stream",
     "text": [
      "EP_train:0:  98%|| 6792/6926 [11:24<00:13, 10.17it/s]"
     ]
    },
    {
     "name": "stdout",
     "output_type": "stream",
     "text": [
      "{'epoch': 0, 'iter': 6790, 'avg_loss': 6.010661364619817, 'avg_acc': 50.120103813871296, 'loss': 5.861672401428223}\n"
     ]
    },
    {
     "name": "stderr",
     "output_type": "stream",
     "text": [
      "EP_train:0:  98%|| 6802/6926 [11:25<00:12, 10.12it/s]"
     ]
    },
    {
     "name": "stdout",
     "output_type": "stream",
     "text": [
      "{'epoch': 0, 'iter': 6800, 'avg_loss': 6.010325956197367, 'avg_acc': 50.11717026907808, 'loss': 5.522393226623535}\n"
     ]
    },
    {
     "name": "stderr",
     "output_type": "stream",
     "text": [
      "EP_train:0:  98%|| 6812/6926 [11:26<00:11, 10.10it/s]"
     ]
    },
    {
     "name": "stdout",
     "output_type": "stream",
     "text": [
      "{'epoch': 0, 'iter': 6810, 'avg_loss': 6.009921050390261, 'avg_acc': 50.11424533842314, 'loss': 5.750921249389648}\n"
     ]
    },
    {
     "name": "stderr",
     "output_type": "stream",
     "text": [
      "EP_train:0:  99%|| 6823/6926 [11:27<00:10,  9.84it/s]"
     ]
    },
    {
     "name": "stdout",
     "output_type": "stream",
     "text": [
      "{'epoch': 0, 'iter': 6820, 'avg_loss': 6.009287370333065, 'avg_acc': 50.11361970385574, 'loss': 5.7760539054870605}\n"
     ]
    },
    {
     "name": "stderr",
     "output_type": "stream",
     "text": [
      "EP_train:0:  99%|| 6831/6926 [11:28<00:09, 10.27it/s]"
     ]
    },
    {
     "name": "stdout",
     "output_type": "stream",
     "text": [
      "{'epoch': 0, 'iter': 6830, 'avg_loss': 6.0091014370494555, 'avg_acc': 50.11208095447226, 'loss': 6.073955059051514}\n"
     ]
    },
    {
     "name": "stderr",
     "output_type": "stream",
     "text": [
      "EP_train:0:  99%|| 6843/6926 [11:29<00:08, 10.11it/s]"
     ]
    },
    {
     "name": "stdout",
     "output_type": "stream",
     "text": [
      "{'epoch': 0, 'iter': 6840, 'avg_loss': 6.0086947643099915, 'avg_acc': 50.11420114018419, 'loss': 5.8106160163879395}\n"
     ]
    },
    {
     "name": "stderr",
     "output_type": "stream",
     "text": [
      "EP_train:0:  99%|| 6851/6926 [11:30<00:07, 10.18it/s]"
     ]
    },
    {
     "name": "stdout",
     "output_type": "stream",
     "text": [
      "{'epoch': 0, 'iter': 6850, 'avg_loss': 6.008481538934336, 'avg_acc': 50.10810465625456, 'loss': 5.6799492835998535}\n"
     ]
    },
    {
     "name": "stderr",
     "output_type": "stream",
     "text": [
      "EP_train:0:  99%|| 6861/6926 [11:31<00:06, 10.40it/s]"
     ]
    },
    {
     "name": "stdout",
     "output_type": "stream",
     "text": [
      "{'epoch': 0, 'iter': 6860, 'avg_loss': 6.008009392116042, 'avg_acc': 50.11204634892873, 'loss': 5.641140937805176}\n"
     ]
    },
    {
     "name": "stderr",
     "output_type": "stream",
     "text": [
      "EP_train:0:  99%|| 6873/6926 [11:32<00:05, 10.23it/s]"
     ]
    },
    {
     "name": "stdout",
     "output_type": "stream",
     "text": [
      "{'epoch': 0, 'iter': 6870, 'avg_loss': 6.00785162916976, 'avg_acc': 50.10960922718672, 'loss': 5.881400108337402}\n"
     ]
    },
    {
     "name": "stderr",
     "output_type": "stream",
     "text": [
      "EP_train:0:  99%|| 6883/6926 [11:33<00:04, 10.50it/s]"
     ]
    },
    {
     "name": "stdout",
     "output_type": "stream",
     "text": [
      "{'epoch': 0, 'iter': 6880, 'avg_loss': 6.007710214375653, 'avg_acc': 50.11262897834617, 'loss': 5.731587886810303}\n"
     ]
    },
    {
     "name": "stderr",
     "output_type": "stream",
     "text": [
      "EP_train:0: 100%|| 6893/6926 [11:34<00:03, 10.04it/s]"
     ]
    },
    {
     "name": "stdout",
     "output_type": "stream",
     "text": [
      "{'epoch': 0, 'iter': 6890, 'avg_loss': 6.007270838867994, 'avg_acc': 50.117000435350455, 'loss': 5.791557788848877}\n"
     ]
    },
    {
     "name": "stderr",
     "output_type": "stream",
     "text": [
      "EP_train:0: 100%|| 6903/6926 [11:35<00:02, 10.26it/s]"
     ]
    },
    {
     "name": "stdout",
     "output_type": "stream",
     "text": [
      "{'epoch': 0, 'iter': 6900, 'avg_loss': 6.006960200600099, 'avg_acc': 50.116378061150556, 'loss': 5.871213436126709}\n"
     ]
    },
    {
     "name": "stderr",
     "output_type": "stream",
     "text": [
      "EP_train:0: 100%|| 6913/6926 [11:36<00:01, 10.36it/s]"
     ]
    },
    {
     "name": "stdout",
     "output_type": "stream",
     "text": [
      "{'epoch': 0, 'iter': 6910, 'avg_loss': 6.006530365676891, 'avg_acc': 50.11530531037477, 'loss': 5.509141445159912}\n"
     ]
    },
    {
     "name": "stderr",
     "output_type": "stream",
     "text": [
      "EP_train:0: 100%|| 6923/6926 [11:37<00:00, 10.27it/s]"
     ]
    },
    {
     "name": "stdout",
     "output_type": "stream",
     "text": [
      "{'epoch': 0, 'iter': 6920, 'avg_loss': 6.0059702471835195, 'avg_acc': 50.11920242739488, 'loss': 5.977515697479248}\n"
     ]
    },
    {
     "name": "stderr",
     "output_type": "stream",
     "text": [
      "EP_train:0: 100%|| 6926/6926 [11:37<00:00,  9.93it/s]\n"
     ]
    },
    {
     "name": "stdout",
     "output_type": "stream",
     "text": [
      "EP0, train:             avg_loss=6.00584801125313,             total_acc=50.12138112771641\n"
     ]
    },
    {
     "name": "stderr",
     "output_type": "stream",
     "text": [
      "EP_train:1:   0%|| 1/6926 [00:00<11:53,  9.71it/s]"
     ]
    },
    {
     "name": "stdout",
     "output_type": "stream",
     "text": [
      "{'epoch': 1, 'iter': 0, 'avg_loss': 5.775444984436035, 'avg_acc': 53.125, 'loss': 5.775444984436035}\n"
     ]
    },
    {
     "name": "stderr",
     "output_type": "stream",
     "text": [
      "EP_train:1:   0%|| 11/6926 [00:01<11:08, 10.35it/s]"
     ]
    },
    {
     "name": "stdout",
     "output_type": "stream",
     "text": [
      "{'epoch': 1, 'iter': 10, 'avg_loss': 5.634900396520441, 'avg_acc': 48.86363636363637, 'loss': 5.308784008026123}\n"
     ]
    },
    {
     "name": "stderr",
     "output_type": "stream",
     "text": [
      "EP_train:1:   0%|| 22/6926 [00:02<12:06,  9.51it/s]"
     ]
    },
    {
     "name": "stdout",
     "output_type": "stream",
     "text": [
      "{'epoch': 1, 'iter': 20, 'avg_loss': 5.762934071677072, 'avg_acc': 51.636904761904766, 'loss': 6.1621294021606445}\n"
     ]
    },
    {
     "name": "stderr",
     "output_type": "stream",
     "text": [
      "EP_train:1:   0%|| 32/6926 [00:03<11:11, 10.26it/s]"
     ]
    },
    {
     "name": "stdout",
     "output_type": "stream",
     "text": [
      "{'epoch': 1, 'iter': 30, 'avg_loss': 5.771284841722058, 'avg_acc': 51.61290322580645, 'loss': 5.817331790924072}\n"
     ]
    },
    {
     "name": "stderr",
     "output_type": "stream",
     "text": [
      "EP_train:1:   1%|| 42/6926 [00:04<11:39,  9.84it/s]"
     ]
    },
    {
     "name": "stdout",
     "output_type": "stream",
     "text": [
      "{'epoch': 1, 'iter': 40, 'avg_loss': 5.774714202415653, 'avg_acc': 49.69512195121951, 'loss': 6.195739269256592}\n"
     ]
    },
    {
     "name": "stderr",
     "output_type": "stream",
     "text": [
      "EP_train:1:   1%|| 52/6926 [00:05<11:04, 10.35it/s]"
     ]
    },
    {
     "name": "stdout",
     "output_type": "stream",
     "text": [
      "{'epoch': 1, 'iter': 50, 'avg_loss': 5.769897891025917, 'avg_acc': 49.325980392156865, 'loss': 5.60292387008667}\n"
     ]
    },
    {
     "name": "stderr",
     "output_type": "stream",
     "text": [
      "EP_train:1:   1%|| 62/6926 [00:06<11:49,  9.68it/s]"
     ]
    },
    {
     "name": "stdout",
     "output_type": "stream",
     "text": [
      "{'epoch': 1, 'iter': 60, 'avg_loss': 5.753617224146108, 'avg_acc': 49.18032786885246, 'loss': 5.934388637542725}\n"
     ]
    },
    {
     "name": "stderr",
     "output_type": "stream",
     "text": [
      "EP_train:1:   1%|| 73/6926 [00:07<11:15, 10.14it/s]"
     ]
    },
    {
     "name": "stdout",
     "output_type": "stream",
     "text": [
      "{'epoch': 1, 'iter': 70, 'avg_loss': 5.730477003984048, 'avg_acc': 49.20774647887324, 'loss': 5.553292274475098}\n"
     ]
    },
    {
     "name": "stderr",
     "output_type": "stream",
     "text": [
      "EP_train:1:   1%|| 83/6926 [00:08<11:06, 10.26it/s]"
     ]
    },
    {
     "name": "stdout",
     "output_type": "stream",
     "text": [
      "{'epoch': 1, 'iter': 80, 'avg_loss': 5.727875585909243, 'avg_acc': 49.614197530864196, 'loss': 5.6355767250061035}\n"
     ]
    },
    {
     "name": "stderr",
     "output_type": "stream",
     "text": [
      "EP_train:1:   1%|| 93/6926 [00:09<11:08, 10.22it/s]"
     ]
    },
    {
     "name": "stdout",
     "output_type": "stream",
     "text": [
      "{'epoch': 1, 'iter': 90, 'avg_loss': 5.729113405877417, 'avg_acc': 49.690934065934066, 'loss': 5.416842937469482}\n"
     ]
    },
    {
     "name": "stderr",
     "output_type": "stream",
     "text": [
      "EP_train:1:   1%|| 103/6926 [00:10<11:10, 10.18it/s]"
     ]
    },
    {
     "name": "stdout",
     "output_type": "stream",
     "text": [
      "{'epoch': 1, 'iter': 100, 'avg_loss': 5.733675824533595, 'avg_acc': 49.69059405940594, 'loss': 6.1770782470703125}\n"
     ]
    },
    {
     "name": "stderr",
     "output_type": "stream",
     "text": [
      "EP_train:1:   2%|| 113/6926 [00:11<11:09, 10.18it/s]"
     ]
    },
    {
     "name": "stdout",
     "output_type": "stream",
     "text": [
      "{'epoch': 1, 'iter': 110, 'avg_loss': 5.732697959418769, 'avg_acc': 49.40878378378378, 'loss': 5.836109638214111}\n"
     ]
    },
    {
     "name": "stderr",
     "output_type": "stream",
     "text": [
      "EP_train:1:   2%|| 123/6926 [00:12<11:31,  9.84it/s]"
     ]
    },
    {
     "name": "stdout",
     "output_type": "stream",
     "text": [
      "{'epoch': 1, 'iter': 120, 'avg_loss': 5.752876608824927, 'avg_acc': 49.43181818181818, 'loss': 6.25482177734375}\n"
     ]
    },
    {
     "name": "stderr",
     "output_type": "stream",
     "text": [
      "EP_train:1:   2%|| 131/6926 [00:13<11:10, 10.14it/s]"
     ]
    },
    {
     "name": "stdout",
     "output_type": "stream",
     "text": [
      "{'epoch': 1, 'iter': 130, 'avg_loss': 5.757113052688482, 'avg_acc': 49.212786259541986, 'loss': 5.6746978759765625}\n"
     ]
    },
    {
     "name": "stderr",
     "output_type": "stream",
     "text": [
      "EP_train:1:   2%|| 143/6926 [00:14<11:10, 10.11it/s]"
     ]
    },
    {
     "name": "stdout",
     "output_type": "stream",
     "text": [
      "{'epoch': 1, 'iter': 140, 'avg_loss': 5.758842745571272, 'avg_acc': 49.22429078014184, 'loss': 6.065557479858398}\n"
     ]
    },
    {
     "name": "stderr",
     "output_type": "stream",
     "text": [
      "EP_train:1:   2%|| 153/6926 [00:15<10:49, 10.42it/s]"
     ]
    },
    {
     "name": "stdout",
     "output_type": "stream",
     "text": [
      "{'epoch': 1, 'iter': 150, 'avg_loss': 5.768168228351517, 'avg_acc': 49.29635761589404, 'loss': 5.57529354095459}\n"
     ]
    },
    {
     "name": "stderr",
     "output_type": "stream",
     "text": [
      "EP_train:1:   2%|| 163/6926 [00:16<10:55, 10.32it/s]"
     ]
    },
    {
     "name": "stdout",
     "output_type": "stream",
     "text": [
      "{'epoch': 1, 'iter': 160, 'avg_loss': 5.763147152728916, 'avg_acc': 49.398291925465834, 'loss': 6.012314796447754}\n"
     ]
    },
    {
     "name": "stderr",
     "output_type": "stream",
     "text": [
      "EP_train:1:   2%|| 173/6926 [00:17<11:10, 10.07it/s]"
     ]
    },
    {
     "name": "stdout",
     "output_type": "stream",
     "text": [
      "{'epoch': 1, 'iter': 170, 'avg_loss': 5.75521201139305, 'avg_acc': 49.30555555555556, 'loss': 5.424149513244629}\n"
     ]
    },
    {
     "name": "stderr",
     "output_type": "stream",
     "text": [
      "EP_train:1:   3%|| 183/6926 [00:18<11:06, 10.12it/s]"
     ]
    },
    {
     "name": "stdout",
     "output_type": "stream",
     "text": [
      "{'epoch': 1, 'iter': 180, 'avg_loss': 5.754776132699535, 'avg_acc': 49.568370165745854, 'loss': 5.968286991119385}\n"
     ]
    },
    {
     "name": "stderr",
     "output_type": "stream",
     "text": [
      "EP_train:1:   3%|| 192/6926 [00:19<12:04,  9.30it/s]"
     ]
    },
    {
     "name": "stdout",
     "output_type": "stream",
     "text": [
      "{'epoch': 1, 'iter': 190, 'avg_loss': 5.7528246560021845, 'avg_acc': 49.50916230366492, 'loss': 5.512566089630127}\n"
     ]
    },
    {
     "name": "stderr",
     "output_type": "stream",
     "text": [
      "EP_train:1:   3%|| 202/6926 [00:20<11:41,  9.58it/s]"
     ]
    },
    {
     "name": "stdout",
     "output_type": "stream",
     "text": [
      "{'epoch': 1, 'iter': 200, 'avg_loss': 5.761402780143776, 'avg_acc': 49.37810945273632, 'loss': 6.220525741577148}\n"
     ]
    },
    {
     "name": "stderr",
     "output_type": "stream",
     "text": [
      "EP_train:1:   3%|| 213/6926 [00:21<10:47, 10.37it/s]"
     ]
    },
    {
     "name": "stdout",
     "output_type": "stream",
     "text": [
      "{'epoch': 1, 'iter': 210, 'avg_loss': 5.762481162898348, 'avg_acc': 49.31872037914692, 'loss': 6.236165523529053}\n"
     ]
    },
    {
     "name": "stderr",
     "output_type": "stream",
     "text": [
      "EP_train:1:   3%|| 223/6926 [00:22<11:02, 10.11it/s]"
     ]
    },
    {
     "name": "stdout",
     "output_type": "stream",
     "text": [
      "{'epoch': 1, 'iter': 220, 'avg_loss': 5.765672239243175, 'avg_acc': 49.335407239819006, 'loss': 5.643669605255127}\n"
     ]
    },
    {
     "name": "stderr",
     "output_type": "stream",
     "text": [
      "EP_train:1:   3%|| 231/6926 [00:23<10:58, 10.17it/s]"
     ]
    },
    {
     "name": "stdout",
     "output_type": "stream",
     "text": [
      "{'epoch': 1, 'iter': 230, 'avg_loss': 5.763442128251642, 'avg_acc': 49.36417748917749, 'loss': 6.034867763519287}\n"
     ]
    },
    {
     "name": "stderr",
     "output_type": "stream",
     "text": [
      "EP_train:1:   3%|| 241/6926 [00:23<10:57, 10.17it/s]"
     ]
    },
    {
     "name": "stdout",
     "output_type": "stream",
     "text": [
      "{'epoch': 1, 'iter': 240, 'avg_loss': 5.761788063524175, 'avg_acc': 49.42946058091287, 'loss': 5.869289875030518}\n"
     ]
    },
    {
     "name": "stderr",
     "output_type": "stream",
     "text": [
      "EP_train:1:   4%|| 253/6926 [00:25<10:40, 10.41it/s]"
     ]
    },
    {
     "name": "stdout",
     "output_type": "stream",
     "text": [
      "{'epoch': 1, 'iter': 250, 'avg_loss': 5.764921526509927, 'avg_acc': 49.452191235059765, 'loss': 5.96858024597168}\n"
     ]
    },
    {
     "name": "stderr",
     "output_type": "stream",
     "text": [
      "EP_train:1:   4%|| 263/6926 [00:26<11:01, 10.07it/s]"
     ]
    },
    {
     "name": "stdout",
     "output_type": "stream",
     "text": [
      "{'epoch': 1, 'iter': 260, 'avg_loss': 5.753758218553331, 'avg_acc': 49.48515325670498, 'loss': 5.360238075256348}\n"
     ]
    },
    {
     "name": "stderr",
     "output_type": "stream",
     "text": [
      "EP_train:1:   4%|| 273/6926 [00:27<10:44, 10.33it/s]"
     ]
    },
    {
     "name": "stdout",
     "output_type": "stream",
     "text": [
      "{'epoch': 1, 'iter': 270, 'avg_loss': 5.754802487433176, 'avg_acc': 49.38883763837638, 'loss': 5.554006576538086}\n"
     ]
    },
    {
     "name": "stderr",
     "output_type": "stream",
     "text": [
      "EP_train:1:   4%|| 283/6926 [00:28<10:56, 10.13it/s]"
     ]
    },
    {
     "name": "stdout",
     "output_type": "stream",
     "text": [
      "{'epoch': 1, 'iter': 280, 'avg_loss': 5.752458764140716, 'avg_acc': 49.43282918149466, 'loss': 5.276727676391602}\n"
     ]
    },
    {
     "name": "stderr",
     "output_type": "stream",
     "text": [
      "EP_train:1:   4%|| 293/6926 [00:29<10:53, 10.14it/s]"
     ]
    },
    {
     "name": "stdout",
     "output_type": "stream",
     "text": [
      "{'epoch': 1, 'iter': 290, 'avg_loss': 5.750567990070356, 'avg_acc': 49.570446735395194, 'loss': 5.838260173797607}\n"
     ]
    },
    {
     "name": "stderr",
     "output_type": "stream",
     "text": [
      "EP_train:1:   4%|| 303/6926 [00:30<10:47, 10.23it/s]"
     ]
    },
    {
     "name": "stdout",
     "output_type": "stream",
     "text": [
      "{'epoch': 1, 'iter': 300, 'avg_loss': 5.752827929499934, 'avg_acc': 49.83388704318937, 'loss': 6.21867561340332}\n"
     ]
    },
    {
     "name": "stderr",
     "output_type": "stream",
     "text": [
      "EP_train:1:   5%|| 312/6926 [00:31<11:17,  9.76it/s]"
     ]
    },
    {
     "name": "stdout",
     "output_type": "stream",
     "text": [
      "{'epoch': 1, 'iter': 310, 'avg_loss': 5.754560472114293, 'avg_acc': 49.89951768488746, 'loss': 5.651811599731445}\n"
     ]
    },
    {
     "name": "stderr",
     "output_type": "stream",
     "text": [
      "EP_train:1:   5%|| 323/6926 [00:32<10:50, 10.16it/s]"
     ]
    },
    {
     "name": "stdout",
     "output_type": "stream",
     "text": [
      "{'epoch': 1, 'iter': 320, 'avg_loss': 5.755874841755424, 'avg_acc': 49.8345015576324, 'loss': 5.936528205871582}\n"
     ]
    },
    {
     "name": "stderr",
     "output_type": "stream",
     "text": [
      "EP_train:1:   5%|| 333/6926 [00:33<10:25, 10.54it/s]"
     ]
    },
    {
     "name": "stdout",
     "output_type": "stream",
     "text": [
      "{'epoch': 1, 'iter': 330, 'avg_loss': 5.755533032546951, 'avg_acc': 49.9905589123867, 'loss': 6.116084098815918}\n"
     ]
    },
    {
     "name": "stderr",
     "output_type": "stream",
     "text": [
      "EP_train:1:   5%|| 343/6926 [00:34<10:41, 10.26it/s]"
     ]
    },
    {
     "name": "stdout",
     "output_type": "stream",
     "text": [
      "{'epoch': 1, 'iter': 340, 'avg_loss': 5.7539032407520105, 'avg_acc': 50.1008064516129, 'loss': 5.821572303771973}\n"
     ]
    },
    {
     "name": "stderr",
     "output_type": "stream",
     "text": [
      "EP_train:1:   5%|| 353/6926 [00:35<10:34, 10.37it/s]"
     ]
    },
    {
     "name": "stdout",
     "output_type": "stream",
     "text": [
      "{'epoch': 1, 'iter': 350, 'avg_loss': 5.748666215825964, 'avg_acc': 50.026709401709404, 'loss': 5.578394889831543}\n"
     ]
    },
    {
     "name": "stderr",
     "output_type": "stream",
     "text": [
      "EP_train:1:   5%|| 363/6926 [00:35<10:11, 10.73it/s]"
     ]
    },
    {
     "name": "stdout",
     "output_type": "stream",
     "text": [
      "{'epoch': 1, 'iter': 360, 'avg_loss': 5.745687088477645, 'avg_acc': 49.93940443213297, 'loss': 5.819474220275879}\n"
     ]
    },
    {
     "name": "stderr",
     "output_type": "stream",
     "text": [
      "EP_train:1:   5%|| 373/6926 [00:36<10:35, 10.31it/s]"
     ]
    },
    {
     "name": "stdout",
     "output_type": "stream",
     "text": [
      "{'epoch': 1, 'iter': 370, 'avg_loss': 5.744154556099617, 'avg_acc': 49.98315363881402, 'loss': 5.906248092651367}\n"
     ]
    },
    {
     "name": "stderr",
     "output_type": "stream",
     "text": [
      "EP_train:1:   6%|| 383/6926 [00:37<10:31, 10.35it/s]"
     ]
    },
    {
     "name": "stdout",
     "output_type": "stream",
     "text": [
      "{'epoch': 1, 'iter': 380, 'avg_loss': 5.750048832630548, 'avg_acc': 49.98359580052493, 'loss': 6.130906581878662}\n"
     ]
    },
    {
     "name": "stderr",
     "output_type": "stream",
     "text": [
      "EP_train:1:   6%|| 391/6926 [00:38<10:45, 10.12it/s]"
     ]
    },
    {
     "name": "stdout",
     "output_type": "stream",
     "text": [
      "{'epoch': 1, 'iter': 390, 'avg_loss': 5.754523772412859, 'avg_acc': 49.920076726342714, 'loss': 5.7903032302856445}\n"
     ]
    },
    {
     "name": "stderr",
     "output_type": "stream",
     "text": [
      "EP_train:1:   6%|| 401/6926 [00:39<10:28, 10.37it/s]"
     ]
    },
    {
     "name": "stdout",
     "output_type": "stream",
     "text": [
      "{'epoch': 1, 'iter': 400, 'avg_loss': 5.758135845536306, 'avg_acc': 49.73503740648379, 'loss': 6.351164817810059}\n"
     ]
    },
    {
     "name": "stderr",
     "output_type": "stream",
     "text": [
      "EP_train:1:   6%|| 413/6926 [00:40<10:14, 10.60it/s]"
     ]
    },
    {
     "name": "stdout",
     "output_type": "stream",
     "text": [
      "{'epoch': 1, 'iter': 410, 'avg_loss': 5.758556313758349, 'avg_acc': 49.6426399026764, 'loss': 5.567780494689941}\n"
     ]
    },
    {
     "name": "stderr",
     "output_type": "stream",
     "text": [
      "EP_train:1:   6%|| 423/6926 [00:41<10:31, 10.30it/s]"
     ]
    },
    {
     "name": "stdout",
     "output_type": "stream",
     "text": [
      "{'epoch': 1, 'iter': 420, 'avg_loss': 5.7583557500408835, 'avg_acc': 49.49524940617577, 'loss': 5.527647018432617}\n"
     ]
    },
    {
     "name": "stderr",
     "output_type": "stream",
     "text": [
      "EP_train:1:   6%|| 433/6926 [00:42<10:49, 10.00it/s]"
     ]
    },
    {
     "name": "stdout",
     "output_type": "stream",
     "text": [
      "{'epoch': 1, 'iter': 430, 'avg_loss': 5.759860373981591, 'avg_acc': 49.53596287703016, 'loss': 5.659715175628662}\n"
     ]
    },
    {
     "name": "stderr",
     "output_type": "stream",
     "text": [
      "EP_train:1:   6%|| 443/6926 [00:43<10:42, 10.09it/s]"
     ]
    },
    {
     "name": "stdout",
     "output_type": "stream",
     "text": [
      "{'epoch': 1, 'iter': 440, 'avg_loss': 5.760280840521227, 'avg_acc': 49.65986394557823, 'loss': 5.629024028778076}\n"
     ]
    },
    {
     "name": "stderr",
     "output_type": "stream",
     "text": [
      "EP_train:1:   7%|| 453/6926 [00:44<10:56,  9.85it/s]"
     ]
    },
    {
     "name": "stdout",
     "output_type": "stream",
     "text": [
      "{'epoch': 1, 'iter': 450, 'avg_loss': 5.760783016813832, 'avg_acc': 49.59118625277162, 'loss': 5.768857479095459}\n"
     ]
    },
    {
     "name": "stderr",
     "output_type": "stream",
     "text": [
      "EP_train:1:   7%|| 463/6926 [00:45<10:34, 10.19it/s]"
     ]
    },
    {
     "name": "stdout",
     "output_type": "stream",
     "text": [
      "{'epoch': 1, 'iter': 460, 'avg_loss': 5.760827648924126, 'avg_acc': 49.64072668112799, 'loss': 5.704205513000488}\n"
     ]
    },
    {
     "name": "stderr",
     "output_type": "stream",
     "text": [
      "EP_train:1:   7%|| 472/6926 [00:46<11:00,  9.77it/s]"
     ]
    },
    {
     "name": "stdout",
     "output_type": "stream",
     "text": [
      "{'epoch': 1, 'iter': 470, 'avg_loss': 5.761098218824706, 'avg_acc': 49.67489384288747, 'loss': 5.609489440917969}\n"
     ]
    },
    {
     "name": "stderr",
     "output_type": "stream",
     "text": [
      "EP_train:1:   7%|| 482/6926 [00:47<10:03, 10.67it/s]"
     ]
    },
    {
     "name": "stdout",
     "output_type": "stream",
     "text": [
      "{'epoch': 1, 'iter': 480, 'avg_loss': 5.760789962419601, 'avg_acc': 49.766112266112266, 'loss': 5.924801349639893}\n"
     ]
    },
    {
     "name": "stderr",
     "output_type": "stream",
     "text": [
      "EP_train:1:   7%|| 492/6926 [00:48<10:24, 10.31it/s]"
     ]
    },
    {
     "name": "stdout",
     "output_type": "stream",
     "text": [
      "{'epoch': 1, 'iter': 490, 'avg_loss': 5.759525806015232, 'avg_acc': 49.81542769857434, 'loss': 5.6889753341674805}\n"
     ]
    },
    {
     "name": "stderr",
     "output_type": "stream",
     "text": [
      "EP_train:1:   7%|| 502/6926 [00:49<10:44,  9.97it/s]"
     ]
    },
    {
     "name": "stdout",
     "output_type": "stream",
     "text": [
      "{'epoch': 1, 'iter': 500, 'avg_loss': 5.757817444449175, 'avg_acc': 49.7692115768463, 'loss': 6.0513739585876465}\n"
     ]
    },
    {
     "name": "stderr",
     "output_type": "stream",
     "text": [
      "EP_train:1:   7%|| 512/6926 [00:50<10:39, 10.03it/s]"
     ]
    },
    {
     "name": "stdout",
     "output_type": "stream",
     "text": [
      "{'epoch': 1, 'iter': 510, 'avg_loss': 5.758867268459671, 'avg_acc': 49.779843444227005, 'loss': 5.886178493499756}\n"
     ]
    },
    {
     "name": "stderr",
     "output_type": "stream",
     "text": [
      "EP_train:1:   8%|| 522/6926 [00:51<10:11, 10.46it/s]"
     ]
    },
    {
     "name": "stdout",
     "output_type": "stream",
     "text": [
      "{'epoch': 1, 'iter': 520, 'avg_loss': 5.759771031290007, 'avg_acc': 49.74808061420345, 'loss': 5.782613754272461}\n"
     ]
    },
    {
     "name": "stderr",
     "output_type": "stream",
     "text": [
      "EP_train:1:   8%|| 532/6926 [00:52<10:34, 10.07it/s]"
     ]
    },
    {
     "name": "stdout",
     "output_type": "stream",
     "text": [
      "{'epoch': 1, 'iter': 530, 'avg_loss': 5.757112689835428, 'avg_acc': 49.76459510357815, 'loss': 5.5932793617248535}\n"
     ]
    },
    {
     "name": "stderr",
     "output_type": "stream",
     "text": [
      "EP_train:1:   8%|| 542/6926 [00:53<10:49,  9.83it/s]"
     ]
    },
    {
     "name": "stdout",
     "output_type": "stream",
     "text": [
      "{'epoch': 1, 'iter': 540, 'avg_loss': 5.758529721258308, 'avg_acc': 49.74584103512015, 'loss': 6.390444278717041}\n"
     ]
    },
    {
     "name": "stderr",
     "output_type": "stream",
     "text": [
      "EP_train:1:   8%|| 552/6926 [00:54<10:08, 10.47it/s]"
     ]
    },
    {
     "name": "stdout",
     "output_type": "stream",
     "text": [
      "{'epoch': 1, 'iter': 550, 'avg_loss': 5.759369063507191, 'avg_acc': 49.70508166969147, 'loss': 5.62151575088501}\n"
     ]
    },
    {
     "name": "stderr",
     "output_type": "stream",
     "text": [
      "EP_train:1:   8%|| 562/6926 [00:55<10:14, 10.36it/s]"
     ]
    },
    {
     "name": "stdout",
     "output_type": "stream",
     "text": [
      "{'epoch': 1, 'iter': 560, 'avg_loss': 5.758811739039293, 'avg_acc': 49.69919786096257, 'loss': 5.439028739929199}\n"
     ]
    },
    {
     "name": "stderr",
     "output_type": "stream",
     "text": [
      "EP_train:1:   8%|| 572/6926 [00:56<10:11, 10.40it/s]"
     ]
    },
    {
     "name": "stdout",
     "output_type": "stream",
     "text": [
      "{'epoch': 1, 'iter': 570, 'avg_loss': 5.7572541955056, 'avg_acc': 49.69352014010508, 'loss': 5.582813262939453}\n"
     ]
    },
    {
     "name": "stderr",
     "output_type": "stream",
     "text": [
      "EP_train:1:   8%|| 582/6926 [00:57<10:19, 10.25it/s]"
     ]
    },
    {
     "name": "stdout",
     "output_type": "stream",
     "text": [
      "{'epoch': 1, 'iter': 580, 'avg_loss': 5.757170122379691, 'avg_acc': 49.78485370051635, 'loss': 5.501101970672607}\n"
     ]
    },
    {
     "name": "stderr",
     "output_type": "stream",
     "text": [
      "EP_train:1:   9%|| 592/6926 [00:58<10:24, 10.14it/s]"
     ]
    },
    {
     "name": "stdout",
     "output_type": "stream",
     "text": [
      "{'epoch': 1, 'iter': 590, 'avg_loss': 5.756788503901809, 'avg_acc': 49.77263113367174, 'loss': 5.867031574249268}\n"
     ]
    },
    {
     "name": "stderr",
     "output_type": "stream",
     "text": [
      "EP_train:1:   9%|| 603/6926 [00:59<10:26, 10.08it/s]"
     ]
    },
    {
     "name": "stdout",
     "output_type": "stream",
     "text": [
      "{'epoch': 1, 'iter': 600, 'avg_loss': 5.757247081413841, 'avg_acc': 49.81801164725457, 'loss': 5.707433223724365}\n"
     ]
    },
    {
     "name": "stderr",
     "output_type": "stream",
     "text": [
      "EP_train:1:   9%|| 613/6926 [01:00<10:00, 10.51it/s]"
     ]
    },
    {
     "name": "stdout",
     "output_type": "stream",
     "text": [
      "{'epoch': 1, 'iter': 610, 'avg_loss': 5.755905618058875, 'avg_acc': 49.82099018003273, 'loss': 5.840837001800537}\n"
     ]
    },
    {
     "name": "stderr",
     "output_type": "stream",
     "text": [
      "EP_train:1:   9%|| 623/6926 [01:01<10:36,  9.90it/s]"
     ]
    },
    {
     "name": "stdout",
     "output_type": "stream",
     "text": [
      "{'epoch': 1, 'iter': 620, 'avg_loss': 5.757815581396966, 'avg_acc': 49.88929146537842, 'loss': 6.139554977416992}\n"
     ]
    },
    {
     "name": "stderr",
     "output_type": "stream",
     "text": [
      "EP_train:1:   9%|| 633/6926 [01:02<09:53, 10.61it/s]"
     ]
    },
    {
     "name": "stdout",
     "output_type": "stream",
     "text": [
      "{'epoch': 1, 'iter': 630, 'avg_loss': 5.757138428332877, 'avg_acc': 49.88609350237718, 'loss': 6.138125419616699}\n"
     ]
    },
    {
     "name": "stderr",
     "output_type": "stream",
     "text": [
      "EP_train:1:   9%|| 643/6926 [01:03<10:14, 10.22it/s]"
     ]
    },
    {
     "name": "stdout",
     "output_type": "stream",
     "text": [
      "{'epoch': 1, 'iter': 640, 'avg_loss': 5.757246067297068, 'avg_acc': 49.84886895475819, 'loss': 5.449552059173584}\n"
     ]
    },
    {
     "name": "stderr",
     "output_type": "stream",
     "text": [
      "EP_train:1:   9%|| 653/6926 [01:04<10:11, 10.26it/s]"
     ]
    },
    {
     "name": "stdout",
     "output_type": "stream",
     "text": [
      "{'epoch': 1, 'iter': 650, 'avg_loss': 5.755809366428358, 'avg_acc': 49.84158986175115, 'loss': 5.138346195220947}\n"
     ]
    },
    {
     "name": "stderr",
     "output_type": "stream",
     "text": [
      "EP_train:1:  10%|| 663/6926 [01:05<10:09, 10.27it/s]"
     ]
    },
    {
     "name": "stdout",
     "output_type": "stream",
     "text": [
      "{'epoch': 1, 'iter': 660, 'avg_loss': 5.754206716563446, 'avg_acc': 49.84871406959152, 'loss': 5.235800266265869}\n"
     ]
    },
    {
     "name": "stderr",
     "output_type": "stream",
     "text": [
      "EP_train:1:  10%|| 672/6926 [01:06<10:32,  9.89it/s]"
     ]
    },
    {
     "name": "stdout",
     "output_type": "stream",
     "text": [
      "{'epoch': 1, 'iter': 670, 'avg_loss': 5.755594494445846, 'avg_acc': 49.81371087928465, 'loss': 5.7420759201049805}\n"
     ]
    },
    {
     "name": "stderr",
     "output_type": "stream",
     "text": [
      "EP_train:1:  10%|| 683/6926 [01:07<10:56,  9.51it/s]"
     ]
    },
    {
     "name": "stdout",
     "output_type": "stream",
     "text": [
      "{'epoch': 1, 'iter': 680, 'avg_loss': 5.756191319481042, 'avg_acc': 49.72466960352423, 'loss': 5.882936000823975}\n"
     ]
    },
    {
     "name": "stderr",
     "output_type": "stream",
     "text": [
      "EP_train:1:  10%|| 692/6926 [01:08<10:35,  9.81it/s]"
     ]
    },
    {
     "name": "stdout",
     "output_type": "stream",
     "text": [
      "{'epoch': 1, 'iter': 690, 'avg_loss': 5.75381083909406, 'avg_acc': 49.67438494934877, 'loss': 5.305647373199463}\n"
     ]
    },
    {
     "name": "stderr",
     "output_type": "stream",
     "text": [
      "EP_train:1:  10%|| 703/6926 [01:09<10:10, 10.20it/s]"
     ]
    },
    {
     "name": "stdout",
     "output_type": "stream",
     "text": [
      "{'epoch': 1, 'iter': 700, 'avg_loss': 5.752320204583793, 'avg_acc': 49.68348787446505, 'loss': 5.690885066986084}\n"
     ]
    },
    {
     "name": "stderr",
     "output_type": "stream",
     "text": [
      "EP_train:1:  10%|| 713/6926 [01:10<09:53, 10.47it/s]"
     ]
    },
    {
     "name": "stdout",
     "output_type": "stream",
     "text": [
      "{'epoch': 1, 'iter': 710, 'avg_loss': 5.749940952671228, 'avg_acc': 49.67475386779184, 'loss': 5.30158805847168}\n"
     ]
    },
    {
     "name": "stderr",
     "output_type": "stream",
     "text": [
      "EP_train:1:  10%|| 721/6926 [01:11<10:11, 10.15it/s]"
     ]
    },
    {
     "name": "stdout",
     "output_type": "stream",
     "text": [
      "{'epoch': 1, 'iter': 720, 'avg_loss': 5.750925420557411, 'avg_acc': 49.78328710124826, 'loss': 6.213442802429199}\n"
     ]
    },
    {
     "name": "stderr",
     "output_type": "stream",
     "text": [
      "EP_train:1:  11%|| 732/6926 [01:12<10:02, 10.28it/s]"
     ]
    },
    {
     "name": "stdout",
     "output_type": "stream",
     "text": [
      "{'epoch': 1, 'iter': 730, 'avg_loss': 5.75157587179244, 'avg_acc': 49.790526675786595, 'loss': 5.914226055145264}\n"
     ]
    },
    {
     "name": "stderr",
     "output_type": "stream",
     "text": [
      "EP_train:1:  11%|| 743/6926 [01:13<10:20,  9.96it/s]"
     ]
    },
    {
     "name": "stdout",
     "output_type": "stream",
     "text": [
      "{'epoch': 1, 'iter': 740, 'avg_loss': 5.749711377739746, 'avg_acc': 49.82709176788124, 'loss': 5.4449334144592285}\n"
     ]
    },
    {
     "name": "stderr",
     "output_type": "stream",
     "text": [
      "EP_train:1:  11%|| 753/6926 [01:14<10:01, 10.26it/s]"
     ]
    },
    {
     "name": "stdout",
     "output_type": "stream",
     "text": [
      "{'epoch': 1, 'iter': 750, 'avg_loss': 5.750991484772825, 'avg_acc': 49.80026631158455, 'loss': 5.963497638702393}\n"
     ]
    },
    {
     "name": "stderr",
     "output_type": "stream",
     "text": [
      "EP_train:1:  11%|| 763/6926 [01:15<09:59, 10.27it/s]"
     ]
    },
    {
     "name": "stdout",
     "output_type": "stream",
     "text": [
      "{'epoch': 1, 'iter': 760, 'avg_loss': 5.752802536146087, 'avg_acc': 49.74950722733246, 'loss': 6.3633646965026855}\n"
     ]
    },
    {
     "name": "stderr",
     "output_type": "stream",
     "text": [
      "EP_train:1:  11%|| 773/6926 [01:16<09:56, 10.31it/s]"
     ]
    },
    {
     "name": "stdout",
     "output_type": "stream",
     "text": [
      "{'epoch': 1, 'iter': 770, 'avg_loss': 5.7542380136274645, 'avg_acc': 49.6757457846952, 'loss': 5.692191123962402}\n"
     ]
    },
    {
     "name": "stderr",
     "output_type": "stream",
     "text": [
      "EP_train:1:  11%|| 783/6926 [01:17<09:59, 10.25it/s]"
     ]
    },
    {
     "name": "stdout",
     "output_type": "stream",
     "text": [
      "{'epoch': 1, 'iter': 780, 'avg_loss': 5.754046684953834, 'avg_acc': 49.695902688860436, 'loss': 5.721303462982178}\n"
     ]
    },
    {
     "name": "stderr",
     "output_type": "stream",
     "text": [
      "EP_train:1:  11%|| 793/6926 [01:18<10:04, 10.14it/s]"
     ]
    },
    {
     "name": "stdout",
     "output_type": "stream",
     "text": [
      "{'epoch': 1, 'iter': 790, 'avg_loss': 5.754053221942502, 'avg_acc': 49.70764854614412, 'loss': 6.143453121185303}\n"
     ]
    },
    {
     "name": "stderr",
     "output_type": "stream",
     "text": [
      "EP_train:1:  12%|| 803/6926 [01:19<10:05, 10.11it/s]"
     ]
    },
    {
     "name": "stdout",
     "output_type": "stream",
     "text": [
      "{'epoch': 1, 'iter': 800, 'avg_loss': 5.755097026086776, 'avg_acc': 49.660580524344574, 'loss': 5.797800540924072}\n"
     ]
    },
    {
     "name": "stderr",
     "output_type": "stream",
     "text": [
      "EP_train:1:  12%|| 811/6926 [01:20<10:11, 10.00it/s]"
     ]
    },
    {
     "name": "stdout",
     "output_type": "stream",
     "text": [
      "{'epoch': 1, 'iter': 810, 'avg_loss': 5.7565214313502375, 'avg_acc': 49.70329839704069, 'loss': 5.737315654754639}\n"
     ]
    },
    {
     "name": "stderr",
     "output_type": "stream",
     "text": [
      "EP_train:1:  12%|| 823/6926 [01:21<10:03, 10.12it/s]"
     ]
    },
    {
     "name": "stdout",
     "output_type": "stream",
     "text": [
      "{'epoch': 1, 'iter': 820, 'avg_loss': 5.755003226369656, 'avg_acc': 49.737362971985384, 'loss': 5.316668510437012}\n"
     ]
    },
    {
     "name": "stderr",
     "output_type": "stream",
     "text": [
      "EP_train:1:  12%|| 833/6926 [01:22<10:01, 10.13it/s]"
     ]
    },
    {
     "name": "stdout",
     "output_type": "stream",
     "text": [
      "{'epoch': 1, 'iter': 830, 'avg_loss': 5.752726551427738, 'avg_acc': 49.774368231046935, 'loss': 5.348205089569092}\n"
     ]
    },
    {
     "name": "stderr",
     "output_type": "stream",
     "text": [
      "EP_train:1:  12%|| 843/6926 [01:23<09:51, 10.28it/s]"
     ]
    },
    {
     "name": "stdout",
     "output_type": "stream",
     "text": [
      "{'epoch': 1, 'iter': 840, 'avg_loss': 5.751859250448547, 'avg_acc': 49.75847205707491, 'loss': 5.536344528198242}\n"
     ]
    },
    {
     "name": "stderr",
     "output_type": "stream",
     "text": [
      "EP_train:1:  12%|| 853/6926 [01:24<10:04, 10.05it/s]"
     ]
    },
    {
     "name": "stdout",
     "output_type": "stream",
     "text": [
      "{'epoch': 1, 'iter': 850, 'avg_loss': 5.750355838748739, 'avg_acc': 49.80537602820211, 'loss': 5.560117721557617}\n"
     ]
    },
    {
     "name": "stderr",
     "output_type": "stream",
     "text": [
      "EP_train:1:  12%|| 863/6926 [01:25<10:14,  9.87it/s]"
     ]
    },
    {
     "name": "stdout",
     "output_type": "stream",
     "text": [
      "{'epoch': 1, 'iter': 860, 'avg_loss': 5.75072217458355, 'avg_acc': 49.811265969802555, 'loss': 5.6877617835998535}\n"
     ]
    },
    {
     "name": "stderr",
     "output_type": "stream",
     "text": [
      "EP_train:1:  13%|| 873/6926 [01:26<10:03, 10.03it/s]"
     ]
    },
    {
     "name": "stdout",
     "output_type": "stream",
     "text": [
      "{'epoch': 1, 'iter': 870, 'avg_loss': 5.748824090552522, 'avg_acc': 49.78473019517796, 'loss': 5.996655464172363}\n"
     ]
    },
    {
     "name": "stderr",
     "output_type": "stream",
     "text": [
      "EP_train:1:  13%|| 882/6926 [01:27<09:39, 10.42it/s]"
     ]
    },
    {
     "name": "stdout",
     "output_type": "stream",
     "text": [
      "{'epoch': 1, 'iter': 880, 'avg_loss': 5.7483491329275385, 'avg_acc': 49.80490919409762, 'loss': 5.329926490783691}\n"
     ]
    },
    {
     "name": "stderr",
     "output_type": "stream",
     "text": [
      "EP_train:1:  13%|| 892/6926 [01:28<10:01, 10.04it/s]"
     ]
    },
    {
     "name": "stdout",
     "output_type": "stream",
     "text": [
      "{'epoch': 1, 'iter': 890, 'avg_loss': 5.7486535638537335, 'avg_acc': 49.831649831649834, 'loss': 5.7550859451293945}\n"
     ]
    },
    {
     "name": "stderr",
     "output_type": "stream",
     "text": [
      "EP_train:1:  13%|| 902/6926 [01:29<09:35, 10.48it/s]"
     ]
    },
    {
     "name": "stdout",
     "output_type": "stream",
     "text": [
      "{'epoch': 1, 'iter': 900, 'avg_loss': 5.749119181744134, 'avg_acc': 49.84739178690344, 'loss': 5.350697040557861}\n"
     ]
    },
    {
     "name": "stderr",
     "output_type": "stream",
     "text": [
      "EP_train:1:  13%|| 912/6926 [01:30<09:35, 10.45it/s]"
     ]
    },
    {
     "name": "stdout",
     "output_type": "stream",
     "text": [
      "{'epoch': 1, 'iter': 910, 'avg_loss': 5.747998762601817, 'avg_acc': 49.85592755214051, 'loss': 5.709644317626953}\n"
     ]
    },
    {
     "name": "stderr",
     "output_type": "stream",
     "text": [
      "EP_train:1:  13%|| 922/6926 [01:31<09:41, 10.33it/s]"
     ]
    },
    {
     "name": "stdout",
     "output_type": "stream",
     "text": [
      "{'epoch': 1, 'iter': 920, 'avg_loss': 5.748133041700763, 'avg_acc': 49.833740499457114, 'loss': 6.035433292388916}\n"
     ]
    },
    {
     "name": "stderr",
     "output_type": "stream",
     "text": [
      "EP_train:1:  13%|| 932/6926 [01:31<09:47, 10.20it/s]"
     ]
    },
    {
     "name": "stdout",
     "output_type": "stream",
     "text": [
      "{'epoch': 1, 'iter': 930, 'avg_loss': 5.747186096347108, 'avg_acc': 49.82209989258862, 'loss': 5.79592752456665}\n"
     ]
    },
    {
     "name": "stderr",
     "output_type": "stream",
     "text": [
      "EP_train:1:  14%|| 942/6926 [01:32<09:45, 10.21it/s]"
     ]
    },
    {
     "name": "stdout",
     "output_type": "stream",
     "text": [
      "{'epoch': 1, 'iter': 940, 'avg_loss': 5.747858732083652, 'avg_acc': 49.840595111583426, 'loss': 5.909926414489746}\n"
     ]
    },
    {
     "name": "stderr",
     "output_type": "stream",
     "text": [
      "EP_train:1:  14%|| 952/6926 [01:33<09:37, 10.34it/s]"
     ]
    },
    {
     "name": "stdout",
     "output_type": "stream",
     "text": [
      "{'epoch': 1, 'iter': 950, 'avg_loss': 5.748747232459196, 'avg_acc': 49.881703470031546, 'loss': 5.860219478607178}\n"
     ]
    },
    {
     "name": "stderr",
     "output_type": "stream",
     "text": [
      "EP_train:1:  14%|| 962/6926 [01:34<09:49, 10.11it/s]"
     ]
    },
    {
     "name": "stdout",
     "output_type": "stream",
     "text": [
      "{'epoch': 1, 'iter': 960, 'avg_loss': 5.748857925387252, 'avg_acc': 49.84066077003122, 'loss': 5.889806747436523}\n"
     ]
    },
    {
     "name": "stderr",
     "output_type": "stream",
     "text": [
      "EP_train:1:  14%|| 972/6926 [01:35<09:47, 10.14it/s]"
     ]
    },
    {
     "name": "stdout",
     "output_type": "stream",
     "text": [
      "{'epoch': 1, 'iter': 970, 'avg_loss': 5.7481738359626116, 'avg_acc': 49.8101184346035, 'loss': 6.152716636657715}\n"
     ]
    },
    {
     "name": "stderr",
     "output_type": "stream",
     "text": [
      "EP_train:1:  14%|| 982/6926 [01:36<09:50, 10.06it/s]"
     ]
    },
    {
     "name": "stdout",
     "output_type": "stream",
     "text": [
      "{'epoch': 1, 'iter': 980, 'avg_loss': 5.747649624442471, 'avg_acc': 49.869393476044856, 'loss': 5.796731472015381}\n"
     ]
    },
    {
     "name": "stderr",
     "output_type": "stream",
     "text": [
      "EP_train:1:  14%|| 993/6926 [01:37<09:18, 10.63it/s]"
     ]
    },
    {
     "name": "stdout",
     "output_type": "stream",
     "text": [
      "{'epoch': 1, 'iter': 990, 'avg_loss': 5.747030828362397, 'avg_acc': 49.87701816347124, 'loss': 5.473860740661621}\n"
     ]
    },
    {
     "name": "stderr",
     "output_type": "stream",
     "text": [
      "EP_train:1:  14%|| 1003/6926 [01:38<09:32, 10.34it/s]"
     ]
    },
    {
     "name": "stdout",
     "output_type": "stream",
     "text": [
      "{'epoch': 1, 'iter': 1000, 'avg_loss': 5.745930209621921, 'avg_acc': 49.85327172827173, 'loss': 5.874335289001465}\n"
     ]
    },
    {
     "name": "stderr",
     "output_type": "stream",
     "text": [
      "EP_train:1:  15%|| 1013/6926 [01:39<10:04,  9.78it/s]"
     ]
    },
    {
     "name": "stdout",
     "output_type": "stream",
     "text": [
      "{'epoch': 1, 'iter': 1010, 'avg_loss': 5.746134065614846, 'avg_acc': 49.826904055390706, 'loss': 5.9046173095703125}\n"
     ]
    },
    {
     "name": "stderr",
     "output_type": "stream",
     "text": [
      "EP_train:1:  15%|| 1023/6926 [01:40<09:35, 10.25it/s]"
     ]
    },
    {
     "name": "stdout",
     "output_type": "stream",
     "text": [
      "{'epoch': 1, 'iter': 1020, 'avg_loss': 5.745030933682762, 'avg_acc': 49.84390303623898, 'loss': 5.659180641174316}\n"
     ]
    },
    {
     "name": "stderr",
     "output_type": "stream",
     "text": [
      "EP_train:1:  15%|| 1033/6926 [01:41<09:27, 10.38it/s]"
     ]
    },
    {
     "name": "stdout",
     "output_type": "stream",
     "text": [
      "{'epoch': 1, 'iter': 1030, 'avg_loss': 5.744492964647443, 'avg_acc': 49.887851600387975, 'loss': 5.622883319854736}\n"
     ]
    },
    {
     "name": "stderr",
     "output_type": "stream",
     "text": [
      "EP_train:1:  15%|| 1043/6926 [01:42<09:35, 10.22it/s]"
     ]
    },
    {
     "name": "stdout",
     "output_type": "stream",
     "text": [
      "{'epoch': 1, 'iter': 1040, 'avg_loss': 5.743865550423219, 'avg_acc': 49.9309558117195, 'loss': 5.57675313949585}\n"
     ]
    },
    {
     "name": "stderr",
     "output_type": "stream",
     "text": [
      "EP_train:1:  15%|| 1052/6926 [01:43<09:56,  9.84it/s]"
     ]
    },
    {
     "name": "stdout",
     "output_type": "stream",
     "text": [
      "{'epoch': 1, 'iter': 1050, 'avg_loss': 5.743702505113509, 'avg_acc': 49.91079923882017, 'loss': 5.443964958190918}\n"
     ]
    },
    {
     "name": "stderr",
     "output_type": "stream",
     "text": [
      "EP_train:1:  15%|| 1062/6926 [01:44<09:36, 10.18it/s]"
     ]
    },
    {
     "name": "stdout",
     "output_type": "stream",
     "text": [
      "{'epoch': 1, 'iter': 1060, 'avg_loss': 5.743599973457473, 'avg_acc': 49.95287464655985, 'loss': 6.27748441696167}\n"
     ]
    },
    {
     "name": "stderr",
     "output_type": "stream",
     "text": [
      "EP_train:1:  15%|| 1072/6926 [01:45<09:42, 10.06it/s]"
     ]
    },
    {
     "name": "stdout",
     "output_type": "stream",
     "text": [
      "{'epoch': 1, 'iter': 1070, 'avg_loss': 5.7438485860601975, 'avg_acc': 49.95331465919701, 'loss': 6.00383186340332}\n"
     ]
    },
    {
     "name": "stderr",
     "output_type": "stream",
     "text": [
      "EP_train:1:  16%|| 1082/6926 [01:46<09:42, 10.04it/s]"
     ]
    },
    {
     "name": "stdout",
     "output_type": "stream",
     "text": [
      "{'epoch': 1, 'iter': 1080, 'avg_loss': 5.742688467941496, 'avg_acc': 50.005781683626275, 'loss': 5.519684314727783}\n"
     ]
    },
    {
     "name": "stderr",
     "output_type": "stream",
     "text": [
      "EP_train:1:  16%|| 1092/6926 [01:47<09:19, 10.43it/s]"
     ]
    },
    {
     "name": "stdout",
     "output_type": "stream",
     "text": [
      "{'epoch': 1, 'iter': 1090, 'avg_loss': 5.7434955499895555, 'avg_acc': 49.99713565536205, 'loss': 5.952855587005615}\n"
     ]
    },
    {
     "name": "stderr",
     "output_type": "stream",
     "text": [
      "EP_train:1:  16%|| 1102/6926 [01:48<09:28, 10.25it/s]"
     ]
    },
    {
     "name": "stdout",
     "output_type": "stream",
     "text": [
      "{'epoch': 1, 'iter': 1100, 'avg_loss': 5.7434523973976015, 'avg_acc': 49.98013169845595, 'loss': 5.926455020904541}\n"
     ]
    },
    {
     "name": "stderr",
     "output_type": "stream",
     "text": [
      "EP_train:1:  16%|| 1112/6926 [01:49<09:18, 10.41it/s]"
     ]
    },
    {
     "name": "stdout",
     "output_type": "stream",
     "text": [
      "{'epoch': 1, 'iter': 1110, 'avg_loss': 5.742237322401293, 'avg_acc': 49.9690594059406, 'loss': 5.793285846710205}\n"
     ]
    },
    {
     "name": "stderr",
     "output_type": "stream",
     "text": [
      "EP_train:1:  16%|| 1122/6926 [01:50<09:38, 10.03it/s]"
     ]
    },
    {
     "name": "stdout",
     "output_type": "stream",
     "text": [
      "{'epoch': 1, 'iter': 1120, 'avg_loss': 5.742983362060057, 'avg_acc': 49.93030776092775, 'loss': 6.183521747589111}\n"
     ]
    },
    {
     "name": "stderr",
     "output_type": "stream",
     "text": [
      "EP_train:1:  16%|| 1132/6926 [01:51<09:17, 10.39it/s]"
     ]
    },
    {
     "name": "stdout",
     "output_type": "stream",
     "text": [
      "{'epoch': 1, 'iter': 1130, 'avg_loss': 5.743385014757449, 'avg_acc': 49.92539787798408, 'loss': 5.760928630828857}\n"
     ]
    },
    {
     "name": "stderr",
     "output_type": "stream",
     "text": [
      "EP_train:1:  16%|| 1142/6926 [01:52<09:20, 10.31it/s]"
     ]
    },
    {
     "name": "stdout",
     "output_type": "stream",
     "text": [
      "{'epoch': 1, 'iter': 1140, 'avg_loss': 5.744793243725816, 'avg_acc': 49.923312883435585, 'loss': 5.008618354797363}\n"
     ]
    },
    {
     "name": "stderr",
     "output_type": "stream",
     "text": [
      "EP_train:1:  17%|| 1152/6926 [01:53<09:28, 10.15it/s]"
     ]
    },
    {
     "name": "stdout",
     "output_type": "stream",
     "text": [
      "{'epoch': 1, 'iter': 1150, 'avg_loss': 5.744047105260562, 'avg_acc': 49.89682884448306, 'loss': 5.768951892852783}\n"
     ]
    },
    {
     "name": "stderr",
     "output_type": "stream",
     "text": [
      "EP_train:1:  17%|| 1162/6926 [01:54<09:17, 10.34it/s]"
     ]
    },
    {
     "name": "stdout",
     "output_type": "stream",
     "text": [
      "{'epoch': 1, 'iter': 1160, 'avg_loss': 5.743623372093549, 'avg_acc': 49.88425925925926, 'loss': 5.1406145095825195}\n"
     ]
    },
    {
     "name": "stderr",
     "output_type": "stream",
     "text": [
      "EP_train:1:  17%|| 1172/6926 [01:55<09:14, 10.37it/s]"
     ]
    },
    {
     "name": "stdout",
     "output_type": "stream",
     "text": [
      "{'epoch': 1, 'iter': 1170, 'avg_loss': 5.743875949022406, 'avg_acc': 49.90125960717335, 'loss': 5.667515754699707}\n"
     ]
    },
    {
     "name": "stderr",
     "output_type": "stream",
     "text": [
      "EP_train:1:  17%|| 1182/6926 [01:56<09:13, 10.38it/s]"
     ]
    },
    {
     "name": "stdout",
     "output_type": "stream",
     "text": [
      "{'epoch': 1, 'iter': 1180, 'avg_loss': 5.743260110262387, 'avg_acc': 49.899449618966976, 'loss': 5.859867095947266}\n"
     ]
    },
    {
     "name": "stderr",
     "output_type": "stream",
     "text": [
      "EP_train:1:  17%|| 1193/6926 [01:57<09:34,  9.97it/s]"
     ]
    },
    {
     "name": "stdout",
     "output_type": "stream",
     "text": [
      "{'epoch': 1, 'iter': 1190, 'avg_loss': 5.7424293837559315, 'avg_acc': 49.89504617968094, 'loss': 5.946283340454102}\n"
     ]
    },
    {
     "name": "stderr",
     "output_type": "stream",
     "text": [
      "EP_train:1:  17%|| 1203/6926 [01:58<09:20, 10.22it/s]"
     ]
    },
    {
     "name": "stdout",
     "output_type": "stream",
     "text": [
      "{'epoch': 1, 'iter': 1200, 'avg_loss': 5.743182545597607, 'avg_acc': 49.911532056619485, 'loss': 6.000738143920898}\n"
     ]
    },
    {
     "name": "stderr",
     "output_type": "stream",
     "text": [
      "EP_train:1:  18%|| 1213/6926 [01:59<08:54, 10.69it/s]"
     ]
    },
    {
     "name": "stdout",
     "output_type": "stream",
     "text": [
      "{'epoch': 1, 'iter': 1210, 'avg_loss': 5.742732174429984, 'avg_acc': 49.90968208092485, 'loss': 5.715514659881592}\n"
     ]
    },
    {
     "name": "stderr",
     "output_type": "stream",
     "text": [
      "EP_train:1:  18%|| 1223/6926 [02:00<09:34,  9.93it/s]"
     ]
    },
    {
     "name": "stdout",
     "output_type": "stream",
     "text": [
      "{'epoch': 1, 'iter': 1220, 'avg_loss': 5.742380936159451, 'avg_acc': 49.884828009828006, 'loss': 6.237277030944824}\n"
     ]
    },
    {
     "name": "stderr",
     "output_type": "stream",
     "text": [
      "EP_train:1:  18%|| 1233/6926 [02:01<09:14, 10.27it/s]"
     ]
    },
    {
     "name": "stdout",
     "output_type": "stream",
     "text": [
      "{'epoch': 1, 'iter': 1230, 'avg_loss': 5.7435445599590835, 'avg_acc': 49.86545491470349, 'loss': 5.522944450378418}\n"
     ]
    },
    {
     "name": "stderr",
     "output_type": "stream",
     "text": [
      "EP_train:1:  18%|| 1243/6926 [02:02<09:01, 10.50it/s]"
     ]
    },
    {
     "name": "stdout",
     "output_type": "stream",
     "text": [
      "{'epoch': 1, 'iter': 1240, 'avg_loss': 5.743362883230451, 'avg_acc': 49.85898468976632, 'loss': 5.861084938049316}\n"
     ]
    },
    {
     "name": "stderr",
     "output_type": "stream",
     "text": [
      "EP_train:1:  18%|| 1253/6926 [02:03<09:17, 10.18it/s]"
     ]
    },
    {
     "name": "stdout",
     "output_type": "stream",
     "text": [
      "{'epoch': 1, 'iter': 1250, 'avg_loss': 5.743047229010615, 'avg_acc': 49.86260991207034, 'loss': 5.4285078048706055}\n"
     ]
    },
    {
     "name": "stderr",
     "output_type": "stream",
     "text": [
      "EP_train:1:  18%|| 1263/6926 [02:04<09:39,  9.78it/s]"
     ]
    },
    {
     "name": "stdout",
     "output_type": "stream",
     "text": [
      "{'epoch': 1, 'iter': 1260, 'avg_loss': 5.741552337023307, 'avg_acc': 49.873612212529736, 'loss': 5.944289684295654}\n"
     ]
    },
    {
     "name": "stderr",
     "output_type": "stream",
     "text": [
      "EP_train:1:  18%|| 1273/6926 [02:05<09:18, 10.12it/s]"
     ]
    },
    {
     "name": "stdout",
     "output_type": "stream",
     "text": [
      "{'epoch': 1, 'iter': 1270, 'avg_loss': 5.7411257157074385, 'avg_acc': 49.89181746656176, 'loss': 5.870715141296387}\n"
     ]
    },
    {
     "name": "stderr",
     "output_type": "stream",
     "text": [
      "EP_train:1:  19%|| 1283/6926 [02:06<09:07, 10.31it/s]"
     ]
    },
    {
     "name": "stdout",
     "output_type": "stream",
     "text": [
      "{'epoch': 1, 'iter': 1280, 'avg_loss': 5.740820984092195, 'avg_acc': 49.926814988290396, 'loss': 5.513460159301758}\n"
     ]
    },
    {
     "name": "stderr",
     "output_type": "stream",
     "text": [
      "EP_train:1:  19%|| 1293/6926 [02:07<09:05, 10.33it/s]"
     ]
    },
    {
     "name": "stdout",
     "output_type": "stream",
     "text": [
      "{'epoch': 1, 'iter': 1290, 'avg_loss': 5.741142129639523, 'avg_acc': 49.94674670797831, 'loss': 5.383762359619141}\n"
     ]
    },
    {
     "name": "stderr",
     "output_type": "stream",
     "text": [
      "EP_train:1:  19%|| 1303/6926 [02:08<09:10, 10.22it/s]"
     ]
    },
    {
     "name": "stdout",
     "output_type": "stream",
     "text": [
      "{'epoch': 1, 'iter': 1300, 'avg_loss': 5.740387548583, 'avg_acc': 49.98799000768639, 'loss': 5.223226070404053}\n"
     ]
    },
    {
     "name": "stderr",
     "output_type": "stream",
     "text": [
      "EP_train:1:  19%|| 1313/6926 [02:09<09:07, 10.25it/s]"
     ]
    },
    {
     "name": "stdout",
     "output_type": "stream",
     "text": [
      "{'epoch': 1, 'iter': 1310, 'avg_loss': 5.740373986445703, 'avg_acc': 49.964244851258584, 'loss': 5.50651216506958}\n"
     ]
    },
    {
     "name": "stderr",
     "output_type": "stream",
     "text": [
      "EP_train:1:  19%|| 1323/6926 [02:10<09:11, 10.16it/s]"
     ]
    },
    {
     "name": "stdout",
     "output_type": "stream",
     "text": [
      "{'epoch': 1, 'iter': 1320, 'avg_loss': 5.739623402574584, 'avg_acc': 49.94559046177138, 'loss': 5.551586627960205}\n"
     ]
    },
    {
     "name": "stderr",
     "output_type": "stream",
     "text": [
      "EP_train:1:  19%|| 1333/6926 [02:11<09:25,  9.90it/s]"
     ]
    },
    {
     "name": "stdout",
     "output_type": "stream",
     "text": [
      "{'epoch': 1, 'iter': 1330, 'avg_loss': 5.740235288191522, 'avg_acc': 49.913129226145756, 'loss': 5.6793670654296875}\n"
     ]
    },
    {
     "name": "stderr",
     "output_type": "stream",
     "text": [
      "EP_train:1:  19%|| 1342/6926 [02:12<08:49, 10.55it/s]"
     ]
    },
    {
     "name": "stdout",
     "output_type": "stream",
     "text": [
      "{'epoch': 1, 'iter': 1340, 'avg_loss': 5.740321720473185, 'avg_acc': 49.91377703206562, 'loss': 5.630019664764404}\n"
     ]
    },
    {
     "name": "stderr",
     "output_type": "stream",
     "text": [
      "EP_train:1:  20%|| 1352/6926 [02:13<09:04, 10.23it/s]"
     ]
    },
    {
     "name": "stdout",
     "output_type": "stream",
     "text": [
      "{'epoch': 1, 'iter': 1350, 'avg_loss': 5.739425262815417, 'avg_acc': 49.90053663952628, 'loss': 5.807499408721924}\n"
     ]
    },
    {
     "name": "stderr",
     "output_type": "stream",
     "text": [
      "EP_train:1:  20%|| 1362/6926 [02:14<09:10, 10.11it/s]"
     ]
    },
    {
     "name": "stdout",
     "output_type": "stream",
     "text": [
      "{'epoch': 1, 'iter': 1360, 'avg_loss': 5.739266447421823, 'avg_acc': 49.90356355620867, 'loss': 6.015593528747559}\n"
     ]
    },
    {
     "name": "stderr",
     "output_type": "stream",
     "text": [
      "EP_train:1:  20%|| 1372/6926 [02:15<09:07, 10.14it/s]"
     ]
    },
    {
     "name": "stdout",
     "output_type": "stream",
     "text": [
      "{'epoch': 1, 'iter': 1370, 'avg_loss': 5.73943205770135, 'avg_acc': 49.87919401896426, 'loss': 6.114409923553467}\n"
     ]
    },
    {
     "name": "stderr",
     "output_type": "stream",
     "text": [
      "EP_train:1:  20%|| 1382/6926 [02:16<09:09, 10.08it/s]"
     ]
    },
    {
     "name": "stdout",
     "output_type": "stream",
     "text": [
      "{'epoch': 1, 'iter': 1380, 'avg_loss': 5.739754581865757, 'avg_acc': 49.88006879073135, 'loss': 5.647432327270508}\n"
     ]
    },
    {
     "name": "stderr",
     "output_type": "stream",
     "text": [
      "EP_train:1:  20%|| 1393/6926 [02:17<09:32,  9.66it/s]"
     ]
    },
    {
     "name": "stdout",
     "output_type": "stream",
     "text": [
      "{'epoch': 1, 'iter': 1390, 'avg_loss': 5.740124252012186, 'avg_acc': 49.88317757009346, 'loss': 5.93075704574585}\n"
     ]
    },
    {
     "name": "stderr",
     "output_type": "stream",
     "text": [
      "EP_train:1:  20%|| 1402/6926 [02:18<09:11, 10.02it/s]"
     ]
    },
    {
     "name": "stdout",
     "output_type": "stream",
     "text": [
      "{'epoch': 1, 'iter': 1400, 'avg_loss': 5.7391369490858315, 'avg_acc': 49.87731977159172, 'loss': 5.699299335479736}\n"
     ]
    },
    {
     "name": "stderr",
     "output_type": "stream",
     "text": [
      "EP_train:1:  20%|| 1412/6926 [02:19<09:35,  9.58it/s]"
     ]
    },
    {
     "name": "stdout",
     "output_type": "stream",
     "text": [
      "{'epoch': 1, 'iter': 1410, 'avg_loss': 5.739925223998699, 'avg_acc': 49.86933026222537, 'loss': 6.432971477508545}\n"
     ]
    },
    {
     "name": "stderr",
     "output_type": "stream",
     "text": [
      "EP_train:1:  21%|| 1423/6926 [02:20<08:53, 10.31it/s]"
     ]
    },
    {
     "name": "stdout",
     "output_type": "stream",
     "text": [
      "{'epoch': 1, 'iter': 1420, 'avg_loss': 5.7400025670416, 'avg_acc': 49.87464813511612, 'loss': 5.557791709899902}\n"
     ]
    },
    {
     "name": "stderr",
     "output_type": "stream",
     "text": [
      "EP_train:1:  21%|| 1433/6926 [02:21<08:39, 10.57it/s]"
     ]
    },
    {
     "name": "stdout",
     "output_type": "stream",
     "text": [
      "{'epoch': 1, 'iter': 1430, 'avg_loss': 5.739308204624221, 'avg_acc': 49.89299440950384, 'loss': 5.476411819458008}\n"
     ]
    },
    {
     "name": "stderr",
     "output_type": "stream",
     "text": [
      "EP_train:1:  21%|| 1441/6926 [02:22<09:02, 10.10it/s]"
     ]
    },
    {
     "name": "stdout",
     "output_type": "stream",
     "text": [
      "{'epoch': 1, 'iter': 1440, 'avg_loss': 5.739129364614599, 'avg_acc': 49.91325468424705, 'loss': 5.342946529388428}\n"
     ]
    },
    {
     "name": "stderr",
     "output_type": "stream",
     "text": [
      "EP_train:1:  21%|| 1452/6926 [02:23<08:46, 10.40it/s]"
     ]
    },
    {
     "name": "stdout",
     "output_type": "stream",
     "text": [
      "{'epoch': 1, 'iter': 1450, 'avg_loss': 5.739158221559636, 'avg_acc': 49.9289283252929, 'loss': 5.715081214904785}\n"
     ]
    },
    {
     "name": "stderr",
     "output_type": "stream",
     "text": [
      "EP_train:1:  21%|| 1462/6926 [02:24<08:45, 10.39it/s]"
     ]
    },
    {
     "name": "stdout",
     "output_type": "stream",
     "text": [
      "{'epoch': 1, 'iter': 1460, 'avg_loss': 5.739446005210903, 'avg_acc': 49.97861054072553, 'loss': 6.182641506195068}\n"
     ]
    },
    {
     "name": "stderr",
     "output_type": "stream",
     "text": [
      "EP_train:1:  21%|| 1472/6926 [02:25<09:00, 10.08it/s]"
     ]
    },
    {
     "name": "stdout",
     "output_type": "stream",
     "text": [
      "{'epoch': 1, 'iter': 1470, 'avg_loss': 5.738814363019309, 'avg_acc': 49.938392250169954, 'loss': 5.7380218505859375}\n"
     ]
    },
    {
     "name": "stderr",
     "output_type": "stream",
     "text": [
      "EP_train:1:  21%|| 1482/6926 [02:25<08:33, 10.59it/s]"
     ]
    },
    {
     "name": "stdout",
     "output_type": "stream",
     "text": [
      "{'epoch': 1, 'iter': 1480, 'avg_loss': 5.739346831332663, 'avg_acc': 49.940918298446995, 'loss': 5.7040934562683105}\n"
     ]
    },
    {
     "name": "stderr",
     "output_type": "stream",
     "text": [
      "EP_train:1:  22%|| 1492/6926 [02:26<08:40, 10.45it/s]"
     ]
    },
    {
     "name": "stdout",
     "output_type": "stream",
     "text": [
      "{'epoch': 1, 'iter': 1490, 'avg_loss': 5.739946951248916, 'avg_acc': 49.92873910127431, 'loss': 5.874210357666016}\n"
     ]
    },
    {
     "name": "stderr",
     "output_type": "stream",
     "text": [
      "EP_train:1:  22%|| 1502/6926 [02:27<08:48, 10.26it/s]"
     ]
    },
    {
     "name": "stdout",
     "output_type": "stream",
     "text": [
      "{'epoch': 1, 'iter': 1500, 'avg_loss': 5.73988389174673, 'avg_acc': 49.91464023984011, 'loss': 5.718254089355469}\n"
     ]
    },
    {
     "name": "stderr",
     "output_type": "stream",
     "text": [
      "EP_train:1:  22%|| 1512/6926 [02:28<08:36, 10.49it/s]"
     ]
    },
    {
     "name": "stdout",
     "output_type": "stream",
     "text": [
      "{'epoch': 1, 'iter': 1510, 'avg_loss': 5.741761919522743, 'avg_acc': 49.91934149569821, 'loss': 5.874922275543213}\n"
     ]
    },
    {
     "name": "stderr",
     "output_type": "stream",
     "text": [
      "EP_train:1:  22%|| 1522/6926 [02:29<08:35, 10.49it/s]"
     ]
    },
    {
     "name": "stdout",
     "output_type": "stream",
     "text": [
      "{'epoch': 1, 'iter': 1520, 'avg_loss': 5.741213518878804, 'avg_acc': 49.90138067061144, 'loss': 5.499764919281006}\n"
     ]
    },
    {
     "name": "stderr",
     "output_type": "stream",
     "text": [
      "EP_train:1:  22%|| 1532/6926 [02:30<08:36, 10.45it/s]"
     ]
    },
    {
     "name": "stdout",
     "output_type": "stream",
     "text": [
      "{'epoch': 1, 'iter': 1530, 'avg_loss': 5.7411597053806895, 'avg_acc': 49.91427171783148, 'loss': 5.412487030029297}\n"
     ]
    },
    {
     "name": "stderr",
     "output_type": "stream",
     "text": [
      "EP_train:1:  22%|| 1542/6926 [02:31<08:32, 10.50it/s]"
     ]
    },
    {
     "name": "stdout",
     "output_type": "stream",
     "text": [
      "{'epoch': 1, 'iter': 1540, 'avg_loss': 5.740885689380802, 'avg_acc': 49.945246593121354, 'loss': 5.452058792114258}\n"
     ]
    },
    {
     "name": "stderr",
     "output_type": "stream",
     "text": [
      "EP_train:1:  22%|| 1552/6926 [02:32<09:10,  9.76it/s]"
     ]
    },
    {
     "name": "stdout",
     "output_type": "stream",
     "text": [
      "{'epoch': 1, 'iter': 1550, 'avg_loss': 5.741109313694298, 'avg_acc': 49.94358478401031, 'loss': 5.895401954650879}\n"
     ]
    },
    {
     "name": "stderr",
     "output_type": "stream",
     "text": [
      "EP_train:1:  23%|| 1562/6926 [02:33<09:00,  9.92it/s]"
     ]
    },
    {
     "name": "stdout",
     "output_type": "stream",
     "text": [
      "{'epoch': 1, 'iter': 1560, 'avg_loss': 5.740208410743259, 'avg_acc': 49.9719730941704, 'loss': 5.338839530944824}\n"
     ]
    },
    {
     "name": "stderr",
     "output_type": "stream",
     "text": [
      "EP_train:1:  23%|| 1572/6926 [02:34<08:42, 10.25it/s]"
     ]
    },
    {
     "name": "stdout",
     "output_type": "stream",
     "text": [
      "{'epoch': 1, 'iter': 1570, 'avg_loss': 5.739996936501855, 'avg_acc': 49.962205601527685, 'loss': 5.595733642578125}\n"
     ]
    },
    {
     "name": "stderr",
     "output_type": "stream",
     "text": [
      "EP_train:1:  23%|| 1582/6926 [02:35<08:40, 10.27it/s]"
     ]
    },
    {
     "name": "stdout",
     "output_type": "stream",
     "text": [
      "{'epoch': 1, 'iter': 1580, 'avg_loss': 5.739724180353058, 'avg_acc': 49.96442125237191, 'loss': 6.035857200622559}\n"
     ]
    },
    {
     "name": "stderr",
     "output_type": "stream",
     "text": [
      "EP_train:1:  23%|| 1592/6926 [02:36<08:47, 10.11it/s]"
     ]
    },
    {
     "name": "stdout",
     "output_type": "stream",
     "text": [
      "{'epoch': 1, 'iter': 1590, 'avg_loss': 5.739792432671145, 'avg_acc': 49.97053739786298, 'loss': 5.542156219482422}\n"
     ]
    },
    {
     "name": "stderr",
     "output_type": "stream",
     "text": [
      "EP_train:1:  23%|| 1603/6926 [02:37<08:38, 10.27it/s]"
     ]
    },
    {
     "name": "stdout",
     "output_type": "stream",
     "text": [
      "{'epoch': 1, 'iter': 1600, 'avg_loss': 5.739177747639472, 'avg_acc': 49.960961898813245, 'loss': 5.469902515411377}\n"
     ]
    },
    {
     "name": "stderr",
     "output_type": "stream",
     "text": [
      "EP_train:1:  23%|| 1612/6926 [02:38<08:57,  9.88it/s]"
     ]
    },
    {
     "name": "stdout",
     "output_type": "stream",
     "text": [
      "{'epoch': 1, 'iter': 1610, 'avg_loss': 5.73919681759816, 'avg_acc': 49.95926443202979, 'loss': 5.344428539276123}\n"
     ]
    },
    {
     "name": "stderr",
     "output_type": "stream",
     "text": [
      "EP_train:1:  23%|| 1622/6926 [02:39<08:39, 10.20it/s]"
     ]
    },
    {
     "name": "stdout",
     "output_type": "stream",
     "text": [
      "{'epoch': 1, 'iter': 1620, 'avg_loss': 5.737581124208652, 'avg_acc': 49.94794879703887, 'loss': 5.0707597732543945}\n"
     ]
    },
    {
     "name": "stderr",
     "output_type": "stream",
     "text": [
      "EP_train:1:  24%|| 1632/6926 [02:40<08:55,  9.88it/s]"
     ]
    },
    {
     "name": "stdout",
     "output_type": "stream",
     "text": [
      "{'epoch': 1, 'iter': 1630, 'avg_loss': 5.7372065011450735, 'avg_acc': 49.923359901900675, 'loss': 5.517768383026123}\n"
     ]
    },
    {
     "name": "stderr",
     "output_type": "stream",
     "text": [
      "EP_train:1:  24%|| 1641/6926 [02:41<08:44, 10.07it/s]"
     ]
    },
    {
     "name": "stdout",
     "output_type": "stream",
     "text": [
      "{'epoch': 1, 'iter': 1640, 'avg_loss': 5.737100748228344, 'avg_acc': 49.92763558805606, 'loss': 5.639290809631348}\n"
     ]
    },
    {
     "name": "stderr",
     "output_type": "stream",
     "text": [
      "EP_train:1:  24%|| 1653/6926 [02:42<08:36, 10.21it/s]"
     ]
    },
    {
     "name": "stdout",
     "output_type": "stream",
     "text": [
      "{'epoch': 1, 'iter': 1650, 'avg_loss': 5.737785609399529, 'avg_acc': 49.92996668685645, 'loss': 5.766987323760986}\n"
     ]
    },
    {
     "name": "stderr",
     "output_type": "stream",
     "text": [
      "EP_train:1:  24%|| 1663/6926 [02:43<08:48,  9.96it/s]"
     ]
    },
    {
     "name": "stdout",
     "output_type": "stream",
     "text": [
      "{'epoch': 1, 'iter': 1660, 'avg_loss': 5.73754570270288, 'avg_acc': 49.91533714629741, 'loss': 5.776239395141602}\n"
     ]
    },
    {
     "name": "stderr",
     "output_type": "stream",
     "text": [
      "EP_train:1:  24%|| 1672/6926 [02:44<08:18, 10.53it/s]"
     ]
    },
    {
     "name": "stdout",
     "output_type": "stream",
     "text": [
      "{'epoch': 1, 'iter': 1670, 'avg_loss': 5.7374090440682775, 'avg_acc': 49.913973668462, 'loss': 5.589858531951904}\n"
     ]
    },
    {
     "name": "stderr",
     "output_type": "stream",
     "text": [
      "EP_train:1:  24%|| 1682/6926 [02:45<08:40, 10.07it/s]"
     ]
    },
    {
     "name": "stdout",
     "output_type": "stream",
     "text": [
      "{'epoch': 1, 'iter': 1680, 'avg_loss': 5.737297664009199, 'avg_acc': 49.90333135038668, 'loss': 5.5829925537109375}\n"
     ]
    },
    {
     "name": "stderr",
     "output_type": "stream",
     "text": [
      "EP_train:1:  24%|| 1692/6926 [02:46<08:43,  9.99it/s]"
     ]
    },
    {
     "name": "stdout",
     "output_type": "stream",
     "text": [
      "{'epoch': 1, 'iter': 1690, 'avg_loss': 5.73709550741366, 'avg_acc': 49.91683914843288, 'loss': 6.472014427185059}\n"
     ]
    },
    {
     "name": "stderr",
     "output_type": "stream",
     "text": [
      "EP_train:1:  25%|| 1702/6926 [02:47<08:36, 10.12it/s]"
     ]
    },
    {
     "name": "stdout",
     "output_type": "stream",
     "text": [
      "{'epoch': 1, 'iter': 1700, 'avg_loss': 5.7367254713575395, 'avg_acc': 49.90079365079365, 'loss': 5.685571193695068}\n"
     ]
    },
    {
     "name": "stderr",
     "output_type": "stream",
     "text": [
      "EP_train:1:  25%|| 1712/6926 [02:48<08:20, 10.42it/s]"
     ]
    },
    {
     "name": "stdout",
     "output_type": "stream",
     "text": [
      "{'epoch': 1, 'iter': 1710, 'avg_loss': 5.736215788742592, 'avg_acc': 49.87763004091175, 'loss': 5.1543378829956055}\n"
     ]
    },
    {
     "name": "stderr",
     "output_type": "stream",
     "text": [
      "EP_train:1:  25%|| 1722/6926 [02:49<08:26, 10.28it/s]"
     ]
    },
    {
     "name": "stdout",
     "output_type": "stream",
     "text": [
      "{'epoch': 1, 'iter': 1720, 'avg_loss': 5.7358229710292425, 'avg_acc': 49.876525276002326, 'loss': 6.050859451293945}\n"
     ]
    },
    {
     "name": "stderr",
     "output_type": "stream",
     "text": [
      "EP_train:1:  25%|| 1732/6926 [02:50<08:31, 10.16it/s]"
     ]
    },
    {
     "name": "stdout",
     "output_type": "stream",
     "text": [
      "{'epoch': 1, 'iter': 1730, 'avg_loss': 5.7347031612054655, 'avg_acc': 49.88626516464472, 'loss': 5.9966535568237305}\n"
     ]
    },
    {
     "name": "stderr",
     "output_type": "stream",
     "text": [
      "EP_train:1:  25%|| 1742/6926 [02:51<08:30, 10.15it/s]"
     ]
    },
    {
     "name": "stdout",
     "output_type": "stream",
     "text": [
      "{'epoch': 1, 'iter': 1740, 'avg_loss': 5.734953802800055, 'avg_acc': 49.91025272831706, 'loss': 5.692525863647461}\n"
     ]
    },
    {
     "name": "stderr",
     "output_type": "stream",
     "text": [
      "EP_train:1:  25%|| 1752/6926 [02:52<08:23, 10.28it/s]"
     ]
    },
    {
     "name": "stdout",
     "output_type": "stream",
     "text": [
      "{'epoch': 1, 'iter': 1750, 'avg_loss': 5.734911669737131, 'avg_acc': 49.896487721302115, 'loss': 5.908108234405518}\n"
     ]
    },
    {
     "name": "stderr",
     "output_type": "stream",
     "text": [
      "EP_train:1:  25%|| 1762/6926 [02:53<08:40,  9.92it/s]"
     ]
    },
    {
     "name": "stdout",
     "output_type": "stream",
     "text": [
      "{'epoch': 1, 'iter': 1760, 'avg_loss': 5.733950986705132, 'avg_acc': 49.904173764906304, 'loss': 5.3104352951049805}\n"
     ]
    },
    {
     "name": "stderr",
     "output_type": "stream",
     "text": [
      "EP_train:1:  26%|| 1772/6926 [02:54<08:17, 10.36it/s]"
     ]
    },
    {
     "name": "stdout",
     "output_type": "stream",
     "text": [
      "{'epoch': 1, 'iter': 1770, 'avg_loss': 5.733100193493249, 'avg_acc': 49.87471767363072, 'loss': 5.811217308044434}\n"
     ]
    },
    {
     "name": "stderr",
     "output_type": "stream",
     "text": [
      "EP_train:1:  26%|| 1782/6926 [02:55<08:30, 10.09it/s]"
     ]
    },
    {
     "name": "stdout",
     "output_type": "stream",
     "text": [
      "{'epoch': 1, 'iter': 1780, 'avg_loss': 5.732944681830516, 'avg_acc': 49.87717574396407, 'loss': 5.668396472930908}\n"
     ]
    },
    {
     "name": "stderr",
     "output_type": "stream",
     "text": [
      "EP_train:1:  26%|| 1792/6926 [02:56<08:28, 10.10it/s]"
     ]
    },
    {
     "name": "stdout",
     "output_type": "stream",
     "text": [
      "{'epoch': 1, 'iter': 1790, 'avg_loss': 5.733300257501224, 'avg_acc': 49.87786152987158, 'loss': 5.554679870605469}\n"
     ]
    },
    {
     "name": "stderr",
     "output_type": "stream",
     "text": [
      "EP_train:1:  26%|| 1802/6926 [02:57<08:21, 10.22it/s]"
     ]
    },
    {
     "name": "stdout",
     "output_type": "stream",
     "text": [
      "{'epoch': 1, 'iter': 1800, 'avg_loss': 5.732952987929306, 'avg_acc': 49.92191837867851, 'loss': 6.200956344604492}\n"
     ]
    },
    {
     "name": "stderr",
     "output_type": "stream",
     "text": [
      "EP_train:1:  26%|| 1812/6926 [02:58<08:19, 10.24it/s]"
     ]
    },
    {
     "name": "stdout",
     "output_type": "stream",
     "text": [
      "{'epoch': 1, 'iter': 1810, 'avg_loss': 5.732564061995306, 'avg_acc': 49.925800662617334, 'loss': 6.097409248352051}\n"
     ]
    },
    {
     "name": "stderr",
     "output_type": "stream",
     "text": [
      "EP_train:1:  26%|| 1823/6926 [02:59<08:12, 10.35it/s]"
     ]
    },
    {
     "name": "stdout",
     "output_type": "stream",
     "text": [
      "{'epoch': 1, 'iter': 1820, 'avg_loss': 5.731681216489738, 'avg_acc': 49.91591158704009, 'loss': 5.590446949005127}\n"
     ]
    },
    {
     "name": "stderr",
     "output_type": "stream",
     "text": [
      "EP_train:1:  26%|| 1833/6926 [03:00<08:17, 10.24it/s]"
     ]
    },
    {
     "name": "stdout",
     "output_type": "stream",
     "text": [
      "{'epoch': 1, 'iter': 1830, 'avg_loss': 5.731904822057352, 'avg_acc': 49.91637083560896, 'loss': 5.379281044006348}\n"
     ]
    },
    {
     "name": "stderr",
     "output_type": "stream",
     "text": [
      "EP_train:1:  27%|| 1842/6926 [03:01<08:36,  9.84it/s]"
     ]
    },
    {
     "name": "stdout",
     "output_type": "stream",
     "text": [
      "{'epoch': 1, 'iter': 1840, 'avg_loss': 5.731231423709005, 'avg_acc': 49.94058935361217, 'loss': 5.7802653312683105}\n"
     ]
    },
    {
     "name": "stderr",
     "output_type": "stream",
     "text": [
      "EP_train:1:  27%|| 1852/6926 [03:02<08:28,  9.98it/s]"
     ]
    },
    {
     "name": "stdout",
     "output_type": "stream",
     "text": [
      "{'epoch': 1, 'iter': 1850, 'avg_loss': 5.729961629174066, 'avg_acc': 49.91896272285251, 'loss': 5.988914966583252}\n"
     ]
    },
    {
     "name": "stderr",
     "output_type": "stream",
     "text": [
      "EP_train:1:  27%|| 1862/6926 [03:03<08:09, 10.35it/s]"
     ]
    },
    {
     "name": "stdout",
     "output_type": "stream",
     "text": [
      "{'epoch': 1, 'iter': 1860, 'avg_loss': 5.729026180515361, 'avg_acc': 49.94122783449758, 'loss': 5.474217414855957}\n"
     ]
    },
    {
     "name": "stderr",
     "output_type": "stream",
     "text": [
      "EP_train:1:  27%|| 1872/6926 [03:04<08:10, 10.30it/s]"
     ]
    },
    {
     "name": "stdout",
     "output_type": "stream",
     "text": [
      "{'epoch': 1, 'iter': 1870, 'avg_loss': 5.728821606128882, 'avg_acc': 49.93486103687867, 'loss': 5.983387470245361}\n"
     ]
    },
    {
     "name": "stderr",
     "output_type": "stream",
     "text": [
      "EP_train:1:  27%|| 1882/6926 [03:05<07:57, 10.56it/s]"
     ]
    },
    {
     "name": "stdout",
     "output_type": "stream",
     "text": [
      "{'epoch': 1, 'iter': 1880, 'avg_loss': 5.729175526052634, 'avg_acc': 49.95015948963317, 'loss': 5.700307369232178}\n"
     ]
    },
    {
     "name": "stderr",
     "output_type": "stream",
     "text": [
      "EP_train:1:  27%|| 1892/6926 [03:06<07:52, 10.64it/s]"
     ]
    },
    {
     "name": "stdout",
     "output_type": "stream",
     "text": [
      "{'epoch': 1, 'iter': 1890, 'avg_loss': 5.729122817484806, 'avg_acc': 49.9289397144368, 'loss': 5.368991851806641}\n"
     ]
    },
    {
     "name": "stderr",
     "output_type": "stream",
     "text": [
      "EP_train:1:  27%|| 1902/6926 [03:07<08:13, 10.18it/s]"
     ]
    },
    {
     "name": "stdout",
     "output_type": "stream",
     "text": [
      "{'epoch': 1, 'iter': 1900, 'avg_loss': 5.728731173204786, 'avg_acc': 49.93588900578643, 'loss': 5.844021320343018}\n"
     ]
    },
    {
     "name": "stderr",
     "output_type": "stream",
     "text": [
      "EP_train:1:  28%|| 1912/6926 [03:08<07:46, 10.76it/s]"
     ]
    },
    {
     "name": "stdout",
     "output_type": "stream",
     "text": [
      "{'epoch': 1, 'iter': 1910, 'avg_loss': 5.727906518803412, 'avg_acc': 49.92804814233386, 'loss': 5.326849937438965}\n"
     ]
    },
    {
     "name": "stderr",
     "output_type": "stream",
     "text": [
      "EP_train:1:  28%|| 1922/6926 [03:09<08:03, 10.35it/s]"
     ]
    },
    {
     "name": "stdout",
     "output_type": "stream",
     "text": [
      "{'epoch': 1, 'iter': 1920, 'avg_loss': 5.727824791466923, 'avg_acc': 49.917035398230084, 'loss': 5.49790096282959}\n"
     ]
    },
    {
     "name": "stderr",
     "output_type": "stream",
     "text": [
      "EP_train:1:  28%|| 1932/6926 [03:10<08:41,  9.58it/s]"
     ]
    },
    {
     "name": "stdout",
     "output_type": "stream",
     "text": [
      "{'epoch': 1, 'iter': 1930, 'avg_loss': 5.727823558463635, 'avg_acc': 49.9498316934231, 'loss': 5.622286319732666}\n"
     ]
    },
    {
     "name": "stderr",
     "output_type": "stream",
     "text": [
      "EP_train:1:  28%|| 1943/6926 [03:11<08:01, 10.36it/s]"
     ]
    },
    {
     "name": "stdout",
     "output_type": "stream",
     "text": [
      "{'epoch': 1, 'iter': 1940, 'avg_loss': 5.727582532066098, 'avg_acc': 49.92594023699124, 'loss': 5.561563014984131}\n"
     ]
    },
    {
     "name": "stderr",
     "output_type": "stream",
     "text": [
      "EP_train:1:  28%|| 1952/6926 [03:12<08:25,  9.85it/s]"
     ]
    },
    {
     "name": "stdout",
     "output_type": "stream",
     "text": [
      "{'epoch': 1, 'iter': 1950, 'avg_loss': 5.726771550444931, 'avg_acc': 49.92952332137365, 'loss': 5.885866641998291}\n"
     ]
    },
    {
     "name": "stderr",
     "output_type": "stream",
     "text": [
      "EP_train:1:  28%|| 1962/6926 [03:13<08:01, 10.31it/s]"
     ]
    },
    {
     "name": "stdout",
     "output_type": "stream",
     "text": [
      "{'epoch': 1, 'iter': 1960, 'avg_loss': 5.725948952582951, 'avg_acc': 49.9187276899541, 'loss': 5.291804790496826}\n"
     ]
    },
    {
     "name": "stderr",
     "output_type": "stream",
     "text": [
      "EP_train:1:  28%|| 1972/6926 [03:14<08:08, 10.14it/s]"
     ]
    },
    {
     "name": "stdout",
     "output_type": "stream",
     "text": [
      "{'epoch': 1, 'iter': 1970, 'avg_loss': 5.725789295121052, 'avg_acc': 49.90962709284627, 'loss': 5.64473295211792}\n"
     ]
    },
    {
     "name": "stderr",
     "output_type": "stream",
     "text": [
      "EP_train:1:  29%|| 1982/6926 [03:15<08:07, 10.14it/s]"
     ]
    },
    {
     "name": "stdout",
     "output_type": "stream",
     "text": [
      "{'epoch': 1, 'iter': 1980, 'avg_loss': 5.725490884670159, 'avg_acc': 49.90219586067642, 'loss': 5.712043285369873}\n"
     ]
    },
    {
     "name": "stderr",
     "output_type": "stream",
     "text": [
      "EP_train:1:  29%|| 1992/6926 [03:16<08:03, 10.19it/s]"
     ]
    },
    {
     "name": "stdout",
     "output_type": "stream",
     "text": [
      "{'epoch': 1, 'iter': 1990, 'avg_loss': 5.725140139542891, 'avg_acc': 49.90425665494726, 'loss': 5.478527069091797}\n"
     ]
    },
    {
     "name": "stderr",
     "output_type": "stream",
     "text": [
      "EP_train:1:  29%|| 2002/6926 [03:16<07:55, 10.35it/s]"
     ]
    },
    {
     "name": "stdout",
     "output_type": "stream",
     "text": [
      "{'epoch': 1, 'iter': 2000, 'avg_loss': 5.724435538425856, 'avg_acc': 49.90942028985507, 'loss': 5.552183151245117}\n"
     ]
    },
    {
     "name": "stderr",
     "output_type": "stream",
     "text": [
      "EP_train:1:  29%|| 2012/6926 [03:17<07:50, 10.44it/s]"
     ]
    },
    {
     "name": "stdout",
     "output_type": "stream",
     "text": [
      "{'epoch': 1, 'iter': 2010, 'avg_loss': 5.724250688652445, 'avg_acc': 49.89588513177524, 'loss': 5.348308563232422}\n"
     ]
    },
    {
     "name": "stderr",
     "output_type": "stream",
     "text": [
      "EP_train:1:  29%|| 2022/6926 [03:18<08:10, 10.00it/s]"
     ]
    },
    {
     "name": "stdout",
     "output_type": "stream",
     "text": [
      "{'epoch': 1, 'iter': 2020, 'avg_loss': 5.7237433403332245, 'avg_acc': 49.91186293913904, 'loss': 5.692227840423584}\n"
     ]
    },
    {
     "name": "stderr",
     "output_type": "stream",
     "text": [
      "EP_train:1:  29%|| 2032/6926 [03:19<07:53, 10.35it/s]"
     ]
    },
    {
     "name": "stdout",
     "output_type": "stream",
     "text": [
      "{'epoch': 1, 'iter': 2030, 'avg_loss': 5.722933308119142, 'avg_acc': 49.89537173806007, 'loss': 5.890801906585693}\n"
     ]
    },
    {
     "name": "stderr",
     "output_type": "stream",
     "text": [
      "EP_train:1:  29%|| 2042/6926 [03:20<08:01, 10.14it/s]"
     ]
    },
    {
     "name": "stdout",
     "output_type": "stream",
     "text": [
      "{'epoch': 1, 'iter': 2040, 'avg_loss': 5.722573449715629, 'avg_acc': 49.88822880940715, 'loss': 5.768924236297607}\n"
     ]
    },
    {
     "name": "stderr",
     "output_type": "stream",
     "text": [
      "EP_train:1:  30%|| 2052/6926 [03:21<08:02, 10.09it/s]"
     ]
    },
    {
     "name": "stdout",
     "output_type": "stream",
     "text": [
      "{'epoch': 1, 'iter': 2050, 'avg_loss': 5.722047134354776, 'avg_acc': 49.8857264748903, 'loss': 5.575859069824219}\n"
     ]
    },
    {
     "name": "stderr",
     "output_type": "stream",
     "text": [
      "EP_train:1:  30%|| 2062/6926 [03:22<08:01, 10.10it/s]"
     ]
    },
    {
     "name": "stdout",
     "output_type": "stream",
     "text": [
      "{'epoch': 1, 'iter': 2060, 'avg_loss': 5.720692228542145, 'avg_acc': 49.884764677341096, 'loss': 5.603845119476318}\n"
     ]
    },
    {
     "name": "stderr",
     "output_type": "stream",
     "text": [
      "EP_train:1:  30%|| 2072/6926 [03:23<07:50, 10.31it/s]"
     ]
    },
    {
     "name": "stdout",
     "output_type": "stream",
     "text": [
      "{'epoch': 1, 'iter': 2070, 'avg_loss': 5.7205407397290005, 'avg_acc': 49.86419604056012, 'loss': 5.674689769744873}\n"
     ]
    },
    {
     "name": "stderr",
     "output_type": "stream",
     "text": [
      "EP_train:1:  30%|| 2082/6926 [03:24<07:48, 10.34it/s]"
     ]
    },
    {
     "name": "stdout",
     "output_type": "stream",
     "text": [
      "{'epoch': 1, 'iter': 2080, 'avg_loss': 5.720613299282281, 'avg_acc': 49.85734022104757, 'loss': 5.338047981262207}\n"
     ]
    },
    {
     "name": "stderr",
     "output_type": "stream",
     "text": [
      "EP_train:1:  30%|| 2092/6926 [03:25<07:36, 10.59it/s]"
     ]
    },
    {
     "name": "stdout",
     "output_type": "stream",
     "text": [
      "{'epoch': 1, 'iter': 2090, 'avg_loss': 5.720506401280932, 'avg_acc': 49.85652797704447, 'loss': 6.25470495223999}\n"
     ]
    },
    {
     "name": "stderr",
     "output_type": "stream",
     "text": [
      "EP_train:1:  30%|| 2102/6926 [03:26<07:47, 10.31it/s]"
     ]
    },
    {
     "name": "stdout",
     "output_type": "stream",
     "text": [
      "{'epoch': 1, 'iter': 2100, 'avg_loss': 5.720206867337851, 'avg_acc': 49.857210851975246, 'loss': 5.162112712860107}\n"
     ]
    },
    {
     "name": "stderr",
     "output_type": "stream",
     "text": [
      "EP_train:1:  30%|| 2112/6926 [03:27<07:34, 10.59it/s]"
     ]
    },
    {
     "name": "stdout",
     "output_type": "stream",
     "text": [
      "{'epoch': 1, 'iter': 2110, 'avg_loss': 5.720133895277694, 'avg_acc': 49.82235907153008, 'loss': 5.5353217124938965}\n"
     ]
    },
    {
     "name": "stderr",
     "output_type": "stream",
     "text": [
      "EP_train:1:  31%|| 2122/6926 [03:28<07:46, 10.30it/s]"
     ]
    },
    {
     "name": "stdout",
     "output_type": "stream",
     "text": [
      "{'epoch': 1, 'iter': 2120, 'avg_loss': 5.719849971148946, 'avg_acc': 49.812883074021684, 'loss': 5.89194917678833}\n"
     ]
    },
    {
     "name": "stderr",
     "output_type": "stream",
     "text": [
      "EP_train:1:  31%|| 2132/6926 [03:29<07:57, 10.05it/s]"
     ]
    },
    {
     "name": "stdout",
     "output_type": "stream",
     "text": [
      "{'epoch': 1, 'iter': 2130, 'avg_loss': 5.720024814856327, 'avg_acc': 49.810828249648054, 'loss': 5.664608478546143}\n"
     ]
    },
    {
     "name": "stderr",
     "output_type": "stream",
     "text": [
      "EP_train:1:  31%|| 2142/6926 [03:30<07:57, 10.02it/s]"
     ]
    },
    {
     "name": "stdout",
     "output_type": "stream",
     "text": [
      "{'epoch': 1, 'iter': 2140, 'avg_loss': 5.720281421442223, 'avg_acc': 49.80149462867819, 'loss': 5.890805244445801}\n"
     ]
    },
    {
     "name": "stderr",
     "output_type": "stream",
     "text": [
      "EP_train:1:  31%|| 2152/6926 [03:31<07:51, 10.13it/s]"
     ]
    },
    {
     "name": "stdout",
     "output_type": "stream",
     "text": [
      "{'epoch': 1, 'iter': 2150, 'avg_loss': 5.720306705508549, 'avg_acc': 49.78643654114365, 'loss': 5.0497965812683105}\n"
     ]
    },
    {
     "name": "stderr",
     "output_type": "stream",
     "text": [
      "EP_train:1:  31%|| 2162/6926 [03:32<07:53, 10.07it/s]"
     ]
    },
    {
     "name": "stdout",
     "output_type": "stream",
     "text": [
      "{'epoch': 1, 'iter': 2160, 'avg_loss': 5.720042729146058, 'avg_acc': 49.774409995372515, 'loss': 5.57378625869751}\n"
     ]
    },
    {
     "name": "stderr",
     "output_type": "stream",
     "text": [
      "EP_train:1:  31%|| 2172/6926 [03:33<07:49, 10.13it/s]"
     ]
    },
    {
     "name": "stdout",
     "output_type": "stream",
     "text": [
      "{'epoch': 1, 'iter': 2170, 'avg_loss': 5.719834636730403, 'avg_acc': 49.785525103638875, 'loss': 5.799277305603027}\n"
     ]
    },
    {
     "name": "stderr",
     "output_type": "stream",
     "text": [
      "EP_train:1:  32%|| 2182/6926 [03:34<07:45, 10.19it/s]"
     ]
    },
    {
     "name": "stdout",
     "output_type": "stream",
     "text": [
      "{'epoch': 1, 'iter': 2180, 'avg_loss': 5.7194362637757274, 'avg_acc': 49.78794131132508, 'loss': 5.2180256843566895}\n"
     ]
    },
    {
     "name": "stderr",
     "output_type": "stream",
     "text": [
      "EP_train:1:  32%|| 2192/6926 [03:35<07:50, 10.05it/s]"
     ]
    },
    {
     "name": "stdout",
     "output_type": "stream",
     "text": [
      "{'epoch': 1, 'iter': 2190, 'avg_loss': 5.7196678703966235, 'avg_acc': 49.793188041989964, 'loss': 5.9894118309021}\n"
     ]
    },
    {
     "name": "stderr",
     "output_type": "stream",
     "text": [
      "EP_train:1:  32%|| 2202/6926 [03:36<07:44, 10.17it/s]"
     ]
    },
    {
     "name": "stdout",
     "output_type": "stream",
     "text": [
      "{'epoch': 1, 'iter': 2200, 'avg_loss': 5.718939749342049, 'avg_acc': 49.812585188550656, 'loss': 5.780764102935791}\n"
     ]
    },
    {
     "name": "stderr",
     "output_type": "stream",
     "text": [
      "EP_train:1:  32%|| 2212/6926 [03:37<07:38, 10.29it/s]"
     ]
    },
    {
     "name": "stdout",
     "output_type": "stream",
     "text": [
      "{'epoch': 1, 'iter': 2210, 'avg_loss': 5.718446894179421, 'avg_acc': 49.812019448213476, 'loss': 5.545962810516357}\n"
     ]
    },
    {
     "name": "stderr",
     "output_type": "stream",
     "text": [
      "EP_train:1:  32%|| 2222/6926 [03:38<07:34, 10.35it/s]"
     ]
    },
    {
     "name": "stdout",
     "output_type": "stream",
     "text": [
      "{'epoch': 1, 'iter': 2220, 'avg_loss': 5.718104881405132, 'avg_acc': 49.81427285006754, 'loss': 5.330332279205322}\n"
     ]
    },
    {
     "name": "stderr",
     "output_type": "stream",
     "text": [
      "EP_train:1:  32%|| 2233/6926 [03:39<07:42, 10.14it/s]"
     ]
    },
    {
     "name": "stdout",
     "output_type": "stream",
     "text": [
      "{'epoch': 1, 'iter': 2230, 'avg_loss': 5.717931337711363, 'avg_acc': 49.80389959659345, 'loss': 5.911606788635254}\n"
     ]
    },
    {
     "name": "stderr",
     "output_type": "stream",
     "text": [
      "EP_train:1:  32%|| 2243/6926 [03:40<07:51,  9.92it/s]"
     ]
    },
    {
     "name": "stdout",
     "output_type": "stream",
     "text": [
      "{'epoch': 1, 'iter': 2240, 'avg_loss': 5.71787684349969, 'avg_acc': 49.797802320392684, 'loss': 5.580387115478516}\n"
     ]
    },
    {
     "name": "stderr",
     "output_type": "stream",
     "text": [
      "EP_train:1:  33%|| 2251/6926 [03:41<07:44, 10.06it/s]"
     ]
    },
    {
     "name": "stdout",
     "output_type": "stream",
     "text": [
      "{'epoch': 1, 'iter': 2250, 'avg_loss': 5.717982278829784, 'avg_acc': 49.80980675255442, 'loss': 5.821506500244141}\n"
     ]
    },
    {
     "name": "stderr",
     "output_type": "stream",
     "text": [
      "EP_train:1:  33%|| 2263/6926 [03:42<07:36, 10.22it/s]"
     ]
    },
    {
     "name": "stdout",
     "output_type": "stream",
     "text": [
      "{'epoch': 1, 'iter': 2260, 'avg_loss': 5.717475557053105, 'avg_acc': 49.8203228659885, 'loss': 6.339668273925781}\n"
     ]
    },
    {
     "name": "stderr",
     "output_type": "stream",
     "text": [
      "EP_train:1:  33%|| 2273/6926 [03:43<07:35, 10.21it/s]"
     ]
    },
    {
     "name": "stdout",
     "output_type": "stream",
     "text": [
      "{'epoch': 1, 'iter': 2270, 'avg_loss': 5.716583890675554, 'avg_acc': 49.833498458828714, 'loss': 5.216382026672363}\n"
     ]
    },
    {
     "name": "stderr",
     "output_type": "stream",
     "text": [
      "EP_train:1:  33%|| 2283/6926 [03:44<07:42, 10.04it/s]"
     ]
    },
    {
     "name": "stdout",
     "output_type": "stream",
     "text": [
      "{'epoch': 1, 'iter': 2280, 'avg_loss': 5.715888777619545, 'avg_acc': 49.84244848750548, 'loss': 5.8309807777404785}\n"
     ]
    },
    {
     "name": "stderr",
     "output_type": "stream",
     "text": [
      "EP_train:1:  33%|| 2291/6926 [03:45<07:36, 10.15it/s]"
     ]
    },
    {
     "name": "stdout",
     "output_type": "stream",
     "text": [
      "{'epoch': 1, 'iter': 2290, 'avg_loss': 5.715771585195567, 'avg_acc': 49.83631601920559, 'loss': 5.5737433433532715}\n"
     ]
    },
    {
     "name": "stderr",
     "output_type": "stream",
     "text": [
      "EP_train:1:  33%|| 2303/6926 [03:46<07:35, 10.15it/s]"
     ]
    },
    {
     "name": "stdout",
     "output_type": "stream",
     "text": [
      "{'epoch': 1, 'iter': 2300, 'avg_loss': 5.715532920817508, 'avg_acc': 49.82616253802695, 'loss': 5.482542991638184}\n"
     ]
    },
    {
     "name": "stderr",
     "output_type": "stream",
     "text": [
      "EP_train:1:  33%|| 2311/6926 [03:47<07:37, 10.09it/s]"
     ]
    },
    {
     "name": "stdout",
     "output_type": "stream",
     "text": [
      "{'epoch': 1, 'iter': 2310, 'avg_loss': 5.715012516721613, 'avg_acc': 49.82556252704457, 'loss': 5.883090972900391}\n"
     ]
    },
    {
     "name": "stderr",
     "output_type": "stream",
     "text": [
      "EP_train:1:  34%|| 2322/6926 [03:48<07:23, 10.38it/s]"
     ]
    },
    {
     "name": "stdout",
     "output_type": "stream",
     "text": [
      "{'epoch': 1, 'iter': 2320, 'avg_loss': 5.714172720755035, 'avg_acc': 49.842470917707885, 'loss': 5.275871753692627}\n"
     ]
    },
    {
     "name": "stderr",
     "output_type": "stream",
     "text": [
      "EP_train:1:  34%|| 2332/6926 [03:49<07:42,  9.93it/s]"
     ]
    },
    {
     "name": "stdout",
     "output_type": "stream",
     "text": [
      "{'epoch': 1, 'iter': 2330, 'avg_loss': 5.713734748894336, 'avg_acc': 49.84582797082797, 'loss': 6.144662380218506}\n"
     ]
    },
    {
     "name": "stderr",
     "output_type": "stream",
     "text": [
      "EP_train:1:  34%|| 2343/6926 [03:50<08:09,  9.36it/s]"
     ]
    },
    {
     "name": "stdout",
     "output_type": "stream",
     "text": [
      "{'epoch': 1, 'iter': 2340, 'avg_loss': 5.713449202761188, 'avg_acc': 49.84648654421188, 'loss': 5.841372489929199}\n"
     ]
    },
    {
     "name": "stderr",
     "output_type": "stream",
     "text": [
      "EP_train:1:  34%|| 2353/6926 [03:51<07:40,  9.93it/s]"
     ]
    },
    {
     "name": "stdout",
     "output_type": "stream",
     "text": [
      "{'epoch': 1, 'iter': 2350, 'avg_loss': 5.7133318713653445, 'avg_acc': 49.865748617609526, 'loss': 5.471338272094727}\n"
     ]
    },
    {
     "name": "stderr",
     "output_type": "stream",
     "text": [
      "EP_train:1:  34%|| 2363/6926 [03:52<07:12, 10.54it/s]"
     ]
    },
    {
     "name": "stdout",
     "output_type": "stream",
     "text": [
      "{'epoch': 1, 'iter': 2360, 'avg_loss': 5.712926248027732, 'avg_acc': 49.870288013553576, 'loss': 5.346111297607422}\n"
     ]
    },
    {
     "name": "stderr",
     "output_type": "stream",
     "text": [
      "EP_train:1:  34%|| 2371/6926 [03:53<07:31, 10.08it/s]"
     ]
    },
    {
     "name": "stdout",
     "output_type": "stream",
     "text": [
      "{'epoch': 1, 'iter': 2370, 'avg_loss': 5.7121688767557455, 'avg_acc': 49.86424504428511, 'loss': 5.2523274421691895}\n"
     ]
    },
    {
     "name": "stderr",
     "output_type": "stream",
     "text": [
      "EP_train:1:  34%|| 2383/6926 [03:54<07:14, 10.46it/s]"
     ]
    },
    {
     "name": "stdout",
     "output_type": "stream",
     "text": [
      "{'epoch': 1, 'iter': 2380, 'avg_loss': 5.7120342494959795, 'avg_acc': 49.864815203695926, 'loss': 5.5995073318481445}\n"
     ]
    },
    {
     "name": "stderr",
     "output_type": "stream",
     "text": [
      "EP_train:1:  35%|| 2393/6926 [03:55<07:15, 10.42it/s]"
     ]
    },
    {
     "name": "stdout",
     "output_type": "stream",
     "text": [
      "{'epoch': 1, 'iter': 2390, 'avg_loss': 5.712047206961625, 'avg_acc': 49.85361773316604, 'loss': 6.043903827667236}\n"
     ]
    },
    {
     "name": "stderr",
     "output_type": "stream",
     "text": [
      "EP_train:1:  35%|| 2403/6926 [03:56<07:25, 10.16it/s]"
     ]
    },
    {
     "name": "stdout",
     "output_type": "stream",
     "text": [
      "{'epoch': 1, 'iter': 2400, 'avg_loss': 5.711847200834567, 'avg_acc': 49.86203665139525, 'loss': 5.8981451988220215}\n"
     ]
    },
    {
     "name": "stderr",
     "output_type": "stream",
     "text": [
      "EP_train:1:  35%|| 2413/6926 [03:57<07:39,  9.82it/s]"
     ]
    },
    {
     "name": "stdout",
     "output_type": "stream",
     "text": [
      "{'epoch': 1, 'iter': 2410, 'avg_loss': 5.711696953063484, 'avg_acc': 49.856128162588135, 'loss': 5.462747573852539}\n"
     ]
    },
    {
     "name": "stderr",
     "output_type": "stream",
     "text": [
      "EP_train:1:  35%|| 2422/6926 [03:58<07:32,  9.96it/s]"
     ]
    },
    {
     "name": "stdout",
     "output_type": "stream",
     "text": [
      "{'epoch': 1, 'iter': 2420, 'avg_loss': 5.711707668233538, 'avg_acc': 49.86704874019001, 'loss': 5.574952602386475}\n"
     ]
    },
    {
     "name": "stderr",
     "output_type": "stream",
     "text": [
      "EP_train:1:  35%|| 2432/6926 [03:59<06:59, 10.72it/s]"
     ]
    },
    {
     "name": "stdout",
     "output_type": "stream",
     "text": [
      "{'epoch': 1, 'iter': 2430, 'avg_loss': 5.710878565594866, 'avg_acc': 49.88559234882764, 'loss': 5.198318004608154}\n"
     ]
    },
    {
     "name": "stderr",
     "output_type": "stream",
     "text": [
      "EP_train:1:  35%|| 2442/6926 [04:00<07:34,  9.87it/s]"
     ]
    },
    {
     "name": "stdout",
     "output_type": "stream",
     "text": [
      "{'epoch': 1, 'iter': 2440, 'avg_loss': 5.7115358390167374, 'avg_acc': 49.88606104055715, 'loss': 5.7678375244140625}\n"
     ]
    },
    {
     "name": "stderr",
     "output_type": "stream",
     "text": [
      "EP_train:1:  35%|| 2452/6926 [04:01<07:20, 10.15it/s]"
     ]
    },
    {
     "name": "stdout",
     "output_type": "stream",
     "text": [
      "{'epoch': 1, 'iter': 2450, 'avg_loss': 5.710916919155736, 'avg_acc': 49.89672582619339, 'loss': 5.210149765014648}\n"
     ]
    },
    {
     "name": "stderr",
     "output_type": "stream",
     "text": [
      "EP_train:1:  36%|| 2463/6926 [04:02<07:17, 10.20it/s]"
     ]
    },
    {
     "name": "stdout",
     "output_type": "stream",
     "text": [
      "{'epoch': 1, 'iter': 2460, 'avg_loss': 5.711277285904867, 'avg_acc': 49.89587566030069, 'loss': 5.604706764221191}\n"
     ]
    },
    {
     "name": "stderr",
     "output_type": "stream",
     "text": [
      "EP_train:1:  36%|| 2471/6926 [04:03<07:12, 10.29it/s]"
     ]
    },
    {
     "name": "stdout",
     "output_type": "stream",
     "text": [
      "{'epoch': 1, 'iter': 2470, 'avg_loss': 5.71050893126688, 'avg_acc': 49.90514973694861, 'loss': 5.306999206542969}\n"
     ]
    },
    {
     "name": "stderr",
     "output_type": "stream",
     "text": [
      "EP_train:1:  36%|| 2482/6926 [04:04<07:42,  9.60it/s]"
     ]
    },
    {
     "name": "stdout",
     "output_type": "stream",
     "text": [
      "{'epoch': 1, 'iter': 2480, 'avg_loss': 5.710215852991894, 'avg_acc': 49.9206469165659, 'loss': 5.560871124267578}\n"
     ]
    },
    {
     "name": "stderr",
     "output_type": "stream",
     "text": [
      "EP_train:1:  36%|| 2492/6926 [04:05<07:03, 10.47it/s]"
     ]
    },
    {
     "name": "stdout",
     "output_type": "stream",
     "text": [
      "{'epoch': 1, 'iter': 2490, 'avg_loss': 5.7100828623302675, 'avg_acc': 49.91092934564432, 'loss': 5.151805400848389}\n"
     ]
    },
    {
     "name": "stderr",
     "output_type": "stream",
     "text": [
      "EP_train:1:  36%|| 2502/6926 [04:06<07:20, 10.03it/s]"
     ]
    },
    {
     "name": "stdout",
     "output_type": "stream",
     "text": [
      "{'epoch': 1, 'iter': 2500, 'avg_loss': 5.709650905644212, 'avg_acc': 49.918782487005195, 'loss': 5.20763635635376}\n"
     ]
    },
    {
     "name": "stderr",
     "output_type": "stream",
     "text": [
      "EP_train:1:  36%|| 2512/6926 [04:07<07:20, 10.02it/s]"
     ]
    },
    {
     "name": "stdout",
     "output_type": "stream",
     "text": [
      "{'epoch': 1, 'iter': 2510, 'avg_loss': 5.709748988985209, 'avg_acc': 49.92035045798487, 'loss': 6.462301254272461}\n"
     ]
    },
    {
     "name": "stderr",
     "output_type": "stream",
     "text": [
      "EP_train:1:  36%|| 2523/6926 [04:08<07:16, 10.09it/s]"
     ]
    },
    {
     "name": "stdout",
     "output_type": "stream",
     "text": [
      "{'epoch': 1, 'iter': 2520, 'avg_loss': 5.709798319762494, 'avg_acc': 49.9268643395478, 'loss': 5.7037739753723145}\n"
     ]
    },
    {
     "name": "stderr",
     "output_type": "stream",
     "text": [
      "EP_train:1:  37%|| 2533/6926 [04:09<07:08, 10.26it/s]"
     ]
    },
    {
     "name": "stdout",
     "output_type": "stream",
     "text": [
      "{'epoch': 1, 'iter': 2530, 'avg_loss': 5.709181168389292, 'avg_acc': 49.89752074278941, 'loss': 5.774651050567627}\n"
     ]
    },
    {
     "name": "stderr",
     "output_type": "stream",
     "text": [
      "EP_train:1:  37%|| 2543/6926 [04:10<07:11, 10.16it/s]"
     ]
    },
    {
     "name": "stdout",
     "output_type": "stream",
     "text": [
      "{'epoch': 1, 'iter': 2540, 'avg_loss': 5.7089997043482015, 'avg_acc': 49.89054506099961, 'loss': 5.408405780792236}\n"
     ]
    },
    {
     "name": "stderr",
     "output_type": "stream",
     "text": [
      "EP_train:1:  37%|| 2551/6926 [04:11<06:51, 10.63it/s]"
     ]
    },
    {
     "name": "stdout",
     "output_type": "stream",
     "text": [
      "{'epoch': 1, 'iter': 2550, 'avg_loss': 5.708247978796636, 'avg_acc': 49.87872402979224, 'loss': 5.518545150756836}\n"
     ]
    },
    {
     "name": "stderr",
     "output_type": "stream",
     "text": [
      "EP_train:1:  37%|| 2563/6926 [04:12<07:15, 10.02it/s]"
     ]
    },
    {
     "name": "stdout",
     "output_type": "stream",
     "text": [
      "{'epoch': 1, 'iter': 2560, 'avg_loss': 5.7078484906111315, 'avg_acc': 49.871876220226476, 'loss': 5.553783416748047}\n"
     ]
    },
    {
     "name": "stderr",
     "output_type": "stream",
     "text": [
      "EP_train:1:  37%|| 2571/6926 [04:13<07:14, 10.02it/s]"
     ]
    },
    {
     "name": "stdout",
     "output_type": "stream",
     "text": [
      "{'epoch': 1, 'iter': 2570, 'avg_loss': 5.707883854127496, 'avg_acc': 49.86751264099572, 'loss': 5.8494157791137695}\n"
     ]
    },
    {
     "name": "stderr",
     "output_type": "stream",
     "text": [
      "EP_train:1:  37%|| 2583/6926 [04:14<06:59, 10.35it/s]"
     ]
    },
    {
     "name": "stdout",
     "output_type": "stream",
     "text": [
      "{'epoch': 1, 'iter': 2580, 'avg_loss': 5.707341908946697, 'avg_acc': 49.87407981402557, 'loss': 5.616400241851807}\n"
     ]
    },
    {
     "name": "stderr",
     "output_type": "stream",
     "text": [
      "EP_train:1:  37%|| 2593/6926 [04:15<07:09, 10.10it/s]"
     ]
    },
    {
     "name": "stdout",
     "output_type": "stream",
     "text": [
      "{'epoch': 1, 'iter': 2590, 'avg_loss': 5.706927715236733, 'avg_acc': 49.862504824392126, 'loss': 5.744706153869629}\n"
     ]
    },
    {
     "name": "stderr",
     "output_type": "stream",
     "text": [
      "EP_train:1:  38%|| 2602/6926 [04:16<07:13,  9.97it/s]"
     ]
    },
    {
     "name": "stdout",
     "output_type": "stream",
     "text": [
      "{'epoch': 1, 'iter': 2600, 'avg_loss': 5.7066885181135145, 'avg_acc': 49.847414455978466, 'loss': 6.299567699432373}\n"
     ]
    },
    {
     "name": "stderr",
     "output_type": "stream",
     "text": [
      "EP_train:1:  38%|| 2611/6926 [04:17<07:11, 10.01it/s]"
     ]
    },
    {
     "name": "stdout",
     "output_type": "stream",
     "text": [
      "{'epoch': 1, 'iter': 2610, 'avg_loss': 5.705939750021237, 'avg_acc': 49.84680199157411, 'loss': 5.37074089050293}\n"
     ]
    },
    {
     "name": "stderr",
     "output_type": "stream",
     "text": [
      "EP_train:1:  38%|| 2623/6926 [04:18<07:22,  9.73it/s]"
     ]
    },
    {
     "name": "stdout",
     "output_type": "stream",
     "text": [
      "{'epoch': 1, 'iter': 2620, 'avg_loss': 5.705879684078561, 'avg_acc': 49.8402327355971, 'loss': 5.80010986328125}\n"
     ]
    },
    {
     "name": "stderr",
     "output_type": "stream",
     "text": [
      "EP_train:1:  38%|| 2633/6926 [04:19<06:46, 10.57it/s]"
     ]
    },
    {
     "name": "stdout",
     "output_type": "stream",
     "text": [
      "{'epoch': 1, 'iter': 2630, 'avg_loss': 5.704748048206012, 'avg_acc': 49.84083998479665, 'loss': 5.097650527954102}\n"
     ]
    },
    {
     "name": "stderr",
     "output_type": "stream",
     "text": [
      "EP_train:1:  38%|| 2643/6926 [04:20<06:47, 10.51it/s]"
     ]
    },
    {
     "name": "stdout",
     "output_type": "stream",
     "text": [
      "{'epoch': 1, 'iter': 2640, 'avg_loss': 5.704304898972315, 'avg_acc': 49.83907610753502, 'loss': 5.327545166015625}\n"
     ]
    },
    {
     "name": "stderr",
     "output_type": "stream",
     "text": [
      "EP_train:1:  38%|| 2653/6926 [04:21<06:51, 10.39it/s]"
     ]
    },
    {
     "name": "stdout",
     "output_type": "stream",
     "text": [
      "{'epoch': 1, 'iter': 2650, 'avg_loss': 5.703902915485487, 'avg_acc': 49.84675594115428, 'loss': 5.2930450439453125}\n"
     ]
    },
    {
     "name": "stderr",
     "output_type": "stream",
     "text": [
      "EP_train:1:  38%|| 2662/6926 [04:22<07:13,  9.85it/s]"
     ]
    },
    {
     "name": "stdout",
     "output_type": "stream",
     "text": [
      "{'epoch': 1, 'iter': 2660, 'avg_loss': 5.703504868442517, 'avg_acc': 49.87199361142427, 'loss': 5.424333572387695}\n"
     ]
    },
    {
     "name": "stderr",
     "output_type": "stream",
     "text": [
      "EP_train:1:  39%|| 2672/6926 [04:23<06:48, 10.42it/s]"
     ]
    },
    {
     "name": "stdout",
     "output_type": "stream",
     "text": [
      "{'epoch': 1, 'iter': 2670, 'avg_loss': 5.703171023979744, 'avg_acc': 49.883002620741294, 'loss': 5.932295322418213}\n"
     ]
    },
    {
     "name": "stderr",
     "output_type": "stream",
     "text": [
      "EP_train:1:  39%|| 2682/6926 [04:23<06:50, 10.35it/s]"
     ]
    },
    {
     "name": "stdout",
     "output_type": "stream",
     "text": [
      "{'epoch': 1, 'iter': 2680, 'avg_loss': 5.702924288906566, 'avg_acc': 49.89043267437523, 'loss': 5.597910404205322}\n"
     ]
    },
    {
     "name": "stderr",
     "output_type": "stream",
     "text": [
      "EP_train:1:  39%|| 2692/6926 [04:24<06:47, 10.39it/s]"
     ]
    },
    {
     "name": "stdout",
     "output_type": "stream",
     "text": [
      "{'epoch': 1, 'iter': 2690, 'avg_loss': 5.702110600976508, 'avg_acc': 49.898968784838345, 'loss': 5.3877363204956055}\n"
     ]
    },
    {
     "name": "stderr",
     "output_type": "stream",
     "text": [
      "EP_train:1:  39%|| 2702/6926 [04:25<06:46, 10.39it/s]"
     ]
    },
    {
     "name": "stdout",
     "output_type": "stream",
     "text": [
      "{'epoch': 1, 'iter': 2700, 'avg_loss': 5.7019190830638875, 'avg_acc': 49.89702887819326, 'loss': 6.0699462890625}\n"
     ]
    },
    {
     "name": "stderr",
     "output_type": "stream",
     "text": [
      "EP_train:1:  39%|| 2712/6926 [04:26<07:07,  9.86it/s]"
     ]
    },
    {
     "name": "stdout",
     "output_type": "stream",
     "text": [
      "{'epoch': 1, 'iter': 2710, 'avg_loss': 5.70180664938431, 'avg_acc': 49.89049243821468, 'loss': 5.675278663635254}\n"
     ]
    },
    {
     "name": "stderr",
     "output_type": "stream",
     "text": [
      "EP_train:1:  39%|| 2723/6926 [04:28<07:08,  9.80it/s]"
     ]
    },
    {
     "name": "stdout",
     "output_type": "stream",
     "text": [
      "{'epoch': 1, 'iter': 2720, 'avg_loss': 5.701402828738077, 'avg_acc': 49.89434031606027, 'loss': 6.059995651245117}\n"
     ]
    },
    {
     "name": "stderr",
     "output_type": "stream",
     "text": [
      "EP_train:1:  39%|| 2732/6926 [04:28<06:44, 10.38it/s]"
     ]
    },
    {
     "name": "stdout",
     "output_type": "stream",
     "text": [
      "{'epoch': 1, 'iter': 2730, 'avg_loss': 5.701264377567455, 'avg_acc': 49.89358293665324, 'loss': 5.377490997314453}\n"
     ]
    },
    {
     "name": "stderr",
     "output_type": "stream",
     "text": [
      "EP_train:1:  40%|| 2742/6926 [04:29<06:50, 10.20it/s]"
     ]
    },
    {
     "name": "stdout",
     "output_type": "stream",
     "text": [
      "{'epoch': 1, 'iter': 2740, 'avg_loss': 5.700997602065433, 'avg_acc': 49.89739146296972, 'loss': 5.2882080078125}\n"
     ]
    },
    {
     "name": "stderr",
     "output_type": "stream",
     "text": [
      "EP_train:1:  40%|| 2752/6926 [04:30<06:46, 10.28it/s]"
     ]
    },
    {
     "name": "stdout",
     "output_type": "stream",
     "text": [
      "{'epoch': 1, 'iter': 2750, 'avg_loss': 5.7007006272884855, 'avg_acc': 49.896628498727736, 'loss': 5.408938407897949}\n"
     ]
    },
    {
     "name": "stderr",
     "output_type": "stream",
     "text": [
      "EP_train:1:  40%|| 2762/6926 [04:31<07:01,  9.88it/s]"
     ]
    },
    {
     "name": "stdout",
     "output_type": "stream",
     "text": [
      "{'epoch': 1, 'iter': 2760, 'avg_loss': 5.700918102989763, 'avg_acc': 49.881157189424115, 'loss': 5.249843120574951}\n"
     ]
    },
    {
     "name": "stderr",
     "output_type": "stream",
     "text": [
      "EP_train:1:  40%|| 2772/6926 [04:32<06:47, 10.19it/s]"
     ]
    },
    {
     "name": "stdout",
     "output_type": "stream",
     "text": [
      "{'epoch': 1, 'iter': 2770, 'avg_loss': 5.700420246103618, 'avg_acc': 49.86692529772645, 'loss': 5.673253536224365}\n"
     ]
    },
    {
     "name": "stderr",
     "output_type": "stream",
     "text": [
      "EP_train:1:  40%|| 2782/6926 [04:33<06:54, 10.00it/s]"
     ]
    },
    {
     "name": "stdout",
     "output_type": "stream",
     "text": [
      "{'epoch': 1, 'iter': 2780, 'avg_loss': 5.699912792742145, 'avg_acc': 49.86178532901834, 'loss': 5.600701808929443}\n"
     ]
    },
    {
     "name": "stderr",
     "output_type": "stream",
     "text": [
      "EP_train:1:  40%|| 2793/6926 [04:34<07:02,  9.77it/s]"
     ]
    },
    {
     "name": "stdout",
     "output_type": "stream",
     "text": [
      "{'epoch': 1, 'iter': 2790, 'avg_loss': 5.699642969689801, 'avg_acc': 49.847724829810105, 'loss': 5.368677139282227}\n"
     ]
    },
    {
     "name": "stderr",
     "output_type": "stream",
     "text": [
      "EP_train:1:  40%|| 2803/6926 [04:35<06:38, 10.34it/s]"
     ]
    },
    {
     "name": "stdout",
     "output_type": "stream",
     "text": [
      "{'epoch': 1, 'iter': 2800, 'avg_loss': 5.699264394943308, 'avg_acc': 49.846037129596574, 'loss': 5.704909324645996}\n"
     ]
    },
    {
     "name": "stderr",
     "output_type": "stream",
     "text": [
      "EP_train:1:  41%|| 2813/6926 [04:36<06:44, 10.18it/s]"
     ]
    },
    {
     "name": "stdout",
     "output_type": "stream",
     "text": [
      "{'epoch': 1, 'iter': 2810, 'avg_loss': 5.698972274891553, 'avg_acc': 49.8465848452508, 'loss': 5.457538604736328}\n"
     ]
    },
    {
     "name": "stderr",
     "output_type": "stream",
     "text": [
      "EP_train:1:  41%|| 2823/6926 [04:37<06:48, 10.04it/s]"
     ]
    },
    {
     "name": "stdout",
     "output_type": "stream",
     "text": [
      "{'epoch': 1, 'iter': 2820, 'avg_loss': 5.698747276203381, 'avg_acc': 49.832727756114856, 'loss': 5.050264835357666}\n"
     ]
    },
    {
     "name": "stderr",
     "output_type": "stream",
     "text": [
      "EP_train:1:  41%|| 2833/6926 [04:38<06:49,  9.98it/s]"
     ]
    },
    {
     "name": "stdout",
     "output_type": "stream",
     "text": [
      "{'epoch': 1, 'iter': 2830, 'avg_loss': 5.698485487470017, 'avg_acc': 49.84214941716708, 'loss': 5.708215236663818}\n"
     ]
    },
    {
     "name": "stderr",
     "output_type": "stream",
     "text": [
      "EP_train:1:  41%|| 2843/6926 [04:39<06:46, 10.04it/s]"
     ]
    },
    {
     "name": "stdout",
     "output_type": "stream",
     "text": [
      "{'epoch': 1, 'iter': 2840, 'avg_loss': 5.69860441002448, 'avg_acc': 49.835005279831044, 'loss': 5.1268744468688965}\n"
     ]
    },
    {
     "name": "stderr",
     "output_type": "stream",
     "text": [
      "EP_train:1:  41%|| 2853/6926 [04:40<06:44, 10.08it/s]"
     ]
    },
    {
     "name": "stdout",
     "output_type": "stream",
     "text": [
      "{'epoch': 1, 'iter': 2850, 'avg_loss': 5.698143244207804, 'avg_acc': 49.84216064538759, 'loss': 4.988028049468994}\n"
     ]
    },
    {
     "name": "stderr",
     "output_type": "stream",
     "text": [
      "EP_train:1:  41%|| 2863/6926 [04:41<06:30, 10.41it/s]"
     ]
    },
    {
     "name": "stdout",
     "output_type": "stream",
     "text": [
      "{'epoch': 1, 'iter': 2860, 'avg_loss': 5.69777490808513, 'avg_acc': 49.84380461377141, 'loss': 5.512087345123291}\n"
     ]
    },
    {
     "name": "stderr",
     "output_type": "stream",
     "text": [
      "EP_train:1:  41%|| 2873/6926 [04:42<06:52,  9.82it/s]"
     ]
    },
    {
     "name": "stdout",
     "output_type": "stream",
     "text": [
      "{'epoch': 1, 'iter': 2870, 'avg_loss': 5.697796352895367, 'avg_acc': 49.839994775339605, 'loss': 6.004262447357178}\n"
     ]
    },
    {
     "name": "stderr",
     "output_type": "stream",
     "text": [
      "EP_train:1:  42%|| 2881/6926 [04:43<06:36, 10.19it/s]"
     ]
    },
    {
     "name": "stdout",
     "output_type": "stream",
     "text": [
      "{'epoch': 1, 'iter': 2880, 'avg_loss': 5.697361163404492, 'avg_acc': 49.84271954182575, 'loss': 5.552919864654541}\n"
     ]
    },
    {
     "name": "stderr",
     "output_type": "stream",
     "text": [
      "EP_train:1:  42%|| 2893/6926 [04:44<06:57,  9.65it/s]"
     ]
    },
    {
     "name": "stdout",
     "output_type": "stream",
     "text": [
      "{'epoch': 1, 'iter': 2890, 'avg_loss': 5.697409030435325, 'avg_acc': 49.84758734002075, 'loss': 6.287765979766846}\n"
     ]
    },
    {
     "name": "stderr",
     "output_type": "stream",
     "text": [
      "EP_train:1:  42%|| 2903/6926 [04:45<06:13, 10.76it/s]"
     ]
    },
    {
     "name": "stdout",
     "output_type": "stream",
     "text": [
      "{'epoch': 1, 'iter': 2900, 'avg_loss': 5.697153625139817, 'avg_acc': 49.84380386073768, 'loss': 5.742204666137695}\n"
     ]
    },
    {
     "name": "stderr",
     "output_type": "stream",
     "text": [
      "EP_train:1:  42%|| 2913/6926 [04:46<06:37, 10.10it/s]"
     ]
    },
    {
     "name": "stdout",
     "output_type": "stream",
     "text": [
      "{'epoch': 1, 'iter': 2910, 'avg_loss': 5.697043774996947, 'avg_acc': 49.85185503263484, 'loss': 5.866246223449707}\n"
     ]
    },
    {
     "name": "stderr",
     "output_type": "stream",
     "text": [
      "EP_train:1:  42%|| 2922/6926 [04:47<06:47,  9.83it/s]"
     ]
    },
    {
     "name": "stdout",
     "output_type": "stream",
     "text": [
      "{'epoch': 1, 'iter': 2920, 'avg_loss': 5.6969754905661505, 'avg_acc': 49.84594317014721, 'loss': 5.669684410095215}\n"
     ]
    },
    {
     "name": "stderr",
     "output_type": "stream",
     "text": [
      "EP_train:1:  42%|| 2933/6926 [04:48<06:24, 10.38it/s]"
     ]
    },
    {
     "name": "stdout",
     "output_type": "stream",
     "text": [
      "{'epoch': 1, 'iter': 2930, 'avg_loss': 5.696577109236312, 'avg_acc': 49.835806891845785, 'loss': 5.80550479888916}\n"
     ]
    },
    {
     "name": "stderr",
     "output_type": "stream",
     "text": [
      "EP_train:1:  42%|| 2943/6926 [04:49<06:31, 10.17it/s]"
     ]
    },
    {
     "name": "stdout",
     "output_type": "stream",
     "text": [
      "{'epoch': 1, 'iter': 2940, 'avg_loss': 5.696479645929787, 'avg_acc': 49.83105236314179, 'loss': 5.862414360046387}\n"
     ]
    },
    {
     "name": "stderr",
     "output_type": "stream",
     "text": [
      "EP_train:1:  43%|| 2953/6926 [04:50<06:18, 10.51it/s]"
     ]
    },
    {
     "name": "stdout",
     "output_type": "stream",
     "text": [
      "{'epoch': 1, 'iter': 2950, 'avg_loss': 5.696762200009415, 'avg_acc': 49.82738902067096, 'loss': 5.957520484924316}\n"
     ]
    },
    {
     "name": "stderr",
     "output_type": "stream",
     "text": [
      "EP_train:1:  43%|| 2963/6926 [04:51<06:28, 10.20it/s]"
     ]
    },
    {
     "name": "stdout",
     "output_type": "stream",
     "text": [
      "{'epoch': 1, 'iter': 2960, 'avg_loss': 5.696985389686283, 'avg_acc': 49.823750422154674, 'loss': 5.464372158050537}\n"
     ]
    },
    {
     "name": "stderr",
     "output_type": "stream",
     "text": [
      "EP_train:1:  43%|| 2973/6926 [04:52<06:44,  9.77it/s]"
     ]
    },
    {
     "name": "stdout",
     "output_type": "stream",
     "text": [
      "{'epoch': 1, 'iter': 2970, 'avg_loss': 5.697053399402178, 'avg_acc': 49.82223998653652, 'loss': 5.743447303771973}\n"
     ]
    },
    {
     "name": "stderr",
     "output_type": "stream",
     "text": [
      "EP_train:1:  43%|| 2983/6926 [04:53<06:36,  9.95it/s]"
     ]
    },
    {
     "name": "stdout",
     "output_type": "stream",
     "text": [
      "{'epoch': 1, 'iter': 2980, 'avg_loss': 5.696839646579675, 'avg_acc': 49.812353237168736, 'loss': 5.218800067901611}\n"
     ]
    },
    {
     "name": "stderr",
     "output_type": "stream",
     "text": [
      "EP_train:1:  43%|| 2992/6926 [04:54<06:14, 10.52it/s]"
     ]
    },
    {
     "name": "stdout",
     "output_type": "stream",
     "text": [
      "{'epoch': 1, 'iter': 2990, 'avg_loss': 5.696770030014972, 'avg_acc': 49.80984620528252, 'loss': 5.21934175491333}\n"
     ]
    },
    {
     "name": "stderr",
     "output_type": "stream",
     "text": [
      "EP_train:1:  43%|| 3002/6926 [04:55<06:25, 10.18it/s]"
     ]
    },
    {
     "name": "stdout",
     "output_type": "stream",
     "text": [
      "{'epoch': 1, 'iter': 3000, 'avg_loss': 5.696581440423179, 'avg_acc': 49.806314561812734, 'loss': 6.038390159606934}\n"
     ]
    },
    {
     "name": "stderr",
     "output_type": "stream",
     "text": [
      "EP_train:1:  43%|| 3011/6926 [04:56<06:24, 10.19it/s]"
     ]
    },
    {
     "name": "stdout",
     "output_type": "stream",
     "text": [
      "{'epoch': 1, 'iter': 3010, 'avg_loss': 5.696682502090317, 'avg_acc': 49.795541348389236, 'loss': 5.591222286224365}\n"
     ]
    },
    {
     "name": "stderr",
     "output_type": "stream",
     "text": [
      "EP_train:1:  44%|| 3023/6926 [04:57<06:22, 10.21it/s]"
     ]
    },
    {
     "name": "stdout",
     "output_type": "stream",
     "text": [
      "{'epoch': 1, 'iter': 3020, 'avg_loss': 5.696485066405987, 'avg_acc': 49.80966567361801, 'loss': 6.6405253410339355}\n"
     ]
    },
    {
     "name": "stderr",
     "output_type": "stream",
     "text": [
      "EP_train:1:  44%|| 3033/6926 [04:58<06:15, 10.37it/s]"
     ]
    },
    {
     "name": "stdout",
     "output_type": "stream",
     "text": [
      "{'epoch': 1, 'iter': 3030, 'avg_loss': 5.6966376482398156, 'avg_acc': 49.80204552952821, 'loss': 5.7883758544921875}\n"
     ]
    },
    {
     "name": "stderr",
     "output_type": "stream",
     "text": [
      "EP_train:1:  44%|| 3043/6926 [04:59<06:11, 10.45it/s]"
     ]
    },
    {
     "name": "stdout",
     "output_type": "stream",
     "text": [
      "{'epoch': 1, 'iter': 3040, 'avg_loss': 5.69598720591933, 'avg_acc': 49.80577934889839, 'loss': 5.513574600219727}\n"
     ]
    },
    {
     "name": "stderr",
     "output_type": "stream",
     "text": [
      "EP_train:1:  44%|| 3051/6926 [05:00<06:27,  9.99it/s]"
     ]
    },
    {
     "name": "stdout",
     "output_type": "stream",
     "text": [
      "{'epoch': 1, 'iter': 3050, 'avg_loss': 5.695317347297431, 'avg_acc': 49.80436742051786, 'loss': 5.2041850090026855}\n"
     ]
    },
    {
     "name": "stderr",
     "output_type": "stream",
     "text": [
      "EP_train:1:  44%|| 3063/6926 [05:01<06:19, 10.17it/s]"
     ]
    },
    {
     "name": "stdout",
     "output_type": "stream",
     "text": [
      "{'epoch': 1, 'iter': 3060, 'avg_loss': 5.69538281891557, 'avg_acc': 49.80092290101274, 'loss': 6.002322673797607}\n"
     ]
    },
    {
     "name": "stderr",
     "output_type": "stream",
     "text": [
      "EP_train:1:  44%|| 3073/6926 [05:02<06:12, 10.35it/s]"
     ]
    },
    {
     "name": "stdout",
     "output_type": "stream",
     "text": [
      "{'epoch': 1, 'iter': 3070, 'avg_loss': 5.69571149034789, 'avg_acc': 49.80157114946272, 'loss': 5.679716110229492}\n"
     ]
    },
    {
     "name": "stderr",
     "output_type": "stream",
     "text": [
      "EP_train:1:  45%|| 3083/6926 [05:03<06:17, 10.19it/s]"
     ]
    },
    {
     "name": "stdout",
     "output_type": "stream",
     "text": [
      "{'epoch': 1, 'iter': 3080, 'avg_loss': 5.695522128046043, 'avg_acc': 49.82757221681272, 'loss': 5.488319396972656}\n"
     ]
    },
    {
     "name": "stderr",
     "output_type": "stream",
     "text": [
      "EP_train:1:  45%|| 3093/6926 [05:04<06:04, 10.51it/s]"
     ]
    },
    {
     "name": "stdout",
     "output_type": "stream",
     "text": [
      "{'epoch': 1, 'iter': 3090, 'avg_loss': 5.695430432581586, 'avg_acc': 49.83217405370431, 'loss': 5.54601526260376}\n"
     ]
    },
    {
     "name": "stderr",
     "output_type": "stream",
     "text": [
      "EP_train:1:  45%|| 3101/6926 [05:05<06:16, 10.16it/s]"
     ]
    },
    {
     "name": "stdout",
     "output_type": "stream",
     "text": [
      "{'epoch': 1, 'iter': 3100, 'avg_loss': 5.695477297136146, 'avg_acc': 49.81961464043857, 'loss': 5.4525041580200195}\n"
     ]
    },
    {
     "name": "stderr",
     "output_type": "stream",
     "text": [
      "EP_train:1:  45%|| 3113/6926 [05:06<06:04, 10.45it/s]"
     ]
    },
    {
     "name": "stdout",
     "output_type": "stream",
     "text": [
      "{'epoch': 1, 'iter': 3110, 'avg_loss': 5.695125640224162, 'avg_acc': 49.82521697203472, 'loss': 5.420076847076416}\n"
     ]
    },
    {
     "name": "stderr",
     "output_type": "stream",
     "text": [
      "EP_train:1:  45%|| 3123/6926 [05:07<06:25,  9.88it/s]"
     ]
    },
    {
     "name": "stdout",
     "output_type": "stream",
     "text": [
      "{'epoch': 1, 'iter': 3120, 'avg_loss': 5.694701303086652, 'avg_acc': 49.82677827619353, 'loss': 5.681303024291992}\n"
     ]
    },
    {
     "name": "stderr",
     "output_type": "stream",
     "text": [
      "EP_train:1:  45%|| 3133/6926 [05:08<06:15, 10.10it/s]"
     ]
    },
    {
     "name": "stdout",
     "output_type": "stream",
     "text": [
      "{'epoch': 1, 'iter': 3130, 'avg_loss': 5.694575096692037, 'avg_acc': 49.81934685404024, 'loss': 6.087857246398926}\n"
     ]
    },
    {
     "name": "stderr",
     "output_type": "stream",
     "text": [
      "EP_train:1:  45%|| 3143/6926 [05:09<06:05, 10.35it/s]"
     ]
    },
    {
     "name": "stdout",
     "output_type": "stream",
     "text": [
      "{'epoch': 1, 'iter': 3140, 'avg_loss': 5.694530398099523, 'avg_acc': 49.83683540273798, 'loss': 5.446045875549316}\n"
     ]
    },
    {
     "name": "stderr",
     "output_type": "stream",
     "text": [
      "EP_train:1:  45%|| 3151/6926 [05:10<06:06, 10.31it/s]"
     ]
    },
    {
     "name": "stdout",
     "output_type": "stream",
     "text": [
      "{'epoch': 1, 'iter': 3150, 'avg_loss': 5.693939437490916, 'avg_acc': 49.840328467153284, 'loss': 5.322240352630615}\n"
     ]
    },
    {
     "name": "stderr",
     "output_type": "stream",
     "text": [
      "EP_train:1:  46%|| 3161/6926 [05:11<06:12, 10.11it/s]"
     ]
    },
    {
     "name": "stdout",
     "output_type": "stream",
     "text": [
      "{'epoch': 1, 'iter': 3160, 'avg_loss': 5.694078280555414, 'avg_acc': 49.839844985763996, 'loss': 5.950396537780762}\n"
     ]
    },
    {
     "name": "stderr",
     "output_type": "stream",
     "text": [
      "EP_train:1:  46%|| 3172/6926 [05:12<06:20,  9.87it/s]"
     ]
    },
    {
     "name": "stdout",
     "output_type": "stream",
     "text": [
      "{'epoch': 1, 'iter': 3170, 'avg_loss': 5.694110969909167, 'avg_acc': 49.84035004730369, 'loss': 6.054747581481934}\n"
     ]
    },
    {
     "name": "stderr",
     "output_type": "stream",
     "text": [
      "EP_train:1:  46%|| 3182/6926 [05:13<06:05, 10.25it/s]"
     ]
    },
    {
     "name": "stdout",
     "output_type": "stream",
     "text": [
      "{'epoch': 1, 'iter': 3180, 'avg_loss': 5.694182404329551, 'avg_acc': 49.85460546997799, 'loss': 5.995871067047119}\n"
     ]
    },
    {
     "name": "stderr",
     "output_type": "stream",
     "text": [
      "EP_train:1:  46%|| 3192/6926 [05:14<06:12, 10.03it/s]"
     ]
    },
    {
     "name": "stdout",
     "output_type": "stream",
     "text": [
      "{'epoch': 1, 'iter': 3190, 'avg_loss': 5.694186432090384, 'avg_acc': 49.86681291131307, 'loss': 5.460391998291016}\n"
     ]
    },
    {
     "name": "stderr",
     "output_type": "stream",
     "text": [
      "EP_train:1:  46%|| 3202/6926 [05:15<06:00, 10.33it/s]"
     ]
    },
    {
     "name": "stdout",
     "output_type": "stream",
     "text": [
      "{'epoch': 1, 'iter': 3200, 'avg_loss': 5.69380351358263, 'avg_acc': 49.87308653545767, 'loss': 5.5829057693481445}\n"
     ]
    },
    {
     "name": "stderr",
     "output_type": "stream",
     "text": [
      "EP_train:1:  46%|| 3213/6926 [05:16<06:06, 10.14it/s]"
     ]
    },
    {
     "name": "stdout",
     "output_type": "stream",
     "text": [
      "{'epoch': 1, 'iter': 3210, 'avg_loss': 5.694010941865696, 'avg_acc': 49.86472282777951, 'loss': 5.798538684844971}\n"
     ]
    },
    {
     "name": "stderr",
     "output_type": "stream",
     "text": [
      "EP_train:1:  47%|| 3223/6926 [05:17<05:52, 10.51it/s]"
     ]
    },
    {
     "name": "stdout",
     "output_type": "stream",
     "text": [
      "{'epoch': 1, 'iter': 3220, 'avg_loss': 5.694263694968071, 'avg_acc': 49.85447066128532, 'loss': 5.78035831451416}\n"
     ]
    },
    {
     "name": "stderr",
     "output_type": "stream",
     "text": [
      "EP_train:1:  47%|| 3233/6926 [05:18<06:00, 10.24it/s]"
     ]
    },
    {
     "name": "stdout",
     "output_type": "stream",
     "text": [
      "{'epoch': 1, 'iter': 3230, 'avg_loss': 5.694220115067751, 'avg_acc': 49.84718353450944, 'loss': 5.533649921417236}\n"
     ]
    },
    {
     "name": "stderr",
     "output_type": "stream",
     "text": [
      "EP_train:1:  47%|| 3241/6926 [05:19<06:07, 10.02it/s]"
     ]
    },
    {
     "name": "stdout",
     "output_type": "stream",
     "text": [
      "{'epoch': 1, 'iter': 3240, 'avg_loss': 5.69402104253866, 'avg_acc': 49.849583461894476, 'loss': 5.596242904663086}\n"
     ]
    },
    {
     "name": "stderr",
     "output_type": "stream",
     "text": [
      "EP_train:1:  47%|| 3253/6926 [05:20<06:04, 10.07it/s]"
     ]
    },
    {
     "name": "stdout",
     "output_type": "stream",
     "text": [
      "{'epoch': 1, 'iter': 3250, 'avg_loss': 5.6937870952907765, 'avg_acc': 49.851007382343894, 'loss': 5.65777063369751}\n"
     ]
    },
    {
     "name": "stderr",
     "output_type": "stream",
     "text": [
      "EP_train:1:  47%|| 3262/6926 [05:21<06:05, 10.02it/s]"
     ]
    },
    {
     "name": "stdout",
     "output_type": "stream",
     "text": [
      "{'epoch': 1, 'iter': 3260, 'avg_loss': 5.693370296925132, 'avg_acc': 49.86200551977921, 'loss': 5.351841926574707}\n"
     ]
    },
    {
     "name": "stderr",
     "output_type": "stream",
     "text": [
      "EP_train:1:  47%|| 3272/6926 [05:22<06:02, 10.08it/s]"
     ]
    },
    {
     "name": "stdout",
     "output_type": "stream",
     "text": [
      "{'epoch': 1, 'iter': 3270, 'avg_loss': 5.6931949472325325, 'avg_acc': 49.85956129623968, 'loss': 5.732235908508301}\n"
     ]
    },
    {
     "name": "stderr",
     "output_type": "stream",
     "text": [
      "EP_train:1:  47%|| 3282/6926 [05:23<05:55, 10.26it/s]"
     ]
    },
    {
     "name": "stdout",
     "output_type": "stream",
     "text": [
      "{'epoch': 1, 'iter': 3280, 'avg_loss': 5.693022617222659, 'avg_acc': 49.85236970435843, 'loss': 5.7420735359191895}\n"
     ]
    },
    {
     "name": "stderr",
     "output_type": "stream",
     "text": [
      "EP_train:1:  48%|| 3292/6926 [05:24<06:02, 10.02it/s]"
     ]
    },
    {
     "name": "stdout",
     "output_type": "stream",
     "text": [
      "{'epoch': 1, 'iter': 3290, 'avg_loss': 5.692631453302847, 'avg_acc': 49.845221817076876, 'loss': 5.1576433181762695}\n"
     ]
    },
    {
     "name": "stderr",
     "output_type": "stream",
     "text": [
      "EP_train:1:  48%|| 3302/6926 [05:25<05:54, 10.23it/s]"
     ]
    },
    {
     "name": "stdout",
     "output_type": "stream",
     "text": [
      "{'epoch': 1, 'iter': 3300, 'avg_loss': 5.69219575597098, 'avg_acc': 49.834330505907296, 'loss': 5.451562404632568}\n"
     ]
    },
    {
     "name": "stderr",
     "output_type": "stream",
     "text": [
      "EP_train:1:  48%|| 3312/6926 [05:26<05:52, 10.26it/s]"
     ]
    },
    {
     "name": "stdout",
     "output_type": "stream",
     "text": [
      "{'epoch': 1, 'iter': 3310, 'avg_loss': 5.691914632002849, 'avg_acc': 49.83766233766234, 'loss': 5.838479995727539}\n"
     ]
    },
    {
     "name": "stderr",
     "output_type": "stream",
     "text": [
      "EP_train:1:  48%|| 3322/6926 [05:27<05:59, 10.01it/s]"
     ]
    },
    {
     "name": "stdout",
     "output_type": "stream",
     "text": [
      "{'epoch': 1, 'iter': 3320, 'avg_loss': 5.691394276376303, 'avg_acc': 49.84756097560975, 'loss': 5.623803615570068}\n"
     ]
    },
    {
     "name": "stderr",
     "output_type": "stream",
     "text": [
      "EP_train:1:  48%|| 3333/6926 [05:28<05:52, 10.20it/s]"
     ]
    },
    {
     "name": "stdout",
     "output_type": "stream",
     "text": [
      "{'epoch': 1, 'iter': 3330, 'avg_loss': 5.690895460203795, 'avg_acc': 49.84051335935155, 'loss': 5.829138278961182}\n"
     ]
    },
    {
     "name": "stderr",
     "output_type": "stream",
     "text": [
      "EP_train:1:  48%|| 3343/6926 [05:29<05:51, 10.18it/s]"
     ]
    },
    {
     "name": "stdout",
     "output_type": "stream",
     "text": [
      "{'epoch': 1, 'iter': 3340, 'avg_loss': 5.691145541817083, 'avg_acc': 49.844732116132896, 'loss': 5.992129802703857}\n"
     ]
    },
    {
     "name": "stderr",
     "output_type": "stream",
     "text": [
      "EP_train:1:  48%|| 3351/6926 [05:30<05:52, 10.15it/s]"
     ]
    },
    {
     "name": "stdout",
     "output_type": "stream",
     "text": [
      "{'epoch': 1, 'iter': 3350, 'avg_loss': 5.691107448553975, 'avg_acc': 49.84146523425843, 'loss': 5.990660667419434}\n"
     ]
    },
    {
     "name": "stderr",
     "output_type": "stream",
     "text": [
      "EP_train:1:  49%|| 3363/6926 [05:31<05:48, 10.22it/s]"
     ]
    },
    {
     "name": "stdout",
     "output_type": "stream",
     "text": [
      "{'epoch': 1, 'iter': 3360, 'avg_loss': 5.690751881586658, 'avg_acc': 49.83449866111276, 'loss': 5.590566158294678}\n"
     ]
    },
    {
     "name": "stderr",
     "output_type": "stream",
     "text": [
      "EP_train:1:  49%|| 3372/6926 [05:32<05:42, 10.37it/s]"
     ]
    },
    {
     "name": "stdout",
     "output_type": "stream",
     "text": [
      "{'epoch': 1, 'iter': 3370, 'avg_loss': 5.690549460337233, 'avg_acc': 49.84147878967665, 'loss': 5.7820305824279785}\n"
     ]
    },
    {
     "name": "stderr",
     "output_type": "stream",
     "text": [
      "EP_train:1:  49%|| 3382/6926 [05:33<05:42, 10.34it/s]"
     ]
    },
    {
     "name": "stdout",
     "output_type": "stream",
     "text": [
      "{'epoch': 1, 'iter': 3380, 'avg_loss': 5.6900681635572585, 'avg_acc': 49.84472049689441, 'loss': 5.80806303024292}\n"
     ]
    },
    {
     "name": "stderr",
     "output_type": "stream",
     "text": [
      "EP_train:1:  49%|| 3392/6926 [05:34<05:43, 10.27it/s]"
     ]
    },
    {
     "name": "stdout",
     "output_type": "stream",
     "text": [
      "{'epoch': 1, 'iter': 3390, 'avg_loss': 5.6899574342219745, 'avg_acc': 49.831355057505164, 'loss': 5.571640968322754}\n"
     ]
    },
    {
     "name": "stderr",
     "output_type": "stream",
     "text": [
      "EP_train:1:  49%|| 3402/6926 [05:35<05:44, 10.24it/s]"
     ]
    },
    {
     "name": "stdout",
     "output_type": "stream",
     "text": [
      "{'epoch': 1, 'iter': 3400, 'avg_loss': 5.689607929811867, 'avg_acc': 49.82633784181123, 'loss': 5.558908462524414}\n"
     ]
    },
    {
     "name": "stderr",
     "output_type": "stream",
     "text": [
      "EP_train:1:  49%|| 3412/6926 [05:36<05:48, 10.08it/s]"
     ]
    },
    {
     "name": "stdout",
     "output_type": "stream",
     "text": [
      "{'epoch': 1, 'iter': 3410, 'avg_loss': 5.689357257106024, 'avg_acc': 49.82226619759601, 'loss': 5.430748462677002}\n"
     ]
    },
    {
     "name": "stderr",
     "output_type": "stream",
     "text": [
      "EP_train:1:  49%|| 3422/6926 [05:37<05:53,  9.92it/s]"
     ]
    },
    {
     "name": "stdout",
     "output_type": "stream",
     "text": [
      "{'epoch': 1, 'iter': 3420, 'avg_loss': 5.689341607967757, 'avg_acc': 49.80725665010231, 'loss': 5.636484146118164}\n"
     ]
    },
    {
     "name": "stderr",
     "output_type": "stream",
     "text": [
      "EP_train:1:  50%|| 3432/6926 [05:38<05:55,  9.83it/s]"
     ]
    },
    {
     "name": "stdout",
     "output_type": "stream",
     "text": [
      "{'epoch': 1, 'iter': 3430, 'avg_loss': 5.6895393130036425, 'avg_acc': 49.80417516758963, 'loss': 6.251348495483398}\n"
     ]
    },
    {
     "name": "stderr",
     "output_type": "stream",
     "text": [
      "EP_train:1:  50%|| 3442/6926 [05:39<05:39, 10.25it/s]"
     ]
    },
    {
     "name": "stdout",
     "output_type": "stream",
     "text": [
      "{'epoch': 1, 'iter': 3440, 'avg_loss': 5.689708316994767, 'avg_acc': 49.79475443185121, 'loss': 5.6795454025268555}\n"
     ]
    },
    {
     "name": "stderr",
     "output_type": "stream",
     "text": [
      "EP_train:1:  50%|| 3452/6926 [05:40<05:52,  9.87it/s]"
     ]
    },
    {
     "name": "stdout",
     "output_type": "stream",
     "text": [
      "{'epoch': 1, 'iter': 3450, 'avg_loss': 5.689576450067132, 'avg_acc': 49.80983772819473, 'loss': 5.812522888183594}\n"
     ]
    },
    {
     "name": "stderr",
     "output_type": "stream",
     "text": [
      "EP_train:1:  50%|| 3462/6926 [05:41<05:52,  9.83it/s]"
     ]
    },
    {
     "name": "stdout",
     "output_type": "stream",
     "text": [
      "{'epoch': 1, 'iter': 3460, 'avg_loss': 5.689342151450064, 'avg_acc': 49.81490176249639, 'loss': 5.745262145996094}\n"
     ]
    },
    {
     "name": "stderr",
     "output_type": "stream",
     "text": [
      "EP_train:1:  50%|| 3472/6926 [05:42<05:41, 10.12it/s]"
     ]
    },
    {
     "name": "stdout",
     "output_type": "stream",
     "text": [
      "{'epoch': 1, 'iter': 3470, 'avg_loss': 5.689337872318629, 'avg_acc': 49.80733218092769, 'loss': 5.560581684112549}\n"
     ]
    },
    {
     "name": "stderr",
     "output_type": "stream",
     "text": [
      "EP_train:1:  50%|| 3482/6926 [05:43<05:48,  9.89it/s]"
     ]
    },
    {
     "name": "stdout",
     "output_type": "stream",
     "text": [
      "{'epoch': 1, 'iter': 3480, 'avg_loss': 5.688766288264186, 'avg_acc': 49.79352197644355, 'loss': 4.990467071533203}\n"
     ]
    },
    {
     "name": "stderr",
     "output_type": "stream",
     "text": [
      "EP_train:1:  50%|| 3491/6926 [05:44<06:02,  9.47it/s]"
     ]
    },
    {
     "name": "stdout",
     "output_type": "stream",
     "text": [
      "{'epoch': 1, 'iter': 3490, 'avg_loss': 5.688980461225507, 'avg_acc': 49.77531509596104, 'loss': 6.242650032043457}\n"
     ]
    },
    {
     "name": "stderr",
     "output_type": "stream",
     "text": [
      "EP_train:1:  51%|| 3502/6926 [05:45<06:08,  9.29it/s]"
     ]
    },
    {
     "name": "stdout",
     "output_type": "stream",
     "text": [
      "{'epoch': 1, 'iter': 3500, 'avg_loss': 5.688860680913285, 'avg_acc': 49.78041988003427, 'loss': 5.64866828918457}\n"
     ]
    },
    {
     "name": "stderr",
     "output_type": "stream",
     "text": [
      "EP_train:1:  51%|| 3512/6926 [05:46<05:55,  9.59it/s]"
     ]
    },
    {
     "name": "stdout",
     "output_type": "stream",
     "text": [
      "{'epoch': 1, 'iter': 3510, 'avg_loss': 5.688554647538575, 'avg_acc': 49.79350612361151, 'loss': 5.622145175933838}\n"
     ]
    },
    {
     "name": "stderr",
     "output_type": "stream",
     "text": [
      "EP_train:1:  51%|| 3522/6926 [05:47<06:03,  9.37it/s]"
     ]
    },
    {
     "name": "stdout",
     "output_type": "stream",
     "text": [
      "{'epoch': 1, 'iter': 3520, 'avg_loss': 5.688729995964806, 'avg_acc': 49.79586765123544, 'loss': 5.768072605133057}\n"
     ]
    },
    {
     "name": "stderr",
     "output_type": "stream",
     "text": [
      "EP_train:1:  51%|| 3532/6926 [05:48<06:12,  9.11it/s]"
     ]
    },
    {
     "name": "stdout",
     "output_type": "stream",
     "text": [
      "{'epoch': 1, 'iter': 3530, 'avg_loss': 5.688139396630749, 'avg_acc': 49.7982158028887, 'loss': 5.633211135864258}\n"
     ]
    },
    {
     "name": "stderr",
     "output_type": "stream",
     "text": [
      "EP_train:1:  51%|| 3542/6926 [05:49<06:24,  8.80it/s]"
     ]
    },
    {
     "name": "stdout",
     "output_type": "stream",
     "text": [
      "{'epoch': 1, 'iter': 3540, 'avg_loss': 5.688081408583892, 'avg_acc': 49.79613809658289, 'loss': 5.923227787017822}\n"
     ]
    },
    {
     "name": "stderr",
     "output_type": "stream",
     "text": [
      "EP_train:1:  51%|| 3552/6926 [05:50<06:21,  8.85it/s]"
     ]
    },
    {
     "name": "stdout",
     "output_type": "stream",
     "text": [
      "{'epoch': 1, 'iter': 3550, 'avg_loss': 5.688246042148995, 'avg_acc': 49.786151788228665, 'loss': 6.126770973205566}\n"
     ]
    },
    {
     "name": "stderr",
     "output_type": "stream",
     "text": [
      "EP_train:1:  51%|| 3562/6926 [05:51<06:07,  9.16it/s]"
     ]
    },
    {
     "name": "stdout",
     "output_type": "stream",
     "text": [
      "{'epoch': 1, 'iter': 3560, 'avg_loss': 5.6879766158125635, 'avg_acc': 49.79026256669475, 'loss': 5.087582588195801}\n"
     ]
    },
    {
     "name": "stderr",
     "output_type": "stream",
     "text": [
      "EP_train:1:  52%|| 3572/6926 [05:52<06:08,  9.10it/s]"
     ]
    },
    {
     "name": "stdout",
     "output_type": "stream",
     "text": [
      "{'epoch': 1, 'iter': 3570, 'avg_loss': 5.688095916122056, 'avg_acc': 49.79522542705125, 'loss': 5.436830520629883}\n"
     ]
    },
    {
     "name": "stderr",
     "output_type": "stream",
     "text": [
      "EP_train:1:  52%|| 3583/6926 [05:53<05:46,  9.65it/s]"
     ]
    },
    {
     "name": "stdout",
     "output_type": "stream",
     "text": [
      "{'epoch': 1, 'iter': 3580, 'avg_loss': 5.688297770270353, 'avg_acc': 49.79056129572745, 'loss': 5.6812028884887695}\n"
     ]
    },
    {
     "name": "stderr",
     "output_type": "stream",
     "text": [
      "EP_train:1:  52%|| 3592/6926 [05:54<06:09,  9.03it/s]"
     ]
    },
    {
     "name": "stdout",
     "output_type": "stream",
     "text": [
      "{'epoch': 1, 'iter': 3590, 'avg_loss': 5.688201115809254, 'avg_acc': 49.786793372319686, 'loss': 5.7807087898254395}\n"
     ]
    },
    {
     "name": "stderr",
     "output_type": "stream",
     "text": [
      "EP_train:1:  52%|| 3603/6926 [05:56<05:26, 10.18it/s]"
     ]
    },
    {
     "name": "stdout",
     "output_type": "stream",
     "text": [
      "{'epoch': 1, 'iter': 3600, 'avg_loss': 5.688229913613559, 'avg_acc': 49.786517633990556, 'loss': 5.506471157073975}\n"
     ]
    },
    {
     "name": "stderr",
     "output_type": "stream",
     "text": [
      "EP_train:1:  52%|| 3611/6926 [05:56<05:29, 10.05it/s]"
     ]
    },
    {
     "name": "stdout",
     "output_type": "stream",
     "text": [
      "{'epoch': 1, 'iter': 3610, 'avg_loss': 5.687943061743044, 'avg_acc': 49.793166712821936, 'loss': 6.094735622406006}\n"
     ]
    },
    {
     "name": "stderr",
     "output_type": "stream",
     "text": [
      "EP_train:1:  52%|| 3622/6926 [05:57<05:45,  9.56it/s]"
     ]
    },
    {
     "name": "stdout",
     "output_type": "stream",
     "text": [
      "{'epoch': 1, 'iter': 3620, 'avg_loss': 5.687498243169145, 'avg_acc': 49.80927230046948, 'loss': 5.6011857986450195}\n"
     ]
    },
    {
     "name": "stderr",
     "output_type": "stream",
     "text": [
      "EP_train:1:  52%|| 3632/6926 [05:59<05:53,  9.31it/s]"
     ]
    },
    {
     "name": "stdout",
     "output_type": "stream",
     "text": [
      "{'epoch': 1, 'iter': 3630, 'avg_loss': 5.686951676271271, 'avg_acc': 49.82270724318369, 'loss': 5.47847843170166}\n"
     ]
    },
    {
     "name": "stderr",
     "output_type": "stream",
     "text": [
      "EP_train:1:  53%|| 3642/6926 [06:00<05:47,  9.45it/s]"
     ]
    },
    {
     "name": "stdout",
     "output_type": "stream",
     "text": [
      "{'epoch': 1, 'iter': 3640, 'avg_loss': 5.6873051225074995, 'avg_acc': 49.81804449327108, 'loss': 6.000486373901367}\n"
     ]
    },
    {
     "name": "stderr",
     "output_type": "stream",
     "text": [
      "EP_train:1:  53%|| 3653/6926 [06:01<05:49,  9.36it/s]"
     ]
    },
    {
     "name": "stdout",
     "output_type": "stream",
     "text": [
      "{'epoch': 1, 'iter': 3650, 'avg_loss': 5.687153789057401, 'avg_acc': 49.821110654615175, 'loss': 5.529727935791016}\n"
     ]
    },
    {
     "name": "stderr",
     "output_type": "stream",
     "text": [
      "EP_train:1:  53%|| 3662/6926 [06:02<05:54,  9.20it/s]"
     ]
    },
    {
     "name": "stdout",
     "output_type": "stream",
     "text": [
      "{'epoch': 1, 'iter': 3660, 'avg_loss': 5.686788870252179, 'avg_acc': 49.82586724938541, 'loss': 5.328408241271973}\n"
     ]
    },
    {
     "name": "stderr",
     "output_type": "stream",
     "text": [
      "EP_train:1:  53%|| 3673/6926 [06:03<05:46,  9.40it/s]"
     ]
    },
    {
     "name": "stdout",
     "output_type": "stream",
     "text": [
      "{'epoch': 1, 'iter': 3670, 'avg_loss': 5.686605811865964, 'avg_acc': 49.81782892944702, 'loss': 5.508410930633545}\n"
     ]
    },
    {
     "name": "stderr",
     "output_type": "stream",
     "text": [
      "EP_train:1:  53%|| 3682/6926 [06:04<05:50,  9.25it/s]"
     ]
    },
    {
     "name": "stdout",
     "output_type": "stream",
     "text": [
      "{'epoch': 1, 'iter': 3680, 'avg_loss': 5.686416532707681, 'avg_acc': 49.82426650366748, 'loss': 5.067131042480469}\n"
     ]
    },
    {
     "name": "stderr",
     "output_type": "stream",
     "text": [
      "EP_train:1:  53%|| 3692/6926 [06:05<05:54,  9.12it/s]"
     ]
    },
    {
     "name": "stdout",
     "output_type": "stream",
     "text": [
      "{'epoch': 1, 'iter': 3690, 'avg_loss': 5.686589288311062, 'avg_acc': 49.816276076943915, 'loss': 5.790160179138184}\n"
     ]
    },
    {
     "name": "stderr",
     "output_type": "stream",
     "text": [
      "EP_train:1:  53%|| 3702/6926 [06:06<05:38,  9.53it/s]"
     ]
    },
    {
     "name": "stdout",
     "output_type": "stream",
     "text": [
      "{'epoch': 1, 'iter': 3700, 'avg_loss': 5.686336095640383, 'avg_acc': 49.80241826533369, 'loss': 5.587976932525635}\n"
     ]
    },
    {
     "name": "stderr",
     "output_type": "stream",
     "text": [
      "EP_train:1:  54%|| 3712/6926 [06:07<05:47,  9.24it/s]"
     ]
    },
    {
     "name": "stdout",
     "output_type": "stream",
     "text": [
      "{'epoch': 1, 'iter': 3710, 'avg_loss': 5.686014720610421, 'avg_acc': 49.797056049582324, 'loss': 5.252878189086914}\n"
     ]
    },
    {
     "name": "stderr",
     "output_type": "stream",
     "text": [
      "EP_train:1:  54%|| 3723/6926 [06:08<05:34,  9.57it/s]"
     ]
    },
    {
     "name": "stdout",
     "output_type": "stream",
     "text": [
      "{'epoch': 1, 'iter': 3720, 'avg_loss': 5.686134282250265, 'avg_acc': 49.80515990325182, 'loss': 5.9784836769104}\n"
     ]
    },
    {
     "name": "stderr",
     "output_type": "stream",
     "text": [
      "EP_train:1:  54%|| 3733/6926 [06:09<05:29,  9.68it/s]"
     ]
    },
    {
     "name": "stdout",
     "output_type": "stream",
     "text": [
      "{'epoch': 1, 'iter': 3730, 'avg_loss': 5.68626707867367, 'avg_acc': 49.79814392924149, 'loss': 5.817446708679199}\n"
     ]
    },
    {
     "name": "stderr",
     "output_type": "stream",
     "text": [
      "EP_train:1:  54%|| 3743/6926 [06:10<05:29,  9.65it/s]"
     ]
    },
    {
     "name": "stdout",
     "output_type": "stream",
     "text": [
      "{'epoch': 1, 'iter': 3740, 'avg_loss': 5.68619393728787, 'avg_acc': 49.797848168938785, 'loss': 5.472609043121338}\n"
     ]
    },
    {
     "name": "stderr",
     "output_type": "stream",
     "text": [
      "EP_train:1:  54%|| 3752/6926 [06:11<05:03, 10.47it/s]"
     ]
    },
    {
     "name": "stdout",
     "output_type": "stream",
     "text": [
      "{'epoch': 1, 'iter': 3750, 'avg_loss': 5.685723664124341, 'avg_acc': 49.80255265262596, 'loss': 6.1673150062561035}\n"
     ]
    },
    {
     "name": "stderr",
     "output_type": "stream",
     "text": [
      "EP_train:1:  54%|| 3763/6926 [06:12<05:22,  9.80it/s]"
     ]
    },
    {
     "name": "stdout",
     "output_type": "stream",
     "text": [
      "{'epoch': 1, 'iter': 3760, 'avg_loss': 5.6855817283603995, 'avg_acc': 49.81138659930869, 'loss': 5.297290325164795}\n"
     ]
    },
    {
     "name": "stderr",
     "output_type": "stream",
     "text": [
      "EP_train:1:  54%|| 3772/6926 [06:13<05:11, 10.14it/s]"
     ]
    },
    {
     "name": "stdout",
     "output_type": "stream",
     "text": [
      "{'epoch': 1, 'iter': 3770, 'avg_loss': 5.6854508507950365, 'avg_acc': 49.81105807478122, 'loss': 5.2529425621032715}\n"
     ]
    },
    {
     "name": "stderr",
     "output_type": "stream",
     "text": [
      "EP_train:1:  55%|| 3783/6926 [06:14<05:09, 10.17it/s]"
     ]
    },
    {
     "name": "stdout",
     "output_type": "stream",
     "text": [
      "{'epoch': 1, 'iter': 3780, 'avg_loss': 5.685363600412332, 'avg_acc': 49.801639777836556, 'loss': 5.769747734069824}\n"
     ]
    },
    {
     "name": "stderr",
     "output_type": "stream",
     "text": [
      "EP_train:1:  55%|| 3793/6926 [06:15<05:04, 10.27it/s]"
     ]
    },
    {
     "name": "stdout",
     "output_type": "stream",
     "text": [
      "{'epoch': 1, 'iter': 3790, 'avg_loss': 5.6852143140997615, 'avg_acc': 49.79969005539436, 'loss': 5.930394172668457}\n"
     ]
    },
    {
     "name": "stderr",
     "output_type": "stream",
     "text": [
      "EP_train:1:  55%|| 3803/6926 [06:16<05:03, 10.29it/s]"
     ]
    },
    {
     "name": "stdout",
     "output_type": "stream",
     "text": [
      "{'epoch': 1, 'iter': 3800, 'avg_loss': 5.6850469102987455, 'avg_acc': 49.798572744014734, 'loss': 5.471384525299072}\n"
     ]
    },
    {
     "name": "stderr",
     "output_type": "stream",
     "text": [
      "EP_train:1:  55%|| 3813/6926 [06:17<05:05, 10.21it/s]"
     ]
    },
    {
     "name": "stdout",
     "output_type": "stream",
     "text": [
      "{'epoch': 1, 'iter': 3810, 'avg_loss': 5.684867082258998, 'avg_acc': 49.797461296247704, 'loss': 5.408395767211914}\n"
     ]
    },
    {
     "name": "stderr",
     "output_type": "stream",
     "text": [
      "EP_train:1:  55%|| 3821/6926 [06:18<05:10, 10.00it/s]"
     ]
    },
    {
     "name": "stdout",
     "output_type": "stream",
     "text": [
      "{'epoch': 1, 'iter': 3820, 'avg_loss': 5.68479078934786, 'avg_acc': 49.804534153362994, 'loss': 5.731052875518799}\n"
     ]
    },
    {
     "name": "stderr",
     "output_type": "stream",
     "text": [
      "EP_train:1:  55%|| 3833/6926 [06:19<05:03, 10.19it/s]"
     ]
    },
    {
     "name": "stdout",
     "output_type": "stream",
     "text": [
      "{'epoch': 1, 'iter': 3830, 'avg_loss': 5.684659615474095, 'avg_acc': 49.808307230488126, 'loss': 5.119443893432617}\n"
     ]
    },
    {
     "name": "stderr",
     "output_type": "stream",
     "text": [
      "EP_train:1:  55%|| 3843/6926 [06:20<05:03, 10.16it/s]"
     ]
    },
    {
     "name": "stdout",
     "output_type": "stream",
     "text": [
      "{'epoch': 1, 'iter': 3840, 'avg_loss': 5.684461345464046, 'avg_acc': 49.80067039833377, 'loss': 5.609622001647949}\n"
     ]
    },
    {
     "name": "stderr",
     "output_type": "stream",
     "text": [
      "EP_train:1:  56%|| 3853/6926 [06:21<05:01, 10.18it/s]"
     ]
    },
    {
     "name": "stdout",
     "output_type": "stream",
     "text": [
      "{'epoch': 1, 'iter': 3850, 'avg_loss': 5.6841625655913965, 'avg_acc': 49.805245390807585, 'loss': 5.592545986175537}\n"
     ]
    },
    {
     "name": "stderr",
     "output_type": "stream",
     "text": [
      "EP_train:1:  56%|| 3863/6926 [06:22<04:54, 10.39it/s]"
     ]
    },
    {
     "name": "stdout",
     "output_type": "stream",
     "text": [
      "{'epoch': 1, 'iter': 3860, 'avg_loss': 5.684186683482872, 'avg_acc': 49.79441854441855, 'loss': 5.848306655883789}\n"
     ]
    },
    {
     "name": "stderr",
     "output_type": "stream",
     "text": [
      "EP_train:1:  56%|| 3873/6926 [06:23<05:11,  9.80it/s]"
     ]
    },
    {
     "name": "stdout",
     "output_type": "stream",
     "text": [
      "{'epoch': 1, 'iter': 3870, 'avg_loss': 5.684385355360838, 'avg_acc': 49.78768406096616, 'loss': 5.586785316467285}\n"
     ]
    },
    {
     "name": "stderr",
     "output_type": "stream",
     "text": [
      "EP_train:1:  56%|| 3882/6926 [06:24<05:11,  9.77it/s]"
     ]
    },
    {
     "name": "stdout",
     "output_type": "stream",
     "text": [
      "{'epoch': 1, 'iter': 3880, 'avg_loss': 5.684450825290931, 'avg_acc': 49.78339989693378, 'loss': 5.885499477386475}\n"
     ]
    },
    {
     "name": "stderr",
     "output_type": "stream",
     "text": [
      "EP_train:1:  56%|| 3893/6926 [06:25<05:08,  9.84it/s]"
     ]
    },
    {
     "name": "stdout",
     "output_type": "stream",
     "text": [
      "{'epoch': 1, 'iter': 3890, 'avg_loss': 5.684428946030106, 'avg_acc': 49.796003598046774, 'loss': 5.993762493133545}\n"
     ]
    },
    {
     "name": "stderr",
     "output_type": "stream",
     "text": [
      "EP_train:1:  56%|| 3903/6926 [06:26<04:49, 10.45it/s]"
     ]
    },
    {
     "name": "stdout",
     "output_type": "stream",
     "text": [
      "{'epoch': 1, 'iter': 3900, 'avg_loss': 5.684444898460132, 'avg_acc': 49.7933222250705, 'loss': 5.391293048858643}\n"
     ]
    },
    {
     "name": "stderr",
     "output_type": "stream",
     "text": [
      "EP_train:1:  56%|| 3911/6926 [06:27<04:57, 10.12it/s]"
     ]
    },
    {
     "name": "stdout",
     "output_type": "stream",
     "text": [
      "{'epoch': 1, 'iter': 3910, 'avg_loss': 5.6838868786629675, 'avg_acc': 49.78266428023523, 'loss': 5.982522487640381}\n"
     ]
    },
    {
     "name": "stderr",
     "output_type": "stream",
     "text": [
      "EP_train:1:  57%|| 3922/6926 [06:28<04:52, 10.26it/s]"
     ]
    },
    {
     "name": "stdout",
     "output_type": "stream",
     "text": [
      "{'epoch': 1, 'iter': 3920, 'avg_loss': 5.683348403600855, 'avg_acc': 49.78879750063759, 'loss': 5.257894039154053}\n"
     ]
    },
    {
     "name": "stderr",
     "output_type": "stream",
     "text": [
      "EP_train:1:  57%|| 3932/6926 [06:29<04:59,  9.99it/s]"
     ]
    },
    {
     "name": "stdout",
     "output_type": "stream",
     "text": [
      "{'epoch': 1, 'iter': 3930, 'avg_loss': 5.68311638044844, 'avg_acc': 49.788539811752734, 'loss': 5.695083141326904}\n"
     ]
    },
    {
     "name": "stderr",
     "output_type": "stream",
     "text": [
      "EP_train:1:  57%|| 3942/6926 [06:30<05:00,  9.94it/s]"
     ]
    },
    {
     "name": "stdout",
     "output_type": "stream",
     "text": [
      "{'epoch': 1, 'iter': 3940, 'avg_loss': 5.682829558743465, 'avg_acc': 49.784318700837346, 'loss': 5.417516231536865}\n"
     ]
    },
    {
     "name": "stderr",
     "output_type": "stream",
     "text": [
      "EP_train:1:  57%|| 3953/6926 [06:31<04:50, 10.25it/s]"
     ]
    },
    {
     "name": "stdout",
     "output_type": "stream",
     "text": [
      "{'epoch': 1, 'iter': 3950, 'avg_loss': 5.682425821319287, 'avg_acc': 49.77379144520375, 'loss': 5.309352397918701}\n"
     ]
    },
    {
     "name": "stderr",
     "output_type": "stream",
     "text": [
      "EP_train:1:  57%|| 3962/6926 [06:32<04:52, 10.14it/s]"
     ]
    },
    {
     "name": "stdout",
     "output_type": "stream",
     "text": [
      "{'epoch': 1, 'iter': 3960, 'avg_loss': 5.68236540158991, 'avg_acc': 49.77515147689977, 'loss': 5.195655822753906}\n"
     ]
    },
    {
     "name": "stderr",
     "output_type": "stream",
     "text": [
      "EP_train:1:  57%|| 3972/6926 [06:33<04:47, 10.27it/s]"
     ]
    },
    {
     "name": "stdout",
     "output_type": "stream",
     "text": [
      "{'epoch': 1, 'iter': 3970, 'avg_loss': 5.682046951139283, 'avg_acc': 49.789882901032485, 'loss': 5.497297286987305}\n"
     ]
    },
    {
     "name": "stderr",
     "output_type": "stream",
     "text": [
      "EP_train:1:  57%|| 3982/6926 [06:34<04:42, 10.42it/s]"
     ]
    },
    {
     "name": "stdout",
     "output_type": "stream",
     "text": [
      "{'epoch': 1, 'iter': 3980, 'avg_loss': 5.681878946438952, 'avg_acc': 49.78413087164029, 'loss': 5.528556823730469}\n"
     ]
    },
    {
     "name": "stderr",
     "output_type": "stream",
     "text": [
      "EP_train:1:  58%|| 3992/6926 [06:35<04:42, 10.38it/s]"
     ]
    },
    {
     "name": "stdout",
     "output_type": "stream",
     "text": [
      "{'epoch': 1, 'iter': 3990, 'avg_loss': 5.6816968738629505, 'avg_acc': 49.78702079679279, 'loss': 5.373277187347412}\n"
     ]
    },
    {
     "name": "stderr",
     "output_type": "stream",
     "text": [
      "EP_train:1:  58%|| 4002/6926 [06:36<04:50, 10.05it/s]"
     ]
    },
    {
     "name": "stdout",
     "output_type": "stream",
     "text": [
      "{'epoch': 1, 'iter': 4000, 'avg_loss': 5.681414364874587, 'avg_acc': 49.79145838540365, 'loss': 5.77362060546875}\n"
     ]
    },
    {
     "name": "stderr",
     "output_type": "stream",
     "text": [
      "EP_train:1:  58%|| 4012/6926 [06:37<04:53,  9.92it/s]"
     ]
    },
    {
     "name": "stdout",
     "output_type": "stream",
     "text": [
      "{'epoch': 1, 'iter': 4010, 'avg_loss': 5.681606701085527, 'avg_acc': 49.78730366492147, 'loss': 5.726810455322266}\n"
     ]
    },
    {
     "name": "stderr",
     "output_type": "stream",
     "text": [
      "EP_train:1:  58%|| 4022/6926 [06:38<04:40, 10.35it/s]"
     ]
    },
    {
     "name": "stdout",
     "output_type": "stream",
     "text": [
      "{'epoch': 1, 'iter': 4020, 'avg_loss': 5.681504404209823, 'avg_acc': 49.804153195722456, 'loss': 5.4748992919921875}\n"
     ]
    },
    {
     "name": "stderr",
     "output_type": "stream",
     "text": [
      "EP_train:1:  58%|| 4032/6926 [06:39<04:54,  9.84it/s]"
     ]
    },
    {
     "name": "stdout",
     "output_type": "stream",
     "text": [
      "{'epoch': 1, 'iter': 4030, 'avg_loss': 5.681376515177692, 'avg_acc': 49.80231332175639, 'loss': 5.630796432495117}\n"
     ]
    },
    {
     "name": "stderr",
     "output_type": "stream",
     "text": [
      "EP_train:1:  58%|| 4043/6926 [06:40<04:41, 10.24it/s]"
     ]
    },
    {
     "name": "stdout",
     "output_type": "stream",
     "text": [
      "{'epoch': 1, 'iter': 4040, 'avg_loss': 5.680857331172808, 'avg_acc': 49.80976243504083, 'loss': 5.521597862243652}\n"
     ]
    },
    {
     "name": "stderr",
     "output_type": "stream",
     "text": [
      "EP_train:1:  59%|| 4053/6926 [06:41<04:47, 10.00it/s]"
     ]
    },
    {
     "name": "stdout",
     "output_type": "stream",
     "text": [
      "{'epoch': 1, 'iter': 4050, 'avg_loss': 5.680556952703208, 'avg_acc': 49.81177487040237, 'loss': 5.324998378753662}\n"
     ]
    },
    {
     "name": "stderr",
     "output_type": "stream",
     "text": [
      "EP_train:1:  59%|| 4063/6926 [06:42<04:32, 10.51it/s]"
     ]
    },
    {
     "name": "stdout",
     "output_type": "stream",
     "text": [
      "{'epoch': 1, 'iter': 4060, 'avg_loss': 5.680652143919418, 'avg_acc': 49.820703028810634, 'loss': 5.208738327026367}\n"
     ]
    },
    {
     "name": "stderr",
     "output_type": "stream",
     "text": [
      "EP_train:1:  59%|| 4071/6926 [06:43<04:33, 10.44it/s]"
     ]
    },
    {
     "name": "stdout",
     "output_type": "stream",
     "text": [
      "{'epoch': 1, 'iter': 4070, 'avg_loss': 5.680106074825841, 'avg_acc': 49.811164333087696, 'loss': 4.913248538970947}\n"
     ]
    },
    {
     "name": "stderr",
     "output_type": "stream",
     "text": [
      "EP_train:1:  59%|| 4083/6926 [06:44<04:37, 10.23it/s]"
     ]
    },
    {
     "name": "stdout",
     "output_type": "stream",
     "text": [
      "{'epoch': 1, 'iter': 4080, 'avg_loss': 5.680363902447417, 'avg_acc': 49.81239279588336, 'loss': 4.991962432861328}\n"
     ]
    },
    {
     "name": "stderr",
     "output_type": "stream",
     "text": [
      "EP_train:1:  59%|| 4093/6926 [06:45<04:42, 10.05it/s]"
     ]
    },
    {
     "name": "stdout",
     "output_type": "stream",
     "text": [
      "{'epoch': 1, 'iter': 4090, 'avg_loss': 5.680310447826213, 'avg_acc': 49.810559765338546, 'loss': 5.768101692199707}\n"
     ]
    },
    {
     "name": "stderr",
     "output_type": "stream",
     "text": [
      "EP_train:1:  59%|| 4102/6926 [06:46<04:44,  9.94it/s]"
     ]
    },
    {
     "name": "stdout",
     "output_type": "stream",
     "text": [
      "{'epoch': 1, 'iter': 4100, 'avg_loss': 5.679982103507306, 'avg_acc': 49.81711777615216, 'loss': 5.44291353225708}\n"
     ]
    },
    {
     "name": "stderr",
     "output_type": "stream",
     "text": [
      "EP_train:1:  59%|| 4112/6926 [06:47<04:31, 10.35it/s]"
     ]
    },
    {
     "name": "stdout",
     "output_type": "stream",
     "text": [
      "{'epoch': 1, 'iter': 4110, 'avg_loss': 5.680314349014664, 'avg_acc': 49.823643882267085, 'loss': 5.397548675537109}\n"
     ]
    },
    {
     "name": "stderr",
     "output_type": "stream",
     "text": [
      "EP_train:1:  60%|| 4122/6926 [06:48<04:31, 10.31it/s]"
     ]
    },
    {
     "name": "stdout",
     "output_type": "stream",
     "text": [
      "{'epoch': 1, 'iter': 4120, 'avg_loss': 5.680194953899018, 'avg_acc': 49.82938000485319, 'loss': 5.182849884033203}\n"
     ]
    },
    {
     "name": "stderr",
     "output_type": "stream",
     "text": [
      "EP_train:1:  60%|| 4133/6926 [06:49<04:45,  9.80it/s]"
     ]
    },
    {
     "name": "stdout",
     "output_type": "stream",
     "text": [
      "{'epoch': 1, 'iter': 4130, 'avg_loss': 5.679993031764256, 'avg_acc': 49.82752360203341, 'loss': 5.6345014572143555}\n"
     ]
    },
    {
     "name": "stderr",
     "output_type": "stream",
     "text": [
      "EP_train:1:  60%|| 4142/6926 [06:50<04:47,  9.70it/s]"
     ]
    },
    {
     "name": "stdout",
     "output_type": "stream",
     "text": [
      "{'epoch': 1, 'iter': 4140, 'avg_loss': 5.6797218939959215, 'avg_acc': 49.82718546244869, 'loss': 5.527589797973633}\n"
     ]
    },
    {
     "name": "stderr",
     "output_type": "stream",
     "text": [
      "EP_train:1:  60%|| 4152/6926 [06:51<04:35, 10.09it/s]"
     ]
    },
    {
     "name": "stdout",
     "output_type": "stream",
     "text": [
      "{'epoch': 1, 'iter': 4150, 'avg_loss': 5.679443928799667, 'avg_acc': 49.83513008913515, 'loss': 5.652059555053711}\n"
     ]
    },
    {
     "name": "stderr",
     "output_type": "stream",
     "text": [
      "EP_train:1:  60%|| 4162/6926 [06:52<04:19, 10.64it/s]"
     ]
    },
    {
     "name": "stdout",
     "output_type": "stream",
     "text": [
      "{'epoch': 1, 'iter': 4160, 'avg_loss': 5.679338695624218, 'avg_acc': 49.84453857245854, 'loss': 5.617417812347412}\n"
     ]
    },
    {
     "name": "stderr",
     "output_type": "stream",
     "text": [
      "EP_train:1:  60%|| 4172/6926 [06:53<04:13, 10.85it/s]"
     ]
    },
    {
     "name": "stdout",
     "output_type": "stream",
     "text": [
      "{'epoch': 1, 'iter': 4170, 'avg_loss': 5.679209385979121, 'avg_acc': 49.84191440901463, 'loss': 5.75319766998291}\n"
     ]
    },
    {
     "name": "stderr",
     "output_type": "stream",
     "text": [
      "EP_train:1:  60%|| 4182/6926 [06:54<04:27, 10.24it/s]"
     ]
    },
    {
     "name": "stdout",
     "output_type": "stream",
     "text": [
      "{'epoch': 1, 'iter': 4180, 'avg_loss': 5.678750755740706, 'avg_acc': 49.839302798373595, 'loss': 5.368873119354248}\n"
     ]
    },
    {
     "name": "stderr",
     "output_type": "stream",
     "text": [
      "EP_train:1:  61%|| 4192/6926 [06:55<04:28, 10.19it/s]"
     ]
    },
    {
     "name": "stdout",
     "output_type": "stream",
     "text": [
      "{'epoch': 1, 'iter': 4190, 'avg_loss': 5.678791646882305, 'avg_acc': 49.84266881412551, 'loss': 5.321451187133789}\n"
     ]
    },
    {
     "name": "stderr",
     "output_type": "stream",
     "text": [
      "EP_train:1:  61%|| 4202/6926 [06:56<04:20, 10.45it/s]"
     ]
    },
    {
     "name": "stdout",
     "output_type": "stream",
     "text": [
      "{'epoch': 1, 'iter': 4200, 'avg_loss': 5.6784528353418, 'avg_acc': 49.85792073315877, 'loss': 5.933969974517822}\n"
     ]
    },
    {
     "name": "stderr",
     "output_type": "stream",
     "text": [
      "EP_train:1:  61%|| 4213/6926 [06:57<04:28, 10.09it/s]"
     ]
    },
    {
     "name": "stdout",
     "output_type": "stream",
     "text": [
      "{'epoch': 1, 'iter': 4210, 'avg_loss': 5.678311456781304, 'avg_acc': 49.84861078128711, 'loss': 5.337212085723877}\n"
     ]
    },
    {
     "name": "stderr",
     "output_type": "stream",
     "text": [
      "EP_train:1:  61%|| 4223/6926 [06:58<04:16, 10.53it/s]"
     ]
    },
    {
     "name": "stdout",
     "output_type": "stream",
     "text": [
      "{'epoch': 1, 'iter': 4220, 'avg_loss': 5.6780269390540905, 'avg_acc': 49.84600805496328, 'loss': 5.370960235595703}\n"
     ]
    },
    {
     "name": "stderr",
     "output_type": "stream",
     "text": [
      "EP_train:1:  61%|| 4233/6926 [06:59<04:24, 10.17it/s]"
     ]
    },
    {
     "name": "stdout",
     "output_type": "stream",
     "text": [
      "{'epoch': 1, 'iter': 4230, 'avg_loss': 5.678121512225266, 'avg_acc': 49.83455447884661, 'loss': 6.031183242797852}\n"
     ]
    },
    {
     "name": "stderr",
     "output_type": "stream",
     "text": [
      "EP_train:1:  61%|| 4243/6926 [07:00<04:27, 10.04it/s]"
     ]
    },
    {
     "name": "stdout",
     "output_type": "stream",
     "text": [
      "{'epoch': 1, 'iter': 4240, 'avg_loss': 5.677688249859206, 'avg_acc': 49.830523461447775, 'loss': 5.26048469543457}\n"
     ]
    },
    {
     "name": "stderr",
     "output_type": "stream",
     "text": [
      "EP_train:1:  61%|| 4252/6926 [07:00<04:21, 10.21it/s]"
     ]
    },
    {
     "name": "stdout",
     "output_type": "stream",
     "text": [
      "{'epoch': 1, 'iter': 4250, 'avg_loss': 5.677706630839597, 'avg_acc': 49.84121383203952, 'loss': 5.544456481933594}\n"
     ]
    },
    {
     "name": "stderr",
     "output_type": "stream",
     "text": [
      "EP_train:1:  62%|| 4262/6926 [07:01<04:18, 10.29it/s]"
     ]
    },
    {
     "name": "stdout",
     "output_type": "stream",
     "text": [
      "{'epoch': 1, 'iter': 4260, 'avg_loss': 5.677669029061264, 'avg_acc': 49.84305327387937, 'loss': 5.664979934692383}\n"
     ]
    },
    {
     "name": "stderr",
     "output_type": "stream",
     "text": [
      "EP_train:1:  62%|| 4272/6926 [07:02<04:14, 10.44it/s]"
     ]
    },
    {
     "name": "stdout",
     "output_type": "stream",
     "text": [
      "{'epoch': 1, 'iter': 4270, 'avg_loss': 5.677296488102525, 'avg_acc': 49.845615780847574, 'loss': 5.720948219299316}\n"
     ]
    },
    {
     "name": "stderr",
     "output_type": "stream",
     "text": [
      "EP_train:1:  62%|| 4282/6926 [07:03<04:07, 10.68it/s]"
     ]
    },
    {
     "name": "stdout",
     "output_type": "stream",
     "text": [
      "{'epoch': 1, 'iter': 4280, 'avg_loss': 5.676850086003646, 'avg_acc': 49.848896285914506, 'loss': 5.327050685882568}\n"
     ]
    },
    {
     "name": "stderr",
     "output_type": "stream",
     "text": [
      "EP_train:1:  62%|| 4292/6926 [07:04<04:25,  9.92it/s]"
     ]
    },
    {
     "name": "stdout",
     "output_type": "stream",
     "text": [
      "{'epoch': 1, 'iter': 4290, 'avg_loss': 5.676271539388962, 'avg_acc': 49.85143323234677, 'loss': 5.537546157836914}\n"
     ]
    },
    {
     "name": "stderr",
     "output_type": "stream",
     "text": [
      "EP_train:1:  62%|| 4302/6926 [07:05<04:21, 10.05it/s]"
     ]
    },
    {
     "name": "stdout",
     "output_type": "stream",
     "text": [
      "{'epoch': 1, 'iter': 4300, 'avg_loss': 5.675907304746499, 'avg_acc': 49.85613810741688, 'loss': 5.633333683013916}\n"
     ]
    },
    {
     "name": "stderr",
     "output_type": "stream",
     "text": [
      "EP_train:1:  62%|| 4312/6926 [07:06<04:22,  9.96it/s]"
     ]
    },
    {
     "name": "stdout",
     "output_type": "stream",
     "text": [
      "{'epoch': 1, 'iter': 4310, 'avg_loss': 5.675614097726176, 'avg_acc': 49.86227093481791, 'loss': 5.775064945220947}\n"
     ]
    },
    {
     "name": "stderr",
     "output_type": "stream",
     "text": [
      "EP_train:1:  62%|| 4322/6926 [07:07<04:21,  9.95it/s]"
     ]
    },
    {
     "name": "stdout",
     "output_type": "stream",
     "text": [
      "{'epoch': 1, 'iter': 4320, 'avg_loss': 5.675197685628378, 'avg_acc': 49.859696829437624, 'loss': 5.0773234367370605}\n"
     ]
    },
    {
     "name": "stderr",
     "output_type": "stream",
     "text": [
      "EP_train:1:  63%|| 4333/6926 [07:08<04:22,  9.88it/s]"
     ]
    },
    {
     "name": "stdout",
     "output_type": "stream",
     "text": [
      "{'epoch': 1, 'iter': 4330, 'avg_loss': 5.674928138119, 'avg_acc': 49.85496998383745, 'loss': 5.665303707122803}\n"
     ]
    },
    {
     "name": "stderr",
     "output_type": "stream",
     "text": [
      "EP_train:1:  63%|| 4343/6926 [07:09<04:12, 10.22it/s]"
     ]
    },
    {
     "name": "stdout",
     "output_type": "stream",
     "text": [
      "{'epoch': 1, 'iter': 4340, 'avg_loss': 5.674957293844585, 'avg_acc': 49.830828150195806, 'loss': 5.421018123626709}\n"
     ]
    },
    {
     "name": "stderr",
     "output_type": "stream",
     "text": [
      "EP_train:1:  63%|| 4351/6926 [07:10<04:14, 10.11it/s]"
     ]
    },
    {
     "name": "stdout",
     "output_type": "stream",
     "text": [
      "{'epoch': 1, 'iter': 4350, 'avg_loss': 5.67477821465389, 'avg_acc': 49.838399218570444, 'loss': 5.784106731414795}\n"
     ]
    },
    {
     "name": "stderr",
     "output_type": "stream",
     "text": [
      "EP_train:1:  63%|| 4363/6926 [07:11<03:59, 10.68it/s]"
     ]
    },
    {
     "name": "stdout",
     "output_type": "stream",
     "text": [
      "{'epoch': 1, 'iter': 4360, 'avg_loss': 5.674247825345269, 'avg_acc': 49.838053198807614, 'loss': 5.649236679077148}\n"
     ]
    },
    {
     "name": "stderr",
     "output_type": "stream",
     "text": [
      "EP_train:1:  63%|| 4373/6926 [07:12<03:58, 10.71it/s]"
     ]
    },
    {
     "name": "stdout",
     "output_type": "stream",
     "text": [
      "{'epoch': 1, 'iter': 4370, 'avg_loss': 5.674265604056256, 'avg_acc': 49.84271333790895, 'loss': 4.913473129272461}\n"
     ]
    },
    {
     "name": "stderr",
     "output_type": "stream",
     "text": [
      "EP_train:1:  63%|| 4383/6926 [07:13<04:02, 10.50it/s]"
     ]
    },
    {
     "name": "stdout",
     "output_type": "stream",
     "text": [
      "{'epoch': 1, 'iter': 4380, 'avg_loss': 5.673689927773997, 'avg_acc': 49.83879251312486, 'loss': 5.709997177124023}\n"
     ]
    },
    {
     "name": "stderr",
     "output_type": "stream",
     "text": [
      "EP_train:1:  63%|| 4391/6926 [07:14<04:03, 10.41it/s]"
     ]
    },
    {
     "name": "stdout",
     "output_type": "stream",
     "text": [
      "{'epoch': 1, 'iter': 4390, 'avg_loss': 5.673991901786038, 'avg_acc': 49.84841152357094, 'loss': 5.803043842315674}\n"
     ]
    },
    {
     "name": "stderr",
     "output_type": "stream",
     "text": [
      "EP_train:1:  64%|| 4403/6926 [07:15<04:06, 10.21it/s]"
     ]
    },
    {
     "name": "stdout",
     "output_type": "stream",
     "text": [
      "{'epoch': 1, 'iter': 4400, 'avg_loss': 5.674004180624766, 'avg_acc': 49.85585662349466, 'loss': 5.764132499694824}\n"
     ]
    },
    {
     "name": "stderr",
     "output_type": "stream",
     "text": [
      "EP_train:1:  64%|| 4412/6926 [07:16<04:16,  9.81it/s]"
     ]
    },
    {
     "name": "stdout",
     "output_type": "stream",
     "text": [
      "{'epoch': 1, 'iter': 4410, 'avg_loss': 5.673757402730945, 'avg_acc': 49.85122421219678, 'loss': 5.647434234619141}\n"
     ]
    },
    {
     "name": "stderr",
     "output_type": "stream",
     "text": [
      "EP_train:1:  64%|| 4423/6926 [07:17<04:17,  9.73it/s]"
     ]
    },
    {
     "name": "stdout",
     "output_type": "stream",
     "text": [
      "{'epoch': 1, 'iter': 4420, 'avg_loss': 5.673683735451205, 'avg_acc': 49.85792241574305, 'loss': 5.810693264007568}\n"
     ]
    },
    {
     "name": "stderr",
     "output_type": "stream",
     "text": [
      "EP_train:1:  64%|| 4432/6926 [07:18<04:09,  9.99it/s]"
     ]
    },
    {
     "name": "stdout",
     "output_type": "stream",
     "text": [
      "{'epoch': 1, 'iter': 4430, 'avg_loss': 5.67359097927802, 'avg_acc': 49.86035883547732, 'loss': 5.337366580963135}\n"
     ]
    },
    {
     "name": "stderr",
     "output_type": "stream",
     "text": [
      "EP_train:1:  64%|| 4443/6926 [07:19<04:12,  9.84it/s]"
     ]
    },
    {
     "name": "stdout",
     "output_type": "stream",
     "text": [
      "{'epoch': 1, 'iter': 4440, 'avg_loss': 5.6733414920110254, 'avg_acc': 49.86489529385273, 'loss': 5.367350101470947}\n"
     ]
    },
    {
     "name": "stderr",
     "output_type": "stream",
     "text": [
      "EP_train:1:  64%|| 4451/6926 [07:20<04:14,  9.72it/s]"
     ]
    },
    {
     "name": "stdout",
     "output_type": "stream",
     "text": [
      "{'epoch': 1, 'iter': 4450, 'avg_loss': 5.673255328515009, 'avg_acc': 49.860284205796454, 'loss': 5.1799774169921875}\n"
     ]
    },
    {
     "name": "stderr",
     "output_type": "stream",
     "text": [
      "EP_train:1:  64%|| 4462/6926 [07:21<04:20,  9.44it/s]"
     ]
    },
    {
     "name": "stdout",
     "output_type": "stream",
     "text": [
      "{'epoch': 1, 'iter': 4460, 'avg_loss': 5.673492319405921, 'avg_acc': 49.85219121273257, 'loss': 5.453475475311279}\n"
     ]
    },
    {
     "name": "stderr",
     "output_type": "stream",
     "text": [
      "EP_train:1:  65%|| 4472/6926 [07:22<04:21,  9.37it/s]"
     ]
    },
    {
     "name": "stdout",
     "output_type": "stream",
     "text": [
      "{'epoch': 1, 'iter': 4470, 'avg_loss': 5.673579192646823, 'avg_acc': 49.863704987698505, 'loss': 5.612244606018066}\n"
     ]
    },
    {
     "name": "stderr",
     "output_type": "stream",
     "text": [
      "EP_train:1:  65%|| 4482/6926 [07:23<04:28,  9.09it/s]"
     ]
    },
    {
     "name": "stdout",
     "output_type": "stream",
     "text": [
      "{'epoch': 1, 'iter': 4480, 'avg_loss': 5.673165916199398, 'avg_acc': 49.86261437179201, 'loss': 5.731452941894531}\n"
     ]
    },
    {
     "name": "stderr",
     "output_type": "stream",
     "text": [
      "EP_train:1:  65%|| 4492/6926 [07:25<04:19,  9.39it/s]"
     ]
    },
    {
     "name": "stdout",
     "output_type": "stream",
     "text": [
      "{'epoch': 1, 'iter': 4490, 'avg_loss': 5.673045597106145, 'avg_acc': 49.85735359608105, 'loss': 5.2831902503967285}\n"
     ]
    },
    {
     "name": "stderr",
     "output_type": "stream",
     "text": [
      "EP_train:1:  65%|| 4503/6926 [07:26<04:10,  9.68it/s]"
     ]
    },
    {
     "name": "stdout",
     "output_type": "stream",
     "text": [
      "{'epoch': 1, 'iter': 4500, 'avg_loss': 5.6728749630107425, 'avg_acc': 49.8618362586092, 'loss': 5.483682632446289}\n"
     ]
    },
    {
     "name": "stderr",
     "output_type": "stream",
     "text": [
      "EP_train:1:  65%|| 4511/6926 [07:27<04:18,  9.34it/s]"
     ]
    },
    {
     "name": "stdout",
     "output_type": "stream",
     "text": [
      "{'epoch': 1, 'iter': 4510, 'avg_loss': 5.672415890204248, 'avg_acc': 49.86283529150965, 'loss': 5.727803707122803}\n"
     ]
    },
    {
     "name": "stderr",
     "output_type": "stream",
     "text": [
      "EP_train:1:  65%|| 4523/6926 [07:28<03:49, 10.46it/s]"
     ]
    },
    {
     "name": "stdout",
     "output_type": "stream",
     "text": [
      "{'epoch': 1, 'iter': 4520, 'avg_loss': 5.671922768514996, 'avg_acc': 49.86452112364521, 'loss': 5.353082180023193}\n"
     ]
    },
    {
     "name": "stderr",
     "output_type": "stream",
     "text": [
      "EP_train:1:  65%|| 4531/6926 [07:29<03:51, 10.34it/s]"
     ]
    },
    {
     "name": "stdout",
     "output_type": "stream",
     "text": [
      "{'epoch': 1, 'iter': 4530, 'avg_loss': 5.671622228212005, 'avg_acc': 49.86206135510925, 'loss': 5.824574947357178}\n"
     ]
    },
    {
     "name": "stderr",
     "output_type": "stream",
     "text": [
      "EP_train:1:  66%|| 4543/6926 [07:30<04:14,  9.37it/s]"
     ]
    },
    {
     "name": "stdout",
     "output_type": "stream",
     "text": [
      "{'epoch': 1, 'iter': 4540, 'avg_loss': 5.671485443468058, 'avg_acc': 49.86580598987007, 'loss': 5.394601821899414}\n"
     ]
    },
    {
     "name": "stderr",
     "output_type": "stream",
     "text": [
      "EP_train:1:  66%|| 4553/6926 [07:31<04:10,  9.47it/s]"
     ]
    },
    {
     "name": "stdout",
     "output_type": "stream",
     "text": [
      "{'epoch': 1, 'iter': 4550, 'avg_loss': 5.67124310558221, 'avg_acc': 49.86541419468249, 'loss': 5.094231605529785}\n"
     ]
    },
    {
     "name": "stderr",
     "output_type": "stream",
     "text": [
      "EP_train:1:  66%|| 4563/6926 [07:32<04:16,  9.22it/s]"
     ]
    },
    {
     "name": "stdout",
     "output_type": "stream",
     "text": [
      "{'epoch': 1, 'iter': 4560, 'avg_loss': 5.671198474291881, 'avg_acc': 49.867764744573556, 'loss': 5.996599197387695}\n"
     ]
    },
    {
     "name": "stderr",
     "output_type": "stream",
     "text": [
      "EP_train:1:  66%|| 4571/6926 [07:33<04:05,  9.59it/s]"
     ]
    },
    {
     "name": "stdout",
     "output_type": "stream",
     "text": [
      "{'epoch': 1, 'iter': 4570, 'avg_loss': 5.670851735624331, 'avg_acc': 49.86258477357252, 'loss': 5.725291728973389}\n"
     ]
    },
    {
     "name": "stderr",
     "output_type": "stream",
     "text": [
      "EP_train:1:  66%|| 4582/6926 [07:34<04:03,  9.62it/s]"
     ]
    },
    {
     "name": "stdout",
     "output_type": "stream",
     "text": [
      "{'epoch': 1, 'iter': 4580, 'avg_loss': 5.670977203899584, 'avg_acc': 49.86765989958524, 'loss': 5.812500476837158}\n"
     ]
    },
    {
     "name": "stderr",
     "output_type": "stream",
     "text": [
      "EP_train:1:  66%|| 4592/6926 [07:35<04:16,  9.11it/s]"
     ]
    },
    {
     "name": "stdout",
     "output_type": "stream",
     "text": [
      "{'epoch': 1, 'iter': 4590, 'avg_loss': 5.670922565294023, 'avg_acc': 49.86250272271836, 'loss': 5.4364447593688965}\n"
     ]
    },
    {
     "name": "stderr",
     "output_type": "stream",
     "text": [
      "EP_train:1:  66%|| 4603/6926 [07:36<03:58,  9.72it/s]"
     ]
    },
    {
     "name": "stdout",
     "output_type": "stream",
     "text": [
      "{'epoch': 1, 'iter': 4600, 'avg_loss': 5.670669007420514, 'avg_acc': 49.85940556400782, 'loss': 5.028270244598389}\n"
     ]
    },
    {
     "name": "stderr",
     "output_type": "stream",
     "text": [
      "EP_train:1:  67%|| 4612/6926 [07:37<03:55,  9.82it/s]"
     ]
    },
    {
     "name": "stdout",
     "output_type": "stream",
     "text": [
      "{'epoch': 1, 'iter': 4610, 'avg_loss': 5.670560155403999, 'avg_acc': 49.86513229234439, 'loss': 5.70021915435791}\n"
     ]
    },
    {
     "name": "stderr",
     "output_type": "stream",
     "text": [
      "EP_train:1:  67%|| 4623/6926 [07:38<03:47, 10.12it/s]"
     ]
    },
    {
     "name": "stdout",
     "output_type": "stream",
     "text": [
      "{'epoch': 1, 'iter': 4620, 'avg_loss': 5.6703636276337575, 'avg_acc': 49.86271910841809, 'loss': 5.557002067565918}\n"
     ]
    },
    {
     "name": "stderr",
     "output_type": "stream",
     "text": [
      "EP_train:1:  67%|| 4633/6926 [07:39<03:47, 10.10it/s]"
     ]
    },
    {
     "name": "stdout",
     "output_type": "stream",
     "text": [
      "{'epoch': 1, 'iter': 4630, 'avg_loss': 5.670039661706485, 'avg_acc': 49.856267544806734, 'loss': 5.632147312164307}\n"
     ]
    },
    {
     "name": "stderr",
     "output_type": "stream",
     "text": [
      "EP_train:1:  67%|| 4642/6926 [07:40<03:45, 10.14it/s]"
     ]
    },
    {
     "name": "stdout",
     "output_type": "stream",
     "text": [
      "{'epoch': 1, 'iter': 4640, 'avg_loss': 5.669887786023551, 'avg_acc': 49.84984378366731, 'loss': 6.235815048217773}\n"
     ]
    },
    {
     "name": "stderr",
     "output_type": "stream",
     "text": [
      "EP_train:1:  67%|| 4652/6926 [07:41<03:54,  9.71it/s]"
     ]
    },
    {
     "name": "stdout",
     "output_type": "stream",
     "text": [
      "{'epoch': 1, 'iter': 4650, 'avg_loss': 5.669746645392461, 'avg_acc': 49.8434476456676, 'loss': 5.13551664352417}\n"
     ]
    },
    {
     "name": "stderr",
     "output_type": "stream",
     "text": [
      "EP_train:1:  67%|| 4662/6926 [07:42<03:33, 10.62it/s]"
     ]
    },
    {
     "name": "stdout",
     "output_type": "stream",
     "text": [
      "{'epoch': 1, 'iter': 4660, 'avg_loss': 5.669489485694216, 'avg_acc': 49.84646535078309, 'loss': 5.317481517791748}\n"
     ]
    },
    {
     "name": "stderr",
     "output_type": "stream",
     "text": [
      "EP_train:1:  67%|| 4672/6926 [07:43<03:38, 10.34it/s]"
     ]
    },
    {
     "name": "stdout",
     "output_type": "stream",
     "text": [
      "{'epoch': 1, 'iter': 4670, 'avg_loss': 5.6693947574000525, 'avg_acc': 49.84344894026975, 'loss': 6.094159126281738}\n"
     ]
    },
    {
     "name": "stderr",
     "output_type": "stream",
     "text": [
      "EP_train:1:  68%|| 4682/6926 [07:44<03:43, 10.03it/s]"
     ]
    },
    {
     "name": "stdout",
     "output_type": "stream",
     "text": [
      "{'epoch': 1, 'iter': 4680, 'avg_loss': 5.669169750511073, 'avg_acc': 49.849124118778036, 'loss': 5.556356906890869}\n"
     ]
    },
    {
     "name": "stderr",
     "output_type": "stream",
     "text": [
      "EP_train:1:  68%|| 4692/6926 [07:45<03:42, 10.03it/s]"
     ]
    },
    {
     "name": "stdout",
     "output_type": "stream",
     "text": [
      "{'epoch': 1, 'iter': 4690, 'avg_loss': 5.669165932174127, 'avg_acc': 49.84544873161373, 'loss': 5.842950344085693}\n"
     ]
    },
    {
     "name": "stderr",
     "output_type": "stream",
     "text": [
      "EP_train:1:  68%|| 4702/6926 [07:46<03:28, 10.68it/s]"
     ]
    },
    {
     "name": "stdout",
     "output_type": "stream",
     "text": [
      "{'epoch': 1, 'iter': 4700, 'avg_loss': 5.669130218001128, 'avg_acc': 49.8497660072325, 'loss': 5.190079212188721}\n"
     ]
    },
    {
     "name": "stderr",
     "output_type": "stream",
     "text": [
      "EP_train:1:  68%|| 4712/6926 [07:47<03:32, 10.41it/s]"
     ]
    },
    {
     "name": "stdout",
     "output_type": "stream",
     "text": [
      "{'epoch': 1, 'iter': 4710, 'avg_loss': 5.668653346353011, 'avg_acc': 49.85008490766292, 'loss': 5.514009952545166}\n"
     ]
    },
    {
     "name": "stderr",
     "output_type": "stream",
     "text": [
      "EP_train:1:  68%|| 4723/6926 [07:48<03:43,  9.87it/s]"
     ]
    },
    {
     "name": "stdout",
     "output_type": "stream",
     "text": [
      "{'epoch': 1, 'iter': 4720, 'avg_loss': 5.668336734254591, 'avg_acc': 49.854374073289556, 'loss': 5.419562339782715}\n"
     ]
    },
    {
     "name": "stderr",
     "output_type": "stream",
     "text": [
      "EP_train:1:  68%|| 4732/6926 [07:49<04:03,  9.02it/s]"
     ]
    },
    {
     "name": "stdout",
     "output_type": "stream",
     "text": [
      "{'epoch': 1, 'iter': 4730, 'avg_loss': 5.668011710699707, 'avg_acc': 49.84675544282393, 'loss': 5.129270076751709}\n"
     ]
    },
    {
     "name": "stderr",
     "output_type": "stream",
     "text": [
      "EP_train:1:  68%|| 4742/6926 [07:50<03:42,  9.82it/s]"
     ]
    },
    {
     "name": "stdout",
     "output_type": "stream",
     "text": [
      "{'epoch': 1, 'iter': 4740, 'avg_loss': 5.667631631761481, 'avg_acc': 49.84707867538494, 'loss': 5.245696544647217}\n"
     ]
    },
    {
     "name": "stderr",
     "output_type": "stream",
     "text": [
      "EP_train:1:  69%|| 4752/6926 [07:51<03:48,  9.52it/s]"
     ]
    },
    {
     "name": "stdout",
     "output_type": "stream",
     "text": [
      "{'epoch': 1, 'iter': 4750, 'avg_loss': 5.667532280203519, 'avg_acc': 49.85200484108609, 'loss': 5.388228416442871}\n"
     ]
    },
    {
     "name": "stderr",
     "output_type": "stream",
     "text": [
      "EP_train:1:  69%|| 4762/6926 [07:52<03:32, 10.19it/s]"
     ]
    },
    {
     "name": "stdout",
     "output_type": "stream",
     "text": [
      "{'epoch': 1, 'iter': 4760, 'avg_loss': 5.667047301602699, 'avg_acc': 49.85362843940349, 'loss': 4.9763007164001465}\n"
     ]
    },
    {
     "name": "stderr",
     "output_type": "stream",
     "text": [
      "EP_train:1:  69%|| 4772/6926 [07:53<03:30, 10.22it/s]"
     ]
    },
    {
     "name": "stdout",
     "output_type": "stream",
     "text": [
      "{'epoch': 1, 'iter': 4770, 'avg_loss': 5.666901069226142, 'avg_acc': 49.85524523160763, 'loss': 5.649563312530518}\n"
     ]
    },
    {
     "name": "stderr",
     "output_type": "stream",
     "text": [
      "EP_train:1:  69%|| 4782/6926 [07:54<03:35,  9.96it/s]"
     ]
    },
    {
     "name": "stdout",
     "output_type": "stream",
     "text": [
      "{'epoch': 1, 'iter': 4780, 'avg_loss': 5.666687848502636, 'avg_acc': 49.85620163145785, 'loss': 5.954357624053955}\n"
     ]
    },
    {
     "name": "stderr",
     "output_type": "stream",
     "text": [
      "EP_train:1:  69%|| 4793/6926 [07:55<03:26, 10.35it/s]"
     ]
    },
    {
     "name": "stdout",
     "output_type": "stream",
     "text": [
      "{'epoch': 1, 'iter': 4790, 'avg_loss': 5.666223655386973, 'avg_acc': 49.8512836568566, 'loss': 5.32567024230957}\n"
     ]
    },
    {
     "name": "stderr",
     "output_type": "stream",
     "text": [
      "EP_train:1:  69%|| 4803/6926 [07:56<03:23, 10.45it/s]"
     ]
    },
    {
     "name": "stdout",
     "output_type": "stream",
     "text": [
      "{'epoch': 1, 'iter': 4800, 'avg_loss': 5.666380451113402, 'avg_acc': 49.856149760466565, 'loss': 5.844900131225586}\n"
     ]
    },
    {
     "name": "stderr",
     "output_type": "stream",
     "text": [
      "EP_train:1:  69%|| 4811/6926 [07:57<03:24, 10.34it/s]"
     ]
    },
    {
     "name": "stdout",
     "output_type": "stream",
     "text": [
      "{'epoch': 1, 'iter': 4810, 'avg_loss': 5.665844231428909, 'avg_acc': 49.850602785283726, 'loss': 5.266877174377441}\n"
     ]
    },
    {
     "name": "stderr",
     "output_type": "stream",
     "text": [
      "EP_train:1:  70%|| 4821/6926 [07:58<03:24, 10.27it/s]"
     ]
    },
    {
     "name": "stdout",
     "output_type": "stream",
     "text": [
      "{'epoch': 1, 'iter': 4820, 'avg_loss': 5.666123161719464, 'avg_acc': 49.863876789047914, 'loss': 5.715150833129883}\n"
     ]
    },
    {
     "name": "stderr",
     "output_type": "stream",
     "text": [
      "EP_train:1:  70%|| 4833/6926 [07:59<03:31,  9.91it/s]"
     ]
    },
    {
     "name": "stdout",
     "output_type": "stream",
     "text": [
      "{'epoch': 1, 'iter': 4830, 'avg_loss': 5.6660248938615565, 'avg_acc': 49.865452287311115, 'loss': 6.089724063873291}\n"
     ]
    },
    {
     "name": "stderr",
     "output_type": "stream",
     "text": [
      "EP_train:1:  70%|| 4843/6926 [08:00<03:19, 10.47it/s]"
     ]
    },
    {
     "name": "stdout",
     "output_type": "stream",
     "text": [
      "{'epoch': 1, 'iter': 4840, 'avg_loss': 5.6656459925761276, 'avg_acc': 49.85992047097707, 'loss': 5.715431213378906}\n"
     ]
    },
    {
     "name": "stderr",
     "output_type": "stream",
     "text": [
      "EP_train:1:  70%|| 4853/6926 [08:01<03:23, 10.17it/s]"
     ]
    },
    {
     "name": "stdout",
     "output_type": "stream",
     "text": [
      "{'epoch': 1, 'iter': 4850, 'avg_loss': 5.6653702886687975, 'avg_acc': 49.85634405277262, 'loss': 5.567540645599365}\n"
     ]
    },
    {
     "name": "stderr",
     "output_type": "stream",
     "text": [
      "EP_train:1:  70%|| 4863/6926 [08:02<03:27,  9.93it/s]"
     ]
    },
    {
     "name": "stdout",
     "output_type": "stream",
     "text": [
      "{'epoch': 1, 'iter': 4860, 'avg_loss': 5.665168420544036, 'avg_acc': 49.856639580333265, 'loss': 5.676436901092529}\n"
     ]
    },
    {
     "name": "stderr",
     "output_type": "stream",
     "text": [
      "EP_train:1:  70%|| 4873/6926 [08:03<03:23, 10.10it/s]"
     ]
    },
    {
     "name": "stdout",
     "output_type": "stream",
     "text": [
      "{'epoch': 1, 'iter': 4870, 'avg_loss': 5.6649270144803054, 'avg_acc': 49.8511599260932, 'loss': 5.8596577644348145}\n"
     ]
    },
    {
     "name": "stderr",
     "output_type": "stream",
     "text": [
      "EP_train:1:  70%|| 4881/6926 [08:04<03:21, 10.17it/s]"
     ]
    },
    {
     "name": "stdout",
     "output_type": "stream",
     "text": [
      "{'epoch': 1, 'iter': 4880, 'avg_loss': 5.664803579580928, 'avg_acc': 49.84762343782012, 'loss': 5.827737331390381}\n"
     ]
    },
    {
     "name": "stderr",
     "output_type": "stream",
     "text": [
      "EP_train:1:  71%|| 4892/6926 [08:05<03:24,  9.94it/s]"
     ]
    },
    {
     "name": "stdout",
     "output_type": "stream",
     "text": [
      "{'epoch': 1, 'iter': 4890, 'avg_loss': 5.6646309357141815, 'avg_acc': 49.8409067675322, 'loss': 5.645914077758789}\n"
     ]
    },
    {
     "name": "stderr",
     "output_type": "stream",
     "text": [
      "EP_train:1:  71%|| 4903/6926 [08:06<03:23,  9.92it/s]"
     ]
    },
    {
     "name": "stdout",
     "output_type": "stream",
     "text": [
      "{'epoch': 1, 'iter': 4900, 'avg_loss': 5.664398838028424, 'avg_acc': 49.84441950622322, 'loss': 5.385025978088379}\n"
     ]
    },
    {
     "name": "stderr",
     "output_type": "stream",
     "text": [
      "EP_train:1:  71%|| 4913/6926 [08:07<03:15, 10.29it/s]"
     ]
    },
    {
     "name": "stdout",
     "output_type": "stream",
     "text": [
      "{'epoch': 1, 'iter': 4910, 'avg_loss': 5.664408564446196, 'avg_acc': 49.84409997963755, 'loss': 6.399174213409424}\n"
     ]
    },
    {
     "name": "stderr",
     "output_type": "stream",
     "text": [
      "EP_train:1:  71%|| 4921/6926 [08:08<03:16, 10.20it/s]"
     ]
    },
    {
     "name": "stdout",
     "output_type": "stream",
     "text": [
      "{'epoch': 1, 'iter': 4920, 'avg_loss': 5.6644004100077865, 'avg_acc': 49.83171611461085, 'loss': 5.676124095916748}\n"
     ]
    },
    {
     "name": "stderr",
     "output_type": "stream",
     "text": [
      "EP_train:1:  71%|| 4933/6926 [08:09<03:21,  9.90it/s]"
     ]
    },
    {
     "name": "stdout",
     "output_type": "stream",
     "text": [
      "{'epoch': 1, 'iter': 4930, 'avg_loss': 5.664444746823176, 'avg_acc': 49.836493611843444, 'loss': 5.3769307136535645}\n"
     ]
    },
    {
     "name": "stderr",
     "output_type": "stream",
     "text": [
      "EP_train:1:  71%|| 4942/6926 [08:10<03:14, 10.18it/s]"
     ]
    },
    {
     "name": "stdout",
     "output_type": "stream",
     "text": [
      "{'epoch': 1, 'iter': 4940, 'avg_loss': 5.6642077579548475, 'avg_acc': 49.83302975106253, 'loss': 5.4061665534973145}\n"
     ]
    },
    {
     "name": "stderr",
     "output_type": "stream",
     "text": [
      "EP_train:1:  72%|| 4953/6926 [08:11<03:17,  9.98it/s]"
     ]
    },
    {
     "name": "stdout",
     "output_type": "stream",
     "text": [
      "{'epoch': 1, 'iter': 4950, 'avg_loss': 5.663640962179635, 'avg_acc': 49.83399818218542, 'loss': 5.844542503356934}\n"
     ]
    },
    {
     "name": "stderr",
     "output_type": "stream",
     "text": [
      "EP_train:1:  72%|| 4963/6926 [08:12<03:12, 10.19it/s]"
     ]
    },
    {
     "name": "stdout",
     "output_type": "stream",
     "text": [
      "{'epoch': 1, 'iter': 4960, 'avg_loss': 5.6632919561428015, 'avg_acc': 49.85008062890547, 'loss': 5.277290344238281}\n"
     ]
    },
    {
     "name": "stderr",
     "output_type": "stream",
     "text": [
      "EP_train:1:  72%|| 4973/6926 [08:13<03:14, 10.06it/s]"
     ]
    },
    {
     "name": "stdout",
     "output_type": "stream",
     "text": [
      "{'epoch': 1, 'iter': 4970, 'avg_loss': 5.663203622944229, 'avg_acc': 49.84723898611949, 'loss': 5.427474021911621}\n"
     ]
    },
    {
     "name": "stderr",
     "output_type": "stream",
     "text": [
      "EP_train:1:  72%|| 4983/6926 [08:14<03:11, 10.12it/s]"
     ]
    },
    {
     "name": "stdout",
     "output_type": "stream",
     "text": [
      "{'epoch': 1, 'iter': 4980, 'avg_loss': 5.663122947664535, 'avg_acc': 49.84252660108412, 'loss': 5.455278396606445}\n"
     ]
    },
    {
     "name": "stderr",
     "output_type": "stream",
     "text": [
      "EP_train:1:  72%|| 4992/6926 [08:15<03:16,  9.84it/s]"
     ]
    },
    {
     "name": "stdout",
     "output_type": "stream",
     "text": [
      "{'epoch': 1, 'iter': 4990, 'avg_loss': 5.662899324875322, 'avg_acc': 49.84284211580846, 'loss': 5.722769260406494}\n"
     ]
    },
    {
     "name": "stderr",
     "output_type": "stream",
     "text": [
      "EP_train:1:  72%|| 5002/6926 [08:16<03:09, 10.15it/s]"
     ]
    },
    {
     "name": "stdout",
     "output_type": "stream",
     "text": [
      "{'epoch': 1, 'iter': 5000, 'avg_loss': 5.6626983191389675, 'avg_acc': 49.84003199360128, 'loss': 5.423755645751953}\n"
     ]
    },
    {
     "name": "stderr",
     "output_type": "stream",
     "text": [
      "EP_train:1:  72%|| 5013/6926 [08:17<03:02, 10.51it/s]"
     ]
    },
    {
     "name": "stdout",
     "output_type": "stream",
     "text": [
      "{'epoch': 1, 'iter': 5010, 'avg_loss': 5.662602535861382, 'avg_acc': 49.8440929954101, 'loss': 5.578890323638916}\n"
     ]
    },
    {
     "name": "stderr",
     "output_type": "stream",
     "text": [
      "EP_train:1:  73%|| 5023/6926 [08:18<02:59, 10.62it/s]"
     ]
    },
    {
     "name": "stdout",
     "output_type": "stream",
     "text": [
      "{'epoch': 1, 'iter': 5020, 'avg_loss': 5.662335183558248, 'avg_acc': 49.84938259310894, 'loss': 5.522495746612549}\n"
     ]
    },
    {
     "name": "stderr",
     "output_type": "stream",
     "text": [
      "EP_train:1:  73%|| 5031/6926 [08:19<03:02, 10.41it/s]"
     ]
    },
    {
     "name": "stdout",
     "output_type": "stream",
     "text": [
      "{'epoch': 1, 'iter': 5030, 'avg_loss': 5.66237722223214, 'avg_acc': 49.85899920492944, 'loss': 5.588624954223633}\n"
     ]
    },
    {
     "name": "stderr",
     "output_type": "stream",
     "text": [
      "EP_train:1:  73%|| 5041/6926 [08:20<03:02, 10.34it/s]"
     ]
    },
    {
     "name": "stdout",
     "output_type": "stream",
     "text": [
      "{'epoch': 1, 'iter': 5040, 'avg_loss': 5.662348211485582, 'avg_acc': 49.85431957944852, 'loss': 5.644343376159668}\n"
     ]
    },
    {
     "name": "stderr",
     "output_type": "stream",
     "text": [
      "EP_train:1:  73%|| 5053/6926 [08:21<03:07, 10.00it/s]"
     ]
    },
    {
     "name": "stdout",
     "output_type": "stream",
     "text": [
      "{'epoch': 1, 'iter': 5050, 'avg_loss': 5.662430171800401, 'avg_acc': 49.85275193031083, 'loss': 5.269864082336426}\n"
     ]
    },
    {
     "name": "stderr",
     "output_type": "stream",
     "text": [
      "EP_train:1:  73%|| 5063/6926 [08:22<03:03, 10.17it/s]"
     ]
    },
    {
     "name": "stdout",
     "output_type": "stream",
     "text": [
      "{'epoch': 1, 'iter': 5060, 'avg_loss': 5.66260129881103, 'avg_acc': 49.84563327405651, 'loss': 5.789425849914551}\n"
     ]
    },
    {
     "name": "stderr",
     "output_type": "stream",
     "text": [
      "EP_train:1:  73%|| 5073/6926 [08:23<03:04, 10.03it/s]"
     ]
    },
    {
     "name": "stdout",
     "output_type": "stream",
     "text": [
      "{'epoch': 1, 'iter': 5070, 'avg_loss': 5.662591209874259, 'avg_acc': 49.842240189311774, 'loss': 5.806297779083252}\n"
     ]
    },
    {
     "name": "stderr",
     "output_type": "stream",
     "text": [
      "EP_train:1:  73%|| 5083/6926 [08:24<03:06,  9.88it/s]"
     ]
    },
    {
     "name": "stdout",
     "output_type": "stream",
     "text": [
      "{'epoch': 1, 'iter': 5080, 'avg_loss': 5.662614512035308, 'avg_acc': 49.841320606179885, 'loss': 5.455507278442383}\n"
     ]
    },
    {
     "name": "stderr",
     "output_type": "stream",
     "text": [
      "EP_train:1:  74%|| 5091/6926 [08:25<03:00, 10.17it/s]"
     ]
    },
    {
     "name": "stdout",
     "output_type": "stream",
     "text": [
      "{'epoch': 1, 'iter': 5090, 'avg_loss': 5.662430539858924, 'avg_acc': 49.841632292280494, 'loss': 5.604500770568848}\n"
     ]
    },
    {
     "name": "stderr",
     "output_type": "stream",
     "text": [
      "EP_train:1:  74%|| 5103/6926 [08:26<03:01, 10.07it/s]"
     ]
    },
    {
     "name": "stdout",
     "output_type": "stream",
     "text": [
      "{'epoch': 1, 'iter': 5100, 'avg_loss': 5.662179080347668, 'avg_acc': 49.84929425602823, 'loss': 5.715016841888428}\n"
     ]
    },
    {
     "name": "stderr",
     "output_type": "stream",
     "text": [
      "EP_train:1:  74%|| 5113/6926 [08:27<02:54, 10.42it/s]"
     ]
    },
    {
     "name": "stdout",
     "output_type": "stream",
     "text": [
      "{'epoch': 1, 'iter': 5110, 'avg_loss': 5.662323336245799, 'avg_acc': 49.858149090197614, 'loss': 5.393422603607178}\n"
     ]
    },
    {
     "name": "stderr",
     "output_type": "stream",
     "text": [
      "EP_train:1:  74%|| 5123/6926 [08:28<02:59, 10.07it/s]"
     ]
    },
    {
     "name": "stdout",
     "output_type": "stream",
     "text": [
      "{'epoch': 1, 'iter': 5120, 'avg_loss': 5.661978631391118, 'avg_acc': 49.85842608865456, 'loss': 5.810142517089844}\n"
     ]
    },
    {
     "name": "stderr",
     "output_type": "stream",
     "text": [
      "EP_train:1:  74%|| 5133/6926 [08:29<02:57, 10.10it/s]"
     ]
    },
    {
     "name": "stdout",
     "output_type": "stream",
     "text": [
      "{'epoch': 1, 'iter': 5130, 'avg_loss': 5.661599797594736, 'avg_acc': 49.85626583511986, 'loss': 5.414487361907959}\n"
     ]
    },
    {
     "name": "stderr",
     "output_type": "stream",
     "text": [
      "EP_train:1:  74%|| 5141/6926 [08:30<02:56, 10.09it/s]"
     ]
    },
    {
     "name": "stdout",
     "output_type": "stream",
     "text": [
      "{'epoch': 1, 'iter': 5140, 'avg_loss': 5.6613495626748245, 'avg_acc': 49.85593756078584, 'loss': 5.59956169128418}\n"
     ]
    },
    {
     "name": "stderr",
     "output_type": "stream",
     "text": [
      "EP_train:1:  74%|| 5152/6926 [08:31<03:00,  9.83it/s]"
     ]
    },
    {
     "name": "stdout",
     "output_type": "stream",
     "text": [
      "{'epoch': 1, 'iter': 5150, 'avg_loss': 5.661186971703309, 'avg_acc': 49.85864395263056, 'loss': 5.418941497802734}\n"
     ]
    },
    {
     "name": "stderr",
     "output_type": "stream",
     "text": [
      "EP_train:1:  75%|| 5162/6926 [08:32<02:56,  9.99it/s]"
     ]
    },
    {
     "name": "stdout",
     "output_type": "stream",
     "text": [
      "{'epoch': 1, 'iter': 5160, 'avg_loss': 5.6611763075141335, 'avg_acc': 49.8607343538074, 'loss': 6.055071830749512}\n"
     ]
    },
    {
     "name": "stderr",
     "output_type": "stream",
     "text": [
      "EP_train:1:  75%|| 5172/6926 [08:33<02:52, 10.19it/s]"
     ]
    },
    {
     "name": "stdout",
     "output_type": "stream",
     "text": [
      "{'epoch': 1, 'iter': 5170, 'avg_loss': 5.66123908254446, 'avg_acc': 49.86885998839683, 'loss': 5.801239013671875}\n"
     ]
    },
    {
     "name": "stderr",
     "output_type": "stream",
     "text": [
      "EP_train:1:  75%|| 5182/6926 [08:34<02:47, 10.40it/s]"
     ]
    },
    {
     "name": "stdout",
     "output_type": "stream",
     "text": [
      "{'epoch': 1, 'iter': 5180, 'avg_loss': 5.661108139651412, 'avg_acc': 49.87273209805057, 'loss': 5.131347179412842}\n"
     ]
    },
    {
     "name": "stderr",
     "output_type": "stream",
     "text": [
      "EP_train:1:  75%|| 5192/6926 [08:35<02:51, 10.13it/s]"
     ]
    },
    {
     "name": "stdout",
     "output_type": "stream",
     "text": [
      "{'epoch': 1, 'iter': 5190, 'avg_loss': 5.660893340672034, 'avg_acc': 49.880201309959546, 'loss': 5.522928237915039}\n"
     ]
    },
    {
     "name": "stderr",
     "output_type": "stream",
     "text": [
      "EP_train:1:  75%|| 5202/6926 [08:36<02:54,  9.90it/s]"
     ]
    },
    {
     "name": "stdout",
     "output_type": "stream",
     "text": [
      "{'epoch': 1, 'iter': 5200, 'avg_loss': 5.660870853146093, 'avg_acc': 49.87141895789271, 'loss': 5.63393497467041}\n"
     ]
    },
    {
     "name": "stderr",
     "output_type": "stream",
     "text": [
      "EP_train:1:  75%|| 5213/6926 [08:37<02:51, 10.00it/s]"
     ]
    },
    {
     "name": "stdout",
     "output_type": "stream",
     "text": [
      "{'epoch': 1, 'iter': 5210, 'avg_loss': 5.660897518206274, 'avg_acc': 49.86446939167146, 'loss': 5.559563159942627}\n"
     ]
    },
    {
     "name": "stderr",
     "output_type": "stream",
     "text": [
      "EP_train:1:  75%|| 5223/6926 [08:38<02:47, 10.14it/s]"
     ]
    },
    {
     "name": "stdout",
     "output_type": "stream",
     "text": [
      "{'epoch': 1, 'iter': 5220, 'avg_loss': 5.660680084615757, 'avg_acc': 49.87071442252442, 'loss': 5.182131290435791}\n"
     ]
    },
    {
     "name": "stderr",
     "output_type": "stream",
     "text": [
      "EP_train:1:  76%|| 5232/6926 [08:39<02:54,  9.73it/s]"
     ]
    },
    {
     "name": "stdout",
     "output_type": "stream",
     "text": [
      "{'epoch': 1, 'iter': 5230, 'avg_loss': 5.6607807997512305, 'avg_acc': 49.86439017396292, 'loss': 5.953693866729736}\n"
     ]
    },
    {
     "name": "stderr",
     "output_type": "stream",
     "text": [
      "EP_train:1:  76%|| 5243/6926 [08:40<02:51,  9.79it/s]"
     ]
    },
    {
     "name": "stdout",
     "output_type": "stream",
     "text": [
      "{'epoch': 1, 'iter': 5240, 'avg_loss': 5.660692375822164, 'avg_acc': 49.870611524518225, 'loss': 6.022209644317627}\n"
     ]
    },
    {
     "name": "stderr",
     "output_type": "stream",
     "text": [
      "EP_train:1:  76%|| 5253/6926 [08:41<02:42, 10.29it/s]"
     ]
    },
    {
     "name": "stdout",
     "output_type": "stream",
     "text": [
      "{'epoch': 1, 'iter': 5250, 'avg_loss': 5.660283206190706, 'avg_acc': 49.874428680251384, 'loss': 5.403936386108398}\n"
     ]
    },
    {
     "name": "stderr",
     "output_type": "stream",
     "text": [
      "EP_train:1:  76%|| 5263/6926 [08:42<02:40, 10.36it/s]"
     ]
    },
    {
     "name": "stdout",
     "output_type": "stream",
     "text": [
      "{'epoch': 1, 'iter': 5260, 'avg_loss': 5.659981962710455, 'avg_acc': 49.86813343470823, 'loss': 5.83424711227417}\n"
     ]
    },
    {
     "name": "stderr",
     "output_type": "stream",
     "text": [
      "EP_train:1:  76%|| 5271/6926 [08:43<02:45,  9.99it/s]"
     ]
    },
    {
     "name": "stdout",
     "output_type": "stream",
     "text": [
      "{'epoch': 1, 'iter': 5270, 'avg_loss': 5.65971101427232, 'avg_acc': 49.86779074179473, 'loss': 5.277814865112305}\n"
     ]
    },
    {
     "name": "stderr",
     "output_type": "stream",
     "text": [
      "EP_train:1:  76%|| 5283/6926 [08:44<02:48,  9.76it/s]"
     ]
    },
    {
     "name": "stdout",
     "output_type": "stream",
     "text": [
      "{'epoch': 1, 'iter': 5280, 'avg_loss': 5.6596261043256035, 'avg_acc': 49.87336678659345, 'loss': 5.728073596954346}\n"
     ]
    },
    {
     "name": "stderr",
     "output_type": "stream",
     "text": [
      "EP_train:1:  76%|| 5291/6926 [08:45<02:40, 10.16it/s]"
     ]
    },
    {
     "name": "stdout",
     "output_type": "stream",
     "text": [
      "{'epoch': 1, 'iter': 5290, 'avg_loss': 5.659551911938959, 'avg_acc': 49.870652995652996, 'loss': 5.999574661254883}\n"
     ]
    },
    {
     "name": "stderr",
     "output_type": "stream",
     "text": [
      "EP_train:1:  77%|| 5302/6926 [08:46<02:45,  9.84it/s]"
     ]
    },
    {
     "name": "stdout",
     "output_type": "stream",
     "text": [
      "{'epoch': 1, 'iter': 5300, 'avg_loss': 5.6597236766610095, 'avg_acc': 49.869717977740045, 'loss': 5.541435718536377}\n"
     ]
    },
    {
     "name": "stderr",
     "output_type": "stream",
     "text": [
      "EP_train:1:  77%|| 5312/6926 [08:47<02:38, 10.16it/s]"
     ]
    },
    {
     "name": "stdout",
     "output_type": "stream",
     "text": [
      "{'epoch': 1, 'iter': 5310, 'avg_loss': 5.659764083804125, 'avg_acc': 49.87349369233666, 'loss': 5.75244665145874}\n"
     ]
    },
    {
     "name": "stderr",
     "output_type": "stream",
     "text": [
      "EP_train:1:  77%|| 5323/6926 [08:48<02:39, 10.04it/s]"
     ]
    },
    {
     "name": "stdout",
     "output_type": "stream",
     "text": [
      "{'epoch': 1, 'iter': 5320, 'avg_loss': 5.659589115871206, 'avg_acc': 49.87079496335276, 'loss': 6.009926795959473}\n"
     ]
    },
    {
     "name": "stderr",
     "output_type": "stream",
     "text": [
      "EP_train:1:  77%|| 5333/6926 [08:49<02:38, 10.07it/s]"
     ]
    },
    {
     "name": "stdout",
     "output_type": "stream",
     "text": [
      "{'epoch': 1, 'iter': 5330, 'avg_loss': 5.659588948487564, 'avg_acc': 49.87220971675107, 'loss': 6.172287940979004}\n"
     ]
    },
    {
     "name": "stderr",
     "output_type": "stream",
     "text": [
      "EP_train:1:  77%|| 5343/6926 [08:50<02:36, 10.09it/s]"
     ]
    },
    {
     "name": "stdout",
     "output_type": "stream",
     "text": [
      "{'epoch': 1, 'iter': 5340, 'avg_loss': 5.659732344980388, 'avg_acc': 49.870108593896276, 'loss': 5.866830348968506}\n"
     ]
    },
    {
     "name": "stderr",
     "output_type": "stream",
     "text": [
      "EP_train:1:  77%|| 5353/6926 [08:51<02:31, 10.41it/s]"
     ]
    },
    {
     "name": "stdout",
     "output_type": "stream",
     "text": [
      "{'epoch': 1, 'iter': 5350, 'avg_loss': 5.659226383857249, 'avg_acc': 49.86743132124836, 'loss': 5.2566938400268555}\n"
     ]
    },
    {
     "name": "stderr",
     "output_type": "stream",
     "text": [
      "EP_train:1:  77%|| 5363/6926 [08:52<02:28, 10.53it/s]"
     ]
    },
    {
     "name": "stdout",
     "output_type": "stream",
     "text": [
      "{'epoch': 1, 'iter': 5360, 'avg_loss': 5.65895528211631, 'avg_acc': 49.864764036560345, 'loss': 6.15781831741333}\n"
     ]
    },
    {
     "name": "stderr",
     "output_type": "stream",
     "text": [
      "EP_train:1:  78%|| 5373/6926 [08:53<02:32, 10.20it/s]"
     ]
    },
    {
     "name": "stdout",
     "output_type": "stream",
     "text": [
      "{'epoch': 1, 'iter': 5370, 'avg_loss': 5.658738679269732, 'avg_acc': 49.87316142245392, 'loss': 5.268874168395996}\n"
     ]
    },
    {
     "name": "stderr",
     "output_type": "stream",
     "text": [
      "EP_train:1:  78%|| 5383/6926 [08:54<02:32, 10.14it/s]"
     ]
    },
    {
     "name": "stdout",
     "output_type": "stream",
     "text": [
      "{'epoch': 1, 'iter': 5380, 'avg_loss': 5.658577448460853, 'avg_acc': 49.873397138078424, 'loss': 5.428093433380127}\n"
     ]
    },
    {
     "name": "stderr",
     "output_type": "stream",
     "text": [
      "EP_train:1:  78%|| 5393/6926 [08:55<02:31, 10.11it/s]"
     ]
    },
    {
     "name": "stdout",
     "output_type": "stream",
     "text": [
      "{'epoch': 1, 'iter': 5390, 'avg_loss': 5.658310224164773, 'avg_acc': 49.87942867742534, 'loss': 5.738194465637207}\n"
     ]
    },
    {
     "name": "stderr",
     "output_type": "stream",
     "text": [
      "EP_train:1:  78%|| 5401/6926 [08:55<02:30, 10.13it/s]"
     ]
    },
    {
     "name": "stdout",
     "output_type": "stream",
     "text": [
      "{'epoch': 1, 'iter': 5400, 'avg_loss': 5.658008125618064, 'avg_acc': 49.87328735419367, 'loss': 5.386819362640381}\n"
     ]
    },
    {
     "name": "stderr",
     "output_type": "stream",
     "text": [
      "EP_train:1:  78%|| 5412/6926 [08:57<02:30, 10.04it/s]"
     ]
    },
    {
     "name": "stdout",
     "output_type": "stream",
     "text": [
      "{'epoch': 1, 'iter': 5410, 'avg_loss': 5.657859586959977, 'avg_acc': 49.871788948438365, 'loss': 5.708024978637695}\n"
     ]
    },
    {
     "name": "stderr",
     "output_type": "stream",
     "text": [
      "EP_train:1:  78%|| 5422/6926 [08:57<02:27, 10.18it/s]"
     ]
    },
    {
     "name": "stdout",
     "output_type": "stream",
     "text": [
      "{'epoch': 1, 'iter': 5420, 'avg_loss': 5.657687854115934, 'avg_acc': 49.87433130418742, 'loss': 5.696813106536865}\n"
     ]
    },
    {
     "name": "stderr",
     "output_type": "stream",
     "text": [
      "EP_train:1:  78%|| 5432/6926 [08:58<02:25, 10.23it/s]"
     ]
    },
    {
     "name": "stdout",
     "output_type": "stream",
     "text": [
      "{'epoch': 1, 'iter': 5430, 'avg_loss': 5.657550428787706, 'avg_acc': 49.879165899466024, 'loss': 5.313795566558838}\n"
     ]
    },
    {
     "name": "stderr",
     "output_type": "stream",
     "text": [
      "EP_train:1:  79%|| 5442/6926 [08:59<02:27, 10.06it/s]"
     ]
    },
    {
     "name": "stdout",
     "output_type": "stream",
     "text": [
      "{'epoch': 1, 'iter': 5440, 'avg_loss': 5.657337350149493, 'avg_acc': 49.87077283587576, 'loss': 5.680750846862793}\n"
     ]
    },
    {
     "name": "stderr",
     "output_type": "stream",
     "text": [
      "EP_train:1:  79%|| 5453/6926 [09:01<02:23, 10.26it/s]"
     ]
    },
    {
     "name": "stdout",
     "output_type": "stream",
     "text": [
      "{'epoch': 1, 'iter': 5450, 'avg_loss': 5.657198708771653, 'avg_acc': 49.87043661713447, 'loss': 5.721607685089111}\n"
     ]
    },
    {
     "name": "stderr",
     "output_type": "stream",
     "text": [
      "EP_train:1:  79%|| 5463/6926 [09:02<02:22, 10.27it/s]"
     ]
    },
    {
     "name": "stdout",
     "output_type": "stream",
     "text": [
      "{'epoch': 1, 'iter': 5460, 'avg_loss': 5.65733297708117, 'avg_acc': 49.867240432155285, 'loss': 6.057679653167725}\n"
     ]
    },
    {
     "name": "stderr",
     "output_type": "stream",
     "text": [
      "EP_train:1:  79%|| 5471/6926 [09:02<02:24, 10.09it/s]"
     ]
    },
    {
     "name": "stdout",
     "output_type": "stream",
     "text": [
      "{'epoch': 1, 'iter': 5470, 'avg_loss': 5.656952733423522, 'avg_acc': 49.86234235057576, 'loss': 5.356465816497803}\n"
     ]
    },
    {
     "name": "stderr",
     "output_type": "stream",
     "text": [
      "EP_train:1:  79%|| 5483/6926 [09:03<02:22, 10.12it/s]"
     ]
    },
    {
     "name": "stdout",
     "output_type": "stream",
     "text": [
      "{'epoch': 1, 'iter': 5480, 'avg_loss': 5.65667816035788, 'avg_acc': 49.8660144134282, 'loss': 5.378112316131592}\n"
     ]
    },
    {
     "name": "stderr",
     "output_type": "stream",
     "text": [
      "EP_train:1:  79%|| 5493/6926 [09:04<02:21, 10.16it/s]"
     ]
    },
    {
     "name": "stdout",
     "output_type": "stream",
     "text": [
      "{'epoch': 1, 'iter': 5490, 'avg_loss': 5.656639930611859, 'avg_acc': 49.858859952649794, 'loss': 5.66177225112915}\n"
     ]
    },
    {
     "name": "stderr",
     "output_type": "stream",
     "text": [
      "EP_train:1:  79%|| 5501/6926 [09:05<02:21, 10.07it/s]"
     ]
    },
    {
     "name": "stdout",
     "output_type": "stream",
     "text": [
      "{'epoch': 1, 'iter': 5500, 'avg_loss': 5.656658309218104, 'avg_acc': 49.8642292310489, 'loss': 5.091048717498779}\n"
     ]
    },
    {
     "name": "stderr",
     "output_type": "stream",
     "text": [
      "EP_train:1:  80%|| 5513/6926 [09:06<02:25,  9.71it/s]"
     ]
    },
    {
     "name": "stdout",
     "output_type": "stream",
     "text": [
      "{'epoch': 1, 'iter': 5510, 'avg_loss': 5.656336751223865, 'avg_acc': 49.85937216476138, 'loss': 5.755399227142334}\n"
     ]
    },
    {
     "name": "stderr",
     "output_type": "stream",
     "text": [
      "EP_train:1:  80%|| 5523/6926 [09:07<02:17, 10.19it/s]"
     ]
    },
    {
     "name": "stdout",
     "output_type": "stream",
     "text": [
      "{'epoch': 1, 'iter': 5520, 'avg_loss': 5.656316678520994, 'avg_acc': 49.86245698243072, 'loss': 5.755700588226318}\n"
     ]
    },
    {
     "name": "stderr",
     "output_type": "stream",
     "text": [
      "EP_train:1:  80%|| 5533/6926 [09:08<02:16, 10.21it/s]"
     ]
    },
    {
     "name": "stdout",
     "output_type": "stream",
     "text": [
      "{'epoch': 1, 'iter': 5530, 'avg_loss': 5.656184674861137, 'avg_acc': 49.86835563189297, 'loss': 5.457433700561523}\n"
     ]
    },
    {
     "name": "stderr",
     "output_type": "stream",
     "text": [
      "EP_train:1:  80%|| 5543/6926 [09:09<02:16, 10.13it/s]"
     ]
    },
    {
     "name": "stdout",
     "output_type": "stream",
     "text": [
      "{'epoch': 1, 'iter': 5540, 'avg_loss': 5.655712139733408, 'avg_acc': 49.86859321422126, 'loss': 5.607250213623047}\n"
     ]
    },
    {
     "name": "stderr",
     "output_type": "stream",
     "text": [
      "EP_train:1:  80%|| 5552/6926 [09:10<02:13, 10.27it/s]"
     ]
    },
    {
     "name": "stdout",
     "output_type": "stream",
     "text": [
      "{'epoch': 1, 'iter': 5550, 'avg_loss': 5.655587745258302, 'avg_acc': 49.87671140335075, 'loss': 5.062724590301514}\n"
     ]
    },
    {
     "name": "stderr",
     "output_type": "stream",
     "text": [
      "EP_train:1:  80%|| 5562/6926 [09:11<02:10, 10.43it/s]"
     ]
    },
    {
     "name": "stdout",
     "output_type": "stream",
     "text": [
      "{'epoch': 1, 'iter': 5560, 'avg_loss': 5.655282633571697, 'avg_acc': 49.87918090271533, 'loss': 5.3256425857543945}\n"
     ]
    },
    {
     "name": "stderr",
     "output_type": "stream",
     "text": [
      "EP_train:1:  80%|| 5572/6926 [09:12<02:11, 10.26it/s]"
     ]
    },
    {
     "name": "stdout",
     "output_type": "stream",
     "text": [
      "{'epoch': 1, 'iter': 5570, 'avg_loss': 5.655015115013801, 'avg_acc': 49.876593071261894, 'loss': 5.52627420425415}\n"
     ]
    },
    {
     "name": "stderr",
     "output_type": "stream",
     "text": [
      "EP_train:1:  81%|| 5582/6926 [09:13<02:10, 10.33it/s]"
     ]
    },
    {
     "name": "stdout",
     "output_type": "stream",
     "text": [
      "{'epoch': 1, 'iter': 5580, 'avg_loss': 5.655098300534665, 'avg_acc': 49.888572836409246, 'loss': 5.456405162811279}\n"
     ]
    },
    {
     "name": "stderr",
     "output_type": "stream",
     "text": [
      "EP_train:1:  81%|| 5592/6926 [09:14<02:10, 10.26it/s]"
     ]
    },
    {
     "name": "stdout",
     "output_type": "stream",
     "text": [
      "{'epoch': 1, 'iter': 5590, 'avg_loss': 5.654992474317337, 'avg_acc': 49.88709533178322, 'loss': 6.091502666473389}\n"
     ]
    },
    {
     "name": "stderr",
     "output_type": "stream",
     "text": [
      "EP_train:1:  81%|| 5602/6926 [09:15<02:12,  9.98it/s]"
     ]
    },
    {
     "name": "stdout",
     "output_type": "stream",
     "text": [
      "{'epoch': 1, 'iter': 5600, 'avg_loss': 5.6548263007158726, 'avg_acc': 49.89287627209427, 'loss': 5.624662399291992}\n"
     ]
    },
    {
     "name": "stderr",
     "output_type": "stream",
     "text": [
      "EP_train:1:  81%|| 5612/6926 [09:16<02:09, 10.18it/s]"
     ]
    },
    {
     "name": "stdout",
     "output_type": "stream",
     "text": [
      "{'epoch': 1, 'iter': 5610, 'avg_loss': 5.654469741089759, 'avg_acc': 49.902535198716805, 'loss': 5.000810146331787}\n"
     ]
    },
    {
     "name": "stderr",
     "output_type": "stream",
     "text": [
      "EP_train:1:  81%|| 5622/6926 [09:17<02:06, 10.35it/s]"
     ]
    },
    {
     "name": "stdout",
     "output_type": "stream",
     "text": [
      "{'epoch': 1, 'iter': 5620, 'avg_loss': 5.654106479801544, 'avg_acc': 49.9099359544565, 'loss': 4.980114936828613}\n"
     ]
    },
    {
     "name": "stderr",
     "output_type": "stream",
     "text": [
      "EP_train:1:  81%|| 5632/6926 [09:18<02:09,  9.98it/s]"
     ]
    },
    {
     "name": "stdout",
     "output_type": "stream",
     "text": [
      "{'epoch': 1, 'iter': 5630, 'avg_loss': 5.653973753256265, 'avg_acc': 49.91287071568105, 'loss': 5.219337463378906}\n"
     ]
    },
    {
     "name": "stderr",
     "output_type": "stream",
     "text": [
      "EP_train:1:  81%|| 5642/6926 [09:19<02:05, 10.25it/s]"
     ]
    },
    {
     "name": "stdout",
     "output_type": "stream",
     "text": [
      "{'epoch': 1, 'iter': 5640, 'avg_loss': 5.653857568586322, 'avg_acc': 49.90194557702535, 'loss': 5.2857770919799805}\n"
     ]
    },
    {
     "name": "stderr",
     "output_type": "stream",
     "text": [
      "EP_train:1:  82%|| 5652/6926 [09:20<02:06, 10.07it/s]"
     ]
    },
    {
     "name": "stdout",
     "output_type": "stream",
     "text": [
      "{'epoch': 1, 'iter': 5650, 'avg_loss': 5.653687838178212, 'avg_acc': 49.89548310033622, 'loss': 5.486286163330078}\n"
     ]
    },
    {
     "name": "stderr",
     "output_type": "stream",
     "text": [
      "EP_train:1:  82%|| 5662/6926 [09:21<02:05, 10.06it/s]"
     ]
    },
    {
     "name": "stdout",
     "output_type": "stream",
     "text": [
      "{'epoch': 1, 'iter': 5660, 'avg_loss': 5.653768692225497, 'avg_acc': 49.90008390743685, 'loss': 6.019239902496338}\n"
     ]
    },
    {
     "name": "stderr",
     "output_type": "stream",
     "text": [
      "EP_train:1:  82%|| 5672/6926 [09:22<02:00, 10.42it/s]"
     ]
    },
    {
     "name": "stdout",
     "output_type": "stream",
     "text": [
      "{'epoch': 1, 'iter': 5670, 'avg_loss': 5.653555144416111, 'avg_acc': 49.89695380003526, 'loss': 5.097477436065674}\n"
     ]
    },
    {
     "name": "stderr",
     "output_type": "stream",
     "text": [
      "EP_train:1:  82%|| 5682/6926 [09:23<02:02, 10.18it/s]"
     ]
    },
    {
     "name": "stdout",
     "output_type": "stream",
     "text": [
      "{'epoch': 1, 'iter': 5680, 'avg_loss': 5.653260725145922, 'avg_acc': 49.89933550431262, 'loss': 5.507896423339844}\n"
     ]
    },
    {
     "name": "stderr",
     "output_type": "stream",
     "text": [
      "EP_train:1:  82%|| 5692/6926 [09:24<02:00, 10.25it/s]"
     ]
    },
    {
     "name": "stdout",
     "output_type": "stream",
     "text": [
      "{'epoch': 1, 'iter': 5690, 'avg_loss': 5.653473100392434, 'avg_acc': 49.895668599543136, 'loss': 5.868015289306641}\n"
     ]
    },
    {
     "name": "stderr",
     "output_type": "stream",
     "text": [
      "EP_train:1:  82%|| 5702/6926 [09:25<02:01, 10.09it/s]"
     ]
    },
    {
     "name": "stdout",
     "output_type": "stream",
     "text": [
      "{'epoch': 1, 'iter': 5700, 'avg_loss': 5.653570974527629, 'avg_acc': 49.898044202771445, 'loss': 5.814627647399902}\n"
     ]
    },
    {
     "name": "stderr",
     "output_type": "stream",
     "text": [
      "EP_train:1:  82%|| 5712/6926 [09:26<02:03,  9.84it/s]"
     ]
    },
    {
     "name": "stdout",
     "output_type": "stream",
     "text": [
      "{'epoch': 1, 'iter': 5710, 'avg_loss': 5.653230781668729, 'avg_acc': 49.899317107336714, 'loss': 5.330863952636719}\n"
     ]
    },
    {
     "name": "stderr",
     "output_type": "stream",
     "text": [
      "EP_train:1:  83%|| 5723/6926 [09:27<01:55, 10.38it/s]"
     ]
    },
    {
     "name": "stdout",
     "output_type": "stream",
     "text": [
      "{'epoch': 1, 'iter': 5720, 'avg_loss': 5.652974028704863, 'avg_acc': 49.896215696556546, 'loss': 5.378337383270264}\n"
     ]
    },
    {
     "name": "stderr",
     "output_type": "stream",
     "text": [
      "EP_train:1:  83%|| 5733/6926 [09:28<01:53, 10.48it/s]"
     ]
    },
    {
     "name": "stdout",
     "output_type": "stream",
     "text": [
      "{'epoch': 1, 'iter': 5730, 'avg_loss': 5.653122057820714, 'avg_acc': 49.895851509335195, 'loss': 6.108865737915039}\n"
     ]
    },
    {
     "name": "stderr",
     "output_type": "stream",
     "text": [
      "EP_train:1:  83%|| 5743/6926 [09:29<01:52, 10.53it/s]"
     ]
    },
    {
     "name": "stdout",
     "output_type": "stream",
     "text": [
      "{'epoch': 1, 'iter': 5740, 'avg_loss': 5.652799423429074, 'avg_acc': 49.89494426058178, 'loss': 5.520233631134033}\n"
     ]
    },
    {
     "name": "stderr",
     "output_type": "stream",
     "text": [
      "EP_train:1:  83%|| 5753/6926 [09:30<01:55, 10.19it/s]"
     ]
    },
    {
     "name": "stdout",
     "output_type": "stream",
     "text": [
      "{'epoch': 1, 'iter': 5750, 'avg_loss': 5.65283992679777, 'avg_acc': 49.89512693444618, 'loss': 5.450065612792969}\n"
     ]
    },
    {
     "name": "stderr",
     "output_type": "stream",
     "text": [
      "EP_train:1:  83%|| 5763/6926 [09:31<01:53, 10.28it/s]"
     ]
    },
    {
     "name": "stdout",
     "output_type": "stream",
     "text": [
      "{'epoch': 1, 'iter': 5760, 'avg_loss': 5.652566753520545, 'avg_acc': 49.90344558236418, 'loss': 5.523952484130859}\n"
     ]
    },
    {
     "name": "stderr",
     "output_type": "stream",
     "text": [
      "EP_train:1:  83%|| 5773/6926 [09:32<01:52, 10.20it/s]"
     ]
    },
    {
     "name": "stdout",
     "output_type": "stream",
     "text": [
      "{'epoch': 1, 'iter': 5770, 'avg_loss': 5.652376225824642, 'avg_acc': 49.90415439265292, 'loss': 5.414511680603027}\n"
     ]
    },
    {
     "name": "stderr",
     "output_type": "stream",
     "text": [
      "EP_train:1:  83%|| 5782/6926 [09:33<01:53, 10.05it/s]"
     ]
    },
    {
     "name": "stdout",
     "output_type": "stream",
     "text": [
      "{'epoch': 1, 'iter': 5780, 'avg_loss': 5.652021483388498, 'avg_acc': 49.906482442484, 'loss': 5.681757926940918}\n"
     ]
    },
    {
     "name": "stderr",
     "output_type": "stream",
     "text": [
      "EP_train:1:  84%|| 5792/6926 [09:34<01:52, 10.08it/s]"
     ]
    },
    {
     "name": "stdout",
     "output_type": "stream",
     "text": [
      "{'epoch': 1, 'iter': 5790, 'avg_loss': 5.651750010666792, 'avg_acc': 49.91257986530824, 'loss': 5.2874369621276855}\n"
     ]
    },
    {
     "name": "stderr",
     "output_type": "stream",
     "text": [
      "EP_train:1:  84%|| 5802/6926 [09:35<01:49, 10.24it/s]"
     ]
    },
    {
     "name": "stdout",
     "output_type": "stream",
     "text": [
      "{'epoch': 1, 'iter': 5800, 'avg_loss': 5.6516439117782795, 'avg_acc': 49.91003706257542, 'loss': 5.356174945831299}\n"
     ]
    },
    {
     "name": "stderr",
     "output_type": "stream",
     "text": [
      "EP_train:1:  84%|| 5812/6926 [09:36<01:52,  9.92it/s]"
     ]
    },
    {
     "name": "stdout",
     "output_type": "stream",
     "text": [
      "{'epoch': 1, 'iter': 5810, 'avg_loss': 5.651813528825363, 'avg_acc': 49.91288074341765, 'loss': 5.472388744354248}\n"
     ]
    },
    {
     "name": "stderr",
     "output_type": "stream",
     "text": [
      "EP_train:1:  84%|| 5823/6926 [09:37<01:48, 10.18it/s]"
     ]
    },
    {
     "name": "stdout",
     "output_type": "stream",
     "text": [
      "{'epoch': 1, 'iter': 5820, 'avg_loss': 5.651619205071824, 'avg_acc': 49.91786205119395, 'loss': 5.765916347503662}\n"
     ]
    },
    {
     "name": "stderr",
     "output_type": "stream",
     "text": [
      "EP_train:1:  84%|| 5833/6926 [09:38<01:45, 10.31it/s]"
     ]
    },
    {
     "name": "stdout",
     "output_type": "stream",
     "text": [
      "{'epoch': 1, 'iter': 5830, 'avg_loss': 5.651610608984892, 'avg_acc': 49.915323272166006, 'loss': 5.858582973480225}\n"
     ]
    },
    {
     "name": "stderr",
     "output_type": "stream",
     "text": [
      "EP_train:1:  84%|| 5843/6926 [09:39<01:47, 10.11it/s]"
     ]
    },
    {
     "name": "stdout",
     "output_type": "stream",
     "text": [
      "{'epoch': 1, 'iter': 5840, 'avg_loss': 5.65176063187215, 'avg_acc': 49.913863208354734, 'loss': 5.703132629394531}\n"
     ]
    },
    {
     "name": "stderr",
     "output_type": "stream",
     "text": [
      "EP_train:1:  85%|| 5853/6926 [09:40<01:48,  9.93it/s]"
     ]
    },
    {
     "name": "stdout",
     "output_type": "stream",
     "text": [
      "{'epoch': 1, 'iter': 5850, 'avg_loss': 5.651537225707293, 'avg_acc': 49.92095368313109, 'loss': 5.047145366668701}\n"
     ]
    },
    {
     "name": "stderr",
     "output_type": "stream",
     "text": [
      "EP_train:1:  85%|| 5862/6926 [09:41<01:47,  9.86it/s]"
     ]
    },
    {
     "name": "stdout",
     "output_type": "stream",
     "text": [
      "{'epoch': 1, 'iter': 5860, 'avg_loss': 5.651153347553643, 'avg_acc': 49.9104248421771, 'loss': 5.218566417694092}\n"
     ]
    },
    {
     "name": "stderr",
     "output_type": "stream",
     "text": [
      "EP_train:1:  85%|| 5873/6926 [09:42<01:42, 10.29it/s]"
     ]
    },
    {
     "name": "stdout",
     "output_type": "stream",
     "text": [
      "{'epoch': 1, 'iter': 5870, 'avg_loss': 5.651216177289804, 'avg_acc': 49.907916027933915, 'loss': 5.4610395431518555}\n"
     ]
    },
    {
     "name": "stderr",
     "output_type": "stream",
     "text": [
      "EP_train:1:  85%|| 5881/6926 [09:43<01:38, 10.57it/s]"
     ]
    },
    {
     "name": "stdout",
     "output_type": "stream",
     "text": [
      "{'epoch': 1, 'iter': 5880, 'avg_loss': 5.651019992967829, 'avg_acc': 49.91179221220881, 'loss': 5.133731365203857}\n"
     ]
    },
    {
     "name": "stderr",
     "output_type": "stream",
     "text": [
      "EP_train:1:  85%|| 5893/6926 [09:44<01:42, 10.11it/s]"
     ]
    },
    {
     "name": "stdout",
     "output_type": "stream",
     "text": [
      "{'epoch': 1, 'iter': 5890, 'avg_loss': 5.651048768175779, 'avg_acc': 49.91247241554914, 'loss': 5.399297714233398}\n"
     ]
    },
    {
     "name": "stderr",
     "output_type": "stream",
     "text": [
      "EP_train:1:  85%|| 5901/6926 [09:45<01:42, 10.03it/s]"
     ]
    },
    {
     "name": "stdout",
     "output_type": "stream",
     "text": [
      "{'epoch': 1, 'iter': 5900, 'avg_loss': 5.650857780044754, 'avg_acc': 49.915268598542625, 'loss': 5.764946460723877}\n"
     ]
    },
    {
     "name": "stderr",
     "output_type": "stream",
     "text": [
      "EP_train:1:  85%|| 5912/6926 [09:46<01:38, 10.34it/s]"
     ]
    },
    {
     "name": "stdout",
     "output_type": "stream",
     "text": [
      "{'epoch': 1, 'iter': 5910, 'avg_loss': 5.650568982183863, 'avg_acc': 49.91699796988665, 'loss': 5.664174556732178}\n"
     ]
    },
    {
     "name": "stderr",
     "output_type": "stream",
     "text": [
      "EP_train:1:  86%|| 5922/6926 [09:47<01:40, 10.00it/s]"
     ]
    },
    {
     "name": "stdout",
     "output_type": "stream",
     "text": [
      "{'epoch': 1, 'iter': 5920, 'avg_loss': 5.650321078529996, 'avg_acc': 49.91449923999324, 'loss': 5.509171009063721}\n"
     ]
    },
    {
     "name": "stderr",
     "output_type": "stream",
     "text": [
      "EP_train:1:  86%|| 5933/6926 [09:48<01:35, 10.45it/s]"
     ]
    },
    {
     "name": "stdout",
     "output_type": "stream",
     "text": [
      "{'epoch': 1, 'iter': 5930, 'avg_loss': 5.650027394154043, 'avg_acc': 49.91358961389311, 'loss': 5.786704063415527}\n"
     ]
    },
    {
     "name": "stderr",
     "output_type": "stream",
     "text": [
      "EP_train:1:  86%|| 5943/6926 [09:49<01:37, 10.06it/s]"
     ]
    },
    {
     "name": "stdout",
     "output_type": "stream",
     "text": [
      "{'epoch': 1, 'iter': 5940, 'avg_loss': 5.649685332117368, 'avg_acc': 49.91952112438983, 'loss': 5.09564208984375}\n"
     ]
    },
    {
     "name": "stderr",
     "output_type": "stream",
     "text": [
      "EP_train:1:  86%|| 5953/6926 [09:50<01:34, 10.28it/s]"
     ]
    },
    {
     "name": "stdout",
     "output_type": "stream",
     "text": [
      "{'epoch': 1, 'iter': 5950, 'avg_loss': 5.649536525035301, 'avg_acc': 49.928583431356074, 'loss': 5.681067943572998}\n"
     ]
    },
    {
     "name": "stderr",
     "output_type": "stream",
     "text": [
      "EP_train:1:  86%|| 5963/6926 [09:51<01:35, 10.12it/s]"
     ]
    },
    {
     "name": "stdout",
     "output_type": "stream",
     "text": [
      "{'epoch': 1, 'iter': 5960, 'avg_loss': 5.649525473050234, 'avg_acc': 49.93132444220768, 'loss': 6.006283283233643}\n"
     ]
    },
    {
     "name": "stderr",
     "output_type": "stream",
     "text": [
      "EP_train:1:  86%|| 5973/6926 [09:52<01:33, 10.20it/s]"
     ]
    },
    {
     "name": "stdout",
     "output_type": "stream",
     "text": [
      "{'epoch': 1, 'iter': 5970, 'avg_loss': 5.649264410939214, 'avg_acc': 49.92411237648635, 'loss': 6.0906291007995605}\n"
     ]
    },
    {
     "name": "stderr",
     "output_type": "stream",
     "text": [
      "EP_train:1:  86%|| 5983/6926 [09:53<01:30, 10.41it/s]"
     ]
    },
    {
     "name": "stdout",
     "output_type": "stream",
     "text": [
      "{'epoch': 1, 'iter': 5980, 'avg_loss': 5.649198700404649, 'avg_acc': 49.9221493061361, 'loss': 5.880816459655762}\n"
     ]
    },
    {
     "name": "stderr",
     "output_type": "stream",
     "text": [
      "EP_train:1:  87%|| 5991/6926 [09:53<01:31, 10.24it/s]"
     ]
    },
    {
     "name": "stdout",
     "output_type": "stream",
     "text": [
      "{'epoch': 1, 'iter': 5990, 'avg_loss': 5.6492613836354355, 'avg_acc': 49.919671173426806, 'loss': 5.5071845054626465}\n"
     ]
    },
    {
     "name": "stderr",
     "output_type": "stream",
     "text": [
      "EP_train:1:  87%|| 6003/6926 [09:55<01:31, 10.07it/s]"
     ]
    },
    {
     "name": "stdout",
     "output_type": "stream",
     "text": [
      "{'epoch': 1, 'iter': 6000, 'avg_loss': 5.6491026479469655, 'avg_acc': 49.92084652557907, 'loss': 5.441738128662109}\n"
     ]
    },
    {
     "name": "stderr",
     "output_type": "stream",
     "text": [
      "EP_train:1:  87%|| 6011/6926 [09:55<01:28, 10.32it/s]"
     ]
    },
    {
     "name": "stdout",
     "output_type": "stream",
     "text": [
      "{'epoch': 1, 'iter': 6010, 'avg_loss': 5.648886869481629, 'avg_acc': 49.92513724837797, 'loss': 5.747357368469238}\n"
     ]
    },
    {
     "name": "stderr",
     "output_type": "stream",
     "text": [
      "EP_train:1:  87%|| 6023/6926 [09:57<01:28, 10.25it/s]"
     ]
    },
    {
     "name": "stdout",
     "output_type": "stream",
     "text": [
      "{'epoch': 1, 'iter': 6020, 'avg_loss': 5.648704790946278, 'avg_acc': 49.92007141670819, 'loss': 5.2916717529296875}\n"
     ]
    },
    {
     "name": "stderr",
     "output_type": "stream",
     "text": [
      "EP_train:1:  87%|| 6032/6926 [09:58<01:30,  9.88it/s]"
     ]
    },
    {
     "name": "stdout",
     "output_type": "stream",
     "text": [
      "{'epoch': 1, 'iter': 6030, 'avg_loss': 5.648671412068682, 'avg_acc': 49.92590366440059, 'loss': 6.12038516998291}\n"
     ]
    },
    {
     "name": "stderr",
     "output_type": "stream",
     "text": [
      "EP_train:1:  87%|| 6042/6926 [09:59<01:29,  9.86it/s]"
     ]
    },
    {
     "name": "stdout",
     "output_type": "stream",
     "text": [
      "{'epoch': 1, 'iter': 6040, 'avg_loss': 5.648733371733988, 'avg_acc': 49.926026320145674, 'loss': 5.831390380859375}\n"
     ]
    },
    {
     "name": "stderr",
     "output_type": "stream",
     "text": [
      "EP_train:1:  87%|| 6053/6926 [10:00<01:25, 10.19it/s]"
     ]
    },
    {
     "name": "stdout",
     "output_type": "stream",
     "text": [
      "{'epoch': 1, 'iter': 6050, 'avg_loss': 5.648658047311859, 'avg_acc': 49.9292472318625, 'loss': 5.7825775146484375}\n"
     ]
    },
    {
     "name": "stderr",
     "output_type": "stream",
     "text": [
      "EP_train:1:  88%|| 6063/6926 [10:01<01:25, 10.09it/s]"
     ]
    },
    {
     "name": "stdout",
     "output_type": "stream",
     "text": [
      "{'epoch': 1, 'iter': 6060, 'avg_loss': 5.648372169297002, 'avg_acc': 49.93245751526151, 'loss': 5.621370315551758}\n"
     ]
    },
    {
     "name": "stderr",
     "output_type": "stream",
     "text": [
      "EP_train:1:  88%|| 6073/6926 [10:02<01:23, 10.26it/s]"
     ]
    },
    {
     "name": "stdout",
     "output_type": "stream",
     "text": [
      "{'epoch': 1, 'iter': 6070, 'avg_loss': 5.648299666021275, 'avg_acc': 49.934112996211496, 'loss': 4.962538242340088}\n"
     ]
    },
    {
     "name": "stderr",
     "output_type": "stream",
     "text": [
      "EP_train:1:  88%|| 6081/6926 [10:02<01:22, 10.20it/s]"
     ]
    },
    {
     "name": "stdout",
     "output_type": "stream",
     "text": [
      "{'epoch': 1, 'iter': 6080, 'avg_loss': 5.648240878499274, 'avg_acc': 49.93627692813682, 'loss': 5.780035018920898}\n"
     ]
    },
    {
     "name": "stderr",
     "output_type": "stream",
     "text": [
      "EP_train:1:  88%|| 6092/6926 [10:03<01:22, 10.07it/s]"
     ]
    },
    {
     "name": "stdout",
     "output_type": "stream",
     "text": [
      "{'epoch': 1, 'iter': 6090, 'avg_loss': 5.648074733234356, 'avg_acc': 49.94612953538007, 'loss': 5.910665988922119}\n"
     ]
    },
    {
     "name": "stderr",
     "output_type": "stream",
     "text": [
      "EP_train:1:  88%|| 6103/6926 [10:05<01:20, 10.25it/s]"
     ]
    },
    {
     "name": "stdout",
     "output_type": "stream",
     "text": [
      "{'epoch': 1, 'iter': 6100, 'avg_loss': 5.648326767641802, 'avg_acc': 49.94621783314211, 'loss': 6.159976959228516}\n"
     ]
    },
    {
     "name": "stderr",
     "output_type": "stream",
     "text": [
      "EP_train:1:  88%|| 6111/6926 [10:05<01:19, 10.30it/s]"
     ]
    },
    {
     "name": "stdout",
     "output_type": "stream",
     "text": [
      "{'epoch': 1, 'iter': 6110, 'avg_loss': 5.64824523677648, 'avg_acc': 49.95806741940763, 'loss': 5.270712375640869}\n"
     ]
    },
    {
     "name": "stderr",
     "output_type": "stream",
     "text": [
      "EP_train:1:  88%|| 6123/6926 [10:07<01:19, 10.10it/s]"
     ]
    },
    {
     "name": "stdout",
     "output_type": "stream",
     "text": [
      "{'epoch': 1, 'iter': 6120, 'avg_loss': 5.648003359048161, 'avg_acc': 49.95507270053913, 'loss': 5.493281841278076}\n"
     ]
    },
    {
     "name": "stderr",
     "output_type": "stream",
     "text": [
      "EP_train:1:  89%|| 6131/6926 [10:07<01:19, 10.06it/s]"
     ]
    },
    {
     "name": "stdout",
     "output_type": "stream",
     "text": [
      "{'epoch': 1, 'iter': 6130, 'avg_loss': 5.647923914648506, 'avg_acc': 49.96228184635459, 'loss': 5.449615001678467}\n"
     ]
    },
    {
     "name": "stderr",
     "output_type": "stream",
     "text": [
      "EP_train:1:  89%|| 6143/6926 [10:08<01:14, 10.53it/s]"
     ]
    },
    {
     "name": "stdout",
     "output_type": "stream",
     "text": [
      "{'epoch': 1, 'iter': 6140, 'avg_loss': 5.648008790161376, 'avg_acc': 49.969467513434296, 'loss': 5.750312805175781}\n"
     ]
    },
    {
     "name": "stderr",
     "output_type": "stream",
     "text": [
      "EP_train:1:  89%|| 6152/6926 [10:09<01:19,  9.78it/s]"
     ]
    },
    {
     "name": "stdout",
     "output_type": "stream",
     "text": [
      "{'epoch': 1, 'iter': 6150, 'avg_loss': 5.647996735483665, 'avg_acc': 49.97205738904243, 'loss': 5.546548843383789}\n"
     ]
    },
    {
     "name": "stderr",
     "output_type": "stream",
     "text": [
      "EP_train:1:  89%|| 6162/6926 [10:10<01:16, 10.01it/s]"
     ]
    },
    {
     "name": "stdout",
     "output_type": "stream",
     "text": [
      "{'epoch': 1, 'iter': 6160, 'avg_loss': 5.647993329863447, 'avg_acc': 49.96652329167343, 'loss': 5.676706314086914}\n"
     ]
    },
    {
     "name": "stderr",
     "output_type": "stream",
     "text": [
      "EP_train:1:  89%|| 6173/6926 [10:12<01:15,  9.92it/s]"
     ]
    },
    {
     "name": "stdout",
     "output_type": "stream",
     "text": [
      "{'epoch': 1, 'iter': 6170, 'avg_loss': 5.6477259687851165, 'avg_acc': 49.97721195916383, 'loss': 5.262001991271973}\n"
     ]
    },
    {
     "name": "stderr",
     "output_type": "stream",
     "text": [
      "EP_train:1:  89%|| 6183/6926 [10:12<01:13, 10.17it/s]"
     ]
    },
    {
     "name": "stdout",
     "output_type": "stream",
     "text": [
      "{'epoch': 1, 'iter': 6180, 'avg_loss': 5.647549974592425, 'avg_acc': 49.97573208218735, 'loss': 5.6781840324401855}\n"
     ]
    },
    {
     "name": "stderr",
     "output_type": "stream",
     "text": [
      "EP_train:1:  89%|| 6193/6926 [10:13<01:10, 10.34it/s]"
     ]
    },
    {
     "name": "stdout",
     "output_type": "stream",
     "text": [
      "{'epoch': 1, 'iter': 6190, 'avg_loss': 5.647692613581659, 'avg_acc': 49.964666451300275, 'loss': 5.628892421722412}\n"
     ]
    },
    {
     "name": "stderr",
     "output_type": "stream",
     "text": [
      "EP_train:1:  90%|| 6203/6926 [10:14<01:11, 10.09it/s]"
     ]
    },
    {
     "name": "stdout",
     "output_type": "stream",
     "text": [
      "{'epoch': 1, 'iter': 6200, 'avg_loss': 5.647383965478561, 'avg_acc': 49.96774713755846, 'loss': 5.502243995666504}\n"
     ]
    },
    {
     "name": "stderr",
     "output_type": "stream",
     "text": [
      "EP_train:1:  90%|| 6212/6926 [10:15<01:11,  9.97it/s]"
     ]
    },
    {
     "name": "stdout",
     "output_type": "stream",
     "text": [
      "{'epoch': 1, 'iter': 6210, 'avg_loss': 5.647273058822968, 'avg_acc': 49.9602519723072, 'loss': 5.508780479431152}\n"
     ]
    },
    {
     "name": "stderr",
     "output_type": "stream",
     "text": [
      "EP_train:1:  90%|| 6222/6926 [10:16<01:08, 10.28it/s]"
     ]
    },
    {
     "name": "stdout",
     "output_type": "stream",
     "text": [
      "{'epoch': 1, 'iter': 6220, 'avg_loss': 5.647166481548481, 'avg_acc': 49.962827519691366, 'loss': 5.316586017608643}\n"
     ]
    },
    {
     "name": "stderr",
     "output_type": "stream",
     "text": [
      "EP_train:1:  90%|| 6232/6926 [10:17<01:08, 10.15it/s]"
     ]
    },
    {
     "name": "stdout",
     "output_type": "stream",
     "text": [
      "{'epoch': 1, 'iter': 6230, 'avg_loss': 5.646904045191302, 'avg_acc': 49.965394800192584, 'loss': 5.308350563049316}\n"
     ]
    },
    {
     "name": "stderr",
     "output_type": "stream",
     "text": [
      "EP_train:1:  90%|| 6242/6926 [10:18<01:03, 10.72it/s]"
     ]
    },
    {
     "name": "stdout",
     "output_type": "stream",
     "text": [
      "{'epoch': 1, 'iter': 6240, 'avg_loss': 5.646504579112232, 'avg_acc': 49.96294664316616, 'loss': 5.158265113830566}\n"
     ]
    },
    {
     "name": "stderr",
     "output_type": "stream",
     "text": [
      "EP_train:1:  90%|| 6252/6926 [10:19<01:07, 10.01it/s]"
     ]
    },
    {
     "name": "stdout",
     "output_type": "stream",
     "text": [
      "{'epoch': 1, 'iter': 6250, 'avg_loss': 5.646379771070125, 'avg_acc': 49.963505839065746, 'loss': 5.551498889923096}\n"
     ]
    },
    {
     "name": "stderr",
     "output_type": "stream",
     "text": [
      "EP_train:1:  90%|| 6262/6926 [10:20<01:05, 10.14it/s]"
     ]
    },
    {
     "name": "stdout",
     "output_type": "stream",
     "text": [
      "{'epoch': 1, 'iter': 6260, 'avg_loss': 5.646172880383845, 'avg_acc': 49.96356412713624, 'loss': 5.2575860023498535}\n"
     ]
    },
    {
     "name": "stderr",
     "output_type": "stream",
     "text": [
      "EP_train:1:  91%|| 6272/6926 [10:21<01:03, 10.24it/s]"
     ]
    },
    {
     "name": "stdout",
     "output_type": "stream",
     "text": [
      "{'epoch': 1, 'iter': 6270, 'avg_loss': 5.64594550027058, 'avg_acc': 49.96860548556849, 'loss': 5.430929660797119}\n"
     ]
    },
    {
     "name": "stderr",
     "output_type": "stream",
     "text": [
      "EP_train:1:  91%|| 6282/6926 [10:22<01:04, 10.05it/s]"
     ]
    },
    {
     "name": "stdout",
     "output_type": "stream",
     "text": [
      "{'epoch': 1, 'iter': 6280, 'avg_loss': 5.645618127079796, 'avg_acc': 49.97014806559465, 'loss': 5.573470592498779}\n"
     ]
    },
    {
     "name": "stderr",
     "output_type": "stream",
     "text": [
      "EP_train:1:  91%|| 6292/6926 [10:23<01:03, 10.06it/s]"
     ]
    },
    {
     "name": "stdout",
     "output_type": "stream",
     "text": [
      "{'epoch': 1, 'iter': 6290, 'avg_loss': 5.645473809485556, 'avg_acc': 49.96771181052297, 'loss': 5.676008224487305}\n"
     ]
    },
    {
     "name": "stderr",
     "output_type": "stream",
     "text": [
      "EP_train:1:  91%|| 6302/6926 [10:24<01:03,  9.89it/s]"
     ]
    },
    {
     "name": "stdout",
     "output_type": "stream",
     "text": [
      "{'epoch': 1, 'iter': 6300, 'avg_loss': 5.64535975346507, 'avg_acc': 49.96925091255356, 'loss': 5.325179576873779}\n"
     ]
    },
    {
     "name": "stderr",
     "output_type": "stream",
     "text": [
      "EP_train:1:  91%|| 6312/6926 [10:25<00:59, 10.34it/s]"
     ]
    },
    {
     "name": "stdout",
     "output_type": "stream",
     "text": [
      "{'epoch': 1, 'iter': 6310, 'avg_loss': 5.6451319542046, 'avg_acc': 49.969794802725396, 'loss': 5.9308342933654785}\n"
     ]
    },
    {
     "name": "stderr",
     "output_type": "stream",
     "text": [
      "EP_train:1:  91%|| 6322/6926 [10:26<01:00, 10.03it/s]"
     ]
    },
    {
     "name": "stdout",
     "output_type": "stream",
     "text": [
      "{'epoch': 1, 'iter': 6320, 'avg_loss': 5.644901521408451, 'avg_acc': 49.96143806359753, 'loss': 5.625241279602051}\n"
     ]
    },
    {
     "name": "stderr",
     "output_type": "stream",
     "text": [
      "EP_train:1:  91%|| 6332/6926 [10:27<00:59,  9.93it/s]"
     ]
    },
    {
     "name": "stdout",
     "output_type": "stream",
     "text": [
      "{'epoch': 1, 'iter': 6330, 'avg_loss': 5.644705353632788, 'avg_acc': 49.958043752961615, 'loss': 5.461758136749268}\n"
     ]
    },
    {
     "name": "stderr",
     "output_type": "stream",
     "text": [
      "EP_train:1:  92%|| 6342/6926 [10:28<00:57, 10.16it/s]"
     ]
    },
    {
     "name": "stdout",
     "output_type": "stream",
     "text": [
      "{'epoch': 1, 'iter': 6340, 'avg_loss': 5.6445139275234855, 'avg_acc': 49.95712427061977, 'loss': 5.408421516418457}\n"
     ]
    },
    {
     "name": "stderr",
     "output_type": "stream",
     "text": [
      "EP_train:1:  92%|| 6352/6926 [10:29<00:55, 10.34it/s]"
     ]
    },
    {
     "name": "stdout",
     "output_type": "stream",
     "text": [
      "{'epoch': 1, 'iter': 6350, 'avg_loss': 5.644468109357303, 'avg_acc': 49.95768382931821, 'loss': 5.165341377258301}\n"
     ]
    },
    {
     "name": "stderr",
     "output_type": "stream",
     "text": [
      "EP_train:1:  92%|| 6362/6926 [10:30<00:57,  9.79it/s]"
     ]
    },
    {
     "name": "stdout",
     "output_type": "stream",
     "text": [
      "{'epoch': 1, 'iter': 6360, 'avg_loss': 5.644260498248374, 'avg_acc': 49.96168055337211, 'loss': 5.346794605255127}\n"
     ]
    },
    {
     "name": "stderr",
     "output_type": "stream",
     "text": [
      "EP_train:1:  92%|| 6372/6926 [10:31<00:54, 10.08it/s]"
     ]
    },
    {
     "name": "stdout",
     "output_type": "stream",
     "text": [
      "{'epoch': 1, 'iter': 6370, 'avg_loss': 5.6442942337906725, 'avg_acc': 49.960759692355985, 'loss': 5.982069492340088}\n"
     ]
    },
    {
     "name": "stderr",
     "output_type": "stream",
     "text": [
      "EP_train:1:  92%|| 6382/6926 [10:32<00:53, 10.22it/s]"
     ]
    },
    {
     "name": "stdout",
     "output_type": "stream",
     "text": [
      "{'epoch': 1, 'iter': 6380, 'avg_loss': 5.644366076104302, 'avg_acc': 49.95837251214543, 'loss': 6.177836894989014}\n"
     ]
    },
    {
     "name": "stderr",
     "output_type": "stream",
     "text": [
      "EP_train:1:  92%|| 6392/6926 [10:33<00:52, 10.14it/s]"
     ]
    },
    {
     "name": "stdout",
     "output_type": "stream",
     "text": [
      "{'epoch': 1, 'iter': 6390, 'avg_loss': 5.644295956715044, 'avg_acc': 49.96234939759036, 'loss': 5.633273124694824}\n"
     ]
    },
    {
     "name": "stderr",
     "output_type": "stream",
     "text": [
      "EP_train:1:  92%|| 6402/6926 [10:34<00:50, 10.33it/s]"
     ]
    },
    {
     "name": "stdout",
     "output_type": "stream",
     "text": [
      "{'epoch': 1, 'iter': 6400, 'avg_loss': 5.644390861721006, 'avg_acc': 49.96289642243399, 'loss': 5.568456649780273}\n"
     ]
    },
    {
     "name": "stderr",
     "output_type": "stream",
     "text": [
      "EP_train:1:  93%|| 6413/6926 [10:35<00:50, 10.18it/s]"
     ]
    },
    {
     "name": "stdout",
     "output_type": "stream",
     "text": [
      "{'epoch': 1, 'iter': 6410, 'avg_loss': 5.64422939660824, 'avg_acc': 49.95418031508345, 'loss': 5.156310558319092}\n"
     ]
    },
    {
     "name": "stderr",
     "output_type": "stream",
     "text": [
      "EP_train:1:  93%|| 6421/6926 [10:36<00:50, 10.06it/s]"
     ]
    },
    {
     "name": "stdout",
     "output_type": "stream",
     "text": [
      "{'epoch': 1, 'iter': 6420, 'avg_loss': 5.644122392324398, 'avg_acc': 49.96106525463323, 'loss': 5.501006603240967}\n"
     ]
    },
    {
     "name": "stderr",
     "output_type": "stream",
     "text": [
      "EP_train:1:  93%|| 6433/6926 [10:37<00:49,  9.95it/s]"
     ]
    },
    {
     "name": "stdout",
     "output_type": "stream",
     "text": [
      "{'epoch': 1, 'iter': 6430, 'avg_loss': 5.643969604413296, 'avg_acc': 49.96258357953662, 'loss': 5.654155254364014}\n"
     ]
    },
    {
     "name": "stderr",
     "output_type": "stream",
     "text": [
      "EP_train:1:  93%|| 6442/6926 [10:38<00:49,  9.69it/s]"
     ]
    },
    {
     "name": "stdout",
     "output_type": "stream",
     "text": [
      "{'epoch': 1, 'iter': 6440, 'avg_loss': 5.643611994872014, 'avg_acc': 49.95681959323087, 'loss': 5.306736469268799}\n"
     ]
    },
    {
     "name": "stderr",
     "output_type": "stream",
     "text": [
      "EP_train:1:  93%|| 6452/6926 [10:39<00:51,  9.22it/s]"
     ]
    },
    {
     "name": "stdout",
     "output_type": "stream",
     "text": [
      "{'epoch': 1, 'iter': 6450, 'avg_loss': 5.643679110214075, 'avg_acc': 49.95737095024027, 'loss': 6.067786693572998}\n"
     ]
    },
    {
     "name": "stderr",
     "output_type": "stream",
     "text": [
      "EP_train:1:  93%|| 6462/6926 [10:40<00:46, 10.04it/s]"
     ]
    },
    {
     "name": "stdout",
     "output_type": "stream",
     "text": [
      "{'epoch': 1, 'iter': 6460, 'avg_loss': 5.643715994993871, 'avg_acc': 49.95840427178455, 'loss': 5.063777923583984}\n"
     ]
    },
    {
     "name": "stderr",
     "output_type": "stream",
     "text": [
      "EP_train:1:  93%|| 6472/6926 [10:41<00:43, 10.48it/s]"
     ]
    },
    {
     "name": "stdout",
     "output_type": "stream",
     "text": [
      "{'epoch': 1, 'iter': 6470, 'avg_loss': 5.643644931971833, 'avg_acc': 49.96233194251275, 'loss': 5.732716083526611}\n"
     ]
    },
    {
     "name": "stderr",
     "output_type": "stream",
     "text": [
      "EP_train:1:  94%|| 6482/6926 [10:42<00:44,  9.98it/s]"
     ]
    },
    {
     "name": "stdout",
     "output_type": "stream",
     "text": [
      "{'epoch': 1, 'iter': 6480, 'avg_loss': 5.643497690413583, 'avg_acc': 49.95563956179602, 'loss': 5.553863048553467}\n"
     ]
    },
    {
     "name": "stderr",
     "output_type": "stream",
     "text": [
      "EP_train:1:  94%|| 6492/6926 [10:43<00:41, 10.37it/s]"
     ]
    },
    {
     "name": "stdout",
     "output_type": "stream",
     "text": [
      "{'epoch': 1, 'iter': 6490, 'avg_loss': 5.643188084352735, 'avg_acc': 49.959559389924515, 'loss': 4.941316604614258}\n"
     ]
    },
    {
     "name": "stderr",
     "output_type": "stream",
     "text": [
      "EP_train:1:  94%|| 6502/6926 [10:44<00:42,  9.92it/s]"
     ]
    },
    {
     "name": "stdout",
     "output_type": "stream",
     "text": [
      "{'epoch': 1, 'iter': 6500, 'avg_loss': 5.642935818001924, 'avg_acc': 49.95866020612213, 'loss': 5.282493591308594}\n"
     ]
    },
    {
     "name": "stderr",
     "output_type": "stream",
     "text": [
      "EP_train:1:  94%|| 6512/6926 [10:45<00:40, 10.34it/s]"
     ]
    },
    {
     "name": "stdout",
     "output_type": "stream",
     "text": [
      "{'epoch': 1, 'iter': 6510, 'avg_loss': 5.6428095796767, 'avg_acc': 49.96400322531101, 'loss': 5.593600273132324}\n"
     ]
    },
    {
     "name": "stderr",
     "output_type": "stream",
     "text": [
      "EP_train:1:  94%|| 6522/6926 [10:46<00:39, 10.19it/s]"
     ]
    },
    {
     "name": "stdout",
     "output_type": "stream",
     "text": [
      "{'epoch': 1, 'iter': 6520, 'avg_loss': 5.642704403047601, 'avg_acc': 49.963579205643306, 'loss': 5.667881011962891}\n"
     ]
    },
    {
     "name": "stderr",
     "output_type": "stream",
     "text": [
      "EP_train:1:  94%|| 6532/6926 [10:47<00:38, 10.29it/s]"
     ]
    },
    {
     "name": "stdout",
     "output_type": "stream",
     "text": [
      "{'epoch': 1, 'iter': 6530, 'avg_loss': 5.642457874860575, 'avg_acc': 49.9645919461032, 'loss': 5.381251811981201}\n"
     ]
    },
    {
     "name": "stderr",
     "output_type": "stream",
     "text": [
      "EP_train:1:  94%|| 6542/6926 [10:48<00:37, 10.33it/s]"
     ]
    },
    {
     "name": "stdout",
     "output_type": "stream",
     "text": [
      "{'epoch': 1, 'iter': 6540, 'avg_loss': 5.642193401758322, 'avg_acc': 49.96416832288641, 'loss': 5.19463586807251}\n"
     ]
    },
    {
     "name": "stderr",
     "output_type": "stream",
     "text": [
      "EP_train:1:  95%|| 6552/6926 [10:49<00:35, 10.48it/s]"
     ]
    },
    {
     "name": "stdout",
     "output_type": "stream",
     "text": [
      "{'epoch': 1, 'iter': 6550, 'avg_loss': 5.641896444756536, 'avg_acc': 49.96326896656999, 'loss': 5.396850109100342}\n"
     ]
    },
    {
     "name": "stderr",
     "output_type": "stream",
     "text": [
      "EP_train:1:  95%|| 6562/6926 [10:50<00:35, 10.35it/s]"
     ]
    },
    {
     "name": "stdout",
     "output_type": "stream",
     "text": [
      "{'epoch': 1, 'iter': 6560, 'avg_loss': 5.641704616886762, 'avg_acc': 49.963324950464866, 'loss': 5.77425479888916}\n"
     ]
    },
    {
     "name": "stderr",
     "output_type": "stream",
     "text": [
      "EP_train:1:  95%|| 6572/6926 [10:51<00:34, 10.34it/s]"
     ]
    },
    {
     "name": "stdout",
     "output_type": "stream",
     "text": [
      "{'epoch': 1, 'iter': 6570, 'avg_loss': 5.64146118522543, 'avg_acc': 49.96338076396287, 'loss': 5.567965030670166}\n"
     ]
    },
    {
     "name": "stderr",
     "output_type": "stream",
     "text": [
      "EP_train:1:  95%|| 6583/6926 [10:52<00:33, 10.28it/s]"
     ]
    },
    {
     "name": "stdout",
     "output_type": "stream",
     "text": [
      "{'epoch': 1, 'iter': 6580, 'avg_loss': 5.641300864973939, 'avg_acc': 49.96343640784075, 'loss': 5.651615142822266}\n"
     ]
    },
    {
     "name": "stderr",
     "output_type": "stream",
     "text": [
      "EP_train:1:  95%|| 6591/6926 [10:53<00:32, 10.46it/s]"
     ]
    },
    {
     "name": "stdout",
     "output_type": "stream",
     "text": [
      "{'epoch': 1, 'iter': 6590, 'avg_loss': 5.641348054423135, 'avg_acc': 49.964440145653164, 'loss': 5.869691848754883}\n"
     ]
    },
    {
     "name": "stderr",
     "output_type": "stream",
     "text": [
      "EP_train:1:  95%|| 6601/6926 [10:54<00:32, 10.02it/s]"
     ]
    },
    {
     "name": "stdout",
     "output_type": "stream",
     "text": [
      "{'epoch': 1, 'iter': 6600, 'avg_loss': 5.641491770545672, 'avg_acc': 49.971121799727314, 'loss': 6.088501930236816}\n"
     ]
    },
    {
     "name": "stderr",
     "output_type": "stream",
     "text": [
      "EP_train:1:  95%|| 6613/6926 [10:55<00:30, 10.39it/s]"
     ]
    },
    {
     "name": "stdout",
     "output_type": "stream",
     "text": [
      "{'epoch': 1, 'iter': 6610, 'avg_loss': 5.641113393048154, 'avg_acc': 49.97825593707457, 'loss': 5.335310935974121}\n"
     ]
    },
    {
     "name": "stderr",
     "output_type": "stream",
     "text": [
      "EP_train:1:  96%|| 6621/6926 [10:56<00:29, 10.25it/s]"
     ]
    },
    {
     "name": "stdout",
     "output_type": "stream",
     "text": [
      "{'epoch': 1, 'iter': 6620, 'avg_loss': 5.641311616268138, 'avg_acc': 49.97923274429844, 'loss': 5.380859375}\n"
     ]
    },
    {
     "name": "stderr",
     "output_type": "stream",
     "text": [
      "EP_train:1:  96%|| 6633/6926 [10:57<00:29, 10.09it/s]"
     ]
    },
    {
     "name": "stdout",
     "output_type": "stream",
     "text": [
      "{'epoch': 1, 'iter': 6630, 'avg_loss': 5.641015163393442, 'avg_acc': 49.97455134972101, 'loss': 5.557979583740234}\n"
     ]
    },
    {
     "name": "stderr",
     "output_type": "stream",
     "text": [
      "EP_train:1:  96%|| 6643/6926 [10:58<00:27, 10.11it/s]"
     ]
    },
    {
     "name": "stdout",
     "output_type": "stream",
     "text": [
      "{'epoch': 1, 'iter': 6640, 'avg_loss': 5.640851962783577, 'avg_acc': 49.97035461526879, 'loss': 5.674532890319824}\n"
     ]
    },
    {
     "name": "stderr",
     "output_type": "stream",
     "text": [
      "EP_train:1:  96%|| 6653/6926 [10:59<00:26, 10.12it/s]"
     ]
    },
    {
     "name": "stdout",
     "output_type": "stream",
     "text": [
      "{'epoch': 1, 'iter': 6650, 'avg_loss': 5.640882075953136, 'avg_acc': 49.975567583821984, 'loss': 5.8290581703186035}\n"
     ]
    },
    {
     "name": "stderr",
     "output_type": "stream",
     "text": [
      "EP_train:1:  96%|| 6661/6926 [11:00<00:25, 10.42it/s]"
     ]
    },
    {
     "name": "stdout",
     "output_type": "stream",
     "text": [
      "{'epoch': 1, 'iter': 6660, 'avg_loss': 5.641028640256274, 'avg_acc': 49.97325851974178, 'loss': 5.603267669677734}\n"
     ]
    },
    {
     "name": "stderr",
     "output_type": "stream",
     "text": [
      "EP_train:1:  96%|| 6673/6926 [11:01<00:24, 10.25it/s]"
     ]
    },
    {
     "name": "stdout",
     "output_type": "stream",
     "text": [
      "{'epoch': 1, 'iter': 6670, 'avg_loss': 5.641086791662811, 'avg_acc': 49.974235496927, 'loss': 5.846455097198486}\n"
     ]
    },
    {
     "name": "stderr",
     "output_type": "stream",
     "text": [
      "EP_train:1:  96%|| 6681/6926 [11:01<00:23, 10.23it/s]"
     ]
    },
    {
     "name": "stdout",
     "output_type": "stream",
     "text": [
      "{'epoch': 1, 'iter': 6680, 'avg_loss': 5.640635517610259, 'avg_acc': 49.96679015117497, 'loss': 5.691281318664551}\n"
     ]
    },
    {
     "name": "stderr",
     "output_type": "stream",
     "text": [
      "EP_train:1:  97%|| 6693/6926 [11:03<00:22, 10.43it/s]"
     ]
    },
    {
     "name": "stdout",
     "output_type": "stream",
     "text": [
      "{'epoch': 1, 'iter': 6690, 'avg_loss': 5.640514323323355, 'avg_acc': 49.96777387535495, 'loss': 5.5624165534973145}\n"
     ]
    },
    {
     "name": "stderr",
     "output_type": "stream",
     "text": [
      "EP_train:1:  97%|| 6703/6926 [11:04<00:22, 10.01it/s]"
     ]
    },
    {
     "name": "stdout",
     "output_type": "stream",
     "text": [
      "{'epoch': 1, 'iter': 6700, 'avg_loss': 5.640513351721081, 'avg_acc': 49.96269213550216, 'loss': 5.746896266937256}\n"
     ]
    },
    {
     "name": "stderr",
     "output_type": "stream",
     "text": [
      "EP_train:1:  97%|| 6713/6926 [11:05<00:21,  9.98it/s]"
     ]
    },
    {
     "name": "stdout",
     "output_type": "stream",
     "text": [
      "{'epoch': 1, 'iter': 6710, 'avg_loss': 5.640414472593314, 'avg_acc': 49.9636790344211, 'loss': 5.823661804199219}\n"
     ]
    },
    {
     "name": "stderr",
     "output_type": "stream",
     "text": [
      "EP_train:1:  97%|| 6722/6926 [11:06<00:20,  9.83it/s]"
     ]
    },
    {
     "name": "stdout",
     "output_type": "stream",
     "text": [
      "{'epoch': 1, 'iter': 6720, 'avg_loss': 5.640179893974391, 'avg_acc': 49.960943312007146, 'loss': 5.3652825355529785}\n"
     ]
    },
    {
     "name": "stderr",
     "output_type": "stream",
     "text": [
      "EP_train:1:  97%|| 6731/6926 [11:06<00:19, 10.14it/s]"
     ]
    },
    {
     "name": "stdout",
     "output_type": "stream",
     "text": [
      "{'epoch': 1, 'iter': 6730, 'avg_loss': 5.640003208454536, 'avg_acc': 49.95635863913237, 'loss': 5.261158466339111}\n"
     ]
    },
    {
     "name": "stderr",
     "output_type": "stream",
     "text": [
      "EP_train:1:  97%|| 6743/6926 [11:08<00:18, 10.10it/s]"
     ]
    },
    {
     "name": "stdout",
     "output_type": "stream",
     "text": [
      "{'epoch': 1, 'iter': 6740, 'avg_loss': 5.639938671817731, 'avg_acc': 49.96105919003115, 'loss': 5.448211193084717}\n"
     ]
    },
    {
     "name": "stderr",
     "output_type": "stream",
     "text": [
      "EP_train:1:  97%|| 6752/6926 [11:09<00:17,  9.84it/s]"
     ]
    },
    {
     "name": "stdout",
     "output_type": "stream",
     "text": [
      "{'epoch': 1, 'iter': 6750, 'avg_loss': 5.639832518962803, 'avg_acc': 49.95509924455636, 'loss': 5.188434600830078}\n"
     ]
    },
    {
     "name": "stderr",
     "output_type": "stream",
     "text": [
      "EP_train:1:  98%|| 6762/6926 [11:09<00:15, 10.29it/s]"
     ]
    },
    {
     "name": "stdout",
     "output_type": "stream",
     "text": [
      "{'epoch': 1, 'iter': 6760, 'avg_loss': 5.639728898992201, 'avg_acc': 49.95655228516492, 'loss': 5.191869735717773}\n"
     ]
    },
    {
     "name": "stderr",
     "output_type": "stream",
     "text": [
      "EP_train:1:  98%|| 6772/6926 [11:10<00:14, 10.42it/s]"
     ]
    },
    {
     "name": "stdout",
     "output_type": "stream",
     "text": [
      "{'epoch': 1, 'iter': 6770, 'avg_loss': 5.639742757101176, 'avg_acc': 49.95292423571112, 'loss': 5.809539318084717}\n"
     ]
    },
    {
     "name": "stderr",
     "output_type": "stream",
     "text": [
      "EP_train:1:  98%|| 6782/6926 [11:11<00:14, 10.17it/s]"
     ]
    },
    {
     "name": "stdout",
     "output_type": "stream",
     "text": [
      "{'epoch': 1, 'iter': 6780, 'avg_loss': 5.639535494600315, 'avg_acc': 49.9529936587524, 'loss': 5.301833152770996}\n"
     ]
    },
    {
     "name": "stderr",
     "output_type": "stream",
     "text": [
      "EP_train:1:  98%|| 6793/6926 [11:13<00:13, 10.16it/s]"
     ]
    },
    {
     "name": "stdout",
     "output_type": "stream",
     "text": [
      "{'epoch': 1, 'iter': 6790, 'avg_loss': 5.639321364494192, 'avg_acc': 49.946620527168314, 'loss': 5.7932658195495605}\n"
     ]
    },
    {
     "name": "stderr",
     "output_type": "stream",
     "text": [
      "EP_train:1:  98%|| 6801/6926 [11:13<00:12, 10.08it/s]"
     ]
    },
    {
     "name": "stdout",
     "output_type": "stream",
     "text": [
      "{'epoch': 1, 'iter': 6800, 'avg_loss': 5.639243116730751, 'avg_acc': 49.950374944861046, 'loss': 5.800687789916992}\n"
     ]
    },
    {
     "name": "stderr",
     "output_type": "stream",
     "text": [
      "EP_train:1:  98%|| 6813/6926 [11:15<00:11, 10.22it/s]"
     ]
    },
    {
     "name": "stdout",
     "output_type": "stream",
     "text": [
      "{'epoch': 1, 'iter': 6810, 'avg_loss': 5.639233504810481, 'avg_acc': 49.951824254881814, 'loss': 5.4606404304504395}\n"
     ]
    },
    {
     "name": "stderr",
     "output_type": "stream",
     "text": [
      "EP_train:1:  99%|| 6823/6926 [11:16<00:10, 10.01it/s]"
     ]
    },
    {
     "name": "stdout",
     "output_type": "stream",
     "text": [
      "{'epoch': 1, 'iter': 6820, 'avg_loss': 5.639113162728178, 'avg_acc': 49.950062307579536, 'loss': 5.900206565856934}\n"
     ]
    },
    {
     "name": "stderr",
     "output_type": "stream",
     "text": [
      "EP_train:1:  99%|| 6833/6926 [11:16<00:08, 10.51it/s]"
     ]
    },
    {
     "name": "stdout",
     "output_type": "stream",
     "text": [
      "{'epoch': 1, 'iter': 6830, 'avg_loss': 5.638894366617696, 'avg_acc': 49.951507831942614, 'loss': 5.0170183181762695}\n"
     ]
    },
    {
     "name": "stderr",
     "output_type": "stream",
     "text": [
      "EP_train:1:  99%|| 6841/6926 [11:17<00:08, 10.41it/s]"
     ]
    },
    {
     "name": "stdout",
     "output_type": "stream",
     "text": [
      "{'epoch': 1, 'iter': 6840, 'avg_loss': 5.638791366167854, 'avg_acc': 49.95249232568338, 'loss': 5.302320957183838}\n"
     ]
    },
    {
     "name": "stderr",
     "output_type": "stream",
     "text": [
      "EP_train:1:  99%|| 6853/6926 [11:18<00:07, 10.12it/s]"
     ]
    },
    {
     "name": "stdout",
     "output_type": "stream",
     "text": [
      "{'epoch': 1, 'iter': 6850, 'avg_loss': 5.638685676341961, 'avg_acc': 49.94754415413808, 'loss': 5.74204158782959}\n"
     ]
    },
    {
     "name": "stderr",
     "output_type": "stream",
     "text": [
      "EP_train:1:  99%|| 6863/6926 [11:19<00:06, 10.46it/s]"
     ]
    },
    {
     "name": "stdout",
     "output_type": "stream",
     "text": [
      "{'epoch': 1, 'iter': 6860, 'avg_loss': 5.638492708980403, 'avg_acc': 49.943976825535636, 'loss': 5.789511680603027}\n"
     ]
    },
    {
     "name": "stderr",
     "output_type": "stream",
     "text": [
      "EP_train:1:  99%|| 6873/6926 [11:20<00:05, 10.19it/s]"
     ]
    },
    {
     "name": "stdout",
     "output_type": "stream",
     "text": [
      "{'epoch': 1, 'iter': 6870, 'avg_loss': 5.638512971983815, 'avg_acc': 49.94269393101441, 'loss': 5.475904941558838}\n"
     ]
    },
    {
     "name": "stderr",
     "output_type": "stream",
     "text": [
      "EP_train:1:  99%|| 6881/6926 [11:21<00:04, 10.44it/s]"
     ]
    },
    {
     "name": "stdout",
     "output_type": "stream",
     "text": [
      "{'epoch': 1, 'iter': 6880, 'avg_loss': 5.6384196555851815, 'avg_acc': 49.94413965993315, 'loss': 4.989802837371826}\n"
     ]
    },
    {
     "name": "stderr",
     "output_type": "stream",
     "text": [
      "EP_train:1:  99%|| 6891/6926 [11:22<00:03, 10.37it/s]"
     ]
    },
    {
     "name": "stdout",
     "output_type": "stream",
     "text": [
      "{'epoch': 1, 'iter': 6890, 'avg_loss': 5.638284680459655, 'avg_acc': 49.94784864315774, 'loss': 5.316540241241455}\n"
     ]
    },
    {
     "name": "stderr",
     "output_type": "stream",
     "text": [
      "EP_train:1: 100%|| 6903/6926 [11:23<00:02,  9.89it/s]"
     ]
    },
    {
     "name": "stdout",
     "output_type": "stream",
     "text": [
      "{'epoch': 1, 'iter': 6900, 'avg_loss': 5.63816073285965, 'avg_acc': 49.95426387480075, 'loss': 5.783091068267822}\n"
     ]
    },
    {
     "name": "stderr",
     "output_type": "stream",
     "text": [
      "EP_train:1: 100%|| 6913/6926 [11:24<00:01,  9.96it/s]"
     ]
    },
    {
     "name": "stdout",
     "output_type": "stream",
     "text": [
      "{'epoch': 1, 'iter': 6910, 'avg_loss': 5.638205520876616, 'avg_acc': 49.9538778758501, 'loss': 5.332376956939697}\n"
     ]
    },
    {
     "name": "stderr",
     "output_type": "stream",
     "text": [
      "EP_train:1: 100%|| 6923/6926 [11:25<00:00, 10.02it/s]"
     ]
    },
    {
     "name": "stdout",
     "output_type": "stream",
     "text": [
      "{'epoch': 1, 'iter': 6920, 'avg_loss': 5.63797389412009, 'avg_acc': 49.95349299234215, 'loss': 5.405078411102295}\n"
     ]
    },
    {
     "name": "stderr",
     "output_type": "stream",
     "text": [
      "EP_train:1: 100%|| 6926/6926 [11:26<00:00, 10.09it/s]\n"
     ]
    },
    {
     "name": "stdout",
     "output_type": "stream",
     "text": [
      "EP1, train:             avg_loss=5.6378547569041375,             total_acc=49.952620749404375\n"
     ]
    },
    {
     "name": "stderr",
     "output_type": "stream",
     "text": [
      "EP_train:2:   0%|| 1/6926 [00:00<12:24,  9.30it/s]"
     ]
    },
    {
     "name": "stdout",
     "output_type": "stream",
     "text": [
      "{'epoch': 2, 'iter': 0, 'avg_loss': 5.549597263336182, 'avg_acc': 65.625, 'loss': 5.549597263336182}\n"
     ]
    },
    {
     "name": "stderr",
     "output_type": "stream",
     "text": [
      "EP_train:2:   0%|| 12/6926 [00:01<11:22, 10.13it/s]"
     ]
    },
    {
     "name": "stdout",
     "output_type": "stream",
     "text": [
      "{'epoch': 2, 'iter': 10, 'avg_loss': 5.522395220669833, 'avg_acc': 52.55681818181818, 'loss': 5.109726905822754}\n"
     ]
    },
    {
     "name": "stderr",
     "output_type": "stream",
     "text": [
      "EP_train:2:   0%|| 22/6926 [00:02<10:55, 10.54it/s]"
     ]
    },
    {
     "name": "stdout",
     "output_type": "stream",
     "text": [
      "{'epoch': 2, 'iter': 20, 'avg_loss': 5.515268984295073, 'avg_acc': 53.86904761904761, 'loss': 5.752265453338623}\n"
     ]
    },
    {
     "name": "stderr",
     "output_type": "stream",
     "text": [
      "EP_train:2:   0%|| 32/6926 [00:03<11:19, 10.15it/s]"
     ]
    },
    {
     "name": "stdout",
     "output_type": "stream",
     "text": [
      "{'epoch': 2, 'iter': 30, 'avg_loss': 5.517163568927396, 'avg_acc': 52.62096774193549, 'loss': 5.701332092285156}\n"
     ]
    },
    {
     "name": "stderr",
     "output_type": "stream",
     "text": [
      "EP_train:2:   1%|| 42/6926 [00:04<10:56, 10.49it/s]"
     ]
    },
    {
     "name": "stdout",
     "output_type": "stream",
     "text": [
      "{'epoch': 2, 'iter': 40, 'avg_loss': 5.510570270259206, 'avg_acc': 51.75304878048781, 'loss': 5.456328392028809}\n"
     ]
    },
    {
     "name": "stderr",
     "output_type": "stream",
     "text": [
      "EP_train:2:   1%|| 52/6926 [00:05<10:59, 10.43it/s]"
     ]
    },
    {
     "name": "stdout",
     "output_type": "stream",
     "text": [
      "{'epoch': 2, 'iter': 50, 'avg_loss': 5.5112131530163335, 'avg_acc': 50.674019607843135, 'loss': 5.408692359924316}\n"
     ]
    },
    {
     "name": "stderr",
     "output_type": "stream",
     "text": [
      "EP_train:2:   1%|| 62/6926 [00:06<11:09, 10.25it/s]"
     ]
    },
    {
     "name": "stdout",
     "output_type": "stream",
     "text": [
      "{'epoch': 2, 'iter': 60, 'avg_loss': 5.5147800758236745, 'avg_acc': 50.05122950819673, 'loss': 5.278244972229004}\n"
     ]
    },
    {
     "name": "stderr",
     "output_type": "stream",
     "text": [
      "EP_train:2:   1%|| 72/6926 [00:07<11:17, 10.12it/s]"
     ]
    },
    {
     "name": "stdout",
     "output_type": "stream",
     "text": [
      "{'epoch': 2, 'iter': 70, 'avg_loss': 5.519726108497297, 'avg_acc': 49.515845070422536, 'loss': 5.195223808288574}\n"
     ]
    },
    {
     "name": "stderr",
     "output_type": "stream",
     "text": [
      "EP_train:2:   1%|| 82/6926 [00:08<11:17, 10.09it/s]"
     ]
    },
    {
     "name": "stdout",
     "output_type": "stream",
     "text": [
      "{'epoch': 2, 'iter': 80, 'avg_loss': 5.538238419426812, 'avg_acc': 49.76851851851852, 'loss': 5.69969367980957}\n"
     ]
    },
    {
     "name": "stderr",
     "output_type": "stream",
     "text": [
      "EP_train:2:   1%|| 92/6926 [00:08<10:41, 10.65it/s]"
     ]
    },
    {
     "name": "stdout",
     "output_type": "stream",
     "text": [
      "{'epoch': 2, 'iter': 90, 'avg_loss': 5.542759806245238, 'avg_acc': 49.65659340659341, 'loss': 4.992934226989746}\n"
     ]
    },
    {
     "name": "stderr",
     "output_type": "stream",
     "text": [
      "EP_train:2:   1%|| 102/6926 [00:10<11:27,  9.92it/s]"
     ]
    },
    {
     "name": "stdout",
     "output_type": "stream",
     "text": [
      "{'epoch': 2, 'iter': 100, 'avg_loss': 5.542951135352107, 'avg_acc': 49.69059405940594, 'loss': 5.418092250823975}\n"
     ]
    },
    {
     "name": "stderr",
     "output_type": "stream",
     "text": [
      "EP_train:2:   2%|| 112/6926 [00:10<11:17, 10.06it/s]"
     ]
    },
    {
     "name": "stdout",
     "output_type": "stream",
     "text": [
      "{'epoch': 2, 'iter': 110, 'avg_loss': 5.554547649246079, 'avg_acc': 49.91554054054054, 'loss': 5.411261081695557}\n"
     ]
    },
    {
     "name": "stderr",
     "output_type": "stream",
     "text": [
      "EP_train:2:   2%|| 122/6926 [00:11<11:06, 10.20it/s]"
     ]
    },
    {
     "name": "stdout",
     "output_type": "stream",
     "text": [
      "{'epoch': 2, 'iter': 120, 'avg_loss': 5.5478962039159345, 'avg_acc': 49.845041322314046, 'loss': 5.599985122680664}\n"
     ]
    },
    {
     "name": "stderr",
     "output_type": "stream",
     "text": [
      "EP_train:2:   2%|| 132/6926 [00:12<10:45, 10.53it/s]"
     ]
    },
    {
     "name": "stdout",
     "output_type": "stream",
     "text": [
      "{'epoch': 2, 'iter': 130, 'avg_loss': 5.544146042743712, 'avg_acc': 49.92843511450381, 'loss': 5.308319568634033}\n"
     ]
    },
    {
     "name": "stderr",
     "output_type": "stream",
     "text": [
      "EP_train:2:   2%|| 142/6926 [00:13<11:22,  9.94it/s]"
     ]
    },
    {
     "name": "stdout",
     "output_type": "stream",
     "text": [
      "{'epoch': 2, 'iter': 140, 'avg_loss': 5.547050408437743, 'avg_acc': 50.02216312056738, 'loss': 5.341747283935547}\n"
     ]
    },
    {
     "name": "stderr",
     "output_type": "stream",
     "text": [
      "EP_train:2:   2%|| 152/6926 [00:14<10:54, 10.35it/s]"
     ]
    },
    {
     "name": "stdout",
     "output_type": "stream",
     "text": [
      "{'epoch': 2, 'iter': 150, 'avg_loss': 5.541366393992443, 'avg_acc': 49.95860927152318, 'loss': 5.701577663421631}\n"
     ]
    },
    {
     "name": "stderr",
     "output_type": "stream",
     "text": [
      "EP_train:2:   2%|| 162/6926 [00:15<11:16, 10.01it/s]"
     ]
    },
    {
     "name": "stdout",
     "output_type": "stream",
     "text": [
      "{'epoch': 2, 'iter': 160, 'avg_loss': 5.5443834814225665, 'avg_acc': 49.67003105590062, 'loss': 5.617187023162842}\n"
     ]
    },
    {
     "name": "stderr",
     "output_type": "stream",
     "text": [
      "EP_train:2:   2%|| 172/6926 [00:16<10:46, 10.44it/s]"
     ]
    },
    {
     "name": "stdout",
     "output_type": "stream",
     "text": [
      "{'epoch': 2, 'iter': 170, 'avg_loss': 5.548634880467465, 'avg_acc': 49.54312865497076, 'loss': 5.4171037673950195}\n"
     ]
    },
    {
     "name": "stderr",
     "output_type": "stream",
     "text": [
      "EP_train:2:   3%|| 182/6926 [00:17<10:57, 10.25it/s]"
     ]
    },
    {
     "name": "stdout",
     "output_type": "stream",
     "text": [
      "{'epoch': 2, 'iter': 180, 'avg_loss': 5.54874451516083, 'avg_acc': 49.706491712707184, 'loss': 5.709248065948486}\n"
     ]
    },
    {
     "name": "stderr",
     "output_type": "stream",
     "text": [
      "EP_train:2:   3%|| 192/6926 [00:18<10:45, 10.43it/s]"
     ]
    },
    {
     "name": "stdout",
     "output_type": "stream",
     "text": [
      "{'epoch': 2, 'iter': 190, 'avg_loss': 5.540266211744378, 'avg_acc': 49.68913612565445, 'loss': 5.209352493286133}\n"
     ]
    },
    {
     "name": "stderr",
     "output_type": "stream",
     "text": [
      "EP_train:2:   3%|| 203/6926 [00:19<11:18,  9.91it/s]"
     ]
    },
    {
     "name": "stdout",
     "output_type": "stream",
     "text": [
      "{'epoch': 2, 'iter': 200, 'avg_loss': 5.53779222478914, 'avg_acc': 49.62686567164179, 'loss': 5.451590061187744}\n"
     ]
    },
    {
     "name": "stderr",
     "output_type": "stream",
     "text": [
      "EP_train:2:   3%|| 213/6926 [00:20<10:41, 10.46it/s]"
     ]
    },
    {
     "name": "stdout",
     "output_type": "stream",
     "text": [
      "{'epoch': 2, 'iter': 210, 'avg_loss': 5.540102190316006, 'avg_acc': 49.703791469194314, 'loss': 5.760866165161133}\n"
     ]
    },
    {
     "name": "stderr",
     "output_type": "stream",
     "text": [
      "EP_train:2:   3%|| 223/6926 [00:21<10:54, 10.24it/s]"
     ]
    },
    {
     "name": "stdout",
     "output_type": "stream",
     "text": [
      "{'epoch': 2, 'iter': 220, 'avg_loss': 5.533660092504856, 'avg_acc': 49.80203619909502, 'loss': 5.181804180145264}\n"
     ]
    },
    {
     "name": "stderr",
     "output_type": "stream",
     "text": [
      "EP_train:2:   3%|| 233/6926 [00:22<10:55, 10.21it/s]"
     ]
    },
    {
     "name": "stdout",
     "output_type": "stream",
     "text": [
      "{'epoch': 2, 'iter': 230, 'avg_loss': 5.533438077736727, 'avg_acc': 49.79707792207792, 'loss': 5.467989921569824}\n"
     ]
    },
    {
     "name": "stderr",
     "output_type": "stream",
     "text": [
      "EP_train:2:   4%|| 243/6926 [00:23<10:56, 10.18it/s]"
     ]
    },
    {
     "name": "stdout",
     "output_type": "stream",
     "text": [
      "{'epoch': 2, 'iter': 240, 'avg_loss': 5.535801284046094, 'avg_acc': 49.766597510373444, 'loss': 5.741984844207764}\n"
     ]
    },
    {
     "name": "stderr",
     "output_type": "stream",
     "text": [
      "EP_train:2:   4%|| 253/6926 [00:24<10:36, 10.49it/s]"
     ]
    },
    {
     "name": "stdout",
     "output_type": "stream",
     "text": [
      "{'epoch': 2, 'iter': 250, 'avg_loss': 5.541177493167589, 'avg_acc': 49.77589641434263, 'loss': 6.051085948944092}\n"
     ]
    },
    {
     "name": "stderr",
     "output_type": "stream",
     "text": [
      "EP_train:2:   4%|| 263/6926 [00:25<11:04, 10.03it/s]"
     ]
    },
    {
     "name": "stdout",
     "output_type": "stream",
     "text": [
      "{'epoch': 2, 'iter': 260, 'avg_loss': 5.539944758360413, 'avg_acc': 49.92816091954023, 'loss': 5.538008689880371}\n"
     ]
    },
    {
     "name": "stderr",
     "output_type": "stream",
     "text": [
      "EP_train:2:   4%|| 272/6926 [00:26<11:01, 10.06it/s]"
     ]
    },
    {
     "name": "stdout",
     "output_type": "stream",
     "text": [
      "{'epoch': 2, 'iter': 270, 'avg_loss': 5.538601929851124, 'avg_acc': 49.90774907749078, 'loss': 5.213404655456543}\n"
     ]
    },
    {
     "name": "stderr",
     "output_type": "stream",
     "text": [
      "EP_train:2:   4%|| 282/6926 [00:27<11:28,  9.65it/s]"
     ]
    },
    {
     "name": "stdout",
     "output_type": "stream",
     "text": [
      "{'epoch': 2, 'iter': 280, 'avg_loss': 5.539635502146656, 'avg_acc': 50.02224199288256, 'loss': 5.891578197479248}\n"
     ]
    },
    {
     "name": "stderr",
     "output_type": "stream",
     "text": [
      "EP_train:2:   4%|| 292/6926 [00:28<10:28, 10.56it/s]"
     ]
    },
    {
     "name": "stdout",
     "output_type": "stream",
     "text": [
      "{'epoch': 2, 'iter': 290, 'avg_loss': 5.5402602526740115, 'avg_acc': 50.04295532646048, 'loss': 5.736452579498291}\n"
     ]
    },
    {
     "name": "stderr",
     "output_type": "stream",
     "text": [
      "EP_train:2:   4%|| 302/6926 [00:29<10:43, 10.30it/s]"
     ]
    },
    {
     "name": "stdout",
     "output_type": "stream",
     "text": [
      "{'epoch': 2, 'iter': 300, 'avg_loss': 5.5416887052035415, 'avg_acc': 50.12458471760798, 'loss': 5.257739543914795}\n"
     ]
    },
    {
     "name": "stderr",
     "output_type": "stream",
     "text": [
      "EP_train:2:   5%|| 312/6926 [00:30<10:18, 10.70it/s]"
     ]
    },
    {
     "name": "stdout",
     "output_type": "stream",
     "text": [
      "{'epoch': 2, 'iter': 310, 'avg_loss': 5.545283500021293, 'avg_acc': 49.989951768488744, 'loss': 5.375172138214111}\n"
     ]
    },
    {
     "name": "stderr",
     "output_type": "stream",
     "text": [
      "EP_train:2:   5%|| 322/6926 [00:31<11:07,  9.89it/s]"
     ]
    },
    {
     "name": "stdout",
     "output_type": "stream",
     "text": [
      "{'epoch': 2, 'iter': 320, 'avg_loss': 5.543907184838506, 'avg_acc': 49.902647975077876, 'loss': 5.626097202301025}\n"
     ]
    },
    {
     "name": "stderr",
     "output_type": "stream",
     "text": [
      "EP_train:2:   5%|| 333/6926 [00:32<10:35, 10.37it/s]"
     ]
    },
    {
     "name": "stdout",
     "output_type": "stream",
     "text": [
      "{'epoch': 2, 'iter': 330, 'avg_loss': 5.544040612223645, 'avg_acc': 49.82061933534743, 'loss': 5.4111480712890625}\n"
     ]
    },
    {
     "name": "stderr",
     "output_type": "stream",
     "text": [
      "EP_train:2:   5%|| 343/6926 [00:33<10:46, 10.18it/s]"
     ]
    },
    {
     "name": "stdout",
     "output_type": "stream",
     "text": [
      "{'epoch': 2, 'iter': 340, 'avg_loss': 5.54341441934759, 'avg_acc': 49.780058651026394, 'loss': 5.6970438957214355}\n"
     ]
    },
    {
     "name": "stderr",
     "output_type": "stream",
     "text": [
      "EP_train:2:   5%|| 353/6926 [00:34<10:48, 10.13it/s]"
     ]
    },
    {
     "name": "stdout",
     "output_type": "stream",
     "text": [
      "{'epoch': 2, 'iter': 350, 'avg_loss': 5.540211337923664, 'avg_acc': 49.78632478632478, 'loss': 5.462365627288818}\n"
     ]
    },
    {
     "name": "stderr",
     "output_type": "stream",
     "text": [
      "EP_train:2:   5%|| 363/6926 [00:35<10:43, 10.20it/s]"
     ]
    },
    {
     "name": "stdout",
     "output_type": "stream",
     "text": [
      "{'epoch': 2, 'iter': 360, 'avg_loss': 5.542323086070222, 'avg_acc': 49.731648199445985, 'loss': 5.5388007164001465}\n"
     ]
    },
    {
     "name": "stderr",
     "output_type": "stream",
     "text": [
      "EP_train:2:   5%|| 373/6926 [00:36<10:38, 10.26it/s]"
     ]
    },
    {
     "name": "stdout",
     "output_type": "stream",
     "text": [
      "{'epoch': 2, 'iter': 370, 'avg_loss': 5.544388528140086, 'avg_acc': 49.7894204851752, 'loss': 5.270507335662842}\n"
     ]
    },
    {
     "name": "stderr",
     "output_type": "stream",
     "text": [
      "EP_train:2:   6%|| 383/6926 [00:37<10:19, 10.56it/s]"
     ]
    },
    {
     "name": "stdout",
     "output_type": "stream",
     "text": [
      "{'epoch': 2, 'iter': 380, 'avg_loss': 5.545319712381038, 'avg_acc': 49.762139107611546, 'loss': 5.293978691101074}\n"
     ]
    },
    {
     "name": "stderr",
     "output_type": "stream",
     "text": [
      "EP_train:2:   6%|| 393/6926 [00:38<10:29, 10.38it/s]"
     ]
    },
    {
     "name": "stdout",
     "output_type": "stream",
     "text": [
      "{'epoch': 2, 'iter': 390, 'avg_loss': 5.548247410513251, 'avg_acc': 49.68829923273657, 'loss': 5.676231384277344}\n"
     ]
    },
    {
     "name": "stderr",
     "output_type": "stream",
     "text": [
      "EP_train:2:   6%|| 403/6926 [00:39<10:37, 10.24it/s]"
     ]
    },
    {
     "name": "stdout",
     "output_type": "stream",
     "text": [
      "{'epoch': 2, 'iter': 400, 'avg_loss': 5.549496955110545, 'avg_acc': 49.68827930174564, 'loss': 5.628578186035156}\n"
     ]
    },
    {
     "name": "stderr",
     "output_type": "stream",
     "text": [
      "EP_train:2:   6%|| 411/6926 [00:40<10:35, 10.26it/s]"
     ]
    },
    {
     "name": "stdout",
     "output_type": "stream",
     "text": [
      "{'epoch': 2, 'iter': 410, 'avg_loss': 5.554593853126767, 'avg_acc': 49.77189781021898, 'loss': 5.460640907287598}\n"
     ]
    },
    {
     "name": "stderr",
     "output_type": "stream",
     "text": [
      "EP_train:2:   6%|| 421/6926 [00:41<10:39, 10.17it/s]"
     ]
    },
    {
     "name": "stdout",
     "output_type": "stream",
     "text": [
      "{'epoch': 2, 'iter': 420, 'avg_loss': 5.554615587066868, 'avg_acc': 49.76989311163896, 'loss': 5.75006103515625}\n"
     ]
    },
    {
     "name": "stderr",
     "output_type": "stream",
     "text": [
      "EP_train:2:   6%|| 433/6926 [00:42<10:36, 10.19it/s]"
     ]
    },
    {
     "name": "stdout",
     "output_type": "stream",
     "text": [
      "{'epoch': 2, 'iter': 430, 'avg_loss': 5.554394754069034, 'avg_acc': 49.68822505800464, 'loss': 5.6147356033325195}\n"
     ]
    },
    {
     "name": "stderr",
     "output_type": "stream",
     "text": [
      "EP_train:2:   6%|| 441/6926 [00:43<10:18, 10.49it/s]"
     ]
    },
    {
     "name": "stdout",
     "output_type": "stream",
     "text": [
      "{'epoch': 2, 'iter': 440, 'avg_loss': 5.555701239579389, 'avg_acc': 49.70946712018141, 'loss': 5.122541427612305}\n"
     ]
    },
    {
     "name": "stderr",
     "output_type": "stream",
     "text": [
      "EP_train:2:   7%|| 451/6926 [00:44<10:47, 10.00it/s]"
     ]
    },
    {
     "name": "stdout",
     "output_type": "stream",
     "text": [
      "{'epoch': 2, 'iter': 450, 'avg_loss': 5.560132952857176, 'avg_acc': 49.681263858093125, 'loss': 5.906438827514648}\n"
     ]
    },
    {
     "name": "stderr",
     "output_type": "stream",
     "text": [
      "EP_train:2:   7%|| 463/6926 [00:45<11:05,  9.72it/s]"
     ]
    },
    {
     "name": "stdout",
     "output_type": "stream",
     "text": [
      "{'epoch': 2, 'iter': 460, 'avg_loss': 5.564043729786242, 'avg_acc': 49.64750542299349, 'loss': 5.879910469055176}\n"
     ]
    },
    {
     "name": "stderr",
     "output_type": "stream",
     "text": [
      "EP_train:2:   7%|| 473/6926 [00:46<10:31, 10.22it/s]"
     ]
    },
    {
     "name": "stdout",
     "output_type": "stream",
     "text": [
      "{'epoch': 2, 'iter': 470, 'avg_loss': 5.563229968846477, 'avg_acc': 49.68816348195329, 'loss': 5.785703182220459}\n"
     ]
    },
    {
     "name": "stderr",
     "output_type": "stream",
     "text": [
      "EP_train:2:   7%|| 483/6926 [00:47<10:42, 10.02it/s]"
     ]
    },
    {
     "name": "stdout",
     "output_type": "stream",
     "text": [
      "{'epoch': 2, 'iter': 480, 'avg_loss': 5.563383935147164, 'avg_acc': 49.5777027027027, 'loss': 5.643215656280518}\n"
     ]
    },
    {
     "name": "stderr",
     "output_type": "stream",
     "text": [
      "EP_train:2:   7%|| 493/6926 [00:48<10:24, 10.30it/s]"
     ]
    },
    {
     "name": "stdout",
     "output_type": "stream",
     "text": [
      "{'epoch': 2, 'iter': 490, 'avg_loss': 5.562302468993271, 'avg_acc': 49.688136456211815, 'loss': 5.349074363708496}\n"
     ]
    },
    {
     "name": "stderr",
     "output_type": "stream",
     "text": [
      "EP_train:2:   7%|| 503/6926 [00:49<10:29, 10.20it/s]"
     ]
    },
    {
     "name": "stdout",
     "output_type": "stream",
     "text": [
      "{'epoch': 2, 'iter': 500, 'avg_loss': 5.56275148544007, 'avg_acc': 49.73802395209581, 'loss': 5.5185322761535645}\n"
     ]
    },
    {
     "name": "stderr",
     "output_type": "stream",
     "text": [
      "EP_train:2:   7%|| 513/6926 [00:50<10:27, 10.22it/s]"
     ]
    },
    {
     "name": "stdout",
     "output_type": "stream",
     "text": [
      "{'epoch': 2, 'iter': 510, 'avg_loss': 5.563040649354341, 'avg_acc': 49.718688845401175, 'loss': 5.403042316436768}\n"
     ]
    },
    {
     "name": "stderr",
     "output_type": "stream",
     "text": [
      "EP_train:2:   8%|| 521/6926 [00:51<10:35, 10.08it/s]"
     ]
    },
    {
     "name": "stdout",
     "output_type": "stream",
     "text": [
      "{'epoch': 2, 'iter': 520, 'avg_loss': 5.562978396717738, 'avg_acc': 49.56214011516315, 'loss': 5.544999122619629}\n"
     ]
    },
    {
     "name": "stderr",
     "output_type": "stream",
     "text": [
      "EP_train:2:   8%|| 533/6926 [00:52<10:11, 10.45it/s]"
     ]
    },
    {
     "name": "stdout",
     "output_type": "stream",
     "text": [
      "{'epoch': 2, 'iter': 530, 'avg_loss': 5.562601174787388, 'avg_acc': 49.45856873822976, 'loss': 5.352389335632324}\n"
     ]
    },
    {
     "name": "stderr",
     "output_type": "stream",
     "text": [
      "EP_train:2:   8%|| 543/6926 [00:53<10:00, 10.63it/s]"
     ]
    },
    {
     "name": "stdout",
     "output_type": "stream",
     "text": [
      "{'epoch': 2, 'iter': 540, 'avg_loss': 5.561394414707825, 'avg_acc': 49.54944547134935, 'loss': 5.635300636291504}\n"
     ]
    },
    {
     "name": "stderr",
     "output_type": "stream",
     "text": [
      "EP_train:2:   8%|| 553/6926 [00:54<10:14, 10.37it/s]"
     ]
    },
    {
     "name": "stdout",
     "output_type": "stream",
     "text": [
      "{'epoch': 2, 'iter': 550, 'avg_loss': 5.56070234987567, 'avg_acc': 49.546279491833026, 'loss': 5.264928340911865}\n"
     ]
    },
    {
     "name": "stderr",
     "output_type": "stream",
     "text": [
      "EP_train:2:   8%|| 563/6926 [00:55<10:19, 10.27it/s]"
     ]
    },
    {
     "name": "stdout",
     "output_type": "stream",
     "text": [
      "{'epoch': 2, 'iter': 560, 'avg_loss': 5.5595790528146125, 'avg_acc': 49.54322638146167, 'loss': 5.42429780960083}\n"
     ]
    },
    {
     "name": "stderr",
     "output_type": "stream",
     "text": [
      "EP_train:2:   8%|| 573/6926 [00:56<10:13, 10.35it/s]"
     ]
    },
    {
     "name": "stdout",
     "output_type": "stream",
     "text": [
      "{'epoch': 2, 'iter': 570, 'avg_loss': 5.560146751002965, 'avg_acc': 49.55122591943958, 'loss': 5.793185234069824}\n"
     ]
    },
    {
     "name": "stderr",
     "output_type": "stream",
     "text": [
      "EP_train:2:   8%|| 583/6926 [00:57<10:19, 10.24it/s]"
     ]
    },
    {
     "name": "stdout",
     "output_type": "stream",
     "text": [
      "{'epoch': 2, 'iter': 580, 'avg_loss': 5.561824620488179, 'avg_acc': 49.48902753872633, 'loss': 5.736208438873291}\n"
     ]
    },
    {
     "name": "stderr",
     "output_type": "stream",
     "text": [
      "EP_train:2:   9%|| 593/6926 [00:58<10:26, 10.11it/s]"
     ]
    },
    {
     "name": "stdout",
     "output_type": "stream",
     "text": [
      "{'epoch': 2, 'iter': 590, 'avg_loss': 5.560501224498458, 'avg_acc': 49.502961082910325, 'loss': 5.570591449737549}\n"
     ]
    },
    {
     "name": "stderr",
     "output_type": "stream",
     "text": [
      "EP_train:2:   9%|| 603/6926 [00:59<10:00, 10.53it/s]"
     ]
    },
    {
     "name": "stdout",
     "output_type": "stream",
     "text": [
      "{'epoch': 2, 'iter': 600, 'avg_loss': 5.5615658529982985, 'avg_acc': 49.44883527454243, 'loss': 5.5492706298828125}\n"
     ]
    },
    {
     "name": "stderr",
     "output_type": "stream",
     "text": [
      "EP_train:2:   9%|| 613/6926 [01:00<10:20, 10.17it/s]"
     ]
    },
    {
     "name": "stdout",
     "output_type": "stream",
     "text": [
      "{'epoch': 2, 'iter': 610, 'avg_loss': 5.563117388617583, 'avg_acc': 49.49365793780687, 'loss': 5.556835651397705}\n"
     ]
    },
    {
     "name": "stderr",
     "output_type": "stream",
     "text": [
      "EP_train:2:   9%|| 623/6926 [01:01<10:30, 10.00it/s]"
     ]
    },
    {
     "name": "stdout",
     "output_type": "stream",
     "text": [
      "{'epoch': 2, 'iter': 620, 'avg_loss': 5.563132942586705, 'avg_acc': 49.47665056360708, 'loss': 5.109830856323242}\n"
     ]
    },
    {
     "name": "stderr",
     "output_type": "stream",
     "text": [
      "EP_train:2:   9%|| 633/6926 [01:02<10:10, 10.32it/s]"
     ]
    },
    {
     "name": "stdout",
     "output_type": "stream",
     "text": [
      "{'epoch': 2, 'iter': 630, 'avg_loss': 5.564121988420441, 'avg_acc': 49.455229793977814, 'loss': 5.7892961502075195}\n"
     ]
    },
    {
     "name": "stderr",
     "output_type": "stream",
     "text": [
      "EP_train:2:   9%|| 643/6926 [01:03<10:11, 10.28it/s]"
     ]
    },
    {
     "name": "stdout",
     "output_type": "stream",
     "text": [
      "{'epoch': 2, 'iter': 640, 'avg_loss': 5.563069810733408, 'avg_acc': 49.45885335413416, 'loss': 5.481314182281494}\n"
     ]
    },
    {
     "name": "stderr",
     "output_type": "stream",
     "text": [
      "EP_train:2:   9%|| 653/6926 [01:04<10:04, 10.37it/s]"
     ]
    },
    {
     "name": "stdout",
     "output_type": "stream",
     "text": [
      "{'epoch': 2, 'iter': 650, 'avg_loss': 5.5629387180193595, 'avg_acc': 49.45276497695853, 'loss': 5.512528896331787}\n"
     ]
    },
    {
     "name": "stderr",
     "output_type": "stream",
     "text": [
      "EP_train:2:  10%|| 663/6926 [01:05<10:18, 10.13it/s]"
     ]
    },
    {
     "name": "stdout",
     "output_type": "stream",
     "text": [
      "{'epoch': 2, 'iter': 660, 'avg_loss': 5.562412142933948, 'avg_acc': 49.47049924357035, 'loss': 5.390627861022949}\n"
     ]
    },
    {
     "name": "stderr",
     "output_type": "stream",
     "text": [
      "EP_train:2:  10%|| 671/6926 [01:05<10:01, 10.40it/s]"
     ]
    },
    {
     "name": "stdout",
     "output_type": "stream",
     "text": [
      "{'epoch': 2, 'iter': 670, 'avg_loss': 5.560434470766525, 'avg_acc': 49.43647540983606, 'loss': 5.419724464416504}\n"
     ]
    },
    {
     "name": "stderr",
     "output_type": "stream",
     "text": [
      "EP_train:2:  10%|| 683/6926 [01:07<10:17, 10.10it/s]"
     ]
    },
    {
     "name": "stdout",
     "output_type": "stream",
     "text": [
      "{'epoch': 2, 'iter': 680, 'avg_loss': 5.560166940815123, 'avg_acc': 49.47228340675478, 'loss': 5.48992395401001}\n"
     ]
    },
    {
     "name": "stderr",
     "output_type": "stream",
     "text": [
      "EP_train:2:  10%|| 693/6926 [01:08<10:26,  9.95it/s]"
     ]
    },
    {
     "name": "stdout",
     "output_type": "stream",
     "text": [
      "{'epoch': 2, 'iter': 690, 'avg_loss': 5.559774852178549, 'avg_acc': 49.479920405209846, 'loss': 5.75522518157959}\n"
     ]
    },
    {
     "name": "stderr",
     "output_type": "stream",
     "text": [
      "EP_train:2:  10%|| 702/6926 [01:08<09:53, 10.48it/s]"
     ]
    },
    {
     "name": "stdout",
     "output_type": "stream",
     "text": [
      "{'epoch': 2, 'iter': 700, 'avg_loss': 5.560171085145436, 'avg_acc': 49.50962910128388, 'loss': 5.822068691253662}\n"
     ]
    },
    {
     "name": "stderr",
     "output_type": "stream",
     "text": [
      "EP_train:2:  10%|| 712/6926 [01:09<10:07, 10.23it/s]"
     ]
    },
    {
     "name": "stdout",
     "output_type": "stream",
     "text": [
      "{'epoch': 2, 'iter': 710, 'avg_loss': 5.561351915619712, 'avg_acc': 49.5253164556962, 'loss': 5.5441155433654785}\n"
     ]
    },
    {
     "name": "stderr",
     "output_type": "stream",
     "text": [
      "EP_train:2:  10%|| 722/6926 [01:10<09:33, 10.83it/s]"
     ]
    },
    {
     "name": "stdout",
     "output_type": "stream",
     "text": [
      "{'epoch': 2, 'iter': 720, 'avg_loss': 5.563637293658211, 'avg_acc': 49.562239944521494, 'loss': 5.37034273147583}\n"
     ]
    },
    {
     "name": "stderr",
     "output_type": "stream",
     "text": [
      "EP_train:2:  11%|| 732/6926 [01:11<10:07, 10.20it/s]"
     ]
    },
    {
     "name": "stdout",
     "output_type": "stream",
     "text": [
      "{'epoch': 2, 'iter': 730, 'avg_loss': 5.563000767077695, 'avg_acc': 49.62807797537619, 'loss': 5.399135589599609}\n"
     ]
    },
    {
     "name": "stderr",
     "output_type": "stream",
     "text": [
      "EP_train:2:  11%|| 743/6926 [01:12<10:04, 10.23it/s]"
     ]
    },
    {
     "name": "stdout",
     "output_type": "stream",
     "text": [
      "{'epoch': 2, 'iter': 740, 'avg_loss': 5.563105749215191, 'avg_acc': 49.62044534412956, 'loss': 5.594088554382324}\n"
     ]
    },
    {
     "name": "stderr",
     "output_type": "stream",
     "text": [
      "EP_train:2:  11%|| 753/6926 [01:13<09:55, 10.36it/s]"
     ]
    },
    {
     "name": "stdout",
     "output_type": "stream",
     "text": [
      "{'epoch': 2, 'iter': 750, 'avg_loss': 5.560627654135306, 'avg_acc': 49.62549933422104, 'loss': 5.1973161697387695}\n"
     ]
    },
    {
     "name": "stderr",
     "output_type": "stream",
     "text": [
      "EP_train:2:  11%|| 763/6926 [01:14<10:12, 10.06it/s]"
     ]
    },
    {
     "name": "stdout",
     "output_type": "stream",
     "text": [
      "{'epoch': 2, 'iter': 760, 'avg_loss': 5.561666283751599, 'avg_acc': 49.63452693823916, 'loss': 5.291391849517822}\n"
     ]
    },
    {
     "name": "stderr",
     "output_type": "stream",
     "text": [
      "EP_train:2:  11%|| 773/6926 [01:15<09:58, 10.28it/s]"
     ]
    },
    {
     "name": "stdout",
     "output_type": "stream",
     "text": [
      "{'epoch': 2, 'iter': 770, 'avg_loss': 5.561193424749312, 'avg_acc': 49.65142671854734, 'loss': 5.686850070953369}\n"
     ]
    },
    {
     "name": "stderr",
     "output_type": "stream",
     "text": [
      "EP_train:2:  11%|| 783/6926 [01:16<09:45, 10.49it/s]"
     ]
    },
    {
     "name": "stdout",
     "output_type": "stream",
     "text": [
      "{'epoch': 2, 'iter': 780, 'avg_loss': 5.559553772172916, 'avg_acc': 49.71190781049936, 'loss': 5.74126672744751}\n"
     ]
    },
    {
     "name": "stderr",
     "output_type": "stream",
     "text": [
      "EP_train:2:  11%|| 793/6926 [01:17<09:44, 10.49it/s]"
     ]
    },
    {
     "name": "stdout",
     "output_type": "stream",
     "text": [
      "{'epoch': 2, 'iter': 790, 'avg_loss': 5.557832744419952, 'avg_acc': 49.73925410872314, 'loss': 5.580859661102295}\n"
     ]
    },
    {
     "name": "stderr",
     "output_type": "stream",
     "text": [
      "EP_train:2:  12%|| 803/6926 [01:18<09:51, 10.34it/s]"
     ]
    },
    {
     "name": "stdout",
     "output_type": "stream",
     "text": [
      "{'epoch': 2, 'iter': 800, 'avg_loss': 5.5577362432015525, 'avg_acc': 49.74641073657928, 'loss': 5.412113189697266}\n"
     ]
    },
    {
     "name": "stderr",
     "output_type": "stream",
     "text": [
      "EP_train:2:  12%|| 813/6926 [01:19<10:03, 10.13it/s]"
     ]
    },
    {
     "name": "stdout",
     "output_type": "stream",
     "text": [
      "{'epoch': 2, 'iter': 810, 'avg_loss': 5.558519390449571, 'avg_acc': 49.768803945745994, 'loss': 5.554296970367432}\n"
     ]
    },
    {
     "name": "stderr",
     "output_type": "stream",
     "text": [
      "EP_train:2:  12%|| 823/6926 [01:20<10:06, 10.06it/s]"
     ]
    },
    {
     "name": "stdout",
     "output_type": "stream",
     "text": [
      "{'epoch': 2, 'iter': 820, 'avg_loss': 5.557262952667497, 'avg_acc': 49.756394640682096, 'loss': 5.934225082397461}\n"
     ]
    },
    {
     "name": "stderr",
     "output_type": "stream",
     "text": [
      "EP_train:2:  12%|| 833/6926 [01:21<09:52, 10.28it/s]"
     ]
    },
    {
     "name": "stdout",
     "output_type": "stream",
     "text": [
      "{'epoch': 2, 'iter': 830, 'avg_loss': 5.557517734532178, 'avg_acc': 49.77812876052948, 'loss': 5.743847846984863}\n"
     ]
    },
    {
     "name": "stderr",
     "output_type": "stream",
     "text": [
      "EP_train:2:  12%|| 842/6926 [01:22<10:08, 10.00it/s]"
     ]
    },
    {
     "name": "stdout",
     "output_type": "stream",
     "text": [
      "{'epoch': 2, 'iter': 840, 'avg_loss': 5.557913668515708, 'avg_acc': 49.77705112960761, 'loss': 5.568587779998779}\n"
     ]
    },
    {
     "name": "stderr",
     "output_type": "stream",
     "text": [
      "EP_train:2:  12%|| 851/6926 [01:23<09:49, 10.31it/s]"
     ]
    },
    {
     "name": "stdout",
     "output_type": "stream",
     "text": [
      "{'epoch': 2, 'iter': 850, 'avg_loss': 5.5587573370838275, 'avg_acc': 49.73927732079906, 'loss': 5.778880596160889}\n"
     ]
    },
    {
     "name": "stderr",
     "output_type": "stream",
     "text": [
      "EP_train:2:  12%|| 863/6926 [01:24<09:58, 10.13it/s]"
     ]
    },
    {
     "name": "stdout",
     "output_type": "stream",
     "text": [
      "{'epoch': 2, 'iter': 860, 'avg_loss': 5.559365219355461, 'avg_acc': 49.753193960511034, 'loss': 5.540230751037598}\n"
     ]
    },
    {
     "name": "stderr",
     "output_type": "stream",
     "text": [
      "EP_train:2:  13%|| 873/6926 [01:25<10:02, 10.05it/s]"
     ]
    },
    {
     "name": "stdout",
     "output_type": "stream",
     "text": [
      "{'epoch': 2, 'iter': 870, 'avg_loss': 5.557611561806961, 'avg_acc': 49.74167623421355, 'loss': 5.8192009925842285}\n"
     ]
    },
    {
     "name": "stderr",
     "output_type": "stream",
     "text": [
      "EP_train:2:  13%|| 883/6926 [01:26<09:50, 10.23it/s]"
     ]
    },
    {
     "name": "stdout",
     "output_type": "stream",
     "text": [
      "{'epoch': 2, 'iter': 880, 'avg_loss': 5.556734684241617, 'avg_acc': 49.74815550510783, 'loss': 5.808108806610107}\n"
     ]
    },
    {
     "name": "stderr",
     "output_type": "stream",
     "text": [
      "EP_train:2:  13%|| 893/6926 [01:27<10:01, 10.02it/s]"
     ]
    },
    {
     "name": "stdout",
     "output_type": "stream",
     "text": [
      "{'epoch': 2, 'iter': 890, 'avg_loss': 5.555987576978108, 'avg_acc': 49.740460157126826, 'loss': 5.5096845626831055}\n"
     ]
    },
    {
     "name": "stderr",
     "output_type": "stream",
     "text": [
      "EP_train:2:  13%|| 903/6926 [01:28<09:36, 10.46it/s]"
     ]
    },
    {
     "name": "stdout",
     "output_type": "stream",
     "text": [
      "{'epoch': 2, 'iter': 900, 'avg_loss': 5.555391584199488, 'avg_acc': 49.71906215316315, 'loss': 5.698527812957764}\n"
     ]
    },
    {
     "name": "stderr",
     "output_type": "stream",
     "text": [
      "EP_train:2:  13%|| 911/6926 [01:29<09:36, 10.43it/s]"
     ]
    },
    {
     "name": "stdout",
     "output_type": "stream",
     "text": [
      "{'epoch': 2, 'iter': 910, 'avg_loss': 5.555609950119002, 'avg_acc': 49.680982436882545, 'loss': 5.395873546600342}\n"
     ]
    },
    {
     "name": "stderr",
     "output_type": "stream",
     "text": [
      "EP_train:2:  13%|| 923/6926 [01:30<10:05,  9.92it/s]"
     ]
    },
    {
     "name": "stdout",
     "output_type": "stream",
     "text": [
      "{'epoch': 2, 'iter': 920, 'avg_loss': 5.557393595916052, 'avg_acc': 49.664087947882734, 'loss': 5.152304649353027}\n"
     ]
    },
    {
     "name": "stderr",
     "output_type": "stream",
     "text": [
      "EP_train:2:  13%|| 933/6926 [01:31<09:31, 10.49it/s]"
     ]
    },
    {
     "name": "stdout",
     "output_type": "stream",
     "text": [
      "{'epoch': 2, 'iter': 930, 'avg_loss': 5.555773662317196, 'avg_acc': 49.64755639097744, 'loss': 5.146878719329834}\n"
     ]
    },
    {
     "name": "stderr",
     "output_type": "stream",
     "text": [
      "EP_train:2:  14%|| 941/6926 [01:32<09:46, 10.21it/s]"
     ]
    },
    {
     "name": "stdout",
     "output_type": "stream",
     "text": [
      "{'epoch': 2, 'iter': 940, 'avg_loss': 5.555256888666264, 'avg_acc': 49.64465993623804, 'loss': 5.704695224761963}\n"
     ]
    },
    {
     "name": "stderr",
     "output_type": "stream",
     "text": [
      "EP_train:2:  14%|| 953/6926 [01:33<09:42, 10.26it/s]"
     ]
    },
    {
     "name": "stdout",
     "output_type": "stream",
     "text": [
      "{'epoch': 2, 'iter': 950, 'avg_loss': 5.553889340281361, 'avg_acc': 49.6352523659306, 'loss': 5.262970447540283}\n"
     ]
    },
    {
     "name": "stderr",
     "output_type": "stream",
     "text": [
      "EP_train:2:  14%|| 961/6926 [01:34<09:43, 10.22it/s]"
     ]
    },
    {
     "name": "stdout",
     "output_type": "stream",
     "text": [
      "{'epoch': 2, 'iter': 960, 'avg_loss': 5.554296030090205, 'avg_acc': 49.619536940686785, 'loss': 5.454714298248291}\n"
     ]
    },
    {
     "name": "stderr",
     "output_type": "stream",
     "text": [
      "EP_train:2:  14%|| 971/6926 [01:35<10:01,  9.89it/s]"
     ]
    },
    {
     "name": "stdout",
     "output_type": "stream",
     "text": [
      "{'epoch': 2, 'iter': 970, 'avg_loss': 5.554765493076689, 'avg_acc': 49.681385169927914, 'loss': 5.885153293609619}\n"
     ]
    },
    {
     "name": "stderr",
     "output_type": "stream",
     "text": [
      "EP_train:2:  14%|| 983/6926 [01:36<09:44, 10.17it/s]"
     ]
    },
    {
     "name": "stdout",
     "output_type": "stream",
     "text": [
      "{'epoch': 2, 'iter': 980, 'avg_loss': 5.555298053282603, 'avg_acc': 49.684633027522935, 'loss': 5.475001811981201}\n"
     ]
    },
    {
     "name": "stderr",
     "output_type": "stream",
     "text": [
      "EP_train:2:  14%|| 992/6926 [01:37<10:04,  9.81it/s]"
     ]
    },
    {
     "name": "stdout",
     "output_type": "stream",
     "text": [
      "{'epoch': 2, 'iter': 990, 'avg_loss': 5.553804026121568, 'avg_acc': 49.697275479313824, 'loss': 5.539831638336182}\n"
     ]
    },
    {
     "name": "stderr",
     "output_type": "stream",
     "text": [
      "EP_train:2:  14%|| 1002/6926 [01:38<10:17,  9.60it/s]"
     ]
    },
    {
     "name": "stdout",
     "output_type": "stream",
     "text": [
      "{'epoch': 2, 'iter': 1000, 'avg_loss': 5.55184159626613, 'avg_acc': 49.70654345654346, 'loss': 5.381595611572266}\n"
     ]
    },
    {
     "name": "stderr",
     "output_type": "stream",
     "text": [
      "EP_train:2:  15%|| 1012/6926 [01:39<09:33, 10.31it/s]"
     ]
    },
    {
     "name": "stdout",
     "output_type": "stream",
     "text": [
      "{'epoch': 2, 'iter': 1010, 'avg_loss': 5.553889949998563, 'avg_acc': 49.68162710187933, 'loss': 6.296281337738037}\n"
     ]
    },
    {
     "name": "stderr",
     "output_type": "stream",
     "text": [
      "EP_train:2:  15%|| 1022/6926 [01:40<09:48, 10.03it/s]"
     ]
    },
    {
     "name": "stdout",
     "output_type": "stream",
     "text": [
      "{'epoch': 2, 'iter': 1020, 'avg_loss': 5.55499693088737, 'avg_acc': 49.66025954946131, 'loss': 5.590906620025635}\n"
     ]
    },
    {
     "name": "stderr",
     "output_type": "stream",
     "text": [
      "EP_train:2:  15%|| 1032/6926 [01:41<09:47, 10.03it/s]"
     ]
    },
    {
     "name": "stdout",
     "output_type": "stream",
     "text": [
      "{'epoch': 2, 'iter': 1030, 'avg_loss': 5.554042263012506, 'avg_acc': 49.666585838991274, 'loss': 5.432567596435547}\n"
     ]
    },
    {
     "name": "stderr",
     "output_type": "stream",
     "text": [
      "EP_train:2:  15%|| 1042/6926 [01:42<09:42, 10.11it/s]"
     ]
    },
    {
     "name": "stdout",
     "output_type": "stream",
     "text": [
      "{'epoch': 2, 'iter': 1040, 'avg_loss': 5.5547507072617295, 'avg_acc': 49.63076368876081, 'loss': 5.630324840545654}\n"
     ]
    },
    {
     "name": "stderr",
     "output_type": "stream",
     "text": [
      "EP_train:2:  15%|| 1052/6926 [01:43<09:17, 10.54it/s]"
     ]
    },
    {
     "name": "stdout",
     "output_type": "stream",
     "text": [
      "{'epoch': 2, 'iter': 1050, 'avg_loss': 5.554347257405435, 'avg_acc': 49.661037107516655, 'loss': 5.354854106903076}\n"
     ]
    },
    {
     "name": "stderr",
     "output_type": "stream",
     "text": [
      "EP_train:2:  15%|| 1062/6926 [01:44<09:31, 10.26it/s]"
     ]
    },
    {
     "name": "stdout",
     "output_type": "stream",
     "text": [
      "{'epoch': 2, 'iter': 1060, 'avg_loss': 5.554490970284393, 'avg_acc': 49.66128652214892, 'loss': 6.133072376251221}\n"
     ]
    },
    {
     "name": "stderr",
     "output_type": "stream",
     "text": [
      "EP_train:2:  15%|| 1072/6926 [01:45<09:16, 10.51it/s]"
     ]
    },
    {
     "name": "stdout",
     "output_type": "stream",
     "text": [
      "{'epoch': 2, 'iter': 1070, 'avg_loss': 5.554487769788498, 'avg_acc': 49.693627450980394, 'loss': 5.366241931915283}\n"
     ]
    },
    {
     "name": "stderr",
     "output_type": "stream",
     "text": [
      "EP_train:2:  16%|| 1082/6926 [01:46<09:24, 10.35it/s]"
     ]
    },
    {
     "name": "stdout",
     "output_type": "stream",
     "text": [
      "{'epoch': 2, 'iter': 1080, 'avg_loss': 5.554213159951097, 'avg_acc': 49.70513413506013, 'loss': 5.581179141998291}\n"
     ]
    },
    {
     "name": "stderr",
     "output_type": "stream",
     "text": [
      "EP_train:2:  16%|| 1092/6926 [01:47<09:38, 10.09it/s]"
     ]
    },
    {
     "name": "stdout",
     "output_type": "stream",
     "text": [
      "{'epoch': 2, 'iter': 1090, 'avg_loss': 5.553144015706427, 'avg_acc': 49.71070119156737, 'loss': 4.916901588439941}\n"
     ]
    },
    {
     "name": "stderr",
     "output_type": "stream",
     "text": [
      "EP_train:2:  16%|| 1102/6926 [01:48<09:36, 10.10it/s]"
     ]
    },
    {
     "name": "stdout",
     "output_type": "stream",
     "text": [
      "{'epoch': 2, 'iter': 1100, 'avg_loss': 5.552247442839689, 'avg_acc': 49.67926884650318, 'loss': 5.263431549072266}\n"
     ]
    },
    {
     "name": "stderr",
     "output_type": "stream",
     "text": [
      "EP_train:2:  16%|| 1112/6926 [01:49<09:33, 10.14it/s]"
     ]
    },
    {
     "name": "stdout",
     "output_type": "stream",
     "text": [
      "{'epoch': 2, 'iter': 1110, 'avg_loss': 5.5532009616614895, 'avg_acc': 49.639963996399636, 'loss': 5.920503616333008}\n"
     ]
    },
    {
     "name": "stderr",
     "output_type": "stream",
     "text": [
      "EP_train:2:  16%|| 1122/6926 [01:50<09:26, 10.25it/s]"
     ]
    },
    {
     "name": "stdout",
     "output_type": "stream",
     "text": [
      "{'epoch': 2, 'iter': 1120, 'avg_loss': 5.553335494382588, 'avg_acc': 49.66268956289028, 'loss': 5.667577266693115}\n"
     ]
    },
    {
     "name": "stderr",
     "output_type": "stream",
     "text": [
      "EP_train:2:  16%|| 1132/6926 [01:51<09:39, 10.00it/s]"
     ]
    },
    {
     "name": "stdout",
     "output_type": "stream",
     "text": [
      "{'epoch': 2, 'iter': 1130, 'avg_loss': 5.552047242958076, 'avg_acc': 49.69606542882405, 'loss': 5.559237480163574}\n"
     ]
    },
    {
     "name": "stderr",
     "output_type": "stream",
     "text": [
      "EP_train:2:  17%|| 1143/6926 [01:52<09:30, 10.14it/s]"
     ]
    },
    {
     "name": "stdout",
     "output_type": "stream",
     "text": [
      "{'epoch': 2, 'iter': 1140, 'avg_loss': 5.55209045761202, 'avg_acc': 49.66312445223488, 'loss': 4.982733726501465}\n"
     ]
    },
    {
     "name": "stderr",
     "output_type": "stream",
     "text": [
      "EP_train:2:  17%|| 1151/6926 [01:52<09:23, 10.25it/s]"
     ]
    },
    {
     "name": "stdout",
     "output_type": "stream",
     "text": [
      "{'epoch': 2, 'iter': 1150, 'avg_loss': 5.55252426795396, 'avg_acc': 49.63347089487402, 'loss': 5.794677257537842}\n"
     ]
    },
    {
     "name": "stderr",
     "output_type": "stream",
     "text": [
      "EP_train:2:  17%|| 1161/6926 [01:53<09:24, 10.21it/s]"
     ]
    },
    {
     "name": "stdout",
     "output_type": "stream",
     "text": [
      "{'epoch': 2, 'iter': 1160, 'avg_loss': 5.5519550813877, 'avg_acc': 49.647394487510766, 'loss': 5.096994876861572}\n"
     ]
    },
    {
     "name": "stderr",
     "output_type": "stream",
     "text": [
      "EP_train:2:  17%|| 1173/6926 [01:55<09:14, 10.38it/s]"
     ]
    },
    {
     "name": "stdout",
     "output_type": "stream",
     "text": [
      "{'epoch': 2, 'iter': 1170, 'avg_loss': 5.552421925314261, 'avg_acc': 49.661080273270706, 'loss': 5.826661109924316}\n"
     ]
    },
    {
     "name": "stderr",
     "output_type": "stream",
     "text": [
      "EP_train:2:  17%|| 1182/6926 [01:56<09:30, 10.07it/s]"
     ]
    },
    {
     "name": "stdout",
     "output_type": "stream",
     "text": [
      "{'epoch': 2, 'iter': 1180, 'avg_loss': 5.5534585901077875, 'avg_acc': 49.61367485182049, 'loss': 5.738749980926514}\n"
     ]
    },
    {
     "name": "stderr",
     "output_type": "stream",
     "text": [
      "EP_train:2:  17%|| 1191/6926 [01:56<09:19, 10.24it/s]"
     ]
    },
    {
     "name": "stdout",
     "output_type": "stream",
     "text": [
      "{'epoch': 2, 'iter': 1190, 'avg_loss': 5.553669950323481, 'avg_acc': 49.60642317380353, 'loss': 5.545295238494873}\n"
     ]
    },
    {
     "name": "stderr",
     "output_type": "stream",
     "text": [
      "EP_train:2:  17%|| 1203/6926 [01:58<09:20, 10.20it/s]"
     ]
    },
    {
     "name": "stdout",
     "output_type": "stream",
     "text": [
      "{'epoch': 2, 'iter': 1200, 'avg_loss': 5.554445926990239, 'avg_acc': 49.607098251457124, 'loss': 5.48179292678833}\n"
     ]
    },
    {
     "name": "stderr",
     "output_type": "stream",
     "text": [
      "EP_train:2:  18%|| 1213/6926 [01:59<09:32,  9.98it/s]"
     ]
    },
    {
     "name": "stdout",
     "output_type": "stream",
     "text": [
      "{'epoch': 2, 'iter': 1210, 'avg_loss': 5.553458989503263, 'avg_acc': 49.600020644095785, 'loss': 5.816409111022949}\n"
     ]
    },
    {
     "name": "stderr",
     "output_type": "stream",
     "text": [
      "EP_train:2:  18%|| 1222/6926 [02:00<09:14, 10.28it/s]"
     ]
    },
    {
     "name": "stdout",
     "output_type": "stream",
     "text": [
      "{'epoch': 2, 'iter': 1220, 'avg_loss': 5.552609308541163, 'avg_acc': 49.58538083538084, 'loss': 5.490800380706787}\n"
     ]
    },
    {
     "name": "stderr",
     "output_type": "stream",
     "text": [
      "EP_train:2:  18%|| 1233/6926 [02:01<09:15, 10.25it/s]"
     ]
    },
    {
     "name": "stdout",
     "output_type": "stream",
     "text": [
      "{'epoch': 2, 'iter': 1230, 'avg_loss': 5.552614387896465, 'avg_acc': 49.64713647441105, 'loss': 5.126682758331299}\n"
     ]
    },
    {
     "name": "stderr",
     "output_type": "stream",
     "text": [
      "EP_train:2:  18%|| 1243/6926 [02:02<09:01, 10.49it/s]"
     ]
    },
    {
     "name": "stdout",
     "output_type": "stream",
     "text": [
      "{'epoch': 2, 'iter': 1240, 'avg_loss': 5.551600933843424, 'avg_acc': 49.617244157937144, 'loss': 5.091872692108154}\n"
     ]
    },
    {
     "name": "stderr",
     "output_type": "stream",
     "text": [
      "EP_train:2:  18%|| 1251/6926 [02:02<09:11, 10.29it/s]"
     ]
    },
    {
     "name": "stdout",
     "output_type": "stream",
     "text": [
      "{'epoch': 2, 'iter': 1250, 'avg_loss': 5.551201065667241, 'avg_acc': 49.5953237410072, 'loss': 5.463608741760254}\n"
     ]
    },
    {
     "name": "stderr",
     "output_type": "stream",
     "text": [
      "EP_train:2:  18%|| 1263/6926 [02:04<09:18, 10.14it/s]"
     ]
    },
    {
     "name": "stdout",
     "output_type": "stream",
     "text": [
      "{'epoch': 2, 'iter': 1260, 'avg_loss': 5.551439391914386, 'avg_acc': 49.64314036478985, 'loss': 5.6188740730285645}\n"
     ]
    },
    {
     "name": "stderr",
     "output_type": "stream",
     "text": [
      "EP_train:2:  18%|| 1271/6926 [02:04<09:14, 10.21it/s]"
     ]
    },
    {
     "name": "stdout",
     "output_type": "stream",
     "text": [
      "{'epoch': 2, 'iter': 1270, 'avg_loss': 5.550752028248424, 'avg_acc': 49.63857199055862, 'loss': 5.397058486938477}\n"
     ]
    },
    {
     "name": "stderr",
     "output_type": "stream",
     "text": [
      "EP_train:2:  19%|| 1283/6926 [02:05<09:02, 10.39it/s]"
     ]
    },
    {
     "name": "stdout",
     "output_type": "stream",
     "text": [
      "{'epoch': 2, 'iter': 1280, 'avg_loss': 5.550579299599188, 'avg_acc': 49.64383294301327, 'loss': 5.3809943199157715}\n"
     ]
    },
    {
     "name": "stderr",
     "output_type": "stream",
     "text": [
      "EP_train:2:  19%|| 1291/6926 [02:06<09:06, 10.31it/s]"
     ]
    },
    {
     "name": "stdout",
     "output_type": "stream",
     "text": [
      "{'epoch': 2, 'iter': 1290, 'avg_loss': 5.55082052202764, 'avg_acc': 49.65385360185902, 'loss': 5.766688346862793}\n"
     ]
    },
    {
     "name": "stderr",
     "output_type": "stream",
     "text": [
      "EP_train:2:  19%|| 1303/6926 [02:07<09:09, 10.23it/s]"
     ]
    },
    {
     "name": "stdout",
     "output_type": "stream",
     "text": [
      "{'epoch': 2, 'iter': 1300, 'avg_loss': 5.550097694221045, 'avg_acc': 49.656514219830896, 'loss': 5.411375522613525}\n"
     ]
    },
    {
     "name": "stderr",
     "output_type": "stream",
     "text": [
      "EP_train:2:  19%|| 1313/6926 [02:08<09:17, 10.08it/s]"
     ]
    },
    {
     "name": "stdout",
     "output_type": "stream",
     "text": [
      "{'epoch': 2, 'iter': 1310, 'avg_loss': 5.549733038261408, 'avg_acc': 49.649599542334094, 'loss': 5.47760009765625}\n"
     ]
    },
    {
     "name": "stderr",
     "output_type": "stream",
     "text": [
      "EP_train:2:  19%|| 1321/6926 [02:09<09:19, 10.01it/s]"
     ]
    },
    {
     "name": "stdout",
     "output_type": "stream",
     "text": [
      "{'epoch': 2, 'iter': 1320, 'avg_loss': 5.551025618395058, 'avg_acc': 49.68537093111279, 'loss': 5.877622604370117}\n"
     ]
    },
    {
     "name": "stderr",
     "output_type": "stream",
     "text": [
      "EP_train:2:  19%|| 1333/6926 [02:10<08:54, 10.47it/s]"
     ]
    },
    {
     "name": "stdout",
     "output_type": "stream",
     "text": [
      "{'epoch': 2, 'iter': 1330, 'avg_loss': 5.550959154683607, 'avg_acc': 49.71121337340346, 'loss': 5.269765853881836}\n"
     ]
    },
    {
     "name": "stderr",
     "output_type": "stream",
     "text": [
      "EP_train:2:  19%|| 1343/6926 [02:11<09:04, 10.25it/s]"
     ]
    },
    {
     "name": "stdout",
     "output_type": "stream",
     "text": [
      "{'epoch': 2, 'iter': 1340, 'avg_loss': 5.5508652433897465, 'avg_acc': 49.69705443698732, 'loss': 5.07345724105835}\n"
     ]
    },
    {
     "name": "stderr",
     "output_type": "stream",
     "text": [
      "EP_train:2:  20%|| 1353/6926 [02:12<09:12, 10.08it/s]"
     ]
    },
    {
     "name": "stdout",
     "output_type": "stream",
     "text": [
      "{'epoch': 2, 'iter': 1350, 'avg_loss': 5.55056821179337, 'avg_acc': 49.692357512953365, 'loss': 6.136601448059082}\n"
     ]
    },
    {
     "name": "stderr",
     "output_type": "stream",
     "text": [
      "EP_train:2:  20%|| 1363/6926 [02:13<08:40, 10.69it/s]"
     ]
    },
    {
     "name": "stdout",
     "output_type": "stream",
     "text": [
      "{'epoch': 2, 'iter': 1360, 'avg_loss': 5.549960595732835, 'avg_acc': 49.66936076414401, 'loss': 4.999161720275879}\n"
     ]
    },
    {
     "name": "stderr",
     "output_type": "stream",
     "text": [
      "EP_train:2:  20%|| 1371/6926 [02:14<09:10, 10.09it/s]"
     ]
    },
    {
     "name": "stdout",
     "output_type": "stream",
     "text": [
      "{'epoch': 2, 'iter': 1370, 'avg_loss': 5.549885144988435, 'avg_acc': 49.628464624361776, 'loss': 5.335177421569824}\n"
     ]
    },
    {
     "name": "stderr",
     "output_type": "stream",
     "text": [
      "EP_train:2:  20%|| 1383/6926 [02:15<08:56, 10.33it/s]"
     ]
    },
    {
     "name": "stdout",
     "output_type": "stream",
     "text": [
      "{'epoch': 2, 'iter': 1380, 'avg_loss': 5.5498417395771975, 'avg_acc': 49.640206372194065, 'loss': 5.9536824226379395}\n"
     ]
    },
    {
     "name": "stderr",
     "output_type": "stream",
     "text": [
      "EP_train:2:  20%|| 1391/6926 [02:16<09:11, 10.04it/s]"
     ]
    },
    {
     "name": "stdout",
     "output_type": "stream",
     "text": [
      "{'epoch': 2, 'iter': 1390, 'avg_loss': 5.54908622176762, 'avg_acc': 49.67199856218548, 'loss': 5.393708229064941}\n"
     ]
    },
    {
     "name": "stderr",
     "output_type": "stream",
     "text": [
      "EP_train:2:  20%|| 1403/6926 [02:17<09:16,  9.92it/s]"
     ]
    },
    {
     "name": "stdout",
     "output_type": "stream",
     "text": [
      "{'epoch': 2, 'iter': 1400, 'avg_loss': 5.548091277150407, 'avg_acc': 49.71672019985724, 'loss': 5.981685638427734}\n"
     ]
    },
    {
     "name": "stderr",
     "output_type": "stream",
     "text": [
      "EP_train:2:  20%|| 1413/6926 [02:18<08:57, 10.26it/s]"
     ]
    },
    {
     "name": "stdout",
     "output_type": "stream",
     "text": [
      "{'epoch': 2, 'iter': 1410, 'avg_loss': 5.5475599939818085, 'avg_acc': 49.725372076541454, 'loss': 5.548161506652832}\n"
     ]
    },
    {
     "name": "stderr",
     "output_type": "stream",
     "text": [
      "EP_train:2:  21%|| 1423/6926 [02:19<09:12,  9.96it/s]"
     ]
    },
    {
     "name": "stdout",
     "output_type": "stream",
     "text": [
      "{'epoch': 2, 'iter': 1420, 'avg_loss': 5.5488415791231676, 'avg_acc': 49.73610133708656, 'loss': 6.017981052398682}\n"
     ]
    },
    {
     "name": "stderr",
     "output_type": "stream",
     "text": [
      "EP_train:2:  21%|| 1432/6926 [02:20<09:23,  9.75it/s]"
     ]
    },
    {
     "name": "stdout",
     "output_type": "stream",
     "text": [
      "{'epoch': 2, 'iter': 1430, 'avg_loss': 5.548786069362168, 'avg_acc': 49.74668064290706, 'loss': 5.361126899719238}\n"
     ]
    },
    {
     "name": "stderr",
     "output_type": "stream",
     "text": [
      "EP_train:2:  21%|| 1442/6926 [02:21<09:41,  9.44it/s]"
     ]
    },
    {
     "name": "stdout",
     "output_type": "stream",
     "text": [
      "{'epoch': 2, 'iter': 1440, 'avg_loss': 5.5500059809476285, 'avg_acc': 49.77446217904233, 'loss': 5.744013786315918}\n"
     ]
    },
    {
     "name": "stderr",
     "output_type": "stream",
     "text": [
      "EP_train:2:  21%|| 1453/6926 [02:22<08:38, 10.56it/s]"
     ]
    },
    {
     "name": "stdout",
     "output_type": "stream",
     "text": [
      "{'epoch': 2, 'iter': 1450, 'avg_loss': 5.550565322623592, 'avg_acc': 49.788938662991036, 'loss': 5.696718215942383}\n"
     ]
    },
    {
     "name": "stderr",
     "output_type": "stream",
     "text": [
      "EP_train:2:  21%|| 1463/6926 [02:23<09:01, 10.09it/s]"
     ]
    },
    {
     "name": "stdout",
     "output_type": "stream",
     "text": [
      "{'epoch': 2, 'iter': 1460, 'avg_loss': 5.551085208394118, 'avg_acc': 49.80107802874743, 'loss': 5.360154628753662}\n"
     ]
    },
    {
     "name": "stderr",
     "output_type": "stream",
     "text": [
      "EP_train:2:  21%|| 1473/6926 [02:24<08:44, 10.40it/s]"
     ]
    },
    {
     "name": "stdout",
     "output_type": "stream",
     "text": [
      "{'epoch': 2, 'iter': 1470, 'avg_loss': 5.550162931269808, 'avg_acc': 49.77693745751189, 'loss': 5.4434614181518555}\n"
     ]
    },
    {
     "name": "stderr",
     "output_type": "stream",
     "text": [
      "EP_train:2:  21%|| 1483/6926 [02:25<08:43, 10.39it/s]"
     ]
    },
    {
     "name": "stdout",
     "output_type": "stream",
     "text": [
      "{'epoch': 2, 'iter': 1480, 'avg_loss': 5.5497898884837005, 'avg_acc': 49.78688386225523, 'loss': 5.896945953369141}\n"
     ]
    },
    {
     "name": "stderr",
     "output_type": "stream",
     "text": [
      "EP_train:2:  22%|| 1491/6926 [02:26<08:55, 10.15it/s]"
     ]
    },
    {
     "name": "stdout",
     "output_type": "stream",
     "text": [
      "{'epoch': 2, 'iter': 1490, 'avg_loss': 5.5490908232573135, 'avg_acc': 49.807176391683434, 'loss': 5.5883307456970215}\n"
     ]
    },
    {
     "name": "stderr",
     "output_type": "stream",
     "text": [
      "EP_train:2:  22%|| 1503/6926 [02:27<08:52, 10.18it/s]"
     ]
    },
    {
     "name": "stdout",
     "output_type": "stream",
     "text": [
      "{'epoch': 2, 'iter': 1500, 'avg_loss': 5.549293499323307, 'avg_acc': 49.8251165889407, 'loss': 5.503994464874268}\n"
     ]
    },
    {
     "name": "stderr",
     "output_type": "stream",
     "text": [
      "EP_train:2:  22%|| 1513/6926 [02:28<09:00, 10.01it/s]"
     ]
    },
    {
     "name": "stdout",
     "output_type": "stream",
     "text": [
      "{'epoch': 2, 'iter': 1510, 'avg_loss': 5.54971293090275, 'avg_acc': 49.844887491727334, 'loss': 5.251583576202393}\n"
     ]
    },
    {
     "name": "stderr",
     "output_type": "stream",
     "text": [
      "EP_train:2:  22%|| 1523/6926 [02:29<09:01,  9.98it/s]"
     ]
    },
    {
     "name": "stdout",
     "output_type": "stream",
     "text": [
      "{'epoch': 2, 'iter': 1520, 'avg_loss': 5.550277309618366, 'avg_acc': 49.82536160420776, 'loss': 5.054243087768555}\n"
     ]
    },
    {
     "name": "stderr",
     "output_type": "stream",
     "text": [
      "EP_train:2:  22%|| 1532/6926 [02:30<08:53, 10.11it/s]"
     ]
    },
    {
     "name": "stdout",
     "output_type": "stream",
     "text": [
      "{'epoch': 2, 'iter': 1530, 'avg_loss': 5.550832975775023, 'avg_acc': 49.830584585238405, 'loss': 6.077988147735596}\n"
     ]
    },
    {
     "name": "stderr",
     "output_type": "stream",
     "text": [
      "EP_train:2:  22%|| 1542/6926 [02:31<08:42, 10.30it/s]"
     ]
    },
    {
     "name": "stdout",
     "output_type": "stream",
     "text": [
      "{'epoch': 2, 'iter': 1540, 'avg_loss': 5.550416326615657, 'avg_acc': 49.83168397144711, 'loss': 5.4210100173950195}\n"
     ]
    },
    {
     "name": "stderr",
     "output_type": "stream",
     "text": [
      "EP_train:2:  22%|| 1552/6926 [02:32<08:49, 10.15it/s]"
     ]
    },
    {
     "name": "stdout",
     "output_type": "stream",
     "text": [
      "{'epoch': 2, 'iter': 1550, 'avg_loss': 5.550994259399571, 'avg_acc': 49.824709864603484, 'loss': 5.3938212394714355}\n"
     ]
    },
    {
     "name": "stderr",
     "output_type": "stream",
     "text": [
      "EP_train:2:  23%|| 1562/6926 [02:33<08:35, 10.41it/s]"
     ]
    },
    {
     "name": "stdout",
     "output_type": "stream",
     "text": [
      "{'epoch': 2, 'iter': 1560, 'avg_loss': 5.551982345373336, 'avg_acc': 49.84385009609225, 'loss': 5.227601051330566}\n"
     ]
    },
    {
     "name": "stderr",
     "output_type": "stream",
     "text": [
      "EP_train:2:  23%|| 1572/6926 [02:34<08:50, 10.09it/s]"
     ]
    },
    {
     "name": "stdout",
     "output_type": "stream",
     "text": [
      "{'epoch': 2, 'iter': 1570, 'avg_loss': 5.552325595950412, 'avg_acc': 49.852800763844684, 'loss': 5.651661396026611}\n"
     ]
    },
    {
     "name": "stderr",
     "output_type": "stream",
     "text": [
      "EP_train:2:  23%|| 1582/6926 [02:35<08:49, 10.09it/s]"
     ]
    },
    {
     "name": "stdout",
     "output_type": "stream",
     "text": [
      "{'epoch': 2, 'iter': 1580, 'avg_loss': 5.552402424254348, 'avg_acc': 49.84384882985452, 'loss': 5.8193206787109375}\n"
     ]
    },
    {
     "name": "stderr",
     "output_type": "stream",
     "text": [
      "EP_train:2:  23%|| 1592/6926 [02:36<08:26, 10.53it/s]"
     ]
    },
    {
     "name": "stdout",
     "output_type": "stream",
     "text": [
      "{'epoch': 2, 'iter': 1590, 'avg_loss': 5.552869141888573, 'avg_acc': 49.8625078566939, 'loss': 6.1595282554626465}\n"
     ]
    },
    {
     "name": "stderr",
     "output_type": "stream",
     "text": [
      "EP_train:2:  23%|| 1602/6926 [02:37<08:32, 10.39it/s]"
     ]
    },
    {
     "name": "stdout",
     "output_type": "stream",
     "text": [
      "{'epoch': 2, 'iter': 1600, 'avg_loss': 5.551658734911907, 'avg_acc': 49.841895690193624, 'loss': 5.147278308868408}\n"
     ]
    },
    {
     "name": "stderr",
     "output_type": "stream",
     "text": [
      "EP_train:2:  23%|| 1612/6926 [02:38<08:38, 10.26it/s]"
     ]
    },
    {
     "name": "stdout",
     "output_type": "stream",
     "text": [
      "{'epoch': 2, 'iter': 1610, 'avg_loss': 5.5514261466534816, 'avg_acc': 49.82929857231533, 'loss': 5.717397212982178}\n"
     ]
    },
    {
     "name": "stderr",
     "output_type": "stream",
     "text": [
      "EP_train:2:  23%|| 1622/6926 [02:39<08:34, 10.31it/s]"
     ]
    },
    {
     "name": "stdout",
     "output_type": "stream",
     "text": [
      "{'epoch': 2, 'iter': 1620, 'avg_loss': 5.550807789620759, 'avg_acc': 49.8438463911166, 'loss': 5.563642501831055}\n"
     ]
    },
    {
     "name": "stderr",
     "output_type": "stream",
     "text": [
      "EP_train:2:  24%|| 1632/6926 [02:40<08:38, 10.22it/s]"
     ]
    },
    {
     "name": "stdout",
     "output_type": "stream",
     "text": [
      "{'epoch': 2, 'iter': 1630, 'avg_loss': 5.550616107054242, 'avg_acc': 49.80456774984672, 'loss': 5.840161323547363}\n"
     ]
    },
    {
     "name": "stderr",
     "output_type": "stream",
     "text": [
      "EP_train:2:  24%|| 1642/6926 [02:41<08:30, 10.34it/s]"
     ]
    },
    {
     "name": "stdout",
     "output_type": "stream",
     "text": [
      "{'epoch': 2, 'iter': 1640, 'avg_loss': 5.550303418196098, 'avg_acc': 49.82099329677026, 'loss': 5.466230392456055}\n"
     ]
    },
    {
     "name": "stderr",
     "output_type": "stream",
     "text": [
      "EP_train:2:  24%|| 1652/6926 [02:42<08:35, 10.24it/s]"
     ]
    },
    {
     "name": "stdout",
     "output_type": "stream",
     "text": [
      "{'epoch': 2, 'iter': 1650, 'avg_loss': 5.549721478982668, 'avg_acc': 49.8182919442762, 'loss': 5.046903133392334}\n"
     ]
    },
    {
     "name": "stderr",
     "output_type": "stream",
     "text": [
      "EP_train:2:  24%|| 1662/6926 [02:43<08:39, 10.12it/s]"
     ]
    },
    {
     "name": "stdout",
     "output_type": "stream",
     "text": [
      "{'epoch': 2, 'iter': 1660, 'avg_loss': 5.548666074719507, 'avg_acc': 49.82126730885009, 'loss': 4.964702606201172}\n"
     ]
    },
    {
     "name": "stderr",
     "output_type": "stream",
     "text": [
      "EP_train:2:  24%|| 1672/6926 [02:44<08:51,  9.89it/s]"
     ]
    },
    {
     "name": "stdout",
     "output_type": "stream",
     "text": [
      "{'epoch': 2, 'iter': 1670, 'avg_loss': 5.549523501393326, 'avg_acc': 49.835427887492514, 'loss': 5.482885837554932}\n"
     ]
    },
    {
     "name": "stderr",
     "output_type": "stream",
     "text": [
      "EP_train:2:  24%|| 1681/6926 [02:45<08:35, 10.18it/s]"
     ]
    },
    {
     "name": "stdout",
     "output_type": "stream",
     "text": [
      "{'epoch': 2, 'iter': 1680, 'avg_loss': 5.550417262411487, 'avg_acc': 49.84756097560975, 'loss': 5.364527225494385}\n"
     ]
    },
    {
     "name": "stderr",
     "output_type": "stream",
     "text": [
      "EP_train:2:  24%|| 1693/6926 [02:46<08:39, 10.08it/s]"
     ]
    },
    {
     "name": "stdout",
     "output_type": "stream",
     "text": [
      "{'epoch': 2, 'iter': 1690, 'avg_loss': 5.550223866840004, 'avg_acc': 49.84661442933175, 'loss': 5.650574207305908}\n"
     ]
    },
    {
     "name": "stderr",
     "output_type": "stream",
     "text": [
      "EP_train:2:  25%|| 1701/6926 [02:47<08:27, 10.30it/s]"
     ]
    },
    {
     "name": "stdout",
     "output_type": "stream",
     "text": [
      "{'epoch': 2, 'iter': 1700, 'avg_loss': 5.549935746234981, 'avg_acc': 49.81077307466196, 'loss': 5.6171674728393555}\n"
     ]
    },
    {
     "name": "stderr",
     "output_type": "stream",
     "text": [
      "EP_train:2:  25%|| 1713/6926 [02:48<08:32, 10.17it/s]"
     ]
    },
    {
     "name": "stdout",
     "output_type": "stream",
     "text": [
      "{'epoch': 2, 'iter': 1710, 'avg_loss': 5.549700489244846, 'avg_acc': 49.80092051431912, 'loss': 5.251163005828857}\n"
     ]
    },
    {
     "name": "stderr",
     "output_type": "stream",
     "text": [
      "EP_train:2:  25%|| 1723/6926 [02:49<08:42,  9.95it/s]"
     ]
    },
    {
     "name": "stdout",
     "output_type": "stream",
     "text": [
      "{'epoch': 2, 'iter': 1720, 'avg_loss': 5.55039951594883, 'avg_acc': 49.76576118535735, 'loss': 5.8903985023498535}\n"
     ]
    },
    {
     "name": "stderr",
     "output_type": "stream",
     "text": [
      "EP_train:2:  25%|| 1732/6926 [02:50<08:33, 10.12it/s]"
     ]
    },
    {
     "name": "stdout",
     "output_type": "stream",
     "text": [
      "{'epoch': 2, 'iter': 1730, 'avg_loss': 5.550978455358954, 'avg_acc': 49.79238879260543, 'loss': 5.818968772888184}\n"
     ]
    },
    {
     "name": "stderr",
     "output_type": "stream",
     "text": [
      "EP_train:2:  25%|| 1742/6926 [02:51<08:31, 10.13it/s]"
     ]
    },
    {
     "name": "stdout",
     "output_type": "stream",
     "text": [
      "{'epoch': 2, 'iter': 1740, 'avg_loss': 5.552127636280093, 'avg_acc': 49.80973578403216, 'loss': 5.92774772644043}\n"
     ]
    },
    {
     "name": "stderr",
     "output_type": "stream",
     "text": [
      "EP_train:2:  25%|| 1752/6926 [02:52<08:12, 10.52it/s]"
     ]
    },
    {
     "name": "stdout",
     "output_type": "stream",
     "text": [
      "{'epoch': 2, 'iter': 1750, 'avg_loss': 5.5520378629661575, 'avg_acc': 49.80546830382638, 'loss': 5.538805961608887}\n"
     ]
    },
    {
     "name": "stderr",
     "output_type": "stream",
     "text": [
      "EP_train:2:  25%|| 1762/6926 [02:53<08:36,  9.99it/s]"
     ]
    },
    {
     "name": "stdout",
     "output_type": "stream",
     "text": [
      "{'epoch': 2, 'iter': 1760, 'avg_loss': 5.5509939537611555, 'avg_acc': 49.78350369108461, 'loss': 5.212426662445068}\n"
     ]
    },
    {
     "name": "stderr",
     "output_type": "stream",
     "text": [
      "EP_train:2:  26%|| 1772/6926 [02:54<08:07, 10.57it/s]"
     ]
    },
    {
     "name": "stdout",
     "output_type": "stream",
     "text": [
      "{'epoch': 2, 'iter': 1770, 'avg_loss': 5.552231075129625, 'avg_acc': 49.80237154150198, 'loss': 5.986282825469971}\n"
     ]
    },
    {
     "name": "stderr",
     "output_type": "stream",
     "text": [
      "EP_train:2:  26%|| 1782/6926 [02:55<08:23, 10.22it/s]"
     ]
    },
    {
     "name": "stdout",
     "output_type": "stream",
     "text": [
      "{'epoch': 2, 'iter': 1780, 'avg_loss': 5.552276811862113, 'avg_acc': 49.78768950028074, 'loss': 5.725252151489258}\n"
     ]
    },
    {
     "name": "stderr",
     "output_type": "stream",
     "text": [
      "EP_train:2:  26%|| 1792/6926 [02:56<08:33,  9.99it/s]"
     ]
    },
    {
     "name": "stdout",
     "output_type": "stream",
     "text": [
      "{'epoch': 2, 'iter': 1790, 'avg_loss': 5.552850171083315, 'avg_acc': 49.80632328308208, 'loss': 5.536231994628906}\n"
     ]
    },
    {
     "name": "stderr",
     "output_type": "stream",
     "text": [
      "EP_train:2:  26%|| 1802/6926 [02:56<08:04, 10.57it/s]"
     ]
    },
    {
     "name": "stdout",
     "output_type": "stream",
     "text": [
      "{'epoch': 2, 'iter': 1800, 'avg_loss': 5.553170615603433, 'avg_acc': 49.79525263742365, 'loss': 6.0496015548706055}\n"
     ]
    },
    {
     "name": "stderr",
     "output_type": "stream",
     "text": [
      "EP_train:2:  26%|| 1812/6926 [02:57<08:22, 10.18it/s]"
     ]
    },
    {
     "name": "stdout",
     "output_type": "stream",
     "text": [
      "{'epoch': 2, 'iter': 1810, 'avg_loss': 5.552936080540826, 'avg_acc': 49.80501104362231, 'loss': 5.162220001220703}\n"
     ]
    },
    {
     "name": "stderr",
     "output_type": "stream",
     "text": [
      "EP_train:2:  26%|| 1822/6926 [02:58<08:10, 10.40it/s]"
     ]
    },
    {
     "name": "stdout",
     "output_type": "stream",
     "text": [
      "{'epoch': 2, 'iter': 1820, 'avg_loss': 5.553170644078262, 'avg_acc': 49.82839099395937, 'loss': 5.295746326446533}\n"
     ]
    },
    {
     "name": "stderr",
     "output_type": "stream",
     "text": [
      "EP_train:2:  26%|| 1832/6926 [02:59<08:25, 10.07it/s]"
     ]
    },
    {
     "name": "stdout",
     "output_type": "stream",
     "text": [
      "{'epoch': 2, 'iter': 1830, 'avg_loss': 5.552546968621546, 'avg_acc': 49.83444838885855, 'loss': 5.659677982330322}\n"
     ]
    },
    {
     "name": "stderr",
     "output_type": "stream",
     "text": [
      "EP_train:2:  27%|| 1843/6926 [03:01<08:45,  9.68it/s]"
     ]
    },
    {
     "name": "stdout",
     "output_type": "stream",
     "text": [
      "{'epoch': 2, 'iter': 1840, 'avg_loss': 5.552460892442644, 'avg_acc': 49.84722976643129, 'loss': 5.658117294311523}\n"
     ]
    },
    {
     "name": "stderr",
     "output_type": "stream",
     "text": [
      "EP_train:2:  27%|| 1853/6926 [03:01<08:15, 10.23it/s]"
     ]
    },
    {
     "name": "stdout",
     "output_type": "stream",
     "text": [
      "{'epoch': 2, 'iter': 1850, 'avg_loss': 5.5525927510150765, 'avg_acc': 49.839613722312265, 'loss': 5.434810638427734}\n"
     ]
    },
    {
     "name": "stderr",
     "output_type": "stream",
     "text": [
      "EP_train:2:  27%|| 1863/6926 [03:02<08:19, 10.14it/s]"
     ]
    },
    {
     "name": "stdout",
     "output_type": "stream",
     "text": [
      "{'epoch': 2, 'iter': 1860, 'avg_loss': 5.551880487506586, 'avg_acc': 49.82200429876411, 'loss': 5.840982437133789}\n"
     ]
    },
    {
     "name": "stderr",
     "output_type": "stream",
     "text": [
      "EP_train:2:  27%|| 1873/6926 [03:03<08:17, 10.16it/s]"
     ]
    },
    {
     "name": "stdout",
     "output_type": "stream",
     "text": [
      "{'epoch': 2, 'iter': 1870, 'avg_loss': 5.551086151300427, 'avg_acc': 49.83130678781401, 'loss': 5.438765525817871}\n"
     ]
    },
    {
     "name": "stderr",
     "output_type": "stream",
     "text": [
      "EP_train:2:  27%|| 1881/6926 [03:04<08:24, 10.01it/s]"
     ]
    },
    {
     "name": "stdout",
     "output_type": "stream",
     "text": [
      "{'epoch': 2, 'iter': 1880, 'avg_loss': 5.5517713555879, 'avg_acc': 49.83054226475279, 'loss': 5.346557140350342}\n"
     ]
    },
    {
     "name": "stderr",
     "output_type": "stream",
     "text": [
      "EP_train:2:  27%|| 1891/6926 [03:05<08:15, 10.16it/s]"
     ]
    },
    {
     "name": "stdout",
     "output_type": "stream",
     "text": [
      "{'epoch': 2, 'iter': 1890, 'avg_loss': 5.552433020724373, 'avg_acc': 49.83804865150714, 'loss': 5.62211275100708}\n"
     ]
    },
    {
     "name": "stderr",
     "output_type": "stream",
     "text": [
      "EP_train:2:  27%|| 1902/6926 [03:06<07:58, 10.49it/s]"
     ]
    },
    {
     "name": "stdout",
     "output_type": "stream",
     "text": [
      "{'epoch': 2, 'iter': 1900, 'avg_loss': 5.552657277379645, 'avg_acc': 49.83890057864282, 'loss': 5.092680931091309}\n"
     ]
    },
    {
     "name": "stderr",
     "output_type": "stream",
     "text": [
      "EP_train:2:  28%|| 1912/6926 [03:07<08:11, 10.19it/s]"
     ]
    },
    {
     "name": "stdout",
     "output_type": "stream",
     "text": [
      "{'epoch': 2, 'iter': 1910, 'avg_loss': 5.553375359918983, 'avg_acc': 49.86590790162219, 'loss': 5.8502583503723145}\n"
     ]
    },
    {
     "name": "stderr",
     "output_type": "stream",
     "text": [
      "EP_train:2:  28%|| 1923/6926 [03:08<08:19, 10.02it/s]"
     ]
    },
    {
     "name": "stdout",
     "output_type": "stream",
     "text": [
      "{'epoch': 2, 'iter': 1920, 'avg_loss': 5.5531681972763804, 'avg_acc': 49.87311296199896, 'loss': 5.854842185974121}\n"
     ]
    },
    {
     "name": "stderr",
     "output_type": "stream",
     "text": [
      "EP_train:2:  28%|| 1933/6926 [03:09<07:52, 10.57it/s]"
     ]
    },
    {
     "name": "stdout",
     "output_type": "stream",
     "text": [
      "{'epoch': 2, 'iter': 1930, 'avg_loss': 5.553432850069731, 'avg_acc': 49.85273174520974, 'loss': 5.410439968109131}\n"
     ]
    },
    {
     "name": "stderr",
     "output_type": "stream",
     "text": [
      "EP_train:2:  28%|| 1943/6926 [03:10<08:15, 10.06it/s]"
     ]
    },
    {
     "name": "stdout",
     "output_type": "stream",
     "text": [
      "{'epoch': 2, 'iter': 1940, 'avg_loss': 5.552914979591743, 'avg_acc': 49.84544049459041, 'loss': 5.124973297119141}\n"
     ]
    },
    {
     "name": "stderr",
     "output_type": "stream",
     "text": [
      "EP_train:2:  28%|| 1953/6926 [03:11<08:17,  9.99it/s]"
     ]
    },
    {
     "name": "stdout",
     "output_type": "stream",
     "text": [
      "{'epoch': 2, 'iter': 1950, 'avg_loss': 5.552325822096003, 'avg_acc': 49.82701178882624, 'loss': 5.539753437042236}\n"
     ]
    },
    {
     "name": "stderr",
     "output_type": "stream",
     "text": [
      "EP_train:2:  28%|| 1961/6926 [03:12<08:13, 10.06it/s]"
     ]
    },
    {
     "name": "stdout",
     "output_type": "stream",
     "text": [
      "{'epoch': 2, 'iter': 1960, 'avg_loss': 5.552599905705586, 'avg_acc': 49.83267465578786, 'loss': 4.745952129364014}\n"
     ]
    },
    {
     "name": "stderr",
     "output_type": "stream",
     "text": [
      "EP_train:2:  28%|| 1972/6926 [03:13<08:08, 10.15it/s]"
     ]
    },
    {
     "name": "stdout",
     "output_type": "stream",
     "text": [
      "{'epoch': 2, 'iter': 1970, 'avg_loss': 5.552923621289444, 'avg_acc': 49.836694571283616, 'loss': 5.693390369415283}\n"
     ]
    },
    {
     "name": "stderr",
     "output_type": "stream",
     "text": [
      "EP_train:2:  29%|| 1982/6926 [03:14<07:58, 10.33it/s]"
     ]
    },
    {
     "name": "stdout",
     "output_type": "stream",
     "text": [
      "{'epoch': 2, 'iter': 1980, 'avg_loss': 5.552665183545362, 'avg_acc': 49.82016658253408, 'loss': 5.021410942077637}\n"
     ]
    },
    {
     "name": "stderr",
     "output_type": "stream",
     "text": [
      "EP_train:2:  29%|| 1992/6926 [03:15<07:58, 10.32it/s]"
     ]
    },
    {
     "name": "stdout",
     "output_type": "stream",
     "text": [
      "{'epoch': 2, 'iter': 1990, 'avg_loss': 5.5529434938397255, 'avg_acc': 49.79438724259167, 'loss': 5.745739459991455}\n"
     ]
    },
    {
     "name": "stderr",
     "output_type": "stream",
     "text": [
      "EP_train:2:  29%|| 2002/6926 [03:16<07:34, 10.83it/s]"
     ]
    },
    {
     "name": "stdout",
     "output_type": "stream",
     "text": [
      "{'epoch': 2, 'iter': 2000, 'avg_loss': 5.553078626645082, 'avg_acc': 49.7954147926037, 'loss': 5.150393486022949}\n"
     ]
    },
    {
     "name": "stderr",
     "output_type": "stream",
     "text": [
      "EP_train:2:  29%|| 2012/6926 [03:17<07:52, 10.40it/s]"
     ]
    },
    {
     "name": "stdout",
     "output_type": "stream",
     "text": [
      "{'epoch': 2, 'iter': 2010, 'avg_loss': 5.55227137916068, 'avg_acc': 49.81663351566385, 'loss': 5.540194034576416}\n"
     ]
    },
    {
     "name": "stderr",
     "output_type": "stream",
     "text": [
      "EP_train:2:  29%|| 2022/6926 [03:18<07:50, 10.42it/s]"
     ]
    },
    {
     "name": "stdout",
     "output_type": "stream",
     "text": [
      "{'epoch': 2, 'iter': 2020, 'avg_loss': 5.551464689302893, 'avg_acc': 49.84073478476002, 'loss': 5.772907257080078}\n"
     ]
    },
    {
     "name": "stderr",
     "output_type": "stream",
     "text": [
      "EP_train:2:  29%|| 2032/6926 [03:19<08:03, 10.13it/s]"
     ]
    },
    {
     "name": "stdout",
     "output_type": "stream",
     "text": [
      "{'epoch': 2, 'iter': 2030, 'avg_loss': 5.55163190589052, 'avg_acc': 49.83998030526834, 'loss': 5.713199615478516}\n"
     ]
    },
    {
     "name": "stderr",
     "output_type": "stream",
     "text": [
      "EP_train:2:  29%|| 2042/6926 [03:20<07:59, 10.18it/s]"
     ]
    },
    {
     "name": "stdout",
     "output_type": "stream",
     "text": [
      "{'epoch': 2, 'iter': 2040, 'avg_loss': 5.550951957702637, 'avg_acc': 49.828515433610974, 'loss': 5.314212799072266}\n"
     ]
    },
    {
     "name": "stderr",
     "output_type": "stream",
     "text": [
      "EP_train:2:  30%|| 2052/6926 [03:21<07:50, 10.37it/s]"
     ]
    },
    {
     "name": "stdout",
     "output_type": "stream",
     "text": [
      "{'epoch': 2, 'iter': 2050, 'avg_loss': 5.55139012687791, 'avg_acc': 49.82782788883471, 'loss': 5.827563762664795}\n"
     ]
    },
    {
     "name": "stderr",
     "output_type": "stream",
     "text": [
      "EP_train:2:  30%|| 2062/6926 [03:22<07:47, 10.41it/s]"
     ]
    },
    {
     "name": "stdout",
     "output_type": "stream",
     "text": [
      "{'epoch': 2, 'iter': 2060, 'avg_loss': 5.55133824114774, 'avg_acc': 49.81804949053858, 'loss': 5.464562892913818}\n"
     ]
    },
    {
     "name": "stderr",
     "output_type": "stream",
     "text": [
      "EP_train:2:  30%|| 2072/6926 [03:23<07:42, 10.50it/s]"
     ]
    },
    {
     "name": "stdout",
     "output_type": "stream",
     "text": [
      "{'epoch': 2, 'iter': 2070, 'avg_loss': 5.551304309970224, 'avg_acc': 49.82496378561081, 'loss': 5.6630682945251465}\n"
     ]
    },
    {
     "name": "stderr",
     "output_type": "stream",
     "text": [
      "EP_train:2:  30%|| 2082/6926 [03:24<08:03, 10.01it/s]"
     ]
    },
    {
     "name": "stdout",
     "output_type": "stream",
     "text": [
      "{'epoch': 2, 'iter': 2080, 'avg_loss': 5.5507602975782095, 'avg_acc': 49.845326765977894, 'loss': 5.303633689880371}\n"
     ]
    },
    {
     "name": "stderr",
     "output_type": "stream",
     "text": [
      "EP_train:2:  30%|| 2092/6926 [03:25<07:53, 10.21it/s]"
     ]
    },
    {
     "name": "stdout",
     "output_type": "stream",
     "text": [
      "{'epoch': 2, 'iter': 2090, 'avg_loss': 5.550185949251675, 'avg_acc': 49.844571975131515, 'loss': 5.771521091461182}\n"
     ]
    },
    {
     "name": "stderr",
     "output_type": "stream",
     "text": [
      "EP_train:2:  30%|| 2102/6926 [03:26<07:44, 10.39it/s]"
     ]
    },
    {
     "name": "stdout",
     "output_type": "stream",
     "text": [
      "{'epoch': 2, 'iter': 2100, 'avg_loss': 5.550210740780728, 'avg_acc': 49.83638743455497, 'loss': 5.747360706329346}\n"
     ]
    },
    {
     "name": "stderr",
     "output_type": "stream",
     "text": [
      "EP_train:2:  30%|| 2112/6926 [03:27<07:42, 10.41it/s]"
     ]
    },
    {
     "name": "stdout",
     "output_type": "stream",
     "text": [
      "{'epoch': 2, 'iter': 2110, 'avg_loss': 5.549410241071447, 'avg_acc': 49.8208787304595, 'loss': 5.240128517150879}\n"
     ]
    },
    {
     "name": "stderr",
     "output_type": "stream",
     "text": [
      "EP_train:2:  31%|| 2122/6926 [03:28<07:48, 10.26it/s]"
     ]
    },
    {
     "name": "stdout",
     "output_type": "stream",
     "text": [
      "{'epoch': 2, 'iter': 2120, 'avg_loss': 5.54969966731955, 'avg_acc': 49.82761669024045, 'loss': 5.7731499671936035}\n"
     ]
    },
    {
     "name": "stderr",
     "output_type": "stream",
     "text": [
      "EP_train:2:  31%|| 2132/6926 [03:29<07:38, 10.47it/s]"
     ]
    },
    {
     "name": "stdout",
     "output_type": "stream",
     "text": [
      "{'epoch': 2, 'iter': 2130, 'avg_loss': 5.549758889651645, 'avg_acc': 49.84455654622243, 'loss': 5.20025634765625}\n"
     ]
    },
    {
     "name": "stderr",
     "output_type": "stream",
     "text": [
      "EP_train:2:  31%|| 2142/6926 [03:30<07:43, 10.33it/s]"
     ]
    },
    {
     "name": "stdout",
     "output_type": "stream",
     "text": [
      "{'epoch': 2, 'iter': 2140, 'avg_loss': 5.549567971147148, 'avg_acc': 49.84382297991593, 'loss': 5.524656772613525}\n"
     ]
    },
    {
     "name": "stderr",
     "output_type": "stream",
     "text": [
      "EP_train:2:  31%|| 2152/6926 [03:31<07:54, 10.07it/s]"
     ]
    },
    {
     "name": "stdout",
     "output_type": "stream",
     "text": [
      "{'epoch': 2, 'iter': 2150, 'avg_loss': 5.549535023562025, 'avg_acc': 49.8445490469549, 'loss': 5.371531009674072}\n"
     ]
    },
    {
     "name": "stderr",
     "output_type": "stream",
     "text": [
      "EP_train:2:  31%|| 2162/6926 [03:32<08:00,  9.92it/s]"
     ]
    },
    {
     "name": "stdout",
     "output_type": "stream",
     "text": [
      "{'epoch': 2, 'iter': 2160, 'avg_loss': 5.54958729741751, 'avg_acc': 49.849606663581675, 'loss': 5.4881439208984375}\n"
     ]
    },
    {
     "name": "stderr",
     "output_type": "stream",
     "text": [
      "EP_train:2:  31%|| 2172/6926 [03:33<07:44, 10.23it/s]"
     ]
    },
    {
     "name": "stdout",
     "output_type": "stream",
     "text": [
      "{'epoch': 2, 'iter': 2170, 'avg_loss': 5.549023764630936, 'avg_acc': 49.84742054352832, 'loss': 5.079549789428711}\n"
     ]
    },
    {
     "name": "stderr",
     "output_type": "stream",
     "text": [
      "EP_train:2:  32%|| 2182/6926 [03:34<07:45, 10.18it/s]"
     ]
    },
    {
     "name": "stdout",
     "output_type": "stream",
     "text": [
      "{'epoch': 2, 'iter': 2180, 'avg_loss': 5.549493079336342, 'avg_acc': 49.861015589179274, 'loss': 5.501791954040527}\n"
     ]
    },
    {
     "name": "stderr",
     "output_type": "stream",
     "text": [
      "EP_train:2:  32%|| 2192/6926 [03:35<07:38, 10.32it/s]"
     ]
    },
    {
     "name": "stdout",
     "output_type": "stream",
     "text": [
      "{'epoch': 2, 'iter': 2190, 'avg_loss': 5.549915083463417, 'avg_acc': 49.87733911455956, 'loss': 5.2951483726501465}\n"
     ]
    },
    {
     "name": "stderr",
     "output_type": "stream",
     "text": [
      "EP_train:2:  32%|| 2203/6926 [03:36<07:56,  9.90it/s]"
     ]
    },
    {
     "name": "stdout",
     "output_type": "stream",
     "text": [
      "{'epoch': 2, 'iter': 2200, 'avg_loss': 5.549937121275607, 'avg_acc': 49.86937755565652, 'loss': 5.502568244934082}\n"
     ]
    },
    {
     "name": "stderr",
     "output_type": "stream",
     "text": [
      "EP_train:2:  32%|| 2211/6926 [03:37<07:35, 10.34it/s]"
     ]
    },
    {
     "name": "stdout",
     "output_type": "stream",
     "text": [
      "{'epoch': 2, 'iter': 2210, 'avg_loss': 5.5487662677255924, 'avg_acc': 49.843113975576664, 'loss': 5.357071876525879}\n"
     ]
    },
    {
     "name": "stderr",
     "output_type": "stream",
     "text": [
      "EP_train:2:  32%|| 2223/6926 [03:38<07:31, 10.42it/s]"
     ]
    },
    {
     "name": "stdout",
     "output_type": "stream",
     "text": [
      "{'epoch': 2, 'iter': 2220, 'avg_loss': 5.548875832976333, 'avg_acc': 49.86211166141378, 'loss': 5.635225772857666}\n"
     ]
    },
    {
     "name": "stderr",
     "output_type": "stream",
     "text": [
      "EP_train:2:  32%|| 2231/6926 [03:39<07:49, 10.01it/s]"
     ]
    },
    {
     "name": "stdout",
     "output_type": "stream",
     "text": [
      "{'epoch': 2, 'iter': 2230, 'avg_loss': 5.54952843143287, 'avg_acc': 49.85572613177947, 'loss': 5.150497913360596}\n"
     ]
    },
    {
     "name": "stderr",
     "output_type": "stream",
     "text": [
      "EP_train:2:  32%|| 2242/6926 [03:40<07:42, 10.13it/s]"
     ]
    },
    {
     "name": "stdout",
     "output_type": "stream",
     "text": [
      "{'epoch': 2, 'iter': 2240, 'avg_loss': 5.549704496161526, 'avg_acc': 49.866131191432395, 'loss': 5.78581428527832}\n"
     ]
    },
    {
     "name": "stderr",
     "output_type": "stream",
     "text": [
      "EP_train:2:  33%|| 2252/6926 [03:41<07:40, 10.14it/s]"
     ]
    },
    {
     "name": "stdout",
     "output_type": "stream",
     "text": [
      "{'epoch': 2, 'iter': 2250, 'avg_loss': 5.550028811344196, 'avg_acc': 49.85423145268769, 'loss': 6.021651744842529}\n"
     ]
    },
    {
     "name": "stderr",
     "output_type": "stream",
     "text": [
      "EP_train:2:  33%|| 2262/6926 [03:42<07:42, 10.08it/s]"
     ]
    },
    {
     "name": "stdout",
     "output_type": "stream",
     "text": [
      "{'epoch': 2, 'iter': 2260, 'avg_loss': 5.5503842989884875, 'avg_acc': 49.84520123839009, 'loss': 5.493208408355713}\n"
     ]
    },
    {
     "name": "stderr",
     "output_type": "stream",
     "text": [
      "EP_train:2:  33%|| 2272/6926 [03:43<07:36, 10.20it/s]"
     ]
    },
    {
     "name": "stdout",
     "output_type": "stream",
     "text": [
      "{'epoch': 2, 'iter': 2270, 'avg_loss': 5.550620041666237, 'avg_acc': 49.852763099955965, 'loss': 5.1267290115356445}\n"
     ]
    },
    {
     "name": "stderr",
     "output_type": "stream",
     "text": [
      "EP_train:2:  33%|| 2282/6926 [03:44<07:44, 10.00it/s]"
     ]
    },
    {
     "name": "stdout",
     "output_type": "stream",
     "text": [
      "{'epoch': 2, 'iter': 2280, 'avg_loss': 5.55070757395549, 'avg_acc': 49.84655852696186, 'loss': 5.210705280303955}\n"
     ]
    },
    {
     "name": "stderr",
     "output_type": "stream",
     "text": [
      "EP_train:2:  33%|| 2292/6926 [03:45<07:38, 10.10it/s]"
     ]
    },
    {
     "name": "stdout",
     "output_type": "stream",
     "text": [
      "{'epoch': 2, 'iter': 2290, 'avg_loss': 5.550346965823096, 'avg_acc': 49.8554124836316, 'loss': 5.30112361907959}\n"
     ]
    },
    {
     "name": "stderr",
     "output_type": "stream",
     "text": [
      "EP_train:2:  33%|| 2302/6926 [03:46<07:31, 10.24it/s]"
     ]
    },
    {
     "name": "stdout",
     "output_type": "stream",
     "text": [
      "{'epoch': 2, 'iter': 2300, 'avg_loss': 5.550660136263042, 'avg_acc': 49.85604085180356, 'loss': 5.937371253967285}\n"
     ]
    },
    {
     "name": "stderr",
     "output_type": "stream",
     "text": [
      "EP_train:2:  33%|| 2313/6926 [03:47<07:22, 10.43it/s]"
     ]
    },
    {
     "name": "stdout",
     "output_type": "stream",
     "text": [
      "{'epoch': 2, 'iter': 2310, 'avg_loss': 5.550883592129373, 'avg_acc': 49.847198182604934, 'loss': 5.753060817718506}\n"
     ]
    },
    {
     "name": "stderr",
     "output_type": "stream",
     "text": [
      "EP_train:2:  34%|| 2323/6926 [03:48<07:36, 10.07it/s]"
     ]
    },
    {
     "name": "stdout",
     "output_type": "stream",
     "text": [
      "{'epoch': 2, 'iter': 2320, 'avg_loss': 5.550642797526796, 'avg_acc': 49.835738905644114, 'loss': 5.402421951293945}\n"
     ]
    },
    {
     "name": "stderr",
     "output_type": "stream",
     "text": [
      "EP_train:2:  34%|| 2333/6926 [03:49<07:30, 10.20it/s]"
     ]
    },
    {
     "name": "stdout",
     "output_type": "stream",
     "text": [
      "{'epoch': 2, 'iter': 2330, 'avg_loss': 5.550181133764489, 'avg_acc': 49.84314671814672, 'loss': 5.243585586547852}\n"
     ]
    },
    {
     "name": "stderr",
     "output_type": "stream",
     "text": [
      "EP_train:2:  34%|| 2341/6926 [03:49<07:35, 10.06it/s]"
     ]
    },
    {
     "name": "stdout",
     "output_type": "stream",
     "text": [
      "{'epoch': 2, 'iter': 2340, 'avg_loss': 5.549654787088856, 'avg_acc': 49.835807347287485, 'loss': 5.913338661193848}\n"
     ]
    },
    {
     "name": "stderr",
     "output_type": "stream",
     "text": [
      "EP_train:2:  34%|| 2351/6926 [03:50<07:25, 10.27it/s]"
     ]
    },
    {
     "name": "stdout",
     "output_type": "stream",
     "text": [
      "{'epoch': 2, 'iter': 2350, 'avg_loss': 5.549354755437308, 'avg_acc': 49.82587196937474, 'loss': 5.687408447265625}\n"
     ]
    },
    {
     "name": "stderr",
     "output_type": "stream",
     "text": [
      "EP_train:2:  34%|| 2363/6926 [03:52<07:26, 10.21it/s]"
     ]
    },
    {
     "name": "stdout",
     "output_type": "stream",
     "text": [
      "{'epoch': 2, 'iter': 2360, 'avg_loss': 5.548223920011864, 'avg_acc': 49.82793307920373, 'loss': 5.287965774536133}\n"
     ]
    },
    {
     "name": "stderr",
     "output_type": "stream",
     "text": [
      "EP_train:2:  34%|| 2373/6926 [03:52<07:06, 10.66it/s]"
     ]
    },
    {
     "name": "stdout",
     "output_type": "stream",
     "text": [
      "{'epoch': 2, 'iter': 2370, 'avg_loss': 5.548745162976738, 'avg_acc': 49.807570645297346, 'loss': 5.738407135009766}\n"
     ]
    },
    {
     "name": "stderr",
     "output_type": "stream",
     "text": [
      "EP_train:2:  34%|| 2383/6926 [03:53<07:17, 10.38it/s]"
     ]
    },
    {
     "name": "stdout",
     "output_type": "stream",
     "text": [
      "{'epoch': 2, 'iter': 2380, 'avg_loss': 5.548891475650254, 'avg_acc': 49.78869172616548, 'loss': 5.440448760986328}\n"
     ]
    },
    {
     "name": "stderr",
     "output_type": "stream",
     "text": [
      "EP_train:2:  35%|| 2393/6926 [03:54<07:11, 10.52it/s]"
     ]
    },
    {
     "name": "stdout",
     "output_type": "stream",
     "text": [
      "{'epoch': 2, 'iter': 2390, 'avg_loss': 5.548857110556774, 'avg_acc': 49.80133835215391, 'loss': 5.698379039764404}\n"
     ]
    },
    {
     "name": "stderr",
     "output_type": "stream",
     "text": [
      "EP_train:2:  35%|| 2403/6926 [03:55<07:18, 10.30it/s]"
     ]
    },
    {
     "name": "stdout",
     "output_type": "stream",
     "text": [
      "{'epoch': 2, 'iter': 2400, 'avg_loss': 5.548194108928854, 'avg_acc': 49.8112765514369, 'loss': 5.470189571380615}\n"
     ]
    },
    {
     "name": "stderr",
     "output_type": "stream",
     "text": [
      "EP_train:2:  35%|| 2413/6926 [03:56<07:42,  9.76it/s]"
     ]
    },
    {
     "name": "stdout",
     "output_type": "stream",
     "text": [
      "{'epoch': 2, 'iter': 2410, 'avg_loss': 5.548600884899961, 'avg_acc': 49.81854002488594, 'loss': 5.738974094390869}\n"
     ]
    },
    {
     "name": "stderr",
     "output_type": "stream",
     "text": [
      "EP_train:2:  35%|| 2423/6926 [03:57<07:26, 10.09it/s]"
     ]
    },
    {
     "name": "stdout",
     "output_type": "stream",
     "text": [
      "{'epoch': 2, 'iter': 2420, 'avg_loss': 5.548218213246411, 'avg_acc': 49.8231619165634, 'loss': 5.552672386169434}\n"
     ]
    },
    {
     "name": "stderr",
     "output_type": "stream",
     "text": [
      "EP_train:2:  35%|| 2433/6926 [03:58<07:13, 10.38it/s]"
     ]
    },
    {
     "name": "stdout",
     "output_type": "stream",
     "text": [
      "{'epoch': 2, 'iter': 2430, 'avg_loss': 5.547978560260567, 'avg_acc': 49.82517482517482, 'loss': 5.290446758270264}\n"
     ]
    },
    {
     "name": "stderr",
     "output_type": "stream",
     "text": [
      "EP_train:2:  35%|| 2443/6926 [03:59<07:23, 10.11it/s]"
     ]
    },
    {
     "name": "stdout",
     "output_type": "stream",
     "text": [
      "{'epoch': 2, 'iter': 2440, 'avg_loss': 5.547396775495318, 'avg_acc': 49.81692953707497, 'loss': 5.3293137550354}\n"
     ]
    },
    {
     "name": "stderr",
     "output_type": "stream",
     "text": [
      "EP_train:2:  35%|| 2452/6926 [04:00<07:45,  9.61it/s]"
     ]
    },
    {
     "name": "stdout",
     "output_type": "stream",
     "text": [
      "{'epoch': 2, 'iter': 2450, 'avg_loss': 5.547174772988626, 'avg_acc': 49.8062015503876, 'loss': 5.383472442626953}\n"
     ]
    },
    {
     "name": "stderr",
     "output_type": "stream",
     "text": [
      "EP_train:2:  36%|| 2463/6926 [04:01<07:08, 10.42it/s]"
     ]
    },
    {
     "name": "stdout",
     "output_type": "stream",
     "text": [
      "{'epoch': 2, 'iter': 2460, 'avg_loss': 5.54681127762126, 'avg_acc': 49.812068264932954, 'loss': 5.401227951049805}\n"
     ]
    },
    {
     "name": "stderr",
     "output_type": "stream",
     "text": [
      "EP_train:2:  36%|| 2473/6926 [04:02<07:06, 10.44it/s]"
     ]
    },
    {
     "name": "stdout",
     "output_type": "stream",
     "text": [
      "{'epoch': 2, 'iter': 2470, 'avg_loss': 5.545764237075429, 'avg_acc': 49.805240793201136, 'loss': 4.879821300506592}\n"
     ]
    },
    {
     "name": "stderr",
     "output_type": "stream",
     "text": [
      "EP_train:2:  36%|| 2483/6926 [04:03<07:10, 10.31it/s]"
     ]
    },
    {
     "name": "stdout",
     "output_type": "stream",
     "text": [
      "{'epoch': 2, 'iter': 2480, 'avg_loss': 5.545411499120304, 'avg_acc': 49.811064087061666, 'loss': 5.607519626617432}\n"
     ]
    },
    {
     "name": "stderr",
     "output_type": "stream",
     "text": [
      "EP_train:2:  36%|| 2491/6926 [04:04<07:06, 10.40it/s]"
     ]
    },
    {
     "name": "stdout",
     "output_type": "stream",
     "text": [
      "{'epoch': 2, 'iter': 2490, 'avg_loss': 5.545280413089723, 'avg_acc': 49.83189482135689, 'loss': 5.094499111175537}\n"
     ]
    },
    {
     "name": "stderr",
     "output_type": "stream",
     "text": [
      "EP_train:2:  36%|| 2503/6926 [04:05<07:24,  9.95it/s]"
     ]
    },
    {
     "name": "stdout",
     "output_type": "stream",
     "text": [
      "{'epoch': 2, 'iter': 2500, 'avg_loss': 5.545279912212666, 'avg_acc': 49.83256697321072, 'loss': 5.447558403015137}\n"
     ]
    },
    {
     "name": "stderr",
     "output_type": "stream",
     "text": [
      "EP_train:2:  36%|| 2513/6926 [04:06<07:29,  9.83it/s]"
     ]
    },
    {
     "name": "stdout",
     "output_type": "stream",
     "text": [
      "{'epoch': 2, 'iter': 2510, 'avg_loss': 5.544927814480604, 'avg_acc': 49.8344782954998, 'loss': 4.962324619293213}\n"
     ]
    },
    {
     "name": "stderr",
     "output_type": "stream",
     "text": [
      "EP_train:2:  36%|| 2523/6926 [04:07<07:13, 10.15it/s]"
     ]
    },
    {
     "name": "stdout",
     "output_type": "stream",
     "text": [
      "{'epoch': 2, 'iter': 2520, 'avg_loss': 5.544621749228781, 'avg_acc': 49.82521816739389, 'loss': 5.279067516326904}\n"
     ]
    },
    {
     "name": "stderr",
     "output_type": "stream",
     "text": [
      "EP_train:2:  37%|| 2532/6926 [04:08<07:31,  9.72it/s]"
     ]
    },
    {
     "name": "stdout",
     "output_type": "stream",
     "text": [
      "{'epoch': 2, 'iter': 2530, 'avg_loss': 5.54424180404229, 'avg_acc': 49.83331687080205, 'loss': 5.779153347015381}\n"
     ]
    },
    {
     "name": "stderr",
     "output_type": "stream",
     "text": [
      "EP_train:2:  37%|| 2542/6926 [04:09<07:13, 10.10it/s]"
     ]
    },
    {
     "name": "stdout",
     "output_type": "stream",
     "text": [
      "{'epoch': 2, 'iter': 2540, 'avg_loss': 5.544351985162752, 'avg_acc': 49.849960645415194, 'loss': 5.7141828536987305}\n"
     ]
    },
    {
     "name": "stderr",
     "output_type": "stream",
     "text": [
      "EP_train:2:  37%|| 2552/6926 [04:10<07:19,  9.95it/s]"
     ]
    },
    {
     "name": "stdout",
     "output_type": "stream",
     "text": [
      "{'epoch': 2, 'iter': 2550, 'avg_loss': 5.5440262501401465, 'avg_acc': 49.868923951391615, 'loss': 6.092573642730713}\n"
     ]
    },
    {
     "name": "stderr",
     "output_type": "stream",
     "text": [
      "EP_train:2:  37%|| 2563/6926 [04:11<07:12, 10.08it/s]"
     ]
    },
    {
     "name": "stdout",
     "output_type": "stream",
     "text": [
      "{'epoch': 2, 'iter': 2560, 'avg_loss': 5.543848061366083, 'avg_acc': 49.85601327606404, 'loss': 5.128565311431885}\n"
     ]
    },
    {
     "name": "stderr",
     "output_type": "stream",
     "text": [
      "EP_train:2:  37%|| 2573/6926 [04:12<06:59, 10.39it/s]"
     ]
    },
    {
     "name": "stdout",
     "output_type": "stream",
     "text": [
      "{'epoch': 2, 'iter': 2570, 'avg_loss': 5.542771972602836, 'avg_acc': 49.871159082069234, 'loss': 5.065174579620361}\n"
     ]
    },
    {
     "name": "stderr",
     "output_type": "stream",
     "text": [
      "EP_train:2:  37%|| 2583/6926 [04:13<06:49, 10.61it/s]"
     ]
    },
    {
     "name": "stdout",
     "output_type": "stream",
     "text": [
      "{'epoch': 2, 'iter': 2580, 'avg_loss': 5.542569623996656, 'avg_acc': 49.869236729949634, 'loss': 5.412425994873047}\n"
     ]
    },
    {
     "name": "stderr",
     "output_type": "stream",
     "text": [
      "EP_train:2:  37%|| 2593/6926 [04:14<07:08, 10.12it/s]"
     ]
    },
    {
     "name": "stdout",
     "output_type": "stream",
     "text": [
      "{'epoch': 2, 'iter': 2590, 'avg_loss': 5.54239133369596, 'avg_acc': 49.86129872636048, 'loss': 5.66071891784668}\n"
     ]
    },
    {
     "name": "stderr",
     "output_type": "stream",
     "text": [
      "EP_train:2:  38%|| 2601/6926 [04:15<07:06, 10.14it/s]"
     ]
    },
    {
     "name": "stdout",
     "output_type": "stream",
     "text": [
      "{'epoch': 2, 'iter': 2600, 'avg_loss': 5.542631459666967, 'avg_acc': 49.864234909650136, 'loss': 5.256497383117676}\n"
     ]
    },
    {
     "name": "stderr",
     "output_type": "stream",
     "text": [
      "EP_train:2:  38%|| 2611/6926 [04:16<06:58, 10.30it/s]"
     ]
    },
    {
     "name": "stdout",
     "output_type": "stream",
     "text": [
      "{'epoch': 2, 'iter': 2610, 'avg_loss': 5.542440592854565, 'avg_acc': 49.87552661815396, 'loss': 5.090435981750488}\n"
     ]
    },
    {
     "name": "stderr",
     "output_type": "stream",
     "text": [
      "EP_train:2:  38%|| 2623/6926 [04:17<07:00, 10.22it/s]"
     ]
    },
    {
     "name": "stdout",
     "output_type": "stream",
     "text": [
      "{'epoch': 2, 'iter': 2620, 'avg_loss': 5.542268495621548, 'avg_acc': 49.89150133536818, 'loss': 5.9126973152160645}\n"
     ]
    },
    {
     "name": "stderr",
     "output_type": "stream",
     "text": [
      "EP_train:2:  38%|| 2633/6926 [04:18<06:57, 10.28it/s]"
     ]
    },
    {
     "name": "stdout",
     "output_type": "stream",
     "text": [
      "{'epoch': 2, 'iter': 2630, 'avg_loss': 5.542013010295432, 'avg_acc': 49.88716267578867, 'loss': 5.560135841369629}\n"
     ]
    },
    {
     "name": "stderr",
     "output_type": "stream",
     "text": [
      "EP_train:2:  38%|| 2643/6926 [04:19<06:51, 10.40it/s]"
     ]
    },
    {
     "name": "stdout",
     "output_type": "stream",
     "text": [
      "{'epoch': 2, 'iter': 2640, 'avg_loss': 5.541875619140821, 'avg_acc': 49.89942256720939, 'loss': 5.211277961730957}\n"
     ]
    },
    {
     "name": "stderr",
     "output_type": "stream",
     "text": [
      "EP_train:2:  38%|| 2653/6926 [04:20<07:05, 10.04it/s]"
     ]
    },
    {
     "name": "stdout",
     "output_type": "stream",
     "text": [
      "{'epoch': 2, 'iter': 2650, 'avg_loss': 5.541803026864862, 'avg_acc': 49.892729158807995, 'loss': 5.569942951202393}\n"
     ]
    },
    {
     "name": "stderr",
     "output_type": "stream",
     "text": [
      "EP_train:2:  38%|| 2663/6926 [04:21<06:48, 10.44it/s]"
     ]
    },
    {
     "name": "stdout",
     "output_type": "stream",
     "text": [
      "{'epoch': 2, 'iter': 2660, 'avg_loss': 5.541734426284096, 'avg_acc': 49.90252724539646, 'loss': 5.070333480834961}\n"
     ]
    },
    {
     "name": "stderr",
     "output_type": "stream",
     "text": [
      "EP_train:2:  39%|| 2673/6926 [04:22<07:14,  9.78it/s]"
     ]
    },
    {
     "name": "stdout",
     "output_type": "stream",
     "text": [
      "{'epoch': 2, 'iter': 2670, 'avg_loss': 5.541469147124125, 'avg_acc': 49.92044178210408, 'loss': 5.637777805328369}\n"
     ]
    },
    {
     "name": "stderr",
     "output_type": "stream",
     "text": [
      "EP_train:2:  39%|| 2683/6926 [04:23<07:14,  9.77it/s]"
     ]
    },
    {
     "name": "stdout",
     "output_type": "stream",
     "text": [
      "{'epoch': 2, 'iter': 2680, 'avg_loss': 5.541999778299356, 'avg_acc': 49.914910481163744, 'loss': 5.909252643585205}\n"
     ]
    },
    {
     "name": "stderr",
     "output_type": "stream",
     "text": [
      "EP_train:2:  39%|| 2692/6926 [04:24<06:53, 10.24it/s]"
     ]
    },
    {
     "name": "stdout",
     "output_type": "stream",
     "text": [
      "{'epoch': 2, 'iter': 2690, 'avg_loss': 5.541746190381909, 'avg_acc': 49.919871794871796, 'loss': 5.2727766036987305}\n"
     ]
    },
    {
     "name": "stderr",
     "output_type": "stream",
     "text": [
      "EP_train:2:  39%|| 2702/6926 [04:25<06:51, 10.27it/s]"
     ]
    },
    {
     "name": "stdout",
     "output_type": "stream",
     "text": [
      "{'epoch': 2, 'iter': 2700, 'avg_loss': 5.542083160473831, 'avg_acc': 49.91669751943725, 'loss': 5.513862609863281}\n"
     ]
    },
    {
     "name": "stderr",
     "output_type": "stream",
     "text": [
      "EP_train:2:  39%|| 2712/6926 [04:26<06:45, 10.40it/s]"
     ]
    },
    {
     "name": "stdout",
     "output_type": "stream",
     "text": [
      "{'epoch': 2, 'iter': 2710, 'avg_loss': 5.541741557070269, 'avg_acc': 49.91469937292512, 'loss': 5.7339582443237305}\n"
     ]
    },
    {
     "name": "stderr",
     "output_type": "stream",
     "text": [
      "EP_train:2:  39%|| 2722/6926 [04:27<06:45, 10.37it/s]"
     ]
    },
    {
     "name": "stdout",
     "output_type": "stream",
     "text": [
      "{'epoch': 2, 'iter': 2720, 'avg_loss': 5.541357191990772, 'avg_acc': 49.91386438809261, 'loss': 5.415128707885742}\n"
     ]
    },
    {
     "name": "stderr",
     "output_type": "stream",
     "text": [
      "EP_train:2:  39%|| 2732/6926 [04:28<07:00,  9.96it/s]"
     ]
    },
    {
     "name": "stdout",
     "output_type": "stream",
     "text": [
      "{'epoch': 2, 'iter': 2730, 'avg_loss': 5.541677598418966, 'avg_acc': 49.92218967411205, 'loss': 5.6403679847717285}\n"
     ]
    },
    {
     "name": "stderr",
     "output_type": "stream",
     "text": [
      "EP_train:2:  40%|| 2742/6926 [04:29<07:10,  9.71it/s]"
     ]
    },
    {
     "name": "stdout",
     "output_type": "stream",
     "text": [
      "{'epoch': 2, 'iter': 2740, 'avg_loss': 5.541656125509491, 'avg_acc': 49.917913170375776, 'loss': 5.646151542663574}\n"
     ]
    },
    {
     "name": "stderr",
     "output_type": "stream",
     "text": [
      "EP_train:2:  40%|| 2752/6926 [04:30<06:39, 10.44it/s]"
     ]
    },
    {
     "name": "stdout",
     "output_type": "stream",
     "text": [
      "{'epoch': 2, 'iter': 2750, 'avg_loss': 5.541852433999553, 'avg_acc': 49.89208469647401, 'loss': 5.719977378845215}\n"
     ]
    },
    {
     "name": "stderr",
     "output_type": "stream",
     "text": [
      "EP_train:2:  40%|| 2762/6926 [04:31<06:54, 10.04it/s]"
     ]
    },
    {
     "name": "stdout",
     "output_type": "stream",
     "text": [
      "{'epoch': 2, 'iter': 2760, 'avg_loss': 5.542032095540567, 'avg_acc': 49.875498007968126, 'loss': 5.349184036254883}\n"
     ]
    },
    {
     "name": "stderr",
     "output_type": "stream",
     "text": [
      "EP_train:2:  40%|| 2772/6926 [04:32<06:48, 10.16it/s]"
     ]
    },
    {
     "name": "stdout",
     "output_type": "stream",
     "text": [
      "{'epoch': 2, 'iter': 2770, 'avg_loss': 5.542421826383603, 'avg_acc': 49.85790328401299, 'loss': 5.4191999435424805}\n"
     ]
    },
    {
     "name": "stderr",
     "output_type": "stream",
     "text": [
      "EP_train:2:  40%|| 2782/6926 [04:33<07:04,  9.77it/s]"
     ]
    },
    {
     "name": "stdout",
     "output_type": "stream",
     "text": [
      "{'epoch': 2, 'iter': 2780, 'avg_loss': 5.542118825230055, 'avg_acc': 49.86178532901834, 'loss': 5.2735276222229}\n"
     ]
    },
    {
     "name": "stderr",
     "output_type": "stream",
     "text": [
      "EP_train:2:  40%|| 2793/6926 [04:34<06:46, 10.16it/s]"
     ]
    },
    {
     "name": "stdout",
     "output_type": "stream",
     "text": [
      "{'epoch': 2, 'iter': 2790, 'avg_loss': 5.541975217325121, 'avg_acc': 49.877955929774274, 'loss': 5.136697292327881}\n"
     ]
    },
    {
     "name": "stderr",
     "output_type": "stream",
     "text": [
      "EP_train:2:  40%|| 2802/6926 [04:35<06:59,  9.83it/s]"
     ]
    },
    {
     "name": "stdout",
     "output_type": "stream",
     "text": [
      "{'epoch': 2, 'iter': 2800, 'avg_loss': 5.542435796207209, 'avg_acc': 49.86388789717957, 'loss': 5.802025318145752}\n"
     ]
    },
    {
     "name": "stderr",
     "output_type": "stream",
     "text": [
      "EP_train:2:  41%|| 2813/6926 [04:36<06:39, 10.29it/s]"
     ]
    },
    {
     "name": "stdout",
     "output_type": "stream",
     "text": [
      "{'epoch': 2, 'iter': 2810, 'avg_loss': 5.542520653858001, 'avg_acc': 49.863260405549624, 'loss': 5.74395751953125}\n"
     ]
    },
    {
     "name": "stderr",
     "output_type": "stream",
     "text": [
      "EP_train:2:  41%|| 2823/6926 [04:37<06:45, 10.11it/s]"
     ]
    },
    {
     "name": "stdout",
     "output_type": "stream",
     "text": [
      "{'epoch': 2, 'iter': 2820, 'avg_loss': 5.542743042909013, 'avg_acc': 49.87703828429635, 'loss': 5.483819484710693}\n"
     ]
    },
    {
     "name": "stderr",
     "output_type": "stream",
     "text": [
      "EP_train:2:  41%|| 2832/6926 [04:38<07:05,  9.62it/s]"
     ]
    },
    {
     "name": "stdout",
     "output_type": "stream",
     "text": [
      "{'epoch': 2, 'iter': 2830, 'avg_loss': 5.5433962812528135, 'avg_acc': 49.8697456729071, 'loss': 5.318615436553955}\n"
     ]
    },
    {
     "name": "stderr",
     "output_type": "stream",
     "text": [
      "EP_train:2:  41%|| 2841/6926 [04:39<06:30, 10.47it/s]"
     ]
    },
    {
     "name": "stdout",
     "output_type": "stream",
     "text": [
      "{'epoch': 2, 'iter': 2840, 'avg_loss': 5.543451546363871, 'avg_acc': 49.86470432946145, 'loss': 5.352867603302002}\n"
     ]
    },
    {
     "name": "stderr",
     "output_type": "stream",
     "text": [
      "EP_train:2:  41%|| 2853/6926 [04:40<06:44, 10.07it/s]"
     ]
    },
    {
     "name": "stdout",
     "output_type": "stream",
     "text": [
      "{'epoch': 2, 'iter': 2850, 'avg_loss': 5.54411623278069, 'avg_acc': 49.879428270782185, 'loss': 5.760658264160156}\n"
     ]
    },
    {
     "name": "stderr",
     "output_type": "stream",
     "text": [
      "EP_train:2:  41%|| 2863/6926 [04:41<06:26, 10.51it/s]"
     ]
    },
    {
     "name": "stdout",
     "output_type": "stream",
     "text": [
      "{'epoch': 2, 'iter': 2860, 'avg_loss': 5.5440099738520034, 'avg_acc': 49.8831265291856, 'loss': 5.505456447601318}\n"
     ]
    },
    {
     "name": "stderr",
     "output_type": "stream",
     "text": [
      "EP_train:2:  41%|| 2873/6926 [04:42<06:39, 10.15it/s]"
     ]
    },
    {
     "name": "stdout",
     "output_type": "stream",
     "text": [
      "{'epoch': 2, 'iter': 2870, 'avg_loss': 5.543455712349313, 'avg_acc': 49.88135667014977, 'loss': 5.271256446838379}\n"
     ]
    },
    {
     "name": "stderr",
     "output_type": "stream",
     "text": [
      "EP_train:2:  42%|| 2881/6926 [04:43<06:24, 10.53it/s]"
     ]
    },
    {
     "name": "stdout",
     "output_type": "stream",
     "text": [
      "{'epoch': 2, 'iter': 2880, 'avg_loss': 5.542550304787559, 'avg_acc': 49.87634501909059, 'loss': 5.40403938293457}\n"
     ]
    },
    {
     "name": "stderr",
     "output_type": "stream",
     "text": [
      "EP_train:2:  42%|| 2893/6926 [04:44<06:34, 10.21it/s]"
     ]
    },
    {
     "name": "stdout",
     "output_type": "stream",
     "text": [
      "{'epoch': 2, 'iter': 2890, 'avg_loss': 5.542262323749639, 'avg_acc': 49.888663092355586, 'loss': 5.452089309692383}\n"
     ]
    },
    {
     "name": "stderr",
     "output_type": "stream",
     "text": [
      "EP_train:2:  42%|| 2902/6926 [04:45<06:51,  9.79it/s]"
     ]
    },
    {
     "name": "stdout",
     "output_type": "stream",
     "text": [
      "{'epoch': 2, 'iter': 2900, 'avg_loss': 5.542159369960813, 'avg_acc': 49.87935194760427, 'loss': 5.625092029571533}\n"
     ]
    },
    {
     "name": "stderr",
     "output_type": "stream",
     "text": [
      "EP_train:2:  42%|| 2912/6926 [04:46<06:47,  9.86it/s]"
     ]
    },
    {
     "name": "stdout",
     "output_type": "stream",
     "text": [
      "{'epoch': 2, 'iter': 2910, 'avg_loss': 5.542011413652845, 'avg_acc': 49.87547234627276, 'loss': 5.3266682624816895}\n"
     ]
    },
    {
     "name": "stderr",
     "output_type": "stream",
     "text": [
      "EP_train:2:  42%|| 2922/6926 [04:47<06:48,  9.80it/s]"
     ]
    },
    {
     "name": "stdout",
     "output_type": "stream",
     "text": [
      "{'epoch': 2, 'iter': 2920, 'avg_loss': 5.541960863657334, 'avg_acc': 49.89301609038, 'loss': 5.316031455993652}\n"
     ]
    },
    {
     "name": "stderr",
     "output_type": "stream",
     "text": [
      "EP_train:2:  42%|| 2933/6926 [04:48<06:45,  9.86it/s]"
     ]
    },
    {
     "name": "stdout",
     "output_type": "stream",
     "text": [
      "{'epoch': 2, 'iter': 2930, 'avg_loss': 5.541416143972448, 'avg_acc': 49.884851586489255, 'loss': 5.483670234680176}\n"
     ]
    },
    {
     "name": "stderr",
     "output_type": "stream",
     "text": [
      "EP_train:2:  42%|| 2942/6926 [04:49<06:57,  9.54it/s]"
     ]
    },
    {
     "name": "stdout",
     "output_type": "stream",
     "text": [
      "{'epoch': 2, 'iter': 2940, 'avg_loss': 5.541379834550938, 'avg_acc': 49.86717953077185, 'loss': 5.438192367553711}\n"
     ]
    },
    {
     "name": "stderr",
     "output_type": "stream",
     "text": [
      "EP_train:2:  43%|| 2952/6926 [04:50<06:37,  9.99it/s]"
     ]
    },
    {
     "name": "stdout",
     "output_type": "stream",
     "text": [
      "{'epoch': 2, 'iter': 2950, 'avg_loss': 5.540698437479058, 'avg_acc': 49.86551169095222, 'loss': 5.204297065734863}\n"
     ]
    },
    {
     "name": "stderr",
     "output_type": "stream",
     "text": [
      "EP_train:2:  43%|| 2962/6926 [04:51<06:37,  9.98it/s]"
     ]
    },
    {
     "name": "stdout",
     "output_type": "stream",
     "text": [
      "{'epoch': 2, 'iter': 2960, 'avg_loss': 5.540748709079906, 'avg_acc': 49.86807666328943, 'loss': 5.702911853790283}\n"
     ]
    },
    {
     "name": "stderr",
     "output_type": "stream",
     "text": [
      "EP_train:2:  43%|| 2973/6926 [04:52<06:17, 10.48it/s]"
     ]
    },
    {
     "name": "stdout",
     "output_type": "stream",
     "text": [
      "{'epoch': 2, 'iter': 2970, 'avg_loss': 5.540403255506302, 'avg_acc': 49.871676203298556, 'loss': 5.3996171951293945}\n"
     ]
    },
    {
     "name": "stderr",
     "output_type": "stream",
     "text": [
      "EP_train:2:  43%|| 2983/6926 [04:53<06:17, 10.43it/s]"
     ]
    },
    {
     "name": "stdout",
     "output_type": "stream",
     "text": [
      "{'epoch': 2, 'iter': 2980, 'avg_loss': 5.540035642421073, 'avg_acc': 49.87629989936263, 'loss': 5.276885986328125}\n"
     ]
    },
    {
     "name": "stderr",
     "output_type": "stream",
     "text": [
      "EP_train:2:  43%|| 2993/6926 [04:54<06:26, 10.18it/s]"
     ]
    },
    {
     "name": "stdout",
     "output_type": "stream",
     "text": [
      "{'epoch': 2, 'iter': 2990, 'avg_loss': 5.54038127263387, 'avg_acc': 49.881937479103975, 'loss': 5.355337142944336}\n"
     ]
    },
    {
     "name": "stderr",
     "output_type": "stream",
     "text": [
      "EP_train:2:  43%|| 3003/6926 [04:55<06:24, 10.21it/s]"
     ]
    },
    {
     "name": "stdout",
     "output_type": "stream",
     "text": [
      "{'epoch': 2, 'iter': 3000, 'avg_loss': 5.540917333623879, 'avg_acc': 49.88649616794402, 'loss': 5.501479625701904}\n"
     ]
    },
    {
     "name": "stderr",
     "output_type": "stream",
     "text": [
      "EP_train:2:  44%|| 3013/6926 [04:56<06:24, 10.16it/s]"
     ]
    },
    {
     "name": "stdout",
     "output_type": "stream",
     "text": [
      "{'epoch': 2, 'iter': 3010, 'avg_loss': 5.540669101688483, 'avg_acc': 49.88998671537695, 'loss': 5.533292770385742}\n"
     ]
    },
    {
     "name": "stderr",
     "output_type": "stream",
     "text": [
      "EP_train:2:  44%|| 3021/6926 [04:56<06:12, 10.47it/s]"
     ]
    },
    {
     "name": "stdout",
     "output_type": "stream",
     "text": [
      "{'epoch': 2, 'iter': 3020, 'avg_loss': 5.540313048301174, 'avg_acc': 49.88621317444555, 'loss': 5.373631954193115}\n"
     ]
    },
    {
     "name": "stderr",
     "output_type": "stream",
     "text": [
      "EP_train:2:  44%|| 3032/6926 [04:58<06:28, 10.02it/s]"
     ]
    },
    {
     "name": "stdout",
     "output_type": "stream",
     "text": [
      "{'epoch': 2, 'iter': 3030, 'avg_loss': 5.539856180268441, 'avg_acc': 49.877309468822176, 'loss': 5.521083831787109}\n"
     ]
    },
    {
     "name": "stderr",
     "output_type": "stream",
     "text": [
      "EP_train:2:  44%|| 3042/6926 [04:59<06:16, 10.32it/s]"
     ]
    },
    {
     "name": "stdout",
     "output_type": "stream",
     "text": [
      "{'epoch': 2, 'iter': 3040, 'avg_loss': 5.540228798059365, 'avg_acc': 49.887989148306474, 'loss': 5.702976226806641}\n"
     ]
    },
    {
     "name": "stderr",
     "output_type": "stream",
     "text": [
      "EP_train:2:  44%|| 3052/6926 [05:00<06:16, 10.28it/s]"
     ]
    },
    {
     "name": "stdout",
     "output_type": "stream",
     "text": [
      "{'epoch': 2, 'iter': 3050, 'avg_loss': 5.540399819270621, 'avg_acc': 49.88425925925926, 'loss': 5.658849239349365}\n"
     ]
    },
    {
     "name": "stderr",
     "output_type": "stream",
     "text": [
      "EP_train:2:  44%|| 3062/6926 [05:01<06:15, 10.30it/s]"
     ]
    },
    {
     "name": "stdout",
     "output_type": "stream",
     "text": [
      "{'epoch': 2, 'iter': 3060, 'avg_loss': 5.54015612500978, 'avg_acc': 49.86830284220843, 'loss': 5.85362434387207}\n"
     ]
    },
    {
     "name": "stderr",
     "output_type": "stream",
     "text": [
      "EP_train:2:  44%|| 3072/6926 [05:02<06:20, 10.14it/s]"
     ]
    },
    {
     "name": "stdout",
     "output_type": "stream",
     "text": [
      "{'epoch': 2, 'iter': 3070, 'avg_loss': 5.54032082730029, 'avg_acc': 49.860591012699444, 'loss': 5.734532833099365}\n"
     ]
    },
    {
     "name": "stderr",
     "output_type": "stream",
     "text": [
      "EP_train:2:  45%|| 3083/6926 [05:03<06:24, 10.00it/s]"
     ]
    },
    {
     "name": "stdout",
     "output_type": "stream",
     "text": [
      "{'epoch': 2, 'iter': 3080, 'avg_loss': 5.540016828207024, 'avg_acc': 49.86205777345018, 'loss': 5.229652404785156}\n"
     ]
    },
    {
     "name": "stderr",
     "output_type": "stream",
     "text": [
      "EP_train:2:  45%|| 3093/6926 [05:04<06:10, 10.36it/s]"
     ]
    },
    {
     "name": "stdout",
     "output_type": "stream",
     "text": [
      "{'epoch': 2, 'iter': 3090, 'avg_loss': 5.540062216484443, 'avg_acc': 49.86149304432222, 'loss': 5.670115947723389}\n"
     ]
    },
    {
     "name": "stderr",
     "output_type": "stream",
     "text": [
      "EP_train:2:  45%|| 3103/6926 [05:05<06:08, 10.38it/s]"
     ]
    },
    {
     "name": "stdout",
     "output_type": "stream",
     "text": [
      "{'epoch': 2, 'iter': 3100, 'avg_loss': 5.540278495492108, 'avg_acc': 49.86395517574976, 'loss': 5.695034027099609}\n"
     ]
    },
    {
     "name": "stderr",
     "output_type": "stream",
     "text": [
      "EP_train:2:  45%|| 3113/6926 [05:06<06:10, 10.29it/s]"
     ]
    },
    {
     "name": "stdout",
     "output_type": "stream",
     "text": [
      "{'epoch': 2, 'iter': 3110, 'avg_loss': 5.540455877646799, 'avg_acc': 49.8643924783028, 'loss': 5.6076202392578125}\n"
     ]
    },
    {
     "name": "stderr",
     "output_type": "stream",
     "text": [
      "EP_train:2:  45%|| 3123/6926 [05:06<05:57, 10.65it/s]"
     ]
    },
    {
     "name": "stdout",
     "output_type": "stream",
     "text": [
      "{'epoch': 2, 'iter': 3120, 'avg_loss': 5.540347570641153, 'avg_acc': 49.880847484780524, 'loss': 5.987424850463867}\n"
     ]
    },
    {
     "name": "stderr",
     "output_type": "stream",
     "text": [
      "EP_train:2:  45%|| 3133/6926 [05:07<06:17, 10.04it/s]"
     ]
    },
    {
     "name": "stdout",
     "output_type": "stream",
     "text": [
      "{'epoch': 2, 'iter': 3130, 'avg_loss': 5.540638406906445, 'avg_acc': 49.86925103800703, 'loss': 5.802209377288818}\n"
     ]
    },
    {
     "name": "stderr",
     "output_type": "stream",
     "text": [
      "EP_train:2:  45%|| 3143/6926 [05:08<06:30,  9.70it/s]"
     ]
    },
    {
     "name": "stdout",
     "output_type": "stream",
     "text": [
      "{'epoch': 2, 'iter': 3140, 'avg_loss': 5.5404753648563005, 'avg_acc': 49.85474371219357, 'loss': 5.563343048095703}\n"
     ]
    },
    {
     "name": "stderr",
     "output_type": "stream",
     "text": [
      "EP_train:2:  46%|| 3152/6926 [05:09<06:11, 10.15it/s]"
     ]
    },
    {
     "name": "stdout",
     "output_type": "stream",
     "text": [
      "{'epoch': 2, 'iter': 3150, 'avg_loss': 5.5403583565048855, 'avg_acc': 49.86214693748017, 'loss': 5.382862567901611}\n"
     ]
    },
    {
     "name": "stderr",
     "output_type": "stream",
     "text": [
      "EP_train:2:  46%|| 3162/6926 [05:10<06:03, 10.35it/s]"
     ]
    },
    {
     "name": "stdout",
     "output_type": "stream",
     "text": [
      "{'epoch': 2, 'iter': 3160, 'avg_loss': 5.540081332658371, 'avg_acc': 49.86258304334071, 'loss': 5.87715482711792}\n"
     ]
    },
    {
     "name": "stderr",
     "output_type": "stream",
     "text": [
      "EP_train:2:  46%|| 3172/6926 [05:11<06:05, 10.27it/s]"
     ]
    },
    {
     "name": "stdout",
     "output_type": "stream",
     "text": [
      "{'epoch': 2, 'iter': 3170, 'avg_loss': 5.540156028354179, 'avg_acc': 49.86203090507726, 'loss': 5.719053268432617}\n"
     ]
    },
    {
     "name": "stderr",
     "output_type": "stream",
     "text": [
      "EP_train:2:  46%|| 3182/6926 [05:12<06:05, 10.24it/s]"
     ]
    },
    {
     "name": "stdout",
     "output_type": "stream",
     "text": [
      "{'epoch': 2, 'iter': 3180, 'avg_loss': 5.539636060450295, 'avg_acc': 49.85165828355863, 'loss': 5.122618198394775}\n"
     ]
    },
    {
     "name": "stderr",
     "output_type": "stream",
     "text": [
      "EP_train:2:  46%|| 3192/6926 [05:13<06:17,  9.88it/s]"
     ]
    },
    {
     "name": "stdout",
     "output_type": "stream",
     "text": [
      "{'epoch': 2, 'iter': 3190, 'avg_loss': 5.539498710064483, 'avg_acc': 49.86289564399875, 'loss': 5.479079246520996}\n"
     ]
    },
    {
     "name": "stderr",
     "output_type": "stream",
     "text": [
      "EP_train:2:  46%|| 3202/6926 [05:14<06:19,  9.81it/s]"
     ]
    },
    {
     "name": "stdout",
     "output_type": "stream",
     "text": [
      "{'epoch': 2, 'iter': 3200, 'avg_loss': 5.539276523613922, 'avg_acc': 49.84672758512965, 'loss': 5.42756462097168}\n"
     ]
    },
    {
     "name": "stderr",
     "output_type": "stream",
     "text": [
      "EP_train:2:  46%|| 3212/6926 [05:15<06:01, 10.28it/s]"
     ]
    },
    {
     "name": "stdout",
     "output_type": "stream",
     "text": [
      "{'epoch': 2, 'iter': 3210, 'avg_loss': 5.5389743599703065, 'avg_acc': 49.84039240112115, 'loss': 5.288670063018799}\n"
     ]
    },
    {
     "name": "stderr",
     "output_type": "stream",
     "text": [
      "EP_train:2:  47%|| 3222/6926 [05:16<05:58, 10.32it/s]"
     ]
    },
    {
     "name": "stdout",
     "output_type": "stream",
     "text": [
      "{'epoch': 2, 'iter': 3220, 'avg_loss': 5.53885526814027, 'avg_acc': 49.84185811859671, 'loss': 5.729588985443115}\n"
     ]
    },
    {
     "name": "stderr",
     "output_type": "stream",
     "text": [
      "EP_train:2:  47%|| 3232/6926 [05:17<06:03, 10.16it/s]"
     ]
    },
    {
     "name": "stdout",
     "output_type": "stream",
     "text": [
      "{'epoch': 2, 'iter': 3230, 'avg_loss': 5.53832471248942, 'avg_acc': 49.84621634168988, 'loss': 5.6600213050842285}\n"
     ]
    },
    {
     "name": "stderr",
     "output_type": "stream",
     "text": [
      "EP_train:2:  47%|| 3242/6926 [05:18<06:05, 10.09it/s]"
     ]
    },
    {
     "name": "stdout",
     "output_type": "stream",
     "text": [
      "{'epoch': 2, 'iter': 3240, 'avg_loss': 5.538469625600729, 'avg_acc': 49.82547824745449, 'loss': 5.413866996765137}\n"
     ]
    },
    {
     "name": "stderr",
     "output_type": "stream",
     "text": [
      "EP_train:2:  47%|| 3252/6926 [05:19<05:56, 10.30it/s]"
     ]
    },
    {
     "name": "stdout",
     "output_type": "stream",
     "text": [
      "{'epoch': 2, 'iter': 3250, 'avg_loss': 5.538355539263817, 'avg_acc': 49.82697631498, 'loss': 5.9735565185546875}\n"
     ]
    },
    {
     "name": "stderr",
     "output_type": "stream",
     "text": [
      "EP_train:2:  47%|| 3262/6926 [05:20<05:57, 10.24it/s]"
     ]
    },
    {
     "name": "stdout",
     "output_type": "stream",
     "text": [
      "{'epoch': 2, 'iter': 3260, 'avg_loss': 5.53848117613712, 'avg_acc': 49.841881324747014, 'loss': 5.688014030456543}\n"
     ]
    },
    {
     "name": "stderr",
     "output_type": "stream",
     "text": [
      "EP_train:2:  47%|| 3272/6926 [05:21<06:05, 10.00it/s]"
     ]
    },
    {
     "name": "stdout",
     "output_type": "stream",
     "text": [
      "{'epoch': 2, 'iter': 3270, 'avg_loss': 5.538691213101067, 'avg_acc': 49.84236472026903, 'loss': 5.427269458770752}\n"
     ]
    },
    {
     "name": "stderr",
     "output_type": "stream",
     "text": [
      "EP_train:2:  47%|| 3282/6926 [05:22<05:58, 10.17it/s]"
     ]
    },
    {
     "name": "stdout",
     "output_type": "stream",
     "text": [
      "{'epoch': 2, 'iter': 3280, 'avg_loss': 5.538788065754833, 'avg_acc': 49.830463273392255, 'loss': 5.811712265014648}\n"
     ]
    },
    {
     "name": "stderr",
     "output_type": "stream",
     "text": [
      "EP_train:2:  48%|| 3293/6926 [05:23<05:51, 10.33it/s]"
     ]
    },
    {
     "name": "stdout",
     "output_type": "stream",
     "text": [
      "{'epoch': 2, 'iter': 3290, 'avg_loss': 5.538518902162258, 'avg_acc': 49.823381950774845, 'loss': 5.109421253204346}\n"
     ]
    },
    {
     "name": "stderr",
     "output_type": "stream",
     "text": [
      "EP_train:2:  48%|| 3303/6926 [05:24<05:49, 10.37it/s]"
     ]
    },
    {
     "name": "stdout",
     "output_type": "stream",
     "text": [
      "{'epoch': 2, 'iter': 3300, 'avg_loss': 5.5382355921415085, 'avg_acc': 49.80877006967586, 'loss': 5.5709381103515625}\n"
     ]
    },
    {
     "name": "stderr",
     "output_type": "stream",
     "text": [
      "EP_train:2:  48%|| 3313/6926 [05:25<05:48, 10.37it/s]"
     ]
    },
    {
     "name": "stdout",
     "output_type": "stream",
     "text": [
      "{'epoch': 2, 'iter': 3310, 'avg_loss': 5.538392322008, 'avg_acc': 49.827280277861675, 'loss': 5.297729015350342}\n"
     ]
    },
    {
     "name": "stderr",
     "output_type": "stream",
     "text": [
      "EP_train:2:  48%|| 3323/6926 [05:26<05:57, 10.08it/s]"
     ]
    },
    {
     "name": "stdout",
     "output_type": "stream",
     "text": [
      "{'epoch': 2, 'iter': 3320, 'avg_loss': 5.5384510661133515, 'avg_acc': 49.82497741644083, 'loss': 5.403176784515381}\n"
     ]
    },
    {
     "name": "stderr",
     "output_type": "stream",
     "text": [
      "EP_train:2:  48%|| 3332/6926 [05:27<06:04,  9.87it/s]"
     ]
    },
    {
     "name": "stdout",
     "output_type": "stream",
     "text": [
      "{'epoch': 2, 'iter': 3330, 'avg_loss': 5.538065690315725, 'avg_acc': 49.81987391173821, 'loss': 5.204665660858154}\n"
     ]
    },
    {
     "name": "stderr",
     "output_type": "stream",
     "text": [
      "EP_train:2:  48%|| 3342/6926 [05:28<05:59,  9.96it/s]"
     ]
    },
    {
     "name": "stdout",
     "output_type": "stream",
     "text": [
      "{'epoch': 2, 'iter': 3340, 'avg_loss': 5.538108953706021, 'avg_acc': 49.80544747081712, 'loss': 5.155969619750977}\n"
     ]
    },
    {
     "name": "stderr",
     "output_type": "stream",
     "text": [
      "EP_train:2:  48%|| 3353/6926 [05:29<05:55, 10.06it/s]"
     ]
    },
    {
     "name": "stdout",
     "output_type": "stream",
     "text": [
      "{'epoch': 2, 'iter': 3350, 'avg_loss': 5.538151203002975, 'avg_acc': 49.80136526410027, 'loss': 5.357913494110107}\n"
     ]
    },
    {
     "name": "stderr",
     "output_type": "stream",
     "text": [
      "EP_train:2:  49%|| 3361/6926 [05:30<05:45, 10.33it/s]"
     ]
    },
    {
     "name": "stdout",
     "output_type": "stream",
     "text": [
      "{'epoch': 2, 'iter': 3360, 'avg_loss': 5.538093662091715, 'avg_acc': 49.79265843498958, 'loss': 5.753735065460205}\n"
     ]
    },
    {
     "name": "stderr",
     "output_type": "stream",
     "text": [
      "EP_train:2:  49%|| 3373/6926 [05:31<05:44, 10.32it/s]"
     ]
    },
    {
     "name": "stdout",
     "output_type": "stream",
     "text": [
      "{'epoch': 2, 'iter': 3370, 'avg_loss': 5.537732201986163, 'avg_acc': 49.78493028774844, 'loss': 5.075410842895508}\n"
     ]
    },
    {
     "name": "stderr",
     "output_type": "stream",
     "text": [
      "EP_train:2:  49%|| 3381/6926 [05:32<05:55,  9.97it/s]"
     ]
    },
    {
     "name": "stdout",
     "output_type": "stream",
     "text": [
      "{'epoch': 2, 'iter': 3380, 'avg_loss': 5.537275836440241, 'avg_acc': 49.78279355220349, 'loss': 5.148053169250488}\n"
     ]
    },
    {
     "name": "stderr",
     "output_type": "stream",
     "text": [
      "EP_train:2:  49%|| 3393/6926 [05:33<05:42, 10.30it/s]"
     ]
    },
    {
     "name": "stdout",
     "output_type": "stream",
     "text": [
      "{'epoch': 2, 'iter': 3390, 'avg_loss': 5.537062238430562, 'avg_acc': 49.77329696254792, 'loss': 5.782240390777588}\n"
     ]
    },
    {
     "name": "stderr",
     "output_type": "stream",
     "text": [
      "EP_train:2:  49%|| 3403/6926 [05:34<05:48, 10.11it/s]"
     ]
    },
    {
     "name": "stdout",
     "output_type": "stream",
     "text": [
      "{'epoch': 2, 'iter': 3400, 'avg_loss': 5.5371902265888, 'avg_acc': 49.76293737136137, 'loss': 5.365668296813965}\n"
     ]
    },
    {
     "name": "stderr",
     "output_type": "stream",
     "text": [
      "EP_train:2:  49%|| 3413/6926 [05:35<05:43, 10.23it/s]"
     ]
    },
    {
     "name": "stdout",
     "output_type": "stream",
     "text": [
      "{'epoch': 2, 'iter': 3410, 'avg_loss': 5.53717673024066, 'avg_acc': 49.780123131046615, 'loss': 5.3670525550842285}\n"
     ]
    },
    {
     "name": "stderr",
     "output_type": "stream",
     "text": [
      "EP_train:2:  49%|| 3423/6926 [05:36<05:42, 10.22it/s]"
     ]
    },
    {
     "name": "stdout",
     "output_type": "stream",
     "text": [
      "{'epoch': 2, 'iter': 3420, 'avg_loss': 5.537221692800871, 'avg_acc': 49.766150248465365, 'loss': 5.375776290893555}\n"
     ]
    },
    {
     "name": "stderr",
     "output_type": "stream",
     "text": [
      "EP_train:2:  50%|| 3431/6926 [05:37<05:38, 10.32it/s]"
     ]
    },
    {
     "name": "stdout",
     "output_type": "stream",
     "text": [
      "{'epoch': 2, 'iter': 3430, 'avg_loss': 5.536937588402913, 'avg_acc': 49.78049402506558, 'loss': 5.07369327545166}\n"
     ]
    },
    {
     "name": "stderr",
     "output_type": "stream",
     "text": [
      "EP_train:2:  50%|| 3443/6926 [05:38<05:42, 10.17it/s]"
     ]
    },
    {
     "name": "stdout",
     "output_type": "stream",
     "text": [
      "{'epoch': 2, 'iter': 3440, 'avg_loss': 5.537241718305539, 'avg_acc': 49.77295844231328, 'loss': 5.614532470703125}\n"
     ]
    },
    {
     "name": "stderr",
     "output_type": "stream",
     "text": [
      "EP_train:2:  50%|| 3453/6926 [05:39<05:41, 10.16it/s]"
     ]
    },
    {
     "name": "stdout",
     "output_type": "stream",
     "text": [
      "{'epoch': 2, 'iter': 3450, 'avg_loss': 5.53730557076104, 'avg_acc': 49.76184439292959, 'loss': 5.719305515289307}\n"
     ]
    },
    {
     "name": "stderr",
     "output_type": "stream",
     "text": [
      "EP_train:2:  50%|| 3463/6926 [05:40<05:40, 10.16it/s]"
     ]
    },
    {
     "name": "stdout",
     "output_type": "stream",
     "text": [
      "{'epoch': 2, 'iter': 3460, 'avg_loss': 5.537173648956572, 'avg_acc': 49.75530915920254, 'loss': 5.579495906829834}\n"
     ]
    },
    {
     "name": "stderr",
     "output_type": "stream",
     "text": [
      "EP_train:2:  50%|| 3471/6926 [05:41<05:41, 10.12it/s]"
     ]
    },
    {
     "name": "stdout",
     "output_type": "stream",
     "text": [
      "{'epoch': 2, 'iter': 3470, 'avg_loss': 5.53728548232364, 'avg_acc': 49.751512532411404, 'loss': 5.724323272705078}\n"
     ]
    },
    {
     "name": "stderr",
     "output_type": "stream",
     "text": [
      "EP_train:2:  50%|| 3483/6926 [05:42<05:26, 10.54it/s]"
     ]
    },
    {
     "name": "stdout",
     "output_type": "stream",
     "text": [
      "{'epoch': 2, 'iter': 3480, 'avg_loss': 5.537963425965872, 'avg_acc': 49.76210140764149, 'loss': 5.391449928283691}\n"
     ]
    },
    {
     "name": "stderr",
     "output_type": "stream",
     "text": [
      "EP_train:2:  50%|| 3491/6926 [05:43<05:32, 10.34it/s]"
     ]
    },
    {
     "name": "stdout",
     "output_type": "stream",
     "text": [
      "{'epoch': 2, 'iter': 3490, 'avg_loss': 5.537974926367491, 'avg_acc': 49.779790890862216, 'loss': 5.31399393081665}\n"
     ]
    },
    {
     "name": "stderr",
     "output_type": "stream",
     "text": [
      "EP_train:2:  51%|| 3502/6926 [05:44<05:23, 10.58it/s]"
     ]
    },
    {
     "name": "stdout",
     "output_type": "stream",
     "text": [
      "{'epoch': 2, 'iter': 3500, 'avg_loss': 5.538132056547076, 'avg_acc': 49.776849471579546, 'loss': 5.274974822998047}\n"
     ]
    },
    {
     "name": "stderr",
     "output_type": "stream",
     "text": [
      "EP_train:2:  51%|| 3512/6926 [05:45<05:27, 10.43it/s]"
     ]
    },
    {
     "name": "stdout",
     "output_type": "stream",
     "text": [
      "{'epoch': 2, 'iter': 3510, 'avg_loss': 5.538220303719351, 'avg_acc': 49.78282540586728, 'loss': 5.424008369445801}\n"
     ]
    },
    {
     "name": "stderr",
     "output_type": "stream",
     "text": [
      "EP_train:2:  51%|| 3522/6926 [05:46<05:39, 10.03it/s]"
     ]
    },
    {
     "name": "stdout",
     "output_type": "stream",
     "text": [
      "{'epoch': 2, 'iter': 3520, 'avg_loss': 5.538105034415135, 'avg_acc': 49.78521726782164, 'loss': 5.585208892822266}\n"
     ]
    },
    {
     "name": "stderr",
     "output_type": "stream",
     "text": [
      "EP_train:2:  51%|| 3532/6926 [05:47<05:43,  9.89it/s]"
     ]
    },
    {
     "name": "stdout",
     "output_type": "stream",
     "text": [
      "{'epoch': 2, 'iter': 3530, 'avg_loss': 5.537881226757031, 'avg_acc': 49.7982158028887, 'loss': 5.709531784057617}\n"
     ]
    },
    {
     "name": "stderr",
     "output_type": "stream",
     "text": [
      "EP_train:2:  51%|| 3542/6926 [05:48<05:26, 10.37it/s]"
     ]
    },
    {
     "name": "stdout",
     "output_type": "stream",
     "text": [
      "{'epoch': 2, 'iter': 3540, 'avg_loss': 5.537885250731465, 'avg_acc': 49.801433210957356, 'loss': 5.386346340179443}\n"
     ]
    },
    {
     "name": "stderr",
     "output_type": "stream",
     "text": [
      "EP_train:2:  51%|| 3552/6926 [05:49<05:37, 10.00it/s]"
     ]
    },
    {
     "name": "stdout",
     "output_type": "stream",
     "text": [
      "{'epoch': 2, 'iter': 3550, 'avg_loss': 5.537478814625935, 'avg_acc': 49.80023232892143, 'loss': 5.536746501922607}\n"
     ]
    },
    {
     "name": "stderr",
     "output_type": "stream",
     "text": [
      "EP_train:2:  51%|| 3562/6926 [05:50<05:40,  9.88it/s]"
     ]
    },
    {
     "name": "stdout",
     "output_type": "stream",
     "text": [
      "{'epoch': 2, 'iter': 3560, 'avg_loss': 5.537380428335634, 'avg_acc': 49.80342600393148, 'loss': 5.7729597091674805}\n"
     ]
    },
    {
     "name": "stderr",
     "output_type": "stream",
     "text": [
      "EP_train:2:  52%|| 3573/6926 [05:51<05:29, 10.17it/s]"
     ]
    },
    {
     "name": "stdout",
     "output_type": "stream",
     "text": [
      "{'epoch': 2, 'iter': 3570, 'avg_loss': 5.537210093663541, 'avg_acc': 49.79522542705125, 'loss': 5.425095081329346}\n"
     ]
    },
    {
     "name": "stderr",
     "output_type": "stream",
     "text": [
      "EP_train:2:  52%|| 3583/6926 [05:52<05:24, 10.30it/s]"
     ]
    },
    {
     "name": "stdout",
     "output_type": "stream",
     "text": [
      "{'epoch': 2, 'iter': 3580, 'avg_loss': 5.537318222085313, 'avg_acc': 49.796669924602064, 'loss': 5.692374229431152}\n"
     ]
    },
    {
     "name": "stderr",
     "output_type": "stream",
     "text": [
      "EP_train:2:  52%|| 3593/6926 [05:53<05:33,  9.99it/s]"
     ]
    },
    {
     "name": "stdout",
     "output_type": "stream",
     "text": [
      "{'epoch': 2, 'iter': 3590, 'avg_loss': 5.537020847944123, 'avg_acc': 49.801587301587304, 'loss': 5.3170166015625}\n"
     ]
    },
    {
     "name": "stderr",
     "output_type": "stream",
     "text": [
      "EP_train:2:  52%|| 3603/6926 [05:54<05:19, 10.40it/s]"
     ]
    },
    {
     "name": "stdout",
     "output_type": "stream",
     "text": [
      "{'epoch': 2, 'iter': 3600, 'avg_loss': 5.536885816366995, 'avg_acc': 49.80213829491808, 'loss': 5.563992977142334}\n"
     ]
    },
    {
     "name": "stderr",
     "output_type": "stream",
     "text": [
      "EP_train:2:  52%|| 3613/6926 [05:55<05:27, 10.10it/s]"
     ]
    },
    {
     "name": "stdout",
     "output_type": "stream",
     "text": [
      "{'epoch': 2, 'iter': 3610, 'avg_loss': 5.537068474626184, 'avg_acc': 49.80787870396012, 'loss': 5.126276016235352}\n"
     ]
    },
    {
     "name": "stderr",
     "output_type": "stream",
     "text": [
      "EP_train:2:  52%|| 3623/6926 [05:56<05:16, 10.45it/s]"
     ]
    },
    {
     "name": "stdout",
     "output_type": "stream",
     "text": [
      "{'epoch': 2, 'iter': 3620, 'avg_loss': 5.537398671748328, 'avg_acc': 49.81962855564761, 'loss': 5.632353782653809}\n"
     ]
    },
    {
     "name": "stderr",
     "output_type": "stream",
     "text": [
      "EP_train:2:  52%|| 3633/6926 [05:57<05:15, 10.43it/s]"
     ]
    },
    {
     "name": "stdout",
     "output_type": "stream",
     "text": [
      "{'epoch': 2, 'iter': 3630, 'avg_loss': 5.537373488154893, 'avg_acc': 49.81754337648031, 'loss': 5.710855960845947}\n"
     ]
    },
    {
     "name": "stderr",
     "output_type": "stream",
     "text": [
      "EP_train:2:  53%|| 3643/6926 [05:58<05:07, 10.67it/s]"
     ]
    },
    {
     "name": "stdout",
     "output_type": "stream",
     "text": [
      "{'epoch': 2, 'iter': 3640, 'avg_loss': 5.537313547870413, 'avg_acc': 49.82319417742379, 'loss': 5.402942657470703}\n"
     ]
    },
    {
     "name": "stderr",
     "output_type": "stream",
     "text": [
      "EP_train:2:  53%|| 3653/6926 [05:58<05:19, 10.24it/s]"
     ]
    },
    {
     "name": "stdout",
     "output_type": "stream",
     "text": [
      "{'epoch': 2, 'iter': 3650, 'avg_loss': 5.537317171517349, 'avg_acc': 49.82453437414407, 'loss': 5.940221309661865}\n"
     ]
    },
    {
     "name": "stderr",
     "output_type": "stream",
     "text": [
      "EP_train:2:  53%|| 3663/6926 [05:59<05:23, 10.08it/s]"
     ]
    },
    {
     "name": "stdout",
     "output_type": "stream",
     "text": [
      "{'epoch': 2, 'iter': 3660, 'avg_loss': 5.537190472744293, 'avg_acc': 49.825013657470635, 'loss': 5.6055803298950195}\n"
     ]
    },
    {
     "name": "stderr",
     "output_type": "stream",
     "text": [
      "EP_train:2:  53%|| 3671/6926 [06:00<05:12, 10.40it/s]"
     ]
    },
    {
     "name": "stdout",
     "output_type": "stream",
     "text": [
      "{'epoch': 2, 'iter': 3670, 'avg_loss': 5.537092871706221, 'avg_acc': 49.83655679651321, 'loss': 5.550703048706055}\n"
     ]
    },
    {
     "name": "stderr",
     "output_type": "stream",
     "text": [
      "EP_train:2:  53%|| 3683/6926 [06:01<05:19, 10.16it/s]"
     ]
    },
    {
     "name": "stdout",
     "output_type": "stream",
     "text": [
      "{'epoch': 2, 'iter': 3680, 'avg_loss': 5.537292851989796, 'avg_acc': 49.833604998641675, 'loss': 5.231409549713135}\n"
     ]
    },
    {
     "name": "stderr",
     "output_type": "stream",
     "text": [
      "EP_train:2:  53%|| 3693/6926 [06:02<05:37,  9.57it/s]"
     ]
    },
    {
     "name": "stdout",
     "output_type": "stream",
     "text": [
      "{'epoch': 2, 'iter': 3690, 'avg_loss': 5.537467130378345, 'avg_acc': 49.84336900568952, 'loss': 5.122254848480225}\n"
     ]
    },
    {
     "name": "stderr",
     "output_type": "stream",
     "text": [
      "EP_train:2:  53%|| 3702/6926 [06:03<05:22, 10.00it/s]"
     ]
    },
    {
     "name": "stdout",
     "output_type": "stream",
     "text": [
      "{'epoch': 2, 'iter': 3700, 'avg_loss': 5.537754201592706, 'avg_acc': 49.84210348554445, 'loss': 5.790204048156738}\n"
     ]
    },
    {
     "name": "stderr",
     "output_type": "stream",
     "text": [
      "EP_train:2:  54%|| 3713/6926 [06:05<05:08, 10.40it/s]"
     ]
    },
    {
     "name": "stdout",
     "output_type": "stream",
     "text": [
      "{'epoch': 2, 'iter': 3710, 'avg_loss': 5.537719854669923, 'avg_acc': 49.84337105901374, 'loss': 5.789083480834961}\n"
     ]
    },
    {
     "name": "stderr",
     "output_type": "stream",
     "text": [
      "EP_train:2:  54%|| 3721/6926 [06:05<05:10, 10.31it/s]"
     ]
    },
    {
     "name": "stdout",
     "output_type": "stream",
     "text": [
      "{'epoch': 2, 'iter': 3720, 'avg_loss': 5.537549157259254, 'avg_acc': 49.842112335393715, 'loss': 5.445092678070068}\n"
     ]
    },
    {
     "name": "stderr",
     "output_type": "stream",
     "text": [
      "EP_train:2:  54%|| 3733/6926 [06:06<05:11, 10.27it/s]"
     ]
    },
    {
     "name": "stdout",
     "output_type": "stream",
     "text": [
      "{'epoch': 2, 'iter': 3730, 'avg_loss': 5.537950327875019, 'avg_acc': 49.84169793621013, 'loss': 5.783234596252441}\n"
     ]
    },
    {
     "name": "stderr",
     "output_type": "stream",
     "text": [
      "EP_train:2:  54%|| 3742/6926 [06:07<05:29,  9.67it/s]"
     ]
    },
    {
     "name": "stdout",
     "output_type": "stream",
     "text": [
      "{'epoch': 2, 'iter': 3740, 'avg_loss': 5.537321492842384, 'avg_acc': 49.84629778134189, 'loss': 5.432003021240234}\n"
     ]
    },
    {
     "name": "stderr",
     "output_type": "stream",
     "text": [
      "EP_train:2:  54%|| 3752/6926 [06:08<05:01, 10.54it/s]"
     ]
    },
    {
     "name": "stdout",
     "output_type": "stream",
     "text": [
      "{'epoch': 2, 'iter': 3750, 'avg_loss': 5.537216087621996, 'avg_acc': 49.84170887763263, 'loss': 5.307666301727295}\n"
     ]
    },
    {
     "name": "stderr",
     "output_type": "stream",
     "text": [
      "EP_train:2:  54%|| 3762/6926 [06:09<05:03, 10.42it/s]"
     ]
    },
    {
     "name": "stdout",
     "output_type": "stream",
     "text": [
      "{'epoch': 2, 'iter': 3760, 'avg_loss': 5.536863075992713, 'avg_acc': 49.85625498537623, 'loss': 5.145172595977783}\n"
     ]
    },
    {
     "name": "stderr",
     "output_type": "stream",
     "text": [
      "EP_train:2:  54%|| 3772/6926 [06:10<05:07, 10.25it/s]"
     ]
    },
    {
     "name": "stdout",
     "output_type": "stream",
     "text": [
      "{'epoch': 2, 'iter': 3770, 'avg_loss': 5.536797365564404, 'avg_acc': 49.85746486343145, 'loss': 5.4893479347229}\n"
     ]
    },
    {
     "name": "stderr",
     "output_type": "stream",
     "text": [
      "EP_train:2:  55%|| 3782/6926 [06:11<05:16,  9.94it/s]"
     ]
    },
    {
     "name": "stdout",
     "output_type": "stream",
     "text": [
      "{'epoch': 2, 'iter': 3780, 'avg_loss': 5.536695813287726, 'avg_acc': 49.861147844485586, 'loss': 5.701019763946533}\n"
     ]
    },
    {
     "name": "stderr",
     "output_type": "stream",
     "text": [
      "EP_train:2:  55%|| 3792/6926 [06:12<05:09, 10.12it/s]"
     ]
    },
    {
     "name": "stdout",
     "output_type": "stream",
     "text": [
      "{'epoch': 2, 'iter': 3790, 'avg_loss': 5.536800337101909, 'avg_acc': 49.856568187813245, 'loss': 5.101701736450195}\n"
     ]
    },
    {
     "name": "stderr",
     "output_type": "stream",
     "text": [
      "EP_train:2:  55%|| 3802/6926 [06:13<05:12,  9.99it/s]"
     ]
    },
    {
     "name": "stdout",
     "output_type": "stream",
     "text": [
      "{'epoch': 2, 'iter': 3800, 'avg_loss': 5.537076518523696, 'avg_acc': 49.847901867929494, 'loss': 5.716359615325928}\n"
     ]
    },
    {
     "name": "stderr",
     "output_type": "stream",
     "text": [
      "EP_train:2:  55%|| 3811/6926 [06:14<05:03, 10.26it/s]"
     ]
    },
    {
     "name": "stdout",
     "output_type": "stream",
     "text": [
      "{'epoch': 2, 'iter': 3810, 'avg_loss': 5.536860918316807, 'avg_acc': 49.84912096562582, 'loss': 5.309042930603027}\n"
     ]
    },
    {
     "name": "stderr",
     "output_type": "stream",
     "text": [
      "EP_train:2:  55%|| 3822/6926 [06:15<05:17,  9.76it/s]"
     ]
    },
    {
     "name": "stdout",
     "output_type": "stream",
     "text": [
      "{'epoch': 2, 'iter': 3820, 'avg_loss': 5.536936107027502, 'avg_acc': 49.847880136090026, 'loss': 5.492273330688477}\n"
     ]
    },
    {
     "name": "stderr",
     "output_type": "stream",
     "text": [
      "EP_train:2:  55%|| 3832/6926 [06:16<04:59, 10.31it/s]"
     ]
    },
    {
     "name": "stdout",
     "output_type": "stream",
     "text": [
      "{'epoch': 2, 'iter': 3830, 'avg_loss': 5.537058639949558, 'avg_acc': 49.84990864004176, 'loss': 5.726992130279541}\n"
     ]
    },
    {
     "name": "stderr",
     "output_type": "stream",
     "text": [
      "EP_train:2:  55%|| 3842/6926 [06:17<05:04, 10.12it/s]"
     ]
    },
    {
     "name": "stdout",
     "output_type": "stream",
     "text": [
      "{'epoch': 2, 'iter': 3840, 'avg_loss': 5.537057563743999, 'avg_acc': 49.84297708929966, 'loss': 5.324658393859863}\n"
     ]
    },
    {
     "name": "stderr",
     "output_type": "stream",
     "text": [
      "EP_train:2:  56%|| 3852/6926 [06:18<05:02, 10.17it/s]"
     ]
    },
    {
     "name": "stdout",
     "output_type": "stream",
     "text": [
      "{'epoch': 2, 'iter': 3850, 'avg_loss': 5.536953277756288, 'avg_acc': 49.84095040249286, 'loss': 5.429342746734619}\n"
     ]
    },
    {
     "name": "stderr",
     "output_type": "stream",
     "text": [
      "EP_train:2:  56%|| 3862/6926 [06:19<04:50, 10.53it/s]"
     ]
    },
    {
     "name": "stdout",
     "output_type": "stream",
     "text": [
      "{'epoch': 2, 'iter': 3860, 'avg_loss': 5.536796506221231, 'avg_acc': 49.85512173012173, 'loss': 5.4103522300720215}\n"
     ]
    },
    {
     "name": "stderr",
     "output_type": "stream",
     "text": [
      "EP_train:2:  56%|| 3872/6926 [06:20<05:02, 10.09it/s]"
     ]
    },
    {
     "name": "stdout",
     "output_type": "stream",
     "text": [
      "{'epoch': 2, 'iter': 3870, 'avg_loss': 5.536973629278657, 'avg_acc': 49.85307414104882, 'loss': 5.592638969421387}\n"
     ]
    },
    {
     "name": "stderr",
     "output_type": "stream",
     "text": [
      "EP_train:2:  56%|| 3882/6926 [06:21<05:06,  9.92it/s]"
     ]
    },
    {
     "name": "stdout",
     "output_type": "stream",
     "text": [
      "{'epoch': 2, 'iter': 3880, 'avg_loss': 5.5365498754604054, 'avg_acc': 49.837348621489305, 'loss': 5.484474182128906}\n"
     ]
    },
    {
     "name": "stderr",
     "output_type": "stream",
     "text": [
      "EP_train:2:  56%|| 3892/6926 [06:22<04:55, 10.26it/s]"
     ]
    },
    {
     "name": "stdout",
     "output_type": "stream",
     "text": [
      "{'epoch': 2, 'iter': 3890, 'avg_loss': 5.536266644795735, 'avg_acc': 49.836963505525574, 'loss': 5.508796215057373}\n"
     ]
    },
    {
     "name": "stderr",
     "output_type": "stream",
     "text": [
      "EP_train:2:  56%|| 3902/6926 [06:23<05:08,  9.81it/s]"
     ]
    },
    {
     "name": "stdout",
     "output_type": "stream",
     "text": [
      "{'epoch': 2, 'iter': 3900, 'avg_loss': 5.5359258325367025, 'avg_acc': 49.8405857472443, 'loss': 5.39611291885376}\n"
     ]
    },
    {
     "name": "stderr",
     "output_type": "stream",
     "text": [
      "EP_train:2:  56%|| 3912/6926 [06:24<04:56, 10.16it/s]"
     ]
    },
    {
     "name": "stdout",
     "output_type": "stream",
     "text": [
      "{'epoch': 2, 'iter': 3910, 'avg_loss': 5.535644748027415, 'avg_acc': 49.84179238046536, 'loss': 5.779355049133301}\n"
     ]
    },
    {
     "name": "stderr",
     "output_type": "stream",
     "text": [
      "EP_train:2:  57%|| 3922/6926 [06:25<04:52, 10.25it/s]"
     ]
    },
    {
     "name": "stdout",
     "output_type": "stream",
     "text": [
      "{'epoch': 2, 'iter': 3920, 'avg_loss': 5.535309736961554, 'avg_acc': 49.838210915582756, 'loss': 5.449710845947266}\n"
     ]
    },
    {
     "name": "stderr",
     "output_type": "stream",
     "text": [
      "EP_train:2:  57%|| 3933/6926 [06:26<05:01,  9.94it/s]"
     ]
    },
    {
     "name": "stdout",
     "output_type": "stream",
     "text": [
      "{'epoch': 2, 'iter': 3930, 'avg_loss': 5.5351479871677585, 'avg_acc': 49.827493004324594, 'loss': 5.687092304229736}\n"
     ]
    },
    {
     "name": "stderr",
     "output_type": "stream",
     "text": [
      "EP_train:2:  57%|| 3943/6926 [06:27<05:01,  9.89it/s]"
     ]
    },
    {
     "name": "stdout",
     "output_type": "stream",
     "text": [
      "{'epoch': 2, 'iter': 3940, 'avg_loss': 5.53480076069942, 'avg_acc': 49.826344836335956, 'loss': 5.140628337860107}\n"
     ]
    },
    {
     "name": "stderr",
     "output_type": "stream",
     "text": [
      "EP_train:2:  57%|| 3952/6926 [06:28<04:42, 10.52it/s]"
     ]
    },
    {
     "name": "stdout",
     "output_type": "stream",
     "text": [
      "{'epoch': 2, 'iter': 3950, 'avg_loss': 5.534793276389742, 'avg_acc': 49.82836623639585, 'loss': 5.075457572937012}\n"
     ]
    },
    {
     "name": "stderr",
     "output_type": "stream",
     "text": [
      "EP_train:2:  57%|| 3962/6926 [06:29<04:54, 10.08it/s]"
     ]
    },
    {
     "name": "stdout",
     "output_type": "stream",
     "text": [
      "{'epoch': 2, 'iter': 3960, 'avg_loss': 5.534523579424844, 'avg_acc': 49.82327695026508, 'loss': 5.412505149841309}\n"
     ]
    },
    {
     "name": "stderr",
     "output_type": "stream",
     "text": [
      "EP_train:2:  57%|| 3972/6926 [06:30<04:51, 10.12it/s]"
     ]
    },
    {
     "name": "stdout",
     "output_type": "stream",
     "text": [
      "{'epoch': 2, 'iter': 3970, 'avg_loss': 5.534547401477215, 'avg_acc': 49.82450893981365, 'loss': 5.290057182312012}\n"
     ]
    },
    {
     "name": "stderr",
     "output_type": "stream",
     "text": [
      "EP_train:2:  57%|| 3982/6926 [06:31<04:58,  9.86it/s]"
     ]
    },
    {
     "name": "stdout",
     "output_type": "stream",
     "text": [
      "{'epoch': 2, 'iter': 3980, 'avg_loss': 5.534472977686875, 'avg_acc': 49.827304697312236, 'loss': 5.579816818237305}\n"
     ]
    },
    {
     "name": "stderr",
     "output_type": "stream",
     "text": [
      "EP_train:2:  58%|| 3993/6926 [06:32<04:44, 10.31it/s]"
     ]
    },
    {
     "name": "stdout",
     "output_type": "stream",
     "text": [
      "{'epoch': 2, 'iter': 3990, 'avg_loss': 5.534428815022055, 'avg_acc': 49.81207717364069, 'loss': 5.349401950836182}\n"
     ]
    },
    {
     "name": "stderr",
     "output_type": "stream",
     "text": [
      "EP_train:2:  58%|| 4003/6926 [06:33<04:55,  9.88it/s]"
     ]
    },
    {
     "name": "stdout",
     "output_type": "stream",
     "text": [
      "{'epoch': 2, 'iter': 4000, 'avg_loss': 5.534524807361507, 'avg_acc': 49.82582479380155, 'loss': 5.086820602416992}\n"
     ]
    },
    {
     "name": "stderr",
     "output_type": "stream",
     "text": [
      "EP_train:2:  58%|| 4013/6926 [06:34<04:41, 10.36it/s]"
     ]
    },
    {
     "name": "stdout",
     "output_type": "stream",
     "text": [
      "{'epoch': 2, 'iter': 4010, 'avg_loss': 5.534369701579514, 'avg_acc': 49.83638743455497, 'loss': 5.745157241821289}\n"
     ]
    },
    {
     "name": "stderr",
     "output_type": "stream",
     "text": [
      "EP_train:2:  58%|| 4023/6926 [06:35<04:48, 10.06it/s]"
     ]
    },
    {
     "name": "stdout",
     "output_type": "stream",
     "text": [
      "{'epoch': 2, 'iter': 4020, 'avg_loss': 5.534370794014028, 'avg_acc': 49.836794329768715, 'loss': 5.518170356750488}\n"
     ]
    },
    {
     "name": "stderr",
     "output_type": "stream",
     "text": [
      "EP_train:2:  58%|| 4031/6926 [06:36<04:44, 10.16it/s]"
     ]
    },
    {
     "name": "stdout",
     "output_type": "stream",
     "text": [
      "{'epoch': 2, 'iter': 4030, 'avg_loss': 5.534305395780737, 'avg_acc': 49.83254775489953, 'loss': 5.7360453605651855}\n"
     ]
    },
    {
     "name": "stderr",
     "output_type": "stream",
     "text": [
      "EP_train:2:  58%|| 4041/6926 [06:37<04:47, 10.04it/s]"
     ]
    },
    {
     "name": "stdout",
     "output_type": "stream",
     "text": [
      "{'epoch': 2, 'iter': 4040, 'avg_loss': 5.534023110390417, 'avg_acc': 49.84069537243256, 'loss': 5.4817376136779785}\n"
     ]
    },
    {
     "name": "stderr",
     "output_type": "stream",
     "text": [
      "EP_train:2:  59%|| 4053/6926 [06:38<04:52,  9.81it/s]"
     ]
    },
    {
     "name": "stdout",
     "output_type": "stream",
     "text": [
      "{'epoch': 2, 'iter': 4050, 'avg_loss': 5.533884316601891, 'avg_acc': 49.83954579116268, 'loss': 5.227157115936279}\n"
     ]
    },
    {
     "name": "stderr",
     "output_type": "stream",
     "text": [
      "EP_train:2:  59%|| 4063/6926 [06:39<04:44, 10.07it/s]"
     ]
    },
    {
     "name": "stdout",
     "output_type": "stream",
     "text": [
      "{'epoch': 2, 'iter': 4060, 'avg_loss': 5.533757146724014, 'avg_acc': 49.82916769268653, 'loss': 5.440284252166748}\n"
     ]
    },
    {
     "name": "stderr",
     "output_type": "stream",
     "text": [
      "EP_train:2:  59%|| 4072/6926 [06:40<04:54,  9.69it/s]"
     ]
    },
    {
     "name": "stdout",
     "output_type": "stream",
     "text": [
      "{'epoch': 2, 'iter': 4070, 'avg_loss': 5.533870821999438, 'avg_acc': 49.834193072955046, 'loss': 5.7006707191467285}\n"
     ]
    },
    {
     "name": "stderr",
     "output_type": "stream",
     "text": [
      "EP_train:2:  59%|| 4082/6926 [06:41<04:42, 10.07it/s]"
     ]
    },
    {
     "name": "stdout",
     "output_type": "stream",
     "text": [
      "{'epoch': 2, 'iter': 4080, 'avg_loss': 5.534007835668607, 'avg_acc': 49.836896593972064, 'loss': 5.462912082672119}\n"
     ]
    },
    {
     "name": "stderr",
     "output_type": "stream",
     "text": [
      "EP_train:2:  59%|| 4092/6926 [06:42<04:26, 10.65it/s]"
     ]
    },
    {
     "name": "stdout",
     "output_type": "stream",
     "text": [
      "{'epoch': 2, 'iter': 4090, 'avg_loss': 5.533967690315144, 'avg_acc': 49.83194817892936, 'loss': 5.542446613311768}\n"
     ]
    },
    {
     "name": "stderr",
     "output_type": "stream",
     "text": [
      "EP_train:2:  59%|| 4102/6926 [06:43<04:28, 10.52it/s]"
     ]
    },
    {
     "name": "stdout",
     "output_type": "stream",
     "text": [
      "{'epoch': 2, 'iter': 4100, 'avg_loss': 5.53384505525155, 'avg_acc': 49.82397585954645, 'loss': 5.644688606262207}\n"
     ]
    },
    {
     "name": "stderr",
     "output_type": "stream",
     "text": [
      "EP_train:2:  59%|| 4112/6926 [06:44<04:25, 10.61it/s]"
     ]
    },
    {
     "name": "stdout",
     "output_type": "stream",
     "text": [
      "{'epoch': 2, 'iter': 4110, 'avg_loss': 5.5336665676852785, 'avg_acc': 49.83352590610557, 'loss': 5.177865982055664}\n"
     ]
    },
    {
     "name": "stderr",
     "output_type": "stream",
     "text": [
      "EP_train:2:  60%|| 4122/6926 [06:45<04:33, 10.24it/s]"
     ]
    },
    {
     "name": "stdout",
     "output_type": "stream",
     "text": [
      "{'epoch': 2, 'iter': 4120, 'avg_loss': 5.533533562505399, 'avg_acc': 49.8331715603009, 'loss': 5.666595458984375}\n"
     ]
    },
    {
     "name": "stderr",
     "output_type": "stream",
     "text": [
      "EP_train:2:  60%|| 4132/6926 [06:46<04:34, 10.18it/s]"
     ]
    },
    {
     "name": "stdout",
     "output_type": "stream",
     "text": [
      "{'epoch': 2, 'iter': 4130, 'avg_loss': 5.533232077476448, 'avg_acc': 49.839627208908254, 'loss': 5.430570602416992}\n"
     ]
    },
    {
     "name": "stderr",
     "output_type": "stream",
     "text": [
      "EP_train:2:  60%|| 4142/6926 [06:47<04:30, 10.28it/s]"
     ]
    },
    {
     "name": "stdout",
     "output_type": "stream",
     "text": [
      "{'epoch': 2, 'iter': 4140, 'avg_loss': 5.532856145419812, 'avg_acc': 49.84605167833857, 'loss': 5.7722015380859375}\n"
     ]
    },
    {
     "name": "stderr",
     "output_type": "stream",
     "text": [
      "EP_train:2:  60%|| 4152/6926 [06:48<04:34, 10.11it/s]"
     ]
    },
    {
     "name": "stdout",
     "output_type": "stream",
     "text": [
      "{'epoch': 2, 'iter': 4150, 'avg_loss': 5.532995808931524, 'avg_acc': 49.83061310527584, 'loss': 5.694453239440918}\n"
     ]
    },
    {
     "name": "stderr",
     "output_type": "stream",
     "text": [
      "EP_train:2:  60%|| 4162/6926 [06:49<04:28, 10.30it/s]"
     ]
    },
    {
     "name": "stdout",
     "output_type": "stream",
     "text": [
      "{'epoch': 2, 'iter': 4160, 'avg_loss': 5.532761827623348, 'avg_acc': 49.818252823840425, 'loss': 5.291893482208252}\n"
     ]
    },
    {
     "name": "stderr",
     "output_type": "stream",
     "text": [
      "EP_train:2:  60%|| 4172/6926 [06:50<04:26, 10.33it/s]"
     ]
    },
    {
     "name": "stdout",
     "output_type": "stream",
     "text": [
      "{'epoch': 2, 'iter': 4170, 'avg_loss': 5.532780340666166, 'avg_acc': 49.807450251738196, 'loss': 5.442203521728516}\n"
     ]
    },
    {
     "name": "stderr",
     "output_type": "stream",
     "text": [
      "EP_train:2:  60%|| 4182/6926 [06:51<04:30, 10.13it/s]"
     ]
    },
    {
     "name": "stdout",
     "output_type": "stream",
     "text": [
      "{'epoch': 2, 'iter': 4180, 'avg_loss': 5.532831147195505, 'avg_acc': 49.81986964840947, 'loss': 5.950728416442871}\n"
     ]
    },
    {
     "name": "stderr",
     "output_type": "stream",
     "text": [
      "EP_train:2:  61%|| 4192/6926 [06:52<04:34,  9.97it/s]"
     ]
    },
    {
     "name": "stdout",
     "output_type": "stream",
     "text": [
      "{'epoch': 2, 'iter': 4190, 'avg_loss': 5.532431085364001, 'avg_acc': 49.82850155094249, 'loss': 5.0906195640563965}\n"
     ]
    },
    {
     "name": "stderr",
     "output_type": "stream",
     "text": [
      "EP_train:2:  61%|| 4202/6926 [06:53<04:24, 10.30it/s]"
     ]
    },
    {
     "name": "stdout",
     "output_type": "stream",
     "text": [
      "{'epoch': 2, 'iter': 4200, 'avg_loss': 5.532580854665152, 'avg_acc': 49.834860747441084, 'loss': 5.589757442474365}\n"
     ]
    },
    {
     "name": "stderr",
     "output_type": "stream",
     "text": [
      "EP_train:2:  61%|| 4211/6926 [06:54<04:35,  9.85it/s]"
     ]
    },
    {
     "name": "stdout",
     "output_type": "stream",
     "text": [
      "{'epoch': 2, 'iter': 4210, 'avg_loss': 5.532442050658448, 'avg_acc': 49.82412134884825, 'loss': 5.553013801574707}\n"
     ]
    },
    {
     "name": "stderr",
     "output_type": "stream",
     "text": [
      "EP_train:2:  61%|| 4221/6926 [06:55<04:26, 10.14it/s]"
     ]
    },
    {
     "name": "stdout",
     "output_type": "stream",
     "text": [
      "{'epoch': 2, 'iter': 4220, 'avg_loss': 5.531884557176783, 'avg_acc': 49.83194148306089, 'loss': 5.342649936676025}\n"
     ]
    },
    {
     "name": "stderr",
     "output_type": "stream",
     "text": [
      "EP_train:2:  61%|| 4232/6926 [06:56<04:41,  9.57it/s]"
     ]
    },
    {
     "name": "stdout",
     "output_type": "stream",
     "text": [
      "{'epoch': 2, 'iter': 4230, 'avg_loss': 5.532077407701673, 'avg_acc': 49.83381588277003, 'loss': 5.8854756355285645}\n"
     ]
    },
    {
     "name": "stderr",
     "output_type": "stream",
     "text": [
      "EP_train:2:  61%|| 4241/6926 [06:57<04:29,  9.95it/s]"
     ]
    },
    {
     "name": "stdout",
     "output_type": "stream",
     "text": [
      "{'epoch': 2, 'iter': 4240, 'avg_loss': 5.532397951221894, 'avg_acc': 49.83420773402499, 'loss': 5.907352924346924}\n"
     ]
    },
    {
     "name": "stderr",
     "output_type": "stream",
     "text": [
      "EP_train:2:  61%|| 4252/6926 [06:58<04:33,  9.77it/s]"
     ]
    },
    {
     "name": "stdout",
     "output_type": "stream",
     "text": [
      "{'epoch': 2, 'iter': 4250, 'avg_loss': 5.532602054431729, 'avg_acc': 49.83386262055986, 'loss': 5.407713413238525}\n"
     ]
    },
    {
     "name": "stderr",
     "output_type": "stream",
     "text": [
      "EP_train:2:  62%|| 4262/6926 [06:59<04:31,  9.82it/s]"
     ]
    },
    {
     "name": "stdout",
     "output_type": "stream",
     "text": [
      "{'epoch': 2, 'iter': 4260, 'avg_loss': 5.53227575674104, 'avg_acc': 49.83791950246421, 'loss': 4.9714741706848145}\n"
     ]
    },
    {
     "name": "stderr",
     "output_type": "stream",
     "text": [
      "EP_train:2:  62%|| 4272/6926 [07:00<04:15, 10.37it/s]"
     ]
    },
    {
     "name": "stdout",
     "output_type": "stream",
     "text": [
      "{'epoch': 2, 'iter': 4270, 'avg_loss': 5.532163424392518, 'avg_acc': 49.83464059939124, 'loss': 5.4195146560668945}\n"
     ]
    },
    {
     "name": "stderr",
     "output_type": "stream",
     "text": [
      "EP_train:2:  62%|| 4283/6926 [07:01<04:27,  9.86it/s]"
     ]
    },
    {
     "name": "stdout",
     "output_type": "stream",
     "text": [
      "{'epoch': 2, 'iter': 4280, 'avg_loss': 5.532297181069531, 'avg_acc': 49.829187105816395, 'loss': 5.859574794769287}\n"
     ]
    },
    {
     "name": "stderr",
     "output_type": "stream",
     "text": [
      "EP_train:2:  62%|| 4292/6926 [07:02<04:28,  9.82it/s]"
     ]
    },
    {
     "name": "stdout",
     "output_type": "stream",
     "text": [
      "{'epoch': 2, 'iter': 4290, 'avg_loss': 5.532268312588018, 'avg_acc': 49.833226520624564, 'loss': 5.724175930023193}\n"
     ]
    },
    {
     "name": "stderr",
     "output_type": "stream",
     "text": [
      "EP_train:2:  62%|| 4302/6926 [07:03<04:14, 10.30it/s]"
     ]
    },
    {
     "name": "stdout",
     "output_type": "stream",
     "text": [
      "{'epoch': 2, 'iter': 4300, 'avg_loss': 5.53238606369792, 'avg_acc': 49.8256219483841, 'loss': 5.453136920928955}\n"
     ]
    },
    {
     "name": "stderr",
     "output_type": "stream",
     "text": [
      "EP_train:2:  62%|| 4312/6926 [07:04<04:16, 10.19it/s]"
     ]
    },
    {
     "name": "stdout",
     "output_type": "stream",
     "text": [
      "{'epoch': 2, 'iter': 4310, 'avg_loss': 5.532533450957325, 'avg_acc': 49.82892600324751, 'loss': 5.258355140686035}\n"
     ]
    },
    {
     "name": "stderr",
     "output_type": "stream",
     "text": [
      "EP_train:2:  62%|| 4322/6926 [07:05<04:17, 10.12it/s]"
     ]
    },
    {
     "name": "stdout",
     "output_type": "stream",
     "text": [
      "{'epoch': 2, 'iter': 4320, 'avg_loss': 5.5327779547645655, 'avg_acc': 49.835107613978245, 'loss': 5.2606706619262695}\n"
     ]
    },
    {
     "name": "stderr",
     "output_type": "stream",
     "text": [
      "EP_train:2:  63%|| 4332/6926 [07:06<04:20,  9.96it/s]"
     ]
    },
    {
     "name": "stdout",
     "output_type": "stream",
     "text": [
      "{'epoch': 2, 'iter': 4330, 'avg_loss': 5.532467118093472, 'avg_acc': 49.85208381436158, 'loss': 5.697638034820557}\n"
     ]
    },
    {
     "name": "stderr",
     "output_type": "stream",
     "text": [
      "EP_train:2:  63%|| 4342/6926 [07:07<03:59, 10.78it/s]"
     ]
    },
    {
     "name": "stdout",
     "output_type": "stream",
     "text": [
      "{'epoch': 2, 'iter': 4340, 'avg_loss': 5.532298310949241, 'avg_acc': 49.85746371803732, 'loss': 5.409034729003906}\n"
     ]
    },
    {
     "name": "stderr",
     "output_type": "stream",
     "text": [
      "EP_train:2:  63%|| 4353/6926 [07:08<04:14, 10.10it/s]"
     ]
    },
    {
     "name": "stdout",
     "output_type": "stream",
     "text": [
      "{'epoch': 2, 'iter': 4350, 'avg_loss': 5.53225951138871, 'avg_acc': 49.86856469777063, 'loss': 5.402220249176025}\n"
     ]
    },
    {
     "name": "stderr",
     "output_type": "stream",
     "text": [
      "EP_train:2:  63%|| 4362/6926 [07:09<04:26,  9.63it/s]"
     ]
    },
    {
     "name": "stdout",
     "output_type": "stream",
     "text": [
      "{'epoch': 2, 'iter': 4360, 'avg_loss': 5.53239918728264, 'avg_acc': 49.871015822059164, 'loss': 5.379305362701416}\n"
     ]
    },
    {
     "name": "stderr",
     "output_type": "stream",
     "text": [
      "EP_train:2:  63%|| 4372/6926 [07:10<04:08, 10.26it/s]"
     ]
    },
    {
     "name": "stdout",
     "output_type": "stream",
     "text": [
      "{'epoch': 2, 'iter': 4370, 'avg_loss': 5.532795706975653, 'avg_acc': 49.87059597346145, 'loss': 5.347945690155029}\n"
     ]
    },
    {
     "name": "stderr",
     "output_type": "stream",
     "text": [
      "EP_train:2:  63%|| 4382/6926 [07:11<04:09, 10.20it/s]"
     ]
    },
    {
     "name": "stdout",
     "output_type": "stream",
     "text": [
      "{'epoch': 2, 'iter': 4380, 'avg_loss': 5.532669694748569, 'avg_acc': 49.88159096096781, 'loss': 5.4660797119140625}\n"
     ]
    },
    {
     "name": "stderr",
     "output_type": "stream",
     "text": [
      "EP_train:2:  63%|| 4392/6926 [07:12<04:04, 10.37it/s]"
     ]
    },
    {
     "name": "stdout",
     "output_type": "stream",
     "text": [
      "{'epoch': 2, 'iter': 4390, 'avg_loss': 5.5325970860392, 'avg_acc': 49.88399567296744, 'loss': 5.417294025421143}\n"
     ]
    },
    {
     "name": "stderr",
     "output_type": "stream",
     "text": [
      "EP_train:2:  64%|| 4402/6926 [07:13<04:07, 10.19it/s]"
     ]
    },
    {
     "name": "stdout",
     "output_type": "stream",
     "text": [
      "{'epoch': 2, 'iter': 4400, 'avg_loss': 5.532351789298964, 'avg_acc': 49.87786866621223, 'loss': 4.983020305633545}\n"
     ]
    },
    {
     "name": "stderr",
     "output_type": "stream",
     "text": [
      "EP_train:2:  64%|| 4412/6926 [07:14<04:01, 10.39it/s]"
     ]
    },
    {
     "name": "stdout",
     "output_type": "stream",
     "text": [
      "{'epoch': 2, 'iter': 4410, 'avg_loss': 5.532522198943642, 'avg_acc': 49.88239628202222, 'loss': 5.041709899902344}\n"
     ]
    },
    {
     "name": "stderr",
     "output_type": "stream",
     "text": [
      "EP_train:2:  64%|| 4422/6926 [07:15<03:59, 10.47it/s]"
     ]
    },
    {
     "name": "stdout",
     "output_type": "stream",
     "text": [
      "{'epoch': 2, 'iter': 4420, 'avg_loss': 5.532623491198788, 'avg_acc': 49.89538565935309, 'loss': 5.2394514083862305}\n"
     ]
    },
    {
     "name": "stderr",
     "output_type": "stream",
     "text": [
      "EP_train:2:  64%|| 4431/6926 [07:15<04:06, 10.11it/s]"
     ]
    },
    {
     "name": "stdout",
     "output_type": "stream",
     "text": [
      "{'epoch': 2, 'iter': 4430, 'avg_loss': 5.532215927557062, 'avg_acc': 49.89139020537125, 'loss': 5.6555304527282715}\n"
     ]
    },
    {
     "name": "stderr",
     "output_type": "stream",
     "text": [
      "EP_train:2:  64%|| 4443/6926 [07:17<04:05, 10.11it/s]"
     ]
    },
    {
     "name": "stdout",
     "output_type": "stream",
     "text": [
      "{'epoch': 2, 'iter': 4440, 'avg_loss': 5.531945481866202, 'avg_acc': 49.89585678901148, 'loss': 5.258818626403809}\n"
     ]
    },
    {
     "name": "stderr",
     "output_type": "stream",
     "text": [
      "EP_train:2:  64%|| 4452/6926 [07:18<04:04, 10.12it/s]"
     ]
    },
    {
     "name": "stdout",
     "output_type": "stream",
     "text": [
      "{'epoch': 2, 'iter': 4450, 'avg_loss': 5.5315109744443705, 'avg_acc': 49.890474050775104, 'loss': 4.8145294189453125}\n"
     ]
    },
    {
     "name": "stderr",
     "output_type": "stream",
     "text": [
      "EP_train:2:  64%|| 4462/6926 [07:18<03:56, 10.43it/s]"
     ]
    },
    {
     "name": "stdout",
     "output_type": "stream",
     "text": [
      "{'epoch': 2, 'iter': 4460, 'avg_loss': 5.531556762138629, 'avg_acc': 49.88371441380856, 'loss': 5.167400360107422}\n"
     ]
    },
    {
     "name": "stderr",
     "output_type": "stream",
     "text": [
      "EP_train:2:  65%|| 4472/6926 [07:19<04:01, 10.18it/s]"
     ]
    },
    {
     "name": "stdout",
     "output_type": "stream",
     "text": [
      "{'epoch': 2, 'iter': 4470, 'avg_loss': 5.531352574594387, 'avg_acc': 49.874888168195035, 'loss': 5.363945960998535}\n"
     ]
    },
    {
     "name": "stderr",
     "output_type": "stream",
     "text": [
      "EP_train:2:  65%|| 4482/6926 [07:20<04:05,  9.97it/s]"
     ]
    },
    {
     "name": "stdout",
     "output_type": "stream",
     "text": [
      "{'epoch': 2, 'iter': 4480, 'avg_loss': 5.531238173672302, 'avg_acc': 49.86679870564606, 'loss': 5.709926128387451}\n"
     ]
    },
    {
     "name": "stderr",
     "output_type": "stream",
     "text": [
      "EP_train:2:  65%|| 4492/6926 [07:21<04:00, 10.11it/s]"
     ]
    },
    {
     "name": "stdout",
     "output_type": "stream",
     "text": [
      "{'epoch': 2, 'iter': 4490, 'avg_loss': 5.531184228431194, 'avg_acc': 49.86779113783122, 'loss': 5.272309303283691}\n"
     ]
    },
    {
     "name": "stderr",
     "output_type": "stream",
     "text": [
      "EP_train:2:  65%|| 4503/6926 [07:23<04:01, 10.02it/s]"
     ]
    },
    {
     "name": "stdout",
     "output_type": "stream",
     "text": [
      "{'epoch': 2, 'iter': 4500, 'avg_loss': 5.5311428820973, 'avg_acc': 49.85767051766275, 'loss': 5.880807876586914}\n"
     ]
    },
    {
     "name": "stderr",
     "output_type": "stream",
     "text": [
      "EP_train:2:  65%|| 4512/6926 [07:24<04:04,  9.88it/s]"
     ]
    },
    {
     "name": "stdout",
     "output_type": "stream",
     "text": [
      "{'epoch': 2, 'iter': 4510, 'avg_loss': 5.531156041410222, 'avg_acc': 49.85382952782088, 'loss': 4.987511157989502}\n"
     ]
    },
    {
     "name": "stderr",
     "output_type": "stream",
     "text": [
      "EP_train:2:  65%|| 4522/6926 [07:24<03:51, 10.38it/s]"
     ]
    },
    {
     "name": "stdout",
     "output_type": "stream",
     "text": [
      "{'epoch': 2, 'iter': 4520, 'avg_loss': 5.53131389818316, 'avg_acc': 49.854152842291526, 'loss': 5.340995788574219}\n"
     ]
    },
    {
     "name": "stderr",
     "output_type": "stream",
     "text": [
      "EP_train:2:  65%|| 4532/6926 [07:25<03:53, 10.27it/s]"
     ]
    },
    {
     "name": "stdout",
     "output_type": "stream",
     "text": [
      "{'epoch': 2, 'iter': 4530, 'avg_loss': 5.531250667424687, 'avg_acc': 49.850336570293535, 'loss': 5.512894630432129}\n"
     ]
    },
    {
     "name": "stderr",
     "output_type": "stream",
     "text": [
      "EP_train:2:  66%|| 4542/6926 [07:26<03:47, 10.48it/s]"
     ]
    },
    {
     "name": "stdout",
     "output_type": "stream",
     "text": [
      "{'epoch': 2, 'iter': 4540, 'avg_loss': 5.531351006626951, 'avg_acc': 49.8424080598987, 'loss': 5.776850700378418}\n"
     ]
    },
    {
     "name": "stderr",
     "output_type": "stream",
     "text": [
      "EP_train:2:  66%|| 4552/6926 [07:27<03:59,  9.91it/s]"
     ]
    },
    {
     "name": "stdout",
     "output_type": "stream",
     "text": [
      "{'epoch': 2, 'iter': 4550, 'avg_loss': 5.531274062831227, 'avg_acc': 49.83932102834542, 'loss': 5.304189682006836}\n"
     ]
    },
    {
     "name": "stderr",
     "output_type": "stream",
     "text": [
      "EP_train:2:  66%|| 4563/6926 [07:29<04:00,  9.81it/s]"
     ]
    },
    {
     "name": "stdout",
     "output_type": "stream",
     "text": [
      "{'epoch': 2, 'iter': 4560, 'avg_loss': 5.531280821599712, 'avg_acc': 49.843784257838195, 'loss': 5.846868515014648}\n"
     ]
    },
    {
     "name": "stderr",
     "output_type": "stream",
     "text": [
      "EP_train:2:  66%|| 4573/6926 [07:30<03:49, 10.27it/s]"
     ]
    },
    {
     "name": "stdout",
     "output_type": "stream",
     "text": [
      "{'epoch': 2, 'iter': 4570, 'avg_loss': 5.531000962379437, 'avg_acc': 49.846860643185295, 'loss': 5.570459365844727}\n"
     ]
    },
    {
     "name": "stderr",
     "output_type": "stream",
     "text": [
      "EP_train:2:  66%|| 4583/6926 [07:31<03:49, 10.20it/s]"
     ]
    },
    {
     "name": "stdout",
     "output_type": "stream",
     "text": [
      "{'epoch': 2, 'iter': 4580, 'avg_loss': 5.530730176612139, 'avg_acc': 49.84651277013752, 'loss': 5.703161239624023}\n"
     ]
    },
    {
     "name": "stderr",
     "output_type": "stream",
     "text": [
      "EP_train:2:  66%|| 4593/6926 [07:31<03:44, 10.39it/s]"
     ]
    },
    {
     "name": "stdout",
     "output_type": "stream",
     "text": [
      "{'epoch': 2, 'iter': 4590, 'avg_loss': 5.530600792285119, 'avg_acc': 49.85773796558484, 'loss': 5.686837196350098}\n"
     ]
    },
    {
     "name": "stderr",
     "output_type": "stream",
     "text": [
      "EP_train:2:  66%|| 4603/6926 [07:32<03:45, 10.29it/s]"
     ]
    },
    {
     "name": "stdout",
     "output_type": "stream",
     "text": [
      "{'epoch': 2, 'iter': 4600, 'avg_loss': 5.530518085431648, 'avg_acc': 49.86076396435558, 'loss': 5.253668308258057}\n"
     ]
    },
    {
     "name": "stderr",
     "output_type": "stream",
     "text": [
      "EP_train:2:  67%|| 4613/6926 [07:33<03:46, 10.22it/s]"
     ]
    },
    {
     "name": "stdout",
     "output_type": "stream",
     "text": [
      "{'epoch': 2, 'iter': 4610, 'avg_loss': 5.530302623636266, 'avg_acc': 49.86852092821514, 'loss': 5.333454132080078}\n"
     ]
    },
    {
     "name": "stderr",
     "output_type": "stream",
     "text": [
      "EP_train:2:  67%|| 4623/6926 [07:34<03:43, 10.30it/s]"
     ]
    },
    {
     "name": "stdout",
     "output_type": "stream",
     "text": [
      "{'epoch': 2, 'iter': 4620, 'avg_loss': 5.530453308297814, 'avg_acc': 49.870834235014065, 'loss': 5.626651763916016}\n"
     ]
    },
    {
     "name": "stderr",
     "output_type": "stream",
     "text": [
      "EP_train:2:  67%|| 4633/6926 [07:35<03:36, 10.59it/s]"
     ]
    },
    {
     "name": "stdout",
     "output_type": "stream",
     "text": [
      "{'epoch': 2, 'iter': 4630, 'avg_loss': 5.529984602890064, 'avg_acc': 49.86638954869358, 'loss': 5.070876598358154}\n"
     ]
    },
    {
     "name": "stderr",
     "output_type": "stream",
     "text": [
      "EP_train:2:  67%|| 4643/6926 [07:36<03:43, 10.23it/s]"
     ]
    },
    {
     "name": "stdout",
     "output_type": "stream",
     "text": [
      "{'epoch': 2, 'iter': 4640, 'avg_loss': 5.529809097770062, 'avg_acc': 49.8686974789916, 'loss': 5.554351329803467}\n"
     ]
    },
    {
     "name": "stderr",
     "output_type": "stream",
     "text": [
      "EP_train:2:  67%|| 4651/6926 [07:37<03:43, 10.18it/s]"
     ]
    },
    {
     "name": "stdout",
     "output_type": "stream",
     "text": [
      "{'epoch': 2, 'iter': 4650, 'avg_loss': 5.529937585536651, 'avg_acc': 49.86494839819394, 'loss': 5.571967601776123}\n"
     ]
    },
    {
     "name": "stderr",
     "output_type": "stream",
     "text": [
      "EP_train:2:  67%|| 4662/6926 [07:38<03:40, 10.27it/s]"
     ]
    },
    {
     "name": "stdout",
     "output_type": "stream",
     "text": [
      "{'epoch': 2, 'iter': 4660, 'avg_loss': 5.529920458819216, 'avg_acc': 49.865238146320536, 'loss': 5.445429801940918}\n"
     ]
    },
    {
     "name": "stderr",
     "output_type": "stream",
     "text": [
      "EP_train:2:  67%|| 4673/6926 [07:39<03:47,  9.89it/s]"
     ]
    },
    {
     "name": "stdout",
     "output_type": "stream",
     "text": [
      "{'epoch': 2, 'iter': 4670, 'avg_loss': 5.529763265330846, 'avg_acc': 49.86619567544423, 'loss': 5.587106227874756}\n"
     ]
    },
    {
     "name": "stderr",
     "output_type": "stream",
     "text": [
      "EP_train:2:  68%|| 4682/6926 [07:40<03:36, 10.35it/s]"
     ]
    },
    {
     "name": "stdout",
     "output_type": "stream",
     "text": [
      "{'epoch': 2, 'iter': 4680, 'avg_loss': 5.529693540562119, 'avg_acc': 49.87182226020081, 'loss': 5.291685104370117}\n"
     ]
    },
    {
     "name": "stderr",
     "output_type": "stream",
     "text": [
      "EP_train:2:  68%|| 4692/6926 [07:41<03:48,  9.77it/s]"
     ]
    },
    {
     "name": "stdout",
     "output_type": "stream",
     "text": [
      "{'epoch': 2, 'iter': 4690, 'avg_loss': 5.529786144383451, 'avg_acc': 49.86743231720315, 'loss': 5.778111934661865}\n"
     ]
    },
    {
     "name": "stderr",
     "output_type": "stream",
     "text": [
      "EP_train:2:  68%|| 4703/6926 [07:42<03:40, 10.06it/s]"
     ]
    },
    {
     "name": "stdout",
     "output_type": "stream",
     "text": [
      "{'epoch': 2, 'iter': 4700, 'avg_loss': 5.529441831771731, 'avg_acc': 49.867714316102955, 'loss': 5.169254779815674}\n"
     ]
    },
    {
     "name": "stderr",
     "output_type": "stream",
     "text": [
      "EP_train:2:  68%|| 4713/6926 [07:43<03:38, 10.12it/s]"
     ]
    },
    {
     "name": "stdout",
     "output_type": "stream",
     "text": [
      "{'epoch': 2, 'iter': 4710, 'avg_loss': 5.529891601567359, 'avg_acc': 49.86666843557631, 'loss': 5.09646463394165}\n"
     ]
    },
    {
     "name": "stderr",
     "output_type": "stream",
     "text": [
      "EP_train:2:  68%|| 4723/6926 [07:44<03:33, 10.30it/s]"
     ]
    },
    {
     "name": "stdout",
     "output_type": "stream",
     "text": [
      "{'epoch': 2, 'iter': 4720, 'avg_loss': 5.529974796135177, 'avg_acc': 49.85040245710655, 'loss': 5.428760528564453}\n"
     ]
    },
    {
     "name": "stderr",
     "output_type": "stream",
     "text": [
      "EP_train:2:  68%|| 4733/6926 [07:45<03:33, 10.28it/s]"
     ]
    },
    {
     "name": "stdout",
     "output_type": "stream",
     "text": [
      "{'epoch': 2, 'iter': 4730, 'avg_loss': 5.529575000981452, 'avg_acc': 49.85203973789896, 'loss': 5.208629131317139}\n"
     ]
    },
    {
     "name": "stderr",
     "output_type": "stream",
     "text": [
      "EP_train:2:  68%|| 4742/6926 [07:46<03:36, 10.08it/s]"
     ]
    },
    {
     "name": "stdout",
     "output_type": "stream",
     "text": [
      "{'epoch': 2, 'iter': 4740, 'avg_loss': 5.529509890559755, 'avg_acc': 49.8483969626661, 'loss': 5.31804084777832}\n"
     ]
    },
    {
     "name": "stderr",
     "output_type": "stream",
     "text": [
      "EP_train:2:  69%|| 4752/6926 [07:47<03:25, 10.55it/s]"
     ]
    },
    {
     "name": "stdout",
     "output_type": "stream",
     "text": [
      "{'epoch': 2, 'iter': 4750, 'avg_loss': 5.529455934065664, 'avg_acc': 49.85134708482425, 'loss': 5.623507499694824}\n"
     ]
    },
    {
     "name": "stderr",
     "output_type": "stream",
     "text": [
      "EP_train:2:  69%|| 4762/6926 [07:48<03:36,  9.97it/s]"
     ]
    },
    {
     "name": "stdout",
     "output_type": "stream",
     "text": [
      "{'epoch': 2, 'iter': 4760, 'avg_loss': 5.529371980608223, 'avg_acc': 49.85034656584751, 'loss': 5.606442451477051}\n"
     ]
    },
    {
     "name": "stderr",
     "output_type": "stream",
     "text": [
      "EP_train:2:  69%|| 4773/6926 [07:49<03:30, 10.22it/s]"
     ]
    },
    {
     "name": "stdout",
     "output_type": "stream",
     "text": [
      "{'epoch': 2, 'iter': 4770, 'avg_loss': 5.529636417837469, 'avg_acc': 49.864415216935654, 'loss': 5.420141696929932}\n"
     ]
    },
    {
     "name": "stderr",
     "output_type": "stream",
     "text": [
      "EP_train:2:  69%|| 4783/6926 [07:50<03:26, 10.37it/s]"
     ]
    },
    {
     "name": "stdout",
     "output_type": "stream",
     "text": [
      "{'epoch': 2, 'iter': 4780, 'avg_loss': 5.529695547666791, 'avg_acc': 49.85489437356201, 'loss': 5.817607402801514}\n"
     ]
    },
    {
     "name": "stderr",
     "output_type": "stream",
     "text": [
      "EP_train:2:  69%|| 4793/6926 [07:51<03:28, 10.21it/s]"
     ]
    },
    {
     "name": "stdout",
     "output_type": "stream",
     "text": [
      "{'epoch': 2, 'iter': 4790, 'avg_loss': 5.529860860891866, 'avg_acc': 49.85976309747443, 'loss': 5.420087814331055}\n"
     ]
    },
    {
     "name": "stderr",
     "output_type": "stream",
     "text": [
      "EP_train:2:  69%|| 4803/6926 [07:52<03:34,  9.91it/s]"
     ]
    },
    {
     "name": "stdout",
     "output_type": "stream",
     "text": [
      "{'epoch': 2, 'iter': 4800, 'avg_loss': 5.529837782048752, 'avg_acc': 49.854197042282856, 'loss': 5.220920085906982}\n"
     ]
    },
    {
     "name": "stderr",
     "output_type": "stream",
     "text": [
      "EP_train:2:  69%|| 4812/6926 [07:53<03:35,  9.82it/s]"
     ]
    },
    {
     "name": "stdout",
     "output_type": "stream",
     "text": [
      "{'epoch': 2, 'iter': 4810, 'avg_loss': 5.53013663340497, 'avg_acc': 49.850602785283726, 'loss': 6.148622989654541}\n"
     ]
    },
    {
     "name": "stderr",
     "output_type": "stream",
     "text": [
      "EP_train:2:  70%|| 4822/6926 [07:54<03:26, 10.18it/s]"
     ]
    },
    {
     "name": "stdout",
     "output_type": "stream",
     "text": [
      "{'epoch': 2, 'iter': 4820, 'avg_loss': 5.529979131350847, 'avg_acc': 49.84961626218627, 'loss': 5.677014350891113}\n"
     ]
    },
    {
     "name": "stderr",
     "output_type": "stream",
     "text": [
      "EP_train:2:  70%|| 4832/6926 [07:55<03:19, 10.49it/s]"
     ]
    },
    {
     "name": "stdout",
     "output_type": "stream",
     "text": [
      "{'epoch': 2, 'iter': 4830, 'avg_loss': 5.530094776951089, 'avg_acc': 49.8538087352515, 'loss': 5.762218475341797}\n"
     ]
    },
    {
     "name": "stderr",
     "output_type": "stream",
     "text": [
      "EP_train:2:  70%|| 4842/6926 [07:56<03:24, 10.18it/s]"
     ]
    },
    {
     "name": "stdout",
     "output_type": "stream",
     "text": [
      "{'epoch': 2, 'iter': 4840, 'avg_loss': 5.530131386026226, 'avg_acc': 49.84700991530676, 'loss': 6.183600425720215}\n"
     ]
    },
    {
     "name": "stderr",
     "output_type": "stream",
     "text": [
      "EP_train:2:  70%|| 4852/6926 [07:57<03:25, 10.10it/s]"
     ]
    },
    {
     "name": "stdout",
     "output_type": "stream",
     "text": [
      "{'epoch': 2, 'iter': 4850, 'avg_loss': 5.52995580507293, 'avg_acc': 49.846681096681095, 'loss': 5.640770435333252}\n"
     ]
    },
    {
     "name": "stderr",
     "output_type": "stream",
     "text": [
      "EP_train:2:  70%|| 4862/6926 [07:58<03:20, 10.31it/s]"
     ]
    },
    {
     "name": "stdout",
     "output_type": "stream",
     "text": [
      "{'epoch': 2, 'iter': 4860, 'avg_loss': 5.529792501268699, 'avg_acc': 49.85021086196256, 'loss': 5.562008380889893}\n"
     ]
    },
    {
     "name": "stderr",
     "output_type": "stream",
     "text": [
      "EP_train:2:  70%|| 4872/6926 [07:59<03:18, 10.36it/s]"
     ]
    },
    {
     "name": "stdout",
     "output_type": "stream",
     "text": [
      "{'epoch': 2, 'iter': 4870, 'avg_loss': 5.529608437912686, 'avg_acc': 49.851801478135904, 'loss': 5.666440963745117}\n"
     ]
    },
    {
     "name": "stderr",
     "output_type": "stream",
     "text": [
      "EP_train:2:  71%|| 4883/6926 [08:00<03:18, 10.31it/s]"
     ]
    },
    {
     "name": "stdout",
     "output_type": "stream",
     "text": [
      "{'epoch': 2, 'iter': 4880, 'avg_loss': 5.529567492543076, 'avg_acc': 49.85914771563204, 'loss': 6.00239372253418}\n"
     ]
    },
    {
     "name": "stderr",
     "output_type": "stream",
     "text": [
      "EP_train:2:  71%|| 4892/6926 [08:01<03:28,  9.75it/s]"
     ]
    },
    {
     "name": "stdout",
     "output_type": "stream",
     "text": [
      "{'epoch': 2, 'iter': 4890, 'avg_loss': 5.529502804307113, 'avg_acc': 49.86326927008792, 'loss': 5.2815632820129395}\n"
     ]
    },
    {
     "name": "stderr",
     "output_type": "stream",
     "text": [
      "EP_train:2:  71%|| 4902/6926 [08:02<03:23,  9.96it/s]"
     ]
    },
    {
     "name": "stdout",
     "output_type": "stream",
     "text": [
      "{'epoch': 2, 'iter': 4900, 'avg_loss': 5.529231367731941, 'avg_acc': 49.86992450520302, 'loss': 5.361964225769043}\n"
     ]
    },
    {
     "name": "stderr",
     "output_type": "stream",
     "text": [
      "EP_train:2:  71%|| 4913/6926 [08:03<03:16, 10.24it/s]"
     ]
    },
    {
     "name": "stdout",
     "output_type": "stream",
     "text": [
      "{'epoch': 2, 'iter': 4910, 'avg_loss': 5.529094900916924, 'avg_acc': 49.86764406434535, 'loss': 5.15398645401001}\n"
     ]
    },
    {
     "name": "stderr",
     "output_type": "stream",
     "text": [
      "EP_train:2:  71%|| 4923/6926 [08:04<03:12, 10.38it/s]"
     ]
    },
    {
     "name": "stdout",
     "output_type": "stream",
     "text": [
      "{'epoch': 2, 'iter': 4920, 'avg_loss': 5.529089070025364, 'avg_acc': 49.87172322698639, 'loss': 5.746341228485107}\n"
     ]
    },
    {
     "name": "stderr",
     "output_type": "stream",
     "text": [
      "EP_train:2:  71%|| 4933/6926 [08:05<03:15, 10.20it/s]"
     ]
    },
    {
     "name": "stdout",
     "output_type": "stream",
     "text": [
      "{'epoch': 2, 'iter': 4930, 'avg_loss': 5.529349960871774, 'avg_acc': 49.86818089636991, 'loss': 5.462787628173828}\n"
     ]
    },
    {
     "name": "stderr",
     "output_type": "stream",
     "text": [
      "EP_train:2:  71%|| 4941/6926 [08:06<03:12, 10.29it/s]"
     ]
    },
    {
     "name": "stdout",
     "output_type": "stream",
     "text": [
      "{'epoch': 2, 'iter': 4940, 'avg_loss': 5.529409822291436, 'avg_acc': 49.86338797814208, 'loss': 5.175778865814209}\n"
     ]
    },
    {
     "name": "stderr",
     "output_type": "stream",
     "text": [
      "EP_train:2:  71%|| 4952/6926 [08:07<03:13, 10.19it/s]"
     ]
    },
    {
     "name": "stdout",
     "output_type": "stream",
     "text": [
      "{'epoch': 2, 'iter': 4950, 'avg_loss': 5.529386708385365, 'avg_acc': 49.86555746313876, 'loss': 5.459636688232422}\n"
     ]
    },
    {
     "name": "stderr",
     "output_type": "stream",
     "text": [
      "EP_train:2:  72%|| 4962/6926 [08:08<03:18,  9.89it/s]"
     ]
    },
    {
     "name": "stdout",
     "output_type": "stream",
     "text": [
      "{'epoch': 2, 'iter': 4960, 'avg_loss': 5.529713642498678, 'avg_acc': 49.86204898206007, 'loss': 5.587510585784912}\n"
     ]
    },
    {
     "name": "stderr",
     "output_type": "stream",
     "text": [
      "EP_train:2:  72%|| 4972/6926 [08:09<03:17,  9.91it/s]"
     ]
    },
    {
     "name": "stdout",
     "output_type": "stream",
     "text": [
      "{'epoch': 2, 'iter': 4970, 'avg_loss': 5.529758381138527, 'avg_acc': 49.858554616777305, 'loss': 5.508191108703613}\n"
     ]
    },
    {
     "name": "stderr",
     "output_type": "stream",
     "text": [
      "EP_train:2:  72%|| 4982/6926 [08:10<03:20,  9.72it/s]"
     ]
    },
    {
     "name": "stdout",
     "output_type": "stream",
     "text": [
      "{'epoch': 2, 'iter': 4980, 'avg_loss': 5.529473295366876, 'avg_acc': 49.85695643445091, 'loss': 5.176642894744873}\n"
     ]
    },
    {
     "name": "stderr",
     "output_type": "stream",
     "text": [
      "EP_train:2:  72%|| 4992/6926 [08:11<03:16,  9.86it/s]"
     ]
    },
    {
     "name": "stdout",
     "output_type": "stream",
     "text": [
      "{'epoch': 2, 'iter': 4990, 'avg_loss': 5.529377390831512, 'avg_acc': 49.84659887798036, 'loss': 5.625457286834717}\n"
     ]
    },
    {
     "name": "stderr",
     "output_type": "stream",
     "text": [
      "EP_train:2:  72%|| 5003/6926 [08:12<03:08, 10.18it/s]"
     ]
    },
    {
     "name": "stdout",
     "output_type": "stream",
     "text": [
      "{'epoch': 2, 'iter': 5000, 'avg_loss': 5.529263505170975, 'avg_acc': 49.84190661867626, 'loss': 5.925306797027588}\n"
     ]
    },
    {
     "name": "stderr",
     "output_type": "stream",
     "text": [
      "EP_train:2:  72%|| 5013/6926 [08:13<03:04, 10.36it/s]"
     ]
    },
    {
     "name": "stdout",
     "output_type": "stream",
     "text": [
      "{'epoch': 2, 'iter': 5010, 'avg_loss': 5.529064957526029, 'avg_acc': 49.8409748553183, 'loss': 5.2009053230285645}\n"
     ]
    },
    {
     "name": "stderr",
     "output_type": "stream",
     "text": [
      "EP_train:2:  72%|| 5021/6926 [08:14<03:16,  9.68it/s]"
     ]
    },
    {
     "name": "stdout",
     "output_type": "stream",
     "text": [
      "{'epoch': 2, 'iter': 5020, 'avg_loss': 5.528989763949359, 'avg_acc': 49.83693487353117, 'loss': 5.372358798980713}\n"
     ]
    },
    {
     "name": "stderr",
     "output_type": "stream",
     "text": [
      "EP_train:2:  73%|| 5032/6926 [08:15<03:04, 10.25it/s]"
     ]
    },
    {
     "name": "stdout",
     "output_type": "stream",
     "text": [
      "{'epoch': 2, 'iter': 5030, 'avg_loss': 5.5290326905331115, 'avg_acc': 49.845955078513214, 'loss': 5.77970027923584}\n"
     ]
    },
    {
     "name": "stderr",
     "output_type": "stream",
     "text": [
      "EP_train:2:  73%|| 5042/6926 [08:16<03:01, 10.39it/s]"
     ]
    },
    {
     "name": "stdout",
     "output_type": "stream",
     "text": [
      "{'epoch': 2, 'iter': 5040, 'avg_loss': 5.528984884732395, 'avg_acc': 49.84688057925015, 'loss': 5.38893461227417}\n"
     ]
    },
    {
     "name": "stderr",
     "output_type": "stream",
     "text": [
      "EP_train:2:  73%|| 5052/6926 [08:17<02:59, 10.45it/s]"
     ]
    },
    {
     "name": "stdout",
     "output_type": "stream",
     "text": [
      "{'epoch': 2, 'iter': 5050, 'avg_loss': 5.5287995241203305, 'avg_acc': 49.84594634725797, 'loss': 5.112303256988525}\n"
     ]
    },
    {
     "name": "stderr",
     "output_type": "stream",
     "text": [
      "EP_train:2:  73%|| 5062/6926 [08:18<03:10,  9.79it/s]"
     ]
    },
    {
     "name": "stdout",
     "output_type": "stream",
     "text": [
      "{'epoch': 2, 'iter': 5060, 'avg_loss': 5.5289162157364355, 'avg_acc': 49.84316340644141, 'loss': 5.7293195724487305}\n"
     ]
    },
    {
     "name": "stderr",
     "output_type": "stream",
     "text": [
      "EP_train:2:  73%|| 5072/6926 [08:19<03:20,  9.23it/s]"
     ]
    },
    {
     "name": "stdout",
     "output_type": "stream",
     "text": [
      "{'epoch': 2, 'iter': 5070, 'avg_loss': 5.529011876830874, 'avg_acc': 49.847170183395775, 'loss': 5.360429286956787}\n"
     ]
    },
    {
     "name": "stderr",
     "output_type": "stream",
     "text": [
      "EP_train:2:  73%|| 5082/6926 [08:20<03:13,  9.54it/s]"
     ]
    },
    {
     "name": "stdout",
     "output_type": "stream",
     "text": [
      "{'epoch': 2, 'iter': 5080, 'avg_loss': 5.529140659167855, 'avg_acc': 49.84685593387129, 'loss': 5.642900466918945}\n"
     ]
    },
    {
     "name": "stderr",
     "output_type": "stream",
     "text": [
      "EP_train:2:  74%|| 5092/6926 [08:21<03:21,  9.11it/s]"
     ]
    },
    {
     "name": "stdout",
     "output_type": "stream",
     "text": [
      "{'epoch': 2, 'iter': 5090, 'avg_loss': 5.529166042535437, 'avg_acc': 49.848998232174424, 'loss': 5.062283039093018}\n"
     ]
    },
    {
     "name": "stderr",
     "output_type": "stream",
     "text": [
      "EP_train:2:  74%|| 5103/6926 [08:22<03:02,  9.98it/s]"
     ]
    },
    {
     "name": "stdout",
     "output_type": "stream",
     "text": [
      "{'epoch': 2, 'iter': 5100, 'avg_loss': 5.529027255229729, 'avg_acc': 49.85051950597922, 'loss': 5.487270355224609}\n"
     ]
    },
    {
     "name": "stderr",
     "output_type": "stream",
     "text": [
      "EP_train:2:  74%|| 5112/6926 [08:23<03:04,  9.81it/s]"
     ]
    },
    {
     "name": "stdout",
     "output_type": "stream",
     "text": [
      "{'epoch': 2, 'iter': 5110, 'avg_loss': 5.528852696568969, 'avg_acc': 49.85509195852084, 'loss': 5.393984794616699}\n"
     ]
    },
    {
     "name": "stderr",
     "output_type": "stream",
     "text": [
      "EP_train:2:  74%|| 5122/6926 [08:24<03:11,  9.41it/s]"
     ]
    },
    {
     "name": "stdout",
     "output_type": "stream",
     "text": [
      "{'epoch': 2, 'iter': 5120, 'avg_loss': 5.528741330659103, 'avg_acc': 49.86147725053701, 'loss': 5.536633491516113}\n"
     ]
    },
    {
     "name": "stderr",
     "output_type": "stream",
     "text": [
      "EP_train:2:  74%|| 5132/6926 [08:25<03:27,  8.65it/s]"
     ]
    },
    {
     "name": "stdout",
     "output_type": "stream",
     "text": [
      "{'epoch': 2, 'iter': 5130, 'avg_loss': 5.528557973771364, 'avg_acc': 49.85870200740597, 'loss': 5.532657146453857}\n"
     ]
    },
    {
     "name": "stderr",
     "output_type": "stream",
     "text": [
      "EP_train:2:  74%|| 5142/6926 [08:26<03:13,  9.23it/s]"
     ]
    },
    {
     "name": "stdout",
     "output_type": "stream",
     "text": [
      "{'epoch': 2, 'iter': 5140, 'avg_loss': 5.5287449686844, 'avg_acc': 49.847427543279515, 'loss': 5.634467601776123}\n"
     ]
    },
    {
     "name": "stderr",
     "output_type": "stream",
     "text": [
      "EP_train:2:  74%|| 5153/6926 [08:28<02:57,  9.97it/s]"
     ]
    },
    {
     "name": "stdout",
     "output_type": "stream",
     "text": [
      "{'epoch': 2, 'iter': 5150, 'avg_loss': 5.528699606142098, 'avg_acc': 49.84893709959231, 'loss': 5.637697696685791}\n"
     ]
    },
    {
     "name": "stderr",
     "output_type": "stream",
     "text": [
      "EP_train:2:  75%|| 5163/6926 [08:29<02:57,  9.94it/s]"
     ]
    },
    {
     "name": "stdout",
     "output_type": "stream",
     "text": [
      "{'epoch': 2, 'iter': 5160, 'avg_loss': 5.529093778865602, 'avg_acc': 49.84135826390235, 'loss': 5.911906719207764}\n"
     ]
    },
    {
     "name": "stderr",
     "output_type": "stream",
     "text": [
      "EP_train:2:  75%|| 5172/6926 [08:30<03:10,  9.22it/s]"
     ]
    },
    {
     "name": "stdout",
     "output_type": "stream",
     "text": [
      "{'epoch': 2, 'iter': 5170, 'avg_loss': 5.529199229797204, 'avg_acc': 49.847708373622126, 'loss': 5.298811435699463}\n"
     ]
    },
    {
     "name": "stderr",
     "output_type": "stream",
     "text": [
      "EP_train:2:  75%|| 5183/6926 [08:31<03:06,  9.33it/s]"
     ]
    },
    {
     "name": "stdout",
     "output_type": "stream",
     "text": [
      "{'epoch': 2, 'iter': 5180, 'avg_loss': 5.5293010207498146, 'avg_acc': 49.84981181239143, 'loss': 5.897219657897949}\n"
     ]
    },
    {
     "name": "stderr",
     "output_type": "stream",
     "text": [
      "EP_train:2:  75%|| 5192/6926 [08:32<03:02,  9.52it/s]"
     ]
    },
    {
     "name": "stdout",
     "output_type": "stream",
     "text": [
      "{'epoch': 2, 'iter': 5190, 'avg_loss': 5.5295250440144486, 'avg_acc': 49.847091119244844, 'loss': 4.867477893829346}\n"
     ]
    },
    {
     "name": "stderr",
     "output_type": "stream",
     "text": [
      "EP_train:2:  75%|| 5203/6926 [08:33<02:56,  9.78it/s]"
     ]
    },
    {
     "name": "stdout",
     "output_type": "stream",
     "text": [
      "{'epoch': 2, 'iter': 5200, 'avg_loss': 5.529617508978276, 'avg_acc': 49.85339357815805, 'loss': 5.807766914367676}\n"
     ]
    },
    {
     "name": "stderr",
     "output_type": "stream",
     "text": [
      "EP_train:2:  75%|| 5212/6926 [08:34<03:12,  8.92it/s]"
     ]
    },
    {
     "name": "stdout",
     "output_type": "stream",
     "text": [
      "{'epoch': 2, 'iter': 5210, 'avg_loss': 5.529737207533142, 'avg_acc': 49.847078295912496, 'loss': 5.585111618041992}\n"
     ]
    },
    {
     "name": "stderr",
     "output_type": "stream",
     "text": [
      "EP_train:2:  75%|| 5222/6926 [08:35<02:57,  9.57it/s]"
     ]
    },
    {
     "name": "stdout",
     "output_type": "stream",
     "text": [
      "{'epoch': 2, 'iter': 5220, 'avg_loss': 5.529706353909256, 'avg_acc': 49.84018866117602, 'loss': 5.484840393066406}\n"
     ]
    },
    {
     "name": "stderr",
     "output_type": "stream",
     "text": [
      "EP_train:2:  76%|| 5233/6926 [08:36<02:51,  9.85it/s]"
     ]
    },
    {
     "name": "stdout",
     "output_type": "stream",
     "text": [
      "{'epoch': 2, 'iter': 5230, 'avg_loss': 5.529688610626757, 'avg_acc': 49.836312368571974, 'loss': 5.804841041564941}\n"
     ]
    },
    {
     "name": "stderr",
     "output_type": "stream",
     "text": [
      "EP_train:2:  76%|| 5243/6926 [08:37<03:04,  9.13it/s]"
     ]
    },
    {
     "name": "stdout",
     "output_type": "stream",
     "text": [
      "{'epoch': 2, 'iter': 5240, 'avg_loss': 5.529450507001144, 'avg_acc': 49.84199103224575, 'loss': 5.358487129211426}\n"
     ]
    },
    {
     "name": "stderr",
     "output_type": "stream",
     "text": [
      "EP_train:2:  76%|| 5252/6926 [08:38<02:59,  9.32it/s]"
     ]
    },
    {
     "name": "stdout",
     "output_type": "stream",
     "text": [
      "{'epoch': 2, 'iter': 5250, 'avg_loss': 5.5293626751679055, 'avg_acc': 49.836340697010094, 'loss': 5.539228439331055}\n"
     ]
    },
    {
     "name": "stderr",
     "output_type": "stream",
     "text": [
      "EP_train:2:  76%|| 5262/6926 [08:39<03:02,  9.13it/s]"
     ]
    },
    {
     "name": "stdout",
     "output_type": "stream",
     "text": [
      "{'epoch': 2, 'iter': 5260, 'avg_loss': 5.529208136429648, 'avg_acc': 49.84259171260217, 'loss': 5.594244956970215}\n"
     ]
    },
    {
     "name": "stderr",
     "output_type": "stream",
     "text": [
      "EP_train:2:  76%|| 5272/6926 [08:40<02:47,  9.90it/s]"
     ]
    },
    {
     "name": "stdout",
     "output_type": "stream",
     "text": [
      "{'epoch': 2, 'iter': 5270, 'avg_loss': 5.52892195886689, 'avg_acc': 49.8517833428192, 'loss': 5.392358303070068}\n"
     ]
    },
    {
     "name": "stderr",
     "output_type": "stream",
     "text": [
      "EP_train:2:  76%|| 5282/6926 [08:41<02:41, 10.18it/s]"
     ]
    },
    {
     "name": "stdout",
     "output_type": "stream",
     "text": [
      "{'epoch': 2, 'iter': 5280, 'avg_loss': 5.529039825189522, 'avg_acc': 49.84496307517516, 'loss': 5.889108180999756}\n"
     ]
    },
    {
     "name": "stderr",
     "output_type": "stream",
     "text": [
      "EP_train:2:  76%|| 5292/6926 [08:42<02:40, 10.19it/s]"
     ]
    },
    {
     "name": "stdout",
     "output_type": "stream",
     "text": [
      "{'epoch': 2, 'iter': 5290, 'avg_loss': 5.528929552313646, 'avg_acc': 49.84702797202797, 'loss': 5.5691938400268555}\n"
     ]
    },
    {
     "name": "stderr",
     "output_type": "stream",
     "text": [
      "EP_train:2:  77%|| 5302/6926 [08:43<02:37, 10.30it/s]"
     ]
    },
    {
     "name": "stdout",
     "output_type": "stream",
     "text": [
      "{'epoch': 2, 'iter': 5300, 'avg_loss': 5.528812898777269, 'avg_acc': 49.852622146764766, 'loss': 5.419826507568359}\n"
     ]
    },
    {
     "name": "stderr",
     "output_type": "stream",
     "text": [
      "EP_train:2:  77%|| 5312/6926 [08:44<02:38, 10.17it/s]"
     ]
    },
    {
     "name": "stdout",
     "output_type": "stream",
     "text": [
      "{'epoch': 2, 'iter': 5310, 'avg_loss': 5.528761503768717, 'avg_acc': 49.86113726228582, 'loss': 5.997086524963379}\n"
     ]
    },
    {
     "name": "stderr",
     "output_type": "stream",
     "text": [
      "EP_train:2:  77%|| 5322/6926 [08:45<02:44,  9.73it/s]"
     ]
    },
    {
     "name": "stdout",
     "output_type": "stream",
     "text": [
      "{'epoch': 2, 'iter': 5320, 'avg_loss': 5.529003919459133, 'avg_acc': 49.869620372110504, 'loss': 5.2446064949035645}\n"
     ]
    },
    {
     "name": "stderr",
     "output_type": "stream",
     "text": [
      "EP_train:2:  77%|| 5332/6926 [08:46<02:43,  9.75it/s]"
     ]
    },
    {
     "name": "stdout",
     "output_type": "stream",
     "text": [
      "{'epoch': 2, 'iter': 5330, 'avg_loss': 5.528723939546074, 'avg_acc': 49.87689926842994, 'loss': 5.684153079986572}\n"
     ]
    },
    {
     "name": "stderr",
     "output_type": "stream",
     "text": [
      "EP_train:2:  77%|| 5342/6926 [08:47<03:00,  8.77it/s]"
     ]
    },
    {
     "name": "stdout",
     "output_type": "stream",
     "text": [
      "{'epoch': 2, 'iter': 5340, 'avg_loss': 5.5285993965126075, 'avg_acc': 49.87888504025463, 'loss': 5.2803449630737305}\n"
     ]
    },
    {
     "name": "stderr",
     "output_type": "stream",
     "text": [
      "EP_train:2:  77%|| 5352/6926 [08:48<02:46,  9.45it/s]"
     ]
    },
    {
     "name": "stdout",
     "output_type": "stream",
     "text": [
      "{'epoch': 2, 'iter': 5350, 'avg_loss': 5.528418927699734, 'avg_acc': 49.875607363109694, 'loss': 5.177393913269043}\n"
     ]
    },
    {
     "name": "stderr",
     "output_type": "stream",
     "text": [
      "EP_train:2:  77%|| 5362/6926 [08:49<02:48,  9.28it/s]"
     ]
    },
    {
     "name": "stdout",
     "output_type": "stream",
     "text": [
      "{'epoch': 2, 'iter': 5360, 'avg_loss': 5.528164175236721, 'avg_acc': 49.87467356836411, 'loss': 5.343254089355469}\n"
     ]
    },
    {
     "name": "stderr",
     "output_type": "stream",
     "text": [
      "EP_train:2:  78%|| 5371/6926 [08:50<02:45,  9.38it/s]"
     ]
    },
    {
     "name": "stdout",
     "output_type": "stream",
     "text": [
      "{'epoch': 2, 'iter': 5370, 'avg_loss': 5.527719001134355, 'avg_acc': 49.887125302550736, 'loss': 5.2486653327941895}\n"
     ]
    },
    {
     "name": "stderr",
     "output_type": "stream",
     "text": [
      "EP_train:2:  78%|| 5382/6926 [08:51<02:36,  9.85it/s]"
     ]
    },
    {
     "name": "stdout",
     "output_type": "stream",
     "text": [
      "{'epoch': 2, 'iter': 5380, 'avg_loss': 5.527808010921539, 'avg_acc': 49.88849656197733, 'loss': 5.346579551696777}\n"
     ]
    },
    {
     "name": "stderr",
     "output_type": "stream",
     "text": [
      "EP_train:2:  78%|| 5390/6926 [08:52<02:31, 10.12it/s]\n"
     ]
    },
    {
     "ename": "KeyboardInterrupt",
     "evalue": "",
     "output_type": "error",
     "traceback": [
      "\u001b[1;31m---------------------------------------------------------------------------\u001b[0m",
      "\u001b[1;31mKeyboardInterrupt\u001b[0m                         Traceback (most recent call last)",
      "Cell \u001b[1;32mIn[54], line 21\u001b[0m\n\u001b[0;32m     18\u001b[0m epochs \u001b[39m=\u001b[39m \u001b[39m20\u001b[39m\n\u001b[0;32m     20\u001b[0m \u001b[39mfor\u001b[39;00m epoch \u001b[39min\u001b[39;00m \u001b[39mrange\u001b[39m(epochs):\n\u001b[1;32m---> 21\u001b[0m   bert_trainer\u001b[39m.\u001b[39;49mtrain(epoch)\n",
      "Cell \u001b[1;32mIn[19], line 32\u001b[0m, in \u001b[0;36mBERTTrainer.train\u001b[1;34m(self, epoch)\u001b[0m\n\u001b[0;32m     31\u001b[0m \u001b[39mdef\u001b[39;00m \u001b[39mtrain\u001b[39m(\u001b[39mself\u001b[39m, epoch):\n\u001b[1;32m---> 32\u001b[0m     \u001b[39mself\u001b[39;49m\u001b[39m.\u001b[39;49miteration(epoch, \u001b[39mself\u001b[39;49m\u001b[39m.\u001b[39;49mtrain_data)\n",
      "Cell \u001b[1;32mIn[19], line 53\u001b[0m, in \u001b[0;36mBERTTrainer.iteration\u001b[1;34m(self, epoch, data_loader, train)\u001b[0m\n\u001b[0;32m     45\u001b[0m \u001b[39m# progress bar\u001b[39;00m\n\u001b[0;32m     46\u001b[0m data_iter \u001b[39m=\u001b[39m tqdm\u001b[39m.\u001b[39mtqdm(\n\u001b[0;32m     47\u001b[0m     \u001b[39menumerate\u001b[39m(data_loader),\n\u001b[0;32m     48\u001b[0m     desc\u001b[39m=\u001b[39m\u001b[39m\"\u001b[39m\u001b[39mEP_\u001b[39m\u001b[39m%s\u001b[39;00m\u001b[39m:\u001b[39m\u001b[39m%d\u001b[39;00m\u001b[39m\"\u001b[39m \u001b[39m%\u001b[39m (mode, epoch),\n\u001b[0;32m     49\u001b[0m     total\u001b[39m=\u001b[39m\u001b[39mlen\u001b[39m(data_loader),\n\u001b[0;32m     50\u001b[0m     bar_format\u001b[39m=\u001b[39m\u001b[39m\"\u001b[39m\u001b[39m{l_bar}\u001b[39;00m\u001b[39m{r_bar}\u001b[39;00m\u001b[39m\"\u001b[39m\n\u001b[0;32m     51\u001b[0m )\n\u001b[1;32m---> 53\u001b[0m \u001b[39mfor\u001b[39;00m i, data \u001b[39min\u001b[39;00m data_iter:\n\u001b[0;32m     54\u001b[0m \n\u001b[0;32m     55\u001b[0m     \u001b[39m# 0. batch_data will be sent into the device(GPU or cpu)\u001b[39;00m\n\u001b[0;32m     56\u001b[0m     data \u001b[39m=\u001b[39m {key: value\u001b[39m.\u001b[39mto(\u001b[39mself\u001b[39m\u001b[39m.\u001b[39mdevice) \u001b[39mfor\u001b[39;00m key, value \u001b[39min\u001b[39;00m data\u001b[39m.\u001b[39mitems()}\n\u001b[0;32m     58\u001b[0m     \u001b[39m# 1. forward the next_sentence_prediction and masked_lm model\u001b[39;00m\n",
      "File \u001b[1;32mc:\\Users\\Paulius\\AppData\\Local\\Programs\\Python\\Python310\\lib\\site-packages\\tqdm\\std.py:1195\u001b[0m, in \u001b[0;36mtqdm.__iter__\u001b[1;34m(self)\u001b[0m\n\u001b[0;32m   1192\u001b[0m time \u001b[39m=\u001b[39m \u001b[39mself\u001b[39m\u001b[39m.\u001b[39m_time\n\u001b[0;32m   1194\u001b[0m \u001b[39mtry\u001b[39;00m:\n\u001b[1;32m-> 1195\u001b[0m     \u001b[39mfor\u001b[39;00m obj \u001b[39min\u001b[39;00m iterable:\n\u001b[0;32m   1196\u001b[0m         \u001b[39myield\u001b[39;00m obj\n\u001b[0;32m   1197\u001b[0m         \u001b[39m# Update and possibly print the progressbar.\u001b[39;00m\n\u001b[0;32m   1198\u001b[0m         \u001b[39m# Note: does not call self.update(1) for speed optimisation.\u001b[39;00m\n",
      "File \u001b[1;32mc:\\Users\\Paulius\\AppData\\Local\\Programs\\Python\\Python310\\lib\\site-packages\\torch\\utils\\data\\dataloader.py:633\u001b[0m, in \u001b[0;36m_BaseDataLoaderIter.__next__\u001b[1;34m(self)\u001b[0m\n\u001b[0;32m    630\u001b[0m \u001b[39mif\u001b[39;00m \u001b[39mself\u001b[39m\u001b[39m.\u001b[39m_sampler_iter \u001b[39mis\u001b[39;00m \u001b[39mNone\u001b[39;00m:\n\u001b[0;32m    631\u001b[0m     \u001b[39m# TODO(https://github.com/pytorch/pytorch/issues/76750)\u001b[39;00m\n\u001b[0;32m    632\u001b[0m     \u001b[39mself\u001b[39m\u001b[39m.\u001b[39m_reset()  \u001b[39m# type: ignore[call-arg]\u001b[39;00m\n\u001b[1;32m--> 633\u001b[0m data \u001b[39m=\u001b[39m \u001b[39mself\u001b[39;49m\u001b[39m.\u001b[39;49m_next_data()\n\u001b[0;32m    634\u001b[0m \u001b[39mself\u001b[39m\u001b[39m.\u001b[39m_num_yielded \u001b[39m+\u001b[39m\u001b[39m=\u001b[39m \u001b[39m1\u001b[39m\n\u001b[0;32m    635\u001b[0m \u001b[39mif\u001b[39;00m \u001b[39mself\u001b[39m\u001b[39m.\u001b[39m_dataset_kind \u001b[39m==\u001b[39m _DatasetKind\u001b[39m.\u001b[39mIterable \u001b[39mand\u001b[39;00m \\\n\u001b[0;32m    636\u001b[0m         \u001b[39mself\u001b[39m\u001b[39m.\u001b[39m_IterableDataset_len_called \u001b[39mis\u001b[39;00m \u001b[39mnot\u001b[39;00m \u001b[39mNone\u001b[39;00m \u001b[39mand\u001b[39;00m \\\n\u001b[0;32m    637\u001b[0m         \u001b[39mself\u001b[39m\u001b[39m.\u001b[39m_num_yielded \u001b[39m>\u001b[39m \u001b[39mself\u001b[39m\u001b[39m.\u001b[39m_IterableDataset_len_called:\n",
      "File \u001b[1;32mc:\\Users\\Paulius\\AppData\\Local\\Programs\\Python\\Python310\\lib\\site-packages\\torch\\utils\\data\\dataloader.py:677\u001b[0m, in \u001b[0;36m_SingleProcessDataLoaderIter._next_data\u001b[1;34m(self)\u001b[0m\n\u001b[0;32m    675\u001b[0m \u001b[39mdef\u001b[39;00m \u001b[39m_next_data\u001b[39m(\u001b[39mself\u001b[39m):\n\u001b[0;32m    676\u001b[0m     index \u001b[39m=\u001b[39m \u001b[39mself\u001b[39m\u001b[39m.\u001b[39m_next_index()  \u001b[39m# may raise StopIteration\u001b[39;00m\n\u001b[1;32m--> 677\u001b[0m     data \u001b[39m=\u001b[39m \u001b[39mself\u001b[39;49m\u001b[39m.\u001b[39;49m_dataset_fetcher\u001b[39m.\u001b[39;49mfetch(index)  \u001b[39m# may raise StopIteration\u001b[39;00m\n\u001b[0;32m    678\u001b[0m     \u001b[39mif\u001b[39;00m \u001b[39mself\u001b[39m\u001b[39m.\u001b[39m_pin_memory:\n\u001b[0;32m    679\u001b[0m         data \u001b[39m=\u001b[39m _utils\u001b[39m.\u001b[39mpin_memory\u001b[39m.\u001b[39mpin_memory(data, \u001b[39mself\u001b[39m\u001b[39m.\u001b[39m_pin_memory_device)\n",
      "File \u001b[1;32mc:\\Users\\Paulius\\AppData\\Local\\Programs\\Python\\Python310\\lib\\site-packages\\torch\\utils\\data\\_utils\\fetch.py:51\u001b[0m, in \u001b[0;36m_MapDatasetFetcher.fetch\u001b[1;34m(self, possibly_batched_index)\u001b[0m\n\u001b[0;32m     49\u001b[0m         data \u001b[39m=\u001b[39m \u001b[39mself\u001b[39m\u001b[39m.\u001b[39mdataset\u001b[39m.\u001b[39m__getitems__(possibly_batched_index)\n\u001b[0;32m     50\u001b[0m     \u001b[39melse\u001b[39;00m:\n\u001b[1;32m---> 51\u001b[0m         data \u001b[39m=\u001b[39m [\u001b[39mself\u001b[39m\u001b[39m.\u001b[39mdataset[idx] \u001b[39mfor\u001b[39;00m idx \u001b[39min\u001b[39;00m possibly_batched_index]\n\u001b[0;32m     52\u001b[0m \u001b[39melse\u001b[39;00m:\n\u001b[0;32m     53\u001b[0m     data \u001b[39m=\u001b[39m \u001b[39mself\u001b[39m\u001b[39m.\u001b[39mdataset[possibly_batched_index]\n",
      "File \u001b[1;32mc:\\Users\\Paulius\\AppData\\Local\\Programs\\Python\\Python310\\lib\\site-packages\\torch\\utils\\data\\_utils\\fetch.py:51\u001b[0m, in \u001b[0;36m<listcomp>\u001b[1;34m(.0)\u001b[0m\n\u001b[0;32m     49\u001b[0m         data \u001b[39m=\u001b[39m \u001b[39mself\u001b[39m\u001b[39m.\u001b[39mdataset\u001b[39m.\u001b[39m__getitems__(possibly_batched_index)\n\u001b[0;32m     50\u001b[0m     \u001b[39melse\u001b[39;00m:\n\u001b[1;32m---> 51\u001b[0m         data \u001b[39m=\u001b[39m [\u001b[39mself\u001b[39;49m\u001b[39m.\u001b[39;49mdataset[idx] \u001b[39mfor\u001b[39;00m idx \u001b[39min\u001b[39;00m possibly_batched_index]\n\u001b[0;32m     52\u001b[0m \u001b[39melse\u001b[39;00m:\n\u001b[0;32m     53\u001b[0m     data \u001b[39m=\u001b[39m \u001b[39mself\u001b[39m\u001b[39m.\u001b[39mdataset[possibly_batched_index]\n",
      "Cell \u001b[1;32mIn[11], line 41\u001b[0m, in \u001b[0;36mBERTDataset.__getitem__\u001b[1;34m(self, item)\u001b[0m\n\u001b[0;32m     34\u001b[0m bert_input\u001b[39m.\u001b[39mextend(padding), bert_label\u001b[39m.\u001b[39mextend(padding), segment_label\u001b[39m.\u001b[39mextend(padding)\n\u001b[0;32m     36\u001b[0m output \u001b[39m=\u001b[39m {\u001b[39m\"\u001b[39m\u001b[39mbert_input\u001b[39m\u001b[39m\"\u001b[39m: bert_input,\n\u001b[0;32m     37\u001b[0m           \u001b[39m\"\u001b[39m\u001b[39mbert_label\u001b[39m\u001b[39m\"\u001b[39m: bert_label,\n\u001b[0;32m     38\u001b[0m           \u001b[39m\"\u001b[39m\u001b[39msegment_label\u001b[39m\u001b[39m\"\u001b[39m: segment_label,\n\u001b[0;32m     39\u001b[0m           \u001b[39m\"\u001b[39m\u001b[39mis_next\u001b[39m\u001b[39m\"\u001b[39m: is_next_label}\n\u001b[1;32m---> 41\u001b[0m \u001b[39mreturn\u001b[39;00m {key: torch\u001b[39m.\u001b[39mtensor(value) \u001b[39mfor\u001b[39;00m key, value \u001b[39min\u001b[39;00m output\u001b[39m.\u001b[39mitems()}\n",
      "Cell \u001b[1;32mIn[11], line 41\u001b[0m, in \u001b[0;36m<dictcomp>\u001b[1;34m(.0)\u001b[0m\n\u001b[0;32m     34\u001b[0m bert_input\u001b[39m.\u001b[39mextend(padding), bert_label\u001b[39m.\u001b[39mextend(padding), segment_label\u001b[39m.\u001b[39mextend(padding)\n\u001b[0;32m     36\u001b[0m output \u001b[39m=\u001b[39m {\u001b[39m\"\u001b[39m\u001b[39mbert_input\u001b[39m\u001b[39m\"\u001b[39m: bert_input,\n\u001b[0;32m     37\u001b[0m           \u001b[39m\"\u001b[39m\u001b[39mbert_label\u001b[39m\u001b[39m\"\u001b[39m: bert_label,\n\u001b[0;32m     38\u001b[0m           \u001b[39m\"\u001b[39m\u001b[39msegment_label\u001b[39m\u001b[39m\"\u001b[39m: segment_label,\n\u001b[0;32m     39\u001b[0m           \u001b[39m\"\u001b[39m\u001b[39mis_next\u001b[39m\u001b[39m\"\u001b[39m: is_next_label}\n\u001b[1;32m---> 41\u001b[0m \u001b[39mreturn\u001b[39;00m {key: torch\u001b[39m.\u001b[39;49mtensor(value) \u001b[39mfor\u001b[39;00m key, value \u001b[39min\u001b[39;00m output\u001b[39m.\u001b[39mitems()}\n",
      "\u001b[1;31mKeyboardInterrupt\u001b[0m: "
     ]
    }
   ],
   "source": [
    "train_data = BERTDataset(\n",
    "   pairs, seq_len=MAX_LEN, tokenizer=tokenizer)\n",
    "\n",
    "train_loader = DataLoader(\n",
    "   train_data, batch_size=32, shuffle=True, pin_memory=True)\n",
    "\n",
    "bert_model = BERT(\n",
    "  vocab_size=len(tokenizer.vocab),\n",
    "  d_model=768,\n",
    "  n_layers=2,\n",
    "  heads=12,\n",
    "  dropout=0.1\n",
    ").to('cuda')\n",
    "\n",
    "\n",
    "bert_lm = BERTLM(bert_model, len(tokenizer.vocab))\n",
    "bert_trainer = BERTTrainer(bert_lm, train_loader, device='cuda')\n",
    "epochs = 20\n",
    "\n",
    "for epoch in range(epochs):\n",
    "  bert_trainer.train(epoch)"
   ]
  },
  {
   "cell_type": "code",
   "execution_count": 42,
   "metadata": {},
   "outputs": [
    {
     "name": "stdout",
     "output_type": "stream",
     "text": [
      "cuda:0\n"
     ]
    }
   ],
   "source": [
    "\n",
    "print(device)\n"
   ]
  }
 ],
 "metadata": {
  "kernelspec": {
   "display_name": "Python 3",
   "language": "python",
   "name": "python3"
  },
  "language_info": {
   "codemirror_mode": {
    "name": "ipython",
    "version": 3
   },
   "file_extension": ".py",
   "mimetype": "text/x-python",
   "name": "python",
   "nbconvert_exporter": "python",
   "pygments_lexer": "ipython3",
   "version": "3.10.2"
  },
  "orig_nbformat": 4
 },
 "nbformat": 4,
 "nbformat_minor": 2
}
